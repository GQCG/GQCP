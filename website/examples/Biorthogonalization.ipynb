{
 "cells": [
  {
   "cell_type": "code",
   "execution_count": 1,
   "metadata": {},
   "outputs": [],
   "source": [
    "# Force the local gqcpy to be imported\n",
    "import sys\n",
    "sys.path.insert(0, '../../build/gqcpy/')\n",
    "\n",
    "import gqcpy\n",
    "import numpy as np"
   ]
  },
  {
   "cell_type": "markdown",
   "metadata": {},
   "source": [
    "## Setup the basis and the overlap"
   ]
  },
  {
   "cell_type": "code",
   "execution_count": 3,
   "metadata": {},
   "outputs": [],
   "source": [
    "molecule = gqcpy.Molecule.HChain(2, 2.5, 0)  \n",
    "N = molecule.numberOfElectrons()\n",
    "\n",
    "spinor_basis = gqcpy.GSpinorBasis_d(molecule, \"6-31G\")\n",
    "S = spinor_basis.quantize(gqcpy.OverlapOperator())"
   ]
  },
  {
   "cell_type": "markdown",
   "metadata": {},
   "source": [
    "## Define two non-orthogonal states"
   ]
  },
  {
   "cell_type": "code",
   "execution_count": 4,
   "metadata": {},
   "outputs": [],
   "source": [
    "state_1 = gqcpy.GTransformation_d(np.array([[-0.07443693,  0.12036042, -0.13557067,  0.15517005,  0.133151,   -0.03074946, -0.92997876, -0.93718779],\n",
    "                                            [-0.07874922,  0.15086478, -0.68085546,  0.77423311,  0.08712373,  0.25266303,  0.848079  ,  0.89108911],\n",
    "                                            [-0.24580188,  0.26338108,  0.09556297, -0.12178159,  0.91319299,  0.90475733, -0.03994767,  0.12839983],\n",
    "                                            [-0.38944259,  0.4101685 ,  0.45214166, -0.58335985, -0.90125958, -0.93270816, -0.16410814, -0.32074956],\n",
    "                                            [-0.26338108, -0.24580188, -0.12178159, -0.09556297, -0.90475733,  0.91319299, -0.12839983, -0.03994767],\n",
    "                                            [-0.4101685 , -0.38944259, -0.58335985, -0.45214166,  0.93270817, -0.90125958,  0.32074956, -0.16410814],\n",
    "                                            [-0.12036042, -0.07443693,  0.15517005,  0.13557067,  0.03074946,  0.13315101,  0.93718779, -0.92997876],\n",
    "                                            [-0.15086478, -0.07874922,  0.77423311,  0.68085546, -0.25266303,  0.08712373, -0.89108911,  0.848079  ]]))\n",
    "\n",
    "state_2 = gqcpy.GTransformation_d(np.array([[ 0.25851329, -0.14539151, -0.17177142, -0.01126487,  0.81289875, -0.77260907,  0.50167389, -0.44422385],\n",
    "                                            [ 0.36593356, -0.28669343, -0.84796858, -0.13503625, -0.62437698,  0.96771154, -0.55231929,  0.30317456],\n",
    "                                            [ 0.25853403,  0.14539669,  0.17176599, -0.01126146,  0.81450567,  0.7709918 , -0.501289  , -0.44451308],\n",
    "                                            [ 0.36597032,  0.28670189,  0.847938  , -0.13501526, -0.62639487, -0.96647128,  0.5520554 ,  0.30349133],\n",
    "                                            [ 0.10076798, -0.23874662,  0.04823423,  0.17685836,  0.42013282, -0.48352714, -0.79642816,  0.8239984 ],\n",
    "                                            [ 0.16561668, -0.35007843,  0.19502141,  0.90182842, -0.55545195,  0.39170258,  0.56753639, -0.94408827],\n",
    "                                            [-0.10075937, -0.23872464,  0.0482368 , -0.17686313, -0.42104909, -0.4826058 , -0.79588057, -0.82460595],\n",
    "                                            [-0.16560552, -0.35003836,  0.19503259, -0.9018579 ,  0.55619574,  0.39048771,  0.56690551,  0.94451894]]))"
   ]
  },
  {
   "cell_type": "markdown",
   "metadata": {},
   "source": [
    "## Create the biorthogonal space of the two non-orthogonal determinants"
   ]
  },
  {
   "cell_type": "markdown",
   "metadata": {},
   "source": [
    "We can define a Löwdin pairing basis using two non-orthogonal states, the overlap in AO basis and the number of occupied orbitals."
   ]
  },
  {
   "cell_type": "code",
   "execution_count": 5,
   "metadata": {},
   "outputs": [],
   "source": [
    "lp_basis = gqcpy.GLowdinPairingBasis_d(state_1, state_2, S, N)"
   ]
  },
  {
   "cell_type": "code",
   "execution_count": 6,
   "metadata": {},
   "outputs": [],
   "source": [
    "biorth_bra_expansion = lp_basis.biorthogonalBraExpansion()\n",
    "biorth_ket_expansion = lp_basis.biorthogonalKetExpansion()"
   ]
  },
  {
   "cell_type": "code",
   "execution_count": 8,
   "metadata": {},
   "outputs": [
    {
     "name": "stdout",
     "output_type": "stream",
     "text": [
      "Biorthogonal Bra\n",
      "----------------\n",
      "[[-0.14038635 -0.01786507]\n",
      " [-0.16993508 -0.00914819]\n",
      " [-0.34156389 -0.11455247]\n",
      " [-0.53468019 -0.18444736]\n",
      " [ 0.11455247 -0.34156389]\n",
      " [ 0.18444736 -0.53468019]\n",
      " [ 0.01786507 -0.14038635]\n",
      " [ 0.00914819 -0.16993508]]\n",
      "\n",
      "Biorthogonal Ket\n",
      "----------------\n",
      "[[ 0.18680645 -0.23037179]\n",
      " [ 0.23464362 -0.40130146]\n",
      " [ 0.29390833  0.03997422]\n",
      " [ 0.44583031  0.13178613]\n",
      " [ 0.0057684  -0.25907694]\n",
      " [ 0.02506212 -0.38646563]\n",
      " [-0.18158893 -0.18484417]\n",
      " [-0.28286936 -0.26445598]]\n"
     ]
    }
   ],
   "source": [
    "print(\"Biorthogonal Bra\")\n",
    "print(\"----------------\")\n",
    "print(biorth_bra_expansion)\n",
    "print(\"\")\n",
    "print(\"Biorthogonal Ket\")\n",
    "print(\"----------------\")\n",
    "print(biorth_ket_expansion)"
   ]
  },
  {
   "cell_type": "markdown",
   "metadata": {},
   "source": [
    "Furthermore, the biorthogonal basis is capable of calculating the different co-density and weighted co-density matrices needed for a NOCI calculation."
   ]
  },
  {
   "cell_type": "code",
   "execution_count": 9,
   "metadata": {},
   "outputs": [],
   "source": [
    "W = lp_basis.weightedCoDensity()"
   ]
  },
  {
   "cell_type": "code",
   "execution_count": 14,
   "metadata": {},
   "outputs": [
    {
     "name": "stdout",
     "output_type": "stream",
     "text": [
      "[[ 0.03326887  0.03688621  0.10023033  0.15829074  0.06947715  0.10772049  0.03447101  0.04425258]\n",
      " [ 0.04414342  0.04753796  0.14099828  0.22314075  0.13229605  0.20579061  0.06180499  0.07798674]\n",
      " [ 0.04387607  0.05369857  0.10340514  0.1616278  -0.05256822 -0.08392318 -0.01229957 -0.01091407]\n",
      " [ 0.06505878  0.08068895  0.14725696  0.22971843 -0.10836118 -0.17210519 -0.0304205  -0.03079477]\n",
      " [ 0.00632852  0.00385361  0.03708684  0.05962     0.10349962  0.16198506  0.04272209  0.0517923 ]\n",
      " [ 0.0119442   0.0087794   0.06141465  0.09847184  0.15234745  0.23834366  0.06340999  0.07709552]\n",
      " [-0.02373907 -0.03145185 -0.04228304 -0.06507302  0.09689903  0.15269387  0.03407656  0.03879353]\n",
      " [-0.03747352 -0.049247   -0.06903443 -0.10646852  0.14149733  0.22307043  0.04919991  0.05573053]]\n"
     ]
    }
   ],
   "source": [
    "np.set_printoptions(linewidth=800)\n",
    "print(W.matrix())"
   ]
  },
  {
   "cell_type": "markdown",
   "metadata": {},
   "source": [
    "The biorthogonal basis can also be created for restricted and unrestricted states."
   ]
  }
 ],
 "metadata": {
  "kernelspec": {
   "display_name": "Python 3.8.10 ('base')",
   "language": "python",
   "name": "python3"
  },
  "language_info": {
   "codemirror_mode": {
    "name": "ipython",
    "version": 3
   },
   "file_extension": ".py",
   "mimetype": "text/x-python",
   "name": "python",
   "nbconvert_exporter": "python",
   "pygments_lexer": "ipython3",
   "version": "3.8.10"
  },
  "orig_nbformat": 4,
  "vscode": {
   "interpreter": {
    "hash": "4654e147d6fe676f31a9f86e2485eea716359f8709963986145f7c2d0088ba8c"
   }
  }
 },
 "nbformat": 4,
 "nbformat_minor": 2
}
