{
 "cells": [
  {
   "cell_type": "markdown",
   "metadata": {},
   "source": [
    "# Checking the Hartree-Fock Stability conditions"
   ]
  },
  {
   "cell_type": "markdown",
   "metadata": {},
   "source": [
    "First, we import GQCPy."
   ]
  },
  {
   "cell_type": "code",
   "execution_count": 1,
   "metadata": {},
   "outputs": [],
   "source": [
    "import sys\n",
    "sys.path.insert(0, '../../build/gqcpy/')\n",
    "\n",
    "import gqcpy\n",
    "import numpy as np"
   ]
  },
  {
   "cell_type": "markdown",
   "metadata": {},
   "source": [
    "## The RHF stability conditions"
   ]
  },
  {
   "cell_type": "markdown",
   "metadata": {},
   "source": [
    "We will run an RHF calculation on $H_4$."
   ]
  },
  {
   "cell_type": "code",
   "execution_count": 2,
   "metadata": {},
   "outputs": [],
   "source": [
    "def RHF_calculation(molecule, basis_set='sto-3g'):\n",
    "    N = molecule.numberOfElectrons()\n",
    "    basis = gqcpy.RSpinOrbitalBasis_d(molecule, basis_set)\n",
    "    S = basis.quantizeOverlapOperator()\n",
    "    \n",
    "    rsq_hamiltonian = gqcpy.RSQHamiltonian_d.Molecular(basis, molecule)\n",
    "    objective = gqcpy.DiagonalRHFFockMatrixObjective_d(rsq_hamiltonian, 1.0e-5)  \n",
    "    \n",
    "    environment = gqcpy.RHFSCFEnvironment_d.WithCoreGuess(N, rsq_hamiltonian, S) \n",
    "    solver = gqcpy.RHFSCFSolver_d.Plain(threshold=1.0e-06, maximum_number_of_iterations=1000)\n",
    "\n",
    "    qc_structure = gqcpy.RHF_d.optimize(objective, solver, environment)\n",
    "    nuc_rep = gqcpy.Operator.NuclearRepulsion(molecule).value()\n",
    "    print(qc_structure.groundStateEnergy() + nuc_rep)\n",
    "    \n",
    "    return qc_structure"
   ]
  },
  {
   "cell_type": "code",
   "execution_count": 3,
   "metadata": {},
   "outputs": [],
   "source": [
    "H4 = gqcpy.Molecule.HRingFromDistance(4, 1.889, 0)"
   ]
  },
  {
   "cell_type": "code",
   "execution_count": 4,
   "metadata": {},
   "outputs": [
    {
     "output_type": "stream",
     "name": "stdout",
     "text": [
      "-1.6947743807105065\n"
     ]
    }
   ],
   "source": [
    "RHF_model = RHF_calculation(H4).parameters()"
   ]
  },
  {
   "cell_type": "markdown",
   "metadata": {},
   "source": [
    "These parameters contain everything there is to know about the RHF wave function model. We can now ask this model to calculate the stability matrices. For that we need a Hamiltonian in the RHF MO basis."
   ]
  },
  {
   "cell_type": "code",
   "execution_count": 5,
   "metadata": {},
   "outputs": [],
   "source": [
    "restricted_basis = gqcpy.RSpinOrbitalBasis_d(H4, 'sto-3g')\n",
    "restricted_hamiltonian = gqcpy.RSQHamiltonian_d.Molecular(restricted_basis, H4)\n",
    "rsq_hamiltonian_mo = restricted_hamiltonian.transformed(RHF_model.expansion())\n",
    "restricted_stability_matrices = RHF_model.calculateStabilityMatrices(rsq_hamiltonian_mo)"
   ]
  },
  {
   "cell_type": "markdown",
   "metadata": {},
   "source": [
    "Now we can check the stabilities. All the stability checks are done by the stability matrices themselves."
   ]
  },
  {
   "cell_type": "code",
   "execution_count": 6,
   "metadata": {},
   "outputs": [
    {
     "output_type": "execute_result",
     "data": {
      "text/plain": [
       "False"
      ]
     },
     "metadata": {},
     "execution_count": 6
    }
   ],
   "source": [
    "restricted_stability_matrices.isInternallyStable()"
   ]
  },
  {
   "cell_type": "code",
   "execution_count": 7,
   "metadata": {},
   "outputs": [
    {
     "output_type": "execute_result",
     "data": {
      "text/plain": [
       "False"
      ]
     },
     "metadata": {},
     "execution_count": 7
    }
   ],
   "source": [
    "restricted_stability_matrices.isExternallyStable()"
   ]
  },
  {
   "cell_type": "markdown",
   "metadata": {},
   "source": [
    "Since the wave function model is not externally stable, we can verify which external instability it contains."
   ]
  },
  {
   "cell_type": "code",
   "execution_count": 8,
   "metadata": {},
   "outputs": [
    {
     "output_type": "execute_result",
     "data": {
      "text/plain": [
       "False"
      ]
     },
     "metadata": {},
     "execution_count": 8
    }
   ],
   "source": [
    "restricted_stability_matrices.isTripletStable()"
   ]
  },
  {
   "cell_type": "code",
   "execution_count": 9,
   "metadata": {},
   "outputs": [
    {
     "output_type": "execute_result",
     "data": {
      "text/plain": [
       "False"
      ]
     },
     "metadata": {},
     "execution_count": 9
    }
   ],
   "source": [
    "restricted_stability_matrices.isComplexConjugateStable()"
   ]
  },
  {
   "cell_type": "markdown",
   "metadata": {},
   "source": [
    "We can also print the stability description. Note that this runs the calculation of diagonalizing the stability matrix."
   ]
  },
  {
   "cell_type": "code",
   "execution_count": 10,
   "metadata": {},
   "outputs": [
    {
     "output_type": "stream",
     "name": "stdout",
     "text": [
      "The real valued RHF wavefunction contains an internal instability.\n",
      "The real valued RHF wavefunction contains a real->complex instability.\n",
      "The real valued RHF wavefunction contains a restricted->unrestricted instability.\n"
     ]
    }
   ],
   "source": [
    "restricted_stability_matrices.printStabilityDescription()"
   ]
  },
  {
   "cell_type": "markdown",
   "metadata": {},
   "source": [
    "This indicates that there are two ways to further lower the energy. Move towards an unrestricted formalism, or use complex valued parametrs. We will opt for the second."
   ]
  },
  {
   "cell_type": "code",
   "execution_count": 11,
   "metadata": {},
   "outputs": [],
   "source": [
    "def complex_RHF_calculation(molecule, basis_set='sto-3g'):\n",
    "    N = molecule.numberOfElectrons()\n",
    "    basis = gqcpy.RSpinOrbitalBasis_cd(molecule, basis_set)\n",
    "    S = basis.quantizeOverlapOperator()\n",
    "    \n",
    "    rsq_hamiltonian = gqcpy.RSQHamiltonian_cd.Molecular(basis, molecule)\n",
    "    objective = gqcpy.DiagonalRHFFockMatrixObjective_cd(rsq_hamiltonian, 1.0e-5)  \n",
    "    \n",
    "    environment = gqcpy.RHFSCFEnvironment_cd.WithComplexlyTransformedCoreGuess(N, rsq_hamiltonian, S)\n",
    "    solver = gqcpy.RHFSCFSolver_cd.Plain(threshold=1.0e-06, maximum_number_of_iterations=5000)\n",
    "\n",
    "    qc_structure = gqcpy.RHF_cd.optimize(objective, solver, environment)\n",
    "    nuc_rep = gqcpy.Operator.NuclearRepulsion(molecule).value()\n",
    "    print(qc_structure.groundStateEnergy().real + nuc_rep)\n",
    "    \n",
    "    return qc_structure"
   ]
  },
  {
   "cell_type": "code",
   "execution_count": 12,
   "metadata": {},
   "outputs": [
    {
     "output_type": "stream",
     "name": "stdout",
     "text": [
      "-1.6947743807105073\n"
     ]
    }
   ],
   "source": [
    "complex_RHF_model = complex_RHF_calculation(H4).parameters()"
   ]
  },
  {
   "cell_type": "code",
   "execution_count": 13,
   "metadata": {},
   "outputs": [],
   "source": [
    "restricted_basis = gqcpy.RSpinOrbitalBasis_cd(H4, 'sto-3g')\n",
    "restricted_hamiltonian = gqcpy.RSQHamiltonian_cd.Molecular(restricted_basis, H4)\n",
    "rsq_hamiltonian_mo = restricted_hamiltonian.transformed(complex_RHF_model.expansion())\n",
    "restricted_stability_matrices = complex_RHF_model.calculateStabilityMatrices(rsq_hamiltonian_mo)"
   ]
  },
  {
   "cell_type": "code",
   "execution_count": 14,
   "metadata": {},
   "outputs": [
    {
     "output_type": "execute_result",
     "data": {
      "text/plain": [
       "False"
      ]
     },
     "metadata": {},
     "execution_count": 14
    }
   ],
   "source": [
    "restricted_stability_matrices.isInternallyStable()"
   ]
  },
  {
   "cell_type": "markdown",
   "metadata": {},
   "source": [
    "## The UHF stability conditions"
   ]
  },
  {
   "cell_type": "markdown",
   "metadata": {},
   "source": [
    "We will run an UHF calculation on $H_3$."
   ]
  },
  {
   "cell_type": "code",
   "execution_count": 15,
   "metadata": {},
   "outputs": [],
   "source": [
    "def UHF_calculation(molecule, basis_set='STO-3G'):\n",
    "    N_a = molecule.numberOfElectronPairs()\n",
    "    N_b = molecule.numberOfElectrons() - N_a\n",
    "    basis = gqcpy.USpinOrbitalBasis_d(molecule, basis_set)\n",
    "    S = basis.quantizeOverlapOperator()\n",
    "    sq_hamiltonian = gqcpy.USQHamiltonian_d.Molecular(basis, molecule) \n",
    "\n",
    "    environment = gqcpy.UHFSCFEnvironment_d.WithCoreGuess(N_a, N_b, sq_hamiltonian, S) \n",
    "    solver = gqcpy.UHFSCFSolver_d.Plain(1.0e-06, 3000)\n",
    "\n",
    "    qc_structure = gqcpy.UHF_d.optimize(solver, environment)\n",
    "    \n",
    "    return qc_structure"
   ]
  },
  {
   "cell_type": "code",
   "execution_count": 16,
   "metadata": {},
   "outputs": [],
   "source": [
    "H3 = gqcpy.Molecule.HRingFromDistance(3, 1.889, 0)"
   ]
  },
  {
   "cell_type": "code",
   "execution_count": 17,
   "metadata": {},
   "outputs": [],
   "source": [
    "UHF_model = UHF_calculation(H3).parameters()"
   ]
  },
  {
   "cell_type": "markdown",
   "metadata": {},
   "source": [
    "These parameters contain everything there is to know about the UHF wave function model. We can now ask this model to calculate the stability matrices. For that we need a Hamiltonian in the UHF MO basis."
   ]
  },
  {
   "cell_type": "code",
   "execution_count": 18,
   "metadata": {},
   "outputs": [],
   "source": [
    "unrestricted_basis = gqcpy.USpinOrbitalBasis_d(H3, 'STO-3G')\n",
    "usq_hamiltonian_mo = gqcpy.USQHamiltonian_d.Molecular(unrestricted_basis, H3).transformed(UHF_model.expansion())\n",
    "unrestricted_stability_matrices = UHF_model.calculateStabilityMatrices(usq_hamiltonian_mo)"
   ]
  },
  {
   "cell_type": "markdown",
   "metadata": {},
   "source": [
    "Now we can check the stabilities. "
   ]
  },
  {
   "cell_type": "code",
   "execution_count": 19,
   "metadata": {},
   "outputs": [
    {
     "output_type": "execute_result",
     "data": {
      "text/plain": [
       "False"
      ]
     },
     "metadata": {},
     "execution_count": 19
    }
   ],
   "source": [
    "unrestricted_stability_matrices.isInternallyStable()"
   ]
  },
  {
   "cell_type": "code",
   "execution_count": 20,
   "metadata": {},
   "outputs": [
    {
     "output_type": "execute_result",
     "data": {
      "text/plain": [
       "False"
      ]
     },
     "metadata": {},
     "execution_count": 20
    }
   ],
   "source": [
    "unrestricted_stability_matrices.isExternallyStable()"
   ]
  },
  {
   "cell_type": "code",
   "execution_count": 21,
   "metadata": {},
   "outputs": [
    {
     "output_type": "execute_result",
     "data": {
      "text/plain": [
       "False"
      ]
     },
     "metadata": {},
     "execution_count": 21
    }
   ],
   "source": [
    "unrestricted_stability_matrices.isSpinUnconservedStable()"
   ]
  },
  {
   "cell_type": "code",
   "execution_count": 22,
   "metadata": {},
   "outputs": [
    {
     "output_type": "execute_result",
     "data": {
      "text/plain": [
       "True"
      ]
     },
     "metadata": {},
     "execution_count": 22
    }
   ],
   "source": [
    "unrestricted_stability_matrices.isComplexConjugateStable()"
   ]
  },
  {
   "cell_type": "code",
   "execution_count": 23,
   "metadata": {},
   "outputs": [
    {
     "output_type": "stream",
     "name": "stdout",
     "text": [
      "The real valued UHF wavefunction contains an internal instability.\n",
      "The real valued UHF wavefunction is stable within the real/complex UHF space.\n",
      "The real valued UHF wavefunction contains an unrestricted->generalized instability.\n"
     ]
    }
   ],
   "source": [
    "unrestricted_stability_matrices.printStabilityDescription()"
   ]
  },
  {
   "cell_type": "markdown",
   "metadata": {},
   "source": [
    "## The GHF stability conditions"
   ]
  },
  {
   "cell_type": "markdown",
   "metadata": {},
   "source": [
    "We will run an GHF calculation on $H_3$."
   ]
  },
  {
   "cell_type": "code",
   "execution_count": 24,
   "metadata": {},
   "outputs": [],
   "source": [
    "def real_GHF_calculation(molecule, basis_set='STO-3G'):\n",
    "    N = H3.numberOfElectrons()\n",
    "    basis = gqcpy.GSpinorBasis_d(H3, basis_set)\n",
    "    S = basis.quantizeOverlapOperator()\n",
    "    gsq_hamiltonian = gqcpy.GSQHamiltonian_d.Molecular(basis, molecule) \n",
    "\n",
    "    environment = gqcpy.GHFSCFEnvironment_d.WithCoreGuess(N, gsq_hamiltonian, S) \n",
    "    solver = gqcpy.GHFSCFSolver_d.Plain(1.0e-08, 4000)\n",
    "    qc_structure = gqcpy.GHF_d.optimize(solver, environment)\n",
    "    nuc_rep = gqcpy.Operator.NuclearRepulsion(molecule).value()\n",
    "    print(qc_structure.groundStateEnergy() + nuc_rep)\n",
    "    \n",
    "    return qc_structure"
   ]
  },
  {
   "cell_type": "code",
   "execution_count": 25,
   "metadata": {},
   "outputs": [
    {
     "output_type": "stream",
     "name": "stdout",
     "text": [
      "-1.3358471594599295\n"
     ]
    }
   ],
   "source": [
    "GHF_model = real_GHF_calculation(H3).parameters()"
   ]
  },
  {
   "cell_type": "markdown",
   "metadata": {},
   "source": [
    "These parameters contain everything there is to know about the GHF wave function model. We can now ask this model to calculate the stability matrices. For that we need a Hamiltonian in the GHF MO basis."
   ]
  },
  {
   "cell_type": "code",
   "execution_count": 26,
   "metadata": {},
   "outputs": [],
   "source": [
    "generalized_basis = gqcpy.GSpinorBasis_d(H3, 'STO-3G')\n",
    "gsq_hamiltonian_mo = gqcpy.GSQHamiltonian_d.Molecular(generalized_basis, H3).transformed(GHF_model.expansion())\n",
    "generalized_stability_matrices = GHF_model.calculateStabilityMatrices(gsq_hamiltonian_mo)"
   ]
  },
  {
   "cell_type": "code",
   "execution_count": 27,
   "metadata": {},
   "outputs": [
    {
     "output_type": "execute_result",
     "data": {
      "text/plain": [
       "False"
      ]
     },
     "metadata": {},
     "execution_count": 27
    }
   ],
   "source": [
    "generalized_stability_matrices.isInternallyStable()"
   ]
  },
  {
   "cell_type": "code",
   "execution_count": 28,
   "metadata": {},
   "outputs": [
    {
     "output_type": "execute_result",
     "data": {
      "text/plain": [
       "False"
      ]
     },
     "metadata": {},
     "execution_count": 28
    }
   ],
   "source": [
    "generalized_stability_matrices.isExternallyStable()"
   ]
  },
  {
   "cell_type": "code",
   "execution_count": 29,
   "metadata": {},
   "outputs": [
    {
     "output_type": "stream",
     "name": "stdout",
     "text": [
      "The real valued GHF wavefunction contains an internal instability.\n",
      "The real valued GHF wavefunction contains a real->complex external instability.\n"
     ]
    }
   ],
   "source": [
    "generalized_stability_matrices.printStabilityDescription()"
   ]
  },
  {
   "cell_type": "markdown",
   "metadata": {},
   "source": [
    "Since we noticed that there's a real->complex external instability, let's try to find a complex GHF solution that is lower in energy."
   ]
  },
  {
   "cell_type": "code",
   "execution_count": 30,
   "metadata": {},
   "outputs": [],
   "source": [
    "def complex_GHF_calculation(molecule, basis_set='STO-3G'):\n",
    "    N = H3.numberOfElectrons()\n",
    "    basis = gqcpy.GSpinorBasis_cd(H3, basis_set)\n",
    "    S = basis.quantizeOverlapOperator()\n",
    "    gsq_hamiltonian = gqcpy.GSQHamiltonian_cd.Molecular(basis, molecule) \n",
    "\n",
    "    environment = gqcpy.GHFSCFEnvironment_cd.WithComplexlyTransformedCoreGuess(N, gsq_hamiltonian, S) \n",
    "\n",
    "    solver = gqcpy.GHFSCFSolver_cd.Plain(threshold=1.0e-08, maximum_number_of_iterations=4000)\n",
    "    qc_structure = gqcpy.GHF_cd.optimize(solver, environment)\n",
    "    nuc_rep = gqcpy.Operator.NuclearRepulsion(molecule).value()\n",
    "    print(qc_structure.groundStateEnergy().real + nuc_rep)\n",
    "\n",
    "    return qc_structure"
   ]
  },
  {
   "cell_type": "code",
   "execution_count": 31,
   "metadata": {},
   "outputs": [
    {
     "output_type": "stream",
     "name": "stdout",
     "text": [
      "-1.3403026284286494\n"
     ]
    }
   ],
   "source": [
    "complex_GHF_model = complex_GHF_calculation(H3).parameters()"
   ]
  },
  {
   "cell_type": "code",
   "execution_count": 32,
   "metadata": {},
   "outputs": [],
   "source": [
    "generalized_basis = gqcpy.GSpinorBasis_cd(H3, \"STO-3G\")\n",
    "gsq_hamiltonian_mo = gqcpy.GSQHamiltonian_cd.Molecular(generalized_basis, H3).transformed(complex_GHF_model.expansion())\n",
    "generalized_stability_matrices = complex_GHF_model.calculateStabilityMatrices(gsq_hamiltonian_mo)"
   ]
  },
  {
   "cell_type": "code",
   "execution_count": 33,
   "metadata": {},
   "outputs": [
    {
     "output_type": "stream",
     "name": "stdout",
     "text": [
      "The complex valued GHF wavefunction is internally stable.\n"
     ]
    }
   ],
   "source": [
    "generalized_stability_matrices.printStabilityDescription()"
   ]
  }
 ],
 "metadata": {
  "kernelspec": {
   "display_name": "python3.7",
   "language": "python",
   "name": "python3.7"
  },
  "language_info": {
   "codemirror_mode": {
    "name": "ipython",
    "version": 3
   },
   "file_extension": ".py",
   "mimetype": "text/x-python",
   "name": "python",
   "nbconvert_exporter": "python",
   "pygments_lexer": "ipython3",
   "version": "3.7.9-final"
  }
 },
 "nbformat": 4,
 "nbformat_minor": 4
}