{
 "cells": [
  {
   "cell_type": "markdown",
   "source": [
    "# Checking the Hartree-Fock Stability conditions"
   ],
   "metadata": {}
  },
  {
   "cell_type": "markdown",
   "source": [
    "## Force the local gqcpy to be imported"
   ],
   "metadata": {}
  },
  {
   "cell_type": "code",
   "execution_count": 2,
   "source": [
    "import sys\n",
    "sys.path.insert(0, '../../build/gqcpy/')\n",
    "\n",
    "import gqcpy\n",
    "import numpy as np"
   ],
   "outputs": [],
   "metadata": {}
  },
  {
   "cell_type": "markdown",
   "source": [
    "## The RHF stability conditions"
   ],
   "metadata": {}
  },
  {
   "cell_type": "markdown",
   "source": [
    "We will run an RHF calculation on $H_4$."
   ],
   "metadata": {}
  },
  {
   "cell_type": "code",
   "execution_count": 3,
   "source": [
    "def RHF_calculation(molecule, basis_set='sto-3g'):\n",
    "    N = molecule.numberOfElectrons()\n",
    "    basis = gqcpy.RSpinOrbitalBasis_d(molecule, basis_set)\n",
    "    S = basis.quantize(gqcpy.OverlapOperator())\n",
    "    \n",
    "    hamiltonian = gqcpy.FQMolecularHamiltonian(molecule)\n",
    "    rsq_hamiltonian = basis.quantize(hamiltonian)\n",
    "    objective = gqcpy.DiagonalRHFFockMatrixObjective_d(rsq_hamiltonian, 1.0e-5)  \n",
    "    \n",
    "    environment = gqcpy.RHFSCFEnvironment_d.WithCoreGuess(N, rsq_hamiltonian, S) \n",
    "    solver = gqcpy.RHFSCFSolver_d.Plain(threshold=1.0e-06, maximum_number_of_iterations=1000)\n",
    "\n",
    "    qc_structure = gqcpy.RHF_d.optimize(objective, solver, environment)\n",
    "    nuc_rep = gqcpy.NuclearRepulsionOperator(molecule.nuclearFramework()).value()\n",
    "    print(qc_structure.groundStateEnergy() + nuc_rep)\n",
    "    \n",
    "    return qc_structure"
   ],
   "outputs": [],
   "metadata": {}
  },
  {
   "cell_type": "code",
   "execution_count": 4,
   "source": [
    "H4 = gqcpy.Molecule.HRingFromDistance(4, 1.889, 0)"
   ],
   "outputs": [],
   "metadata": {}
  },
  {
   "cell_type": "code",
   "execution_count": 5,
   "source": [
    "RHF_model = RHF_calculation(H4).parameters()"
   ],
   "outputs": [
    {
     "output_type": "stream",
     "name": "stdout",
     "text": [
      "-1.7609380236331802\n"
     ]
    }
   ],
   "metadata": {}
  },
  {
   "cell_type": "markdown",
   "source": [
    "These parameters contain everything there is to know about the RHF wave function model. We can now ask this model to calculate the stability matrices. For that we need a Hamiltonian in the RHF MO basis."
   ],
   "metadata": {}
  },
  {
   "cell_type": "code",
   "execution_count": 6,
   "source": [
    "restricted_basis = gqcpy.RSpinOrbitalBasis_d(H4, 'sto-3g')\n",
    "fq_hamiltonian = gqcpy.FQMolecularHamiltonian(H4)\n",
    "restricted_hamiltonian = restricted_basis.quantize(fq_hamiltonian)\n",
    "rsq_hamiltonian_mo = restricted_hamiltonian.transformed(RHF_model.expansion())\n",
    "restricted_stability_matrices = RHF_model.calculateStabilityMatrices(rsq_hamiltonian_mo)"
   ],
   "outputs": [],
   "metadata": {}
  },
  {
   "cell_type": "markdown",
   "source": [
    "Now we can check the stabilities. All the stability checks are done by the stability matrices themselves."
   ],
   "metadata": {}
  },
  {
   "cell_type": "code",
   "execution_count": 7,
   "source": [
    "restricted_stability_matrices.isInternallyStable()"
   ],
   "outputs": [
    {
     "output_type": "execute_result",
     "data": {
      "text/plain": [
       "True"
      ]
     },
     "metadata": {},
     "execution_count": 7
    }
   ],
   "metadata": {}
  },
  {
   "cell_type": "code",
   "execution_count": 8,
   "source": [
    "restricted_stability_matrices.isExternallyStable()"
   ],
   "outputs": [
    {
     "output_type": "execute_result",
     "data": {
      "text/plain": [
       "False"
      ]
     },
     "metadata": {},
     "execution_count": 8
    }
   ],
   "metadata": {}
  },
  {
   "cell_type": "markdown",
   "source": [
    "Since the wave function model is not externally stable, we can verify which external instability it contains."
   ],
   "metadata": {}
  },
  {
   "cell_type": "code",
   "execution_count": 9,
   "source": [
    "restricted_stability_matrices.isTripletStable()"
   ],
   "outputs": [
    {
     "output_type": "execute_result",
     "data": {
      "text/plain": [
       "False"
      ]
     },
     "metadata": {},
     "execution_count": 9
    }
   ],
   "metadata": {}
  },
  {
   "cell_type": "code",
   "execution_count": 10,
   "source": [
    "restricted_stability_matrices.isComplexConjugateStable()"
   ],
   "outputs": [
    {
     "output_type": "execute_result",
     "data": {
      "text/plain": [
       "False"
      ]
     },
     "metadata": {},
     "execution_count": 10
    }
   ],
   "metadata": {}
  },
  {
   "cell_type": "markdown",
   "source": [
    "We can also print the stability description. Note that this runs the calculation of diagonalizing the stability matrix."
   ],
   "metadata": {}
  },
  {
   "cell_type": "code",
   "execution_count": 11,
   "source": [
    "restricted_stability_matrices.printStabilityDescription()"
   ],
   "outputs": [
    {
     "output_type": "stream",
     "name": "stdout",
     "text": [
      "The real valued RHF wavefunction is internally stable.\n",
      "The real valued RHF wavefunction contains a real->complex instability.\n",
      "The real valued RHF wavefunction contains a restricted->unrestricted instability.\n"
     ]
    }
   ],
   "metadata": {}
  },
  {
   "cell_type": "markdown",
   "source": [
    "Since there is a real->complex instability present in the wavefunction, we can find a lower lying, complex stable state, by re-running the RHF calculation using complex valued parameters."
   ],
   "metadata": {}
  },
  {
   "cell_type": "code",
   "execution_count": null,
   "source": [
    "def complex_RHF_calculation(molecule, basis_set='sto-3g'):\n",
    "    N = molecule.numberOfElectrons()\n",
    "    basis = gqcpy.RSpinOrbitalBasis_cd(molecule, basis_set)\n",
    "    S = basis.quantize(gqcpy.OverlapOperator())\n",
    "    \n",
    "    hamiltonian = gqcpy.FQMolecularHamiltonian(molecule)\n",
    "    rsq_hamiltonian = basis.quantize(hamiltonian)\n",
    "    objective = gqcpy.DiagonalRHFFockMatrixObjective_cd(rsq_hamiltonian, 1.0e-5)  \n",
    "    \n",
    "    environment = gqcpy.RHFSCFEnvironment_cd.WithComplexlyTransformedCoreGuess(N, rsq_hamiltonian, S) \n",
    "    solver = gqcpy.RHFSCFSolver_cd.Plain(threshold=1.0e-06, maximum_number_of_iterations=1000)\n",
    "\n",
    "    qc_structure = gqcpy.RHF_cd.optimize(objective, solver, environment)\n",
    "    nuc_rep = gqcpy.NuclearRepulsionOperator(molecule.nuclearFramework()).value()\n",
    "    print(qc_structure.groundStateEnergy() + nuc_rep)\n",
    "    \n",
    "    return qc_structure"
   ],
   "outputs": [],
   "metadata": {}
  },
  {
   "cell_type": "code",
   "execution_count": null,
   "source": [
    "complex_RHF_model = RHF_calculation(H4).parameters()"
   ],
   "outputs": [],
   "metadata": {}
  },
  {
   "cell_type": "code",
   "execution_count": null,
   "source": [
    "complex_restricted_basis = gqcpy.RSpinOrbitalBasis_cd(H4, 'sto-3g')\n",
    "fq_hamiltonian = gqcpy.FQMolecularHamiltonian(H4)\n",
    "complex_restricted_hamiltonian = restricted_basis.quantize(fq_hamiltonian)\n",
    "complex_rsq_hamiltonian_mo = complex_restricted_hamiltonian.transformed(complex_RHF_model.expansion())\n",
    "complex_restricted_stability_matrices = complex_RHF_model.calculateStabilityMatrices(complex_rsq_hamiltonian_mo)"
   ],
   "outputs": [],
   "metadata": {}
  },
  {
   "cell_type": "code",
   "execution_count": null,
   "source": [
    "complex_restricted_stability_matrices.printStabilityDescription()"
   ],
   "outputs": [],
   "metadata": {}
  },
  {
   "cell_type": "markdown",
   "source": [
    "## The UHF stability conditions"
   ],
   "metadata": {}
  },
  {
   "cell_type": "markdown",
   "source": [
    "We will run an UHF calculation on $H_3$."
   ],
   "metadata": {}
  },
  {
   "cell_type": "code",
   "execution_count": 21,
   "source": [
    "def UHF_calculation(molecule, basis_set='STO-3G'):\n",
    "    N_a = molecule.numberOfElectronPairs()\n",
    "    N_b = molecule.numberOfElectrons() - N_a\n",
    "    basis = gqcpy.USpinOrbitalBasis_d(molecule, basis_set)\n",
    "    S = basis.quantize(gqcpy.OverlapOperator())\n",
    "\n",
    "    hamiltonian = gqcpy.FQMolecularHamiltonian(molecule)\n",
    "    sq_hamiltonian = basis.quantize(hamiltonian) \n",
    "\n",
    "    environment = gqcpy.UHFSCFEnvironment_d.WithCoreGuess(N_a, N_b, sq_hamiltonian, S) \n",
    "    solver = gqcpy.UHFSCFSolver_d.Plain(1.0e-06, 3000)\n",
    "\n",
    "    qc_structure = gqcpy.UHF_d.optimize(solver, environment)\n",
    "    \n",
    "    return qc_structure"
   ],
   "outputs": [],
   "metadata": {}
  },
  {
   "cell_type": "code",
   "execution_count": 22,
   "source": [
    "H3 = gqcpy.Molecule.HRingFromDistance(3, 1.889, 0)"
   ],
   "outputs": [],
   "metadata": {}
  },
  {
   "cell_type": "code",
   "execution_count": 23,
   "source": [
    "UHF_model = UHF_calculation(H3).parameters()"
   ],
   "outputs": [],
   "metadata": {}
  },
  {
   "cell_type": "markdown",
   "source": [
    "These parameters contain everything there is to know about the UHF wave function model. We can now ask this model to calculate the stability matrices. For that we need a Hamiltonian in the UHF MO basis."
   ],
   "metadata": {}
  },
  {
   "cell_type": "code",
   "execution_count": 24,
   "source": [
    "unrestricted_basis = gqcpy.USpinOrbitalBasis_d(H3, 'STO-3G')\n",
    "usq_hamiltonian_mo = unrestricted_basis.quantize(fq_hamiltonian)\n",
    "unrestricted_stability_matrices = UHF_model.calculateStabilityMatrices(usq_hamiltonian_mo)"
   ],
   "outputs": [],
   "metadata": {}
  },
  {
   "cell_type": "markdown",
   "source": [
    "Now we can check the stabilities. "
   ],
   "metadata": {}
  },
  {
   "cell_type": "code",
   "execution_count": 25,
   "source": [
    "unrestricted_stability_matrices.isInternallyStable()"
   ],
   "outputs": [
    {
     "output_type": "execute_result",
     "data": {
      "text/plain": [
       "False"
      ]
     },
     "metadata": {},
     "execution_count": 25
    }
   ],
   "metadata": {}
  },
  {
   "cell_type": "code",
   "execution_count": 26,
   "source": [
    "unrestricted_stability_matrices.isExternallyStable()"
   ],
   "outputs": [
    {
     "output_type": "execute_result",
     "data": {
      "text/plain": [
       "False"
      ]
     },
     "metadata": {},
     "execution_count": 26
    }
   ],
   "metadata": {}
  },
  {
   "cell_type": "code",
   "execution_count": 27,
   "source": [
    "unrestricted_stability_matrices.isSpinUnconservedStable()"
   ],
   "outputs": [
    {
     "output_type": "execute_result",
     "data": {
      "text/plain": [
       "False"
      ]
     },
     "metadata": {},
     "execution_count": 27
    }
   ],
   "metadata": {}
  },
  {
   "cell_type": "code",
   "execution_count": 28,
   "source": [
    "unrestricted_stability_matrices.isComplexConjugateStable()"
   ],
   "outputs": [
    {
     "output_type": "execute_result",
     "data": {
      "text/plain": [
       "True"
      ]
     },
     "metadata": {},
     "execution_count": 28
    }
   ],
   "metadata": {}
  },
  {
   "cell_type": "code",
   "execution_count": 29,
   "source": [
    "unrestricted_stability_matrices.printStabilityDescription()"
   ],
   "outputs": [
    {
     "output_type": "stream",
     "name": "stdout",
     "text": [
      "The real valued UHF wavefunction contains an internal instability.\n",
      "The real valued UHF wavefunction is stable within the real/complex UHF space.\n",
      "The real valued UHF wavefunction contains an unrestricted->generalized instability.\n"
     ]
    }
   ],
   "metadata": {}
  },
  {
   "cell_type": "markdown",
   "source": [
    "## The GHF stability conditions"
   ],
   "metadata": {}
  },
  {
   "cell_type": "markdown",
   "source": [
    "We will run an GHF calculation on $H_3$."
   ],
   "metadata": {}
  },
  {
   "cell_type": "code",
   "execution_count": 30,
   "source": [
    "def real_GHF_calculation(molecule, basis_set='STO-3G'):\n",
    "    N = H3.numberOfElectrons()\n",
    "    basis = gqcpy.GSpinorBasis_d(H3, basis_set)\n",
    "    S = basis.quantize(gqcpy.OverlapOperator())\n",
    "\n",
    "    hamiltonian = gqcpy.FQMolecularHamiltonian(molecule)\n",
    "    gsq_hamiltonian = basis.quantize(hamiltonian)\n",
    "\n",
    "    environment = gqcpy.GHFSCFEnvironment_d.WithCoreGuess(N, gsq_hamiltonian, S) \n",
    "    solver = gqcpy.GHFSCFSolver_d.Plain(1.0e-08, 4000)\n",
    "    qc_structure = gqcpy.GHF_d.optimize(solver, environment)\n",
    "    nuc_rep = gqcpy.NuclearRepulsionOperator(molecule.nuclearFramework()).value()\n",
    "    print(qc_structure.groundStateEnergy() + nuc_rep)\n",
    "    \n",
    "    return qc_structure"
   ],
   "outputs": [],
   "metadata": {}
  },
  {
   "cell_type": "code",
   "execution_count": 31,
   "source": [
    "GHF_model = real_GHF_calculation(H3).parameters()"
   ],
   "outputs": [
    {
     "output_type": "stream",
     "name": "stdout",
     "text": [
      "-1.3358471594598837\n"
     ]
    }
   ],
   "metadata": {}
  },
  {
   "cell_type": "markdown",
   "source": [
    "These parameters contain everything there is to know about the GHF wave function model. We can now ask this model to calculate the stability matrices. For that we need a Hamiltonian in the GHF MO basis."
   ],
   "metadata": {}
  },
  {
   "cell_type": "code",
   "execution_count": 32,
   "source": [
    "generalized_basis = gqcpy.GSpinorBasis_d(H3, 'STO-3G')\n",
    "gsq_hamiltonian_mo = generalized_basis.quantize(fq_hamiltonian)\n",
    "generalized_stability_matrices = GHF_model.calculateStabilityMatrices(gsq_hamiltonian_mo)"
   ],
   "outputs": [],
   "metadata": {}
  },
  {
   "cell_type": "code",
   "execution_count": 33,
   "source": [
    "generalized_stability_matrices.isInternallyStable()"
   ],
   "outputs": [
    {
     "output_type": "execute_result",
     "data": {
      "text/plain": [
       "False"
      ]
     },
     "metadata": {},
     "execution_count": 33
    }
   ],
   "metadata": {}
  },
  {
   "cell_type": "code",
   "execution_count": 34,
   "source": [
    "generalized_stability_matrices.isExternallyStable()"
   ],
   "outputs": [
    {
     "output_type": "execute_result",
     "data": {
      "text/plain": [
       "False"
      ]
     },
     "metadata": {},
     "execution_count": 34
    }
   ],
   "metadata": {}
  },
  {
   "cell_type": "code",
   "execution_count": 35,
   "source": [
    "generalized_stability_matrices.printStabilityDescription()"
   ],
   "outputs": [
    {
     "output_type": "stream",
     "name": "stdout",
     "text": [
      "The real valued GHF wavefunction contains an internal instability.\n",
      "The real valued GHF wavefunction contains a real->complex external instability.\n"
     ]
    }
   ],
   "metadata": {}
  },
  {
   "cell_type": "markdown",
   "source": [
    "Since we noticed that there's a real->complex external instability, let's try to find a complex GHF solution that is lower in energy."
   ],
   "metadata": {}
  },
  {
   "cell_type": "code",
   "execution_count": 36,
   "source": [
    "def complex_GHF_calculation(molecule, basis_set='STO-3G'):\n",
    "    N = H3.numberOfElectrons()\n",
    "    basis = gqcpy.GSpinorBasis_cd(H3, basis_set)\n",
    "    S = basis.quantize(gqcpy.OverlapOperator())\n",
    "\n",
    "    hamiltonian = gqcpy.FQMolecularHamiltonian(molecule)\n",
    "    gsq_hamiltonian = basis.quantize(hamiltonian)\n",
    "\n",
    "    environment = gqcpy.GHFSCFEnvironment_cd.WithComplexlyTransformedCoreGuess(N, gsq_hamiltonian, S) \n",
    "\n",
    "    solver = gqcpy.GHFSCFSolver_cd.Plain(threshold=1.0e-08, maximum_number_of_iterations=4000)\n",
    "    qc_structure = gqcpy.GHF_cd.optimize(solver, environment)\n",
    "    nuc_rep = gqcpy.NuclearRepulsionOperator(molecule.nuclearFramework()).value()\n",
    "    print(qc_structure.groundStateEnergy().real + nuc_rep)\n",
    "\n",
    "    return qc_structure"
   ],
   "outputs": [],
   "metadata": {}
  },
  {
   "cell_type": "code",
   "execution_count": 37,
   "source": [
    "complex_GHF_model = complex_GHF_calculation(H3).parameters()"
   ],
   "outputs": [
    {
     "output_type": "stream",
     "name": "stdout",
     "text": [
      "-1.340302628428606\n"
     ]
    }
   ],
   "metadata": {}
  },
  {
   "cell_type": "code",
   "execution_count": 38,
   "source": [
    "generalized_basis_c = gqcpy.GSpinorBasis_cd(H3, \"STO-3G\")\n",
    "gsq_hamiltonian_mo = generalized_basis_c.quantize(fq_hamiltonian).transformed(complex_GHF_model.expansion())\n",
    "generalized_stability_matrices = complex_GHF_model.calculateStabilityMatrices(gsq_hamiltonian_mo)"
   ],
   "outputs": [],
   "metadata": {}
  },
  {
   "cell_type": "code",
   "execution_count": 39,
   "source": [
    "generalized_stability_matrices.printStabilityDescription()"
   ],
   "outputs": [
    {
     "output_type": "stream",
     "name": "stdout",
     "text": [
      "The complex valued GHF wavefunction is internally stable.\n"
     ]
    }
   ],
   "metadata": {}
  }
 ],
 "metadata": {
  "kernelspec": {
   "name": "python3",
   "display_name": "Python 3.6.8 64-bit"
  },
  "language_info": {
   "codemirror_mode": {
    "name": "ipython",
    "version": 3
   },
   "file_extension": ".py",
   "mimetype": "text/x-python",
   "name": "python",
   "nbconvert_exporter": "python",
   "pygments_lexer": "ipython3",
   "version": "3.6.8"
  },
  "interpreter": {
   "hash": "31f2aee4e71d21fbe5cf8b01ff0e069b9275f58929596ceb00d14d90e3e16cd6"
  }
 },
 "nbformat": 4,
 "nbformat_minor": 4
}