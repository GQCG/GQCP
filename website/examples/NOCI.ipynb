{
 "cells": [
  {
   "cell_type": "markdown",
   "metadata": {},
   "source": [
    "# Non Orthogonal Configuration Interaction"
   ]
  },
  {
   "cell_type": "markdown",
   "metadata": {},
   "source": [
    "In this example we will show how a NOCI calculation can be performed with GQCP."
   ]
  },
  {
   "cell_type": "markdown",
   "metadata": {},
   "source": [
    "## Import dependancies"
   ]
  },
  {
   "cell_type": "code",
   "execution_count": 1,
   "metadata": {},
   "outputs": [
    {
     "ename": "ImportError",
     "evalue": "../../build/gqcpy/gqcpy.so: undefined symbol: _ZN5gqcpy20bindNOCIEnvironmentsERN8pybind117module_E",
     "output_type": "error",
     "traceback": [
      "\u001b[0;31m---------------------------------------------------------------------------\u001b[0m",
      "\u001b[0;31mImportError\u001b[0m                               Traceback (most recent call last)",
      "\u001b[0;32m<ipython-input-1-f5aa2180e13a>\u001b[0m in \u001b[0;36m<module>\u001b[0;34m\u001b[0m\n\u001b[1;32m      3\u001b[0m \u001b[0msys\u001b[0m\u001b[0;34m.\u001b[0m\u001b[0mpath\u001b[0m\u001b[0;34m.\u001b[0m\u001b[0minsert\u001b[0m\u001b[0;34m(\u001b[0m\u001b[0;36m0\u001b[0m\u001b[0;34m,\u001b[0m \u001b[0;34m'../../build/gqcpy/'\u001b[0m\u001b[0;34m)\u001b[0m\u001b[0;34m\u001b[0m\u001b[0;34m\u001b[0m\u001b[0m\n\u001b[1;32m      4\u001b[0m \u001b[0;34m\u001b[0m\u001b[0m\n\u001b[0;32m----> 5\u001b[0;31m \u001b[0;32mimport\u001b[0m \u001b[0mgqcpy\u001b[0m\u001b[0;34m\u001b[0m\u001b[0;34m\u001b[0m\u001b[0m\n\u001b[0m\u001b[1;32m      6\u001b[0m \u001b[0;32mimport\u001b[0m \u001b[0mnumpy\u001b[0m \u001b[0;32mas\u001b[0m \u001b[0mnp\u001b[0m\u001b[0;34m\u001b[0m\u001b[0;34m\u001b[0m\u001b[0m\n",
      "\u001b[0;31mImportError\u001b[0m: ../../build/gqcpy/gqcpy.so: undefined symbol: _ZN5gqcpy20bindNOCIEnvironmentsERN8pybind117module_E"
     ]
    }
   ],
   "source": [
    "# Force the local gqcpy to be imported\n",
    "import sys\n",
    "sys.path.insert(0, '../../build/gqcpy/')\n",
    "\n",
    "import gqcpy\n",
    "import numpy as np"
   ]
  },
  {
   "cell_type": "markdown",
   "metadata": {},
   "source": [
    "We start by creating the molecule and an associated spinor basis."
   ]
  },
  {
   "cell_type": "code",
   "execution_count": null,
   "metadata": {},
   "outputs": [
    {
     "ename": "Error",
     "evalue": "Kernel is dead",
     "output_type": "error",
     "traceback": [
      "Error: Kernel is dead",
      "at g._sendKernelShellControl (/root/.vscode-server/extensions/ms-toolsai.jupyter-2021.9.1101343141/out/client/extension.js:52:1006305)",
      "at g.sendShellMessage (/root/.vscode-server/extensions/ms-toolsai.jupyter-2021.9.1101343141/out/client/extension.js:52:1006074)",
      "at g.requestExecute (/root/.vscode-server/extensions/ms-toolsai.jupyter-2021.9.1101343141/out/client/extension.js:52:1008616)",
      "at d.requestExecute (/root/.vscode-server/extensions/ms-toolsai.jupyter-2021.9.1101343141/out/client/extension.js:37:328037)",
      "at S.requestExecute (/root/.vscode-server/extensions/ms-toolsai.jupyter-2021.9.1101343141/out/client/extension.js:32:19306)",
      "at w.executeCodeCell (/root/.vscode-server/extensions/ms-toolsai.jupyter-2021.9.1101343141/out/client/extension.js:52:300924)",
      "at w.execute (/root/.vscode-server/extensions/ms-toolsai.jupyter-2021.9.1101343141/out/client/extension.js:52:300551)",
      "at w.start (/root/.vscode-server/extensions/ms-toolsai.jupyter-2021.9.1101343141/out/client/extension.js:52:296215)",
      "at runMicrotasks (<anonymous>)",
      "at processTicksAndRejections (internal/process/task_queues.js:93:5)",
      "at async t.CellExecutionQueue.executeQueuedCells (/root/.vscode-server/extensions/ms-toolsai.jupyter-2021.9.1101343141/out/client/extension.js:52:310950)",
      "at async t.CellExecutionQueue.start (/root/.vscode-server/extensions/ms-toolsai.jupyter-2021.9.1101343141/out/client/extension.js:52:310490)"
     ]
    }
   ],
   "source": [
    "molecule = gqcpy.Molecule.HChain(2, 2.5, 0)  \n",
    "N = molecule.numberOfElectrons()\n",
    "N_P = molecule.numberOfElectronPairs()\n",
    "\n",
    "spinor_basis = gqcpy.GSpinorBasis_d(molecule, \"6-31G\")"
   ]
  },
  {
   "cell_type": "markdown",
   "metadata": {},
   "source": [
    "Unfortunately, that spinor basis is not orthonormal, which is a requirement for our CI calculations."
   ]
  },
  {
   "cell_type": "code",
   "execution_count": null,
   "metadata": {
    "tags": []
   },
   "outputs": [
    {
     "ename": "Error",
     "evalue": "Kernel is dead",
     "output_type": "error",
     "traceback": [
      "Error: Kernel is dead",
      "at g._sendKernelShellControl (/root/.vscode-server/extensions/ms-toolsai.jupyter-2021.9.1101343141/out/client/extension.js:52:1006305)",
      "at g.sendShellMessage (/root/.vscode-server/extensions/ms-toolsai.jupyter-2021.9.1101343141/out/client/extension.js:52:1006074)",
      "at g.requestExecute (/root/.vscode-server/extensions/ms-toolsai.jupyter-2021.9.1101343141/out/client/extension.js:52:1008616)",
      "at d.requestExecute (/root/.vscode-server/extensions/ms-toolsai.jupyter-2021.9.1101343141/out/client/extension.js:37:328037)",
      "at S.requestExecute (/root/.vscode-server/extensions/ms-toolsai.jupyter-2021.9.1101343141/out/client/extension.js:32:19306)",
      "at w.executeCodeCell (/root/.vscode-server/extensions/ms-toolsai.jupyter-2021.9.1101343141/out/client/extension.js:52:300924)",
      "at w.execute (/root/.vscode-server/extensions/ms-toolsai.jupyter-2021.9.1101343141/out/client/extension.js:52:300551)",
      "at w.start (/root/.vscode-server/extensions/ms-toolsai.jupyter-2021.9.1101343141/out/client/extension.js:52:296215)",
      "at runMicrotasks (<anonymous>)",
      "at processTicksAndRejections (internal/process/task_queues.js:93:5)",
      "at async t.CellExecutionQueue.executeQueuedCells (/root/.vscode-server/extensions/ms-toolsai.jupyter-2021.9.1101343141/out/client/extension.js:52:310950)",
      "at async t.CellExecutionQueue.start (/root/.vscode-server/extensions/ms-toolsai.jupyter-2021.9.1101343141/out/client/extension.js:52:310490)"
     ]
    }
   ],
   "source": [
    "print(spin_orbital_basis.quantize(gqcpy.OverlapOperator()).parameters())"
   ]
  },
  {
   "cell_type": "markdown",
   "metadata": {},
   "source": [
    "We will proceed by finding the canonical RHF orbitals, which correspond to an orthonormal spinor basis."
   ]
  },
  {
   "cell_type": "code",
   "execution_count": 4,
   "metadata": {},
   "outputs": [],
   "source": [
    "fq_hamiltonian = gqcpy.FQMolecularHamiltonian(molecule)\n",
    "hamiltonian = spin_orbital_basis.quantize(fq_hamiltonian)\n",
    "S = spin_orbital_basis.quantize(gqcpy.OverlapOperator())\n",
    "\n",
    "environment = gqcpy.RHFSCFEnvironment_d.WithCoreGuess(N, hamiltonian, S)\n",
    "solver = gqcpy.RHFSCFSolver_d.Plain()\n",
    "objective = gqcpy.DiagonalRHFFockMatrixObjective_d(hamiltonian)  # use the default threshold of 1.0e-08\n",
    "rhf_parameters = gqcpy.RHF_d.optimize(objective, solver, environment).groundStateParameters()"
   ]
  },
  {
   "cell_type": "markdown",
   "metadata": {},
   "source": [
    "Using this orthonormal spinor basis, we can quantize the molecular Hamiltonian."
   ]
  },
  {
   "cell_type": "code",
   "execution_count": 5,
   "metadata": {},
   "outputs": [],
   "source": [
    "spin_orbital_basis.transform(rhf_parameters.expansion())\n",
    "hamiltonian.transform(rhf_parameters.expansion())"
   ]
  },
  {
   "cell_type": "markdown",
   "metadata": {},
   "source": [
    "## Specifying the 'F' in FCI"
   ]
  },
  {
   "cell_type": "markdown",
   "metadata": {},
   "source": [
    "FCI, in essence, uses a linear expansion in the full (spin-resolved) Fock space. In GQCP (gqcpy), we have access to a class that represents an ONV basis for that Fock space:"
   ]
  },
  {
   "cell_type": "code",
   "execution_count": 6,
   "metadata": {},
   "outputs": [],
   "source": [
    "onv_basis = gqcpy.SpinResolvedONVBasis(K, N_P, N_P)  # number of spatial orbitals, number of alpha-electrons, number of beta-electrons"
   ]
  },
  {
   "cell_type": "markdown",
   "metadata": {},
   "source": [
    "## Dense FCI calculations"
   ]
  },
  {
   "cell_type": "markdown",
   "metadata": {},
   "source": [
    "In order to do a dense FCI calculations, GQCP uses its own framework for mathematical optimization. We'll have to create:\n",
    "1. a dense eigenvalue problem solver\n",
    "1. an associated eigenvalue problem environment"
   ]
  },
  {
   "cell_type": "code",
   "execution_count": 8,
   "metadata": {},
   "outputs": [],
   "source": [
    "solver = gqcpy.EigenproblemSolver.Dense_d()\n",
    "environment = gqcpy.CIEnvironment.Dense(hamiltonian, onv_basis)"
   ]
  },
  {
   "cell_type": "markdown",
   "metadata": {},
   "source": [
    "The encompassing `QCMethod` is `CI` (for any type of configuration interaction), so we'll use that to find the optimized and associated wave function model: a `LinearExpansion`. Internally, `QCMethod`s return a `QCStructure`, which wraps energies and optimized parameters for the ground state and excited states."
   ]
  },
  {
   "cell_type": "code",
   "execution_count": 9,
   "metadata": {},
   "outputs": [],
   "source": [
    "qc_structure = gqcpy.CI(onv_basis).optimize(solver, environment)"
   ]
  },
  {
   "cell_type": "code",
   "execution_count": 10,
   "metadata": {
    "tags": []
   },
   "outputs": [
    {
     "name": "stdout",
     "output_type": "stream",
     "text": [
      "-1.8515616052384547\n"
     ]
    }
   ],
   "source": [
    "electronic_energy = qc_structure.groundStateEnergy()\n",
    "print(electronic_energy)"
   ]
  },
  {
   "cell_type": "code",
   "execution_count": 11,
   "metadata": {
    "tags": []
   },
   "outputs": [
    {
     "name": "stdout",
     "output_type": "stream",
     "text": [
      "[-9.93627296e-01 -1.96580806e-16 -1.28531973e-16  1.12715560e-01]\n"
     ]
    }
   ],
   "source": [
    "print(qc_structure.groundStateParameters().coefficients())"
   ]
  },
  {
   "cell_type": "markdown",
   "metadata": {},
   "source": [
    "In order to find the total energy, we have to account for the nuclear repulsion. In GQCP, we use different kinds of first-quantized operators, and `NuclearRepulsionOperator` is one of them."
   ]
  },
  {
   "cell_type": "code",
   "execution_count": 12,
   "metadata": {
    "tags": []
   },
   "outputs": [
    {
     "name": "stdout",
     "output_type": "stream",
     "text": [
      "-1.1372759430763966\n"
     ]
    }
   ],
   "source": [
    "energy = electronic_energy + gqcpy.NuclearRepulsionOperator(molecule.nuclearFramework()).value()\n",
    "print(energy)"
   ]
  },
  {
   "cell_type": "markdown",
   "metadata": {},
   "source": [
    "## Iterative FCI calculations (with a Davidson algorithm)"
   ]
  },
  {
   "cell_type": "markdown",
   "metadata": {},
   "source": [
    "In order to tackle larger problems for which we cannot store the Hamiltonian matrix (in the ONV basis) in memory, we must use an iterative diagonalization procedure. In GQCP, we have implemented Davidson's algorithm. In order to use it to do FCI calculations, we must again create a solver and associated environment instance."
   ]
  },
  {
   "cell_type": "markdown",
   "metadata": {},
   "source": [
    "Since the Davidson algorithm is iterative, we will have to supply an initial guess vector. Since we're working in the canonical RHF basis, a linear expansion that has a 1 at the position of the RHF determinant is a good initial guess."
   ]
  },
  {
   "cell_type": "code",
   "execution_count": 13,
   "metadata": {},
   "outputs": [],
   "source": [
    "x0 = gqcpy.LinearExpansion_SpinResolved.HartreeFock(onv_basis).coefficients()\n",
    "\n",
    "solver_davidson = gqcpy.EigenproblemSolver.Davidson()\n",
    "environment_davidson = gqcpy.CIEnvironment.Iterative(hamiltonian, onv_basis, x0)"
   ]
  },
  {
   "cell_type": "code",
   "execution_count": 14,
   "metadata": {},
   "outputs": [],
   "source": [
    "qc_structure_davidson = gqcpy.CI(onv_basis).optimize(solver_davidson, environment_davidson)"
   ]
  },
  {
   "cell_type": "markdown",
   "metadata": {},
   "source": [
    "We can now verify that both types of solvers find the same, optimized linear wave function model and associated energy."
   ]
  },
  {
   "cell_type": "code",
   "execution_count": 15,
   "metadata": {
    "tags": []
   },
   "outputs": [
    {
     "name": "stdout",
     "output_type": "stream",
     "text": [
      "-1.8515616052384547\n"
     ]
    }
   ],
   "source": [
    "electronic_energy_davidson = qc_structure_davidson.groundStateEnergy()\n",
    "print(electronic_energy_davidson)"
   ]
  },
  {
   "cell_type": "code",
   "execution_count": 16,
   "metadata": {
    "tags": []
   },
   "outputs": [
    {
     "name": "stdout",
     "output_type": "stream",
     "text": [
      "[-9.93627296e-01 -1.24364039e-16 -1.42130330e-16  1.12715560e-01]\n"
     ]
    }
   ],
   "source": [
    "print(qc_structure_davidson.groundStateParameters().coefficients())"
   ]
  },
  {
   "cell_type": "markdown",
   "metadata": {},
   "source": [
    "## 'Unrestricted' FCI calculations"
   ]
  },
  {
   "cell_type": "markdown",
   "metadata": {},
   "source": [
    "In the previous examples, we have expressed the Hamiltonian in a restricted spin-orbital basis. Furthermore, CI calculations should be independent of the underlying one-electron (spinor/spin-orbital) basis. Can we reproduce this result, for an unrestricted spin-orbital basis?"
   ]
  },
  {
   "cell_type": "markdown",
   "metadata": {},
   "source": [
    "We'll start by creating an unrestricted spin-orbital (AO) basis, and Löwdin-orthonormalizing it."
   ]
  },
  {
   "cell_type": "code",
   "execution_count": 17,
   "metadata": {},
   "outputs": [],
   "source": [
    "u_spin_orbital_basis = gqcpy.USpinOrbitalBasis_d(molecule, \"STO-3G\")\n",
    "u_spin_orbital_basis.lowdinOrthonormalize()"
   ]
  },
  {
   "cell_type": "markdown",
   "metadata": {},
   "source": [
    "Now that we have an orthonormal unrestricted spin-orbital basis, we may quantize the molecular Hamiltonian in it."
   ]
  },
  {
   "cell_type": "code",
   "execution_count": 18,
   "metadata": {},
   "outputs": [],
   "source": [
    "u_hamiltonian = u_spin_orbital_basis.quantize(fq_hamiltonian)"
   ]
  },
  {
   "cell_type": "markdown",
   "metadata": {},
   "source": [
    "We can now reuse the full spin-resolved ONV basis, and proceed to initialize an environment and solver."
   ]
  },
  {
   "cell_type": "code",
   "execution_count": 19,
   "metadata": {},
   "outputs": [],
   "source": [
    "solver = gqcpy.EigenproblemSolver.Dense_d()\n",
    "environment = gqcpy.CIEnvironment.Dense(u_hamiltonian, onv_basis)\n",
    "\n",
    "qc_structure = gqcpy.CI(onv_basis).optimize(solver, environment)"
   ]
  },
  {
   "cell_type": "code",
   "execution_count": 20,
   "metadata": {},
   "outputs": [
    {
     "name": "stdout",
     "output_type": "stream",
     "text": [
      "-1.8515616052384558\n"
     ]
    }
   ],
   "source": [
    "electronic_energy = qc_structure.groundStateEnergy()\n",
    "print(electronic_energy)"
   ]
  },
  {
   "cell_type": "markdown",
   "metadata": {},
   "source": [
    "This is exactly the result we obtain from the restricted case!"
   ]
  }
 ],
 "metadata": {
  "interpreter": {
   "hash": "4654e147d6fe676f31a9f86e2485eea716359f8709963986145f7c2d0088ba8c"
  },
  "kernelspec": {
   "display_name": "Python 3.8.5 64-bit ('base': conda)",
   "name": "python3"
  },
  "language_info": {
   "codemirror_mode": {
    "name": "ipython",
    "version": 3
   },
   "file_extension": ".py",
   "mimetype": "text/x-python",
   "name": "python",
   "nbconvert_exporter": "python",
   "pygments_lexer": "ipython3",
   "version": "3.8.5"
  }
 },
 "nbformat": 4,
 "nbformat_minor": 2
}
