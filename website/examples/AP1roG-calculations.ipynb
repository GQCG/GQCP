{
 "cells": [
  {
   "cell_type": "markdown",
   "metadata": {},
   "source": [
    "# AP1roG calculations"
   ]
  },
  {
   "cell_type": "code",
   "execution_count": 1,
   "metadata": {},
   "outputs": [],
   "source": [
    "# Force the local gqcpy to be imported\n",
    "import sys\n",
    "sys.path.insert(0, '../../build/gqcpy/')\n",
    "\n",
    "import gqcpy\n",
    "import numpy as np\n",
    "\n",
    "np.set_printoptions(precision=3, linewidth=120)"
   ]
  },
  {
   "cell_type": "markdown",
   "metadata": {},
   "source": [
    "## Setting up the molecular Hamiltonian in the canonical RHF spin-orbital basis"
   ]
  },
  {
   "cell_type": "markdown",
   "metadata": {},
   "source": [
    "The AP1roG geminal pairing scheme is set up in the canonical RHF (spin-orbital) basis, so we'll have to do an RHF calculation first. There are plenty of other examples that focus on Hartree-Fock calculations in more detail."
   ]
  },
  {
   "cell_type": "code",
   "execution_count": 2,
   "metadata": {},
   "outputs": [],
   "source": [
    "molecule = gqcpy.Molecule.ReadXYZ(\"../../gqcp/tests/data/ch4_crawdad.xyz\", 0)  # '0': Create a neutral molecule.\n",
    "N = molecule.numberOfElectrons()\n",
    "N_P = molecule.numberOfElectronPairs()"
   ]
  },
  {
   "cell_type": "code",
   "execution_count": 3,
   "metadata": {},
   "outputs": [],
   "source": [
    "spin_orbital_basis = gqcpy.RSpinOrbitalBasis_d(molecule, \"STO-3G\")  # The basis of the atomic spin-orbitals.\n",
    "K = spin_orbital_basis.numberOfSpatialOrbitals()\n",
    "\n",
    "S = spin_orbital_basis.quantizeOverlapOperator()"
   ]
  },
  {
   "cell_type": "markdown",
   "metadata": {},
   "source": [
    "Since the initial spin-orbital basis is the AO basis, the Hamiltonian is expressed in the non-orthogonal AOs. This is exactly what we need to start an RHF calculation."
   ]
  },
  {
   "cell_type": "code",
   "execution_count": 4,
   "metadata": {},
   "outputs": [],
   "source": [
    "hamiltonian = gqcpy.RSQHamiltonian_d.Molecular(spin_orbital_basis, molecule)"
   ]
  },
  {
   "cell_type": "code",
   "execution_count": 5,
   "metadata": {},
   "outputs": [],
   "source": [
    "environment = gqcpy.RHFSCFEnvironment_d.WithCoreGuess(N, hamiltonian, S)\n",
    "solver = gqcpy.RHFSCFSolver_d.DIIS()\n",
    "\n",
    "objective = gqcpy.DiagonalRHFFockMatrixObjective_d(hamiltonian)"
   ]
  },
  {
   "cell_type": "markdown",
   "metadata": {},
   "source": [
    "Using this objective makes sure that the optimized expansion coefficients yield a diagonal Fock matrix, so the solution represents the canonical RHF spinor basis."
   ]
  },
  {
   "cell_type": "code",
   "execution_count": 6,
   "metadata": {},
   "outputs": [],
   "source": [
    "rhf_parameters = gqcpy.RHF_d.optimize(objective, solver, environment).groundStateParameters()\n",
    "C = rhf_parameters.expansion()"
   ]
  },
  {
   "cell_type": "markdown",
   "metadata": {},
   "source": [
    "Since we have the canonical RHF spinor expansion coefficients now, we can transform the underlying spin-orbital basis and then re-quantize the molecular Hamiltonian, in order to let both instances be in-sync with their basis transformations.\n",
    "\n",
    "However, gqcpy offers a different approach, transforming the spin-orbital basis and the Hamiltonian with their member APIs"
   ]
  },
  {
   "cell_type": "code",
   "execution_count": 7,
   "metadata": {},
   "outputs": [],
   "source": [
    "spin_orbital_basis.transform(C)\n",
    "hamiltonian.transform(C)"
   ]
  },
  {
   "cell_type": "markdown",
   "metadata": {},
   "source": [
    "Right now, the spin-orbital basis and Hamiltonian are expressed in the canonical RHF spin-orbitals."
   ]
  },
  {
   "cell_type": "markdown",
   "metadata": {},
   "source": [
    "## AP1roG calculations"
   ]
  },
  {
   "cell_type": "markdown",
   "metadata": {},
   "source": [
    "AP1roG has been formulated as a QCModel/QCMethod. Therefore, we should create a solver (which is able to solve the AP1roG PSEs), an associated environment and an objective. For AP1roG, the solver is a non-linear equation solver."
   ]
  },
  {
   "cell_type": "code",
   "execution_count": 8,
   "metadata": {},
   "outputs": [],
   "source": [
    "environment = gqcpy.PSEnvironment.AP1roG(hamiltonian, N_P)\n",
    "solver = gqcpy.NonLinearEquationSolver.Newton()"
   ]
  },
  {
   "cell_type": "code",
   "execution_count": 9,
   "metadata": {},
   "outputs": [],
   "source": [
    "qc_structure = gqcpy.AP1roG(hamiltonian, N_P).optimize(solver, environment)"
   ]
  },
  {
   "cell_type": "code",
   "execution_count": 10,
   "metadata": {},
   "outputs": [
    {
     "name": "stdout",
     "output_type": "stream",
     "text": [
      "-53.24983824850026\n"
     ]
    }
   ],
   "source": [
    "print(qc_structure.groundStateEnergy())"
   ]
  },
  {
   "cell_type": "code",
   "execution_count": 11,
   "metadata": {},
   "outputs": [
    {
     "name": "stdout",
     "output_type": "stream",
     "text": [
      "[[ 1.000e+00  0.000e+00  0.000e+00  0.000e+00  0.000e+00 -7.789e-04 -7.789e-04 -7.793e-04 -1.948e-03]\n",
      " [ 0.000e+00  1.000e+00  0.000e+00  0.000e+00  0.000e+00 -1.414e-02 -1.413e-02 -1.421e-02 -2.450e-02]\n",
      " [ 0.000e+00  0.000e+00  1.000e+00  0.000e+00  0.000e+00 -1.380e-02 -5.025e-02 -2.622e-02 -1.866e-02]\n",
      " [ 0.000e+00  0.000e+00  0.000e+00  1.000e+00  0.000e+00 -2.404e-02 -3.200e-02 -3.321e-02 -1.874e-02]\n",
      " [ 0.000e+00  0.000e+00  0.000e+00  0.000e+00  1.000e+00 -5.258e-02 -8.384e-03 -2.979e-02 -1.863e-02]]\n"
     ]
    }
   ],
   "source": [
    "print(qc_structure.groundStateParameters().geminalCoefficients().asMatrix())"
   ]
  },
  {
   "cell_type": "markdown",
   "metadata": {},
   "source": [
    "## vAP1roG calculations"
   ]
  },
  {
   "cell_type": "markdown",
   "metadata": {},
   "source": [
    "We have also extended the AP1roG method to be variationally optimized, resulting in the vAP1roG method. In short, what this method does is analogous to AP1roG, but after determining the optimal geminal coefficients, a set of optimal Lagrange multipliers is also searched for.\n",
    "\n",
    "Since these Lagrange multipliers are determined through solving a linear equation, we will have to supply a linear equations solver to the vAP1roG method."
   ]
  },
  {
   "cell_type": "code",
   "execution_count": 12,
   "metadata": {},
   "outputs": [],
   "source": [
    "non_linear_environment = gqcpy.PSEnvironment.AP1roG(hamiltonian, N_P)\n",
    "non_linear_solver = gqcpy.NonLinearEquationSolver.Newton()\n",
    "\n",
    "linear_solver = gqcpy.LinearEquationSolver.ColPivHouseholderQR()"
   ]
  },
  {
   "cell_type": "code",
   "execution_count": 13,
   "metadata": {},
   "outputs": [],
   "source": [
    "qc_structure = gqcpy.vAP1roG(hamiltonian, N_P).optimize(non_linear_solver, non_linear_environment, linear_solver)"
   ]
  },
  {
   "cell_type": "code",
   "execution_count": 14,
   "metadata": {},
   "outputs": [
    {
     "name": "stdout",
     "output_type": "stream",
     "text": [
      "-53.24983824850026\n"
     ]
    }
   ],
   "source": [
    "print(qc_structure.groundStateEnergy())"
   ]
  },
  {
   "cell_type": "code",
   "execution_count": 15,
   "metadata": {},
   "outputs": [
    {
     "name": "stdout",
     "output_type": "stream",
     "text": [
      "[[ 1.000e+00  0.000e+00  0.000e+00  0.000e+00  0.000e+00 -7.789e-04 -7.789e-04 -7.793e-04 -1.948e-03]\n",
      " [ 0.000e+00  1.000e+00  0.000e+00  0.000e+00  0.000e+00 -1.414e-02 -1.413e-02 -1.421e-02 -2.450e-02]\n",
      " [ 0.000e+00  0.000e+00  1.000e+00  0.000e+00  0.000e+00 -1.380e-02 -5.025e-02 -2.622e-02 -1.866e-02]\n",
      " [ 0.000e+00  0.000e+00  0.000e+00  1.000e+00  0.000e+00 -2.404e-02 -3.200e-02 -3.321e-02 -1.874e-02]\n",
      " [ 0.000e+00  0.000e+00  0.000e+00  0.000e+00  1.000e+00 -5.258e-02 -8.384e-03 -2.979e-02 -1.863e-02]]\n"
     ]
    }
   ],
   "source": [
    "print(qc_structure.groundStateParameters().geminalCoefficients().asMatrix())"
   ]
  },
  {
   "cell_type": "code",
   "execution_count": 16,
   "metadata": {},
   "outputs": [
    {
     "name": "stdout",
     "output_type": "stream",
     "text": [
      "[[-0.001 -0.001 -0.001 -0.002]\n",
      " [-0.014 -0.014 -0.014 -0.025]\n",
      " [-0.014 -0.05  -0.026 -0.019]\n",
      " [-0.024 -0.032 -0.033 -0.019]\n",
      " [-0.052 -0.008 -0.03  -0.019]]\n"
     ]
    }
   ],
   "source": [
    "print(qc_structure.groundStateParameters().lagrangeMultipliers())"
   ]
  },
  {
   "cell_type": "markdown",
   "metadata": {},
   "source": [
    "## Orbital optimization for vAP1roG"
   ]
  },
  {
   "cell_type": "markdown",
   "metadata": {},
   "source": [
    "We've also implemented an second-order orbital optimizer that uses a Newton step in every iteration. (The API isn't quite up-to-par yet.)"
   ]
  },
  {
   "cell_type": "markdown",
   "metadata": {},
   "source": [
    "The orbital optimize requires an initial guess."
   ]
  },
  {
   "cell_type": "code",
   "execution_count": 17,
   "metadata": {},
   "outputs": [],
   "source": [
    "G_initial = qc_structure.groundStateParameters().geminalCoefficients()\n",
    "\n",
    "optimizer = gqcpy.AP1roGLagrangianNewtonOrbitalOptimizer(G_initial, oo_convergence_threshold=1.0e-04)\n",
    "optimizer.optimize(spin_orbital_basis, hamiltonian)"
   ]
  },
  {
   "cell_type": "markdown",
   "metadata": {},
   "source": [
    "We can see that the electronic energy has lowered due to the orbital optimization."
   ]
  },
  {
   "cell_type": "code",
   "execution_count": 18,
   "metadata": {},
   "outputs": [
    {
     "name": "stdout",
     "output_type": "stream",
     "text": [
      "-53.28557071314139\n"
     ]
    }
   ],
   "source": [
    "print(optimizer.electronicEnergy())"
   ]
  },
  {
   "cell_type": "markdown",
   "metadata": {},
   "source": [
    "The converged geminal coefficients and multipliers can be found, too."
   ]
  },
  {
   "cell_type": "code",
   "execution_count": 19,
   "metadata": {},
   "outputs": [
    {
     "name": "stdout",
     "output_type": "stream",
     "text": [
      "[[ 1.     0.     0.     0.     0.    -0.001 -0.001 -0.001 -0.001]\n",
      " [ 0.     1.     0.     0.     0.    -0.007 -0.007 -0.007 -0.091]\n",
      " [ 0.     0.     1.     0.     0.    -0.007 -0.091 -0.007 -0.007]\n",
      " [ 0.     0.     0.     1.     0.    -0.007 -0.007 -0.091 -0.007]\n",
      " [ 0.     0.     0.     0.     1.    -0.091 -0.007 -0.007 -0.007]]\n"
     ]
    }
   ],
   "source": [
    "print(optimizer.geminalCoefficients().asMatrix())"
   ]
  },
  {
   "cell_type": "code",
   "execution_count": 20,
   "metadata": {},
   "outputs": [
    {
     "name": "stdout",
     "output_type": "stream",
     "text": [
      "[[-0.001 -0.001 -0.001 -0.001]\n",
      " [-0.007 -0.007 -0.007 -0.091]\n",
      " [-0.007 -0.091 -0.007 -0.007]\n",
      " [-0.007 -0.007 -0.091 -0.007]\n",
      " [-0.091 -0.007 -0.007 -0.007]]\n"
     ]
    }
   ],
   "source": [
    "print(optimizer.multipliers())"
   ]
  }
 ],
 "metadata": {
  "kernelspec": {
   "display_name": "Python 3",
   "language": "python",
   "name": "python3"
  },
  "language_info": {
   "codemirror_mode": {
    "name": "ipython",
    "version": 3
   },
   "file_extension": ".py",
   "mimetype": "text/x-python",
   "name": "python",
   "nbconvert_exporter": "python",
   "pygments_lexer": "ipython3",
   "version": "3.7.9"
  }
 },
 "nbformat": 4,
 "nbformat_minor": 2
}
