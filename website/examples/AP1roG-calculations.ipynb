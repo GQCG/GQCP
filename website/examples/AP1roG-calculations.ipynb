{
 "cells": [
  {
   "cell_type": "markdown",
   "source": [
    "# AP1roG calculations"
   ],
   "metadata": {}
  },
  {
   "cell_type": "code",
   "execution_count": 28,
   "source": [
    "# Force the local gqcpy to be imported\n",
    "import sys\n",
    "sys.path.insert(0, '../../build/gqcpy/')\n",
    "\n",
    "import gqcpy\n",
    "import numpy as np\n",
    "\n",
    "np.set_printoptions(precision=3, linewidth=120)"
   ],
   "outputs": [],
   "metadata": {}
  },
  {
   "cell_type": "markdown",
   "source": [
    "## Setting up the molecular Hamiltonian in the canonical RHF spin-orbital basis"
   ],
   "metadata": {}
  },
  {
   "cell_type": "markdown",
   "source": [
    "The AP1roG geminal pairing scheme is set up in the canonical RHF (spin-orbital) basis, so we'll have to do an RHF calculation first. There are plenty of other examples that focus on Hartree-Fock calculations in more detail."
   ],
   "metadata": {}
  },
  {
   "cell_type": "code",
   "execution_count": 29,
   "source": [
    "molecule = gqcpy.Molecule.ReadXYZ(\"../../gqcp/tests/data/ch4_crawdad.xyz\", 0)  # '0': Create a neutral molecule.\n",
    "N = molecule.numberOfElectrons()\n",
    "N_P = molecule.numberOfElectronPairs()"
   ],
   "outputs": [],
   "metadata": {}
  },
  {
   "cell_type": "code",
   "execution_count": 30,
   "source": [
    "spin_orbital_basis = gqcpy.RSpinOrbitalBasis_d(molecule, \"STO-3G\")  # The basis of the atomic spin-orbitals.\n",
    "K = spin_orbital_basis.numberOfSpatialOrbitals()\n",
    "\n",
    "S = spin_orbital_basis.quantize(gqcpy.OverlapOperator())"
   ],
   "outputs": [],
   "metadata": {}
  },
  {
   "cell_type": "markdown",
   "source": [
    "Since the initial spin-orbital basis is the AO basis, the Hamiltonian is expressed in the non-orthogonal AOs. This is exactly what we need to start an RHF calculation."
   ],
   "metadata": {}
  },
  {
   "cell_type": "code",
   "execution_count": 31,
   "source": [
    "hamiltonian = gqcpy.FQMolecularHamiltonian(molecule)\n",
    "sq_hamiltonian = spin_orbital_basis.quantize(hamiltonian)"
   ],
   "outputs": [],
   "metadata": {}
  },
  {
   "cell_type": "code",
   "execution_count": 32,
   "source": [
    "environment = gqcpy.RHFSCFEnvironment_d.WithCoreGuess(N, sq_hamiltonian, S)\n",
    "solver = gqcpy.RHFSCFSolver_d.DIIS()\n",
    "\n",
    "objective = gqcpy.DiagonalRHFFockMatrixObjective_d(sq_hamiltonian)"
   ],
   "outputs": [],
   "metadata": {}
  },
  {
   "cell_type": "markdown",
   "source": [
    "Using this objective makes sure that the optimized expansion coefficients yield a diagonal Fock matrix, so the solution represents the canonical RHF spinor basis."
   ],
   "metadata": {}
  },
  {
   "cell_type": "code",
   "execution_count": 33,
   "source": [
    "rhf_parameters = gqcpy.RHF_d.optimize(objective, solver, environment).groundStateParameters()\n",
    "C = rhf_parameters.expansion()"
   ],
   "outputs": [],
   "metadata": {}
  },
  {
   "cell_type": "markdown",
   "source": [
    "Since we have the canonical RHF spinor expansion coefficients now, we can transform the underlying spin-orbital basis and then re-quantize the molecular Hamiltonian, in order to let both instances be in-sync with their basis transformations.\n",
    "\n",
    "However, gqcpy offers a different approach, transforming the spin-orbital basis and the Hamiltonian with their member APIs"
   ],
   "metadata": {}
  },
  {
   "cell_type": "code",
   "execution_count": 34,
   "source": [
    "spin_orbital_basis.transform(C)\n",
    "sq_hamiltonian.transform(C)"
   ],
   "outputs": [],
   "metadata": {}
  },
  {
   "cell_type": "markdown",
   "source": [
    "Right now, the spin-orbital basis and Hamiltonian are expressed in the canonical RHF spin-orbitals."
   ],
   "metadata": {}
  },
  {
   "cell_type": "markdown",
   "source": [
    "## AP1roG calculations"
   ],
   "metadata": {}
  },
  {
   "cell_type": "markdown",
   "source": [
    "AP1roG has been formulated as a QCModel/QCMethod. Therefore, we should create a solver (which is able to solve the AP1roG PSEs), an associated environment and an objective. For AP1roG, the solver is a non-linear equation solver."
   ],
   "metadata": {}
  },
  {
   "cell_type": "code",
   "execution_count": 35,
   "source": [
    "environment = gqcpy.PSEnvironment.AP1roG(sq_hamiltonian, N_P)\n",
    "solver = gqcpy.NonLinearEquationSolver.Newton()"
   ],
   "outputs": [],
   "metadata": {}
  },
  {
   "cell_type": "code",
   "execution_count": 36,
   "source": [
    "qc_structure = gqcpy.AP1roG(sq_hamiltonian, N_P).optimize(solver, environment)"
   ],
   "outputs": [],
   "metadata": {}
  },
  {
   "cell_type": "code",
   "execution_count": 37,
   "source": [
    "print(qc_structure.groundStateEnergy())"
   ],
   "outputs": [
    {
     "output_type": "stream",
     "name": "stdout",
     "text": [
      "-53.25026301675117\n"
     ]
    }
   ],
   "metadata": {}
  },
  {
   "cell_type": "code",
   "execution_count": 38,
   "source": [
    "print(qc_structure.groundStateParameters().geminalCoefficients().asMatrix())"
   ],
   "outputs": [
    {
     "output_type": "stream",
     "name": "stdout",
     "text": [
      "[[ 1.000e+00  0.000e+00  0.000e+00  0.000e+00  0.000e+00 -7.790e-04 -7.788e-04 -7.793e-04 -1.948e-03]\n",
      " [ 0.000e+00  1.000e+00  0.000e+00  0.000e+00  0.000e+00 -1.416e-02 -1.413e-02 -1.421e-02 -2.450e-02]\n",
      " [ 0.000e+00  0.000e+00  1.000e+00  0.000e+00  0.000e+00 -1.036e-02 -5.941e-02 -2.103e-02 -1.861e-02]\n",
      " [ 0.000e+00  0.000e+00  0.000e+00  1.000e+00  0.000e+00 -4.347e-02 -1.461e-02 -3.162e-02 -1.871e-02]\n",
      " [ 0.000e+00  0.000e+00  0.000e+00  0.000e+00  1.000e+00 -3.626e-02 -1.663e-02 -3.670e-02 -1.872e-02]]\n"
     ]
    }
   ],
   "metadata": {}
  },
  {
   "cell_type": "markdown",
   "source": [
    "## vAP1roG calculations"
   ],
   "metadata": {}
  },
  {
   "cell_type": "markdown",
   "source": [
    "We have also extended the AP1roG method to be variationally optimized, resulting in the vAP1roG method. In short, what this method does is analogous to AP1roG, but after determining the optimal geminal coefficients, a set of optimal Lagrange multipliers is also searched for.\n",
    "\n",
    "Since these Lagrange multipliers are determined through solving a linear equation, we will have to supply a linear equations solver to the vAP1roG method."
   ],
   "metadata": {}
  },
  {
   "cell_type": "code",
   "execution_count": 39,
   "source": [
    "non_linear_environment = gqcpy.PSEnvironment.AP1roG(sq_hamiltonian, N_P)\n",
    "non_linear_solver = gqcpy.NonLinearEquationSolver.Newton()\n",
    "\n",
    "linear_solver = gqcpy.LinearEquationSolver.ColPivHouseholderQR()"
   ],
   "outputs": [],
   "metadata": {}
  },
  {
   "cell_type": "code",
   "execution_count": 40,
   "source": [
    "qc_structure = gqcpy.vAP1roG(sq_hamiltonian, N_P).optimize(non_linear_solver, non_linear_environment, linear_solver)"
   ],
   "outputs": [],
   "metadata": {}
  },
  {
   "cell_type": "code",
   "execution_count": 41,
   "source": [
    "print(qc_structure.groundStateEnergy())"
   ],
   "outputs": [
    {
     "output_type": "stream",
     "name": "stdout",
     "text": [
      "-53.25026301675117\n"
     ]
    }
   ],
   "metadata": {}
  },
  {
   "cell_type": "code",
   "execution_count": 42,
   "source": [
    "print(qc_structure.groundStateParameters().geminalCoefficients().asMatrix())"
   ],
   "outputs": [
    {
     "output_type": "stream",
     "name": "stdout",
     "text": [
      "[[ 1.000e+00  0.000e+00  0.000e+00  0.000e+00  0.000e+00 -7.790e-04 -7.788e-04 -7.793e-04 -1.948e-03]\n",
      " [ 0.000e+00  1.000e+00  0.000e+00  0.000e+00  0.000e+00 -1.416e-02 -1.413e-02 -1.421e-02 -2.450e-02]\n",
      " [ 0.000e+00  0.000e+00  1.000e+00  0.000e+00  0.000e+00 -1.036e-02 -5.941e-02 -2.103e-02 -1.861e-02]\n",
      " [ 0.000e+00  0.000e+00  0.000e+00  1.000e+00  0.000e+00 -4.347e-02 -1.461e-02 -3.162e-02 -1.871e-02]\n",
      " [ 0.000e+00  0.000e+00  0.000e+00  0.000e+00  1.000e+00 -3.626e-02 -1.663e-02 -3.670e-02 -1.872e-02]]\n"
     ]
    }
   ],
   "metadata": {}
  },
  {
   "cell_type": "code",
   "execution_count": 43,
   "source": [
    "print(qc_structure.groundStateParameters().lagrangeMultipliers())"
   ],
   "outputs": [
    {
     "output_type": "stream",
     "name": "stdout",
     "text": [
      "[[-0.001 -0.001 -0.001 -0.002]\n",
      " [-0.014 -0.014 -0.014 -0.025]\n",
      " [-0.01  -0.059 -0.021 -0.019]\n",
      " [-0.043 -0.015 -0.032 -0.019]\n",
      " [-0.036 -0.017 -0.037 -0.019]]\n"
     ]
    }
   ],
   "metadata": {}
  },
  {
   "cell_type": "markdown",
   "source": [
    "## Orbital optimization for vAP1roG"
   ],
   "metadata": {}
  },
  {
   "cell_type": "markdown",
   "source": [
    "We've also implemented an second-order orbital optimizer that uses a Newton step in every iteration. (The API isn't quite up-to-par yet.)"
   ],
   "metadata": {}
  },
  {
   "cell_type": "markdown",
   "source": [
    "The orbital optimize requires an initial guess."
   ],
   "metadata": {}
  },
  {
   "cell_type": "code",
   "execution_count": 44,
   "source": [
    "G_initial = qc_structure.groundStateParameters().geminalCoefficients()\n",
    "\n",
    "optimizer = gqcpy.AP1roGLagrangianNewtonOrbitalOptimizer(G_initial, oo_convergence_threshold=1.0e-04)\n",
    "optimizer.optimize(spin_orbital_basis, sq_hamiltonian)"
   ],
   "outputs": [],
   "metadata": {}
  },
  {
   "cell_type": "markdown",
   "source": [
    "We can see that the electronic energy has lowered due to the orbital optimization."
   ],
   "metadata": {}
  },
  {
   "cell_type": "code",
   "execution_count": 45,
   "source": [
    "print(optimizer.electronicEnergy())"
   ],
   "outputs": [
    {
     "output_type": "stream",
     "name": "stdout",
     "text": [
      "-53.28557071355452\n"
     ]
    }
   ],
   "metadata": {}
  },
  {
   "cell_type": "markdown",
   "source": [
    "The converged geminal coefficients and multipliers can be found, too."
   ],
   "metadata": {}
  },
  {
   "cell_type": "code",
   "execution_count": 46,
   "source": [
    "print(optimizer.geminalCoefficients().asMatrix())"
   ],
   "outputs": [
    {
     "output_type": "stream",
     "name": "stdout",
     "text": [
      "[[ 1.     0.     0.     0.     0.    -0.001 -0.001 -0.001 -0.001]\n",
      " [ 0.     1.     0.     0.     0.    -0.007 -0.007 -0.007 -0.091]\n",
      " [ 0.     0.     1.     0.     0.    -0.007 -0.091 -0.007 -0.007]\n",
      " [ 0.     0.     0.     1.     0.    -0.091 -0.007 -0.007 -0.007]\n",
      " [ 0.     0.     0.     0.     1.    -0.007 -0.007 -0.091 -0.007]]\n"
     ]
    }
   ],
   "metadata": {}
  },
  {
   "cell_type": "code",
   "execution_count": 47,
   "source": [
    "print(optimizer.multipliers())"
   ],
   "outputs": [
    {
     "output_type": "stream",
     "name": "stdout",
     "text": [
      "[[-0.001 -0.001 -0.001 -0.001]\n",
      " [-0.007 -0.007 -0.007 -0.091]\n",
      " [-0.007 -0.091 -0.007 -0.007]\n",
      " [-0.091 -0.007 -0.007 -0.007]\n",
      " [-0.007 -0.007 -0.091 -0.007]]\n"
     ]
    }
   ],
   "metadata": {}
  },
  {
   "cell_type": "code",
   "execution_count": null,
   "source": [],
   "outputs": [],
   "metadata": {}
  }
 ],
 "metadata": {
  "kernelspec": {
   "name": "python3",
   "display_name": "Python 3.8.5 64-bit ('base': conda)"
  },
  "language_info": {
   "codemirror_mode": {
    "name": "ipython",
    "version": 3
   },
   "file_extension": ".py",
   "mimetype": "text/x-python",
   "name": "python",
   "nbconvert_exporter": "python",
   "pygments_lexer": "ipython3",
   "version": "3.8.5"
  },
  "interpreter": {
   "hash": "e4c6ce54e6d1ccff551279c9aafc06b78c48fd9e60d6b4e74c0583a74ec1d1f9"
  }
 },
 "nbformat": 4,
 "nbformat_minor": 2
}