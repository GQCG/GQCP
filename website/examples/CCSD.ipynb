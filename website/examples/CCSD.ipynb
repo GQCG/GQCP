{
 "cells": [
  {
   "cell_type": "markdown",
   "metadata": {},
   "source": [
    "# CCSD calculations"
   ]
  },
  {
   "cell_type": "code",
   "execution_count": 1,
   "metadata": {},
   "outputs": [],
   "source": [
    "# Force the local gqcpy to be imported\n",
    "import sys\n",
    "sys.path.insert(0, '../../build/gqcpy/')\n",
    "\n",
    "import gqcpy\n",
    "import numpy as np\n",
    "\n",
    "np.set_printoptions(precision=3, linewidth=120)"
   ]
  },
  {
   "cell_type": "markdown",
   "metadata": {},
   "source": [
    "## CCSD calculations on H2O // STO-3G"
   ]
  },
  {
   "cell_type": "markdown",
   "metadata": {},
   "source": [
    "In this example, we will try to reproduce the [crawdad CCSD results](https://github.com/CrawfordGroup/ProgrammingProjects/tree/master/Project%2305)."
   ]
  },
  {
   "cell_type": "code",
   "execution_count": 2,
   "metadata": {},
   "outputs": [
    {
     "name": "stdout",
     "output_type": "stream",
     "text": [
      "Number of electrons: 10 \n",
      "O  (0, -0.143226, 0)\n",
      "H  (1.63804, 1.13655, -0)\n",
      "H  (-1.63804, 1.13655, -0)\n",
      "\n"
     ]
    }
   ],
   "source": [
    "molecule = gqcpy.Molecule.ReadXYZ(\"../../gqcp/tests/data/h2o_crawdad.xyz\")\n",
    "N = molecule.numberOfElectrons()\n",
    "N_P = molecule.numberOfElectronPairs()\n",
    "\n",
    "print(molecule)"
   ]
  },
  {
   "cell_type": "markdown",
   "metadata": {},
   "source": [
    "The first task is to generate the RHF reference, so we'll do an RHF SCF calculation."
   ]
  },
  {
   "cell_type": "code",
   "execution_count": 3,
   "metadata": {},
   "outputs": [],
   "source": [
    "spin_orbital_basis = gqcpy.RSpinOrbitalBasis_d(molecule, \"STO-3G\")\n",
    "K = spin_orbital_basis.numberOfSpatialOrbitals()\n",
    "\n",
    "S = spin_orbital_basis.quantizeOverlapOperator()"
   ]
  },
  {
   "cell_type": "code",
   "execution_count": 4,
   "metadata": {},
   "outputs": [],
   "source": [
    "hamiltonian = gqcpy.RSQHamiltonian_d.Molecular(spin_orbital_basis, molecule)"
   ]
  },
  {
   "cell_type": "markdown",
   "metadata": {},
   "source": [
    "The current Hamiltionian is expressed in the non-orthogonal AO basis. This is exactly what we need to start an RHF calculation."
   ]
  },
  {
   "cell_type": "code",
   "execution_count": 5,
   "metadata": {},
   "outputs": [],
   "source": [
    "environment = gqcpy.RHFSCFEnvironment_d.WithCoreGuess(N, hamiltonian, S)\n",
    "solver = gqcpy.RHFSCFSolver_d.DIIS()\n",
    "\n",
    "objective = gqcpy.DiagonalRHFFockMatrixObjective_d(hamiltonian)  # use the default threshold of 1.0e-08"
   ]
  },
  {
   "cell_type": "markdown",
   "metadata": {},
   "source": [
    "Using this objective makes sure that the optimized expansion coefficients yield a diagonal Fock matrix, so they will represent the canonical RHF spin-orbital basis."
   ]
  },
  {
   "cell_type": "code",
   "execution_count": 6,
   "metadata": {},
   "outputs": [],
   "source": [
    "rhf_qc_structure = gqcpy.RHF_d.optimize(objective, solver, environment)"
   ]
  },
  {
   "cell_type": "code",
   "execution_count": 7,
   "metadata": {},
   "outputs": [
    {
     "name": "stdout",
     "output_type": "stream",
     "text": [
      "-74.94207992809515\n"
     ]
    }
   ],
   "source": [
    "rhf_energy = rhf_qc_structure.groundStateEnergy() + gqcpy.Operator.NuclearRepulsion(molecule).value()\n",
    "print(rhf_energy)"
   ]
  },
  {
   "cell_type": "markdown",
   "metadata": {},
   "source": [
    "This is very much in line with `crawdad`'s results: `-74.942079928192`."
   ]
  },
  {
   "cell_type": "code",
   "execution_count": 8,
   "metadata": {},
   "outputs": [],
   "source": [
    "rhf_parameters = rhf_qc_structure.groundStateParameters()\n",
    "C = rhf_parameters.expansion()"
   ]
  },
  {
   "cell_type": "markdown",
   "metadata": {},
   "source": [
    "Now, let's transform the spin-orbital basis and the second-quantized Hamiltonian to the RHF MOs."
   ]
  },
  {
   "cell_type": "code",
   "execution_count": 9,
   "metadata": {},
   "outputs": [
    {
     "name": "stdout",
     "output_type": "stream",
     "text": [
      "[[-9.944e-01 -2.392e-01  2.797e-16 -9.368e-02  1.017e-30  1.116e-01 -2.210e-15]\n",
      " [-2.410e-02  8.857e-01 -1.587e-15  4.796e-01 -5.684e-30 -6.696e-01  1.280e-14]\n",
      " [-1.333e-17 -4.650e-16 -6.073e-01 -1.066e-15 -1.217e-15  1.765e-14  9.192e-01]\n",
      " [-3.162e-03  8.590e-02  1.276e-15 -7.474e-01  3.106e-30 -7.385e-01  1.410e-14]\n",
      " [ 7.925e-33  1.986e-31 -2.352e-15  1.422e-30  1.000e+00 -6.315e-30 -2.306e-16]\n",
      " [ 4.594e-03  1.440e-01 -4.530e-01 -3.295e-01 -1.177e-15  7.098e-01 -7.325e-01]\n",
      " [ 4.594e-03  1.440e-01  4.530e-01 -3.295e-01  1.177e-15  7.098e-01  7.325e-01]]\n"
     ]
    }
   ],
   "source": [
    "spin_orbital_basis.transform(C)  # Now represents a restricted spin-orbital that contains the canonical RHF MOs.\n",
    "print(spin_orbital_basis.expansion().matrix())"
   ]
  },
  {
   "cell_type": "code",
   "execution_count": 10,
   "metadata": {},
   "outputs": [
    {
     "name": "stdout",
     "output_type": "stream",
     "text": [
      "[[-3.256e+01 -5.683e-01 -1.062e-17 -2.095e-01  1.162e-30  2.563e-01 -5.773e-15]\n",
      " [-5.683e-01 -7.564e+00  1.594e-15 -5.223e-01  5.528e-30  1.220e+00 -2.442e-14]\n",
      " [-9.155e-18  1.639e-15 -6.018e+00  1.200e-15  3.834e-15  3.769e-14  1.767e+00]\n",
      " [-2.095e-01 -5.223e-01  1.042e-15 -6.610e+00  2.398e-30 -1.306e+00  2.842e-14]\n",
      " [ 9.744e-31  6.143e-30  3.834e-15  2.043e-30 -7.347e+00  1.078e-28  4.695e-15]\n",
      " [ 2.563e-01  1.220e+00  3.793e-14 -1.306e+00  1.071e-28 -5.291e+00 -3.997e-15]\n",
      " [-5.765e-15 -2.403e-14  1.767e+00  2.817e-14  4.695e-15 -3.605e-15 -5.513e+00]]\n"
     ]
    }
   ],
   "source": [
    "hamiltonian.transform(C)\n",
    "print(hamiltonian.core().parameters())"
   ]
  },
  {
   "cell_type": "markdown",
   "metadata": {},
   "source": [
    "Before continuing with the CCSD specifics, we must first prepare the molecular Hamiltonian in the correct spinor basis. Since we have implemented CCSD using general spinors, we should use a `GSpinorBasis`."
   ]
  },
  {
   "cell_type": "code",
   "execution_count": 11,
   "metadata": {},
   "outputs": [
    {
     "name": "stdout",
     "output_type": "stream",
     "text": [
      "[[-9.944e-01 -2.392e-01  2.797e-16 -9.368e-02  1.017e-30  1.116e-01 -2.210e-15  0.000e+00  0.000e+00  0.000e+00\n",
      "   0.000e+00  0.000e+00  0.000e+00  0.000e+00]\n",
      " [-2.410e-02  8.857e-01 -1.587e-15  4.796e-01 -5.684e-30 -6.696e-01  1.280e-14  0.000e+00  0.000e+00  0.000e+00\n",
      "   0.000e+00  0.000e+00  0.000e+00  0.000e+00]\n",
      " [-1.333e-17 -4.650e-16 -6.073e-01 -1.066e-15 -1.217e-15  1.765e-14  9.192e-01  0.000e+00  0.000e+00  0.000e+00\n",
      "   0.000e+00  0.000e+00  0.000e+00  0.000e+00]\n",
      " [-3.162e-03  8.590e-02  1.276e-15 -7.474e-01  3.106e-30 -7.385e-01  1.410e-14  0.000e+00  0.000e+00  0.000e+00\n",
      "   0.000e+00  0.000e+00  0.000e+00  0.000e+00]\n",
      " [ 7.925e-33  1.986e-31 -2.352e-15  1.422e-30  1.000e+00 -6.315e-30 -2.306e-16  0.000e+00  0.000e+00  0.000e+00\n",
      "   0.000e+00  0.000e+00  0.000e+00  0.000e+00]\n",
      " [ 4.594e-03  1.440e-01 -4.530e-01 -3.295e-01 -1.177e-15  7.098e-01 -7.325e-01  0.000e+00  0.000e+00  0.000e+00\n",
      "   0.000e+00  0.000e+00  0.000e+00  0.000e+00]\n",
      " [ 4.594e-03  1.440e-01  4.530e-01 -3.295e-01  1.177e-15  7.098e-01  7.325e-01  0.000e+00  0.000e+00  0.000e+00\n",
      "   0.000e+00  0.000e+00  0.000e+00  0.000e+00]\n",
      " [ 0.000e+00  0.000e+00  0.000e+00  0.000e+00  0.000e+00  0.000e+00  0.000e+00 -9.944e-01 -2.392e-01  2.797e-16\n",
      "  -9.368e-02  1.017e-30  1.116e-01 -2.210e-15]\n",
      " [ 0.000e+00  0.000e+00  0.000e+00  0.000e+00  0.000e+00  0.000e+00  0.000e+00 -2.410e-02  8.857e-01 -1.587e-15\n",
      "   4.796e-01 -5.684e-30 -6.696e-01  1.280e-14]\n",
      " [ 0.000e+00  0.000e+00  0.000e+00  0.000e+00  0.000e+00  0.000e+00  0.000e+00 -1.333e-17 -4.650e-16 -6.073e-01\n",
      "  -1.066e-15 -1.217e-15  1.765e-14  9.192e-01]\n",
      " [ 0.000e+00  0.000e+00  0.000e+00  0.000e+00  0.000e+00  0.000e+00  0.000e+00 -3.162e-03  8.590e-02  1.276e-15\n",
      "  -7.474e-01  3.106e-30 -7.385e-01  1.410e-14]\n",
      " [ 0.000e+00  0.000e+00  0.000e+00  0.000e+00  0.000e+00  0.000e+00  0.000e+00  7.925e-33  1.986e-31 -2.352e-15\n",
      "   1.422e-30  1.000e+00 -6.315e-30 -2.306e-16]\n",
      " [ 0.000e+00  0.000e+00  0.000e+00  0.000e+00  0.000e+00  0.000e+00  0.000e+00  4.594e-03  1.440e-01 -4.530e-01\n",
      "  -3.295e-01 -1.177e-15  7.098e-01 -7.325e-01]\n",
      " [ 0.000e+00  0.000e+00  0.000e+00  0.000e+00  0.000e+00  0.000e+00  0.000e+00  4.594e-03  1.440e-01  4.530e-01\n",
      "  -3.295e-01  1.177e-15  7.098e-01  7.325e-01]]\n"
     ]
    }
   ],
   "source": [
    "spinor_basis = gqcpy.GSpinorBasis_d.FromRestricted(spin_orbital_basis)  # Represents a general spinor basis, based off the restricted canonical RHF MOs.\n",
    "\n",
    "# We can inspect the two non-zero blocks (top-left and bottom-right) of the coefficient matrix.\n",
    "print(spinor_basis.expansion().matrix())"
   ]
  },
  {
   "cell_type": "markdown",
   "metadata": {},
   "source": [
    "We should note that the ordering of the MOs in this spinor basis is not by ascending energy, but they are ordered alphas first and then all betas.\n",
    "\n",
    "For H2O, we have 10 electrons, so this means we shouldn't occupy the first 10 spinors (since that would correspond to occupying all alpha-spin-orbitals and then 3 beta-spin-orbitals), but we should occupy the first 5 alpha spin-orbitals and the first 5 beta-spin-orbitals."
   ]
  },
  {
   "cell_type": "markdown",
   "metadata": {},
   "source": [
    "This issue is circumvented by constructing an `OrbitalSpace`, which takes care of setting up the occupied and virtual orbital spaces. We don't have to construct this `OrbitalSpace` by hand: GQCP provides an API through the creation of the 'GHF' reference ONV."
   ]
  },
  {
   "cell_type": "code",
   "execution_count": 12,
   "metadata": {},
   "outputs": [],
   "source": [
    "M = spinor_basis.numberOfSpinors()\n",
    "ghf_onv = gqcpy.SpinUnresolvedONV.GHF(M, N, rhf_parameters.spinOrbitalEnergiesBlocked())\n",
    "\n",
    "orbital_space = ghf_onv.orbitalSpace()"
   ]
  },
  {
   "cell_type": "code",
   "execution_count": 13,
   "metadata": {},
   "outputs": [
    {
     "name": "stdout",
     "output_type": "stream",
     "text": [
      "An orbital space with 14 orbitals.\n",
      "\n",
      "\tThe occupied orbital indices are: 0 1 2 3 4 7 8 9 10 11 \n",
      "\tThe active orbital indices are: \n",
      "\tThe virtual orbital indices are: 5 6 12 13 \n"
     ]
    }
   ],
   "source": [
    "print(orbital_space.description())"
   ]
  },
  {
   "cell_type": "markdown",
   "metadata": {},
   "source": [
    "CCSD is also implemented as a `QCMethod`. This means that we'll have to set up an environment and a particular solver."
   ]
  },
  {
   "cell_type": "code",
   "execution_count": 15,
   "metadata": {},
   "outputs": [],
   "source": [
    "hamiltonian = gqcpy.GSQHamiltonian_d.Molecular(spinor_basis, molecule)"
   ]
  },
  {
   "cell_type": "code",
   "execution_count": 16,
   "metadata": {},
   "outputs": [],
   "source": [
    "solver = gqcpy.CCSDSolver.Plain()\n",
    "environment = gqcpy.CCSDEnvironment.PerturbativeCCSD(hamiltonian, orbital_space)"
   ]
  },
  {
   "cell_type": "markdown",
   "metadata": {},
   "source": [
    "It's interesting to see that the initial, perturbative, T1 amplitudes are zero, which is a direct consequence of Brillouin's theorem: the occupied-virtual block of the Fock(ian) matrix is zero!"
   ]
  },
  {
   "cell_type": "code",
   "execution_count": 17,
   "metadata": {
    "scrolled": true
   },
   "outputs": [
    {
     "name": "stdout",
     "output_type": "stream",
     "text": [
      "[[-2.563e-14  1.727e-17 -0.000e+00 -0.000e+00]\n",
      " [-4.866e-13 -4.984e-17 -0.000e+00 -0.000e+00]\n",
      " [-1.392e-15 -2.098e-12 -0.000e+00 -0.000e+00]\n",
      " [ 2.163e-12  1.493e-16 -0.000e+00 -0.000e+00]\n",
      " [-6.839e-30 -9.374e-17 -0.000e+00 -0.000e+00]\n",
      " [-0.000e+00 -0.000e+00 -2.563e-14  2.134e-17]\n",
      " [-0.000e+00 -0.000e+00 -4.866e-13  4.769e-16]\n",
      " [-0.000e+00 -0.000e+00 -7.017e-16 -2.098e-12]\n",
      " [-0.000e+00 -0.000e+00  2.163e-12  3.863e-16]\n",
      " [-0.000e+00 -0.000e+00 -6.059e-30 -9.374e-17]]\n"
     ]
    }
   ],
   "source": [
    "print(environment.t1_amplitudes[-1].asMatrix())"
   ]
  },
  {
   "cell_type": "markdown",
   "metadata": {},
   "source": [
    "The initial T2-amplitudes are actually the MP2 T2-amplitudes, so the initial CCSD correlation energy is the MP2 correlation energy. Crawdad reports a value of `-0.049149636120`."
   ]
  },
  {
   "cell_type": "code",
   "execution_count": 17,
   "metadata": {},
   "outputs": [
    {
     "name": "stdout",
     "output_type": "stream",
     "text": [
      "-0.04914963614928383\n"
     ]
    }
   ],
   "source": [
    "print(environment.electronic_energies[-1])"
   ]
  },
  {
   "cell_type": "markdown",
   "metadata": {},
   "source": [
    "Let's now proceed by actually optimizing the CCSD wave function model. This may take a while if `gqcp` is built in Debug mode!"
   ]
  },
  {
   "cell_type": "code",
   "execution_count": 18,
   "metadata": {},
   "outputs": [],
   "source": [
    "ccsd_qc_structure = gqcpy.CCSD.optimize(solver, environment)"
   ]
  },
  {
   "cell_type": "markdown",
   "metadata": {},
   "source": [
    "Crawdad lists a converged CCSD energy as: `-0.070680088376`."
   ]
  },
  {
   "cell_type": "code",
   "execution_count": 19,
   "metadata": {},
   "outputs": [
    {
     "name": "stdout",
     "output_type": "stream",
     "text": [
      "-0.07068008793713948\n"
     ]
    }
   ],
   "source": [
    "ccsd_correlation_energy = ccsd_qc_structure.groundStateEnergy()\n",
    "print(ccsd_correlation_energy)"
   ]
  }
 ],
 "metadata": {
  "kernelspec": {
   "display_name": "Python 3",
   "language": "python",
   "name": "python3"
  },
  "language_info": {
   "codemirror_mode": {
    "name": "ipython",
    "version": 3
   },
   "file_extension": ".py",
   "mimetype": "text/x-python",
   "name": "python",
   "nbconvert_exporter": "python",
   "pygments_lexer": "ipython3",
   "version": "3.7.9"
  }
 },
 "nbformat": 4,
 "nbformat_minor": 4
}
