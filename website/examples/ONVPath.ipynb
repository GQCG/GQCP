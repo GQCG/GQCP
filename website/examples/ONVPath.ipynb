{
 "metadata": {
  "language_info": {
   "codemirror_mode": {
    "name": "ipython",
    "version": 3
   },
   "file_extension": ".py",
   "mimetype": "text/x-python",
   "name": "python",
   "nbconvert_exporter": "python",
   "pygments_lexer": "ipython3",
   "version": "3.7.7-final"
  },
  "orig_nbformat": 2,
  "kernelspec": {
   "name": "python3",
   "display_name": "Python 3"
  }
 },
 "nbformat": 4,
 "nbformat_minor": 2,
 "cells": [
  {
   "cell_type": "code",
   "execution_count": 3,
   "metadata": {},
   "outputs": [],
   "source": [
    "# Force the local gqcpy to be imported\n",
    "import sys\n",
    "sys.path.insert(0, '../../build/gqcpy')\n",
    "\n",
    "import gqcpy\n",
    "\n",
    "# Import numpy\n",
    "import numpy as np"
   ]
  },
  {
   "source": [
    "# ONV path manipulation"
   ],
   "cell_type": "markdown",
   "metadata": {}
  },
  {
   "source": [
    "An ONV, or occupation number vector, is a crucial element in Full CI calculations. In this example notebook we will show you how you can use gqcpy to create and manipulate ONV paths. "
   ],
   "cell_type": "markdown",
   "metadata": {}
  },
  {
   "source": [
    "## The ONV basis"
   ],
   "cell_type": "markdown",
   "metadata": {}
  },
  {
   "source": [
    "In this example we will work with a spin unresolved ONV basis, meaning that there is no distinction between alpha and beta electrons."
   ],
   "cell_type": "markdown",
   "metadata": {}
  },
  {
   "cell_type": "code",
   "execution_count": 4,
   "metadata": {},
   "outputs": [],
   "source": [
    "# Create an ONV basis of 3 electrons and 5 possible orbitals\n",
    "onv_basis = gqcpy.SpinUnresolvedONVBasis(5, 3)"
   ]
  },
  {
   "source": [
    "The ONV Basis itself has some useful functions we can call."
   ],
   "cell_type": "markdown",
   "metadata": {}
  },
  {
   "cell_type": "code",
   "execution_count": 5,
   "metadata": {},
   "outputs": [
    {
     "output_type": "execute_result",
     "data": {
      "text/plain": [
       "0"
      ]
     },
     "metadata": {},
     "execution_count": 5
    }
   ],
   "source": [
    "# Get the weight of the arc starting at coordinate (p, n)\n",
    "onv_basis.arcWeight(0,0)"
   ]
  },
  {
   "cell_type": "code",
   "execution_count": 6,
   "metadata": {},
   "outputs": [
    {
     "output_type": "execute_result",
     "data": {
      "text/plain": [
       "3"
      ]
     },
     "metadata": {},
     "execution_count": 6
    }
   ],
   "source": [
    "# Get the weight of the vertex at coordinate (p, n)\n",
    "onv_basis.vertexWeight(3, 2)"
   ]
  },
  {
   "cell_type": "code",
   "execution_count": 7,
   "metadata": {},
   "outputs": [
    {
     "output_type": "execute_result",
     "data": {
      "text/plain": [
       "10"
      ]
     },
     "metadata": {},
     "execution_count": 7
    }
   ],
   "source": [
    "# Get the dimension of the ONV basis\n",
    "onv_basis.calculateDimension(5, 3)"
   ]
  },
  {
   "source": [
    "## A specific ONV and its path"
   ],
   "cell_type": "markdown",
   "metadata": {}
  },
  {
   "source": [
    "We can create an ONV and it's path in two differenbt ways."
   ],
   "cell_type": "markdown",
   "metadata": {}
  },
  {
   "cell_type": "code",
   "execution_count": 8,
   "metadata": {},
   "outputs": [],
   "source": [
    "# Create an ONV\n",
    "# The indices determine where the occupied orbitals should be: \"1\" in the bitstring\n",
    "onv = gqcpy.SpinUnresolvedONV.FromOccupiedIndices([0, 2, 3], 5)\n",
    "\n",
    "# from string is read right to left\n",
    "onv_2 = gqcpy.SpinUnresolvedONV.FromString(\"01101\")"
   ]
  },
  {
   "cell_type": "code",
   "execution_count": 9,
   "metadata": {},
   "outputs": [],
   "source": [
    "# Create the ONV path\n",
    "ONV_path = gqcpy.ONVPath_SpinUnresolved(onv_basis, onv)\n",
    "ONV_path_2 = gqcpy.ONVPath_SpinUnresolved(onv_basis, onv_2)"
   ]
  },
  {
   "source": [
    "Both of these commands create the exact same ONV and path. From here on out, we will continue with the one named `onv`. The ONV created looks as follows:\n",
    "![ONVPath_10110.png](../img/ONVPath_10110.png)"
   ],
   "cell_type": "markdown",
   "metadata": {}
  },
  {
   "source": [
    "We can get the address of this ONV very easily. The ONV drawn here should have address 2."
   ],
   "cell_type": "markdown",
   "metadata": {}
  },
  {
   "cell_type": "code",
   "execution_count": 10,
   "metadata": {},
   "outputs": [
    {
     "output_type": "execute_result",
     "data": {
      "text/plain": [
       "2"
      ]
     },
     "metadata": {},
     "execution_count": 10
    }
   ],
   "source": [
    "ONV_path.address()"
   ]
  },
  {
   "source": [
    "## One electron excitations"
   ],
   "cell_type": "markdown",
   "metadata": {}
  },
  {
   "source": [
    "We can perform certain actions on these ONV's as well. Let's do this step-by-step. \n",
    "The first step is to annihilate the electron on occupied index 0. This means we will annihilate the arc starting at the point (0, 0). This can be done with annihilate(0, 0) or annihilate(). The second function will always annihilate at the current position in the path."
   ],
   "cell_type": "markdown",
   "metadata": {}
  },
  {
   "source": [
    "ONV_path.annihilate()"
   ],
   "cell_type": "code",
   "metadata": {},
   "execution_count": 11,
   "outputs": []
  },
  {
   "source": [
    "Our new ONV looks like this:\n",
    "![ONVPath_00110_1.png](../img/ONVPath_00110_1.png)"
   ],
   "cell_type": "markdown",
   "metadata": {}
  },
  {
   "source": [
    "The weight of this arc was zero: our address should still be 2."
   ],
   "cell_type": "markdown",
   "metadata": {}
  },
  {
   "cell_type": "code",
   "execution_count": 12,
   "metadata": {},
   "outputs": [
    {
     "output_type": "execute_result",
     "data": {
      "text/plain": [
       "2"
      ]
     },
     "metadata": {},
     "execution_count": 12
    }
   ],
   "source": [
    "ONV_path.address()"
   ]
  },
  {
   "source": [
    "We will now look for the next index where we can create a new electron. We only look at the NEXT one, to make sure we don't create the electron we just removed."
   ],
   "cell_type": "markdown",
   "metadata": {}
  },
  {
   "cell_type": "code",
   "execution_count": 13,
   "metadata": {},
   "outputs": [
    {
     "output_type": "execute_result",
     "data": {
      "text/plain": [
       "1"
      ]
     },
     "metadata": {},
     "execution_count": 13
    }
   ],
   "source": [
    "ONV_path.orbitalIndex()"
   ]
  },
  {
   "source": [
    "Since the next index is 1, we can create a new arc starting from (1, 0)."
   ],
   "cell_type": "markdown",
   "metadata": {}
  },
  {
   "cell_type": "code",
   "execution_count": 14,
   "metadata": {},
   "outputs": [],
   "source": [
    "ONV_path.create(1, 0)"
   ]
  },
  {
   "source": [
    "Our new ONV looks like this:\n",
    "![ONVPath_01110.png](../img/ONVPath_01110.png)"
   ],
   "cell_type": "markdown",
   "metadata": {}
  },
  {
   "source": [],
   "cell_type": "markdown",
   "metadata": {}
  },
  {
   "source": [
    "The address of this ONV should be 3."
   ],
   "cell_type": "markdown",
   "metadata": {}
  },
  {
   "cell_type": "code",
   "execution_count": 16,
   "metadata": {},
   "outputs": [
    {
     "output_type": "execute_result",
     "data": {
      "text/plain": [
       "3"
      ]
     },
     "metadata": {},
     "execution_count": 16
    }
   ],
   "source": [
    "ONV_path.address()"
   ]
  },
  {
   "source": [
    "There is another option to create an electron however. To study this other option, we will first unde our latest creation operator. Let's also check the address to be sure. We should be back to 2."
   ],
   "cell_type": "markdown",
   "metadata": {}
  },
  {
   "cell_type": "code",
   "execution_count": 17,
   "metadata": {},
   "outputs": [],
   "source": [
    "ONV_path.annihilate(1, 0)"
   ]
  },
  {
   "cell_type": "code",
   "execution_count": 18,
   "metadata": {},
   "outputs": [
    {
     "output_type": "execute_result",
     "data": {
      "text/plain": [
       "2"
      ]
     },
     "metadata": {},
     "execution_count": 18
    }
   ],
   "source": [
    "ONV_path.address()"
   ]
  },
  {
   "source": [
    "After annihilating this electron, we can freely shif the vertical arc (representing the unoccupied orbital) to the left. This leads to:\n",
    "![ONVPath_00110_2.png](../img/ONVPath_00110_2.png)"
   ],
   "cell_type": "markdown",
   "metadata": {}
  },
  {
   "source": [
    "Let's once again check the next possible creation index."
   ],
   "cell_type": "markdown",
   "metadata": {}
  },
  {
   "cell_type": "code",
   "execution_count": 21,
   "metadata": {},
   "outputs": [
    {
     "output_type": "execute_result",
     "data": {
      "text/plain": [
       "2"
      ]
     },
     "metadata": {},
     "execution_count": 21
    }
   ],
   "source": [
    "ONV_path.orbitalIndex()"
   ]
  },
  {
   "source": [
    "This gives raise to a problem. As you can see in the figure, index 2 is a occupied orbital. This means we can't create an electron there. Luckily there is a solution for this. We can simply shift the diagonal arc to the left."
   ],
   "cell_type": "markdown",
   "metadata": {}
  },
  {
   "cell_type": "code",
   "execution_count": 22,
   "metadata": {},
   "outputs": [
    {
     "output_type": "error",
     "ename": "AttributeError",
     "evalue": "'gqcpy.ONVPath_SpinUnresolved' object has no attribute 'leftTranslate'",
     "traceback": [
      "\u001b[0;31m---------------------------------------------------------------------------\u001b[0m",
      "\u001b[0;31mAttributeError\u001b[0m                            Traceback (most recent call last)",
      "\u001b[0;32m<ipython-input-22-b491d54a8332>\u001b[0m in \u001b[0;36m<module>\u001b[0;34m\u001b[0m\n\u001b[0;32m----> 1\u001b[0;31m \u001b[0mONV_path\u001b[0m\u001b[0;34m.\u001b[0m\u001b[0mleftTranslate\u001b[0m\u001b[0;34m(\u001b[0m\u001b[0;36m2\u001b[0m\u001b[0;34m,\u001b[0m \u001b[0;36m1\u001b[0m\u001b[0;34m)\u001b[0m\u001b[0;34m\u001b[0m\u001b[0;34m\u001b[0m\u001b[0m\n\u001b[0m",
      "\u001b[0;31mAttributeError\u001b[0m: 'gqcpy.ONVPath_SpinUnresolved' object has no attribute 'leftTranslate'"
     ]
    }
   ],
   "source": [
    "ONV_path.leftTranslate(2, 1)"
   ]
  },
  {
   "source": [
    "Because of the fermionic anti-commutation relation, the sign of the ONV flips each time an occupied orbital is encountered. It should now be -1. The address should be 3, as can be seen from the figure:\n",
    "![ONVPath_00110_3.png](../img/ONVPath_00110_3.png)"
   ],
   "cell_type": "markdown",
   "metadata": {}
  },
  {
   "cell_type": "code",
   "execution_count": 23,
   "metadata": {},
   "outputs": [
    {
     "output_type": "execute_result",
     "data": {
      "text/plain": [
       "2"
      ]
     },
     "metadata": {},
     "execution_count": 23
    }
   ],
   "source": [
    "ONV_path.address()"
   ]
  },
  {
   "cell_type": "code",
   "execution_count": 24,
   "metadata": {},
   "outputs": [
    {
     "output_type": "execute_result",
     "data": {
      "text/plain": [
       "1"
      ]
     },
     "metadata": {},
     "execution_count": 24
    }
   ],
   "source": [
    "ONV_path.sign()"
   ]
  },
  {
   "source": [
    "We can now repeat the previous process."
   ],
   "cell_type": "markdown",
   "metadata": {}
  },
  {
   "cell_type": "code",
   "execution_count": 25,
   "metadata": {},
   "outputs": [
    {
     "output_type": "execute_result",
     "data": {
      "text/plain": [
       "2"
      ]
     },
     "metadata": {},
     "execution_count": 25
    }
   ],
   "source": [
    "ONV_path.orbitalIndex()"
   ]
  },
  {
   "cell_type": "code",
   "execution_count": 26,
   "metadata": {},
   "outputs": [
    {
     "output_type": "error",
     "ename": "AttributeError",
     "evalue": "'gqcpy.ONVPath_SpinUnresolved' object has no attribute 'leftTranslate'",
     "traceback": [
      "\u001b[0;31m---------------------------------------------------------------------------\u001b[0m",
      "\u001b[0;31mAttributeError\u001b[0m                            Traceback (most recent call last)",
      "\u001b[0;32m<ipython-input-26-0c1b0a813ec2>\u001b[0m in \u001b[0;36m<module>\u001b[0;34m\u001b[0m\n\u001b[0;32m----> 1\u001b[0;31m \u001b[0mONV_path\u001b[0m\u001b[0;34m.\u001b[0m\u001b[0mleftTranslate\u001b[0m\u001b[0;34m(\u001b[0m\u001b[0;36m3\u001b[0m\u001b[0;34m,\u001b[0m \u001b[0;36m2\u001b[0m\u001b[0;34m)\u001b[0m\u001b[0;34m\u001b[0m\u001b[0;34m\u001b[0m\u001b[0m\n\u001b[0m",
      "\u001b[0;31mAttributeError\u001b[0m: 'gqcpy.ONVPath_SpinUnresolved' object has no attribute 'leftTranslate'"
     ]
    }
   ],
   "source": [
    "ONV_path.leftTranslate(3, 2)"
   ]
  },
  {
   "source": [
    "This should lead to this ONV, with now sign 1 and address 5.\n",
    "![ONVPath_00110_4.png](../img/ONVPath_00110_4.png)"
   ],
   "cell_type": "markdown",
   "metadata": {}
  },
  {
   "cell_type": "code",
   "execution_count": 27,
   "metadata": {},
   "outputs": [
    {
     "output_type": "execute_result",
     "data": {
      "text/plain": [
       "2"
      ]
     },
     "metadata": {},
     "execution_count": 27
    }
   ],
   "source": [
    "ONV_path.address()"
   ]
  },
  {
   "cell_type": "code",
   "execution_count": 28,
   "metadata": {},
   "outputs": [
    {
     "output_type": "execute_result",
     "data": {
      "text/plain": [
       "1"
      ]
     },
     "metadata": {},
     "execution_count": 28
    }
   ],
   "source": [
    "ONV_path.sign()"
   ]
  },
  {
   "source": [
    "Repeat the process again."
   ],
   "cell_type": "markdown",
   "metadata": {}
  },
  {
   "cell_type": "code",
   "execution_count": 29,
   "metadata": {},
   "outputs": [
    {
     "output_type": "execute_result",
     "data": {
      "text/plain": [
       "2"
      ]
     },
     "metadata": {},
     "execution_count": 29
    }
   ],
   "source": [
    "ONV_path.orbitalIndex()"
   ]
  },
  {
   "source": [
    "The problem from the previous 2 iterations is no longer present, as index 4 contains an unoccupied orbital. We can thus simply create an electron."
   ],
   "cell_type": "markdown",
   "metadata": {}
  },
  {
   "cell_type": "code",
   "execution_count": 30,
   "metadata": {},
   "outputs": [],
   "source": [
    "ONV_path.create(4, 2)"
   ]
  },
  {
   "source": [
    "This leaves us with an ONV which should still have sign 1 and will now have address 9.\n",
    "![ONVPath_00111.png](../img/ONVPath_00111.png)"
   ],
   "cell_type": "markdown",
   "metadata": {}
  },
  {
   "cell_type": "code",
   "execution_count": 31,
   "metadata": {},
   "outputs": [
    {
     "output_type": "execute_result",
     "data": {
      "text/plain": [
       "6"
      ]
     },
     "metadata": {},
     "execution_count": 31
    }
   ],
   "source": [
    "ONV_path.address()"
   ]
  },
  {
   "cell_type": "code",
   "execution_count": null,
   "metadata": {},
   "outputs": [],
   "source": [
    "ONV_path.sign()"
   ]
  },
  {
   "source": [
    "## A slightly automated procedure"
   ],
   "cell_type": "markdown",
   "metadata": {}
  },
  {
   "source": [
    "We can simplify this procedure however. Let's start by making a new ONV path."
   ],
   "cell_type": "markdown",
   "metadata": {}
  },
  {
   "cell_type": "code",
   "execution_count": 32,
   "metadata": {},
   "outputs": [],
   "source": [
    "new_ONV_path = gqcpy.ONVPath_SpinUnresolved(onv_basis, onv)"
   ]
  },
  {
   "source": [
    "The first steps are identical as before."
   ],
   "cell_type": "markdown",
   "metadata": {}
  },
  {
   "cell_type": "code",
   "execution_count": 33,
   "metadata": {},
   "outputs": [],
   "source": [
    "new_ONV_path.annihilate()\n",
    "new_ONV_path.create(1, 0)\n",
    "new_ONV_path.annihilate(1,0)"
   ]
  },
  {
   "cell_type": "code",
   "execution_count": 34,
   "metadata": {},
   "outputs": [
    {
     "output_type": "execute_result",
     "data": {
      "text/plain": [
       "2"
      ]
     },
     "metadata": {},
     "execution_count": 34
    }
   ],
   "source": [
    "new_ONV_path.address()"
   ]
  },
  {
   "source": [
    "This leaves us with\n",
    "![ONVPath_00110_2.png](../img/ONVPath_00110_2.png)"
   ],
   "cell_type": "markdown",
   "metadata": {}
  },
  {
   "source": [
    "Now, let's automate the procedure of shifting towards the next unoccupied orbital."
   ],
   "cell_type": "markdown",
   "metadata": {}
  },
  {
   "cell_type": "code",
   "execution_count": 35,
   "metadata": {},
   "outputs": [
    {
     "output_type": "error",
     "ename": "AttributeError",
     "evalue": "'gqcpy.ONVPath_SpinUnresolved' object has no attribute 'leftTranslateUntilVertical'",
     "traceback": [
      "\u001b[0;31m---------------------------------------------------------------------------\u001b[0m",
      "\u001b[0;31mAttributeError\u001b[0m                            Traceback (most recent call last)",
      "\u001b[0;32m<ipython-input-35-22912bfb490a>\u001b[0m in \u001b[0;36m<module>\u001b[0;34m\u001b[0m\n\u001b[0;32m----> 1\u001b[0;31m \u001b[0mnew_ONV_path\u001b[0m\u001b[0;34m.\u001b[0m\u001b[0mleftTranslateUntilVertical\u001b[0m\u001b[0;34m(\u001b[0m\u001b[0;34m)\u001b[0m\u001b[0;34m\u001b[0m\u001b[0;34m\u001b[0m\u001b[0m\n\u001b[0m",
      "\u001b[0;31mAttributeError\u001b[0m: 'gqcpy.ONVPath_SpinUnresolved' object has no attribute 'leftTranslateUntilVertical'"
     ]
    }
   ],
   "source": [
    "new_ONV_path.leftTranslateUntilVertical()"
   ]
  },
  {
   "cell_type": "code",
   "execution_count": 36,
   "metadata": {},
   "outputs": [
    {
     "output_type": "execute_result",
     "data": {
      "text/plain": [
       "2"
      ]
     },
     "metadata": {},
     "execution_count": 36
    }
   ],
   "source": [
    "new_ONV_path.address()"
   ]
  },
  {
   "cell_type": "code",
   "execution_count": 37,
   "metadata": {},
   "outputs": [
    {
     "output_type": "execute_result",
     "data": {
      "text/plain": [
       "1"
      ]
     },
     "metadata": {},
     "execution_count": 37
    }
   ],
   "source": [
    "new_ONV_path.sign()"
   ]
  },
  {
   "source": [
    "The ONV with address 5 and sign 1 is exactly what we found previously:\n",
    "![ONVPath_00110_4.png](../img/ONVPath_00110_4.png)"
   ],
   "cell_type": "markdown",
   "metadata": {}
  },
  {
   "source": [
    "This means that creating at the current orbital, will result in the final ONV (address 9, sign 1)."
   ],
   "cell_type": "markdown",
   "metadata": {}
  },
  {
   "cell_type": "code",
   "execution_count": 39,
   "metadata": {},
   "outputs": [],
   "source": [
    "new_ONV_path.create(4, 2)"
   ]
  },
  {
   "cell_type": "code",
   "execution_count": 40,
   "metadata": {},
   "outputs": [
    {
     "output_type": "execute_result",
     "data": {
      "text/plain": [
       "6"
      ]
     },
     "metadata": {},
     "execution_count": 40
    }
   ],
   "source": [
    "new_ONV_path.address()"
   ]
  },
  {
   "cell_type": "code",
   "execution_count": 41,
   "metadata": {},
   "outputs": [
    {
     "output_type": "execute_result",
     "data": {
      "text/plain": [
       "1"
      ]
     },
     "metadata": {},
     "execution_count": 41
    }
   ],
   "source": [
    "new_ONV_path.sign()"
   ]
  },
  {
   "cell_type": "code",
   "execution_count": null,
   "metadata": {},
   "outputs": [],
   "source": [
    "Or visually:\n",
    "![ONVPath_00111.png](../img/ONVPath_00111.png)"
   ]
  }
 ]
}