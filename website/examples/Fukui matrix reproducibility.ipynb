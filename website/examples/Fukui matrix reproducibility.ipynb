{
 "cells": [
  {
   "cell_type": "code",
   "execution_count": 1,
   "metadata": {},
   "outputs": [],
   "source": [
    "# Force the local gqcpy to be imported\n",
    "import sys\n",
    "sys.path.insert(0, '../../build/gqcpy/')\n",
    "\n",
    "import os\n",
    "os.environ['KMP_DUPLICATE_LIB_OK']='True'\n",
    "\n",
    "import gqcpy\n",
    "import numpy as np\n",
    "import psi4"
   ]
  },
  {
   "cell_type": "code",
   "execution_count": 2,
   "metadata": {},
   "outputs": [
    {
     "data": {
      "text/plain": [
       "4000000000"
      ]
     },
     "execution_count": 2,
     "metadata": {},
     "output_type": "execute_result"
    }
   ],
   "source": [
    "psi4.set_memory(\"4 GB\")"
   ]
  },
  {
   "cell_type": "markdown",
   "metadata": {},
   "source": [
    "- Work in a spin-orbital basis: $\\alpha$ and $\\beta$ have separate Fukui matrices.\n",
    "-"
   ]
  },
  {
   "cell_type": "markdown",
   "metadata": {},
   "source": [
    "# Preliminary functions"
   ]
  },
  {
   "cell_type": "code",
   "execution_count": 3,
   "metadata": {},
   "outputs": [],
   "source": [
    "def dimensions(molecule):\n",
    "    \"\"\"\n",
    "    Return the dimensions (N, M) of a molecule in a given basis. Here, N is the number of electrons and M the number of spinors.\n",
    "    \"\"\"\n",
    "    N = molecule.numberOfElectrons()\n",
    "\n",
    "    spin_orbital_basis = gqcpy.USpinOrbitalBasis_d(molecule, \"STO-3G\")\n",
    "    M = spin_orbital_basis.numberOfSpinors()\n",
    "    \n",
    "    return (N, M)"
   ]
  },
  {
   "cell_type": "code",
   "execution_count": 4,
   "metadata": {},
   "outputs": [],
   "source": [
    "def onv_bases(N, K):\n",
    "    \"\"\"\n",
    "    Create three ONV bases: I for the (N-1) electron system, J for the N-electron system and K for the (N+1)-electron system.\n",
    "    \"\"\"\n",
    "\n",
    "    N_alpha = N//2 + 1 if N%2 else N//2\n",
    "    N_beta = N//2\n",
    "    \n",
    "    onv_basis_I = gqcpy.SpinResolvedONVBasis(K, N_alpha, N_beta - 1)  # number of spatial orbitals, number of alpha-electrons, number of beta-electrons\n",
    "    onv_basis_J = gqcpy.SpinResolvedONVBasis(K, N_alpha, N_beta)  # number of spatial orbitals, number of alpha-electrons, number of beta-electrons\n",
    "    onv_basis_K = gqcpy.SpinResolvedONVBasis(K, N_alpha + 1, N_beta)  # number of spatial orbitals, number of alpha-electrons, number of beta-electrons\n",
    "\n",
    "    return (onv_basis_I, onv_basis_J, onv_basis_K)"
   ]
  },
  {
   "cell_type": "code",
   "execution_count": 5,
   "metadata": {},
   "outputs": [],
   "source": [
    "def C_RHF(molecule):\n",
    "    \"\"\"\n",
    "    Generate restricted spinors, defined as the expansion coefficients in the scalar AO basis, from a restricted\n",
    "    Hartree-Fock calculation.\n",
    "    \"\"\"\n",
    "    N = molecule.numberOfElectrons()\n",
    "    N_P = molecule.numberOfElectronPairs()\n",
    "    \n",
    "    spin_orbital_basis = gqcpy.RSpinOrbitalBasis_d(molecule, \"STO-3G\")\n",
    "    K = spin_orbital_basis.numberOfSpatialOrbitals()\n",
    "    #print(\"N: {}\\nN_P: {}\\nK: {}\".format(N, N_P, K))\n",
    "\n",
    "    hamiltonian = gqcpy.RSQHamiltonian.Molecular(spin_orbital_basis, molecule)\n",
    "    S = spin_orbital_basis.quantizeOverlapOperator().parameters()\n",
    "\n",
    "    environment = gqcpy.RHFSCFEnvironment.WithCoreGuess(N, hamiltonian, S)\n",
    "    solver = gqcpy.RHFSCFSolver.Plain()\n",
    "    objective = gqcpy.DiagonalRHFFockMatrixObjective(hamiltonian)  # use the default threshold of 1.0e-08\n",
    "    rhf_parameters = gqcpy.RHF.optimize(objective, solver, environment).groundStateParameters()\n",
    "    \n",
    "    return rhf_parameters.expansion()"
   ]
  },
  {
   "cell_type": "code",
   "execution_count": 6,
   "metadata": {},
   "outputs": [],
   "source": [
    "def C_UHF(molecule):\n",
    "    \"\"\"\n",
    "    Generate unrestricted spin-orbitals, for each spin component defined as the expansion coefficients \n",
    "    in the scalar AO basis, from an unrestricted Hartree-Fock calculation.\n",
    "    \"\"\"\n",
    "    N = molecule.numberOfElectrons()\n",
    "    N_alpha = N//2 + 1 if N%2 else N//2\n",
    "    N_beta = N//2\n",
    "\n",
    "    spinor_basis = gqcpy.RSpinOrbitalBasis_d(molecule, \"STO-3G\")\n",
    "    K = spinor_basis.numberOfSpatialOrbitals()\n",
    "    #print(\"N_alpha: {}\\nN_beta: {}\\nK: {}\".format(N_alpha, N_beta, K))\n",
    "    \n",
    "    hamiltonian = gqcpy.RSQHamiltonian.Molecular(spinor_basis, molecule) \n",
    "    S = spinor_basis.quantizeOverlapOperator().parameters()\n",
    "    \n",
    "    environment = gqcpy.UHFSCFEnvironment.WithCoreGuess(N_alpha, N_beta, hamiltonian, S)\n",
    "    solver = gqcpy.UHFSCFSolver.Plain()\n",
    "    uhf_parameters = gqcpy.UHF.optimize(solver, environment).groundStateParameters()\n",
    "    return uhf_parameters.expansion()"
   ]
  },
  {
   "cell_type": "code",
   "execution_count": 7,
   "metadata": {},
   "outputs": [],
   "source": [
    "def optimize_geometry(molecule):\n",
    "    \"\"\"\n",
    "    Get optimized geometry of a given molecule using a B3LYP calculation with a 6-311++G(2d,2p) basis set. \n",
    "    This method uses Psi4 for its calculations.\n",
    "    \"\"\"\n",
    "    psi4.set_options({'reference': 'UKS',\n",
    "                     'basis': '6-311++G(2d,2p)'})\n",
    "\n",
    "    psi4.optimize('scf', molecule = molecule, dft_functional='b3lyp')\n",
    "    \n",
    "    return molecule"
   ]
  },
  {
   "cell_type": "code",
   "execution_count": 49,
   "metadata": {},
   "outputs": [],
   "source": [
    "def TM(C_ion, C_neutral):\n",
    "    \"\"\"\n",
    "    Return a transformation matrix that expresses a neutral spinor/spin-orbital in terms of the ones of the ionized molecule.\n",
    "    \"\"\"\n",
    "    return np.linalg.inv(C_ion) @ C_neutral"
   ]
  },
  {
   "cell_type": "code",
   "execution_count": 109,
   "metadata": {},
   "outputs": [],
   "source": [
    "def ROHF(molecule):\n",
    "    \n",
    "    psi4.set_options({'reference': 'rohf',\n",
    "                'basis': '6-311++G(2d,2p)',\n",
    "                's_orthogonalization': 'canonical',\n",
    "                 'scf_type': 'df'})\n",
    "    \n",
    "    # get wavefunction for the neutral compound\n",
    "    E_J, Psi_J = psi4.energy('scf', molecule = ch2nh, return_wfn = True)\n",
    "    \n",
    "    # get wavefunction for the positive ion\n",
    "    ch2nh.set_molecular_charge(+1)\n",
    "    ch2nh.set_multiplicity(2)\n",
    "    E_I, Psi_I = psi4.energy('scf', molecule = ch2nh, return_wfn = True)\n",
    "    \n",
    "    # Ca = Psi_J.Ca().to_array() # !!! uitzoeken of elektron altijd bij beta weggenomen wordt !!!\n",
    "    Cb_J = Psi_J.Cb().to_array()\n",
    "    Cb_I = Psi_I.Cb().to_array()\n",
    "    \n",
    "    #Da = Ca.T @ Psi_J.Da().to_array() @ Ca.conj() # alpha density matrix in terms of MOs\n",
    "    Db_J = np.linalg.inv(Cb_J.conj()) @ Psi_J.Db().to_array() @ np.linalg.inv(Cb_J.T) # beta density matrix of Psi_J in terms of its MOs\n",
    "    \n",
    "    Db_I = np.linalg.inv(Cb_I.conj()) @ Psi_I.Db().to_array() @ np.linalg.inv(Cb_I.T) # beta density matrix of Psi_I in terms of its MOs\n",
    "    \n",
    "    Ub_IJ = TM(Cb_I, Cb_J)\n",
    "    \n",
    "    Fb = Db_J - Ub_IJ.T @ Db_I @ Ub_IJ.conj()\n",
    "    \n",
    "    F_eigenvalues, F_naturals = np.linalg.eigh(Fb)\n",
    "    \n",
    "    return (F_eigenvalues, F_naturals)"
   ]
  },
  {
   "cell_type": "markdown",
   "metadata": {},
   "source": [
    "$$\\require{mhchem}$$       \n",
    "\n",
    "## $\\ce{CH_2NH}$"
   ]
  },
  {
   "cell_type": "code",
   "execution_count": 74,
   "metadata": {},
   "outputs": [],
   "source": [
    "name = \"ch2h\"\n",
    "\n",
    "ch2nh = psi4.geometry(\n",
    "\"\"\"\n",
    "symmetry c1                 # do not assume any symmetry to avoid different irreducible representations\n",
    "\n",
    "0 1                         # neutral singlet\n",
    "\n",
    "C 0.0580 0.5852 0.0000\n",
    "N 0.0580 -0.6875 0.0000\n",
    "H -0.8313 1.2172 0.0000\n",
    "H 1.0094 1.1151 0.0000\n",
    "H -0.9323 -1.0310 0.0000\n",
    "\"\"\"\n",
    ")"
   ]
  },
  {
   "cell_type": "code",
   "execution_count": 75,
   "metadata": {},
   "outputs": [
    {
     "name": "stdout",
     "output_type": "stream",
     "text": [
      "Optimizer: Optimization complete!\n"
     ]
    },
    {
     "data": {
      "text/plain": [
       "<psi4.core.Molecule at 0x7fbfc8ed11d0>"
      ]
     },
     "execution_count": 75,
     "metadata": {},
     "output_type": "execute_result"
    }
   ],
   "source": [
    "optimize_geometry(ch2nh)"
   ]
  },
  {
   "cell_type": "code",
   "execution_count": 76,
   "metadata": {},
   "outputs": [],
   "source": [
    "psi4.set_options({'reference': 'rohf',\n",
    "                'basis': '6-311++G(2d,2p)',\n",
    "                's_orthogonalization': 'canonical',\n",
    "                 'scf_type': 'df'})\n",
    "\n",
    "energy, wfn = psi4.energy('scf', molecule = ch2nh, return_wfn = True)"
   ]
  },
  {
   "cell_type": "code",
   "execution_count": 77,
   "metadata": {},
   "outputs": [],
   "source": [
    "Ca = wfn.Ca().to_array()\n",
    "Cb = wfn.Cb().to_array()"
   ]
  },
  {
   "cell_type": "code",
   "execution_count": 78,
   "metadata": {},
   "outputs": [],
   "source": [
    "Da = wfn.Da().to_array()\n",
    "Db = wfn.Db().to_array()"
   ]
  },
  {
   "cell_type": "code",
   "execution_count": 79,
   "metadata": {},
   "outputs": [],
   "source": [
    "Da_MO = np.linalg.inv(Ca.conj()) @ Da @ np.linalg.inv(Ca.T)\n",
    "Db_MO = np.linalg.inv(Cb.conj()) @ Da @ np.linalg.inv(Cb.T)"
   ]
  },
  {
   "cell_type": "code",
   "execution_count": 80,
   "metadata": {},
   "outputs": [],
   "source": [
    "ch2nh.set_molecular_charge(+1)\n",
    "ch2nh.set_multiplicity(2)"
   ]
  },
  {
   "cell_type": "code",
   "execution_count": 81,
   "metadata": {},
   "outputs": [
    {
     "name": "stdout",
     "output_type": "stream",
     "text": [
      "\n",
      "\n",
      "felez: [array([6., 7., 1., 1., 1.])]\n",
      "all_fc_known: True\n",
      "all_fm_known: True\n",
      "zel: 16.0\n",
      "fzel: [16.0]\n",
      "c: [1.0, 0]\n",
      "fc: [0.0]\n",
      "m: [2]\n",
      "fm: [1]\n",
      "Assess candidate (1.0, (0.0,), 2, (1,)): 1   2   3   4   4-0 5   5-0 6   6-0 7   7-0\n",
      "Assess candidate (1.0, (0.0,), 2, (1,)): T       T   T   T   T   T   T   T   T   T   --> False\n",
      "Assess candidate (0, (0.0,), 2, (1,)): T   T   T   T   T       T       T   T   T   --> False\n",
      "Following warning is harmless if you've altered chgmult through `set_molecular_change` or `set_multiplicity`. Such alterations are an expert feature. Specifying in the original molecule string is preferred.\n",
      "\n",
      "\n",
      "felez: [array([6., 7., 1., 1., 1.])]\n",
      "all_fc_known: True\n",
      "all_fm_known: True\n",
      "zel: 16.0\n",
      "fzel: [16.0]\n",
      "c: [1.0, 0]\n",
      "fc: [0.0]\n",
      "m: [2]\n",
      "fm: [1]\n",
      "Assess candidate (1.0, (0.0,), 2, (1,)): 1   2   3   4   4-0 5   5-0 6   6-0 7   7-0\n",
      "Assess candidate (1.0, (0.0,), 2, (1,)): T       T   T   T   T   T   T   T   T   T   --> False\n",
      "Assess candidate (0, (0.0,), 2, (1,)): T   T   T   T   T       T       T   T   T   --> False\n",
      "Following warning is harmless if you've altered chgmult through `set_molecular_change` or `set_multiplicity`. Such alterations are an expert feature. Specifying in the original molecule string is preferred.\n",
      "\n",
      "\n",
      "felez: [array([6., 7., 1., 1., 1.])]\n",
      "all_fc_known: True\n",
      "all_fm_known: True\n",
      "zel: 16.0\n",
      "fzel: [16.0]\n",
      "c: [1.0, 0]\n",
      "fc: [0.0]\n",
      "m: [2]\n",
      "fm: [1]\n",
      "Assess candidate (1.0, (0.0,), 2, (1,)): 1   2   3   4   4-0 5   5-0 6   6-0 7   7-0\n",
      "Assess candidate (1.0, (0.0,), 2, (1,)): T       T   T   T   T   T   T   T   T   T   --> False\n",
      "Assess candidate (0, (0.0,), 2, (1,)): T   T   T   T   T       T       T   T   T   --> False\n",
      "Following warning is harmless if you've altered chgmult through `set_molecular_change` or `set_multiplicity`. Such alterations are an expert feature. Specifying in the original molecule string is preferred.\n",
      "\n",
      "\n",
      "felez: [array([6., 7., 1., 1., 1.])]\n",
      "all_fc_known: True\n",
      "all_fm_known: True\n",
      "zel: 16.0\n",
      "fzel: [16.0]\n",
      "c: [1.0, 0]\n",
      "fc: [0.0]\n",
      "m: [2]\n",
      "fm: [1]\n",
      "Assess candidate (1.0, (0.0,), 2, (1,)): 1   2   3   4   4-0 5   5-0 6   6-0 7   7-0\n",
      "Assess candidate (1.0, (0.0,), 2, (1,)): T       T   T   T   T   T   T   T   T   T   --> False\n",
      "Assess candidate (0, (0.0,), 2, (1,)): T   T   T   T   T       T       T   T   T   --> False\n",
      "Following warning is harmless if you've altered chgmult through `set_molecular_change` or `set_multiplicity`. Such alterations are an expert feature. Specifying in the original molecule string is preferred.\n",
      "\n",
      "\n",
      "felez: [array([6., 7., 1., 1., 1.])]\n",
      "all_fc_known: True\n",
      "all_fm_known: True\n",
      "zel: 16.0\n",
      "fzel: [16.0]\n",
      "c: [1.0, 0]\n",
      "fc: [0.0]\n",
      "m: [2]\n",
      "fm: [1]\n",
      "Assess candidate (1.0, (0.0,), 2, (1,)): 1   2   3   4   4-0 5   5-0 6   6-0 7   7-0\n",
      "Assess candidate (1.0, (0.0,), 2, (1,)): T       T   T   T   T   T   T   T   T   T   --> False\n",
      "Assess candidate (0, (0.0,), 2, (1,)): T   T   T   T   T       T       T   T   T   --> False\n",
      "Following warning is harmless if you've altered chgmult through `set_molecular_change` or `set_multiplicity`. Such alterations are an expert feature. Specifying in the original molecule string is preferred.\n"
     ]
    }
   ],
   "source": [
    "energy_pos, wfn_pos = psi4.energy('scf', molecule = ch2nh, return_wfn = True)"
   ]
  },
  {
   "cell_type": "code",
   "execution_count": 82,
   "metadata": {},
   "outputs": [],
   "source": [
    "Ca_pos = wfn_pos.Ca().to_array()\n",
    "Cb_pos = wfn_pos.Cb().to_array()"
   ]
  },
  {
   "cell_type": "code",
   "execution_count": 83,
   "metadata": {},
   "outputs": [],
   "source": [
    "Da_pos = wfn_pos.Da().to_array()\n",
    "Db_pos = wfn_pos.Db().to_array()"
   ]
  },
  {
   "cell_type": "code",
   "execution_count": 84,
   "metadata": {},
   "outputs": [],
   "source": [
    "Da_pos_MO = np.linalg.inv(Ca_pos.conj()) @ Da_pos @ np.linalg.inv(Ca_pos.T)\n",
    "Db_pos_MO = np.linalg.inv(Cb_pos.conj()) @ Db_pos @ np.linalg.inv(Cb_pos.T)"
   ]
  },
  {
   "cell_type": "code",
   "execution_count": 85,
   "metadata": {},
   "outputs": [],
   "source": [
    "Ua = np.linalg.inv(Ca_pos) @ Ca\n",
    "Ub = np.linalg.inv(Cb_pos) @ Cb"
   ]
  },
  {
   "cell_type": "code",
   "execution_count": 86,
   "metadata": {},
   "outputs": [],
   "source": [
    "Fa = Da_MO - np.linalg.inv(Ua.conj()) @ Da_pos_MO @ np.linalg.inv(Ua.T)\n",
    "Fb = Db_MO - np.linalg.inv(Ub.conj()) @ Db_pos_MO @ np.linalg.inv(Ub.T)"
   ]
  },
  {
   "cell_type": "code",
   "execution_count": 87,
   "metadata": {},
   "outputs": [],
   "source": [
    "eigenvalues, eigenvectors = np.linalg.eigh(Fb)"
   ]
  },
  {
   "cell_type": "code",
   "execution_count": 88,
   "metadata": {},
   "outputs": [
    {
     "data": {
      "text/plain": [
       "0.9999999999999997"
      ]
     },
     "execution_count": 88,
     "metadata": {},
     "output_type": "execute_result"
    }
   ],
   "source": [
    "eigenvalues.max()"
   ]
  },
  {
   "cell_type": "code",
   "execution_count": 89,
   "metadata": {},
   "outputs": [
    {
     "data": {
      "text/plain": [
       "-0.16094756691081244"
      ]
     },
     "execution_count": 89,
     "metadata": {},
     "output_type": "execute_result"
    }
   ],
   "source": [
    "eigenvalues.min()"
   ]
  },
  {
   "cell_type": "code",
   "execution_count": null,
   "metadata": {},
   "outputs": [],
   "source": []
  },
  {
   "cell_type": "code",
   "execution_count": null,
   "metadata": {},
   "outputs": [],
   "source": []
  },
  {
   "cell_type": "code",
   "execution_count": null,
   "metadata": {},
   "outputs": [],
   "source": []
  },
  {
   "cell_type": "markdown",
   "metadata": {},
   "source": [
    "$$\\require{mhchem}$$       \n",
    "\n",
    "## $\\ce{CH_2NH}$"
   ]
  },
  {
   "cell_type": "code",
   "execution_count": 124,
   "metadata": {},
   "outputs": [],
   "source": [
    "name = \"ch2h\"\n",
    "\n",
    "ch2nh = psi4.geometry(\n",
    "\"\"\"\n",
    "symmetry c1                 # do not assume any symmetry to avoid different irreducible representations\n",
    "\n",
    "0 1                         # neutral singlet\n",
    "\n",
    "C 0.0580 0.5852 0.0000\n",
    "N 0.0580 -0.6875 0.0000\n",
    "H -0.8313 1.2172 0.0000\n",
    "H 1.0094 1.1151 0.0000\n",
    "H -0.9323 -1.0310 0.0000\n",
    "\"\"\"\n",
    ")"
   ]
  },
  {
   "cell_type": "code",
   "execution_count": 125,
   "metadata": {},
   "outputs": [
    {
     "name": "stdout",
     "output_type": "stream",
     "text": [
      "Optimizer: Optimization complete!\n"
     ]
    },
    {
     "data": {
      "text/plain": [
       "<psi4.core.Molecule at 0x7fbf98c515f0>"
      ]
     },
     "execution_count": 125,
     "metadata": {},
     "output_type": "execute_result"
    }
   ],
   "source": [
    "optimize_geometry(ch2nh)"
   ]
  },
  {
   "cell_type": "code",
   "execution_count": 126,
   "metadata": {},
   "outputs": [],
   "source": [
    "%%capture\n",
    "# to suppress the output of Psi4\n",
    "\n",
    "F_eigenvalues, _ = ROHF(ch2nh)"
   ]
  },
  {
   "cell_type": "code",
   "execution_count": 127,
   "metadata": {},
   "outputs": [
    {
     "data": {
      "text/plain": [
       "0.9999999999999992"
      ]
     },
     "execution_count": 127,
     "metadata": {},
     "output_type": "execute_result"
    }
   ],
   "source": [
    "F_eigenvalues.max()"
   ]
  },
  {
   "cell_type": "code",
   "execution_count": 128,
   "metadata": {},
   "outputs": [
    {
     "data": {
      "text/plain": [
       "-0.16094756691081144"
      ]
     },
     "execution_count": 128,
     "metadata": {},
     "output_type": "execute_result"
    }
   ],
   "source": [
    "F_eigenvalues.min()"
   ]
  },
  {
   "cell_type": "code",
   "execution_count": null,
   "metadata": {},
   "outputs": [],
   "source": []
  },
  {
   "cell_type": "code",
   "execution_count": null,
   "metadata": {},
   "outputs": [],
   "source": []
  }
 ],
 "metadata": {
  "kernelspec": {
   "display_name": "Python 3",
   "language": "python",
   "name": "python3"
  },
  "language_info": {
   "codemirror_mode": {
    "name": "ipython",
    "version": 3
   },
   "file_extension": ".py",
   "mimetype": "text/x-python",
   "name": "python",
   "nbconvert_exporter": "python",
   "pygments_lexer": "ipython3",
   "version": "3.7.9"
  }
 },
 "nbformat": 4,
 "nbformat_minor": 4
}
