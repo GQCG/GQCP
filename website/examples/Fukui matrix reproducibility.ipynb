{
 "cells": [
  {
   "cell_type": "code",
   "execution_count": 1,
   "metadata": {},
   "outputs": [],
   "source": [
    "# Force the local gqcpy to be imported\n",
    "import sys\n",
    "sys.path.insert(0, '../../build/gqcpy/')\n",
    "\n",
    "import os\n",
    "os.environ['KMP_DUPLICATE_LIB_OK']='True'\n",
    "\n",
    "import gqcpy\n",
    "import numpy as np\n",
    "import psi4"
   ]
  },
  {
   "cell_type": "code",
   "execution_count": 2,
   "metadata": {},
   "outputs": [
    {
     "data": {
      "text/plain": [
       "12000000000"
      ]
     },
     "execution_count": 2,
     "metadata": {},
     "output_type": "execute_result"
    }
   ],
   "source": [
    "psi4.set_memory(\"12 GB\")"
   ]
  },
  {
   "cell_type": "markdown",
   "metadata": {},
   "source": [
    "- Work in a spin-orbital basis: $\\alpha$ and $\\beta$ have separate Fukui matrices.\n",
    "-"
   ]
  },
  {
   "cell_type": "markdown",
   "metadata": {},
   "source": [
    "# Preliminary functions"
   ]
  },
  {
   "cell_type": "code",
   "execution_count": 3,
   "metadata": {},
   "outputs": [],
   "source": [
    "def dimensions(molecule):\n",
    "    \"\"\"\n",
    "    Return the dimensions (N, M) of a molecule in a given basis. Here, N is the number of electrons and M the number of spinors.\n",
    "    \"\"\"\n",
    "    N = molecule.numberOfElectrons()\n",
    "\n",
    "    spin_orbital_basis = gqcpy.USpinOrbitalBasis_d(molecule, \"STO-3G\")\n",
    "    M = spin_orbital_basis.numberOfSpinors()\n",
    "    \n",
    "    return (N, M)"
   ]
  },
  {
   "cell_type": "code",
   "execution_count": 4,
   "metadata": {},
   "outputs": [],
   "source": [
    "def onv_bases(N, K):\n",
    "    \"\"\"\n",
    "    Create three ONV bases: I for the (N-1) electron system, J for the N-electron system and K for the (N+1)-electron system.\n",
    "    \"\"\"\n",
    "\n",
    "    N_alpha = N//2 + 1 if N%2 else N//2\n",
    "    N_beta = N//2\n",
    "    \n",
    "    onv_basis_I = gqcpy.SpinResolvedONVBasis(K, N_alpha, N_beta - 1)  # number of spatial orbitals, number of alpha-electrons, number of beta-electrons\n",
    "    onv_basis_J = gqcpy.SpinResolvedONVBasis(K, N_alpha, N_beta)  # number of spatial orbitals, number of alpha-electrons, number of beta-electrons\n",
    "    onv_basis_K = gqcpy.SpinResolvedONVBasis(K, N_alpha + 1, N_beta)  # number of spatial orbitals, number of alpha-electrons, number of beta-electrons\n",
    "\n",
    "    return (onv_basis_I, onv_basis_J, onv_basis_K)"
   ]
  },
  {
   "cell_type": "code",
   "execution_count": 5,
   "metadata": {},
   "outputs": [],
   "source": [
    "def C_RHF(molecule):\n",
    "    \"\"\"\n",
    "    Generate restricted spinors, defined as the expansion coefficients in the scalar AO basis, from a restricted\n",
    "    Hartree-Fock calculation.\n",
    "    \"\"\"\n",
    "    N = molecule.numberOfElectrons()\n",
    "    N_P = molecule.numberOfElectronPairs()\n",
    "    \n",
    "    spin_orbital_basis = gqcpy.RSpinOrbitalBasis_d(molecule, \"STO-3G\")\n",
    "    K = spin_orbital_basis.numberOfSpatialOrbitals()\n",
    "    #print(\"N: {}\\nN_P: {}\\nK: {}\".format(N, N_P, K))\n",
    "\n",
    "    hamiltonian = gqcpy.RSQHamiltonian.Molecular(spin_orbital_basis, molecule)\n",
    "    S = spin_orbital_basis.quantizeOverlapOperator().parameters()\n",
    "\n",
    "    environment = gqcpy.RHFSCFEnvironment.WithCoreGuess(N, hamiltonian, S)\n",
    "    solver = gqcpy.RHFSCFSolver.Plain()\n",
    "    objective = gqcpy.DiagonalRHFFockMatrixObjective(hamiltonian)  # use the default threshold of 1.0e-08\n",
    "    rhf_parameters = gqcpy.RHF.optimize(objective, solver, environment).groundStateParameters()\n",
    "    \n",
    "    return rhf_parameters.expansion()"
   ]
  },
  {
   "cell_type": "code",
   "execution_count": 6,
   "metadata": {},
   "outputs": [],
   "source": [
    "def C_UHF(molecule):\n",
    "    \"\"\"\n",
    "    Generate unrestricted spin-orbitals, for each spin component defined as the expansion coefficients \n",
    "    in the scalar AO basis, from an unrestricted Hartree-Fock calculation.\n",
    "    \"\"\"\n",
    "    N = molecule.numberOfElectrons()\n",
    "    N_alpha = N//2 + 1 if N%2 else N//2\n",
    "    N_beta = N//2\n",
    "\n",
    "    spinor_basis = gqcpy.RSpinOrbitalBasis_d(molecule, \"STO-3G\")\n",
    "    K = spinor_basis.numberOfSpatialOrbitals()\n",
    "    #print(\"N_alpha: {}\\nN_beta: {}\\nK: {}\".format(N_alpha, N_beta, K))\n",
    "    \n",
    "    hamiltonian = gqcpy.RSQHamiltonian.Molecular(spinor_basis, molecule) \n",
    "    S = spinor_basis.quantizeOverlapOperator().parameters()\n",
    "    \n",
    "    environment = gqcpy.UHFSCFEnvironment.WithCoreGuess(N_alpha, N_beta, hamiltonian, S)\n",
    "    solver = gqcpy.UHFSCFSolver.Plain()\n",
    "    uhf_parameters = gqcpy.UHF.optimize(solver, environment).groundStateParameters()\n",
    "    return uhf_parameters.expansion()"
   ]
  },
  {
   "cell_type": "code",
   "execution_count": 7,
   "metadata": {},
   "outputs": [],
   "source": [
    "def optimize_geometry(molecule):\n",
    "    \"\"\"\n",
    "    Get optimized geometry of a given molecule using a B3LYP calculation with a 6-311++G(2d,2p) basis set. \n",
    "    This method uses Psi4 for its calculations.\n",
    "    \"\"\"\n",
    "    psi4.set_options({'reference': 'UKS',\n",
    "                     'basis': '6-311++G(2d,2p)'})\n",
    "\n",
    "    psi4.optimize('scf', molecule = molecule, dft_functional='b3lyp')\n",
    "    \n",
    "    return molecule"
   ]
  },
  {
   "cell_type": "code",
   "execution_count": 8,
   "metadata": {},
   "outputs": [],
   "source": [
    "def TM(C_ion, C_neutral):\n",
    "    \"\"\"\n",
    "    Return a transformation matrix that expresses a neutral spinor/spin-orbital in terms of the ones of the ionized molecule.\n",
    "    \"\"\"\n",
    "    return np.linalg.inv(C_ion) @ C_neutral"
   ]
  },
  {
   "cell_type": "code",
   "execution_count": 28,
   "metadata": {},
   "outputs": [],
   "source": [
    "def ROHF(molecule):\n",
    "    \n",
    "    psi4.set_options({'reference': 'rohf',\n",
    "                'basis': '6-311++G(2d,2p)',\n",
    "                's_orthogonalization': 'canonical',\n",
    "                 'scf_type': 'df'})\n",
    "    \n",
    "    # get wavefunction for the neutral compound\n",
    "    E_J, Psi_J = psi4.energy('scf', molecule = molecule, return_wfn = True)\n",
    "    \n",
    "    # get wavefunction for the positive ion\n",
    "    molecule.set_molecular_charge(molecule.molecular_charge() + 1)\n",
    "    molecule.set_multiplicity(2)\n",
    "    \n",
    "    # get wavefunction for the positive ion\n",
    "    E_I, Psi_I = psi4.energy('scf', molecule = molecule, return_wfn = True)\n",
    "    \n",
    "    # return molecule to its original state\n",
    "    molecule.set_molecular_charge(molecule.molecular_charge() - 1)\n",
    "    molecule.set_multiplicity(1)\n",
    "    \n",
    "    return (Psi_I, Psi_J)"
   ]
  },
  {
   "cell_type": "code",
   "execution_count": 10,
   "metadata": {},
   "outputs": [],
   "source": [
    "def FM_min(Psi_I, Psi_J):\n",
    "    \n",
    "    Cb_I = Psi_I.Cb().to_array()\n",
    "    Cb_J = Psi_J.Cb().to_array()\n",
    "    \n",
    "    Db_I = np.linalg.inv(Cb_I.conj()) @ Psi_I.Db().to_array() @ np.linalg.inv(Cb_I.T) # beta density matrix of Psi_I in terms of its MOs\n",
    "    Db_J = np.linalg.inv(Cb_J.conj()) @ Psi_J.Db().to_array() @ np.linalg.inv(Cb_J.T) # beta density matrix of Psi_J in terms of its MOs\n",
    "    \n",
    "    Ub_IJ = TM(Cb_I, Cb_J)\n",
    "    \n",
    "    Fb = Db_J - Ub_IJ.T @ Db_I @ Ub_IJ.conj()\n",
    "    \n",
    "    return Fb"
   ]
  },
  {
   "cell_type": "code",
   "execution_count": 11,
   "metadata": {},
   "outputs": [],
   "source": [
    "def fukui_analysis(molecule, QC_method):\n",
    "    \n",
    "    optimize_geometry(molecule)\n",
    "    \n",
    "    Psi_I, Psi_J = QC_method(molecule)\n",
    "    F_min = FM_min(Psi_I, Psi_J)\n",
    "    \n",
    "    return np.linalg.eigh(F_min)\n",
    "    \n",
    "    print(\"Fukui eigenvalue\\n------------------\\nmax: {}\\nmin: {}\".format(F_eigval.max(), F_eigval.min()))"
   ]
  },
  {
   "cell_type": "markdown",
   "metadata": {},
   "source": [
    "$$\\require{mhchem}$$       \n",
    "\n",
    "## $\\ce{CH_2NH}$"
   ]
  },
  {
   "cell_type": "code",
   "execution_count": null,
   "metadata": {},
   "outputs": [],
   "source": [
    "ch2nh = psi4.geometry(\n",
    "\"\"\"\n",
    "symmetry c1                 # do not assume any symmetry to avoid different irreducible representations\n",
    "\n",
    "0 1                         # neutral singlet\n",
    "\n",
    "C 0.0580 0.5852 0.0000\n",
    "N 0.0580 -0.6875 0.0000\n",
    "H -0.8313 1.2172 0.0000\n",
    "H 1.0094 1.1151 0.0000\n",
    "H -0.9323 -1.0310 0.0000\n",
    "\"\"\"\n",
    ")"
   ]
  },
  {
   "cell_type": "code",
   "execution_count": null,
   "metadata": {},
   "outputs": [],
   "source": [
    "%%capture\n",
    "# to suppress the output of Psi4\n",
    "\n",
    "F_eigval, F_naturals = fukui_analysis(ch2nh, ROHF)"
   ]
  },
  {
   "cell_type": "code",
   "execution_count": null,
   "metadata": {
    "scrolled": true
   },
   "outputs": [],
   "source": [
    "print(\"Fukui eigenvalue\\n------------------\\nmax: {}\\nmin: {}\".format(F_eigval.max(), F_eigval.min()))"
   ]
  },
  {
   "cell_type": "markdown",
   "metadata": {},
   "source": [
    "## $\\ce{CO_2}$"
   ]
  },
  {
   "cell_type": "code",
   "execution_count": null,
   "metadata": {},
   "outputs": [],
   "source": [
    "co2 = psi4.geometry(\n",
    "\"\"\"\n",
    "symmetry c1                 # do not assume any symmetry to avoid different irreducible representations\n",
    "\n",
    "0 1                         # neutral singlet\n",
    "\n",
    "C\t0.0000\t0.0000\t0.0000\n",
    "O2\t0.0000\t0.0000\t1.1879\n",
    "O3\t0.0000\t0.0000\t-1.1879\n",
    "\"\"\"\n",
    ")"
   ]
  },
  {
   "cell_type": "code",
   "execution_count": null,
   "metadata": {},
   "outputs": [],
   "source": [
    "%%capture\n",
    "# to suppress the output of Psi4\n",
    "\n",
    "F_eigval, F_naturals = fukui_analysis(co2, ROHF)"
   ]
  },
  {
   "cell_type": "code",
   "execution_count": null,
   "metadata": {
    "scrolled": true
   },
   "outputs": [],
   "source": [
    "print(\"Fukui eigenvalue\\n------------------\\nmax: {}\\nmin: {}\".format(F_eigval.max(), F_eigval.min()))"
   ]
  },
  {
   "cell_type": "markdown",
   "metadata": {},
   "source": [
    "## $\\ce{HCN}$"
   ]
  },
  {
   "cell_type": "code",
   "execution_count": null,
   "metadata": {},
   "outputs": [],
   "source": [
    "hcn = psi4.geometry(\n",
    "\"\"\"\n",
    "symmetry c1                 # do not assume any symmetry to avoid different irreducible representations\n",
    "\n",
    "0 1                         # neutral singlet\n",
    "\n",
    "C1\t0.0000\t0.0000\t-0.5001\n",
    "H2\t0.0000\t0.0000\t-1.5700\n",
    "N3\t0.0000\t0.0000\t0.6529\n",
    "\"\"\"\n",
    ")"
   ]
  },
  {
   "cell_type": "code",
   "execution_count": null,
   "metadata": {},
   "outputs": [],
   "source": [
    "%%capture\n",
    "# to suppress the output of Psi4\n",
    "\n",
    "F_eigval, F_naturals = fukui_analysis(hcn, ROHF)"
   ]
  },
  {
   "cell_type": "code",
   "execution_count": null,
   "metadata": {
    "scrolled": true
   },
   "outputs": [],
   "source": [
    "print(\"Fukui eigenvalue\\n------------------\\nmax: {}\\nmin: {}\".format(F_eigval.max(), F_eigval.min()))"
   ]
  },
  {
   "cell_type": "markdown",
   "metadata": {},
   "source": [
    "## $\\ce{N_2O}$"
   ]
  },
  {
   "cell_type": "code",
   "execution_count": null,
   "metadata": {},
   "outputs": [],
   "source": [
    "n2o = psi4.geometry(\n",
    "\"\"\"\n",
    "symmetry c1                 # do not assume any symmetry to avoid different irreducible representations\n",
    "\n",
    "0 1                         # neutral singlet\n",
    "\n",
    "N1\t0.0000\t0.0000\t-1.2509\n",
    "N2\t0.0000\t0.0000\t-0.0965\n",
    "O3\t0.0000\t0.0000\t1.1790\n",
    "\"\"\"\n",
    ")"
   ]
  },
  {
   "cell_type": "code",
   "execution_count": null,
   "metadata": {},
   "outputs": [],
   "source": [
    "%%capture\n",
    "# to suppress the output of Psi4\n",
    "\n",
    "F_eigval, F_naturals = fukui_analysis(n2o, ROHF)"
   ]
  },
  {
   "cell_type": "code",
   "execution_count": null,
   "metadata": {
    "scrolled": true
   },
   "outputs": [],
   "source": [
    "print(\"Fukui eigenvalue\\n------------------\\nmax: {}\\nmin: {}\".format(F_eigval.max(), F_eigval.min()))"
   ]
  },
  {
   "cell_type": "markdown",
   "metadata": {},
   "source": [
    "## $\\ce{CO}$"
   ]
  },
  {
   "cell_type": "code",
   "execution_count": null,
   "metadata": {},
   "outputs": [],
   "source": [
    "co = psi4.geometry(\n",
    "\"\"\"\n",
    "symmetry c1                 # do not assume any symmetry to avoid different irreducible representations\n",
    "\n",
    "0 1                         # neutral singlet\n",
    "\n",
    "C1\t0.0000\t0.0000\t-0.6546\n",
    "O2\t0.0000\t0.0000\t0.4909\n",
    "\"\"\"\n",
    ")"
   ]
  },
  {
   "cell_type": "code",
   "execution_count": null,
   "metadata": {},
   "outputs": [],
   "source": [
    "%%capture\n",
    "# to suppress the output of Psi4\n",
    "\n",
    "F_eigval, F_naturals = fukui_analysis(co, ROHF)"
   ]
  },
  {
   "cell_type": "code",
   "execution_count": null,
   "metadata": {
    "scrolled": true
   },
   "outputs": [],
   "source": [
    "print(\"Fukui eigenvalue\\n------------------\\nmax: {}\\nmin: {}\".format(F_eigval.max(), F_eigval.min()))"
   ]
  },
  {
   "cell_type": "markdown",
   "metadata": {},
   "source": [
    "## $\\ce{SO_2}$"
   ]
  },
  {
   "cell_type": "code",
   "execution_count": null,
   "metadata": {},
   "outputs": [],
   "source": [
    "so2 = psi4.geometry(\n",
    "\"\"\"\n",
    "symmetry c1                 # do not assume any symmetry to avoid different irreducible representations\n",
    "\n",
    "0 1                         # neutral singlet\n",
    "\n",
    "S1\t0.0000\t0.0000\t0.4689\n",
    "O2\t0.0000\t1.2450\t-0.4689\n",
    "O3\t0.0000\t-1.2450\t-0.4689\n",
    "\"\"\"\n",
    ")"
   ]
  },
  {
   "cell_type": "code",
   "execution_count": null,
   "metadata": {},
   "outputs": [],
   "source": [
    "%%capture\n",
    "# to suppress the output of Psi4\n",
    "\n",
    "F_eigval, F_naturals = fukui_analysis(so2, ROHF)"
   ]
  },
  {
   "cell_type": "code",
   "execution_count": null,
   "metadata": {
    "scrolled": true
   },
   "outputs": [],
   "source": [
    "print(\"Fukui eigenvalue\\n------------------\\nmax: {}\\nmin: {}\".format(F_eigval.max(), F_eigval.min()))"
   ]
  },
  {
   "cell_type": "markdown",
   "metadata": {},
   "source": [
    "## $\\ce{SO_3}$"
   ]
  },
  {
   "cell_type": "code",
   "execution_count": 12,
   "metadata": {},
   "outputs": [],
   "source": [
    "so3 = psi4.geometry(\n",
    "\"\"\"\n",
    "symmetry c1                 # do not assume any symmetry to avoid different irreducible representations\n",
    "\n",
    "0 1                         # neutral singlet\n",
    "\n",
    "S1\t0.0000\t0.0000\t0.0000\n",
    "O2\t0.0000\t1.5986\t0.0000\n",
    "O3\t1.3844\t-0.7993\t0.0000\n",
    "O4\t-1.3844\t-0.7993\t0.0000\n",
    "\"\"\"\n",
    ")"
   ]
  },
  {
   "cell_type": "code",
   "execution_count": 13,
   "metadata": {},
   "outputs": [],
   "source": [
    "%%capture\n",
    "# to suppress the output of Psi4\n",
    "\n",
    "F_eigval, F_naturals = fukui_analysis(so3, ROHF)"
   ]
  },
  {
   "cell_type": "code",
   "execution_count": 14,
   "metadata": {
    "scrolled": false
   },
   "outputs": [
    {
     "name": "stdout",
     "output_type": "stream",
     "text": [
      "Fukui eigenvalue\n",
      "------------------\n",
      "max: 0.9999999999999996\n",
      "min: -0.05217382326251893\n"
     ]
    }
   ],
   "source": [
    "print(\"Fukui eigenvalue\\n------------------\\nmax: {}\\nmin: {}\".format(F_eigval.max(), F_eigval.min()))"
   ]
  },
  {
   "cell_type": "markdown",
   "metadata": {},
   "source": [
    "## $\\ce{SCN-}$"
   ]
  },
  {
   "cell_type": "code",
   "execution_count": 29,
   "metadata": {},
   "outputs": [],
   "source": [
    "scn = psi4.geometry(\n",
    "\"\"\"\n",
    "symmetry c1                 # do not assume any symmetry to avoid different irreducible representations\n",
    "\n",
    "-1 1                         # negative singlet\n",
    "\n",
    "C1\t0.0000\t0.0000\t-0.6306\n",
    "S2\t0.0000\t0.0000\t1.0228\n",
    "N3\t0.0000\t0.0000\t-1.7972\n",
    "\"\"\"\n",
    ")"
   ]
  },
  {
   "cell_type": "code",
   "execution_count": 30,
   "metadata": {},
   "outputs": [],
   "source": [
    "%%capture\n",
    "# to suppress the output of Psi4\n",
    "\n",
    "F_eigval, F_naturals = fukui_analysis(scn, ROHF)"
   ]
  },
  {
   "cell_type": "code",
   "execution_count": 31,
   "metadata": {
    "scrolled": true
   },
   "outputs": [
    {
     "name": "stdout",
     "output_type": "stream",
     "text": [
      "Fukui eigenvalue\n",
      "------------------\n",
      "max: 1.0\n",
      "min: -0.09178094040006127\n"
     ]
    }
   ],
   "source": [
    "print(\"Fukui eigenvalue\\n------------------\\nmax: {}\\nmin: {}\".format(F_eigval.max(), F_eigval.min()))"
   ]
  },
  {
   "cell_type": "markdown",
   "metadata": {},
   "source": [
    "## $\\ce{NCO-}$"
   ]
  },
  {
   "cell_type": "code",
   "execution_count": 32,
   "metadata": {},
   "outputs": [],
   "source": [
    "nco = psi4.geometry(\n",
    "\"\"\"\n",
    "symmetry c1                 # do not assume any symmetry to avoid different irreducible representations\n",
    "\n",
    "-1 1                         # negative singlet\n",
    "\n",
    "N1\t0.0000\t0.0000\t-1.2640\n",
    "C2\t0.0000\t0.0000\t-0.0866\n",
    "O3\t0.0000\t0.0000\t1.1710\n",
    "\n",
    "\"\"\"\n",
    ")"
   ]
  },
  {
   "cell_type": "code",
   "execution_count": 33,
   "metadata": {},
   "outputs": [],
   "source": [
    "%%capture\n",
    "# to suppress the output of Psi4\n",
    "\n",
    "F_eigval, F_naturals = fukui_analysis(nco, ROHF)"
   ]
  },
  {
   "cell_type": "code",
   "execution_count": 34,
   "metadata": {
    "scrolled": true
   },
   "outputs": [
    {
     "name": "stdout",
     "output_type": "stream",
     "text": [
      "Fukui eigenvalue\n",
      "------------------\n",
      "max: 1.000000000000001\n",
      "min: -0.08428480956861677\n"
     ]
    }
   ],
   "source": [
    "print(\"Fukui eigenvalue\\n------------------\\nmax: {}\\nmin: {}\".format(F_eigval.max(), F_eigval.min()))"
   ]
  },
  {
   "cell_type": "markdown",
   "metadata": {},
   "source": [
    "## $\\ce{NO_2-}$"
   ]
  },
  {
   "cell_type": "code",
   "execution_count": 36,
   "metadata": {},
   "outputs": [],
   "source": [
    "no2 = psi4.geometry(\n",
    "\"\"\"\n",
    "symmetry c1                 # do not assume any symmetry to avoid different irreducible representations\n",
    "\n",
    "-1 1                         # negative singlet\n",
    "\n",
    "N1\t0.0000\t0.0000\t-1.2640\n",
    "C2\t0.0000\t0.0000\t-0.0866\n",
    "O3\t0.0000\t0.0000\t1.1710\n",
    "\n",
    "\"\"\"\n",
    ")"
   ]
  },
  {
   "cell_type": "code",
   "execution_count": 37,
   "metadata": {},
   "outputs": [],
   "source": [
    "%%capture\n",
    "# to suppress the output of Psi4\n",
    "\n",
    "F_eigval, F_naturals = fukui_analysis(no2, ROHF)"
   ]
  },
  {
   "cell_type": "code",
   "execution_count": 38,
   "metadata": {
    "scrolled": true
   },
   "outputs": [
    {
     "name": "stdout",
     "output_type": "stream",
     "text": [
      "Fukui eigenvalue\n",
      "------------------\n",
      "max: 1.000000000000001\n",
      "min: -0.08428480956861677\n"
     ]
    }
   ],
   "source": [
    "print(\"Fukui eigenvalue\\n------------------\\nmax: {}\\nmin: {}\".format(F_eigval.max(), F_eigval.min()))"
   ]
  },
  {
   "cell_type": "markdown",
   "metadata": {},
   "source": [
    "## $\\ce{HNO}$"
   ]
  },
  {
   "cell_type": "code",
   "execution_count": 44,
   "metadata": {},
   "outputs": [],
   "source": [
    "hno = psi4.geometry(\n",
    "\"\"\"\n",
    "symmetry c1                 # do not assume any symmetry to avoid different irreducible representations\n",
    "\n",
    "0 1                         # negative singlet\n",
    "\n",
    "H1\t-0.9669\t0.9227\t0.0000\n",
    "N2\t0.0645\t0.5951\t0.0000\n",
    "O3\t0.0645\t-0.6360\t0.0000\n",
    "\n",
    "\"\"\"\n",
    ")"
   ]
  },
  {
   "cell_type": "code",
   "execution_count": 45,
   "metadata": {},
   "outputs": [],
   "source": [
    "%%capture\n",
    "# to suppress the output of Psi4\n",
    "\n",
    "F_eigval, F_naturals = fukui_analysis(hno, ROHF)"
   ]
  },
  {
   "cell_type": "code",
   "execution_count": 46,
   "metadata": {
    "scrolled": true
   },
   "outputs": [
    {
     "name": "stdout",
     "output_type": "stream",
     "text": [
      "Fukui eigenvalue\n",
      "------------------\n",
      "max: 0.9999999999999996\n",
      "min: -0.1403010988846764\n"
     ]
    }
   ],
   "source": [
    "print(\"Fukui eigenvalue\\n------------------\\nmax: {}\\nmin: {}\".format(F_eigval.max(), F_eigval.min()))"
   ]
  },
  {
   "cell_type": "code",
   "execution_count": null,
   "metadata": {},
   "outputs": [],
   "source": []
  },
  {
   "cell_type": "code",
   "execution_count": null,
   "metadata": {},
   "outputs": [],
   "source": []
  },
  {
   "cell_type": "code",
   "execution_count": null,
   "metadata": {},
   "outputs": [],
   "source": []
  },
  {
   "cell_type": "code",
   "execution_count": null,
   "metadata": {},
   "outputs": [],
   "source": []
  },
  {
   "cell_type": "code",
   "execution_count": null,
   "metadata": {},
   "outputs": [],
   "source": []
  }
 ],
 "metadata": {
  "kernelspec": {
   "display_name": "Python 3",
   "language": "python",
   "name": "python3"
  },
  "language_info": {
   "codemirror_mode": {
    "name": "ipython",
    "version": 3
   },
   "file_extension": ".py",
   "mimetype": "text/x-python",
   "name": "python",
   "nbconvert_exporter": "python",
   "pygments_lexer": "ipython3",
   "version": "3.7.9"
  }
 },
 "nbformat": 4,
 "nbformat_minor": 4
}
