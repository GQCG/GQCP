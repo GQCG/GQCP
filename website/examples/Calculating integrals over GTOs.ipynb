{
 "cells": [
  {
   "cell_type": "markdown",
   "id": "tamil-anchor",
   "metadata": {},
   "source": [
    "# Calculating integrals over GTOs"
   ]
  },
  {
   "cell_type": "code",
   "execution_count": 1,
   "id": "looking-senegal",
   "metadata": {},
   "outputs": [],
   "source": [
    "# Force the local gqcpy to be imported\n",
    "import sys\n",
    "sys.path.insert(0, '../../build/gqcpy/')\n",
    "\n",
    "import gqcpy\n",
    "import numpy as np\n",
    "\n",
    "np.set_printoptions(precision=8, linewidth=120)"
   ]
  },
  {
   "cell_type": "markdown",
   "id": "scientific-chart",
   "metadata": {},
   "source": [
    "In this example, we'll go over the high- and low-level machinery that GQCP offers in order to calculate integrals over Cartesian GTOs. We assume that you're familiar with the mathematical concepts of a _scalar basis_, a _shell_, a _basis function_, and a _primitive_. If you're not, here's a very succinct overview:\n",
    "- Spin-orbitals are expanded in an underlying scalar basis.\n",
    "- In order to compactify scalar bases, we use shells that group primitives according to their angular momentum.\n",
    "- Therefore, in every shell, a _set_ of basis functions (of the same angular momentum) is implicitly defined.\n",
    "- Every basis function is defined as a contraction (i.e. a linear combination, where the coefficients are called _contraction coefficients_) of primitives.\n",
    "- Here, the primitives are Cartesian GTOs."
   ]
  },
  {
   "cell_type": "markdown",
   "id": "logical-shelter",
   "metadata": {},
   "source": [
    "We'll start off by setting up a small molecular system and a scalar basis. Since we don't want to manually read in a basis set, we'll use `RSpinOrbitalBasis`'s functionality to provide us with a scalar basis."
   ]
  },
  {
   "cell_type": "code",
   "execution_count": 2,
   "id": "sporting-employer",
   "metadata": {},
   "outputs": [],
   "source": [
    "nuclei = [gqcpy.Nucleus(1, 0.0, 0.0, 0.0), gqcpy.Nucleus(1, 0.0, 0.0, 1.0)]\n",
    "molecule = gqcpy.Molecule(nuclei)"
   ]
  },
  {
   "cell_type": "code",
   "execution_count": 3,
   "id": "demanding-picture",
   "metadata": {},
   "outputs": [],
   "source": [
    "spin_orbital_basis = gqcpy.RSpinOrbitalBasis_d(molecule, \"STO-3G\")\n",
    "scalar_basis = spin_orbital_basis.scalarBasis()\n",
    "shell_set = scalar_basis.shellSet()  # A shell set is just a collection of shells."
   ]
  },
  {
   "cell_type": "markdown",
   "id": "anticipated-trailer",
   "metadata": {},
   "source": [
    "## Primitive engines"
   ]
  },
  {
   "cell_type": "markdown",
   "id": "plastic-document",
   "metadata": {},
   "source": [
    "In GQCP, we define an _engine_ to be a computational object that is able to calculate integrals over _shells_, while a _primitive engine_ is defined to be a computational entity that can calculate integrals over _primitives_. \n",
    "\n",
    "In this example, we're taking the expansion of contracted GTOs in terms of their primitives for granted (using the implementations provided by the combination of `FunctionalOneElectronIntegralEngine` and `IntegralCalculator`), and we'll be focusing on calculating integrals over _primitives_."
   ]
  },
  {
   "cell_type": "markdown",
   "id": "basic-piano",
   "metadata": {},
   "source": [
    "## Overlap integrals"
   ]
  },
  {
   "cell_type": "markdown",
   "id": "unlikely-redhead",
   "metadata": {},
   "source": [
    "Let's get straight into it. Using the McMurchie-Davidson integral scheme, we can calculate the overlap integral over two primitives as follows."
   ]
  },
  {
   "cell_type": "code",
   "execution_count": 4,
   "id": "treated-adult",
   "metadata": {},
   "outputs": [],
   "source": [
    "def overlap_function_1D(a, K, i, b, L, j):\n",
    "    \n",
    "    # Negative Cartesian exponents should be ignored: the correct value for the corresponding integral is 0.\n",
    "    if (i < 0) or (j < 0):\n",
    "        return 0.0\n",
    "    \n",
    "    \n",
    "    # Use the McMurchie-Davidson recursion to calculate the overlap integral.\n",
    "    p = a + b\n",
    "    E = gqcpy.McMurchieDavidsonCoefficient(K, a, L, b)\n",
    "    \n",
    "    return np.power(np.pi / p, 0.5) * E(i, j, 0)"
   ]
  },
  {
   "cell_type": "code",
   "execution_count": 5,
   "id": "electronic-explosion",
   "metadata": {},
   "outputs": [],
   "source": [
    "def overlap_function(left, right):\n",
    "    \n",
    "    primitive_integral = 1.0\n",
    "    \n",
    "    # The overlap integral is separable in its three Cartesian components.\n",
    "    for direction in [gqcpy.CartesianDirection.x, gqcpy.CartesianDirection.y, gqcpy.CartesianDirection.z]:\n",
    "        i = left.cartesianExponents().value(direction)\n",
    "        j = right.cartesianExponents().value(direction)\n",
    "        \n",
    "        a = left.gaussianExponent()\n",
    "        b = right.gaussianExponent()\n",
    "\n",
    "        K = left.center()[direction]\n",
    "        L = right.center()[direction]\n",
    "\n",
    "        primitive_integral *= overlap_function_1D(a, K, i, b, L, j)\n",
    "\n",
    "    return primitive_integral"
   ]
  },
  {
   "cell_type": "markdown",
   "id": "authorized-airfare",
   "metadata": {},
   "source": [
    "We'll wrap this function in to a `FunctionalOneElectronPrimitiveIntegralEngine`, and then supply it as the primitive engine that should be used in a `FunctionalOneElectronIntegralEngine`. We're doing this in order to use GQCP's internal handling of the shells and contractions through the `IntegralCalculator.calculate` call."
   ]
  },
  {
   "cell_type": "code",
   "execution_count": 6,
   "id": "unable-logan",
   "metadata": {},
   "outputs": [],
   "source": [
    "primitive_overlap_engine = gqcpy.FunctionalOneElectronPrimitiveIntegralEngine_d(overlap_function)\n",
    "overlap_engine = gqcpy.FunctionalOneElectronIntegralEngine_d(primitive_overlap_engine)"
   ]
  },
  {
   "cell_type": "code",
   "execution_count": 7,
   "id": "diagnostic-washer",
   "metadata": {},
   "outputs": [
    {
     "name": "stdout",
     "output_type": "stream",
     "text": [
      "[[0.99999999 0.79658829]\n",
      " [0.79658829 0.99999999]]\n"
     ]
    }
   ],
   "source": [
    "S = gqcpy.IntegralCalculator.calculate(overlap_engine, shell_set, shell_set)\n",
    "print(S)"
   ]
  },
  {
   "cell_type": "markdown",
   "id": "national-platinum",
   "metadata": {},
   "source": [
    "We can verify our results by letting the spin-orbital basis quantize the overlap operator."
   ]
  },
  {
   "cell_type": "code",
   "execution_count": 8,
   "id": "guilty-experience",
   "metadata": {},
   "outputs": [
    {
     "name": "stdout",
     "output_type": "stream",
     "text": [
      "[[0.99999999 0.79658829]\n",
      " [0.79658829 0.99999999]]\n"
     ]
    }
   ],
   "source": [
    "S_ref = spin_orbital_basis.quantizeOverlapOperator().parameters()\n",
    "print(S_ref)"
   ]
  },
  {
   "cell_type": "markdown",
   "id": "streaming-barrier",
   "metadata": {},
   "source": [
    "## Kinetic integrals"
   ]
  },
  {
   "cell_type": "code",
   "execution_count": 9,
   "id": "sporting-audio",
   "metadata": {},
   "outputs": [],
   "source": [
    "def kinetic_function_1D(a, K, i, b, L, j):\n",
    "    \n",
    "    # The kinetic 1D integral is a sum of three 1D overlap integrals.\n",
    "    return -2.0 * np.power(b, 2) * overlap_function_1D(a, K, i, b, L, j + 2) + \\\n",
    "           b * (2 * j + 1) * overlap_function_1D(a, K, i, b, L, j) - \\\n",
    "           0.5 * j * (j - 1) * overlap_function_1D(a, K, i, b, L, j - 2)"
   ]
  },
  {
   "cell_type": "code",
   "execution_count": 10,
   "id": "thick-scene",
   "metadata": {},
   "outputs": [],
   "source": [
    "def kinetic_function(left, right):\n",
    "    \n",
    "    # Prepare some variables\n",
    "    i = left.cartesianExponents().value(gqcpy.CartesianDirection.x)\n",
    "    k = left.cartesianExponents().value(gqcpy.CartesianDirection.y)\n",
    "    m = left.cartesianExponents().value(gqcpy.CartesianDirection.z)\n",
    "    \n",
    "    j = right.cartesianExponents().value(gqcpy.CartesianDirection.x)\n",
    "    l = right.cartesianExponents().value(gqcpy.CartesianDirection.y)\n",
    "    n = right.cartesianExponents().value(gqcpy.CartesianDirection.z)\n",
    "    \n",
    "    a = left.gaussianExponent()\n",
    "    b = right.gaussianExponent()\n",
    "\n",
    "    K_x = left.center()[gqcpy.CartesianDirection.x]\n",
    "    K_y = left.center()[gqcpy.CartesianDirection.y]\n",
    "    K_z = left.center()[gqcpy.CartesianDirection.z]\n",
    "    \n",
    "    L_x = right.center()[gqcpy.CartesianDirection.x]\n",
    "    L_y = right.center()[gqcpy.CartesianDirection.y]\n",
    "    L_z = right.center()[gqcpy.CartesianDirection.z]\n",
    "    \n",
    "    \n",
    "    # The 3D kinetic energy integral is a sum of three contributions (dx^2, dy^2, dz^2).\n",
    "    return kinetic_function_1D(a, K_x, i, b, L_x, j) * \\\n",
    "               overlap_function_1D(a, K_y, k, b, L_y, l) * \\\n",
    "               overlap_function_1D(a, K_z, m, b, L_z, n) + \\\n",
    "           overlap_function_1D(a, K_x, i, b, L_x, j) * \\\n",
    "               kinetic_function_1D(a, K_y, k, b, L_y, l) * \\\n",
    "               overlap_function_1D(a, K_z, m, b, L_z, n) + \\\n",
    "           overlap_function_1D(a, K_x, i, b, L_x, j) * \\\n",
    "               overlap_function_1D(a, K_y, k, b, L_y, l) * \\\n",
    "               kinetic_function_1D(a, K_z, m, b, L_z, n);"
   ]
  },
  {
   "cell_type": "markdown",
   "id": "convertible-brighton",
   "metadata": {},
   "source": [
    "Same thing for the kinetic integrals. We wrap the `kinetic_function` in a functional primitive engine and proceed analoguously."
   ]
  },
  {
   "cell_type": "code",
   "execution_count": 11,
   "id": "painted-carry",
   "metadata": {},
   "outputs": [],
   "source": [
    "primitive_kinetic_engine = gqcpy.FunctionalOneElectronPrimitiveIntegralEngine_d(kinetic_function)\n",
    "kinetic_engine = gqcpy.FunctionalOneElectronIntegralEngine_d(primitive_kinetic_engine)"
   ]
  },
  {
   "cell_type": "code",
   "execution_count": 12,
   "id": "sonic-execution",
   "metadata": {},
   "outputs": [
    {
     "name": "stdout",
     "output_type": "stream",
     "text": [
      "[[0.76003188 0.38325367]\n",
      " [0.38325367 0.76003188]]\n"
     ]
    }
   ],
   "source": [
    "T = gqcpy.IntegralCalculator.calculate(kinetic_engine, shell_set, shell_set)\n",
    "print(T)"
   ]
  },
  {
   "cell_type": "markdown",
   "id": "utility-effort",
   "metadata": {},
   "source": [
    "As a comparison, here are the GQCP integrals."
   ]
  },
  {
   "cell_type": "code",
   "execution_count": 13,
   "id": "accomplished-folks",
   "metadata": {},
   "outputs": [
    {
     "name": "stdout",
     "output_type": "stream",
     "text": [
      "[[0.76003188 0.38325367]\n",
      " [0.38325367 0.76003188]]\n"
     ]
    }
   ],
   "source": [
    "T_ref = spin_orbital_basis.quantizeKineticOperator().parameters()\n",
    "print(T_ref)"
   ]
  },
  {
   "cell_type": "markdown",
   "id": "requested-adobe",
   "metadata": {},
   "source": [
    "## Nuclear attraction integrals"
   ]
  },
  {
   "cell_type": "markdown",
   "id": "tested-reggae",
   "metadata": {},
   "source": [
    "A point of caution here. The type of functions that `FunctionalOneElectronPrimitiveIntegralEngine_d` accepts only has two `CartesianGTO` arguments. However, the nuclear attraction function needs to know which nucleic contributions have to be calculated. Since this is just a tutorial/example, we have opted to declare `nuclei` as a global variable."
   ]
  },
  {
   "cell_type": "code",
   "execution_count": 14,
   "id": "enhanced-wednesday",
   "metadata": {},
   "outputs": [],
   "source": [
    "def nuclear_attraction_function(left, right):\n",
    "\n",
    "    # Prepare some variables.\n",
    "    i = left.cartesianExponents().value(gqcpy.CartesianDirection.x)\n",
    "    k = left.cartesianExponents().value(gqcpy.CartesianDirection.y)\n",
    "    m = left.cartesianExponents().value(gqcpy.CartesianDirection.z)\n",
    "    \n",
    "    j = right.cartesianExponents().value(gqcpy.CartesianDirection.x)\n",
    "    l = right.cartesianExponents().value(gqcpy.CartesianDirection.y)\n",
    "    n = right.cartesianExponents().value(gqcpy.CartesianDirection.z)\n",
    "\n",
    "    a = left.gaussianExponent()\n",
    "    b = right.gaussianExponent()\n",
    "\n",
    "    K_x = left.center()[gqcpy.CartesianDirection.x]\n",
    "    K_y = left.center()[gqcpy.CartesianDirection.y]\n",
    "    K_z = left.center()[gqcpy.CartesianDirection.z]\n",
    "    \n",
    "    L_x = right.center()[gqcpy.CartesianDirection.x]\n",
    "    L_y = right.center()[gqcpy.CartesianDirection.y]\n",
    "    L_z = right.center()[gqcpy.CartesianDirection.z]\n",
    "\n",
    "\n",
    "    # Prepare the McMurchie-Davidson coefficients.\n",
    "    E_x = gqcpy.McMurchieDavidsonCoefficient(K_x, a, L_x, b)\n",
    "    E_y = gqcpy.McMurchieDavidsonCoefficient(K_y, a, L_y, b)\n",
    "    E_z = gqcpy.McMurchieDavidsonCoefficient(K_z, a, L_z, b)\n",
    "\n",
    "    p = a + b;\n",
    "    P = np.array([E_x.centerOfMass(), E_y.centerOfMass(), E_z.centerOfMass()])\n",
    "\n",
    "\n",
    "    # Calculate the contributions from every nuclear center.\n",
    "    total_integral = 0.0\n",
    "\n",
    "    for nucleus in nuclei:\n",
    "        integral = 0.0\n",
    "\n",
    "        C = nucleus.position()\n",
    "        R = gqcpy.HermiteCoulombIntegral(p, P, C)\n",
    "\n",
    "        for t in range(0, i + j + 1):\n",
    "            for u in range(0, k + l + 1):\n",
    "                for v in range(0, m + n + 1):\n",
    "                    # Add the contribution to the integral. The prefactor will be applied at the end.\n",
    "                    integral += E_x(i, j, t) * E_y(k, l, u) * E_z(m, n, v) * R(0, t, u, v)\n",
    "\n",
    "        total_integral += (-nucleus.charge()) * integral\n",
    "\n",
    "    return 2 * np.pi / p * total_integral"
   ]
  },
  {
   "cell_type": "markdown",
   "id": "corporate-credits",
   "metadata": {},
   "source": [
    "You're getting the hang of this, right? Wrap the `nuclear_attraction_function` in the functional primitive engine and then provide that as input for the one-electron engine."
   ]
  },
  {
   "cell_type": "code",
   "execution_count": 15,
   "id": "adolescent-window",
   "metadata": {},
   "outputs": [],
   "source": [
    "primitive_nuclear_engine = gqcpy.FunctionalOneElectronPrimitiveIntegralEngine_d(nuclear_attraction_function)\n",
    "nuclear_engine = gqcpy.FunctionalOneElectronIntegralEngine_d(primitive_nuclear_engine)"
   ]
  },
  {
   "cell_type": "code",
   "execution_count": 16,
   "id": "prepared-lloyd",
   "metadata": {},
   "outputs": [
    {
     "name": "stdout",
     "output_type": "stream",
     "text": [
      "[[-2.03852055 -1.60241665]\n",
      " [-1.60241665 -2.03852055]]\n"
     ]
    }
   ],
   "source": [
    "V = gqcpy.IntegralCalculator.calculate(nuclear_engine, shell_set, shell_set)\n",
    "print(V)"
   ]
  },
  {
   "cell_type": "code",
   "execution_count": 17,
   "id": "drawn-warrior",
   "metadata": {},
   "outputs": [
    {
     "name": "stdout",
     "output_type": "stream",
     "text": [
      "[[-2.03852055 -1.60241665]\n",
      " [-1.60241665 -2.03852055]]\n"
     ]
    }
   ],
   "source": [
    "V_ref = spin_orbital_basis.quantizeNuclearAttractionOperator(molecule.nuclearFramework()).parameters()\n",
    "print(V_ref)"
   ]
  },
  {
   "cell_type": "markdown",
   "id": "formal-victoria",
   "metadata": {},
   "source": [
    "## Coulomb repulsion integrals"
   ]
  },
  {
   "cell_type": "markdown",
   "id": "prostate-compiler",
   "metadata": {},
   "source": [
    "The two-electron Coulomb repulsion integrals aren't very different. They just require a little more code since the integrals are calculated over four basis functions instead of the previous two."
   ]
  },
  {
   "cell_type": "code",
   "execution_count": 18,
   "id": "present-estate",
   "metadata": {},
   "outputs": [],
   "source": [
    "def coulomb_repulsion_function(left1, left2, right1, right2):\n",
    "\n",
    "    # Prepare some variables. Those with an extra underscore represent the 'primed' indices in the notes.\n",
    "    i = left1.cartesianExponents().value(gqcpy.CartesianDirection.x)\n",
    "    k = left1.cartesianExponents().value(gqcpy.CartesianDirection.y)\n",
    "    m = left1.cartesianExponents().value(gqcpy.CartesianDirection.z)\n",
    "    \n",
    "    j = left2.cartesianExponents().value(gqcpy.CartesianDirection.x)\n",
    "    l = left2.cartesianExponents().value(gqcpy.CartesianDirection.y)\n",
    "    n = left2.cartesianExponents().value(gqcpy.CartesianDirection.z)\n",
    "\n",
    "    i_ = right1.cartesianExponents().value(gqcpy.CartesianDirection.x)\n",
    "    k_ = right1.cartesianExponents().value(gqcpy.CartesianDirection.y)\n",
    "    m_ = right1.cartesianExponents().value(gqcpy.CartesianDirection.z)\n",
    "    \n",
    "    j_ = right2.cartesianExponents().value(gqcpy.CartesianDirection.x)\n",
    "    l_ = right2.cartesianExponents().value(gqcpy.CartesianDirection.y)\n",
    "    n_ = right2.cartesianExponents().value(gqcpy.CartesianDirection.z)\n",
    "\n",
    "    a = left1.gaussianExponent()\n",
    "    b = left2.gaussianExponent()\n",
    "    c = right1.gaussianExponent()\n",
    "    d = right2.gaussianExponent()\n",
    "\n",
    "    K_x = left1.center()[gqcpy.CartesianDirection.x]\n",
    "    K_y = left1.center()[gqcpy.CartesianDirection.y]\n",
    "    K_z = left1.center()[gqcpy.CartesianDirection.z]\n",
    "    \n",
    "    L_x = left2.center()[gqcpy.CartesianDirection.x]\n",
    "    L_y = left2.center()[gqcpy.CartesianDirection.y]\n",
    "    L_z = left2.center()[gqcpy.CartesianDirection.z]\n",
    "\n",
    "    M_x = right1.center()[gqcpy.CartesianDirection.x]\n",
    "    M_y = right1.center()[gqcpy.CartesianDirection.y]\n",
    "    M_z = right1.center()[gqcpy.CartesianDirection.z]\n",
    "    \n",
    "    N_x = right2.center()[gqcpy.CartesianDirection.x]\n",
    "    N_y = right2.center()[gqcpy.CartesianDirection.y]\n",
    "    N_z = right2.center()[gqcpy.CartesianDirection.z]\n",
    "\n",
    "\n",
    "    # Prepare the McMurchie-Davidson coefficients.\n",
    "    E_x = gqcpy.McMurchieDavidsonCoefficient(K_x, a, L_x, b)\n",
    "    E_y = gqcpy.McMurchieDavidsonCoefficient(K_y, a, L_y, b)\n",
    "    E_z = gqcpy.McMurchieDavidsonCoefficient(K_z, a, L_z, b)\n",
    "\n",
    "    E_x_ = gqcpy.McMurchieDavidsonCoefficient(M_x, c, N_x, d)\n",
    "    E_y_ = gqcpy.McMurchieDavidsonCoefficient(M_y, c, N_y, d)\n",
    "    E_z_ = gqcpy.McMurchieDavidsonCoefficient(M_z, c, N_z, d)\n",
    "\n",
    "\n",
    "    # Prepare the Hermite Coulomb integral.\n",
    "    p = a + b;\n",
    "    q = c + d;\n",
    "    alpha = p * q / (p + q);\n",
    "\n",
    "    P = np.array([E_x.centerOfMass(), E_y.centerOfMass(), E_z.centerOfMass()])\n",
    "    Q = np.array([E_x_.centerOfMass(), E_y_.centerOfMass(), E_z_.centerOfMass()])\n",
    "\n",
    "    R = gqcpy.HermiteCoulombIntegral(alpha, P, Q);\n",
    "\n",
    "\n",
    "    # Calculate the Coulomb repulsion integrals over the primitives.\n",
    "    integral = 0.0\n",
    "    for t in range(0, i + j + 1):\n",
    "        for u in range(0, k + l + 1):\n",
    "            for v in range(0, m + n + 1):\n",
    "                for tau in range(0, i_ + j_ + 1):\n",
    "                    for mu in range(0, k_ + l_ + 1):\n",
    "                        for nu in range(0, m_ + n_ + 1):\n",
    "                            # Add the contribution to the integral. The prefactor will be applied at the end.\n",
    "                            integral += E_x(i, j, t) * E_y(k, l, u) * E_z(m, n, v) * \\\n",
    "                                        E_x_(i_, j_, tau) * E_y_(k_, l_, mu) * E_z_(m_, n_, nu) * \\\n",
    "                                        np.power(-1, tau + mu + nu) * R(0, t + tau, u + mu, v + nu)\n",
    "\n",
    "    return 2 * np.power(np.pi, 2.5) / (p * q * np.sqrt(p + q)) * integral;"
   ]
  },
  {
   "cell_type": "markdown",
   "id": "rubber-denial",
   "metadata": {},
   "source": [
    "Instead of using a one-electron engine, we'll have to use a two-electron engine for the Coulomb repulsion integrals."
   ]
  },
  {
   "cell_type": "code",
   "execution_count": 19,
   "id": "powerful-permit",
   "metadata": {},
   "outputs": [],
   "source": [
    "primitive_coulomb_engine = gqcpy.FunctionalTwoElectronPrimitiveIntegralEngine_d(coulomb_repulsion_function)\n",
    "coulomb_engine = gqcpy.FunctionalTwoElectronIntegralEngine_d(primitive_coulomb_engine)"
   ]
  },
  {
   "cell_type": "code",
   "execution_count": 20,
   "id": "accomplished-dance",
   "metadata": {},
   "outputs": [
    {
     "name": "stdout",
     "output_type": "stream",
     "text": [
      "[[[[0.77460593 0.56886143]\n",
      "   [0.56886143 0.65017746]]\n",
      "\n",
      "  [[0.56886143 0.45590151]\n",
      "   [0.45590151 0.56886143]]]\n",
      "\n",
      "\n",
      " [[[0.56886143 0.45590151]\n",
      "   [0.45590151 0.56886143]]\n",
      "\n",
      "  [[0.65017746 0.56886143]\n",
      "   [0.56886143 0.77460593]]]]\n"
     ]
    }
   ],
   "source": [
    "g = gqcpy.IntegralCalculator.calculate(coulomb_engine, shell_set, shell_set)\n",
    "print(g)"
   ]
  },
  {
   "cell_type": "code",
   "execution_count": 21,
   "id": "outside-fishing",
   "metadata": {},
   "outputs": [
    {
     "name": "stdout",
     "output_type": "stream",
     "text": [
      "[[[[0.77460593 0.56886143]\n",
      "   [0.56886143 0.65017746]]\n",
      "\n",
      "  [[0.56886143 0.45590151]\n",
      "   [0.45590151 0.56886143]]]\n",
      "\n",
      "\n",
      " [[[0.56886143 0.45590151]\n",
      "   [0.45590151 0.56886143]]\n",
      "\n",
      "  [[0.65017746 0.56886143]\n",
      "   [0.56886143 0.77460593]]]]\n"
     ]
    }
   ],
   "source": [
    "g_ref = spin_orbital_basis.quantizeCoulombRepulsionOperator().parameters()\n",
    "print(g_ref)"
   ]
  },
  {
   "cell_type": "code",
   "execution_count": null,
   "id": "silent-luxury",
   "metadata": {},
   "outputs": [],
   "source": []
  }
 ],
 "metadata": {
  "kernelspec": {
   "display_name": "Python 3",
   "language": "python",
   "name": "python3"
  },
  "language_info": {
   "codemirror_mode": {
    "name": "ipython",
    "version": 3
   },
   "file_extension": ".py",
   "mimetype": "text/x-python",
   "name": "python",
   "nbconvert_exporter": "python",
   "pygments_lexer": "ipython3",
   "version": "3.8.5"
  }
 },
 "nbformat": 4,
 "nbformat_minor": 5
}
