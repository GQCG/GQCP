{
 "cells": [
  {
   "cell_type": "markdown",
   "id": "tamil-anchor",
   "metadata": {},
   "source": [
    "# Calculating integrals over GTOs"
   ]
  },
  {
   "cell_type": "code",
   "execution_count": 12,
   "id": "looking-senegal",
   "metadata": {},
   "outputs": [],
   "source": [
    "# Force the local gqcpy to be imported\n",
    "import sys\n",
    "sys.path.insert(0, '../../build/gqcpy/')\n",
    "\n",
    "import gqcpy\n",
    "import numpy as np\n",
    "\n",
    "np.set_printoptions(precision=8, linewidth=120)"
   ]
  },
  {
   "cell_type": "markdown",
   "id": "scientific-chart",
   "metadata": {},
   "source": [
    "In this example, we'll go over the high- and low-level machinery that GQCP offers in order to calculate integrals over Cartesian GTOs. We assume that you're familiar with the mathematical concepts of a _scalar basis_, a _shell_, a _basis function_, and a _primitive_. If you're not, here's a very succinct overview:\n",
    "- Spin-orbitals are expanded in an underlying scalar basis.\n",
    "- In order to compactify scalar bases, we use shells that group primitives according to their angular momentum.\n",
    "- Therefore, in every shell, a _set_ of basis functions (of the same angular momentum) is implicitly defined.\n",
    "- Every basis function is defined as a contraction (i.e. a linear combination, where the coefficients are called _contraction coefficients_) of primitives.\n",
    "- Here, the primitives are Cartesian GTOs."
   ]
  },
  {
   "cell_type": "markdown",
   "id": "logical-shelter",
   "metadata": {},
   "source": [
    "We'll start off by setting up a small molecular system and a scalar basis. Since we don't want to manually read in a basis set, we'll use `RSpinOrbitalBasis`'s functionality to provide us with a scalar basis."
   ]
  },
  {
   "cell_type": "code",
   "execution_count": 13,
   "id": "sporting-employer",
   "metadata": {},
   "outputs": [],
   "source": [
    "molecule = gqcpy.Molecule([\n",
    "    gqcpy.Nucleus(1, 0.0, 0.0, 0.0),\n",
    "    gqcpy.Nucleus(1, 0.0, 0.0, 1.0)\n",
    "])"
   ]
  },
  {
   "cell_type": "code",
   "execution_count": 14,
   "id": "demanding-picture",
   "metadata": {},
   "outputs": [],
   "source": [
    "spin_orbital_basis = gqcpy.RSpinOrbitalBasis_d(molecule, \"STO-3G\")\n",
    "scalar_basis = spin_orbital_basis.scalarBasis()\n",
    "shell_set = scalar_basis.shellSet()  # A shell set is just a collection of shells."
   ]
  },
  {
   "cell_type": "markdown",
   "id": "anticipated-trailer",
   "metadata": {},
   "source": [
    "## Primitive engines"
   ]
  },
  {
   "cell_type": "markdown",
   "id": "plastic-document",
   "metadata": {},
   "source": [
    "In GQCP, we define an _engine_ to be a computational object that is able to calculate integrals over _shells_, while a _primitive engine_ is defined to be a computational entity that can calculate integrals over _primitives_. \n",
    "\n",
    "In this example, we're taking the expansion of contracted GTOs in terms of their primitives for granted (using the implementations provided by the combination of `FunctionalOneElectronIntegralEngine` and `IntegralCalculator`), and we'll be focusing on calculating integrals over _primitives_."
   ]
  },
  {
   "cell_type": "markdown",
   "id": "basic-piano",
   "metadata": {},
   "source": [
    "## Overlap integrals"
   ]
  },
  {
   "cell_type": "markdown",
   "id": "unlikely-redhead",
   "metadata": {},
   "source": [
    "Let's get straight into it. Using the McMurchie-Davidson integral scheme, we can calculate the overlap integral over two primitives as follows."
   ]
  },
  {
   "cell_type": "code",
   "execution_count": 32,
   "id": "interior-timeline",
   "metadata": {},
   "outputs": [],
   "source": [
    "def overlap_function_1D(a, K, i, b, L, j):\n",
    "    \n",
    "    # Negative Cartesian exponents should be ignored: the correct value for the corresponding integral is 0.\n",
    "    if (i < 0) or (j < 0):\n",
    "        return 0.0\n",
    "    \n",
    "    \n",
    "    # Use the McMurchie-Davidson recursion to calculate the overlap integral.\n",
    "    p = a + b\n",
    "    E = gqcpy.McMurchieDavidsonCoefficient(K, a, L, b)\n",
    "    \n",
    "    return np.power(np.pi / p, 0.5) * E(i, j, 0)"
   ]
  },
  {
   "cell_type": "code",
   "execution_count": 33,
   "id": "electronic-explosion",
   "metadata": {},
   "outputs": [],
   "source": [
    "def overlap_function(left, right):\n",
    "    \n",
    "    primitive_integral = 1.0\n",
    "    \n",
    "    # The overlap integral is separable in its three Cartesian components.\n",
    "    for direction in [gqcpy.CartesianDirection.x, gqcpy.CartesianDirection.y, gqcpy.CartesianDirection.z]:\n",
    "        i = left.cartesianExponents().value(direction)\n",
    "        j = right.cartesianExponents().value(direction)\n",
    "        \n",
    "        a = left.gaussianExponent()\n",
    "        b = right.gaussianExponent()\n",
    "\n",
    "        K = left.center()[direction]\n",
    "        L = right.center()[direction]\n",
    "\n",
    "        primitive_integral *= overlap_function_1D(a, K, i, b, L, j)\n",
    "\n",
    "    return primitive_integral"
   ]
  },
  {
   "cell_type": "markdown",
   "id": "authorized-airfare",
   "metadata": {},
   "source": [
    "We'll wrap this function in to a `FunctionalPrimitiveEngine`, and then supply it as the primitive engine that should be used in a `FunctionalOneElectronIntegralEngine`. We're doing this in order to use GQCP's internal handling of the shells and contractions through the `IntegralCalculator.calculate` call."
   ]
  },
  {
   "cell_type": "code",
   "execution_count": 34,
   "id": "unable-logan",
   "metadata": {},
   "outputs": [],
   "source": [
    "primitive_overlap_engine = gqcpy.FunctionalPrimitiveIntegralEngine_d(overlap_function)\n",
    "overlap_engine = gqcpy.FunctionalOneElectronIntegralEngine_d(primitive_overlap_engine)"
   ]
  },
  {
   "cell_type": "code",
   "execution_count": 35,
   "id": "diagnostic-washer",
   "metadata": {},
   "outputs": [
    {
     "name": "stdout",
     "output_type": "stream",
     "text": [
      "[[0.99999999 0.79658829]\n",
      " [0.79658829 0.99999999]]\n"
     ]
    }
   ],
   "source": [
    "S = gqcpy.IntegralCalculator.calculate(overlap_engine, shell_set, shell_set)\n",
    "print(S)"
   ]
  },
  {
   "cell_type": "markdown",
   "id": "national-platinum",
   "metadata": {},
   "source": [
    "We can verify our results by letting the spin-orbital basis quantize the overlap operator."
   ]
  },
  {
   "cell_type": "code",
   "execution_count": 36,
   "id": "guilty-experience",
   "metadata": {},
   "outputs": [
    {
     "name": "stdout",
     "output_type": "stream",
     "text": [
      "[[0.99999999 0.79658829]\n",
      " [0.79658829 0.99999999]]\n"
     ]
    }
   ],
   "source": [
    "S_ref = spin_orbital_basis.quantizeOverlapOperator().parameters()\n",
    "print(S_ref)"
   ]
  },
  {
   "cell_type": "markdown",
   "id": "opened-talent",
   "metadata": {},
   "source": [
    "## Kinetic integrals"
   ]
  },
  {
   "cell_type": "code",
   "execution_count": 42,
   "id": "ignored-repair",
   "metadata": {},
   "outputs": [],
   "source": [
    "def kinetic_function_1D(a, K, i, b, L, j):\n",
    "    \n",
    "    # The kinetic 1D integral is a sum of three 1D overlap integrals.\n",
    "    return -2.0 * np.power(b, 2) * overlap_function_1D(a, K, i, b, L, j + 2) + \\\n",
    "           b * (2 * j + 1) * overlap_function_1D(a, K, i, b, L, j) - \\\n",
    "           0.5 * j * (j - 1) * overlap_function_1D(a, K, i, b, L, j - 2)"
   ]
  },
  {
   "cell_type": "code",
   "execution_count": 43,
   "id": "treated-increase",
   "metadata": {},
   "outputs": [],
   "source": [
    "def kinetic_function(left, right):\n",
    "    \n",
    "    # Prepare some variables\n",
    "    i = left.cartesianExponents().value(gqcpy.CartesianDirection.x)\n",
    "    k = left.cartesianExponents().value(gqcpy.CartesianDirection.y)\n",
    "    m = left.cartesianExponents().value(gqcpy.CartesianDirection.z)\n",
    "    \n",
    "    j = right.cartesianExponents().value(gqcpy.CartesianDirection.x)\n",
    "    l = right.cartesianExponents().value(gqcpy.CartesianDirection.y)\n",
    "    n = right.cartesianExponents().value(gqcpy.CartesianDirection.z)\n",
    "    \n",
    "    a = left.gaussianExponent()\n",
    "    b = right.gaussianExponent()\n",
    "\n",
    "    K_x = left.center()[gqcpy.CartesianDirection.x]\n",
    "    K_y = left.center()[gqcpy.CartesianDirection.y]\n",
    "    K_z = left.center()[gqcpy.CartesianDirection.z]\n",
    "    \n",
    "    L_x = right.center()[gqcpy.CartesianDirection.x]\n",
    "    L_y = right.center()[gqcpy.CartesianDirection.y]\n",
    "    L_z = right.center()[gqcpy.CartesianDirection.z]\n",
    "    \n",
    "    \n",
    "    # The 3D kinetic energy integral is a sum of three contributions (dx^2, dy^2, dz^2).\n",
    "    return kinetic_function_1D(a, K_x, i, b, L_x, j) * \\\n",
    "               overlap_function_1D(a, K_y, k, b, L_y, l) * \\\n",
    "               overlap_function_1D(a, K_z, m, b, L_z, n) + \\\n",
    "           overlap_function_1D(a, K_x, i, b, L_x, j) * \\\n",
    "               kinetic_function_1D(a, K_y, k, b, L_y, l) * \\\n",
    "               overlap_function_1D(a, K_z, m, b, L_z, n) + \\\n",
    "           overlap_function_1D(a, K_x, i, b, L_x, j) * \\\n",
    "               overlap_function_1D(a, K_y, k, b, L_y, l) * \\\n",
    "               kinetic_function_1D(a, K_z, m, b, L_z, n);"
   ]
  },
  {
   "cell_type": "markdown",
   "id": "imposed-removal",
   "metadata": {},
   "source": [
    "Same thing for the kinetic integrals. We wrap the `kinetic_function` in a functional primitive engine and proceed analoguously."
   ]
  },
  {
   "cell_type": "code",
   "execution_count": 44,
   "id": "constitutional-ground",
   "metadata": {},
   "outputs": [],
   "source": [
    "primitive_kinetic_engine = gqcpy.FunctionalPrimitiveIntegralEngine_d(kinetic_function)\n",
    "kinetic_engine = gqcpy.FunctionalOneElectronIntegralEngine_d(primitive_kinetic_engine)"
   ]
  },
  {
   "cell_type": "code",
   "execution_count": 45,
   "id": "proof-matter",
   "metadata": {},
   "outputs": [
    {
     "name": "stdout",
     "output_type": "stream",
     "text": [
      "[[0.76003188 0.38325367]\n",
      " [0.38325367 0.76003188]]\n"
     ]
    }
   ],
   "source": [
    "T = gqcpy.IntegralCalculator.calculate(kinetic_engine, shell_set, shell_set)\n",
    "print(T)"
   ]
  },
  {
   "cell_type": "markdown",
   "id": "expanded-figure",
   "metadata": {},
   "source": [
    "As a comparison, here are the GQCP integrals."
   ]
  },
  {
   "cell_type": "code",
   "execution_count": 46,
   "id": "baking-incentive",
   "metadata": {},
   "outputs": [
    {
     "name": "stdout",
     "output_type": "stream",
     "text": [
      "[[0.76003188 0.38325367]\n",
      " [0.38325367 0.76003188]]\n"
     ]
    }
   ],
   "source": [
    "T_ref = spin_orbital_basis.quantizeKineticOperator().parameters()\n",
    "print(T_ref)"
   ]
  },
  {
   "cell_type": "markdown",
   "id": "burning-penalty",
   "metadata": {},
   "source": [
    "## Nuclear attraction integrals"
   ]
  },
  {
   "cell_type": "code",
   "execution_count": null,
   "id": "increased-introduction",
   "metadata": {},
   "outputs": [],
   "source": [
    "def nuclear_attraction_function(left, right):"
   ]
  },
  {
   "cell_type": "markdown",
   "id": "closed-frost",
   "metadata": {},
   "source": [
    "## Coulomb repulsion integrals"
   ]
  },
  {
   "cell_type": "code",
   "execution_count": null,
   "id": "coral-birth",
   "metadata": {},
   "outputs": [],
   "source": [
    "def coulomb_repulsion_function(left, right):\n",
    "    "
   ]
  }
 ],
 "metadata": {
  "kernelspec": {
   "display_name": "Python 3",
   "language": "python",
   "name": "python3"
  },
  "language_info": {
   "codemirror_mode": {
    "name": "ipython",
    "version": 3
   },
   "file_extension": ".py",
   "mimetype": "text/x-python",
   "name": "python",
   "nbconvert_exporter": "python",
   "pygments_lexer": "ipython3",
   "version": "3.8.5"
  }
 },
 "nbformat": 4,
 "nbformat_minor": 5
}
