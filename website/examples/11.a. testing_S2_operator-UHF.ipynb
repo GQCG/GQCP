{
 "cells": [
  {
   "cell_type": "code",
   "execution_count": 1,
   "metadata": {},
   "outputs": [],
   "source": [
    "# Force the local gqcpy to be imported\n",
    "import sys\n",
    "sys.path.insert(0, '../../build/gqcpy/')\n",
    "\n",
    "import gqcpy\n",
    "import numpy as np\n",
    "\n",
    "from UHF import *\n",
    "\n",
    "np.set_printoptions(formatter={'float': lambda x: \"{0:0.3f}\".format(x)})\n"
   ]
  },
  {
   "attachments": {},
   "cell_type": "markdown",
   "metadata": {},
   "source": [
    "## Parameters"
   ]
  },
  {
   "cell_type": "code",
   "execution_count": 2,
   "metadata": {},
   "outputs": [],
   "source": [
    "basis = \"STO-3G\"\n",
    "N_H = 3\n",
    "N_a = 2\n",
    "N_b = 1"
   ]
  },
  {
   "cell_type": "code",
   "execution_count": 3,
   "metadata": {},
   "outputs": [],
   "source": [
    "mol = gqcpy.Molecule.HChain(N_H, 1.4, 0)"
   ]
  },
  {
   "cell_type": "code",
   "execution_count": 4,
   "metadata": {},
   "outputs": [
    {
     "name": "stdout",
     "output_type": "stream",
     "text": [
      "UHF energy:  -1.5095578776455065\n"
     ]
    }
   ],
   "source": [
    "_, HFpar = UHF(mol, N_a, N_b, basis)"
   ]
  },
  {
   "cell_type": "code",
   "execution_count": 5,
   "metadata": {},
   "outputs": [],
   "source": [
    "spinor_basis = gqcpy.USpinOrbitalBasis_d(mol, basis)"
   ]
  },
  {
   "attachments": {},
   "cell_type": "markdown",
   "metadata": {},
   "source": [
    "## Testing"
   ]
  },
  {
   "cell_type": "code",
   "execution_count": 6,
   "metadata": {},
   "outputs": [],
   "source": [
    "S_aa = spinor_basis.quantize(gqcpy.OverlapOperator()).alpha.parameters()\n",
    "S_bb = spinor_basis.quantize(gqcpy.OverlapOperator()).beta.parameters()"
   ]
  },
  {
   "cell_type": "code",
   "execution_count": 7,
   "metadata": {},
   "outputs": [],
   "source": [
    "Sp_a =  np.zeros_like(S_aa)\n",
    "Sp_b = S_aa"
   ]
  },
  {
   "cell_type": "code",
   "execution_count": 8,
   "metadata": {},
   "outputs": [],
   "source": [
    "Sm_a = S_bb\n",
    "Sm_b = np.zeros_like(S_aa)"
   ]
  },
  {
   "cell_type": "code",
   "execution_count": 9,
   "metadata": {},
   "outputs": [],
   "source": [
    "Spm_a = np.zeros_like(S_aa)\n",
    "Spm_b = S_aa"
   ]
  },
  {
   "cell_type": "code",
   "execution_count": 10,
   "metadata": {},
   "outputs": [],
   "source": [
    "Sz2_a = 0.25 * S_aa\n",
    "Sz2_b = 0.25 * S_bb"
   ]
  },
  {
   "cell_type": "code",
   "execution_count": 11,
   "metadata": {},
   "outputs": [],
   "source": [
    "Sz_a = spinor_basis.quantize(gqcpy.ElectronicSpin_zOperator()).alpha.parameters()\n",
    "Sz_b = spinor_basis.quantize(gqcpy.ElectronicSpin_zOperator()).beta.parameters()"
   ]
  },
  {
   "cell_type": "code",
   "execution_count": 12,
   "metadata": {},
   "outputs": [],
   "source": [
    "spin_a = Sz_a + Spm_a + Sz2_a\n",
    "spin_b = Sz_b + Spm_b + Sz2_b\n",
    "\n",
    "spin = gqcpy.ScalarUSQOneElectronOperator_d(gqcpy.ScalarUSQOneElectronOperatorComponent_d(spin_a), gqcpy.ScalarUSQOneElectronOperatorComponent_d(spin_b))\n",
    "Sz = gqcpy.ScalarUSQOneElectronOperator_d(gqcpy.ScalarUSQOneElectronOperatorComponent_d(Sz_a), gqcpy.ScalarUSQOneElectronOperatorComponent_d(Sz_b))\n"
   ]
  },
  {
   "cell_type": "code",
   "execution_count": 13,
   "metadata": {},
   "outputs": [],
   "source": [
    "correct = np.einsum('pr,qs->pqrs', S_aa, S_bb)"
   ]
  },
  {
   "cell_type": "code",
   "execution_count": 14,
   "metadata": {},
   "outputs": [
    {
     "ename": "TypeError",
     "evalue": "__init__(): incompatible constructor arguments. The following argument types are supported:\n    1. gqcpy.ScalarPureUSQTwoElectronOperatorComponent_d(array: Eigen::Tensor<double, 4, 0, long>)\n\nInvoked with: array([[[[0.000, 0.000, 0.000],\n         [0.000, 0.000, 0.000],\n         [0.000, 0.000, 0.000]],\n\n        [[0.000, 0.000, 0.000],\n         [0.000, 0.000, 0.000],\n         [0.000, 0.000, 0.000]],\n\n        [[0.000, 0.000, 0.000],\n         [0.000, 0.000, 0.000],\n         [0.000, 0.000, 0.000]]],\n\n\n       [[[0.000, 0.000, 0.000],\n         [0.000, 0.000, 0.000],\n         [0.000, 0.000, 0.000]],\n\n        [[0.000, 0.000, 0.000],\n         [0.000, 0.000, 0.000],\n         [0.000, 0.000, 0.000]],\n\n        [[0.000, 0.000, 0.000],\n         [0.000, 0.000, 0.000],\n         [0.000, 0.000, 0.000]]],\n\n\n       [[[0.000, 0.000, 0.000],\n         [0.000, 0.000, 0.000],\n         [0.000, 0.000, 0.000]],\n\n        [[0.000, 0.000, 0.000],\n         [0.000, 0.000, 0.000],\n         [0.000, 0.000, 0.000]],\n\n        [[0.000, 0.000, 0.000],\n         [0.000, 0.000, 0.000],\n         [0.000, 0.000, 0.000]]]])",
     "output_type": "error",
     "traceback": [
      "\u001b[0;31m---------------------------------------------------------------------------\u001b[0m",
      "\u001b[0;31mTypeError\u001b[0m                                 Traceback (most recent call last)",
      "\u001b[0;32m/tmp/ipykernel_25969/2946703532.py\u001b[0m in \u001b[0;36m<module>\u001b[0;34m\u001b[0m\n\u001b[1;32m      2\u001b[0m \u001b[0;31m# tensor_bb = gqcpy.ScalarPureUSQTwoElectronOperatorComponent_d(np.einsum('pq,rs->pqrs', Sz_b, Sz_a))\u001b[0m\u001b[0;34m\u001b[0m\u001b[0;34m\u001b[0m\u001b[0;34m\u001b[0m\u001b[0m\n\u001b[1;32m      3\u001b[0m \u001b[0;34m\u001b[0m\u001b[0m\n\u001b[0;32m----> 4\u001b[0;31m \u001b[0mtensor_aa\u001b[0m \u001b[0;34m=\u001b[0m \u001b[0mgqcpy\u001b[0m\u001b[0;34m.\u001b[0m\u001b[0mScalarPureUSQTwoElectronOperatorComponent_d\u001b[0m\u001b[0;34m(\u001b[0m\u001b[0mnp\u001b[0m\u001b[0;34m.\u001b[0m\u001b[0mzeros\u001b[0m\u001b[0;34m(\u001b[0m\u001b[0;34m(\u001b[0m\u001b[0mN_H\u001b[0m\u001b[0;34m,\u001b[0m \u001b[0mN_H\u001b[0m\u001b[0;34m,\u001b[0m \u001b[0mN_H\u001b[0m\u001b[0;34m,\u001b[0m \u001b[0mN_H\u001b[0m\u001b[0;34m)\u001b[0m\u001b[0;34m)\u001b[0m\u001b[0;34m)\u001b[0m\u001b[0;34m\u001b[0m\u001b[0;34m\u001b[0m\u001b[0m\n\u001b[0m\u001b[1;32m      5\u001b[0m \u001b[0mtensor_bb\u001b[0m \u001b[0;34m=\u001b[0m \u001b[0mgqcpy\u001b[0m\u001b[0;34m.\u001b[0m\u001b[0mScalarPureUSQTwoElectronOperatorComponent_d\u001b[0m\u001b[0;34m(\u001b[0m\u001b[0mnp\u001b[0m\u001b[0;34m.\u001b[0m\u001b[0mzeros\u001b[0m\u001b[0;34m(\u001b[0m\u001b[0;34m(\u001b[0m\u001b[0mN_H\u001b[0m\u001b[0;34m,\u001b[0m \u001b[0mN_H\u001b[0m\u001b[0;34m,\u001b[0m \u001b[0mN_H\u001b[0m\u001b[0;34m,\u001b[0m \u001b[0mN_H\u001b[0m\u001b[0;34m)\u001b[0m\u001b[0;34m)\u001b[0m\u001b[0;34m)\u001b[0m\u001b[0;34m\u001b[0m\u001b[0;34m\u001b[0m\u001b[0m\n\u001b[1;32m      6\u001b[0m \u001b[0;34m\u001b[0m\u001b[0m\n",
      "\u001b[0;31mTypeError\u001b[0m: __init__(): incompatible constructor arguments. The following argument types are supported:\n    1. gqcpy.ScalarPureUSQTwoElectronOperatorComponent_d(array: Eigen::Tensor<double, 4, 0, long>)\n\nInvoked with: array([[[[0.000, 0.000, 0.000],\n         [0.000, 0.000, 0.000],\n         [0.000, 0.000, 0.000]],\n\n        [[0.000, 0.000, 0.000],\n         [0.000, 0.000, 0.000],\n         [0.000, 0.000, 0.000]],\n\n        [[0.000, 0.000, 0.000],\n         [0.000, 0.000, 0.000],\n         [0.000, 0.000, 0.000]]],\n\n\n       [[[0.000, 0.000, 0.000],\n         [0.000, 0.000, 0.000],\n         [0.000, 0.000, 0.000]],\n\n        [[0.000, 0.000, 0.000],\n         [0.000, 0.000, 0.000],\n         [0.000, 0.000, 0.000]],\n\n        [[0.000, 0.000, 0.000],\n         [0.000, 0.000, 0.000],\n         [0.000, 0.000, 0.000]]],\n\n\n       [[[0.000, 0.000, 0.000],\n         [0.000, 0.000, 0.000],\n         [0.000, 0.000, 0.000]],\n\n        [[0.000, 0.000, 0.000],\n         [0.000, 0.000, 0.000],\n         [0.000, 0.000, 0.000]],\n\n        [[0.000, 0.000, 0.000],\n         [0.000, 0.000, 0.000],\n         [0.000, 0.000, 0.000]]]])"
     ]
    }
   ],
   "source": [
    "# tensor_aa = gqcpy.ScalarPureUSQTwoElectronOperatorComponent_d(np.einsum('pq,rs->pqrs', Sz_a, Sz_b))\n",
    "# tensor_bb = gqcpy.ScalarPureUSQTwoElectronOperatorComponent_d(np.einsum('pq,rs->pqrs', Sz_b, Sz_a))\n",
    "\n",
    "tensor_aa = gqcpy.ScalarPureUSQTwoElectronOperatorComponent_d(np.zeros((N_H, N_H, N_H, N_H)))\n",
    "tensor_bb = gqcpy.ScalarPureUSQTwoElectronOperatorComponent_d(np.zeros((N_H, N_H, N_H, N_H)))\n",
    "\n",
    "tensor_ab = gqcpy.ScalarMixedUSQTwoElectronOperatorComponent_d(-1 * correct)\n",
    "tensor_ba = gqcpy.ScalarMixedUSQTwoElectronOperatorComponent_d(-1 * np.einsum('pr,qs->pqrs', S_bb, S_aa))\n",
    "tensor = gqcpy.ScalarUSQTwoElectronOperator_d(tensor_aa, tensor_ab, tensor_ba, tensor_bb)"
   ]
  },
  {
   "cell_type": "code",
   "execution_count": null,
   "metadata": {},
   "outputs": [],
   "source": [
    "tensor.alphaBeta().parameters()"
   ]
  },
  {
   "cell_type": "code",
   "execution_count": null,
   "metadata": {},
   "outputs": [],
   "source": [
    "correct = np.einsum('pr,qs->pqrs', S_aa, S_bb)"
   ]
  },
  {
   "cell_type": "code",
   "execution_count": null,
   "metadata": {},
   "outputs": [],
   "source": [
    "np.einsum('pq,rs->pqrs', S_aa, S_bb).transpose(0, 2, 1, 3)"
   ]
  },
  {
   "cell_type": "code",
   "execution_count": null,
   "metadata": {},
   "outputs": [],
   "source": [
    "OneDM = HFpar.calculateScalarBasis1DM()\n",
    "twoDM = HFpar.calculateScalarBasis2DM()"
   ]
  },
  {
   "cell_type": "code",
   "execution_count": null,
   "metadata": {},
   "outputs": [],
   "source": [
    "spin.calculateExpectationValue(OneDM)[0]"
   ]
  },
  {
   "cell_type": "code",
   "execution_count": null,
   "metadata": {},
   "outputs": [],
   "source": [
    "tensor.calculateExpectationValue(twoDM)[0]"
   ]
  },
  {
   "cell_type": "code",
   "execution_count": null,
   "metadata": {},
   "outputs": [],
   "source": [
    "DM_test_2 = HFpar.calculateScalarBasis2DM().alphaBeta().tensor()"
   ]
  },
  {
   "cell_type": "code",
   "execution_count": null,
   "metadata": {},
   "outputs": [],
   "source": [
    "np.einsum(\"pqrs, pqrs-> \", np.einsum('pr,qs->pqrs', S_aa, S_bb), DM_test_2)"
   ]
  },
  {
   "cell_type": "code",
   "execution_count": null,
   "metadata": {},
   "outputs": [],
   "source": [
    "S2_val = spin.calculateExpectationValue(OneDM)[0] + tensor.calculateExpectationValue(twoDM)[0] \n",
    "S2_val"
   ]
  },
  {
   "cell_type": "code",
   "execution_count": null,
   "metadata": {},
   "outputs": [],
   "source": [
    "Sz_val = Sz.calculateExpectationValue(OneDM)[0]\n",
    "Sz_val"
   ]
  },
  {
   "cell_type": "code",
   "execution_count": null,
   "metadata": {},
   "outputs": [],
   "source": [
    "N_b - np.trace(OneDM.alpha.matrix() @ S_aa @ OneDM.beta.matrix() @ S_bb)"
   ]
  },
  {
   "cell_type": "code",
   "execution_count": null,
   "metadata": {},
   "outputs": [],
   "source": [
    "# np.trace(OneDM.alpha.matrix() @ S_aa @ OneDM.beta.matrix() @ S_bb)"
   ]
  },
  {
   "cell_type": "code",
   "execution_count": null,
   "metadata": {},
   "outputs": [],
   "source": [
    "occ_a = N_a\n",
    "occ_b = N_b\n",
    "\n",
    "occ_indx_a = np.arange(occ_a)  # indices of the occupied alpha orbitals\n",
    "occ_indx_b = np.arange(occ_b)  # indices of the occupied beta orbitals\n",
    "\n",
    "occ_a_orb = HFpar.expansion().alpha.matrix()[:, occ_indx_a]  # orbital coefficients associated with occupied alpha orbitals\n",
    "occ_b_orb = HFpar.expansion().beta.matrix()[:, occ_indx_b]  # orbital coefficients associated with occupied beta orbitals\n",
    "\n",
    "s = occ_a_orb.conj().T @ S_aa @ occ_b_orb  # Basically (alpha orbitals).T * S * (beta orbitals)\n",
    "\n",
    "ss_xy = (occ_a + occ_b) * 0.5 #- np.einsum('ij,ij->', s.conj(), s)  # = S^2_x + S^2_y\n",
    "ss_z = (occ_a - occ_b)**2 * 0.25  # = S^2_z\n",
    "ss = (ss_xy + ss_z).real  # = S^2_total\n",
    "s_z = (occ_a - occ_b) / 2  # = S_z"
   ]
  },
  {
   "cell_type": "code",
   "execution_count": null,
   "metadata": {},
   "outputs": [],
   "source": [
    "np.einsum('ij,ij->', s.conj(), s)"
   ]
  },
  {
   "cell_type": "code",
   "execution_count": null,
   "metadata": {},
   "outputs": [],
   "source": [
    "ss_xy"
   ]
  },
  {
   "cell_type": "code",
   "execution_count": null,
   "metadata": {},
   "outputs": [],
   "source": [
    "ss_z"
   ]
  },
  {
   "cell_type": "code",
   "execution_count": null,
   "metadata": {},
   "outputs": [],
   "source": [
    "ss"
   ]
  },
  {
   "cell_type": "code",
   "execution_count": null,
   "metadata": {},
   "outputs": [],
   "source": [
    "HFpar.calculateOrthonormalBasis2DM().betaAlpha().tensor()"
   ]
  },
  {
   "cell_type": "code",
   "execution_count": null,
   "metadata": {},
   "outputs": [],
   "source": [
    "# aa = gqcpy.PureSpinResolved2DMComponent_d(np.zeros((N_H, N_H, N_H, N_H)))\n",
    "# bb = gqcpy.PureSpinResolved2DMComponent_d(np.zeros((N_H, N_H, N_H, N_H)))\n",
    "\n",
    "# ab = gqcpy.MixedSpinResolved2DMComponent_d(-1 * correct)\n",
    "# ba = gqcpy.MixedSpinResolved2DMComponent_d(-1 * np.einsum('pr,qs->pqrs', S_bb, S_aa))\n"
   ]
  },
  {
   "cell_type": "code",
   "execution_count": null,
   "metadata": {},
   "outputs": [],
   "source": []
  }
 ],
 "metadata": {
  "kernelspec": {
   "display_name": "base",
   "language": "python",
   "name": "python3"
  },
  "language_info": {
   "codemirror_mode": {
    "name": "ipython",
    "version": 3
   },
   "file_extension": ".py",
   "mimetype": "text/x-python",
   "name": "python",
   "nbconvert_exporter": "python",
   "pygments_lexer": "ipython3",
   "version": "3.8.10"
  },
  "orig_nbformat": 4,
  "vscode": {
   "interpreter": {
    "hash": "4654e147d6fe676f31a9f86e2485eea716359f8709963986145f7c2d0088ba8c"
   }
  }
 },
 "nbformat": 4,
 "nbformat_minor": 2
}
