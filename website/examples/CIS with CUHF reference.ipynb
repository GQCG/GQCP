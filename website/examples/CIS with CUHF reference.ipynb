{
 "cells": [
  {
   "cell_type": "code",
   "execution_count": 1,
   "id": "dominican-match",
   "metadata": {
    "scrolled": true
   },
   "outputs": [],
   "source": [
    "# Force the local gqcpy to be imported\n",
    "import sys\n",
    "sys.path.insert(0, '../../build/gqcpy/')\n",
    "\n",
    "import gqcpy\n",
    "import numpy as np\n",
    "\n",
    "np.set_printoptions(precision=6, linewidth=120)"
   ]
  },
  {
   "cell_type": "markdown",
   "id": "important-trademark",
   "metadata": {},
   "source": [
    "So, recently, there has been a lot of research in our group concerned with **CUHF**: 'constrained' UHF. This is trying to modify UHF SCF with a constraint such that it should convergence to ROHF.\n",
    "\n",
    "Since the nature of the proposed algorithms is inherently related to _modifying_ an _existing_ UHF SCF algorithm (plain, DIIS, ...) but with a small extra step or two, I think this is an excellent showcase for `GQCP`'s 'injection' capabilities`."
   ]
  },
  {
   "cell_type": "markdown",
   "id": "british-opposition",
   "metadata": {},
   "source": [
    "## Molecular setup"
   ]
  },
  {
   "cell_type": "markdown",
   "id": "outstanding-change",
   "metadata": {},
   "source": [
    "Let us start by defining the molecular system under consideration. We'll take an H3-ring, 1 a.u. apart and in the STO-3G basisset."
   ]
  },
  {
   "cell_type": "code",
   "execution_count": 2,
   "id": "detected-humor",
   "metadata": {
    "scrolled": true
   },
   "outputs": [
    {
     "output_type": "stream",
     "name": "stdout",
     "text": [
      "Number of electrons: 3 \nH  (0, 0, 0)\nH  (0, 1.63655, 0.944863)\nH  (0, 0, 1.88973)\n\nNumber of alpha electrons: 2\nNumber of beta electrons: 1\n"
     ]
    }
   ],
   "source": [
    "molecule = gqcpy.Molecule.ReadXYZ(\"../../gqcp/tests/data/h3.xyz\" , 0)  # create a neutral molecule\n",
    "N = molecule.numberOfElectrons()\n",
    "N_P = molecule.numberOfElectronPairs()  # rounds down\n",
    "N_alpha = N_P + 1\n",
    "N_beta = N_P\n",
    "\n",
    "print(molecule)\n",
    "print(\"Number of alpha electrons: {}\".format(N_alpha))\n",
    "print(\"Number of beta electrons: {}\".format(N_beta))"
   ]
  },
  {
   "cell_type": "markdown",
   "id": "expanded-practitioner",
   "metadata": {},
   "source": [
    "In order to start any calculations, we need to calculate the molecular integrals. In `GQCP`, this is done by creating a restricted spin-orbital basis:"
   ]
  },
  {
   "cell_type": "code",
   "execution_count": 3,
   "id": "dental-roads",
   "metadata": {
    "scrolled": true
   },
   "outputs": [],
   "source": [
    "spinor_basis = gqcpy.USpinOrbitalBasis_d(molecule, \"STO-3G\")  # in AO basis; atomic spin-orbitals\n",
    "K = spinor_basis.numberOfSpinors()\n",
    "\n",
    "S = spinor_basis.quantize(gqcpy.OverlapOperator())"
   ]
  },
  {
   "cell_type": "markdown",
   "id": "vertical-david",
   "metadata": {},
   "source": [
    "Then, we will quantize the molecular Hamiltonian (in which the interactions terms are the electron's kinetic energy, the nucleus-electron attraction and the interelectronic repulson) in that spin-orbital basis:"
   ]
  },
  {
   "cell_type": "code",
   "execution_count": 4,
   "id": "changed-format",
   "metadata": {
    "scrolled": true
   },
   "outputs": [],
   "source": [
    "fq_hamiltonian = gqcpy.FQMolecularHamiltonian(molecule)\n",
    "sq_hamiltonian = spinor_basis.quantize(fq_hamiltonian)"
   ]
  },
  {
   "cell_type": "markdown",
   "id": "external-composite",
   "metadata": {},
   "source": [
    "## The standard 'plain' UHF SCF algorithm"
   ]
  },
  {
   "cell_type": "markdown",
   "id": "identical-hormone",
   "metadata": {},
   "source": [
    "Let's establish a base line for the algorithms by examining the standard 'plain' UHF SCF algorithm. In `GQCP`, we have implemented algorithms and environments:\n",
    "\n",
    "- an _environment_ acts as a 'calculation space', storing intermediate calculations;\n",
    "- an _algorithm_ and its composing _steps_ continuously modify the environment."
   ]
  },
  {
   "cell_type": "markdown",
   "id": "younger-compression",
   "metadata": {},
   "source": [
    "For UHF SCF, we use an `UHFSCFEnvironment`:"
   ]
  },
  {
   "cell_type": "code",
   "execution_count": 5,
   "id": "independent-brook",
   "metadata": {
    "scrolled": true
   },
   "outputs": [],
   "source": [
    "environment = gqcpy.UHFSCFEnvironment_d.WithCoreGuess(N_alpha, N_beta, sq_hamiltonian, S)"
   ]
  },
  {
   "cell_type": "markdown",
   "id": "entitled-walker",
   "metadata": {},
   "source": [
    "where we have initialized the alpha- and beta-coefficient matrices with the (generalized) eigenvectors of the core Hamiltonian (in AO basis)."
   ]
  },
  {
   "cell_type": "markdown",
   "id": "wired-florist",
   "metadata": {},
   "source": [
    "Let's now take a look at the plain UHF SCF solver:"
   ]
  },
  {
   "cell_type": "code",
   "execution_count": 6,
   "id": "occupational-favorite",
   "metadata": {
    "scrolled": true
   },
   "outputs": [
    {
     "output_type": "stream",
     "name": "stdout",
     "text": [
      "An iterative algorithm (with a maximum of 1000 iterations) consisting of the following steps:\nAn algorithmic step consisting of 4 algorithmic steps:\n\t1. Calculate the current UHF alpha and beta density matrices (in the AO basis) and place them in the environment.\n\t2. Calculate the current UHF Fock matrices (expressed in the scalar/AO basis) and place them in the environment.\n\t3. Solve the generalized eigenvalue problem for the most recent scalar/AO Fock matrices. Add the associated coefficient matrices and orbital energies to the environment.\n\t4. Calculate the current electronic UHF energy and place it in the environment.\n\nWith the following convergence criterion:\nA convergence criterion that checks if the norm of the difference of two iterates (the UHF spin resolved density matrix in AO basis) is converged, with a tolerance of 1.00e-04.\n"
     ]
    }
   ],
   "source": [
    "plain_algorithm = gqcpy.UHFSCFSolver_d.Plain(threshold=1.0e-04, maximum_number_of_iterations=1000)\n",
    "\n",
    "print(plain_algorithm.description())"
   ]
  },
  {
   "cell_type": "markdown",
   "id": "planned-flooring",
   "metadata": {},
   "source": [
    "With this algorithm, let's check the UHF SCF procedure."
   ]
  },
  {
   "cell_type": "code",
   "execution_count": 7,
   "id": "protected-tribe",
   "metadata": {
    "scrolled": true
   },
   "outputs": [],
   "source": [
    "uhf_qc_structure = gqcpy.UHF_d.optimize(plain_algorithm, environment)"
   ]
  },
  {
   "cell_type": "code",
   "execution_count": 8,
   "id": "strong-optimization",
   "metadata": {
    "scrolled": true
   },
   "outputs": [],
   "source": [
    "uhf_energy = uhf_qc_structure.groundStateEnergy()\n",
    "uhf_parameters = uhf_qc_structure.groundStateParameters()"
   ]
  },
  {
   "cell_type": "code",
   "execution_count": 9,
   "id": "secure-rough",
   "metadata": {
    "scrolled": true
   },
   "outputs": [
    {
     "output_type": "stream",
     "name": "stdout",
     "text": [
      "UHF electronic energy: -2.92351168\n\nUHF C_alpha:\n[[-4.600332e-01 -9.964997e-01  5.353850e-01]\n [-3.016595e-01 -8.577142e-06 -1.183335e+00]\n [-4.600346e-01  9.965066e-01  5.353710e-01]]\n\nUHF C_beta:\n[[ 2.806969e-01 -6.476740e-01 -9.964973e-01]\n [ 6.388130e-01  1.040768e+00 -7.624327e-06]\n [ 2.806938e-01 -6.476575e-01  9.965089e-01]]\n\n"
     ]
    }
   ],
   "source": [
    "print(\"UHF electronic energy: {:.8f}\\n\".format(uhf_energy))\n",
    "print(\"UHF C_alpha:\\n{}\\n\".format(uhf_parameters.expansion().alpha.matrix()))\n",
    "print(\"UHF C_beta:\\n{}\\n\".format(uhf_parameters.expansion().beta.matrix()))"
   ]
  },
  {
   "cell_type": "markdown",
   "id": "loving-season",
   "metadata": {},
   "source": [
    "## The CUHF (Scuseria/thesis) algorithm"
   ]
  },
  {
   "cell_type": "markdown",
   "id": "difficult-recovery",
   "metadata": {},
   "source": [
    "One of the CUHF algorithms described by Scuseria's group can be found in the PhD thesis by T. Tsuchimochi. Since this algorithm uses a modification of the UHF alpha- and beta-Fock matrices, this is an ideal opportunity to use `GQCP`'s injection capabilities."
   ]
  },
  {
   "cell_type": "markdown",
   "id": "needed-traveler",
   "metadata": {},
   "source": [
    "I've taken the reference implementation from Xeno's [ghf](https://github.com/GQCG/ghf) repository, and adapted it to `GQCP`.\n",
    "\n",
    "We start off by defining a `Python` function that modifies the alpha- and beta- Fock matrices in an `UHFSCFEnvironment`. We then wrap that `Python` function into a special class `FunctionalStep_UHFSCFEnvironment`, which allows for the bridging between `Python` functions and `GQCP`'s Algorithm framework."
   ]
  },
  {
   "cell_type": "code",
   "execution_count": 10,
   "id": "binary-ambassador",
   "metadata": {
    "scrolled": true
   },
   "outputs": [],
   "source": [
    "def constrain_function_thesis(environment):\n",
    "    \"\"\"Replace the alpha- and beta- UHF Fock matrices by their constrained counterparts, as explained in the CUHF 'thesis' algorithm.\"\"\"\n",
    "\n",
    "    # Prepare some variables to be used in the algorithm.\n",
    "    X = spinor_basis.lowdinOrthonormalization().alpha.matrix()  # the transformation matrix TO an orthonormal basis\n",
    "    \n",
    "    F_alpha = environment.fock_matrices[-1].alpha.parameters()  # in AO basis\n",
    "    F_beta = environment.fock_matrices[-1].beta.parameters()  # in AO basis\n",
    "    \n",
    "    D_alpha = environment.density_matrices[-1].alpha.matrix()  # in AO basis\n",
    "    D_beta = environment.density_matrices[-1].beta.matrix()  # in AO basis\n",
    "    \n",
    "    N_alpha = environment.N.alpha\n",
    "    N_beta = environment.N.beta\n",
    "    \n",
    "    # Form the closed-shell Fock matrix and the UHF modification.\n",
    "    F_cs = (F_alpha + F_beta) / 2.0  # the closed-shell Fock matrix, in AO basis\n",
    "    Delta_UHF = (F_alpha - F_beta) / 2.0  # in AO basis\n",
    "\n",
    "    # Form modified Fock matrices.\n",
    "    F_aa = F_cs + Delta_UHF\n",
    "    F_bb = F_cs - Delta_UHF\n",
    "    \n",
    "    # Find the natural occupation numbers and vectors by diagonalizing the charge-density matrix in an orthonormal basis.\n",
    "    P_AO = (D_alpha + D_beta) / 2.0\n",
    "    P_MO = np.linalg.inv(X) @ P_AO @ np.linalg.inv(X.T)\n",
    "    \n",
    "    natural_occupation_numbers, V = np.linalg.eigh(P_MO)\n",
    "    \n",
    "    # Construct the Langrange multipliers to add them to the 'constrained' Fock matrices.\n",
    "    Delta_UHF_NO = np.linalg.inv(V) @ np.linalg.inv(X) @ Delta_UHF @ np.linalg.inv(X.T) @ np.linalg.inv(V.T)  # in the natural occupation (NO) basis\n",
    "    Lambda_NO = np.zeros(np.shape(Delta_UHF_NO))\n",
    "    Lambda_NO[:N_beta, N_alpha:] = -Delta_UHF_NO[:N_beta, N_alpha:]\n",
    "    Lambda_NO[N_alpha:, :N_beta] = -Delta_UHF_NO[N_alpha:, :N_beta]\n",
    "    Lambda_AO = X @ V @ Lambda_NO @ V.T @ X.T\n",
    "    \n",
    "\n",
    "    # Overwrite the most recent UHF Fock matrices with the cUHF ones\n",
    "    \n",
    "    F_alpha_constrained = F_aa + Lambda_AO\n",
    "    F_alpha_constrained = gqcpy.ScalarUSQOneElectronOperatorComponent_d(F_alpha_constrained)\n",
    "    F_beta_constrained = F_bb - Lambda_AO\n",
    "    F_beta_constrained = gqcpy.ScalarUSQOneElectronOperatorComponent_d(F_beta_constrained)\n",
    "\n",
    "    fock_matrix = gqcpy.ScalarUSQOneElectronOperator_d(F_alpha_constrained, F_beta_constrained)\n",
    "    environment.replace_current_fock_matrix(fock_matrix)\n",
    "\n",
    "constrain_step_thesis = gqcpy.FunctionalStep_UHFSCFEnvironment_d(constrain_function_thesis, description=\"Replace the alpha- and beta- UHF Fock matrices by their constrained counterparts, as explained in the CUHF 'thesis' algorithm.\")"
   ]
  },
  {
   "cell_type": "markdown",
   "id": "controlled-inquiry",
   "metadata": {},
   "source": [
    "We'll now modify the plain UHF SCF algorithm with this modification `constrain_step_thesis`. From the algorithmic description printed above, we'll have to insert the Fock matrix modification at index `2`."
   ]
  },
  {
   "cell_type": "code",
   "execution_count": 11,
   "id": "willing-bangladesh",
   "metadata": {
    "scrolled": true
   },
   "outputs": [
    {
     "output_type": "stream",
     "name": "stdout",
     "text": [
      "An iterative algorithm (with a maximum of 1000 iterations) consisting of the following steps:\nAn algorithmic step consisting of 5 algorithmic steps:\n\t1. Calculate the current UHF alpha and beta density matrices (in the AO basis) and place them in the environment.\n\t2. Calculate the current UHF Fock matrices (expressed in the scalar/AO basis) and place them in the environment.\n\t3. Replace the alpha- and beta- UHF Fock matrices by their constrained counterparts, as explained in the CUHF 'thesis' algorithm.\n\t4. Solve the generalized eigenvalue problem for the most recent scalar/AO Fock matrices. Add the associated coefficient matrices and orbital energies to the environment.\n\t5. Calculate the current electronic UHF energy and place it in the environment.\n\nWith the following convergence criterion:\nA convergence criterion that checks if the norm of the difference of two iterates (the UHF spin resolved density matrix in AO basis) is converged, with a tolerance of 1.00e-12.\n"
     ]
    }
   ],
   "source": [
    "CUHF_algorithm_thesis = gqcpy.UHFSCFSolver_d.Plain(threshold = 1.0e-12, maximum_number_of_iterations = 1000)\n",
    "\n",
    "CUHF_algorithm_thesis.insert(constrain_step_thesis, 2)\n",
    "print(CUHF_algorithm_thesis.description())"
   ]
  },
  {
   "cell_type": "markdown",
   "id": "warming-bibliography",
   "metadata": {},
   "source": [
    "Since we've now created the `CUHF_algorithm_thesis`, which is still an UHF SCF solver, we can set up an environment and optimize the CUHF model parameters."
   ]
  },
  {
   "cell_type": "code",
   "execution_count": 12,
   "id": "peaceful-darkness",
   "metadata": {
    "scrolled": true
   },
   "outputs": [],
   "source": [
    "environment = gqcpy.UHFSCFEnvironment_d.WithCoreGuess(N_alpha, N_beta, sq_hamiltonian, S)"
   ]
  },
  {
   "cell_type": "code",
   "execution_count": 84,
   "id": "protected-michigan",
   "metadata": {
    "scrolled": true
   },
   "outputs": [],
   "source": [
    "cuhf_qc_structure_thesis = gqcpy.UHF_d.optimize(CUHF_algorithm_thesis, environment)\n",
    "cuhf_energy_thesis = cuhf_qc_structure_thesis.groundStateEnergy()\n",
    "cuhf_parameters_thesis = cuhf_qc_structure_thesis.groundStateParameters()"
   ]
  },
  {
   "cell_type": "code",
   "execution_count": 85,
   "id": "popular-december",
   "metadata": {
    "scrolled": true
   },
   "outputs": [
    {
     "output_type": "stream",
     "name": "stdout",
     "text": [
      "CUHF electronic energy (thesis): -2.91570739\n\nCUHF C_alpha (thesis):\n[[-3.746264e-01 -5.982606e-01 -9.965031e-01]\n [-3.746264e-01 -5.982606e-01  9.965031e-01]\n [-4.755511e-01  1.124780e+00 -1.655520e-11]]\n\nCUHF C_beta (thesis):\n[[ 4.805637e-01 -9.965031e-01 -5.170293e-01]\n [ 4.805637e-01  9.965031e-01 -5.170293e-01]\n [ 2.552798e-01  6.791781e-12  1.194199e+00]]\n\n"
     ]
    }
   ],
   "source": [
    "print(\"CUHF electronic energy (thesis): {:.8f}\\n\".format(cuhf_energy_thesis))\n",
    "print(\"CUHF C_alpha (thesis):\\n{}\\n\".format(cuhf_parameters_thesis.expansion().alpha.matrix()))\n",
    "print(\"CUHF C_beta (thesis):\\n{}\\n\".format(cuhf_parameters_thesis.expansion().beta.matrix()))"
   ]
  },
  {
   "cell_type": "code",
   "execution_count": 86,
   "id": "pharmaceutical-appearance",
   "metadata": {},
   "outputs": [],
   "source": [
    "spinor_basis.transform(cuhf_parameters_thesis.expansion())\n",
    "sq_hamiltonian.transform(cuhf_parameters_thesis.expansion())"
   ]
  },
  {
   "cell_type": "markdown",
   "id": "unknown-arbitration",
   "metadata": {},
   "source": [
    "## Dense CIS calculations"
   ]
  },
  {
   "cell_type": "markdown",
   "id": "passing-register",
   "metadata": {},
   "source": [
    "In order to do a dense CIS calculation, GQCP uses its own framework for mathematical optimization. We'll have to create:\n",
    "1. a dense eigenvalue problem solver\n",
    "1. an associated eigenvalue problem environment"
   ]
  },
  {
   "cell_type": "code",
   "execution_count": 87,
   "id": "dangerous-moment",
   "metadata": {},
   "outputs": [],
   "source": [
    "onv_basis = gqcpy.SpinResolvedSelectedONVBasis.CIS(K//2, N_alpha, N_beta, True)"
   ]
  },
  {
   "cell_type": "code",
   "execution_count": 88,
   "metadata": {},
   "outputs": [
    {
     "output_type": "error",
     "ename": "AttributeError",
     "evalue": "'gqcpy.gqcpy.SpinResolvedSelectedONVBasis' object has no attribute 'onvWithIndex'",
     "traceback": [
      "\u001b[0;31m---------------------------------------------------------------------------\u001b[0m",
      "\u001b[0;31mAttributeError\u001b[0m                            Traceback (most recent call last)",
      "\u001b[0;32m<ipython-input-88-8dd83accf118>\u001b[0m in \u001b[0;36m<module>\u001b[0;34m\u001b[0m\n\u001b[1;32m      1\u001b[0m \u001b[0;32mfor\u001b[0m \u001b[0mi\u001b[0m \u001b[0;32min\u001b[0m \u001b[0mrange\u001b[0m\u001b[0;34m(\u001b[0m\u001b[0monv_basis\u001b[0m\u001b[0;34m.\u001b[0m\u001b[0mdimension\u001b[0m\u001b[0;34m(\u001b[0m\u001b[0;34m)\u001b[0m\u001b[0;34m)\u001b[0m\u001b[0;34m:\u001b[0m\u001b[0;34m\u001b[0m\u001b[0;34m\u001b[0m\u001b[0m\n\u001b[0;32m----> 2\u001b[0;31m     \u001b[0mprint\u001b[0m\u001b[0;34m(\u001b[0m\u001b[0monv_basis\u001b[0m\u001b[0;34m.\u001b[0m\u001b[0monvWithIndex\u001b[0m\u001b[0;34m(\u001b[0m\u001b[0mi\u001b[0m\u001b[0;34m)\u001b[0m\u001b[0;34m)\u001b[0m\u001b[0;34m\u001b[0m\u001b[0;34m\u001b[0m\u001b[0m\n\u001b[0m",
      "\u001b[0;31mAttributeError\u001b[0m: 'gqcpy.gqcpy.SpinResolvedSelectedONVBasis' object has no attribute 'onvWithIndex'"
     ]
    }
   ],
   "source": [
    "for i in range(onv_basis.dimension()):\n",
    "    print(onv_basis.onvWithIndex(i))"
   ]
  },
  {
   "cell_type": "code",
   "execution_count": 68,
   "id": "accepting-gilbert",
   "metadata": {},
   "outputs": [],
   "source": [
    "solver = gqcpy.EigenproblemSolver.Dense_d()\n",
    "environment = gqcpy.CIEnvironment.Dense(sq_hamiltonian, onv_basis)"
   ]
  },
  {
   "cell_type": "markdown",
   "id": "prescribed-pound",
   "metadata": {},
   "source": [
    "The encompassing `QCMethod` is `CI` (for any type of configuration interaction), so we'll use that to find the optimized and associated wave function model: a `LinearExpansion`. Internally, `QCMethod`s return a `QCStructure`, which wraps energies and optimized parameters for the ground state and excited states."
   ]
  },
  {
   "cell_type": "code",
   "execution_count": 69,
   "id": "usual-establishment",
   "metadata": {},
   "outputs": [],
   "source": [
    "qc_structure = gqcpy.CI(onv_basis, onv_basis.dimension()).optimize(solver, environment)"
   ]
  },
  {
   "cell_type": "code",
   "execution_count": 51,
   "id": "unusual-eight",
   "metadata": {},
   "outputs": [
    {
     "output_type": "stream",
     "name": "stdout",
     "text": [
      "0-th excited state energy: -2.9226577157783518\n[-1.208360e-25  2.006870e-16 -3.148794e-16 -1.128987e-16  7.870863e-17 -1.673535e-01  4.988346e-11  9.858970e-01\n  2.545306e-10  0.000000e+00]\n1-th excited state energy: -2.9157073875412007\n[-1.000000e+00  6.688809e-12 -6.589711e-11 -1.793240e-11  7.135237e-16  3.646486e-18  1.518879e-08 -2.060476e-17\n  7.923115e-08  0.000000e+00]\n2-th excited state energy: -2.9157073875412007\n[ 8.067388e-08 -1.912165e-12  2.136734e-11  8.431248e-12  1.677430e-23  4.520033e-11  1.882739e-01 -2.554080e-10\n  9.821166e-01  0.000000e+00]\n3-th excited state energy: -2.895707151577484\n[-6.845509e-11 -4.986962e-02  9.757212e-01  2.132632e-01  1.482874e-12 -2.434397e-17 -3.860337e-12  3.420760e-16\n -2.241607e-11  0.000000e+00]\n4-th excited state energy: -2.5609465758820043\n[0. 0. 0. 0. 0. 0. 0. 0. 0. 1.]\n5-th excited state energy: -2.4365244160300423\n[-4.744299e-12 -6.311351e-01 -1.962787e-01  7.504286e-01 -1.040317e-11 -1.682364e-16  3.473379e-12  1.231618e-16\n -4.066602e-12 -0.000000e+00]\n6-th excited state energy: -2.323014034387402\n[-4.455873e-28 -3.410929e-17 -6.796808e-17  1.470946e-16  5.157272e-16  9.858970e-01 -7.405150e-12  1.673535e-01\n -4.329618e-13  0.000000e+00]\n7-th excited state energy: -2.1766206355233995\n[-7.135237e-16 -2.483910e-11  7.421993e-12 -3.281221e-11 -1.000000e+00  4.845704e-16 -4.120856e-08  1.738721e-16\n  7.899773e-09  0.000000e+00]\n8-th excited state energy: -2.1766206355233972\n[ 7.124468e-24 -2.130255e-11  1.939442e-12 -1.184285e-11  4.195893e-08 -7.269009e-12 -9.821166e-01 -1.486786e-13\n  1.882739e-01 -0.000000e+00]\n9-th excited state energy: -2.139049144914998\n[-3.625265e-13 -7.740682e-01  9.717433e-02 -6.256002e-01  4.047570e-11  5.190768e-17  2.397969e-11  1.257744e-16\n -2.847587e-12  0.000000e+00]\n"
     ]
    }
   ],
   "source": [
    "for i in range(onv_basis.dimension()):\n",
    "    energy = qc_structure.energy(i) #+ gqcpy.NuclearRepulsionOperator(molecule.nuclearFramework()).value()\n",
    "    print(\"{}-th excited state energy: {}\".format(i, energy))\n",
    "    print(qc_structure.parameters(i).coefficients())"
   ]
  },
  {
   "cell_type": "code",
   "execution_count": 49,
   "metadata": {},
   "outputs": [
    {
     "output_type": "execute_result",
     "data": {
      "text/plain": [
       "-2.91570739"
      ]
     },
     "metadata": {},
     "execution_count": 49
    }
   ],
   "source": [
    "-2.91570739"
   ]
  },
  {
   "cell_type": "code",
   "execution_count": null,
   "metadata": {},
   "outputs": [],
   "source": []
  }
 ],
 "metadata": {
  "kernelspec": {
   "name": "python385jvsc74a57bd0e4c6ce54e6d1ccff551279c9aafc06b78c48fd9e60d6b4e74c0583a74ec1d1f9",
   "display_name": "Python 3.8.5 64-bit ('base': conda)"
  },
  "language_info": {
   "codemirror_mode": {
    "name": "ipython",
    "version": 3
   },
   "file_extension": ".py",
   "mimetype": "text/x-python",
   "name": "python",
   "nbconvert_exporter": "python",
   "pygments_lexer": "ipython3",
   "version": "3.8.5"
  }
 },
 "nbformat": 4,
 "nbformat_minor": 5
}