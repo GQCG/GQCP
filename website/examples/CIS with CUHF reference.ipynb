{
 "cells": [
  {
   "cell_type": "code",
   "execution_count": 26,
   "id": "dominican-match",
   "metadata": {
    "scrolled": true
   },
   "outputs": [],
   "source": [
    "# Force the local gqcpy to be imported\n",
    "import sys\n",
    "sys.path.insert(0, '../../build/gqcpy/')\n",
    "\n",
    "import gqcpy\n",
    "import numpy as np\n",
    "\n",
    "np.set_printoptions(precision=6, linewidth=120)"
   ]
  },
  {
   "cell_type": "markdown",
   "id": "important-trademark",
   "metadata": {},
   "source": [
    "So, recently, there has been a lot of research in our group concerned with **CUHF**: 'constrained' UHF. This is trying to modify UHF SCF with a constraint such that it should convergence to ROHF.\n",
    "\n",
    "Since the nature of the proposed algorithms is inherently related to _modifying_ an _existing_ UHF SCF algorithm (plain, DIIS, ...) but with a small extra step or two, I think this is an excellent showcase for `GQCP`'s 'injection' capabilities`."
   ]
  },
  {
   "cell_type": "markdown",
   "id": "british-opposition",
   "metadata": {},
   "source": [
    "## Molecular setup"
   ]
  },
  {
   "cell_type": "markdown",
   "id": "outstanding-change",
   "metadata": {},
   "source": [
    "Let us start by defining the molecular system under consideration. We'll take an H3-ring, 1 a.u. apart and in the STO-3G basisset."
   ]
  },
  {
   "cell_type": "code",
   "execution_count": 27,
   "id": "detected-humor",
   "metadata": {
    "scrolled": true
   },
   "outputs": [
    {
     "name": "stdout",
     "output_type": "stream",
     "text": [
      "Number of electrons: 3 \n",
      "H  (0, 0, 0)\n",
      "H  (0, 1.63655, 0.944863)\n",
      "H  (0, 0, 1.88973)\n",
      "\n",
      "Number of alpha electrons: 2\n",
      "Number of beta electrons: 1\n"
     ]
    }
   ],
   "source": [
    "molecule = gqcpy.Molecule.ReadXYZ(\"../../gqcp/tests/data/h3.xyz\" , 0)  # create a neutral molecule\n",
    "N = molecule.numberOfElectrons()\n",
    "N_P = molecule.numberOfElectronPairs()  # rounds down\n",
    "N_alpha = N_P + 1\n",
    "N_beta = N_P\n",
    "\n",
    "print(molecule)\n",
    "print(\"Number of alpha electrons: {}\".format(N_alpha))\n",
    "print(\"Number of beta electrons: {}\".format(N_beta))"
   ]
  },
  {
   "cell_type": "markdown",
   "id": "expanded-practitioner",
   "metadata": {},
   "source": [
    "In order to start any calculations, we need to calculate the molecular integrals. In `GQCP`, this is done by creating a restricted spin-orbital basis:"
   ]
  },
  {
   "cell_type": "code",
   "execution_count": 28,
   "id": "dental-roads",
   "metadata": {
    "scrolled": true
   },
   "outputs": [],
   "source": [
    "spinor_basis = gqcpy.USpinOrbitalBasis_d(molecule, \"STO-3G\")  # in AO basis; atomic spin-orbitals\n",
    "K = spinor_basis.numberOfSpinors()\n",
    "\n",
    "S = spinor_basis.quantize(gqcpy.OverlapOperator())"
   ]
  },
  {
   "cell_type": "markdown",
   "id": "vertical-david",
   "metadata": {},
   "source": [
    "Then, we will quantize the molecular Hamiltonian (in which the interactions terms are the electron's kinetic energy, the nucleus-electron attraction and the interelectronic repulson) in that spin-orbital basis:"
   ]
  },
  {
   "cell_type": "code",
   "execution_count": 29,
   "id": "changed-format",
   "metadata": {
    "scrolled": true
   },
   "outputs": [],
   "source": [
    "fq_hamiltonian = gqcpy.FQMolecularHamiltonian(molecule)\n",
    "sq_hamiltonian = spinor_basis.quantize(fq_hamiltonian)"
   ]
  },
  {
   "cell_type": "markdown",
   "id": "external-composite",
   "metadata": {},
   "source": [
    "## The standard 'plain' UHF SCF algorithm"
   ]
  },
  {
   "cell_type": "markdown",
   "id": "identical-hormone",
   "metadata": {},
   "source": [
    "Let's establish a base line for the algorithms by examining the standard 'plain' UHF SCF algorithm. In `GQCP`, we have implemented algorithms and environments:\n",
    "\n",
    "- an _environment_ acts as a 'calculation space', storing intermediate calculations;\n",
    "- an _algorithm_ and its composing _steps_ continuously modify the environment."
   ]
  },
  {
   "cell_type": "markdown",
   "id": "younger-compression",
   "metadata": {},
   "source": [
    "For UHF SCF, we use an `UHFSCFEnvironment`:"
   ]
  },
  {
   "cell_type": "code",
   "execution_count": 30,
   "id": "independent-brook",
   "metadata": {
    "scrolled": true
   },
   "outputs": [],
   "source": [
    "environment = gqcpy.UHFSCFEnvironment_d.WithCoreGuess(N_alpha, N_beta, sq_hamiltonian, S)"
   ]
  },
  {
   "cell_type": "markdown",
   "id": "entitled-walker",
   "metadata": {},
   "source": [
    "where we have initialized the alpha- and beta-coefficient matrices with the (generalized) eigenvectors of the core Hamiltonian (in AO basis)."
   ]
  },
  {
   "cell_type": "markdown",
   "id": "wired-florist",
   "metadata": {},
   "source": [
    "Let's now take a look at the plain UHF SCF solver:"
   ]
  },
  {
   "cell_type": "code",
   "execution_count": 31,
   "id": "occupational-favorite",
   "metadata": {
    "scrolled": true
   },
   "outputs": [
    {
     "name": "stdout",
     "output_type": "stream",
     "text": [
      "An iterative algorithm (with a maximum of 1000 iterations) consisting of the following steps:\n",
      "An algorithmic step consisting of 4 algorithmic steps:\n",
      "\t1. Calculate the current UHF alpha and beta density matrices (in the AO basis) and place them in the environment.\n",
      "\t2. Calculate the current UHF Fock matrices (expressed in the scalar/AO basis) and place them in the environment.\n",
      "\t3. Solve the generalized eigenvalue problem for the most recent scalar/AO Fock matrices. Add the associated coefficient matrices and orbital energies to the environment.\n",
      "\t4. Calculate the current electronic UHF energy and place it in the environment.\n",
      "\n",
      "With the following convergence criterion:\n",
      "A convergence criterion that checks if the norm of the difference of two iterates (the UHF spin resolved density matrix in AO basis) is converged, with a tolerance of 1.00e-04.\n"
     ]
    }
   ],
   "source": [
    "plain_algorithm = gqcpy.UHFSCFSolver_d.Plain(threshold=1.0e-04, maximum_number_of_iterations=1000)\n",
    "\n",
    "print(plain_algorithm.description())"
   ]
  },
  {
   "cell_type": "markdown",
   "id": "planned-flooring",
   "metadata": {},
   "source": [
    "With this algorithm, let's check the UHF SCF procedure."
   ]
  },
  {
   "cell_type": "code",
   "execution_count": 32,
   "id": "protected-tribe",
   "metadata": {
    "scrolled": true
   },
   "outputs": [],
   "source": [
    "uhf_qc_structure = gqcpy.UHF_d.optimize(plain_algorithm, environment)"
   ]
  },
  {
   "cell_type": "code",
   "execution_count": 33,
   "id": "strong-optimization",
   "metadata": {
    "scrolled": true
   },
   "outputs": [],
   "source": [
    "uhf_energy = uhf_qc_structure.groundStateEnergy()\n",
    "uhf_parameters = uhf_qc_structure.groundStateParameters()"
   ]
  },
  {
   "cell_type": "code",
   "execution_count": 34,
   "id": "secure-rough",
   "metadata": {
    "scrolled": true
   },
   "outputs": [
    {
     "name": "stdout",
     "output_type": "stream",
     "text": [
      "UHF electronic energy: -2.92351168\n",
      "\n",
      "UHF C_alpha:\n",
      "[[-4.600360e-01 -9.965131e-01  5.353575e-01]\n",
      " [-3.016595e-01  2.493687e-05 -1.183335e+00]\n",
      " [-4.600317e-01  9.964931e-01  5.353984e-01]]\n",
      "\n",
      "UHF C_beta:\n",
      "[[ 2.806909e-01 -6.476418e-01 -9.965199e-01]\n",
      " [ 6.388130e-01  1.040768e+00  2.216669e-05]\n",
      " [ 2.806998e-01 -6.476897e-01  9.964863e-01]]\n",
      "\n"
     ]
    }
   ],
   "source": [
    "print(\"UHF electronic energy: {:.8f}\\n\".format(uhf_energy))\n",
    "print(\"UHF C_alpha:\\n{}\\n\".format(uhf_parameters.expansion().alpha.matrix()))\n",
    "print(\"UHF C_beta:\\n{}\\n\".format(uhf_parameters.expansion().beta.matrix()))"
   ]
  },
  {
   "cell_type": "markdown",
   "id": "loving-season",
   "metadata": {},
   "source": [
    "## The CUHF (Scuseria/thesis) algorithm"
   ]
  },
  {
   "cell_type": "markdown",
   "id": "difficult-recovery",
   "metadata": {},
   "source": [
    "One of the CUHF algorithms described by Scuseria's group can be found in the PhD thesis by T. Tsuchimochi. Since this algorithm uses a modification of the UHF alpha- and beta-Fock matrices, this is an ideal opportunity to use `GQCP`'s injection capabilities."
   ]
  },
  {
   "cell_type": "markdown",
   "id": "needed-traveler",
   "metadata": {},
   "source": [
    "I've taken the reference implementation from Xeno's [ghf](https://github.com/GQCG/ghf) repository, and adapted it to `GQCP`.\n",
    "\n",
    "We start off by defining a `Python` function that modifies the alpha- and beta- Fock matrices in an `UHFSCFEnvironment`. We then wrap that `Python` function into a special class `FunctionalStep_UHFSCFEnvironment`, which allows for the bridging between `Python` functions and `GQCP`'s Algorithm framework."
   ]
  },
  {
   "cell_type": "code",
   "execution_count": 35,
   "id": "binary-ambassador",
   "metadata": {
    "scrolled": true
   },
   "outputs": [],
   "source": [
    "def constrain_function_thesis(environment):\n",
    "    \"\"\"Replace the alpha- and beta- UHF Fock matrices by their constrained counterparts, as explained in the CUHF 'thesis' algorithm.\"\"\"\n",
    "\n",
    "    # Prepare some variables to be used in the algorithm.\n",
    "    X = spinor_basis.lowdinOrthonormalization().alpha.matrix()  # the transformation matrix TO an orthonormal basis\n",
    "    \n",
    "    F_alpha = environment.fock_matrices[-1].alpha.parameters()  # in AO basis\n",
    "    F_beta = environment.fock_matrices[-1].beta.parameters()  # in AO basis\n",
    "    \n",
    "    D_alpha = environment.density_matrices[-1].alpha.matrix()  # in AO basis\n",
    "    D_beta = environment.density_matrices[-1].beta.matrix()  # in AO basis\n",
    "    \n",
    "    N_alpha = environment.N.alpha\n",
    "    N_beta = environment.N.beta\n",
    "    \n",
    "    # Form the closed-shell Fock matrix and the UHF modification.\n",
    "    F_cs = (F_alpha + F_beta) / 2.0  # the closed-shell Fock matrix, in AO basis\n",
    "    Delta_UHF = (F_alpha - F_beta) / 2.0  # in AO basis\n",
    "\n",
    "    # Form modified Fock matrices.\n",
    "    F_aa = F_cs + Delta_UHF\n",
    "    F_bb = F_cs - Delta_UHF\n",
    "    \n",
    "    # Find the natural occupation numbers and vectors by diagonalizing the charge-density matrix in an orthonormal basis.\n",
    "    P_AO = (D_alpha + D_beta) / 2.0\n",
    "    P_MO = np.linalg.inv(X) @ P_AO @ np.linalg.inv(X.T)\n",
    "    \n",
    "    natural_occupation_numbers, V = np.linalg.eigh(P_MO)\n",
    "    \n",
    "    # Construct the Langrange multipliers to add them to the 'constrained' Fock matrices.\n",
    "    Delta_UHF_NO = np.linalg.inv(V) @ np.linalg.inv(X) @ Delta_UHF @ np.linalg.inv(X.T) @ np.linalg.inv(V.T)  # in the natural occupation (NO) basis\n",
    "    Lambda_NO = np.zeros(np.shape(Delta_UHF_NO))\n",
    "    Lambda_NO[:N_beta, N_alpha:] = -Delta_UHF_NO[:N_beta, N_alpha:]\n",
    "    Lambda_NO[N_alpha:, :N_beta] = -Delta_UHF_NO[N_alpha:, :N_beta]\n",
    "    Lambda_AO = X @ V @ Lambda_NO @ V.T @ X.T\n",
    "    \n",
    "\n",
    "    # Overwrite the most recent UHF Fock matrices with the cUHF ones\n",
    "    \n",
    "    F_alpha_constrained = F_aa + Lambda_AO\n",
    "    #environment.replace_current_fock_matrix_alpha(F_alpha_constrained)\n",
    "    F_beta_constrained = F_bb - Lambda_AO\n",
    "    #environment.replace_current_fock_matrix_beta(F_beta_constrained)\n",
    "\n",
    "    environment.replace_current_fock_matrices(F_alpha_constrained, F_beta_constrained)\n",
    "\n",
    "constrain_step_thesis = gqcpy.FunctionalStep_UHFSCFEnvironment_d(constrain_function_thesis, description=\"Replace the alpha- and beta- UHF Fock matrices by their constrained counterparts, as explained in the CUHF 'thesis' algorithm.\")"
   ]
  },
  {
   "cell_type": "markdown",
   "id": "controlled-inquiry",
   "metadata": {},
   "source": [
    "We'll now modify the plain UHF SCF algorithm with this modification `constrain_step_thesis`. From the algorithmic description printed above, we'll have to insert the Fock matrix modification at index `2`."
   ]
  },
  {
   "cell_type": "code",
   "execution_count": 36,
   "id": "willing-bangladesh",
   "metadata": {
    "scrolled": true
   },
   "outputs": [
    {
     "name": "stdout",
     "output_type": "stream",
     "text": [
      "An iterative algorithm (with a maximum of 1000 iterations) consisting of the following steps:\n",
      "An algorithmic step consisting of 5 algorithmic steps:\n",
      "\t1. Calculate the current UHF alpha and beta density matrices (in the AO basis) and place them in the environment.\n",
      "\t2. Calculate the current UHF Fock matrices (expressed in the scalar/AO basis) and place them in the environment.\n",
      "\t3. Replace the alpha- and beta- UHF Fock matrices by their constrained counterparts, as explained in the CUHF 'thesis' algorithm.\n",
      "\t4. Solve the generalized eigenvalue problem for the most recent scalar/AO Fock matrices. Add the associated coefficient matrices and orbital energies to the environment.\n",
      "\t5. Calculate the current electronic UHF energy and place it in the environment.\n",
      "\n",
      "With the following convergence criterion:\n",
      "A convergence criterion that checks if the norm of the difference of two iterates (the UHF spin resolved density matrix in AO basis) is converged, with a tolerance of 1.00e-04.\n"
     ]
    }
   ],
   "source": [
    "CUHF_algorithm_thesis = gqcpy.UHFSCFSolver_d.Plain(threshold = 1.0e-04, maximum_number_of_iterations = 1000)\n",
    "\n",
    "CUHF_algorithm_thesis.insert(constrain_step_thesis, 2)\n",
    "print(CUHF_algorithm_thesis.description())"
   ]
  },
  {
   "cell_type": "markdown",
   "id": "warming-bibliography",
   "metadata": {},
   "source": [
    "Since we've now created the `CUHF_algorithm_thesis`, which is still an UHF SCF solver, we can set up an environment and optimize the CUHF model parameters."
   ]
  },
  {
   "cell_type": "code",
   "execution_count": 37,
   "id": "peaceful-darkness",
   "metadata": {
    "scrolled": true
   },
   "outputs": [],
   "source": [
    "environment = gqcpy.UHFSCFEnvironment_d.WithCoreGuess(N_alpha, N_beta, sq_hamiltonian, S)"
   ]
  },
  {
   "cell_type": "code",
   "execution_count": 38,
   "id": "protected-michigan",
   "metadata": {
    "scrolled": true
   },
   "outputs": [],
   "source": [
    "cuhf_qc_structure_thesis = gqcpy.UHF_d.optimize(CUHF_algorithm_thesis, environment)\n",
    "cuhf_energy_thesis = cuhf_qc_structure_thesis.groundStateEnergy()\n",
    "cuhf_parameters_thesis = cuhf_qc_structure_thesis.groundStateParameters()"
   ]
  },
  {
   "cell_type": "code",
   "execution_count": 43,
   "id": "popular-december",
   "metadata": {
    "scrolled": true
   },
   "outputs": [
    {
     "name": "stdout",
     "output_type": "stream",
     "text": [
      "CUHF electronic energy (thesis): -2.91570739\n",
      "\n",
      "CUHF C_alpha (thesis):\n",
      "[[-4.755511e-01 -1.124780e+00  7.206944e-05]\n",
      " [-3.746464e-01  5.982052e-01 -9.965289e-01]\n",
      " [-3.746065e-01  5.983161e-01  9.964773e-01]]\n",
      "\n",
      "CUHF C_beta (thesis):\n",
      "[[ 2.552798e-01 -1.829360e-05 -1.194199e+00]\n",
      " [ 4.805616e-01  9.965123e-01  5.170136e-01]\n",
      " [ 4.805658e-01 -9.964939e-01  5.170450e-01]]\n",
      "\n"
     ]
    }
   ],
   "source": [
    "print(\"CUHF electronic energy (thesis): {:.8f}\\n\".format(cuhf_energy_thesis))\n",
    "print(\"CUHF C_alpha (thesis):\\n{}\\n\".format(cuhf_parameters_thesis.expansion().alpha.matrix()))\n",
    "print(\"CUHF C_beta (thesis):\\n{}\\n\".format(cuhf_parameters_thesis.expansion().beta.matrix()))"
   ]
  },
  {
   "cell_type": "markdown",
   "id": "unknown-arbitration",
   "metadata": {},
   "source": [
    "## Dense CIS calculations"
   ]
  },
  {
   "cell_type": "markdown",
   "id": "passing-register",
   "metadata": {},
   "source": [
    "In order to do a dense CIS calculation, GQCP uses its own framework for mathematical optimization. We'll have to create:\n",
    "1. a dense eigenvalue problem solver\n",
    "1. an associated eigenvalue problem environment"
   ]
  },
  {
   "cell_type": "code",
   "execution_count": 44,
   "id": "dangerous-moment",
   "metadata": {},
   "outputs": [],
   "source": [
    "onv_basis = gqcpy.SpinResolvedSelectedONVBasis.CIS(K//2, 2, 1, True)"
   ]
  },
  {
   "cell_type": "code",
   "execution_count": 45,
   "id": "accepting-gilbert",
   "metadata": {},
   "outputs": [],
   "source": [
    "solver = gqcpy.EigenproblemSolver.Dense_d()\n",
    "environment = gqcpy.CIEnvironment.Dense(sq_hamiltonian, onv_basis)"
   ]
  },
  {
   "cell_type": "markdown",
   "id": "prescribed-pound",
   "metadata": {},
   "source": [
    "The encompassing `QCMethod` is `CI` (for any type of configuration interaction), so we'll use that to find the optimized and associated wave function model: a `LinearExpansion`. Internally, `QCMethod`s return a `QCStructure`, which wraps energies and optimized parameters for the ground state and excited states."
   ]
  },
  {
   "cell_type": "code",
   "execution_count": 46,
   "id": "usual-establishment",
   "metadata": {},
   "outputs": [],
   "source": [
    "qc_structure = gqcpy.CI(onv_basis).optimize(solver, environment)"
   ]
  },
  {
   "cell_type": "markdown",
   "id": "accepting-context",
   "metadata": {},
   "source": [
    "In order to find the total energy, we have to account for the nuclear repulsion. In GQCP, we use different kinds of first-quantized operators, and `NuclearRepulsionOperator` is one of them."
   ]
  },
  {
   "cell_type": "code",
   "execution_count": 47,
   "id": "unusual-eight",
   "metadata": {},
   "outputs": [
    {
     "name": "stdout",
     "output_type": "stream",
     "text": [
      "-4.763313701028364\n",
      "4.67346295388103e-310\n",
      "0.14874577750301904\n",
      "2.4e-322\n",
      "0.0\n",
      "5e-324\n",
      "0.14874577750301904\n",
      "0.17535310929707495\n",
      "2.37e-322\n",
      "4e-322\n"
     ]
    }
   ],
   "source": [
    "for i in range(onv_basis.dimension()):\n",
    "    energy = qc_structure.energy(i) #+ gqcpy.NuclearRepulsionOperator(molecule.nuclearFramework()).value()\n",
    "    print(energy)"
   ]
  },
  {
   "cell_type": "code",
   "execution_count": 49,
   "id": "cosmetic-authorization",
   "metadata": {},
   "outputs": [
    {
     "data": {
      "text/plain": [
       "6"
      ]
     },
     "execution_count": 49,
     "metadata": {},
     "output_type": "execute_result"
    }
   ],
   "source": [
    "spinor_basis.numberOfSpinors()"
   ]
  },
  {
   "cell_type": "code",
   "execution_count": null,
   "id": "maritime-mount",
   "metadata": {},
   "outputs": [],
   "source": []
  }
 ],
 "metadata": {
  "kernelspec": {
   "display_name": "Python 3",
   "language": "python",
   "name": "python3"
  },
  "language_info": {
   "codemirror_mode": {
    "name": "ipython",
    "version": 3
   },
   "file_extension": ".py",
   "mimetype": "text/x-python",
   "name": "python",
   "nbconvert_exporter": "python",
   "pygments_lexer": "ipython3",
   "version": "3.8.5"
  }
 },
 "nbformat": 4,
 "nbformat_minor": 5
}
