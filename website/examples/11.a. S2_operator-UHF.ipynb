{
 "cells": [
  {
   "cell_type": "code",
   "execution_count": 2,
   "metadata": {},
   "outputs": [],
   "source": [
    "# Force the local gqcpy to be imported\n",
    "import sys\n",
    "sys.path.insert(0, '../../build/gqcpy/')\n",
    "\n",
    "import gqcpy\n",
    "import numpy as np\n",
    "\n",
    "from prototypes.CUHF2 import *\n",
    "from prototypes.UNOCI import *\n",
    "from prototypes.UHF import *\n",
    "from prototypes.GHF import *\n",
    "from prototypes.RHF import *\n",
    "from prototypes.spin import *\n",
    "from prototypes.optimization import *\n",
    "from prototypes.FCI import *\n",
    "\n",
    "np.set_printoptions(formatter={'float': lambda x: \"{0:0.3f}\".format(x)})\n"
   ]
  },
  {
   "attachments": {},
   "cell_type": "markdown",
   "metadata": {},
   "source": [
    "## Parameters"
   ]
  },
  {
   "cell_type": "code",
   "execution_count": 3,
   "metadata": {},
   "outputs": [],
   "source": [
    "basis = \"STO-3G\"\n",
    "N_H = 3\n",
    "N_a = 2\n",
    "N_b = 1"
   ]
  },
  {
   "cell_type": "code",
   "execution_count": 4,
   "metadata": {},
   "outputs": [],
   "source": [
    "mol = gqcpy.Molecule.HChain(N_H, 1.4, 0)"
   ]
  },
  {
   "cell_type": "code",
   "execution_count": 5,
   "metadata": {},
   "outputs": [
    {
     "name": "stdout",
     "output_type": "stream",
     "text": [
      "UHF energy:  -1.5095578776455083\n"
     ]
    }
   ],
   "source": [
    "_, HFpar = UHF(mol, N_a, N_b, basis)"
   ]
  },
  {
   "cell_type": "code",
   "execution_count": 6,
   "metadata": {},
   "outputs": [],
   "source": [
    "spinor_basis = gqcpy.USpinOrbitalBasis_d(mol, basis)\n",
    "N = int(spinor_basis.numberOfSpinors()/2)"
   ]
  },
  {
   "attachments": {},
   "cell_type": "markdown",
   "metadata": {},
   "source": [
    "## Testing"
   ]
  },
  {
   "cell_type": "code",
   "execution_count": 7,
   "metadata": {},
   "outputs": [],
   "source": [
    "S_aa = spinor_basis.quantize(gqcpy.OverlapOperator()).alpha.parameters()\n",
    "S_bb = spinor_basis.quantize(gqcpy.OverlapOperator()).beta.parameters()"
   ]
  },
  {
   "cell_type": "code",
   "execution_count": 8,
   "metadata": {},
   "outputs": [],
   "source": [
    "Sp_a =  np.zeros_like(S_aa)\n",
    "Sp_b = S_aa"
   ]
  },
  {
   "cell_type": "code",
   "execution_count": 9,
   "metadata": {},
   "outputs": [],
   "source": [
    "Sm_a = S_bb\n",
    "Sm_b = np.zeros_like(S_aa)"
   ]
  },
  {
   "cell_type": "code",
   "execution_count": 10,
   "metadata": {},
   "outputs": [],
   "source": [
    "Smp_a = np.zeros_like(S_aa)\n",
    "Smp_b = S_aa"
   ]
  },
  {
   "cell_type": "code",
   "execution_count": 11,
   "metadata": {},
   "outputs": [],
   "source": [
    "Sz2_a = 0.25 * S_aa\n",
    "Sz2_b = 0.25 * S_bb"
   ]
  },
  {
   "cell_type": "code",
   "execution_count": 12,
   "metadata": {},
   "outputs": [],
   "source": [
    "Sz_a = spinor_basis.quantize(gqcpy.ElectronicSpin_zOperator()).alpha.parameters()\n",
    "Sz_b = spinor_basis.quantize(gqcpy.ElectronicSpin_zOperator()).beta.parameters()"
   ]
  },
  {
   "cell_type": "code",
   "execution_count": 13,
   "metadata": {},
   "outputs": [],
   "source": [
    "Sz = gqcpy.ScalarUSQOneElectronOperator_d(gqcpy.ScalarUSQOneElectronOperatorComponent_d(Sz_a), gqcpy.ScalarUSQOneElectronOperatorComponent_d(Sz_b))\n",
    "S_mp = gqcpy.ScalarUSQOneElectronOperator_d(gqcpy.ScalarUSQOneElectronOperatorComponent_d(Smp_a), gqcpy.ScalarUSQOneElectronOperatorComponent_d(Smp_b))\n",
    "Sz2 = gqcpy.ScalarUSQOneElectronOperator_d(gqcpy.ScalarUSQOneElectronOperatorComponent_d(Sz2_a), gqcpy.ScalarUSQOneElectronOperatorComponent_d(-Sz2_b))"
   ]
  },
  {
   "cell_type": "code",
   "execution_count": 14,
   "metadata": {},
   "outputs": [],
   "source": [
    "spin = Sz + S_mp + Sz2"
   ]
  },
  {
   "cell_type": "code",
   "execution_count": 15,
   "metadata": {},
   "outputs": [],
   "source": [
    "tensor_ab = gqcpy.ScalarMixedUSQTwoElectronOperatorComponent_d(-1*np.einsum('pr,qs->pqrs', S_aa, S_bb))\n",
    "tensor_ba = gqcpy.ScalarMixedUSQTwoElectronOperatorComponent_d(-1*np.einsum('pr,qs->pqrs', S_bb, S_aa))\n",
    "\n",
    "tensor_aa = gqcpy.ScalarPureUSQTwoElectronOperatorComponent_d(np.zeros((N, N, N, N)))\n",
    "tensor_bb = gqcpy.ScalarPureUSQTwoElectronOperatorComponent_d(np.zeros((N, N, N, N)))\n",
    "\n",
    "tensor = gqcpy.ScalarUSQTwoElectronOperator_d(tensor_aa, tensor_ab, tensor_ba, tensor_bb)"
   ]
  },
  {
   "cell_type": "code",
   "execution_count": 16,
   "metadata": {},
   "outputs": [],
   "source": [
    "OneDM = HFpar.calculateScalarBasis1DM()\n",
    "twoDM = HFpar.calculateScalarBasis2DM()"
   ]
  },
  {
   "cell_type": "code",
   "execution_count": 17,
   "metadata": {},
   "outputs": [
    {
     "data": {
      "text/plain": [
       "1.7499999999999996"
      ]
     },
     "execution_count": 17,
     "metadata": {},
     "output_type": "execute_result"
    }
   ],
   "source": [
    "spin.calculateExpectationValue(OneDM)[0]"
   ]
  },
  {
   "cell_type": "code",
   "execution_count": 18,
   "metadata": {},
   "outputs": [
    {
     "data": {
      "text/plain": [
       "-0.9848877655048695"
      ]
     },
     "execution_count": 18,
     "metadata": {},
     "output_type": "execute_result"
    }
   ],
   "source": [
    "tensor.calculateExpectationValue(twoDM)[0]"
   ]
  },
  {
   "cell_type": "code",
   "execution_count": 19,
   "metadata": {},
   "outputs": [
    {
     "data": {
      "text/plain": [
       "0.7651122344951301"
      ]
     },
     "execution_count": 19,
     "metadata": {},
     "output_type": "execute_result"
    }
   ],
   "source": [
    "S2_val = spin.calculateExpectationValue(OneDM)[0] + tensor.calculateExpectationValue(twoDM)[0]\n",
    "S2_val"
   ]
  },
  {
   "cell_type": "code",
   "execution_count": 20,
   "metadata": {},
   "outputs": [
    {
     "data": {
      "text/plain": [
       "0.49999999999999967"
      ]
     },
     "execution_count": 20,
     "metadata": {},
     "output_type": "execute_result"
    }
   ],
   "source": [
    "Sz_val = Sz.calculateExpectationValue(OneDM)[0]\n",
    "Sz_val"
   ]
  }
 ],
 "metadata": {
  "kernelspec": {
   "display_name": "base",
   "language": "python",
   "name": "python3"
  },
  "language_info": {
   "codemirror_mode": {
    "name": "ipython",
    "version": 3
   },
   "file_extension": ".py",
   "mimetype": "text/x-python",
   "name": "python",
   "nbconvert_exporter": "python",
   "pygments_lexer": "ipython3",
   "version": "3.8.16"
  },
  "orig_nbformat": 4,
  "vscode": {
   "interpreter": {
    "hash": "4654e147d6fe676f31a9f86e2485eea716359f8709963986145f7c2d0088ba8c"
   }
  }
 },
 "nbformat": 4,
 "nbformat_minor": 2
}
