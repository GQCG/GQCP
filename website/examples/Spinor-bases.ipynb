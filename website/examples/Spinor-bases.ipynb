{
 "cells": [
  {
   "cell_type": "markdown",
   "source": [
    "# Spinor bases"
   ],
   "metadata": {}
  },
  {
   "cell_type": "code",
   "execution_count": 1,
   "source": [
    "# Force the local gqcpy to be imported\n",
    "import sys\n",
    "sys.path.insert(0, '../../build/gqcpy/')\n",
    "\n",
    "import gqcpy\n",
    "import numpy as np\n",
    "np.set_printoptions(precision=3)"
   ],
   "outputs": [],
   "metadata": {}
  },
  {
   "cell_type": "markdown",
   "source": [
    "GQCP offers the capability to its users to work with different kinds of spinor bases. Let's explore the API of the spinor bases with a small example."
   ],
   "metadata": {}
  },
  {
   "cell_type": "code",
   "execution_count": 2,
   "source": [
    "molecule = gqcpy.Molecule.ReadXYZ(\"../../gqcp/tests/data/h2_szabo.xyz\" , 0)  # create a neutral molecule"
   ],
   "outputs": [],
   "metadata": {}
  },
  {
   "cell_type": "markdown",
   "source": [
    "## Restricted spinor bases"
   ],
   "metadata": {}
  },
  {
   "cell_type": "markdown",
   "source": [
    "The one everyone is familiar with is a spinor basis whose alpha- and beta- expansion coefficients are equal. We call this spinor basis a restricted spinor basis `RSpinOrbitalBasis`."
   ],
   "metadata": {}
  },
  {
   "cell_type": "code",
   "execution_count": 4,
   "source": [
    "r_spinor_basis = gqcpy.RSpinOrbitalBasis_d(molecule=molecule, basisset_name=\"STO-3G\")"
   ],
   "outputs": [],
   "metadata": {}
  },
  {
   "cell_type": "markdown",
   "source": [
    "Constructing a spinor basis from a molecule and a basisset specification yields a non-orthogonal spinor basis, where the underlying scalar bases have been constructed by placing GTO shells on every atom of the molecule."
   ],
   "metadata": {}
  },
  {
   "cell_type": "code",
   "execution_count": 5,
   "source": [
    "S_r = r_spinor_basis.quantize(gqcpy.OverlapOperator()).parameters()\n",
    "print(S_r)"
   ],
   "outputs": [
    {
     "output_type": "stream",
     "name": "stdout",
     "text": [
      "[[1.    0.659]\n",
      " [0.659 1.   ]]\n"
     ]
    }
   ],
   "metadata": {}
  },
  {
   "cell_type": "markdown",
   "source": [
    "Since this initial basis is non-orthogonal, we should first try to orthonormalize it."
   ],
   "metadata": {}
  },
  {
   "cell_type": "code",
   "execution_count": 6,
   "source": [
    "r_spinor_basis.lowdinOrthonormalize()\n",
    "\n",
    "S_r = r_spinor_basis.quantize(gqcpy.OverlapOperator()).parameters()\n",
    "print(S_r)"
   ],
   "outputs": [
    {
     "output_type": "stream",
     "name": "stdout",
     "text": [
      "[[1.00e+00 1.11e-16]\n",
      " [1.11e-16 1.00e+00]]\n"
     ]
    }
   ],
   "metadata": {}
  },
  {
   "cell_type": "code",
   "execution_count": 7,
   "source": [
    "T = np.random.rand(2, 2)"
   ],
   "outputs": [],
   "metadata": {}
  },
  {
   "cell_type": "code",
   "execution_count": 10,
   "source": [
    "g = r_spinor_basis.quantize(gqcpy.CoulombRepulsionOperator())\n",
    "print(g.parameters())\n",
    "g.transform(gqcpy.RTransformation_d(T))\n",
    "print(g.parameters())"
   ],
   "outputs": [
    {
     "output_type": "stream",
     "name": "stdout",
     "text": [
      "[[[[ 0.856 -0.006]\n",
      "   [-0.006  0.494]]\n",
      "\n",
      "  [[-0.006  0.011]\n",
      "   [ 0.011 -0.006]]]\n",
      "\n",
      "\n",
      " [[[-0.006  0.011]\n",
      "   [ 0.011 -0.006]]\n",
      "\n",
      "  [[ 0.494 -0.006]\n",
      "   [-0.006  0.856]]]]\n",
      "[[[[1.026e+00 1.313e-01]\n",
      "   [1.313e-01 2.552e-02]]\n",
      "\n",
      "  [[1.313e-01 1.918e-02]\n",
      "   [1.918e-02 3.849e-03]]]\n",
      "\n",
      "\n",
      " [[[1.313e-01 1.918e-02]\n",
      "   [1.918e-02 3.849e-03]]\n",
      "\n",
      "  [[2.552e-02 3.849e-03]\n",
      "   [3.849e-03 7.831e-04]]]]\n"
     ]
    }
   ],
   "metadata": {}
  },
  {
   "cell_type": "code",
   "execution_count": 11,
   "source": [
    "g_r = r_spinor_basis.quantize(gqcpy.CoulombRepulsionOperator()).parameters()\n",
    "print(g_r)"
   ],
   "outputs": [
    {
     "output_type": "stream",
     "name": "stdout",
     "text": [
      "[[[[ 0.856 -0.006]\n",
      "   [-0.006  0.494]]\n",
      "\n",
      "  [[-0.006  0.011]\n",
      "   [ 0.011 -0.006]]]\n",
      "\n",
      "\n",
      " [[[-0.006  0.011]\n",
      "   [ 0.011 -0.006]]\n",
      "\n",
      "  [[ 0.494 -0.006]\n",
      "   [-0.006  0.856]]]]\n"
     ]
    }
   ],
   "metadata": {}
  },
  {
   "cell_type": "markdown",
   "source": [
    "## General spinor bases"
   ],
   "metadata": {}
  },
  {
   "cell_type": "markdown",
   "source": [
    "General(ized) spinor bases have no restrictions on the expansion coefficients for the alpha- and beta spinors."
   ],
   "metadata": {}
  },
  {
   "cell_type": "markdown",
   "source": [
    "We can create them from a basisset specification in the same way as restricted spinor bases."
   ],
   "metadata": {}
  },
  {
   "cell_type": "code",
   "execution_count": 12,
   "source": [
    "g_spinor_basis = gqcpy.GSpinorBasis_d(molecule, \"STO-3G\")"
   ],
   "outputs": [],
   "metadata": {}
  },
  {
   "cell_type": "markdown",
   "source": [
    "Similarly as in the restricted case, the spinor basis that is initialized here, is non-orthogonal."
   ],
   "metadata": {}
  },
  {
   "cell_type": "code",
   "execution_count": 13,
   "source": [
    "S_g = g_spinor_basis.quantize(gqcpy.OverlapOperator()).parameters()\n",
    "print(S_g)"
   ],
   "outputs": [
    {
     "output_type": "stream",
     "name": "stdout",
     "text": [
      "[[1.    0.659 0.    0.   ]\n",
      " [0.659 1.    0.    0.   ]\n",
      " [0.    0.    1.    0.659]\n",
      " [0.    0.    0.659 1.   ]]\n"
     ]
    }
   ],
   "metadata": {}
  },
  {
   "cell_type": "markdown",
   "source": [
    "We may, however, proceed by orthonormalizing it using a Löwdin orthonormalization step."
   ],
   "metadata": {}
  },
  {
   "cell_type": "code",
   "execution_count": 14,
   "source": [
    "g_spinor_basis.lowdinOrthonormalize()\n",
    "\n",
    "S_g = g_spinor_basis.quantize(gqcpy.OverlapOperator()).parameters()\n",
    "print(S_g)"
   ],
   "outputs": [
    {
     "output_type": "stream",
     "name": "stdout",
     "text": [
      "[[1.00e+00 1.11e-16 0.00e+00 0.00e+00]\n",
      " [1.11e-16 1.00e+00 0.00e+00 0.00e+00]\n",
      " [0.00e+00 0.00e+00 1.00e+00 1.11e-16]\n",
      " [0.00e+00 0.00e+00 1.11e-16 1.00e+00]]\n"
     ]
    }
   ],
   "metadata": {}
  },
  {
   "cell_type": "code",
   "execution_count": 15,
   "source": [
    "g_g = g_spinor_basis.quantize(gqcpy.CoulombRepulsionOperator()).parameters()\n",
    "print(g_g)"
   ],
   "outputs": [
    {
     "output_type": "stream",
     "name": "stdout",
     "text": [
      "[[[[ 0.856 -0.006  0.     0.   ]\n",
      "   [-0.006  0.494  0.     0.   ]\n",
      "   [ 0.     0.     0.856 -0.006]\n",
      "   [ 0.     0.    -0.006  0.494]]\n",
      "\n",
      "  [[-0.006  0.011  0.     0.   ]\n",
      "   [ 0.011 -0.006  0.     0.   ]\n",
      "   [ 0.     0.    -0.006  0.011]\n",
      "   [ 0.     0.     0.011 -0.006]]\n",
      "\n",
      "  [[ 0.     0.     0.     0.   ]\n",
      "   [ 0.     0.     0.     0.   ]\n",
      "   [ 0.     0.     0.     0.   ]\n",
      "   [ 0.     0.     0.     0.   ]]\n",
      "\n",
      "  [[ 0.     0.     0.     0.   ]\n",
      "   [ 0.     0.     0.     0.   ]\n",
      "   [ 0.     0.     0.     0.   ]\n",
      "   [ 0.     0.     0.     0.   ]]]\n",
      "\n",
      "\n",
      " [[[-0.006  0.011  0.     0.   ]\n",
      "   [ 0.011 -0.006  0.     0.   ]\n",
      "   [ 0.     0.    -0.006  0.011]\n",
      "   [ 0.     0.     0.011 -0.006]]\n",
      "\n",
      "  [[ 0.494 -0.006  0.     0.   ]\n",
      "   [-0.006  0.856  0.     0.   ]\n",
      "   [ 0.     0.     0.494 -0.006]\n",
      "   [ 0.     0.    -0.006  0.856]]\n",
      "\n",
      "  [[ 0.     0.     0.     0.   ]\n",
      "   [ 0.     0.     0.     0.   ]\n",
      "   [ 0.     0.     0.     0.   ]\n",
      "   [ 0.     0.     0.     0.   ]]\n",
      "\n",
      "  [[ 0.     0.     0.     0.   ]\n",
      "   [ 0.     0.     0.     0.   ]\n",
      "   [ 0.     0.     0.     0.   ]\n",
      "   [ 0.     0.     0.     0.   ]]]\n",
      "\n",
      "\n",
      " [[[ 0.     0.     0.     0.   ]\n",
      "   [ 0.     0.     0.     0.   ]\n",
      "   [ 0.     0.     0.     0.   ]\n",
      "   [ 0.     0.     0.     0.   ]]\n",
      "\n",
      "  [[ 0.     0.     0.     0.   ]\n",
      "   [ 0.     0.     0.     0.   ]\n",
      "   [ 0.     0.     0.     0.   ]\n",
      "   [ 0.     0.     0.     0.   ]]\n",
      "\n",
      "  [[ 0.856 -0.006  0.     0.   ]\n",
      "   [-0.006  0.494  0.     0.   ]\n",
      "   [ 0.     0.     0.856 -0.006]\n",
      "   [ 0.     0.    -0.006  0.494]]\n",
      "\n",
      "  [[-0.006  0.011  0.     0.   ]\n",
      "   [ 0.011 -0.006  0.     0.   ]\n",
      "   [ 0.     0.    -0.006  0.011]\n",
      "   [ 0.     0.     0.011 -0.006]]]\n",
      "\n",
      "\n",
      " [[[ 0.     0.     0.     0.   ]\n",
      "   [ 0.     0.     0.     0.   ]\n",
      "   [ 0.     0.     0.     0.   ]\n",
      "   [ 0.     0.     0.     0.   ]]\n",
      "\n",
      "  [[ 0.     0.     0.     0.   ]\n",
      "   [ 0.     0.     0.     0.   ]\n",
      "   [ 0.     0.     0.     0.   ]\n",
      "   [ 0.     0.     0.     0.   ]]\n",
      "\n",
      "  [[-0.006  0.011  0.     0.   ]\n",
      "   [ 0.011 -0.006  0.     0.   ]\n",
      "   [ 0.     0.    -0.006  0.011]\n",
      "   [ 0.     0.     0.011 -0.006]]\n",
      "\n",
      "  [[ 0.494 -0.006  0.     0.   ]\n",
      "   [-0.006  0.856  0.     0.   ]\n",
      "   [ 0.     0.     0.494 -0.006]\n",
      "   [ 0.     0.    -0.006  0.856]]]]\n"
     ]
    }
   ],
   "metadata": {}
  }
 ],
 "metadata": {
  "kernelspec": {
   "name": "python3",
   "display_name": "Python 3.8.5 64-bit ('base': conda)"
  },
  "language_info": {
   "codemirror_mode": {
    "name": "ipython",
    "version": 3
   },
   "file_extension": ".py",
   "mimetype": "text/x-python",
   "name": "python",
   "nbconvert_exporter": "python",
   "pygments_lexer": "ipython3",
   "version": "3.8.5"
  },
  "interpreter": {
   "hash": "e4c6ce54e6d1ccff551279c9aafc06b78c48fd9e60d6b4e74c0583a74ec1d1f9"
  }
 },
 "nbformat": 4,
 "nbformat_minor": 2
}