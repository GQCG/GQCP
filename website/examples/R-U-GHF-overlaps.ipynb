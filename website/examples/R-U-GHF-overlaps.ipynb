{
 "cells": [
  {
   "cell_type": "markdown",
   "source": [
    "# Overlaps between R/U/GHF"
   ],
   "metadata": {}
  },
  {
   "cell_type": "code",
   "execution_count": 1,
   "source": [
    "# Force the local gqcpy to be imported\n",
    "import sys\n",
    "sys.path.insert(0, '../../build/gqcpy/')\n",
    "\n",
    "import gqcpy\n",
    "import numpy as np\n",
    "\n",
    "np.set_printoptions(precision=3, linewidth=120)"
   ],
   "outputs": [],
   "metadata": {}
  },
  {
   "cell_type": "markdown",
   "source": [
    "In this notebook, we will explore the multi-configurational behaviour of UHF and GHF, by projecting the UHF and GHF ONVs onto the full ONV basis expressed with respect to the RHF orbitals."
   ],
   "metadata": {}
  },
  {
   "cell_type": "markdown",
   "source": [
    "## Projecting UHF"
   ],
   "metadata": {}
  },
  {
   "cell_type": "markdown",
   "source": [
    "### H2"
   ],
   "metadata": {}
  },
  {
   "cell_type": "markdown",
   "source": [
    "As an introductory example, let's start by examining H2. We'll set up an unrestricted spin-orbital basis, where the alpha- and beta-coefficient matrices are equal. Then, we expect the projection of the UHF ONV onto the ONV basis expressed with respect to the RHF spin-orbitals to yield a linear combination consisting of exactly one 1, and the rest 0."
   ],
   "metadata": {}
  },
  {
   "cell_type": "code",
   "execution_count": 2,
   "source": [
    "molecule = gqcpy.Molecule.HChain(2, 1.0)\n",
    "N = molecule.numberOfElectrons()"
   ],
   "outputs": [],
   "metadata": {}
  },
  {
   "cell_type": "code",
   "execution_count": 7,
   "source": [
    "r_spinor_basis = gqcpy.RSpinOrbitalBasis_d(molecule, \"STO-3G\")\n",
    "K = r_spinor_basis.numberOfSpatialOrbitals()\n",
    "\n",
    "S = r_spinor_basis.quantize(gqcpy.OverlapOperator())"
   ],
   "outputs": [],
   "metadata": {}
  },
  {
   "cell_type": "code",
   "execution_count": 5,
   "source": [
    "sq_hamiltonian = r_spinor_basis.quantize(gqcpy.FQMolecularHamiltonian(molecule))  # 'sq' for 'second-quantized'"
   ],
   "outputs": [],
   "metadata": {}
  },
  {
   "cell_type": "code",
   "execution_count": 9,
   "source": [
    "rhf_environment = gqcpy.RHFSCFEnvironment_d.WithCoreGuess(N, sq_hamiltonian, S)\n",
    "rhf_solver = gqcpy.RHFSCFSolver_d.Plain()\n",
    "\n",
    "rhf_objective = gqcpy.DiagonalRHFFockMatrixObjective_d(sq_hamiltonian)  # use the default threshold of 1.0e-08"
   ],
   "outputs": [],
   "metadata": {}
  },
  {
   "cell_type": "code",
   "execution_count": 11,
   "source": [
    "rhf_parameters = gqcpy.RHF_d.optimize(rhf_objective, rhf_solver, rhf_environment).groundStateParameters()"
   ],
   "outputs": [],
   "metadata": {}
  },
  {
   "cell_type": "markdown",
   "source": [
    "After having done the RHF calculation, we are able to construct restricted and unrestricted spin-orbital bases."
   ],
   "metadata": {}
  },
  {
   "cell_type": "code",
   "execution_count": 12,
   "source": [
    "r_spinor_basis.transform(rhf_parameters.expansion())"
   ],
   "outputs": [],
   "metadata": {}
  },
  {
   "cell_type": "code",
   "execution_count": 14,
   "source": [
    "u_spinor_basis = gqcpy.USpinOrbitalBasis_d.FromRestricted(r_spinor_basis)"
   ],
   "outputs": [],
   "metadata": {}
  },
  {
   "cell_type": "markdown",
   "source": [
    "We are now in the position to calculate the expansion of the UHF determinant in the full spin-resolved ONV basis expressed with respect to the RHF spin-orbitals."
   ],
   "metadata": {}
  },
  {
   "cell_type": "code",
   "execution_count": 15,
   "source": [
    "uhf_determinant = gqcpy.SpinResolvedONV.UHF(2, 1, 1)"
   ],
   "outputs": [],
   "metadata": {}
  },
  {
   "cell_type": "markdown",
   "source": [
    "Projecting this determinant is done by constructing a `LinearExpansion` from an ONV projection:"
   ],
   "metadata": {}
  },
  {
   "cell_type": "code",
   "execution_count": 16,
   "source": [
    "expansion = gqcpy.LinearExpansion_SpinResolved.FromONVProjection(uhf_determinant, r_spinor_basis, u_spinor_basis)\n",
    "\n",
    "def print_function(coefficient, onv):\n",
    "    print(\"{:7.4f}\".format(coefficient), onv)\n",
    "    \n",
    "expansion.forEach(print_function)"
   ],
   "outputs": [
    {
     "output_type": "stream",
     "name": "stdout",
     "text": [
      " 1.0000 01|01\n",
      "-0.0000 01|10\n",
      "-0.0000 10|01\n",
      " 0.0000 10|10\n"
     ]
    }
   ],
   "metadata": {}
  },
  {
   "cell_type": "markdown",
   "source": [
    "### H4"
   ],
   "metadata": {}
  },
  {
   "cell_type": "markdown",
   "source": [
    "As a more interesting example, we'll project the H4 UHF triplet state onto the basis of ONVs expressed with respect to the RHF spin-orbitals."
   ],
   "metadata": {}
  },
  {
   "cell_type": "code",
   "execution_count": 17,
   "source": [
    "molecule = gqcpy.Molecule.HRingFromDistance(4, 1.0, 0)\n",
    "N = molecule.numberOfElectrons()\n",
    "N_P = N//2\n",
    "N_alpha = N//2\n",
    "N_beta = N//2\n",
    "\n",
    "internuclear_repulsion_energy = gqcpy.NuclearRepulsionOperator(molecule.nuclearFramework()).value()"
   ],
   "outputs": [],
   "metadata": {}
  },
  {
   "cell_type": "markdown",
   "source": [
    "Using Xeno's code, we find the following coefficient matrices for the RHF solution:"
   ],
   "metadata": {}
  },
  {
   "cell_type": "code",
   "execution_count": 18,
   "source": [
    "C = [[-0.27745359, -0.8505133,   0.85051937,  2.02075317],\n",
    "     [-0.27745362, -0.85051937, -0.8505133,  -2.02075317],\n",
    "     [-0.27745359,  0.8505133,  -0.85051937,  2.02075317],\n",
    "     [-0.27745362,  0.85051937,  0.8505133,  -2.02075317]]\n",
    "C = np.array(C)"
   ],
   "outputs": [],
   "metadata": {}
  },
  {
   "cell_type": "markdown",
   "source": [
    "and the UHF solution:"
   ],
   "metadata": {}
  },
  {
   "cell_type": "code",
   "execution_count": 19,
   "source": [
    "C_alpha = [[-1.75646828e-01, -1.20606646e-06,  1.20281173e+00,  2.03213486e+00],\n",
    "           [-3.78560533e-01, -1.20281173e+00, -1.20606647e-06, -2.00427438e+00],\n",
    "           [-1.75646828e-01,  1.20606646e-06, -1.20281173e+00,  2.03213486e+00],\n",
    "           [-3.78560533e-01,  1.20281173e+00,  1.20606646e-06, -2.00427438e+00]]\n",
    "C_alpha = np.array(C_alpha)\n",
    "\n",
    "C_beta = [[-3.78560533e-01,  1.20281173e+00,  1.21724557e-06,  2.00427438e+00],\n",
    "          [-1.75646828e-01,  1.21724558e-06, -1.20281173e+00, -2.03213486e+00],\n",
    "          [-3.78560533e-01, -1.20281173e+00, -1.21724558e-06,  2.00427438e+00],\n",
    "          [-1.75646828e-01, -1.21724558e-06,  1.20281173e+00, -2.03213486e+00]]\n",
    "C_beta = np.array(C_beta)"
   ],
   "outputs": [],
   "metadata": {}
  },
  {
   "cell_type": "markdown",
   "source": [
    "Let's now set up the corresponding restricted and unrestricted spin-orbital bases."
   ],
   "metadata": {}
  },
  {
   "cell_type": "code",
   "execution_count": 21,
   "source": [
    "r_spinor_basis = gqcpy.RSpinOrbitalBasis_d(molecule, \"STO-3G\")\n",
    "r_spinor_basis.transform(gqcpy.RTransformation_d(C))"
   ],
   "outputs": [],
   "metadata": {}
  },
  {
   "cell_type": "code",
   "execution_count": 24,
   "source": [
    "u_spinor_basis = gqcpy.USpinOrbitalBasis_d(molecule, \"STO-3G\")\n",
    "u_spinor_basis.transform(gqcpy.UTransformation_d(gqcpy.UTransformationComponent_d(C_alpha), gqcpy.UTransformationComponent_d(C_beta)))"
   ],
   "outputs": [],
   "metadata": {}
  },
  {
   "cell_type": "markdown",
   "source": [
    "We can now construct the UHF spin-resolved ONV:"
   ],
   "metadata": {}
  },
  {
   "cell_type": "code",
   "execution_count": 25,
   "source": [
    "uhf_determinant = gqcpy.SpinResolvedONV.UHF(4, 2, 2)"
   ],
   "outputs": [],
   "metadata": {}
  },
  {
   "cell_type": "markdown",
   "source": [
    "and project it onto the spin-resolved basis of ONVs expressed with respect to the orthonormal restricted spin-orbitals:"
   ],
   "metadata": {}
  },
  {
   "cell_type": "code",
   "execution_count": 26,
   "source": [
    "expansion = gqcpy.LinearExpansion_SpinResolved.FromONVProjection(uhf_determinant, r_spinor_basis, u_spinor_basis)\n",
    "\n",
    "expansion.forEach(print_function)"
   ],
   "outputs": [
    {
     "output_type": "stream",
     "name": "stdout",
     "text": [
      "-0.4987 0011|0011\n",
      " 0.4987 0011|0101\n",
      " 0.0000 0011|0110\n",
      " 0.0000 0011|1001\n",
      "-0.0251 0011|1010\n",
      " 0.0251 0011|1100\n",
      "-0.4987 0101|0011\n",
      " 0.4987 0101|0101\n",
      " 0.0000 0101|0110\n",
      " 0.0000 0101|1001\n",
      "-0.0251 0101|1010\n",
      " 0.0251 0101|1100\n",
      "-0.0000 0110|0011\n",
      " 0.0000 0110|0101\n",
      " 0.0000 0110|0110\n",
      " 0.0000 0110|1001\n",
      "-0.0000 0110|1010\n",
      " 0.0000 0110|1100\n",
      " 0.0000 1001|0011\n",
      "-0.0000 1001|0101\n",
      "-0.0000 1001|0110\n",
      "-0.0000 1001|1001\n",
      " 0.0000 1001|1010\n",
      "-0.0000 1001|1100\n",
      " 0.0251 1010|0011\n",
      "-0.0251 1010|0101\n",
      "-0.0000 1010|0110\n",
      "-0.0000 1010|1001\n",
      " 0.0013 1010|1010\n",
      "-0.0013 1010|1100\n",
      " 0.0251 1100|0011\n",
      "-0.0251 1100|0101\n",
      "-0.0000 1100|0110\n",
      "-0.0000 1100|1001\n",
      " 0.0013 1100|1010\n",
      "-0.0013 1100|1100\n"
     ]
    }
   ],
   "metadata": {}
  }
 ],
 "metadata": {
  "kernelspec": {
   "name": "python3",
   "display_name": "Python 3.8.5 64-bit ('base': conda)"
  },
  "language_info": {
   "codemirror_mode": {
    "name": "ipython",
    "version": 3
   },
   "file_extension": ".py",
   "mimetype": "text/x-python",
   "name": "python",
   "nbconvert_exporter": "python",
   "pygments_lexer": "ipython3",
   "version": "3.8.5"
  },
  "interpreter": {
   "hash": "e4c6ce54e6d1ccff551279c9aafc06b78c48fd9e60d6b4e74c0583a74ec1d1f9"
  }
 },
 "nbformat": 4,
 "nbformat_minor": 2
}