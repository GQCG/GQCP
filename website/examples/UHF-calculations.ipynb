{
 "cells": [
  {
   "cell_type": "markdown",
   "metadata": {},
   "source": [
    "# UHF SCF"
   ]
  },
  {
   "cell_type": "code",
   "execution_count": 1,
   "metadata": {},
   "outputs": [],
   "source": [
    "# Force the local gqcpy to be imported\n",
    "import sys\n",
    "sys.path.insert(0, '../../build/gqcpy/')\n",
    "\n",
    "import gqcpy\n",
    "import numpy as np\n",
    "\n",
    "np.set_printoptions(precision=3, linewidth=120)"
   ]
  },
  {
   "cell_type": "markdown",
   "metadata": {},
   "source": [
    "## Molecular setup"
   ]
  },
  {
   "cell_type": "markdown",
   "metadata": {},
   "source": [
    "UHF SCF calculations start off in the same way as RHF SCF calculations. We first need a second-quantized Hamiltonian that expresses all the integrals in the AO basis."
   ]
  },
  {
   "cell_type": "code",
   "execution_count": 2,
   "metadata": {},
   "outputs": [],
   "source": [
    "molecule = gqcpy.Molecule.HRingFromDistance(3, 1.889, 0)  # create a neutral molecule\n",
    "N = molecule.numberOfElectrons()\n",
    "N_alpha = N//2 + 1\n",
    "N_beta = N//2\n",
    "\n",
    "spinor_basis = gqcpy.USpinOrbitalBasis_d(molecule, \"STO-3G\")\n",
    "S = spinor_basis.quantizeOverlapOperator()\n",
    "\n",
    "sq_hamiltonian = gqcpy.USQHamiltonian_d.Molecular(spinor_basis, molecule)  # 'sq' for 'second-quantized'"
   ]
  },
  {
   "cell_type": "code",
   "execution_count": 3,
   "metadata": {},
   "outputs": [
    {
     "output_type": "stream",
     "name": "stdout",
     "text": [
      "Number of electrons: 3 \nH  (1.09061, 0, 0)\nH  (-0.545307, 0.9445, 0)\nH  (-0.545307, -0.9445, 0)\n\n"
     ]
    }
   ],
   "source": [
    "print(molecule)"
   ]
  },
  {
   "cell_type": "markdown",
   "metadata": {},
   "source": [
    "## Plain UHF SCF calculations"
   ]
  },
  {
   "cell_type": "markdown",
   "metadata": {},
   "source": [
    "Then, we need an UHF SCF solver and an UHF SCF environment."
   ]
  },
  {
   "cell_type": "code",
   "execution_count": 4,
   "metadata": {},
   "outputs": [],
   "source": [
    "environment = gqcpy.UHFSCFEnvironment_d.WithCoreGuess(N_alpha, N_beta, sq_hamiltonian, S)\n",
    "plain_solver = gqcpy.UHFSCFSolver_d.Plain(threshold=1.0e-04, maximum_number_of_iterations=1000)  # the system is not converging very rapidly"
   ]
  },
  {
   "cell_type": "markdown",
   "metadata": {},
   "source": [
    "Using GQCP's capabilities of 'injecting' Python code inside the C++ library, we'll add an intermediary step that doesn't modify the environment, but just prints out the current Fock matrices.\n",
    "\n",
    "This is done by writing a `Python` function that manipulates the solver's environment (of type `EnvironmentType`), and subsequently wrapping that function into a `FunctionalStep_EnvironmentType`. The instance of type `FunctionalStep_EnvironmentType` is then subsequently inserted inside the algorithm that should be performed."
   ]
  },
  {
   "cell_type": "markdown",
   "metadata": {},
   "source": [
    "In this example, we'll print out the alpha- and beta- Fock matrices. The Fock matrices are stored as a list of unrestricted Fock-operators. Hence, we have to get alpha/beta component of the last entry and print its parameters."
   ]
  },
  {
   "cell_type": "code",
   "execution_count": 5,
   "metadata": {},
   "outputs": [],
   "source": [
    "def print_fock_matrices(environment):\n",
    "    if environment.fock_matrices:\n",
    "        print(\"Alpha Fock matrix:\\n{}\\n\".format(environment.fock_matrices[-1].alpha.parameters()))\n",
    "        print(\"Beta Fock matrix:\\n{}\".format(environment.fock_matrices[-1].beta.parameters()))\n",
    "    else:\n",
    "        print(\"No Fock matrices in the queue.\")\n",
    "\n",
    "print_step = gqcpy.FunctionalStep_UHFSCFEnvironment_d(print_fock_matrices)"
   ]
  },
  {
   "cell_type": "code",
   "execution_count": 6,
   "metadata": {},
   "outputs": [],
   "source": [
    "plain_solver.insert(print_step, index=0)  # insert at the front"
   ]
  },
  {
   "cell_type": "markdown",
   "metadata": {},
   "source": [
    "We can use the solver to optimize the UHF parameters."
   ]
  },
  {
   "cell_type": "code",
   "execution_count": 7,
   "metadata": {
    "tags": []
   },
   "outputs": [
    {
     "output_type": "stream",
     "name": "stdout",
     "text": [
      "No Fock matrices in the queue.\nAlpha Fock matrix:\n[[-0.488 -0.453 -0.453]\n [-0.453 -0.381 -0.56 ]\n [-0.453 -0.56  -0.381]]\n\nBeta Fock matrix:\n[[-0.083 -0.444 -0.444]\n [-0.444 -0.257 -0.474]\n [-0.444 -0.474 -0.257]]\nAlpha Fock matrix:\n[[-0.515 -0.456 -0.456]\n [-0.456 -0.368 -0.555]\n [-0.456 -0.555 -0.368]]\n\nBeta Fock matrix:\n[[-0.049 -0.434 -0.434]\n [-0.434 -0.272 -0.489]\n [-0.434 -0.489 -0.272]]\nAlpha Fock matrix:\n[[-0.525 -0.457 -0.457]\n [-0.457 -0.363 -0.553]\n [-0.457 -0.553 -0.363]]\n\nBeta Fock matrix:\n[[-0.036 -0.429 -0.429]\n [-0.429 -0.276 -0.493]\n [-0.429 -0.493 -0.276]]\nAlpha Fock matrix:\n[[-0.528 -0.458 -0.458]\n [-0.458 -0.361 -0.552]\n [-0.458 -0.552 -0.361]]\n\nBeta Fock matrix:\n[[-0.031 -0.427 -0.427]\n [-0.427 -0.278 -0.495]\n [-0.427 -0.495 -0.278]]\nAlpha Fock matrix:\n[[-0.529 -0.458 -0.458]\n [-0.458 -0.361 -0.552]\n [-0.458 -0.552 -0.361]]\n\nBeta Fock matrix:\n[[-0.03  -0.426 -0.426]\n [-0.426 -0.278 -0.495]\n [-0.426 -0.495 -0.278]]\nAlpha Fock matrix:\n[[-0.53  -0.458 -0.458]\n [-0.458 -0.361 -0.552]\n [-0.458 -0.552 -0.361]]\n\nBeta Fock matrix:\n[[-0.029 -0.426 -0.426]\n [-0.426 -0.278 -0.496]\n [-0.426 -0.496 -0.278]]\nAlpha Fock matrix:\n[[-0.53  -0.458 -0.458]\n [-0.458 -0.361 -0.552]\n [-0.458 -0.552 -0.361]]\n\nBeta Fock matrix:\n[[-0.029 -0.426 -0.426]\n [-0.426 -0.278 -0.496]\n [-0.426 -0.496 -0.278]]\nAlpha Fock matrix:\n[[-0.53  -0.458 -0.458]\n [-0.458 -0.361 -0.552]\n [-0.458 -0.552 -0.361]]\n\nBeta Fock matrix:\n[[-0.029 -0.426 -0.426]\n [-0.426 -0.278 -0.496]\n [-0.426 -0.496 -0.278]]\nAlpha Fock matrix:\n[[-0.53  -0.458 -0.458]\n [-0.458 -0.361 -0.552]\n [-0.458 -0.552 -0.361]]\n\nBeta Fock matrix:\n[[-0.029 -0.425 -0.425]\n [-0.425 -0.278 -0.496]\n [-0.425 -0.496 -0.278]]\n"
     ]
    }
   ],
   "source": [
    "qc_structure = gqcpy.UHF_d.optimize(plain_solver, environment)"
   ]
  },
  {
   "cell_type": "code",
   "execution_count": 8,
   "metadata": {},
   "outputs": [
    {
     "output_type": "stream",
     "name": "stdout",
     "text": [
      "-1.328057162456922\n"
     ]
    }
   ],
   "source": [
    "print(qc_structure.groundStateEnergy() + gqcpy.Operator.NuclearRepulsion(molecule).value())"
   ]
  },
  {
   "cell_type": "code",
   "execution_count": 9,
   "metadata": {},
   "outputs": [],
   "source": [
    "uhf_parameters = qc_structure.groundStateParameters()"
   ]
  },
  {
   "cell_type": "code",
   "execution_count": 10,
   "metadata": {},
   "outputs": [
    {
     "output_type": "stream",
     "name": "stdout",
     "text": [
      "[-0.702 -0.091  0.38 ]\n"
     ]
    }
   ],
   "source": [
    "print(uhf_parameters.orbitalEnergies().alpha)"
   ]
  },
  {
   "cell_type": "code",
   "execution_count": 11,
   "metadata": {},
   "outputs": [
    {
     "output_type": "stream",
     "name": "stdout",
     "text": [
      "[-0.568  0.432  0.596]\n"
     ]
    }
   ],
   "source": [
    "print(uhf_parameters.orbitalEnergies().beta)"
   ]
  },
  {
   "cell_type": "code",
   "execution_count": 12,
   "metadata": {},
   "outputs": [
    {
     "output_type": "stream",
     "name": "stdout",
     "text": [
      "10\n"
     ]
    }
   ],
   "source": [
    "print(plain_solver.numberOfIterations())"
   ]
  },
  {
   "cell_type": "markdown",
   "metadata": {},
   "source": [
    "## DIIS UHF SCF calculations"
   ]
  },
  {
   "cell_type": "code",
   "execution_count": 13,
   "metadata": {},
   "outputs": [],
   "source": [
    "environment = gqcpy.UHFSCFEnvironment_d.WithCoreGuess(N_alpha, N_beta, sq_hamiltonian, S)\n",
    "diis_solver = gqcpy.UHFSCFSolver_d.DIIS(threshold=1.0e-04, maximum_number_of_iterations=1000, minimum_subspace_dimension=6, maximum_subspace_dimension=6)  # the system is not converging very rapidly"
   ]
  },
  {
   "cell_type": "code",
   "execution_count": 14,
   "metadata": {},
   "outputs": [],
   "source": [
    "qc_structure = gqcpy.UHF_d.optimize(diis_solver, environment)"
   ]
  },
  {
   "cell_type": "code",
   "execution_count": 15,
   "metadata": {},
   "outputs": [
    {
     "output_type": "stream",
     "name": "stdout",
     "text": [
      "-1.3280571497657099\n"
     ]
    }
   ],
   "source": [
    "print(qc_structure.groundStateEnergy() + gqcpy.Operator.NuclearRepulsion(molecule).value())"
   ]
  },
  {
   "cell_type": "code",
   "execution_count": 16,
   "metadata": {},
   "outputs": [],
   "source": [
    "uhf_parameters = qc_structure.groundStateParameters()"
   ]
  },
  {
   "cell_type": "code",
   "execution_count": 17,
   "metadata": {},
   "outputs": [
    {
     "output_type": "stream",
     "name": "stdout",
     "text": [
      "[-0.702 -0.091  0.38 ]\n"
     ]
    }
   ],
   "source": [
    "print(uhf_parameters.orbitalEnergies().alpha)"
   ]
  },
  {
   "cell_type": "code",
   "execution_count": 18,
   "metadata": {},
   "outputs": [
    {
     "output_type": "stream",
     "name": "stdout",
     "text": [
      "[-0.568  0.432  0.596]\n"
     ]
    }
   ],
   "source": [
    "print(uhf_parameters.orbitalEnergies().beta)"
   ]
  },
  {
   "cell_type": "code",
   "execution_count": 19,
   "metadata": {},
   "outputs": [
    {
     "output_type": "stream",
     "name": "stdout",
     "text": [
      "10\n"
     ]
    }
   ],
   "source": [
    "print(diis_solver.numberOfIterations())"
   ]
  },
  {
   "cell_type": "markdown",
   "metadata": {},
   "source": [
    "## Complex UHF SCF calculations"
   ]
  },
  {
   "cell_type": "markdown",
   "metadata": {},
   "source": [
    "The same approach can be used for complex UHF calculations. We just replace the \"_d\" with \"_cd\" indicating the use of complex doubles."
   ]
  },
  {
   "cell_type": "code",
   "execution_count": 21,
   "metadata": {},
   "outputs": [],
   "source": [
    "complex_spinor_basis = gqcpy.USpinOrbitalBasis_cd(molecule, \"STO-3G\")\n",
    "complex_S = complex_spinor_basis.quantizeOverlapOperator()\n",
    "\n",
    "complex_sq_hamiltonian = gqcpy.USQHamiltonian_cd.Molecular(complex_spinor_basis, molecule)  # 'sq' for 'second-quantized'"
   ]
  },
  {
   "cell_type": "code",
   "execution_count": 22,
   "metadata": {},
   "outputs": [],
   "source": [
    "complex_environment = gqcpy.UHFSCFEnvironment_cd.WithComplexlyTransformedCoreGuess(N_alpha, N_beta, complex_sq_hamiltonian, complex_S)\n",
    "complex_plain_solver = gqcpy.UHFSCFSolver_cd.Plain(threshold=1.0e-04, maximum_number_of_iterations=1000)  # the system is not converging very rapidly"
   ]
  },
  {
   "cell_type": "code",
   "execution_count": 23,
   "metadata": {},
   "outputs": [],
   "source": [
    "complex_qc_structure = gqcpy.UHF_cd.optimize(complex_plain_solver, complex_environment)"
   ]
  },
  {
   "cell_type": "code",
   "execution_count": 24,
   "metadata": {},
   "outputs": [
    {
     "output_type": "stream",
     "name": "stdout",
     "text": [
      "-1.3358471551411335\n"
     ]
    }
   ],
   "source": [
    "print(complex_qc_structure.groundStateEnergy().real + gqcpy.Operator.NuclearRepulsion(molecule).value())"
   ]
  }
 ],
 "metadata": {
  "kernelspec": {
   "display_name": "python3.7",
   "language": "python",
   "name": "python3.7"
  },
  "language_info": {
   "codemirror_mode": {
    "name": "ipython",
    "version": 3
   },
   "file_extension": ".py",
   "mimetype": "text/x-python",
   "name": "python",
   "nbconvert_exporter": "python",
   "pygments_lexer": "ipython3",
   "version": "3.7.9-final"
  }
 },
 "nbformat": 4,
 "nbformat_minor": 2
}