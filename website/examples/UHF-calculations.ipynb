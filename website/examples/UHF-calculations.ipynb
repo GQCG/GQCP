{
 "cells": [
  {
   "cell_type": "markdown",
   "source": [
    "# UHF SCF"
   ],
   "metadata": {}
  },
  {
   "cell_type": "code",
   "execution_count": 1,
   "source": [
    "# Force the local gqcpy to be imported\n",
    "import sys\n",
    "sys.path.insert(0, '../../build/gqcpy/')\n",
    "\n",
    "import gqcpy\n",
    "import numpy as np\n",
    "\n",
    "np.set_printoptions(precision=3, linewidth=120)"
   ],
   "outputs": [],
   "metadata": {}
  },
  {
   "cell_type": "markdown",
   "source": [
    "## Molecular setup"
   ],
   "metadata": {}
  },
  {
   "cell_type": "markdown",
   "source": [
    "UHF SCF calculations start off in the same way as RHF SCF calculations. We first need a second-quantized Hamiltonian that expresses all the integrals in the AO basis."
   ],
   "metadata": {}
  },
  {
   "cell_type": "code",
   "execution_count": 2,
   "source": [
    "molecule = gqcpy.Molecule.HRingFromDistance(3, 1.889, 0)  # create a neutral molecule\n",
    "N = molecule.numberOfElectrons()\n",
    "N_alpha = N//2 + 1\n",
    "N_beta = N//2\n",
    "\n",
    "spinor_basis = gqcpy.USpinOrbitalBasis_d(molecule, \"STO-3G\")\n",
    "S = spinor_basis.quantize(gqcpy.OverlapOperator())\n",
    "\n",
    "sq_hamiltonian = spinor_basis.quantize(gqcpy.FQMolecularHamiltonian(molecule))  # 'sq' for 'second-quantized'"
   ],
   "outputs": [],
   "metadata": {}
  },
  {
   "cell_type": "code",
   "execution_count": 3,
   "source": [
    "print(molecule)"
   ],
   "outputs": [
    {
     "output_type": "stream",
     "name": "stdout",
     "text": [
      "Number of electrons: 3 \n",
      "H  (1.09061, 0, 0)\n",
      "H  (-0.545307, 0.9445, 0)\n",
      "H  (-0.545307, -0.9445, 0)\n",
      "\n"
     ]
    }
   ],
   "metadata": {}
  },
  {
   "cell_type": "markdown",
   "source": [
    "## Plain UHF SCF calculations"
   ],
   "metadata": {}
  },
  {
   "cell_type": "markdown",
   "source": [
    "Then, we need an UHF SCF solver and an UHF SCF environment."
   ],
   "metadata": {}
  },
  {
   "cell_type": "code",
   "execution_count": 4,
   "source": [
    "environment = gqcpy.UHFSCFEnvironment_d.WithCoreGuess(N_alpha, N_beta, sq_hamiltonian, S)\n",
    "plain_solver = gqcpy.UHFSCFSolver_d.Plain(threshold=1.0e-04, maximum_number_of_iterations=1000)  # the system is not converging very rapidly"
   ],
   "outputs": [],
   "metadata": {}
  },
  {
   "cell_type": "markdown",
   "source": [
    "Using GQCP's capabilities of 'injecting' Python code inside the C++ library, we'll add an intermediary step that doesn't modify the environment, but just prints out the current Fock matrices.\n",
    "\n",
    "This is done by writing a `Python` function that manipulates the solver's environment (of type `EnvironmentType`), and subsequently wrapping that function into a `FunctionalStep_EnvironmentType`. The instance of type `FunctionalStep_EnvironmentType` is then subsequently inserted inside the algorithm that should be performed."
   ],
   "metadata": {}
  },
  {
   "cell_type": "markdown",
   "source": [
    "In this example, we'll print out the alpha- and beta- Fock matrices. The Fock matrices are stored as a list of unrestricted Fock-operators. Hence, we have to get alpha/beta component of the last entry and print its parameters."
   ],
   "metadata": {}
  },
  {
   "cell_type": "code",
   "execution_count": 5,
   "source": [
    "def print_fock_matrices(environment):\n",
    "    if environment.fock_matrices:\n",
    "        print(\"Alpha Fock matrix:\\n{}\\n\".format(environment.fock_matrices[-1].alpha.parameters()))\n",
    "        print(\"Beta Fock matrix:\\n{}\".format(environment.fock_matrices[-1].beta.parameters()))\n",
    "    else:\n",
    "        print(\"No Fock matrices in the queue.\")\n",
    "\n",
    "print_step = gqcpy.FunctionalStep_UHFSCFEnvironment_d(print_fock_matrices)"
   ],
   "outputs": [],
   "metadata": {}
  },
  {
   "cell_type": "code",
   "execution_count": 6,
   "source": [
    "plain_solver.insert(print_step, index=0)  # insert at the front"
   ],
   "outputs": [],
   "metadata": {}
  },
  {
   "cell_type": "markdown",
   "source": [
    "We can use the solver to optimize the UHF parameters."
   ],
   "metadata": {}
  },
  {
   "cell_type": "code",
   "execution_count": 7,
   "source": [
    "qc_structure = gqcpy.UHF_d.optimize(plain_solver, environment)"
   ],
   "outputs": [
    {
     "output_type": "stream",
     "name": "stdout",
     "text": [
      "No Fock matrices in the queue.\n",
      "Alpha Fock matrix:\n",
      "[[-0.467 -0.42  -0.508]\n",
      " [-0.42  -0.436 -0.539]\n",
      " [-0.508 -0.539 -0.348]]\n",
      "\n",
      "Beta Fock matrix:\n",
      "[[-0.117 -0.435 -0.46 ]\n",
      " [-0.435 -0.168 -0.468]\n",
      " [-0.46  -0.468 -0.311]]\n",
      "Alpha Fock matrix:\n",
      "[[-0.488 -0.427 -0.506]\n",
      " [-0.427 -0.446 -0.535]\n",
      " [-0.506 -0.535 -0.316]]\n",
      "\n",
      "Beta Fock matrix:\n",
      "[[-0.09  -0.415 -0.462]\n",
      " [-0.415 -0.154 -0.478]\n",
      " [-0.462 -0.478 -0.346]]\n",
      "Alpha Fock matrix:\n",
      "[[-0.5   -0.434 -0.502]\n",
      " [-0.434 -0.458 -0.531]\n",
      " [-0.502 -0.531 -0.293]]\n",
      "\n",
      "Beta Fock matrix:\n",
      "[[-0.076 -0.403 -0.463]\n",
      " [-0.403 -0.141 -0.48 ]\n",
      " [-0.463 -0.48  -0.368]]\n",
      "Alpha Fock matrix:\n",
      "[[-0.506 -0.439 -0.499]\n",
      " [-0.439 -0.467 -0.527]\n",
      " [-0.499 -0.527 -0.277]]\n",
      "\n",
      "Beta Fock matrix:\n",
      "[[-0.068 -0.396 -0.463]\n",
      " [-0.396 -0.13  -0.481]\n",
      " [-0.463 -0.481 -0.383]]\n",
      "Alpha Fock matrix:\n",
      "[[-0.51  -0.443 -0.497]\n",
      " [-0.443 -0.474 -0.524]\n",
      " [-0.497 -0.524 -0.265]]\n",
      "\n",
      "Beta Fock matrix:\n",
      "[[-0.064 -0.391 -0.464]\n",
      " [-0.391 -0.121 -0.481]\n",
      " [-0.464 -0.481 -0.393]]\n",
      "Alpha Fock matrix:\n",
      "[[-0.512 -0.445 -0.497]\n",
      " [-0.445 -0.48  -0.522]\n",
      " [-0.497 -0.522 -0.257]]\n",
      "\n",
      "Beta Fock matrix:\n",
      "[[-0.062 -0.387 -0.465]\n",
      " [-0.387 -0.114 -0.48 ]\n",
      " [-0.465 -0.48  -0.4  ]]\n",
      "Alpha Fock matrix:\n",
      "[[-0.513 -0.446 -0.497]\n",
      " [-0.446 -0.484 -0.52 ]\n",
      " [-0.497 -0.52  -0.251]]\n",
      "\n",
      "Beta Fock matrix:\n",
      "[[-0.061 -0.384 -0.466]\n",
      " [-0.384 -0.108 -0.479]\n",
      " [-0.466 -0.479 -0.405]]\n",
      "Alpha Fock matrix:\n",
      "[[-0.513 -0.447 -0.497]\n",
      " [-0.447 -0.488 -0.518]\n",
      " [-0.497 -0.518 -0.247]]\n",
      "\n",
      "Beta Fock matrix:\n",
      "[[-0.061 -0.383 -0.467]\n",
      " [-0.383 -0.103 -0.479]\n",
      " [-0.467 -0.479 -0.409]]\n",
      "Alpha Fock matrix:\n",
      "[[-0.513 -0.448 -0.497]\n",
      " [-0.448 -0.49  -0.516]\n",
      " [-0.497 -0.516 -0.244]]\n",
      "\n",
      "Beta Fock matrix:\n",
      "[[-0.062 -0.381 -0.467]\n",
      " [-0.381 -0.099 -0.478]\n",
      " [-0.467 -0.478 -0.412]]\n",
      "Alpha Fock matrix:\n",
      "[[-0.513 -0.449 -0.498]\n",
      " [-0.449 -0.493 -0.515]\n",
      " [-0.498 -0.515 -0.242]]\n",
      "\n",
      "Beta Fock matrix:\n",
      "[[-0.062 -0.38  -0.468]\n",
      " [-0.38  -0.096 -0.477]\n",
      " [-0.468 -0.477 -0.414]]\n",
      "Alpha Fock matrix:\n",
      "[[-0.512 -0.449 -0.498]\n",
      " [-0.449 -0.495 -0.514]\n",
      " [-0.498 -0.514 -0.24 ]]\n",
      "\n",
      "Beta Fock matrix:\n",
      "[[-0.063 -0.379 -0.468]\n",
      " [-0.379 -0.093 -0.477]\n",
      " [-0.468 -0.477 -0.415]]\n",
      "Alpha Fock matrix:\n",
      "[[-0.512 -0.449 -0.499]\n",
      " [-0.449 -0.496 -0.513]\n",
      " [-0.499 -0.513 -0.239]]\n",
      "\n",
      "Beta Fock matrix:\n",
      "[[-0.064 -0.379 -0.469]\n",
      " [-0.379 -0.09  -0.476]\n",
      " [-0.469 -0.476 -0.416]]\n",
      "Alpha Fock matrix:\n",
      "[[-0.511 -0.449 -0.5  ]\n",
      " [-0.449 -0.497 -0.512]\n",
      " [-0.5   -0.512 -0.238]]\n",
      "\n",
      "Beta Fock matrix:\n",
      "[[-0.065 -0.378 -0.469]\n",
      " [-0.378 -0.088 -0.476]\n",
      " [-0.469 -0.476 -0.417]]\n",
      "Alpha Fock matrix:\n",
      "[[-0.511 -0.449 -0.5  ]\n",
      " [-0.449 -0.499 -0.511]\n",
      " [-0.5   -0.511 -0.237]]\n",
      "\n",
      "Beta Fock matrix:\n",
      "[[-0.066 -0.378 -0.47 ]\n",
      " [-0.378 -0.086 -0.476]\n",
      " [-0.47  -0.476 -0.418]]\n",
      "Alpha Fock matrix:\n",
      "[[-0.51  -0.449 -0.501]\n",
      " [-0.449 -0.5   -0.51 ]\n",
      " [-0.501 -0.51  -0.237]]\n",
      "\n",
      "Beta Fock matrix:\n",
      "[[-0.067 -0.378 -0.47 ]\n",
      " [-0.378 -0.085 -0.475]\n",
      " [-0.47  -0.475 -0.418]]\n",
      "Alpha Fock matrix:\n",
      "[[-0.51  -0.45  -0.501]\n",
      " [-0.45  -0.5   -0.51 ]\n",
      " [-0.501 -0.51  -0.236]]\n",
      "\n",
      "Beta Fock matrix:\n",
      "[[-0.068 -0.378 -0.47 ]\n",
      " [-0.378 -0.084 -0.475]\n",
      " [-0.47  -0.475 -0.418]]\n",
      "Alpha Fock matrix:\n",
      "[[-0.509 -0.45  -0.502]\n",
      " [-0.45  -0.501 -0.509]\n",
      " [-0.502 -0.509 -0.236]]\n",
      "\n",
      "Beta Fock matrix:\n",
      "[[-0.068 -0.378 -0.471]\n",
      " [-0.378 -0.082 -0.475]\n",
      " [-0.471 -0.475 -0.419]]\n",
      "Alpha Fock matrix:\n",
      "[[-0.509 -0.45  -0.502]\n",
      " [-0.45  -0.502 -0.509]\n",
      " [-0.502 -0.509 -0.236]]\n",
      "\n",
      "Beta Fock matrix:\n",
      "[[-0.069 -0.377 -0.471]\n",
      " [-0.377 -0.081 -0.474]\n",
      " [-0.471 -0.474 -0.419]]\n",
      "Alpha Fock matrix:\n",
      "[[-0.509 -0.45  -0.502]\n",
      " [-0.45  -0.502 -0.508]\n",
      " [-0.502 -0.508 -0.235]]\n",
      "\n",
      "Beta Fock matrix:\n",
      "[[-0.07  -0.377 -0.471]\n",
      " [-0.377 -0.081 -0.474]\n",
      " [-0.471 -0.474 -0.419]]\n",
      "Alpha Fock matrix:\n",
      "[[-0.508 -0.45  -0.503]\n",
      " [-0.45  -0.503 -0.508]\n",
      " [-0.503 -0.508 -0.235]]\n",
      "\n",
      "Beta Fock matrix:\n",
      "[[-0.07  -0.377 -0.471]\n",
      " [-0.377 -0.08  -0.474]\n",
      " [-0.471 -0.474 -0.419]]\n",
      "Alpha Fock matrix:\n",
      "[[-0.508 -0.45  -0.503]\n",
      " [-0.45  -0.503 -0.508]\n",
      " [-0.503 -0.508 -0.235]]\n",
      "\n",
      "Beta Fock matrix:\n",
      "[[-0.071 -0.377 -0.471]\n",
      " [-0.377 -0.079 -0.474]\n",
      " [-0.471 -0.474 -0.419]]\n",
      "Alpha Fock matrix:\n",
      "[[-0.508 -0.45  -0.503]\n",
      " [-0.45  -0.503 -0.507]\n",
      " [-0.503 -0.507 -0.235]]\n",
      "\n",
      "Beta Fock matrix:\n",
      "[[-0.071 -0.377 -0.472]\n",
      " [-0.377 -0.079 -0.474]\n",
      " [-0.472 -0.474 -0.419]]\n",
      "Alpha Fock matrix:\n",
      "[[-0.508 -0.45  -0.504]\n",
      " [-0.45  -0.504 -0.507]\n",
      " [-0.504 -0.507 -0.235]]\n",
      "\n",
      "Beta Fock matrix:\n",
      "[[-0.072 -0.377 -0.472]\n",
      " [-0.377 -0.078 -0.474]\n",
      " [-0.472 -0.474 -0.42 ]]\n",
      "Alpha Fock matrix:\n",
      "[[-0.507 -0.45  -0.504]\n",
      " [-0.45  -0.504 -0.507]\n",
      " [-0.504 -0.507 -0.235]]\n",
      "\n",
      "Beta Fock matrix:\n",
      "[[-0.072 -0.377 -0.472]\n",
      " [-0.377 -0.078 -0.473]\n",
      " [-0.472 -0.473 -0.42 ]]\n",
      "Alpha Fock matrix:\n",
      "[[-0.507 -0.45  -0.504]\n",
      " [-0.45  -0.504 -0.507]\n",
      " [-0.504 -0.507 -0.235]]\n",
      "\n",
      "Beta Fock matrix:\n",
      "[[-0.072 -0.377 -0.472]\n",
      " [-0.377 -0.077 -0.473]\n",
      " [-0.472 -0.473 -0.42 ]]\n",
      "Alpha Fock matrix:\n",
      "[[-0.507 -0.45  -0.504]\n",
      " [-0.45  -0.504 -0.506]\n",
      " [-0.504 -0.506 -0.235]]\n",
      "\n",
      "Beta Fock matrix:\n",
      "[[-0.073 -0.377 -0.472]\n",
      " [-0.377 -0.077 -0.473]\n",
      " [-0.472 -0.473 -0.42 ]]\n",
      "Alpha Fock matrix:\n",
      "[[-0.507 -0.45  -0.504]\n",
      " [-0.45  -0.504 -0.506]\n",
      " [-0.504 -0.506 -0.235]]\n",
      "\n",
      "Beta Fock matrix:\n",
      "[[-0.073 -0.377 -0.472]\n",
      " [-0.377 -0.077 -0.473]\n",
      " [-0.472 -0.473 -0.42 ]]\n",
      "Alpha Fock matrix:\n",
      "[[-0.507 -0.45  -0.504]\n",
      " [-0.45  -0.505 -0.506]\n",
      " [-0.504 -0.506 -0.235]]\n",
      "\n",
      "Beta Fock matrix:\n",
      "[[-0.073 -0.377 -0.472]\n",
      " [-0.377 -0.077 -0.473]\n",
      " [-0.472 -0.473 -0.42 ]]\n",
      "Alpha Fock matrix:\n",
      "[[-0.507 -0.45  -0.504]\n",
      " [-0.45  -0.505 -0.506]\n",
      " [-0.504 -0.506 -0.235]]\n",
      "\n",
      "Beta Fock matrix:\n",
      "[[-0.073 -0.377 -0.472]\n",
      " [-0.377 -0.076 -0.473]\n",
      " [-0.472 -0.473 -0.42 ]]\n",
      "Alpha Fock matrix:\n",
      "[[-0.506 -0.45  -0.505]\n",
      " [-0.45  -0.505 -0.506]\n",
      " [-0.505 -0.506 -0.235]]\n",
      "\n",
      "Beta Fock matrix:\n",
      "[[-0.073 -0.377 -0.472]\n",
      " [-0.377 -0.076 -0.473]\n",
      " [-0.472 -0.473 -0.42 ]]\n",
      "Alpha Fock matrix:\n",
      "[[-0.506 -0.45  -0.505]\n",
      " [-0.45  -0.505 -0.506]\n",
      " [-0.505 -0.506 -0.235]]\n",
      "\n",
      "Beta Fock matrix:\n",
      "[[-0.074 -0.377 -0.472]\n",
      " [-0.377 -0.076 -0.473]\n",
      " [-0.472 -0.473 -0.42 ]]\n",
      "Alpha Fock matrix:\n",
      "[[-0.506 -0.45  -0.505]\n",
      " [-0.45  -0.505 -0.506]\n",
      " [-0.505 -0.506 -0.235]]\n",
      "\n",
      "Beta Fock matrix:\n",
      "[[-0.074 -0.377 -0.472]\n",
      " [-0.377 -0.076 -0.473]\n",
      " [-0.472 -0.473 -0.42 ]]\n",
      "Alpha Fock matrix:\n",
      "[[-0.506 -0.45  -0.505]\n",
      " [-0.45  -0.505 -0.506]\n",
      " [-0.505 -0.506 -0.235]]\n",
      "\n",
      "Beta Fock matrix:\n",
      "[[-0.074 -0.377 -0.472]\n",
      " [-0.377 -0.076 -0.473]\n",
      " [-0.472 -0.473 -0.42 ]]\n",
      "Alpha Fock matrix:\n",
      "[[-0.506 -0.45  -0.505]\n",
      " [-0.45  -0.505 -0.506]\n",
      " [-0.505 -0.506 -0.235]]\n",
      "\n",
      "Beta Fock matrix:\n",
      "[[-0.074 -0.377 -0.472]\n",
      " [-0.377 -0.076 -0.473]\n",
      " [-0.472 -0.473 -0.42 ]]\n",
      "Alpha Fock matrix:\n",
      "[[-0.506 -0.45  -0.505]\n",
      " [-0.45  -0.505 -0.506]\n",
      " [-0.505 -0.506 -0.235]]\n",
      "\n",
      "Beta Fock matrix:\n",
      "[[-0.074 -0.377 -0.472]\n",
      " [-0.377 -0.076 -0.473]\n",
      " [-0.472 -0.473 -0.42 ]]\n",
      "Alpha Fock matrix:\n",
      "[[-0.506 -0.45  -0.505]\n",
      " [-0.45  -0.505 -0.506]\n",
      " [-0.505 -0.506 -0.235]]\n",
      "\n",
      "Beta Fock matrix:\n",
      "[[-0.074 -0.377 -0.472]\n",
      " [-0.377 -0.075 -0.473]\n",
      " [-0.472 -0.473 -0.42 ]]\n",
      "Alpha Fock matrix:\n",
      "[[-0.506 -0.45  -0.505]\n",
      " [-0.45  -0.505 -0.506]\n",
      " [-0.505 -0.506 -0.235]]\n",
      "\n",
      "Beta Fock matrix:\n",
      "[[-0.074 -0.377 -0.472]\n",
      " [-0.377 -0.075 -0.473]\n",
      " [-0.472 -0.473 -0.42 ]]\n",
      "Alpha Fock matrix:\n",
      "[[-0.506 -0.45  -0.505]\n",
      " [-0.45  -0.505 -0.506]\n",
      " [-0.505 -0.506 -0.235]]\n",
      "\n",
      "Beta Fock matrix:\n",
      "[[-0.074 -0.377 -0.472]\n",
      " [-0.377 -0.075 -0.473]\n",
      " [-0.472 -0.473 -0.42 ]]\n",
      "Alpha Fock matrix:\n",
      "[[-0.506 -0.45  -0.505]\n",
      " [-0.45  -0.505 -0.506]\n",
      " [-0.505 -0.506 -0.235]]\n",
      "\n",
      "Beta Fock matrix:\n",
      "[[-0.074 -0.377 -0.472]\n",
      " [-0.377 -0.075 -0.473]\n",
      " [-0.472 -0.473 -0.42 ]]\n",
      "Alpha Fock matrix:\n",
      "[[-0.506 -0.45  -0.505]\n",
      " [-0.45  -0.505 -0.505]\n",
      " [-0.505 -0.505 -0.235]]\n",
      "\n",
      "Beta Fock matrix:\n",
      "[[-0.074 -0.377 -0.473]\n",
      " [-0.377 -0.075 -0.473]\n",
      " [-0.473 -0.473 -0.42 ]]\n",
      "Alpha Fock matrix:\n",
      "[[-0.506 -0.45  -0.505]\n",
      " [-0.45  -0.505 -0.505]\n",
      " [-0.505 -0.505 -0.235]]\n",
      "\n",
      "Beta Fock matrix:\n",
      "[[-0.074 -0.377 -0.473]\n",
      " [-0.377 -0.075 -0.473]\n",
      " [-0.473 -0.473 -0.42 ]]\n",
      "Alpha Fock matrix:\n",
      "[[-0.506 -0.45  -0.505]\n",
      " [-0.45  -0.506 -0.505]\n",
      " [-0.505 -0.505 -0.235]]\n",
      "\n",
      "Beta Fock matrix:\n",
      "[[-0.075 -0.377 -0.473]\n",
      " [-0.377 -0.075 -0.473]\n",
      " [-0.473 -0.473 -0.42 ]]\n",
      "Alpha Fock matrix:\n",
      "[[-0.506 -0.45  -0.505]\n",
      " [-0.45  -0.506 -0.505]\n",
      " [-0.505 -0.505 -0.235]]\n",
      "\n",
      "Beta Fock matrix:\n",
      "[[-0.075 -0.377 -0.473]\n",
      " [-0.377 -0.075 -0.473]\n",
      " [-0.473 -0.473 -0.42 ]]\n",
      "Alpha Fock matrix:\n",
      "[[-0.506 -0.45  -0.505]\n",
      " [-0.45  -0.506 -0.505]\n",
      " [-0.505 -0.505 -0.235]]\n",
      "\n",
      "Beta Fock matrix:\n",
      "[[-0.075 -0.377 -0.473]\n",
      " [-0.377 -0.075 -0.473]\n",
      " [-0.473 -0.473 -0.42 ]]\n",
      "Alpha Fock matrix:\n",
      "[[-0.506 -0.45  -0.505]\n",
      " [-0.45  -0.506 -0.505]\n",
      " [-0.505 -0.505 -0.235]]\n",
      "\n",
      "Beta Fock matrix:\n",
      "[[-0.075 -0.377 -0.473]\n",
      " [-0.377 -0.075 -0.473]\n",
      " [-0.473 -0.473 -0.42 ]]\n",
      "Alpha Fock matrix:\n",
      "[[-0.506 -0.45  -0.505]\n",
      " [-0.45  -0.506 -0.505]\n",
      " [-0.505 -0.505 -0.235]]\n",
      "\n",
      "Beta Fock matrix:\n",
      "[[-0.075 -0.377 -0.473]\n",
      " [-0.377 -0.075 -0.473]\n",
      " [-0.473 -0.473 -0.42 ]]\n",
      "Alpha Fock matrix:\n",
      "[[-0.506 -0.45  -0.505]\n",
      " [-0.45  -0.506 -0.505]\n",
      " [-0.505 -0.505 -0.235]]\n",
      "\n",
      "Beta Fock matrix:\n",
      "[[-0.075 -0.377 -0.473]\n",
      " [-0.377 -0.075 -0.473]\n",
      " [-0.473 -0.473 -0.42 ]]\n",
      "Alpha Fock matrix:\n",
      "[[-0.506 -0.45  -0.505]\n",
      " [-0.45  -0.506 -0.505]\n",
      " [-0.505 -0.505 -0.235]]\n",
      "\n",
      "Beta Fock matrix:\n",
      "[[-0.075 -0.377 -0.473]\n",
      " [-0.377 -0.075 -0.473]\n",
      " [-0.473 -0.473 -0.42 ]]\n",
      "Alpha Fock matrix:\n",
      "[[-0.506 -0.45  -0.505]\n",
      " [-0.45  -0.506 -0.505]\n",
      " [-0.505 -0.505 -0.235]]\n",
      "\n",
      "Beta Fock matrix:\n",
      "[[-0.075 -0.377 -0.473]\n",
      " [-0.377 -0.075 -0.473]\n",
      " [-0.473 -0.473 -0.42 ]]\n",
      "Alpha Fock matrix:\n",
      "[[-0.506 -0.45  -0.505]\n",
      " [-0.45  -0.506 -0.505]\n",
      " [-0.505 -0.505 -0.235]]\n",
      "\n",
      "Beta Fock matrix:\n",
      "[[-0.075 -0.377 -0.473]\n",
      " [-0.377 -0.075 -0.473]\n",
      " [-0.473 -0.473 -0.42 ]]\n",
      "Alpha Fock matrix:\n",
      "[[-0.506 -0.45  -0.505]\n",
      " [-0.45  -0.506 -0.505]\n",
      " [-0.505 -0.505 -0.235]]\n",
      "\n",
      "Beta Fock matrix:\n",
      "[[-0.075 -0.377 -0.473]\n",
      " [-0.377 -0.075 -0.473]\n",
      " [-0.473 -0.473 -0.42 ]]\n",
      "Alpha Fock matrix:\n",
      "[[-0.506 -0.45  -0.505]\n",
      " [-0.45  -0.506 -0.505]\n",
      " [-0.505 -0.505 -0.235]]\n",
      "\n",
      "Beta Fock matrix:\n",
      "[[-0.075 -0.377 -0.473]\n",
      " [-0.377 -0.075 -0.473]\n",
      " [-0.473 -0.473 -0.42 ]]\n",
      "Alpha Fock matrix:\n",
      "[[-0.506 -0.45  -0.505]\n",
      " [-0.45  -0.506 -0.505]\n",
      " [-0.505 -0.505 -0.235]]\n",
      "\n",
      "Beta Fock matrix:\n",
      "[[-0.075 -0.377 -0.473]\n",
      " [-0.377 -0.075 -0.473]\n",
      " [-0.473 -0.473 -0.42 ]]\n",
      "Alpha Fock matrix:\n",
      "[[-0.506 -0.45  -0.505]\n",
      " [-0.45  -0.506 -0.505]\n",
      " [-0.505 -0.505 -0.235]]\n",
      "\n",
      "Beta Fock matrix:\n",
      "[[-0.075 -0.377 -0.473]\n",
      " [-0.377 -0.075 -0.473]\n",
      " [-0.473 -0.473 -0.42 ]]\n"
     ]
    }
   ],
   "metadata": {
    "tags": []
   }
  },
  {
   "cell_type": "code",
   "execution_count": 8,
   "source": [
    "print(qc_structure.groundStateEnergy() + gqcpy.NuclearRepulsionOperator(molecule.nuclearFramework()).value())"
   ],
   "outputs": [
    {
     "output_type": "stream",
     "name": "stdout",
     "text": [
      "-1.3358471555881106\n"
     ]
    }
   ],
   "metadata": {}
  },
  {
   "cell_type": "code",
   "execution_count": 9,
   "source": [
    "uhf_parameters = qc_structure.groundStateParameters()"
   ],
   "outputs": [],
   "metadata": {}
  },
  {
   "cell_type": "code",
   "execution_count": 10,
   "source": [
    "print(uhf_parameters.orbitalEnergies().alpha)"
   ],
   "outputs": [
    {
     "output_type": "stream",
     "name": "stdout",
     "text": [
      "[-0.706 -0.111  0.404]\n"
     ]
    }
   ],
   "metadata": {}
  },
  {
   "cell_type": "code",
   "execution_count": 11,
   "source": [
    "print(uhf_parameters.orbitalEnergies().beta)"
   ],
   "outputs": [
    {
     "output_type": "stream",
     "name": "stdout",
     "text": [
      "[-0.581  0.441  0.601]\n"
     ]
    }
   ],
   "metadata": {}
  },
  {
   "cell_type": "code",
   "execution_count": 12,
   "source": [
    "print(plain_solver.numberOfIterations())"
   ],
   "outputs": [
    {
     "output_type": "stream",
     "name": "stdout",
     "text": [
      "55\n"
     ]
    }
   ],
   "metadata": {}
  },
  {
   "cell_type": "markdown",
   "source": [
    "## DIIS UHF SCF calculations"
   ],
   "metadata": {}
  },
  {
   "cell_type": "code",
   "execution_count": 13,
   "source": [
    "environment = gqcpy.UHFSCFEnvironment_d.WithCoreGuess(N_alpha, N_beta, sq_hamiltonian, S)\n",
    "diis_solver = gqcpy.UHFSCFSolver_d.DIIS(threshold=1.0e-04, maximum_number_of_iterations=1000, minimum_subspace_dimension=6, maximum_subspace_dimension=6)  # the system is not converging very rapidly"
   ],
   "outputs": [],
   "metadata": {}
  },
  {
   "cell_type": "code",
   "execution_count": 14,
   "source": [
    "qc_structure = gqcpy.UHF_d.optimize(diis_solver, environment)"
   ],
   "outputs": [],
   "metadata": {}
  },
  {
   "cell_type": "code",
   "execution_count": 15,
   "source": [
    "print(qc_structure.groundStateEnergy() + gqcpy.NuclearRepulsionOperator(molecule.nuclearFramework()).value())"
   ],
   "outputs": [
    {
     "output_type": "stream",
     "name": "stdout",
     "text": [
      "-1.335847157827339\n"
     ]
    }
   ],
   "metadata": {}
  },
  {
   "cell_type": "code",
   "execution_count": 16,
   "source": [
    "uhf_parameters = qc_structure.groundStateParameters()"
   ],
   "outputs": [],
   "metadata": {}
  },
  {
   "cell_type": "code",
   "execution_count": 17,
   "source": [
    "print(uhf_parameters.orbitalEnergies().alpha)"
   ],
   "outputs": [
    {
     "output_type": "stream",
     "name": "stdout",
     "text": [
      "[-0.706 -0.111  0.404]\n"
     ]
    }
   ],
   "metadata": {}
  },
  {
   "cell_type": "code",
   "execution_count": 18,
   "source": [
    "print(uhf_parameters.orbitalEnergies().beta)"
   ],
   "outputs": [
    {
     "output_type": "stream",
     "name": "stdout",
     "text": [
      "[-0.581  0.441  0.601]\n"
     ]
    }
   ],
   "metadata": {}
  },
  {
   "cell_type": "code",
   "execution_count": 19,
   "source": [
    "print(diis_solver.numberOfIterations())"
   ],
   "outputs": [
    {
     "output_type": "stream",
     "name": "stdout",
     "text": [
      "136\n"
     ]
    }
   ],
   "metadata": {}
  },
  {
   "cell_type": "markdown",
   "source": [
    "## Complex UHF SCF calculations"
   ],
   "metadata": {}
  },
  {
   "cell_type": "markdown",
   "source": [
    "The same approach can be used for complex UHF calculations. We just replace the \"_d\" with \"_cd\" indicating the use of complex doubles."
   ],
   "metadata": {}
  },
  {
   "cell_type": "code",
   "execution_count": 22,
   "source": [
    "complex_spinor_basis = gqcpy.USpinOrbitalBasis_cd(molecule, \"STO-3G\")\n",
    "complex_S = complex_spinor_basis.quantize(gqcpy.OverlapOperator())\n",
    "\n",
    "complex_sq_hamiltonian = complex_spinor_basis.quantize(gqcpy.FQMolecularHamiltonian(molecule))  # 'sq' for 'second-quantized'"
   ],
   "outputs": [],
   "metadata": {}
  },
  {
   "cell_type": "code",
   "execution_count": 23,
   "source": [
    "complex_environment = gqcpy.UHFSCFEnvironment_cd.WithComplexlyTransformedCoreGuess(N_alpha, N_beta, complex_sq_hamiltonian, complex_S)\n",
    "complex_plain_solver = gqcpy.UHFSCFSolver_cd.Plain(threshold=1.0e-04, maximum_number_of_iterations=1000)  # the system is not converging very rapidly"
   ],
   "outputs": [],
   "metadata": {}
  },
  {
   "cell_type": "code",
   "execution_count": 24,
   "source": [
    "complex_qc_structure = gqcpy.UHF_cd.optimize(complex_plain_solver, complex_environment)"
   ],
   "outputs": [],
   "metadata": {}
  },
  {
   "cell_type": "code",
   "execution_count": 25,
   "source": [
    "print(complex_qc_structure.groundStateEnergy().real + gqcpy.NuclearRepulsionOperator(molecule.nuclearFramework()).value())"
   ],
   "outputs": [
    {
     "output_type": "stream",
     "name": "stdout",
     "text": [
      "-1.3358471547992559\n"
     ]
    }
   ],
   "metadata": {}
  }
 ],
 "metadata": {
  "kernelspec": {
   "name": "python3",
   "display_name": "Python 3.8.5 64-bit ('base': conda)"
  },
  "language_info": {
   "codemirror_mode": {
    "name": "ipython",
    "version": 3
   },
   "file_extension": ".py",
   "mimetype": "text/x-python",
   "name": "python",
   "nbconvert_exporter": "python",
   "pygments_lexer": "ipython3",
   "version": "3.8.5"
  },
  "interpreter": {
   "hash": "e4c6ce54e6d1ccff551279c9aafc06b78c48fd9e60d6b4e74c0583a74ec1d1f9"
  }
 },
 "nbformat": 4,
 "nbformat_minor": 2
}