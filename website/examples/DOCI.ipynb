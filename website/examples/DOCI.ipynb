{
 "cells": [
  {
   "cell_type": "markdown",
   "metadata": {},
   "source": [
    "# DOCI calculations"
   ]
  },
  {
   "cell_type": "markdown",
   "metadata": {},
   "source": [
    "DOCI is, in essence, just another type of CI, so doing DOCI calculations is very analogous to doing FCI calculations."
   ]
  },
  {
   "cell_type": "code",
   "execution_count": 1,
   "metadata": {},
   "outputs": [],
   "source": [
    "# Force the local gqcpy to be imported\n",
    "import sys\n",
    "sys.path.insert(0, '../../build/gqcpy/')\n",
    "\n",
    "import gqcpy\n",
    "import numpy as np"
   ]
  },
  {
   "cell_type": "markdown",
   "metadata": {},
   "source": [
    "# Preparing the Hamiltonian in the canonical RHF basis"
   ]
  },
  {
   "cell_type": "markdown",
   "metadata": {},
   "source": [
    "As always, we'll first set up the Hamiltonian in an orthonormal spinor basis. For this example, we'll use the canonical RHF basis"
   ]
  },
  {
   "cell_type": "code",
   "execution_count": 2,
   "metadata": {},
   "outputs": [],
   "source": [
    "molecule = gqcpy.Molecule.ReadXYZ(\"../../gqcp/tests/data/h2_szabo.xyz\" , 0)  # create a neutral molecule\n",
    "N = molecule.numberOfElectrons()\n",
    "N_P = N // 2  # number of electron pairs\n",
    "\n",
    "spinor_basis = gqcpy.RSpinOrbitalBasis(molecule, \"STO-3G\")\n",
    "K = spinor_basis.numberOfSpatialOrbitals()"
   ]
  },
  {
   "cell_type": "code",
   "execution_count": 3,
   "metadata": {},
   "outputs": [],
   "source": [
    "sq_hamiltonian = gqcpy.SQHamiltonian.Molecular(spinor_basis, molecule)\n",
    "S = spinor_basis.quantizeOverlapOperator().parameters()\n",
    "\n",
    "environment = gqcpy.RHFSCFEnvironment.WithCoreGuess(N, sq_hamiltonian, S)\n",
    "solver = gqcpy.RHFSCFSolver.Plain()\n",
    "objective = gqcpy.DiagonalRHFFockMatrixObjective(sq_hamiltonian)  # use the default threshold of 1.0e-08\n",
    "rhf_parameters = gqcpy.RHF.optimize(objective, solver, environment).groundStateParameters()"
   ]
  },
  {
   "cell_type": "code",
   "execution_count": 4,
   "metadata": {},
   "outputs": [],
   "source": [
    "gqcpy.basisTransform(spinor_basis, sq_hamiltonian, rhf_parameters.expansion())"
   ]
  },
  {
   "cell_type": "markdown",
   "metadata": {},
   "source": [
    "# Dense DOCI calculations"
   ]
  },
  {
   "cell_type": "markdown",
   "metadata": {},
   "source": [
    "For FCI, we would create the full spin-resolved ONV basis. For DOCI, we need the full seniority-zero ONV basis."
   ]
  },
  {
   "cell_type": "code",
   "execution_count": 5,
   "metadata": {},
   "outputs": [],
   "source": [
    "onv_basis = gqcpy.SeniorityZeroONVBasis(K, N_P)  # number of spatial orbitals, number of electron pairs"
   ]
  },
  {
   "cell_type": "markdown",
   "metadata": {},
   "source": [
    "The subsequent steps are very analogous. We create a solver and associated environment, and use the CI QCMethod to find the optimal parameters and energies."
   ]
  },
  {
   "cell_type": "code",
   "execution_count": 6,
   "metadata": {},
   "outputs": [],
   "source": [
    "solver = gqcpy.EigenproblemSolver.Dense()\n",
    "environment = gqcpy.CIEnvironment.Dense(sq_hamiltonian, onv_basis)"
   ]
  },
  {
   "cell_type": "code",
   "execution_count": 7,
   "metadata": {},
   "outputs": [],
   "source": [
    "qc_structure = gqcpy.CI(onv_basis).optimize(solver, environment)"
   ]
  },
  {
   "cell_type": "code",
   "execution_count": 8,
   "metadata": {
    "tags": []
   },
   "outputs": [
    {
     "output_type": "stream",
     "name": "stdout",
     "text": "-1.8515616052384685\n"
    }
   ],
   "source": [
    "electronic_energy = qc_structure.groundStateEnergy()\n",
    "print(electronic_energy)"
   ]
  },
  {
   "cell_type": "code",
   "execution_count": 9,
   "metadata": {
    "tags": []
   },
   "outputs": [
    {
     "output_type": "stream",
     "name": "stdout",
     "text": "[-0.9936273   0.11271556]\n"
    }
   ],
   "source": [
    "print(qc_structure.groundStateParameters().coefficients())"
   ]
  },
  {
   "cell_type": "code",
   "execution_count": 10,
   "metadata": {
    "tags": []
   },
   "outputs": [
    {
     "output_type": "stream",
     "name": "stdout",
     "text": "-1.1372759430764103\n"
    }
   ],
   "source": [
    "energy = electronic_energy + gqcpy.Operator.NuclearRepulsion(molecule).value()\n",
    "print(energy)"
   ]
  },
  {
   "cell_type": "markdown",
   "metadata": {},
   "source": [
    "# 'Davidson' DOCI calculations"
   ]
  },
  {
   "cell_type": "markdown",
   "metadata": {},
   "source": [
    "Here, we'll use a Davidson solver to find the ground state parameters. Since this is an iterative procedure, we'll have to supply an initial guess."
   ]
  },
  {
   "cell_type": "code",
   "execution_count": 11,
   "metadata": {},
   "outputs": [],
   "source": [
    "x0 = gqcpy.LinearExpansion_SeniorityZero.HartreeFock(onv_basis).coefficients()"
   ]
  },
  {
   "cell_type": "markdown",
   "metadata": {},
   "source": [
    "We'll then feed this initial guess to the environment, and let the CI method use the solver to find the optimized parameters (expansion coefficients)."
   ]
  },
  {
   "cell_type": "code",
   "execution_count": 12,
   "metadata": {},
   "outputs": [],
   "source": [
    "solver_davidson = gqcpy.EigenproblemSolver.Davidson()\n",
    "environment_davidson = gqcpy.CIEnvironment.Iterative(sq_hamiltonian, onv_basis, x0)"
   ]
  },
  {
   "cell_type": "code",
   "execution_count": 13,
   "metadata": {},
   "outputs": [],
   "source": [
    "qc_structure_davidson = gqcpy.CI(onv_basis).optimize(solver_davidson, environment_davidson)"
   ]
  },
  {
   "cell_type": "code",
   "execution_count": 14,
   "metadata": {
    "tags": []
   },
   "outputs": [
    {
     "output_type": "stream",
     "name": "stdout",
     "text": "-1.8515616052384685\n"
    }
   ],
   "source": [
    "electronic_energy_davidson = qc_structure_davidson.groundStateEnergy()\n",
    "print(electronic_energy_davidson)"
   ]
  },
  {
   "cell_type": "code",
   "execution_count": 15,
   "metadata": {
    "tags": []
   },
   "outputs": [
    {
     "output_type": "stream",
     "name": "stdout",
     "text": "[-0.9936273   0.11271556]\n"
    }
   ],
   "source": [
    "print(qc_structure_davidson.groundStateParameters().coefficients())"
   ]
  }
 ],
 "metadata": {
  "kernelspec": {
   "display_name": "Python 3",
   "language": "python",
   "name": "python3"
  },
  "language_info": {
   "codemirror_mode": {
    "name": "ipython",
    "version": 3
   },
   "file_extension": ".py",
   "mimetype": "text/x-python",
   "name": "python",
   "nbconvert_exporter": "python",
   "pygments_lexer": "ipython3",
   "version": "3.7.7"
  }
 },
 "nbformat": 4,
 "nbformat_minor": 2
}