{
 "cells": [
  {
   "cell_type": "markdown",
   "metadata": {},
   "source": [
    "# Hubbard calculations"
   ]
  },
  {
   "cell_type": "code",
   "execution_count": 1,
   "metadata": {},
   "outputs": [],
   "source": [
    "# Force the local gqcpy to be imported\n",
    "import sys\n",
    "sys.path.insert(0, '../../build/gqcpy/')\n",
    "\n",
    "import gqcpy\n",
    "import numpy as np"
   ]
  },
  {
   "cell_type": "markdown",
   "metadata": {},
   "source": [
    "## Specifying the Hubbard model for a four-site chain"
   ]
  },
  {
   "cell_type": "markdown",
   "metadata": {},
   "source": [
    "If we would like to investigate a four-site chain, we should specify the adjacency matrix and the Hubbard model parameters `t` and `U`. Then, we can make a hopping matrix."
   ]
  },
  {
   "cell_type": "code",
   "execution_count": 2,
   "metadata": {},
   "outputs": [
    {
     "ename": "AttributeError",
     "evalue": "module 'gqcpy' has no attribute 'AdjacencyMatrix'",
     "output_type": "error",
     "traceback": [
      "\u001b[0;31m---------------------------------------------------------------------------\u001b[0m",
      "\u001b[0;31mAttributeError\u001b[0m                            Traceback (most recent call last)",
      "\u001b[0;32m<ipython-input-2-61a57849f5e5>\u001b[0m in \u001b[0;36m<module>\u001b[0;34m\u001b[0m\n\u001b[0;32m----> 1\u001b[0;31m \u001b[0mA\u001b[0m \u001b[0;34m=\u001b[0m \u001b[0mgqcpy\u001b[0m\u001b[0;34m.\u001b[0m\u001b[0mAdjacencyMatrix\u001b[0m\u001b[0;34m.\u001b[0m\u001b[0mLinear\u001b[0m\u001b[0;34m(\u001b[0m\u001b[0;36m4\u001b[0m\u001b[0;34m)\u001b[0m\u001b[0;34m\u001b[0m\u001b[0;34m\u001b[0m\u001b[0m\n\u001b[0m\u001b[1;32m      2\u001b[0m \u001b[0mprint\u001b[0m\u001b[0;34m(\u001b[0m\u001b[0mA\u001b[0m\u001b[0;34m.\u001b[0m\u001b[0mmatrix\u001b[0m\u001b[0;34m(\u001b[0m\u001b[0;34m)\u001b[0m\u001b[0;34m)\u001b[0m\u001b[0;34m\u001b[0m\u001b[0;34m\u001b[0m\u001b[0m\n",
      "\u001b[0;31mAttributeError\u001b[0m: module 'gqcpy' has no attribute 'AdjacencyMatrix'"
     ]
    }
   ],
   "source": [
    "A = gqcpy.AdjacencyMatrix.Linear(4)\n",
    "print(A.matrix())"
   ]
  },
  {
   "cell_type": "code",
   "execution_count": 3,
   "metadata": {},
   "outputs": [
    {
     "name": "stdout",
     "output_type": "stream",
     "text": [
      "[[ 3.5 -1.   0.   0. ]\n",
      " [-1.   3.5 -1.   0. ]\n",
      " [ 0.  -1.   3.5 -1. ]\n",
      " [ 0.   0.  -1.   3.5]]\n"
     ]
    }
   ],
   "source": [
    "t = 1.0\n",
    "U = 3.5\n",
    "H = gqcpy.HoppingMatrix(A, t, U)\n",
    "print(H.matrix())"
   ]
  },
  {
   "cell_type": "markdown",
   "metadata": {},
   "source": [
    "This hopping matrix can be used to construct the Hubbard model Hamiltonian."
   ]
  },
  {
   "cell_type": "code",
   "execution_count": 4,
   "metadata": {},
   "outputs": [
    {
     "name": "stdout",
     "output_type": "stream",
     "text": [
      "[[ 0. -1.  0.  0.]\n",
      " [-1.  0. -1.  0.]\n",
      " [ 0. -1.  0. -1.]\n",
      " [ 0.  0. -1.  0.]]\n"
     ]
    }
   ],
   "source": [
    "hubbard_hamiltonian = gqcpy.HubbardHamiltonian(H)\n",
    "print(hubbard_hamiltonian.core().parameters())"
   ]
  },
  {
   "cell_type": "markdown",
   "metadata": {},
   "source": [
    "## Dense Hubbard calculations"
   ]
  },
  {
   "cell_type": "markdown",
   "metadata": {},
   "source": [
    "The first thing we should take care of is the use of the correct ONV basis. "
   ]
  },
  {
   "cell_type": "code",
   "execution_count": 5,
   "metadata": {},
   "outputs": [],
   "source": [
    "K = 4  # number of sites\n",
    "N_P = 2  # number of electron pairs\n",
    "\n",
    "onv_basis = gqcpy.SpinResolvedONVBasis(K, N_P, N_P)"
   ]
  },
  {
   "cell_type": "markdown",
   "metadata": {},
   "source": [
    "In GQCP, the Hubbard model is treated as a model Hamiltonian. What this means is that, behind the scenes, it is not a regular `SQHamiltonian`, but combined with the associated `SpinResolvedONVBasis`, it uses specialized matrix construction and matrix-vector product routines.\n",
    "\n",
    "Even though it _isn't_ a `SQHamiltonian`, we could say it behaves as such, so doing Hubbard (CI) calculations resembles doing FCI calculations. We'll have to specify:\n",
    "1. a solver;\n",
    "1. an associated environment,\n",
    "\n",
    "and then combine these arguments in the `CI` `QCMethod`."
   ]
  },
  {
   "cell_type": "code",
   "execution_count": 6,
   "metadata": {
    "tags": []
   },
   "outputs": [
    {
     "name": "stdout",
     "output_type": "stream",
     "text": [
      "-2.135871608231944\n"
     ]
    }
   ],
   "source": [
    "solver = gqcpy.EigenproblemSolver.Dense()\n",
    "environment = gqcpy.CIEnvironment.Dense(hubbard_hamiltonian, onv_basis)\n",
    "\n",
    "energy = gqcpy.CI(onv_basis).optimize(solver, environment).groundStateEnergy()\n",
    "print(energy)"
   ]
  },
  {
   "cell_type": "markdown",
   "metadata": {},
   "source": [
    "This is exactly the energy we find from a [reference implementation](https://github.com/wpoely86/Hubbard-GPU) by Ward Poelmans."
   ]
  },
  {
   "cell_type": "markdown",
   "metadata": {},
   "source": [
    "## Hubbard calculations with a Davidson algorithm"
   ]
  },
  {
   "cell_type": "markdown",
   "metadata": {},
   "source": [
    "Doing iterative Hubbard calculations (i.e. with a Davidson algorithm) is also similar to doing FCI calculations. We specify a solver, an environment and combine them into the `CI` `QCMethod`."
   ]
  },
  {
   "cell_type": "code",
   "execution_count": 7,
   "metadata": {
    "tags": []
   },
   "outputs": [
    {
     "name": "stdout",
     "output_type": "stream",
     "text": [
      "-2.1358716082319384\n"
     ]
    }
   ],
   "source": [
    "x0 = gqcpy.LinearExpansion_SpinResolved.Random(onv_basis).coefficients()\n",
    "\n",
    "solver = gqcpy.EigenproblemSolver.Davidson()\n",
    "environment = gqcpy.CIEnvironment.Iterative(hubbard_hamiltonian, onv_basis, x0)\n",
    "\n",
    "energy = gqcpy.CI(onv_basis).optimize(solver, environment).groundStateEnergy()\n",
    "print(energy)"
   ]
  }
 ],
 "metadata": {
  "kernelspec": {
   "display_name": "Python 3",
   "language": "python",
   "name": "python3"
  },
  "language_info": {
   "codemirror_mode": {
    "name": "ipython",
    "version": 3
   },
   "file_extension": ".py",
   "mimetype": "text/x-python",
   "name": "python",
   "nbconvert_exporter": "python",
   "pygments_lexer": "ipython3",
   "version": "3.7.7"
  }
 },
 "nbformat": 4,
 "nbformat_minor": 2
}
