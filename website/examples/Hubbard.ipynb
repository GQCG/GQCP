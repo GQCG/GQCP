{
 "cells": [
  {
   "cell_type": "markdown",
   "source": [
    "# Hubbard calculations"
   ],
   "metadata": {}
  },
  {
   "cell_type": "code",
   "execution_count": 1,
   "source": [
    "# Force the local gqcpy to be imported\n",
    "import sys\n",
    "sys.path.insert(0, '../../build/gqcpy/')\n",
    "\n",
    "import gqcpy\n",
    "import numpy as np"
   ],
   "outputs": [],
   "metadata": {}
  },
  {
   "cell_type": "markdown",
   "source": [
    "## Specifying the Hubbard model for a four-site chain"
   ],
   "metadata": {}
  },
  {
   "cell_type": "markdown",
   "source": [
    "If we would like to investigate a four-site chain, we should specify the adjacency matrix and the Hubbard model parameters `t` and `U`. Then, we can make a hopping matrix."
   ],
   "metadata": {}
  },
  {
   "cell_type": "code",
   "execution_count": 2,
   "source": [
    "A = gqcpy.AdjacencyMatrix.Linear(4)\n",
    "print(A.matrix())"
   ],
   "outputs": [
    {
     "output_type": "stream",
     "name": "stdout",
     "text": [
      "[[0 1 0 0]\n",
      " [1 0 1 0]\n",
      " [0 1 0 1]\n",
      " [0 0 1 0]]\n"
     ]
    }
   ],
   "metadata": {}
  },
  {
   "cell_type": "code",
   "execution_count": 3,
   "source": [
    "t = 1.0\n",
    "U = 3.5\n",
    "H = gqcpy.HoppingMatrix(A, t, U)\n",
    "print(H.matrix())"
   ],
   "outputs": [
    {
     "output_type": "stream",
     "name": "stdout",
     "text": [
      "[[ 3.5 -1.   0.   0. ]\n",
      " [-1.   3.5 -1.   0. ]\n",
      " [ 0.  -1.   3.5 -1. ]\n",
      " [ 0.   0.  -1.   3.5]]\n"
     ]
    }
   ],
   "metadata": {}
  },
  {
   "cell_type": "markdown",
   "source": [
    "This hopping matrix can be used to construct the Hubbard model Hamiltonian."
   ],
   "metadata": {}
  },
  {
   "cell_type": "code",
   "execution_count": 4,
   "source": [
    "hubbard_hamiltonian = gqcpy.HubbardHamiltonian(H)\n",
    "print(hubbard_hamiltonian.core().parameters())"
   ],
   "outputs": [
    {
     "output_type": "stream",
     "name": "stdout",
     "text": [
      "[[ 0. -1.  0.  0.]\n",
      " [-1.  0. -1.  0.]\n",
      " [ 0. -1.  0. -1.]\n",
      " [ 0.  0. -1.  0.]]\n"
     ]
    }
   ],
   "metadata": {}
  },
  {
   "cell_type": "markdown",
   "source": [
    "## Dense Hubbard calculations"
   ],
   "metadata": {}
  },
  {
   "cell_type": "markdown",
   "source": [
    "The first thing we should take care of is the use of the correct ONV basis. "
   ],
   "metadata": {}
  },
  {
   "cell_type": "code",
   "execution_count": 5,
   "source": [
    "K = 4  # number of sites\n",
    "N_P = 2  # number of electron pairs\n",
    "\n",
    "onv_basis = gqcpy.SpinResolvedONVBasis(K, N_P, N_P)"
   ],
   "outputs": [],
   "metadata": {}
  },
  {
   "cell_type": "markdown",
   "source": [
    "In GQCP, the Hubbard model is treated as a model Hamiltonian. What this means is that, behind the scenes, it is not a regular `SQHamiltonian`, but combined with the associated `SpinResolvedONVBasis`, it uses specialized matrix construction and matrix-vector product routines.\n",
    "\n",
    "Even though it _isn't_ a `SQHamiltonian`, we could say it behaves as such, so doing Hubbard (CI) calculations resembles doing FCI calculations. We'll have to specify:\n",
    "1. a solver;\n",
    "1. an associated environment,\n",
    "\n",
    "and then combine these arguments in the `CI` `QCMethod`."
   ],
   "metadata": {}
  },
  {
   "cell_type": "code",
   "execution_count": 7,
   "source": [
    "solver = gqcpy.EigenproblemSolver.Dense_d()\n",
    "environment = gqcpy.CIEnvironment.Dense(hubbard_hamiltonian, onv_basis)\n",
    "\n",
    "energy = gqcpy.CI(onv_basis).optimize(solver, environment).groundStateEnergy()\n",
    "print(energy)"
   ],
   "outputs": [
    {
     "output_type": "stream",
     "name": "stdout",
     "text": [
      "-2.1358716082319393\n"
     ]
    }
   ],
   "metadata": {
    "tags": []
   }
  },
  {
   "cell_type": "markdown",
   "source": [
    "This is exactly the energy we find from a [reference implementation](https://github.com/wpoely86/Hubbard-GPU) by Ward Poelmans."
   ],
   "metadata": {}
  },
  {
   "cell_type": "markdown",
   "source": [
    "## Hubbard calculations with a Davidson algorithm"
   ],
   "metadata": {}
  },
  {
   "cell_type": "markdown",
   "source": [
    "Doing iterative Hubbard calculations (i.e. with a Davidson algorithm) is also similar to doing FCI calculations. We specify a solver, an environment and combine them into the `CI` `QCMethod`."
   ],
   "metadata": {}
  },
  {
   "cell_type": "code",
   "execution_count": 8,
   "source": [
    "x0 = gqcpy.LinearExpansion_SpinResolved.Random(onv_basis).coefficients()\n",
    "\n",
    "solver = gqcpy.EigenproblemSolver.Davidson()\n",
    "environment = gqcpy.CIEnvironment.Iterative(hubbard_hamiltonian, onv_basis, x0)\n",
    "\n",
    "energy = gqcpy.CI(onv_basis).optimize(solver, environment).groundStateEnergy()\n",
    "print(energy)"
   ],
   "outputs": [
    {
     "output_type": "stream",
     "name": "stdout",
     "text": [
      "-2.1358716082319393\n"
     ]
    }
   ],
   "metadata": {
    "tags": []
   }
  }
 ],
 "metadata": {
  "kernelspec": {
   "name": "python3",
   "display_name": "Python 3.8.5 64-bit ('base': conda)"
  },
  "language_info": {
   "codemirror_mode": {
    "name": "ipython",
    "version": 3
   },
   "file_extension": ".py",
   "mimetype": "text/x-python",
   "name": "python",
   "nbconvert_exporter": "python",
   "pygments_lexer": "ipython3",
   "version": "3.8.5"
  },
  "interpreter": {
   "hash": "e4c6ce54e6d1ccff551279c9aafc06b78c48fd9e60d6b4e74c0583a74ec1d1f9"
  }
 },
 "nbformat": 4,
 "nbformat_minor": 2
}