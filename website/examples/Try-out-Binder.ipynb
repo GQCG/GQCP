{
 "cells": [
  {
   "cell_type": "markdown",
   "metadata": {},
   "source": [
    "# Try out GQCP: the Ghent Quantum Chemistry Package"
   ]
  },
  {
   "cell_type": "markdown",
   "metadata": {},
   "source": [
    "Welcome to the try-it-out Notebook that we've set up to guide you through your first developer steps with GQCP."
   ]
  },
  {
   "cell_type": "markdown",
   "metadata": {},
   "source": [
    "## Setup"
   ]
  },
  {
   "cell_type": "markdown",
   "metadata": {},
   "source": [
    "In order to set up this Notebook for Binder, just run the following cells."
   ]
  },
  {
   "cell_type": "code",
   "execution_count": null,
   "metadata": {},
   "outputs": [],
   "source": [
    "!pip install plotly plotly-express pandas "
   ]
  },
  {
   "cell_type": "code",
   "execution_count": null,
   "metadata": {},
   "outputs": [],
   "source": [
    "import os\n",
    "os.environ[\"LIBINT_DATA_PATH\"] = \"/srv/conda/envs/notebook/share/libint/2.4.2/basis\""
   ]
  },
  {
   "cell_type": "markdown",
   "metadata": {},
   "source": [
    "## Import Python modules"
   ]
  },
  {
   "cell_type": "code",
   "execution_count": null,
   "metadata": {},
   "outputs": [],
   "source": [
    "import gqcpy\n",
    "import numpy as np\n",
    "import plotly\n",
    "import plotly.express as px\n",
    "import plotly.graph_objects as go"
   ]
  },
  {
   "cell_type": "markdown",
   "metadata": {},
   "source": [
    "## Generating PES diagrams for RHF and FCI"
   ]
  },
  {
   "cell_type": "markdown",
   "metadata": {},
   "source": [
    "In this example, we'll compare the potential energy surface (PES) for H$_2$ with two well-established quantum chemical methods.\n",
    "\n",
    "RHF (restricted Hartree-Fock) is an approximate method, and we'll examine its well-known behavior in the dissociated regime. On the other hand, FCI (full configuration interaction) is exact (within a given basis set)."
   ]
  },
  {
   "cell_type": "markdown",
   "metadata": {},
   "source": [
    "We'll start off by creating a set of molecules that corresponds to the points on the PES we would like to calculate."
   ]
  },
  {
   "cell_type": "code",
   "execution_count": null,
   "metadata": {},
   "outputs": [],
   "source": [
    "# Initialize an array of distances and set up an empty molecule list.\n",
    "distances = np.arange(0.5, 5, 0.05)\n",
    "molecules = []\n",
    "\n",
    "# Create a fixed hydrogen nucleus (with atomic charge '1').\n",
    "# The other nuclei will be placed at one of the distances.\n",
    "left = gqcpy.Nucleus(1, 0, 0, 0)\n",
    "\n",
    "for i in distances:\n",
    "    right = gqcpy.Nucleus(1, 0, 0, i)\n",
    "    \n",
    "    # Form a molecule from the nuclei, and add them to the molecule list.\n",
    "    molecule = gqcpy.Molecule([left, right], charge=0)\n",
    "    molecules.append(molecule)"
   ]
  },
  {
   "cell_type": "markdown",
   "metadata": {},
   "source": [
    "### Setting up the RHF calculations"
   ]
  },
  {
   "cell_type": "markdown",
   "metadata": {},
   "source": [
    "Let's make a small function that returns a list of RHF energies when provided our list of molecules as an argument."
   ]
  },
  {
   "cell_type": "code",
   "execution_count": null,
   "metadata": {},
   "outputs": [],
   "source": [
    "def calculate_RHF_energies(molecules, basis_set='STO-3G'):\n",
    "    \n",
    "    energies = []\n",
    "    for molecule in molecules:\n",
    "        \n",
    "        # Let's start by creating the (second-quantized) molecular Hamiltonian in the basis of the AOs.\n",
    "        spin_orbital_basis = gqcpy.RSpinOrbitalBasis_d(molecule, basis_set)  # Generate the spin-orbital basis for the molecule in the given basis set. The suffix '_d' is needed for real-valued calculations.\n",
    "        hamiltonian = gqcpy.RSQHamiltonian_d.Molecular(spin_orbital_basis, molecule)  # Create a second-quantized molecular in the previously set up spin-orbital basis. Note that the Hamiltonian is expressed in the non-orthogonal basis of the AOs.\n",
    "        \n",
    "        # For RHF SCF (self-consistent field), we need a solver and an objective. We'll also have to set up a calculation environment.\n",
    "        N = molecule.numberOfElectrons()\n",
    "        S = spin_orbital_basis.quantizeOverlapOperator()  # This is the overlap matrix of the AOs.\n",
    "        environment = gqcpy.RHFSCFEnvironment_d.WithCoreGuess(N, hamiltonian, S)  # We've initialized the RHF SCF environment with an initial guess being the (generalized) eigenvectors of the core Hamiltonian.\n",
    "        solver = gqcpy.RHFSCFSolver_d.Plain()  # For this example, we'll use a plain RHF SCF solver, but we offer many more kinds of SCF solvers. Check out the documentation on our web page for more information.\n",
    "        objective = gqcpy.DiagonalRHFFockMatrixObjective_d(hamiltonian)  # Using this objective will make sure that we obtain the canonical RHF MOs at the end of the calculation.\n",
    "\n",
    "        # Perform the RHF SCF calculation by an `.optimize` call.\n",
    "        qc_structure = gqcpy.RHF_d.optimize(objective, solver, environment)  # `.optimize` calls return a quantum chemical structure (`QCStructure`), which is a general list of (energy,solution)-pairs for each state. RHF SCF only finds the ground state, so the `qc_structure` will only have one member.\n",
    "\n",
    "        # Calculate the total energy of the molecule.\n",
    "        nuclear_repulsion = gqcpy.Operator.NuclearRepulsion(molecule).value()\n",
    "        total_energy = qc_structure.groundStateEnergy() + nuclear_repulsion\n",
    "        energies.append(total_energy)\n",
    "    \n",
    "    return energies"
   ]
  },
  {
   "cell_type": "markdown",
   "metadata": {},
   "source": [
    "Note that the paradigm `environment - solver - optimize - qc_structure` is generally applied to any of the quantum chemical methods that GQCP offers. More information can be found on the web page."
   ]
  },
  {
   "cell_type": "markdown",
   "metadata": {},
   "source": [
    "### Setting up the FCI calculations"
   ]
  },
  {
   "cell_type": "markdown",
   "metadata": {},
   "source": [
    "Similarly to the RHF case, let's set up an FCI function that will calculate all the FCI energies of an input list of molecules."
   ]
  },
  {
   "cell_type": "code",
   "execution_count": null,
   "metadata": {},
   "outputs": [],
   "source": [
    "def calculate_FCI_energies(molecules, basis_set='STO-3G'):\n",
    "\n",
    "    energies = []    \n",
    "    for molecule in molecules:\n",
    "        \n",
    "        # We'll start by setting up the molecular Hamiltonian quantized in an orthonormal spin-orbital basis. We could use the RHF MOs, but since we're doing full CI, we might as well just use the Löwdin basis (S^{-1/2}).\n",
    "        spin_orbital_basis = gqcpy.RSpinOrbitalBasis_d(molecule, basis_set)  # Generate the initial spin-orbital basis for the molecule in the given basis set.\n",
    "        spin_orbital_basis.lowdinOrthonormalize()\n",
    "        hamiltonian = gqcpy.RSQHamiltonian_d.Molecular(spin_orbital_basis, molecule)\n",
    "\n",
    "        # For an FCI calculation, we have to set up the complete ONV (occupation number vector) basis.\n",
    "        K = spin_orbital_basis.numberOfSpatialOrbitals()\n",
    "        N_P = molecule.numberOfElectronPairs()\n",
    "        onv_basis = gqcpy.SpinResolvedONVBasis(K, N_P, N_P)\n",
    "\n",
    "        # Set up a solver, environment, and call the `.optimize` function to get a quantum chemical structure.\n",
    "        solver = gqcpy.EigenproblemSolver.Dense()  # For this example, we'll just use a dense eigensolver. Check out the documentation on our web page for more information on other kinds of solvers.\n",
    "        environment = gqcpy.CIEnvironment.Dense(hamiltonian, onv_basis)\n",
    "        qc_structure = gqcpy.CI(onv_basis).optimize(solver, environment)\n",
    "    \n",
    "        # Calculate the total energy.\n",
    "        nuclear_repulsion = gqcpy.Operator.NuclearRepulsion(molecule).value()\n",
    "        total_energy = qc_structure.groundStateEnergy() + nuclear_repulsion\n",
    "\n",
    "        energies.append(total_energy)\n",
    "    \n",
    "    return energies"
   ]
  },
  {
   "cell_type": "markdown",
   "metadata": {},
   "source": [
    "## Visualizing the results"
   ]
  },
  {
   "cell_type": "markdown",
   "metadata": {},
   "source": [
    "We'll use [plotly](https://plotly.com/graphing-libraries/) for the visualization, which creates amazing and interactive figures. Check them out by hovering your curser over the graph!"
   ]
  },
  {
   "cell_type": "code",
   "execution_count": null,
   "metadata": {},
   "outputs": [],
   "source": [
    "RHF_energies = calculate_RHF_energies(molecules)\n",
    "FCI_energies = calculate_FCI_energies(molecules)"
   ]
  },
  {
   "cell_type": "code",
   "execution_count": null,
   "metadata": {},
   "outputs": [],
   "source": [
    "figure = go.Figure()\n",
    "figure.add_trace(go.Scatter(name='RHF', x=distances, y=RHF_energies))\n",
    "figure.add_trace(go.Scatter(name='FCI', x=distances, y=FCI_energies))\n",
    "\n",
    "figure.update_xaxes(title_text='Internuclear distance (Bohr)',\n",
    "                    ticks=\"inside\",\n",
    "                    nticks = 5)\n",
    "figure.update_yaxes(title_text='Energy (Hartree)',\n",
    "                    ticks=\"inside\")\n",
    "\n",
    "figure.update_layout(legend=\n",
    "    dict(yanchor=\"top\",\n",
    "         y=0.99,\n",
    "         xanchor=\"right\",\n",
    "         x=0.99)\n",
    ")"
   ]
  }
 ],
 "metadata": {
  "kernelspec": {
   "display_name": "Python 3",
   "language": "python",
   "name": "python3"
  },
  "language_info": {
   "codemirror_mode": {
    "name": "ipython",
    "version": 3
   },
   "file_extension": ".py",
   "mimetype": "text/x-python",
   "name": "python",
   "nbconvert_exporter": "python",
   "pygments_lexer": "ipython3",
   "version": "3.7.9"
  }
 },
 "nbformat": 4,
 "nbformat_minor": 4
}
