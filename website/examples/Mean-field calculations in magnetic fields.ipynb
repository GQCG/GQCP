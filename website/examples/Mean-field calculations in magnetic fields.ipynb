{
 "cells": [
  {
   "cell_type": "markdown",
   "id": "manual-bracket",
   "metadata": {},
   "source": [
    "# Mean-field calculations in magnetic fields"
   ]
  },
  {
   "cell_type": "markdown",
   "id": "fixed-examination",
   "metadata": {},
   "source": [
    "In this interactive Notebook, we'll explore how GQCP can be used to perform electronic structure calculations in the presence of strong magnetic fields."
   ]
  },
  {
   "cell_type": "markdown",
   "id": "immune-checkout",
   "metadata": {},
   "source": [
    "Since the presence of the magnetic field governs the physical interactions present in the system, we provide **two types** of magnetic Hamiltonians:\n",
    "- `FQMolecularMagneticHamiltonian`: The magnetic Hamiltonian that contains the orbital Zeeman and diamagnetic operators.\n",
    "- `FQMolecularPauliHamiltonian`: The magnetic Hamiltonian that contains the orbital Zeeman, diamagnetic and spin Zeeman operators."
   ]
  },
  {
   "cell_type": "code",
   "execution_count": 11,
   "id": "working-arrow",
   "metadata": {},
   "outputs": [],
   "source": [
    "import sys\n",
    "sys.path.insert(0, '../../build/gqcpy/')\n",
    "\n",
    "import gqcpy\n",
    "import numpy as np"
   ]
  },
  {
   "cell_type": "code",
   "execution_count": 12,
   "id": "found-carrier",
   "metadata": {},
   "outputs": [],
   "source": [
    "import plotly\n",
    "import plotly.graph_objects as go"
   ]
  },
  {
   "cell_type": "markdown",
   "id": "personalized-strain",
   "metadata": {},
   "source": [
    "In this Notebook, we'll explore the dissociation of the simple H<sub>2</sub> molecule in the presence of a magnetic field perpendicular on the bond axis."
   ]
  },
  {
   "cell_type": "code",
   "execution_count": 13,
   "id": "latest-shuttle",
   "metadata": {},
   "outputs": [],
   "source": [
    "R_values = np.arange(0.7, 8, 0.1)\n",
    "H_left = gqcpy.Nucleus(1, 0.0,0.0,0.0)\n",
    "\n",
    "molecules = []\n",
    "for R in R_values:\n",
    "    H_right = gqcpy.Nucleus(1, R,0.0,0.0)  # The molecule is aligned on the x-axis.\n",
    "    molecules.append(gqcpy.Molecule([H_left, H_right]))\n",
    "\n",
    "# Apply a magnetic field in the z-axis.\n",
    "B = gqcpy.HomogeneousMagneticField([0,0,-0.1])"
   ]
  },
  {
   "cell_type": "code",
   "execution_count": 14,
   "id": "packed-mapping",
   "metadata": {},
   "outputs": [],
   "source": [
    "basis_set = \"6-31G\""
   ]
  },
  {
   "cell_type": "markdown",
   "id": "external-cooling",
   "metadata": {},
   "source": [
    "## RHF in a magnetic field"
   ]
  },
  {
   "cell_type": "markdown",
   "id": "focal-encoding",
   "metadata": {},
   "source": [
    "Since the expectation value of the spin operator for RHF is identically zero, the spin Zeeman operator does not contribute to the RHF energy. Therefore, we can use the `FQMolecularMagneticHamiltonian`."
   ]
  },
  {
   "cell_type": "code",
   "execution_count": 15,
   "id": "outstanding-ecuador",
   "metadata": {},
   "outputs": [],
   "source": [
    "RHF_energies = []\n",
    "for molecule in molecules:\n",
    "    \n",
    "    N = molecule.numberOfElectrons()\n",
    "\n",
    "    # Set up the molecular magnetic Hamiltonian in the AO basis.\n",
    "    spin_orbital_basis = gqcpy.LondonRSpinOrbitalBasis(molecule, basis_set, B)\n",
    "    hamiltonian = spin_orbital_basis.quantize(gqcpy.FQMolecularMagneticHamiltonian(molecule, B))\n",
    "    \n",
    "    # Do an RHF calculation and calculate the total energy.\n",
    "    S = spin_orbital_basis.quantize(gqcpy.OverlapOperator())\n",
    "    objective = gqcpy.DiagonalRHFFockMatrixObjective_cd(hamiltonian, 1.0e-05)\n",
    "    environment = gqcpy.RHFSCFEnvironment_cd.WithCoreGuess(N, hamiltonian, S)\n",
    "    solver = gqcpy.RHFSCFSolver_cd.Plain(threshold=1.0e-06, maximum_number_of_iterations=1000)\n",
    "    \n",
    "    qc_structure = gqcpy.RHF_cd.optimize(objective, solver, environment)\n",
    "    \n",
    "    electronic_energy = qc_structure.groundStateEnergy()\n",
    "    nuclear_repulsion = gqcpy.NuclearRepulsionOperator(molecule.nuclearFramework()).value()\n",
    "\n",
    "    RHF_energies.append((electronic_energy + nuclear_repulsion).real)  # Omit the imaginary component, since it's zero."
   ]
  },
  {
   "cell_type": "markdown",
   "id": "floating-serum",
   "metadata": {},
   "source": [
    "## UHF in a magnetic field"
   ]
  },
  {
   "cell_type": "markdown",
   "id": "endless-florist",
   "metadata": {},
   "source": [
    "In the UHF case, we can do a singlet calculation (i.e. $S_z = 0$ or $N_\\alpha = N_\\beta$) or a triplet calculation (i.e. $S_z = 1$ or $N_\\alpha = 2$ with $N_\\beta = 0$). Since the contribution from the spin Zeeman term is constant, we can do the UHF calculation using a `FQMolecularMagneticHamiltonian`."
   ]
  },
  {
   "cell_type": "code",
   "execution_count": 20,
   "id": "funky-warning",
   "metadata": {},
   "outputs": [],
   "source": [
    "UHF_0_energies = []\n",
    "UHF_1_energies = []\n",
    "for molecule in molecules:\n",
    "    \n",
    "    # Set up the molecular magnetic Hamiltonian in the AO basis.\n",
    "    spin_orbital_basis = gqcpy.LondonUSpinOrbitalBasis(molecule, basis_set, B)\n",
    "    hamiltonian = spin_orbital_basis.quantize(gqcpy.FQMolecularMagneticHamiltonian(molecule, B))\n",
    "    \n",
    "    S = spin_orbital_basis.quantize(gqcpy.OverlapOperator())\n",
    "\n",
    "\n",
    "    # Do an UHF calculation for S = 0 and calculate the total energy. In this case, the spin Zeeman contribution vanishes.\n",
    "    N_P = molecule.numberOfElectronPairs()\n",
    "    N_alpha = N_P\n",
    "    N_beta = N_P\n",
    "    \n",
    "    environment = gqcpy.UHFSCFEnvironment_cd.WithCoreGuess(N_alpha, N_beta, hamiltonian, S)\n",
    "    solver = gqcpy.UHFSCFSolver_cd.Plain(threshold=1.0e-06, maximum_number_of_iterations=1000)\n",
    "    \n",
    "    qc_structure = gqcpy.UHF_cd.optimize(solver, environment)\n",
    "    \n",
    "    electronic_energy = qc_structure.groundStateEnergy()\n",
    "    nuclear_repulsion = gqcpy.NuclearRepulsionOperator(molecule.nuclearFramework()).value()\n",
    "\n",
    "    UHF_0_energies.append((electronic_energy + nuclear_repulsion).real)  # Omit the imaginary component, since it's zero.\n",
    "    \n",
    "    \n",
    "    # Do an UHF calculation for S = 1, calculate the constant spin Zeeman contribution and calculate the total energy.\n",
    "    N = molecule.numberOfElectrons()\n",
    "    N_alpha = N\n",
    "    N_beta = 0\n",
    "    \n",
    "    environment = gqcpy.UHFSCFEnvironment_cd.WithCoreGuess(N_alpha, N_beta, hamiltonian, S)\n",
    "    solver = gqcpy.UHFSCFSolver_cd.Plain(threshold=1.0e-06, maximum_number_of_iterations=1000)\n",
    "    \n",
    "    qc_structure = gqcpy.UHF_cd.optimize(solver, environment)\n",
    "    \n",
    "    electronic_energy = qc_structure.groundStateEnergy()\n",
    "    nuclear_repulsion = gqcpy.NuclearRepulsionOperator(molecule.nuclearFramework()).value()\n",
    "    spin_zeeman_contribution = 0.5 * B.strength()[2] * (N_alpha - N_beta)\n",
    "\n",
    "    UHF_1_energies.append((electronic_energy + nuclear_repulsion).real + spin_zeeman_contribution)  # Omit the imaginary component, since it's zero."
   ]
  },
  {
   "cell_type": "markdown",
   "id": "alleged-consumption",
   "metadata": {},
   "source": [
    "## GHF in a magnetic field"
   ]
  },
  {
   "cell_type": "code",
   "execution_count": 17,
   "id": "after-preservation",
   "metadata": {},
   "outputs": [],
   "source": [
    "GHF_energies = []\n",
    "for molecule in molecules:\n",
    "\n",
    "    N = molecule.numberOfElectrons()\n",
    "\n",
    "    # Set up the molecular magnetic Pauli Hamiltonian in the AO basis.\n",
    "    spinor_basis = gqcpy.LondonGSpinorBasis(molecule, basis_set, B)\n",
    "    hamiltonian = spinor_basis.quantize(gqcpy.FQMolecularPauliHamiltonian(molecule, B))\n",
    "    \n",
    "    # Do a GHF calculation and calculate the total energy.\n",
    "    S = spinor_basis.quantize(gqcpy.OverlapOperator())\n",
    "\n",
    "    # Initialize the GHF SCF environment with an initial guess that does not consist of spin-orbitals, but consists of true spinors that are not eigenvectors of S_z.\n",
    "    environment = gqcpy.GHFSCFEnvironment_cd.WithComplexlyTransformedCoreGuess(N, hamiltonian, S)\n",
    "    solver = gqcpy.GHFSCFSolver_cd.Plain(threshold=1.0e-03, maximum_number_of_iterations=4000)\n",
    "    \n",
    "    qc_structure = gqcpy.GHF_cd.optimize(solver, environment)\n",
    "    \n",
    "    electronic_energy = qc_structure.groundStateEnergy()\n",
    "    nuclear_repulsion = gqcpy.NuclearRepulsionOperator(molecule.nuclearFramework()).value()\n",
    "\n",
    "    GHF_energies.append((electronic_energy + nuclear_repulsion).real)  # Omit the imaginary component, since it's zero."
   ]
  },
  {
   "cell_type": "markdown",
   "id": "cleared-machine",
   "metadata": {},
   "source": [
    "## Visualizations"
   ]
  },
  {
   "cell_type": "code",
   "execution_count": 21,
   "id": "fourth-teaching",
   "metadata": {},
   "outputs": [
    {
     "data": {
      "application/vnd.plotly.v1+json": {
       "config": {
        "plotlyServerURL": "https://plot.ly"
       },
       "data": [
        {
         "name": "RHF",
         "type": "scatter",
         "x": [
          0.7,
          0.7999999999999999,
          0.8999999999999999,
          0.9999999999999999,
          1.0999999999999999,
          1.1999999999999997,
          1.2999999999999998,
          1.4,
          1.4999999999999998,
          1.5999999999999996,
          1.6999999999999997,
          1.7999999999999996,
          1.8999999999999997,
          1.9999999999999998,
          2.0999999999999996,
          2.1999999999999993,
          2.3,
          2.3999999999999995,
          2.4999999999999996,
          2.5999999999999996,
          2.6999999999999993,
          2.8,
          2.8999999999999995,
          2.999999999999999,
          3.0999999999999996,
          3.1999999999999993,
          3.3,
          3.3999999999999995,
          3.499999999999999,
          3.5999999999999996,
          3.6999999999999993,
          3.799999999999999,
          3.8999999999999995,
          3.999999999999999,
          4.1,
          4.199999999999999,
          4.299999999999999,
          4.3999999999999995,
          4.499999999999999,
          4.599999999999999,
          4.699999999999999,
          4.799999999999999,
          4.8999999999999995,
          4.999999999999999,
          5.099999999999999,
          5.199999999999999,
          5.299999999999999,
          5.3999999999999995,
          5.499999999999999,
          5.599999999999999,
          5.699999999999999,
          5.799999999999999,
          5.8999999999999995,
          5.999999999999999,
          6.099999999999999,
          6.199999999999999,
          6.299999999999999,
          6.399999999999999,
          6.499999999999999,
          6.599999999999999,
          6.699999999999998,
          6.799999999999999,
          6.899999999999999,
          6.999999999999999,
          7.099999999999999,
          7.199999999999998,
          7.299999999999999,
          7.399999999999999,
          7.499999999999999,
          7.599999999999999,
          7.699999999999998,
          7.799999999999999,
          7.899999999999999
         ],
         "y": [
          -0.8685718878128481,
          -0.9689603478340798,
          -1.0337365126654872,
          -1.0749988685857577,
          -1.1003168056824308,
          -1.114610932498934,
          -1.121177468048794,
          -1.1222818226649398,
          -1.1195146571480556,
          -1.1140109445226933,
          -1.1065890520119543,
          -1.0978426294474715,
          -1.0882037658903094,
          -1.0779876627278262,
          -1.0674246778985377,
          -1.0566833895626941,
          -1.0458872038689102,
          -1.0351263588482946,
          -1.0244666776262576,
          -1.0139560222254986,
          -1.0036290907623056,
          -0.9935109864646519,
          -0.9836198520912773,
          -0.9739687839687945,
          -0.9645671928885405,
          -0.955421748046756,
          -0.9465370159142819,
          -0.9379158844852689,
          -0.9295598437777306,
          -0.9214691759027379,
          -0.9136430928719108,
          -0.9060798478133789,
          -0.8987768354257175,
          -0.8917306901416759,
          -0.8849373853043774,
          -0.8783923333163313,
          -0.8720904848436838,
          -0.866026424360353,
          -0.8601944592911492,
          -0.8545887004573405,
          -0.8492031322209583,
          -0.8440316714898529,
          -0.839068215466426,
          -0.8343066786281291,
          -0.8297410198911915,
          -0.8253652612009554,
          -0.821173498989164,
          -0.8171599099594214,
          -0.8133187526444683,
          -0.809644366064112,
          -0.8061311666613329,
          -0.8027736445133539,
          -0.7995663596197973,
          -0.7965039388743111,
          -0.7935810741385471,
          -0.7907925216657863,
          -0.7881331029718345,
          -0.7855977071266549,
          -0.7831812943432435,
          -0.7808789006713657,
          -0.7786856435594816,
          -0.7765967280284983,
          -0.7746074531992926,
          -0.7727132189300833,
          -0.770909532344545,
          -0.7691920140630717,
          -0.7675564039852697,
          -0.7659985665060455,
          -0.764514495082695,
          -0.7631003160999086,
          -0.7617522920061937,
          -0.7604668237167527,
          -0.7592404522941527
         ]
        },
        {
         "name": "UHF (S=0)",
         "type": "scatter",
         "x": [
          0.7,
          0.7999999999999999,
          0.8999999999999999,
          0.9999999999999999,
          1.0999999999999999,
          1.1999999999999997,
          1.2999999999999998,
          1.4,
          1.4999999999999998,
          1.5999999999999996,
          1.6999999999999997,
          1.7999999999999996,
          1.8999999999999997,
          1.9999999999999998,
          2.0999999999999996,
          2.1999999999999993,
          2.3,
          2.3999999999999995,
          2.4999999999999996,
          2.5999999999999996,
          2.6999999999999993,
          2.8,
          2.8999999999999995,
          2.999999999999999,
          3.0999999999999996,
          3.1999999999999993,
          3.3,
          3.3999999999999995,
          3.499999999999999,
          3.5999999999999996,
          3.6999999999999993,
          3.799999999999999,
          3.8999999999999995,
          3.999999999999999,
          4.1,
          4.199999999999999,
          4.299999999999999,
          4.3999999999999995,
          4.499999999999999,
          4.599999999999999,
          4.699999999999999,
          4.799999999999999,
          4.8999999999999995,
          4.999999999999999,
          5.099999999999999,
          5.199999999999999,
          5.299999999999999,
          5.3999999999999995,
          5.499999999999999,
          5.599999999999999,
          5.699999999999999,
          5.799999999999999,
          5.8999999999999995,
          5.999999999999999,
          6.099999999999999,
          6.199999999999999,
          6.299999999999999,
          6.399999999999999,
          6.499999999999999,
          6.599999999999999,
          6.699999999999998,
          6.799999999999999,
          6.899999999999999,
          6.999999999999999,
          7.099999999999999,
          7.199999999999998,
          7.299999999999999,
          7.399999999999999,
          7.499999999999999,
          7.599999999999999,
          7.699999999999998,
          7.799999999999999,
          7.899999999999999
         ],
         "y": [
          -0.8685718878128481,
          -0.9689603478340798,
          -1.0337365126654872,
          -1.0749988685857577,
          -1.1003168056824308,
          -1.114610932498934,
          -1.121177468048794,
          -1.1222818226649398,
          -1.1195146571480556,
          -1.1140109445226933,
          -1.1065890520119543,
          -1.0978426294474715,
          -1.0882037658903094,
          -1.0779876627278262,
          -1.0674246778985377,
          -1.0566833895626941,
          -1.0458872038689102,
          -1.0351263588482946,
          -1.0244666776262576,
          -1.0139560222254986,
          -1.0036290907623056,
          -0.9935109864646519,
          -0.9836198520912773,
          -0.9739687839687945,
          -0.9645671928885405,
          -0.955421748046756,
          -0.9465370159142819,
          -0.9379158844852689,
          -0.9295598437777306,
          -0.9214691759027379,
          -0.9136430928719108,
          -0.9060798478133789,
          -0.8987768354257175,
          -0.8917306901416759,
          -0.8849373853043774,
          -0.8783923333163313,
          -0.8720904848436838,
          -0.866026424360353,
          -0.8601944592911492,
          -0.8545887004573405,
          -0.8492031322209583,
          -0.8440316714898529,
          -0.839068215466426,
          -0.8343066786281291,
          -0.8297410198911915,
          -0.8253652612009554,
          -0.821173498989164,
          -0.8171599099594214,
          -0.8133187526444683,
          -0.809644366064112,
          -0.8061311666613329,
          -0.8027736445133539,
          -0.7995663596197973,
          -0.7965039388743111,
          -0.7935810741385408,
          -0.7907925216657807,
          -0.7881331029718298,
          -0.7855977071266506,
          -0.7831812943432402,
          -0.7808789006713621,
          -0.7786856435594787,
          -0.7765967280284964,
          -0.7746074531992926,
          -0.7727132189300833,
          -0.770909532344545,
          -0.7691920140630717,
          -0.7675564039852697,
          -0.7659985665060455,
          -0.764514495082695,
          -0.7631003160999086,
          -0.7617522920061937,
          -0.7604668237167527,
          -0.7592404522941527
         ]
        },
        {
         "name": "UHF (S=1)",
         "type": "scatter",
         "x": [
          0.7,
          0.7999999999999999,
          0.8999999999999999,
          0.9999999999999999,
          1.0999999999999999,
          1.1999999999999997,
          1.2999999999999998,
          1.4,
          1.4999999999999998,
          1.5999999999999996,
          1.6999999999999997,
          1.7999999999999996,
          1.8999999999999997,
          1.9999999999999998,
          2.0999999999999996,
          2.1999999999999993,
          2.3,
          2.3999999999999995,
          2.4999999999999996,
          2.5999999999999996,
          2.6999999999999993,
          2.8,
          2.8999999999999995,
          2.999999999999999,
          3.0999999999999996,
          3.1999999999999993,
          3.3,
          3.3999999999999995,
          3.499999999999999,
          3.5999999999999996,
          3.6999999999999993,
          3.799999999999999,
          3.8999999999999995,
          3.999999999999999,
          4.1,
          4.199999999999999,
          4.299999999999999,
          4.3999999999999995,
          4.499999999999999,
          4.599999999999999,
          4.699999999999999,
          4.799999999999999,
          4.8999999999999995,
          4.999999999999999,
          5.099999999999999,
          5.199999999999999,
          5.299999999999999,
          5.3999999999999995,
          5.499999999999999,
          5.599999999999999,
          5.699999999999999,
          5.799999999999999,
          5.8999999999999995,
          5.999999999999999,
          6.099999999999999,
          6.199999999999999,
          6.299999999999999,
          6.399999999999999,
          6.499999999999999,
          6.599999999999999,
          6.699999999999998,
          6.799999999999999,
          6.899999999999999,
          6.999999999999999,
          7.099999999999999,
          7.199999999999998,
          7.299999999999999,
          7.399999999999999,
          7.499999999999999,
          7.599999999999999,
          7.699999999999998,
          7.799999999999999,
          7.899999999999999
         ],
         "y": [
          -0.36618676037428044,
          -0.5022695782018903,
          -0.6022689703997012,
          -0.6782483842058623,
          -0.7377419634307528,
          -0.7856090304134521,
          -0.8250519913086066,
          -0.8582159306649841,
          -0.8865590317867257,
          -0.9110887967368351,
          -0.9325157929327629,
          -0.9513546195019011,
          -0.9679900556999727,
          -0.9827199536596998,
          -0.9957827223578078,
          -1.007374839753389,
          -1.0176620993316008,
          -1.026787011152534,
          -1.0348738528913355,
          -1.042032248619858,
          -1.0483597767667292,
          -1.0539439006289177,
          -1.058863408602473,
          -1.0631894975983742,
          -1.0669866018832002,
          -1.0703130462610868,
          -1.0732215822039948,
          -1.0757598477995216,
          -1.0779707779651535,
          -1.0798929807026536,
          -1.081561088009922,
          -1.0830060857469668,
          -1.0842556244291957,
          -1.0853343118419918,
          -1.086263987963846,
          -1.0870639825816066,
          -1.0877513560022816,
          -1.088341123285192,
          -1.0888464624550487,
          -1.0892789071762716,
          -1.0896485243982168,
          -1.089964077511712,
          -1.0902331755947372,
          -1.090462409359187,
          -1.0906574744477455,
          -1.0908232827326618,
          -1.0909640623220718,
          -1.0910834469477666,
          -1.091184555443917,
          -1.09127006202042,
          -1.091342258040112,
          -1.0914031060112739,
          -1.0914542865052763,
          -1.091497238701509,
          -1.091533195247865,
          -1.0915632120999896,
          -1.0915881939718977,
          -1.0916089159873532,
          -1.09162604207404,
          -1.0916401405903302,
          -1.0916516976158064,
          -1.0916611282835285,
          -1.0916687864753247,
          -1.0916749731514293,
          -1.0916799435392042,
          -1.091683913364552,
          -1.0916870642765728,
          -1.0916895485836078,
          -1.0916914933987645,
          -1.0916930042718958,
          -1.0916941683712953,
          -1.0916950572672137,
          -1.0916957293603775
         ]
        },
        {
         "name": "GHF",
         "type": "scatter",
         "x": [
          0.7,
          0.7999999999999999,
          0.8999999999999999,
          0.9999999999999999,
          1.0999999999999999,
          1.1999999999999997,
          1.2999999999999998,
          1.4,
          1.4999999999999998,
          1.5999999999999996,
          1.6999999999999997,
          1.7999999999999996,
          1.8999999999999997,
          1.9999999999999998,
          2.0999999999999996,
          2.1999999999999993,
          2.3,
          2.3999999999999995,
          2.4999999999999996,
          2.5999999999999996,
          2.6999999999999993,
          2.8,
          2.8999999999999995,
          2.999999999999999,
          3.0999999999999996,
          3.1999999999999993,
          3.3,
          3.3999999999999995,
          3.499999999999999,
          3.5999999999999996,
          3.6999999999999993,
          3.799999999999999,
          3.8999999999999995,
          3.999999999999999,
          4.1,
          4.199999999999999,
          4.299999999999999,
          4.3999999999999995,
          4.499999999999999,
          4.599999999999999,
          4.699999999999999,
          4.799999999999999,
          4.8999999999999995,
          4.999999999999999,
          5.099999999999999,
          5.199999999999999,
          5.299999999999999,
          5.3999999999999995,
          5.499999999999999,
          5.599999999999999,
          5.699999999999999,
          5.799999999999999,
          5.8999999999999995,
          5.999999999999999,
          6.099999999999999,
          6.199999999999999,
          6.299999999999999,
          6.399999999999999,
          6.499999999999999,
          6.599999999999999,
          6.699999999999998,
          6.799999999999999,
          6.899999999999999,
          6.999999999999999,
          7.099999999999999,
          7.199999999999998,
          7.299999999999999,
          7.399999999999999,
          7.499999999999999,
          7.599999999999999,
          7.699999999999998,
          7.799999999999999,
          7.899999999999999
         ],
         "y": [
          -0.8685717227855874,
          -0.9689601676747706,
          -1.0337363184569028,
          -1.0749986425908202,
          -1.1003164887768038,
          -1.1146107056483279,
          -1.1211769544360735,
          -1.1222811943843194,
          -1.1195137566668183,
          -1.1140099948455569,
          -1.1065871679150405,
          -1.0978402116607278,
          -1.0881992670879796,
          -1.0779782735258414,
          -1.0674134107672306,
          -1.0579758463152817,
          -1.0511352904534177,
          -1.046744850863929,
          -1.0447588333470108,
          -1.0452587180513535,
          -1.0484963968074614,
          -1.0539054874851639,
          -1.0588458794876137,
          -1.0631767735132025,
          -1.066976937294441,
          -1.070304980666423,
          -1.0732140986488623,
          -1.075753271411903,
          -1.077964931209004,
          -1.0798868949290088,
          -1.0815552838011055,
          -1.0829999764679195,
          -1.0842517005911005,
          -1.0853304711880862,
          -1.086258962440325,
          -1.0870590441369887,
          -1.0877464958090717,
          -1.088336333386513,
          -1.0888417455000126,
          -1.0892742455313171,
          -1.089643912337512,
          -1.0899595097869295,
          -1.0902286474019778,
          -1.090457916308677,
          -1.0906530074306182,
          -1.0908188436153292,
          -1.0909596477384262,
          -1.0910790538542263,
          -1.0911801810954005,
          -1.0912657039480145,
          -1.0913379140299877,
          -1.0913987740850764,
          -1.0914499649013887,
          -1.0914929258573944,
          -1.0915288897831057,
          -1.0915589128005245,
          -1.0915838997748342,
          -1.091604625966686,
          -1.0916217554271928,
          -1.0916358566255238,
          -1.0916474157402645,
          -1.0916568479924904,
          -1.0916645073419295,
          -1.0916706948173829,
          -1.0916756657062587,
          -1.0916796357867566,
          -1.0916827867532823,
          -1.0916852709531912,
          -1.09168721553299,
          -1.0916887260709447,
          -1.0916898897593623,
          -1.091690778188636,
          -1.091691449776259
         ]
        }
       ],
       "layout": {
        "autosize": false,
        "height": 800,
        "legend": {
         "font": {
          "size": 18
         }
        },
        "template": {
         "data": {
          "bar": [
           {
            "error_x": {
             "color": "#2a3f5f"
            },
            "error_y": {
             "color": "#2a3f5f"
            },
            "marker": {
             "line": {
              "color": "#E5ECF6",
              "width": 0.5
             }
            },
            "type": "bar"
           }
          ],
          "barpolar": [
           {
            "marker": {
             "line": {
              "color": "#E5ECF6",
              "width": 0.5
             }
            },
            "type": "barpolar"
           }
          ],
          "carpet": [
           {
            "aaxis": {
             "endlinecolor": "#2a3f5f",
             "gridcolor": "white",
             "linecolor": "white",
             "minorgridcolor": "white",
             "startlinecolor": "#2a3f5f"
            },
            "baxis": {
             "endlinecolor": "#2a3f5f",
             "gridcolor": "white",
             "linecolor": "white",
             "minorgridcolor": "white",
             "startlinecolor": "#2a3f5f"
            },
            "type": "carpet"
           }
          ],
          "choropleth": [
           {
            "colorbar": {
             "outlinewidth": 0,
             "ticks": ""
            },
            "type": "choropleth"
           }
          ],
          "contour": [
           {
            "colorbar": {
             "outlinewidth": 0,
             "ticks": ""
            },
            "colorscale": [
             [
              0,
              "#0d0887"
             ],
             [
              0.1111111111111111,
              "#46039f"
             ],
             [
              0.2222222222222222,
              "#7201a8"
             ],
             [
              0.3333333333333333,
              "#9c179e"
             ],
             [
              0.4444444444444444,
              "#bd3786"
             ],
             [
              0.5555555555555556,
              "#d8576b"
             ],
             [
              0.6666666666666666,
              "#ed7953"
             ],
             [
              0.7777777777777778,
              "#fb9f3a"
             ],
             [
              0.8888888888888888,
              "#fdca26"
             ],
             [
              1,
              "#f0f921"
             ]
            ],
            "type": "contour"
           }
          ],
          "contourcarpet": [
           {
            "colorbar": {
             "outlinewidth": 0,
             "ticks": ""
            },
            "type": "contourcarpet"
           }
          ],
          "heatmap": [
           {
            "colorbar": {
             "outlinewidth": 0,
             "ticks": ""
            },
            "colorscale": [
             [
              0,
              "#0d0887"
             ],
             [
              0.1111111111111111,
              "#46039f"
             ],
             [
              0.2222222222222222,
              "#7201a8"
             ],
             [
              0.3333333333333333,
              "#9c179e"
             ],
             [
              0.4444444444444444,
              "#bd3786"
             ],
             [
              0.5555555555555556,
              "#d8576b"
             ],
             [
              0.6666666666666666,
              "#ed7953"
             ],
             [
              0.7777777777777778,
              "#fb9f3a"
             ],
             [
              0.8888888888888888,
              "#fdca26"
             ],
             [
              1,
              "#f0f921"
             ]
            ],
            "type": "heatmap"
           }
          ],
          "heatmapgl": [
           {
            "colorbar": {
             "outlinewidth": 0,
             "ticks": ""
            },
            "colorscale": [
             [
              0,
              "#0d0887"
             ],
             [
              0.1111111111111111,
              "#46039f"
             ],
             [
              0.2222222222222222,
              "#7201a8"
             ],
             [
              0.3333333333333333,
              "#9c179e"
             ],
             [
              0.4444444444444444,
              "#bd3786"
             ],
             [
              0.5555555555555556,
              "#d8576b"
             ],
             [
              0.6666666666666666,
              "#ed7953"
             ],
             [
              0.7777777777777778,
              "#fb9f3a"
             ],
             [
              0.8888888888888888,
              "#fdca26"
             ],
             [
              1,
              "#f0f921"
             ]
            ],
            "type": "heatmapgl"
           }
          ],
          "histogram": [
           {
            "marker": {
             "colorbar": {
              "outlinewidth": 0,
              "ticks": ""
             }
            },
            "type": "histogram"
           }
          ],
          "histogram2d": [
           {
            "colorbar": {
             "outlinewidth": 0,
             "ticks": ""
            },
            "colorscale": [
             [
              0,
              "#0d0887"
             ],
             [
              0.1111111111111111,
              "#46039f"
             ],
             [
              0.2222222222222222,
              "#7201a8"
             ],
             [
              0.3333333333333333,
              "#9c179e"
             ],
             [
              0.4444444444444444,
              "#bd3786"
             ],
             [
              0.5555555555555556,
              "#d8576b"
             ],
             [
              0.6666666666666666,
              "#ed7953"
             ],
             [
              0.7777777777777778,
              "#fb9f3a"
             ],
             [
              0.8888888888888888,
              "#fdca26"
             ],
             [
              1,
              "#f0f921"
             ]
            ],
            "type": "histogram2d"
           }
          ],
          "histogram2dcontour": [
           {
            "colorbar": {
             "outlinewidth": 0,
             "ticks": ""
            },
            "colorscale": [
             [
              0,
              "#0d0887"
             ],
             [
              0.1111111111111111,
              "#46039f"
             ],
             [
              0.2222222222222222,
              "#7201a8"
             ],
             [
              0.3333333333333333,
              "#9c179e"
             ],
             [
              0.4444444444444444,
              "#bd3786"
             ],
             [
              0.5555555555555556,
              "#d8576b"
             ],
             [
              0.6666666666666666,
              "#ed7953"
             ],
             [
              0.7777777777777778,
              "#fb9f3a"
             ],
             [
              0.8888888888888888,
              "#fdca26"
             ],
             [
              1,
              "#f0f921"
             ]
            ],
            "type": "histogram2dcontour"
           }
          ],
          "mesh3d": [
           {
            "colorbar": {
             "outlinewidth": 0,
             "ticks": ""
            },
            "type": "mesh3d"
           }
          ],
          "parcoords": [
           {
            "line": {
             "colorbar": {
              "outlinewidth": 0,
              "ticks": ""
             }
            },
            "type": "parcoords"
           }
          ],
          "pie": [
           {
            "automargin": true,
            "type": "pie"
           }
          ],
          "scatter": [
           {
            "marker": {
             "colorbar": {
              "outlinewidth": 0,
              "ticks": ""
             }
            },
            "type": "scatter"
           }
          ],
          "scatter3d": [
           {
            "line": {
             "colorbar": {
              "outlinewidth": 0,
              "ticks": ""
             }
            },
            "marker": {
             "colorbar": {
              "outlinewidth": 0,
              "ticks": ""
             }
            },
            "type": "scatter3d"
           }
          ],
          "scattercarpet": [
           {
            "marker": {
             "colorbar": {
              "outlinewidth": 0,
              "ticks": ""
             }
            },
            "type": "scattercarpet"
           }
          ],
          "scattergeo": [
           {
            "marker": {
             "colorbar": {
              "outlinewidth": 0,
              "ticks": ""
             }
            },
            "type": "scattergeo"
           }
          ],
          "scattergl": [
           {
            "marker": {
             "colorbar": {
              "outlinewidth": 0,
              "ticks": ""
             }
            },
            "type": "scattergl"
           }
          ],
          "scattermapbox": [
           {
            "marker": {
             "colorbar": {
              "outlinewidth": 0,
              "ticks": ""
             }
            },
            "type": "scattermapbox"
           }
          ],
          "scatterpolar": [
           {
            "marker": {
             "colorbar": {
              "outlinewidth": 0,
              "ticks": ""
             }
            },
            "type": "scatterpolar"
           }
          ],
          "scatterpolargl": [
           {
            "marker": {
             "colorbar": {
              "outlinewidth": 0,
              "ticks": ""
             }
            },
            "type": "scatterpolargl"
           }
          ],
          "scatterternary": [
           {
            "marker": {
             "colorbar": {
              "outlinewidth": 0,
              "ticks": ""
             }
            },
            "type": "scatterternary"
           }
          ],
          "surface": [
           {
            "colorbar": {
             "outlinewidth": 0,
             "ticks": ""
            },
            "colorscale": [
             [
              0,
              "#0d0887"
             ],
             [
              0.1111111111111111,
              "#46039f"
             ],
             [
              0.2222222222222222,
              "#7201a8"
             ],
             [
              0.3333333333333333,
              "#9c179e"
             ],
             [
              0.4444444444444444,
              "#bd3786"
             ],
             [
              0.5555555555555556,
              "#d8576b"
             ],
             [
              0.6666666666666666,
              "#ed7953"
             ],
             [
              0.7777777777777778,
              "#fb9f3a"
             ],
             [
              0.8888888888888888,
              "#fdca26"
             ],
             [
              1,
              "#f0f921"
             ]
            ],
            "type": "surface"
           }
          ],
          "table": [
           {
            "cells": {
             "fill": {
              "color": "#EBF0F8"
             },
             "line": {
              "color": "white"
             }
            },
            "header": {
             "fill": {
              "color": "#C8D4E3"
             },
             "line": {
              "color": "white"
             }
            },
            "type": "table"
           }
          ]
         },
         "layout": {
          "annotationdefaults": {
           "arrowcolor": "#2a3f5f",
           "arrowhead": 0,
           "arrowwidth": 1
          },
          "autotypenumbers": "strict",
          "coloraxis": {
           "colorbar": {
            "outlinewidth": 0,
            "ticks": ""
           }
          },
          "colorscale": {
           "diverging": [
            [
             0,
             "#8e0152"
            ],
            [
             0.1,
             "#c51b7d"
            ],
            [
             0.2,
             "#de77ae"
            ],
            [
             0.3,
             "#f1b6da"
            ],
            [
             0.4,
             "#fde0ef"
            ],
            [
             0.5,
             "#f7f7f7"
            ],
            [
             0.6,
             "#e6f5d0"
            ],
            [
             0.7,
             "#b8e186"
            ],
            [
             0.8,
             "#7fbc41"
            ],
            [
             0.9,
             "#4d9221"
            ],
            [
             1,
             "#276419"
            ]
           ],
           "sequential": [
            [
             0,
             "#0d0887"
            ],
            [
             0.1111111111111111,
             "#46039f"
            ],
            [
             0.2222222222222222,
             "#7201a8"
            ],
            [
             0.3333333333333333,
             "#9c179e"
            ],
            [
             0.4444444444444444,
             "#bd3786"
            ],
            [
             0.5555555555555556,
             "#d8576b"
            ],
            [
             0.6666666666666666,
             "#ed7953"
            ],
            [
             0.7777777777777778,
             "#fb9f3a"
            ],
            [
             0.8888888888888888,
             "#fdca26"
            ],
            [
             1,
             "#f0f921"
            ]
           ],
           "sequentialminus": [
            [
             0,
             "#0d0887"
            ],
            [
             0.1111111111111111,
             "#46039f"
            ],
            [
             0.2222222222222222,
             "#7201a8"
            ],
            [
             0.3333333333333333,
             "#9c179e"
            ],
            [
             0.4444444444444444,
             "#bd3786"
            ],
            [
             0.5555555555555556,
             "#d8576b"
            ],
            [
             0.6666666666666666,
             "#ed7953"
            ],
            [
             0.7777777777777778,
             "#fb9f3a"
            ],
            [
             0.8888888888888888,
             "#fdca26"
            ],
            [
             1,
             "#f0f921"
            ]
           ]
          },
          "colorway": [
           "#636efa",
           "#EF553B",
           "#00cc96",
           "#ab63fa",
           "#FFA15A",
           "#19d3f3",
           "#FF6692",
           "#B6E880",
           "#FF97FF",
           "#FECB52"
          ],
          "font": {
           "color": "#2a3f5f"
          },
          "geo": {
           "bgcolor": "white",
           "lakecolor": "white",
           "landcolor": "#E5ECF6",
           "showlakes": true,
           "showland": true,
           "subunitcolor": "white"
          },
          "hoverlabel": {
           "align": "left"
          },
          "hovermode": "closest",
          "mapbox": {
           "style": "light"
          },
          "paper_bgcolor": "white",
          "plot_bgcolor": "#E5ECF6",
          "polar": {
           "angularaxis": {
            "gridcolor": "white",
            "linecolor": "white",
            "ticks": ""
           },
           "bgcolor": "#E5ECF6",
           "radialaxis": {
            "gridcolor": "white",
            "linecolor": "white",
            "ticks": ""
           }
          },
          "scene": {
           "xaxis": {
            "backgroundcolor": "#E5ECF6",
            "gridcolor": "white",
            "gridwidth": 2,
            "linecolor": "white",
            "showbackground": true,
            "ticks": "",
            "zerolinecolor": "white"
           },
           "yaxis": {
            "backgroundcolor": "#E5ECF6",
            "gridcolor": "white",
            "gridwidth": 2,
            "linecolor": "white",
            "showbackground": true,
            "ticks": "",
            "zerolinecolor": "white"
           },
           "zaxis": {
            "backgroundcolor": "#E5ECF6",
            "gridcolor": "white",
            "gridwidth": 2,
            "linecolor": "white",
            "showbackground": true,
            "ticks": "",
            "zerolinecolor": "white"
           }
          },
          "shapedefaults": {
           "line": {
            "color": "#2a3f5f"
           }
          },
          "ternary": {
           "aaxis": {
            "gridcolor": "white",
            "linecolor": "white",
            "ticks": ""
           },
           "baxis": {
            "gridcolor": "white",
            "linecolor": "white",
            "ticks": ""
           },
           "bgcolor": "#E5ECF6",
           "caxis": {
            "gridcolor": "white",
            "linecolor": "white",
            "ticks": ""
           }
          },
          "title": {
           "x": 0.05
          },
          "xaxis": {
           "automargin": true,
           "gridcolor": "white",
           "linecolor": "white",
           "ticks": "",
           "title": {
            "standoff": 15
           },
           "zerolinecolor": "white",
           "zerolinewidth": 2
          },
          "yaxis": {
           "automargin": true,
           "gridcolor": "white",
           "linecolor": "white",
           "ticks": "",
           "title": {
            "standoff": 15
           },
           "zerolinecolor": "white",
           "zerolinewidth": 2
          }
         }
        },
        "width": 800,
        "xaxis": {
         "title": {
          "font": {
           "size": 18
          },
          "text": "Internuclear distance (a.u.)"
         }
        },
        "yaxis": {
         "title": {
          "font": {
           "size": 18
          },
          "text": "Energy (a.u.)"
         }
        }
       }
      },
      "text/html": [
       "<div>                            <div id=\"ecf0a9f0-a096-499b-9df2-aecd3d229908\" class=\"plotly-graph-div\" style=\"height:800px; width:800px;\"></div>            <script type=\"text/javascript\">                require([\"plotly\"], function(Plotly) {                    window.PLOTLYENV=window.PLOTLYENV || {};                                    if (document.getElementById(\"ecf0a9f0-a096-499b-9df2-aecd3d229908\")) {                    Plotly.newPlot(                        \"ecf0a9f0-a096-499b-9df2-aecd3d229908\",                        [{\"name\": \"RHF\", \"type\": \"scatter\", \"x\": [0.7, 0.7999999999999999, 0.8999999999999999, 0.9999999999999999, 1.0999999999999999, 1.1999999999999997, 1.2999999999999998, 1.4, 1.4999999999999998, 1.5999999999999996, 1.6999999999999997, 1.7999999999999996, 1.8999999999999997, 1.9999999999999998, 2.0999999999999996, 2.1999999999999993, 2.3, 2.3999999999999995, 2.4999999999999996, 2.5999999999999996, 2.6999999999999993, 2.8, 2.8999999999999995, 2.999999999999999, 3.0999999999999996, 3.1999999999999993, 3.3, 3.3999999999999995, 3.499999999999999, 3.5999999999999996, 3.6999999999999993, 3.799999999999999, 3.8999999999999995, 3.999999999999999, 4.1, 4.199999999999999, 4.299999999999999, 4.3999999999999995, 4.499999999999999, 4.599999999999999, 4.699999999999999, 4.799999999999999, 4.8999999999999995, 4.999999999999999, 5.099999999999999, 5.199999999999999, 5.299999999999999, 5.3999999999999995, 5.499999999999999, 5.599999999999999, 5.699999999999999, 5.799999999999999, 5.8999999999999995, 5.999999999999999, 6.099999999999999, 6.199999999999999, 6.299999999999999, 6.399999999999999, 6.499999999999999, 6.599999999999999, 6.699999999999998, 6.799999999999999, 6.899999999999999, 6.999999999999999, 7.099999999999999, 7.199999999999998, 7.299999999999999, 7.399999999999999, 7.499999999999999, 7.599999999999999, 7.699999999999998, 7.799999999999999, 7.899999999999999], \"y\": [-0.8685718878128481, -0.9689603478340798, -1.0337365126654872, -1.0749988685857577, -1.1003168056824308, -1.114610932498934, -1.121177468048794, -1.1222818226649398, -1.1195146571480556, -1.1140109445226933, -1.1065890520119543, -1.0978426294474715, -1.0882037658903094, -1.0779876627278262, -1.0674246778985377, -1.0566833895626941, -1.0458872038689102, -1.0351263588482946, -1.0244666776262576, -1.0139560222254986, -1.0036290907623056, -0.9935109864646519, -0.9836198520912773, -0.9739687839687945, -0.9645671928885405, -0.955421748046756, -0.9465370159142819, -0.9379158844852689, -0.9295598437777306, -0.9214691759027379, -0.9136430928719108, -0.9060798478133789, -0.8987768354257175, -0.8917306901416759, -0.8849373853043774, -0.8783923333163313, -0.8720904848436838, -0.866026424360353, -0.8601944592911492, -0.8545887004573405, -0.8492031322209583, -0.8440316714898529, -0.839068215466426, -0.8343066786281291, -0.8297410198911915, -0.8253652612009554, -0.821173498989164, -0.8171599099594214, -0.8133187526444683, -0.809644366064112, -0.8061311666613329, -0.8027736445133539, -0.7995663596197973, -0.7965039388743111, -0.7935810741385471, -0.7907925216657863, -0.7881331029718345, -0.7855977071266549, -0.7831812943432435, -0.7808789006713657, -0.7786856435594816, -0.7765967280284983, -0.7746074531992926, -0.7727132189300833, -0.770909532344545, -0.7691920140630717, -0.7675564039852697, -0.7659985665060455, -0.764514495082695, -0.7631003160999086, -0.7617522920061937, -0.7604668237167527, -0.7592404522941527]}, {\"name\": \"UHF (S=0)\", \"type\": \"scatter\", \"x\": [0.7, 0.7999999999999999, 0.8999999999999999, 0.9999999999999999, 1.0999999999999999, 1.1999999999999997, 1.2999999999999998, 1.4, 1.4999999999999998, 1.5999999999999996, 1.6999999999999997, 1.7999999999999996, 1.8999999999999997, 1.9999999999999998, 2.0999999999999996, 2.1999999999999993, 2.3, 2.3999999999999995, 2.4999999999999996, 2.5999999999999996, 2.6999999999999993, 2.8, 2.8999999999999995, 2.999999999999999, 3.0999999999999996, 3.1999999999999993, 3.3, 3.3999999999999995, 3.499999999999999, 3.5999999999999996, 3.6999999999999993, 3.799999999999999, 3.8999999999999995, 3.999999999999999, 4.1, 4.199999999999999, 4.299999999999999, 4.3999999999999995, 4.499999999999999, 4.599999999999999, 4.699999999999999, 4.799999999999999, 4.8999999999999995, 4.999999999999999, 5.099999999999999, 5.199999999999999, 5.299999999999999, 5.3999999999999995, 5.499999999999999, 5.599999999999999, 5.699999999999999, 5.799999999999999, 5.8999999999999995, 5.999999999999999, 6.099999999999999, 6.199999999999999, 6.299999999999999, 6.399999999999999, 6.499999999999999, 6.599999999999999, 6.699999999999998, 6.799999999999999, 6.899999999999999, 6.999999999999999, 7.099999999999999, 7.199999999999998, 7.299999999999999, 7.399999999999999, 7.499999999999999, 7.599999999999999, 7.699999999999998, 7.799999999999999, 7.899999999999999], \"y\": [-0.8685718878128481, -0.9689603478340798, -1.0337365126654872, -1.0749988685857577, -1.1003168056824308, -1.114610932498934, -1.121177468048794, -1.1222818226649398, -1.1195146571480556, -1.1140109445226933, -1.1065890520119543, -1.0978426294474715, -1.0882037658903094, -1.0779876627278262, -1.0674246778985377, -1.0566833895626941, -1.0458872038689102, -1.0351263588482946, -1.0244666776262576, -1.0139560222254986, -1.0036290907623056, -0.9935109864646519, -0.9836198520912773, -0.9739687839687945, -0.9645671928885405, -0.955421748046756, -0.9465370159142819, -0.9379158844852689, -0.9295598437777306, -0.9214691759027379, -0.9136430928719108, -0.9060798478133789, -0.8987768354257175, -0.8917306901416759, -0.8849373853043774, -0.8783923333163313, -0.8720904848436838, -0.866026424360353, -0.8601944592911492, -0.8545887004573405, -0.8492031322209583, -0.8440316714898529, -0.839068215466426, -0.8343066786281291, -0.8297410198911915, -0.8253652612009554, -0.821173498989164, -0.8171599099594214, -0.8133187526444683, -0.809644366064112, -0.8061311666613329, -0.8027736445133539, -0.7995663596197973, -0.7965039388743111, -0.7935810741385408, -0.7907925216657807, -0.7881331029718298, -0.7855977071266506, -0.7831812943432402, -0.7808789006713621, -0.7786856435594787, -0.7765967280284964, -0.7746074531992926, -0.7727132189300833, -0.770909532344545, -0.7691920140630717, -0.7675564039852697, -0.7659985665060455, -0.764514495082695, -0.7631003160999086, -0.7617522920061937, -0.7604668237167527, -0.7592404522941527]}, {\"name\": \"UHF (S=1)\", \"type\": \"scatter\", \"x\": [0.7, 0.7999999999999999, 0.8999999999999999, 0.9999999999999999, 1.0999999999999999, 1.1999999999999997, 1.2999999999999998, 1.4, 1.4999999999999998, 1.5999999999999996, 1.6999999999999997, 1.7999999999999996, 1.8999999999999997, 1.9999999999999998, 2.0999999999999996, 2.1999999999999993, 2.3, 2.3999999999999995, 2.4999999999999996, 2.5999999999999996, 2.6999999999999993, 2.8, 2.8999999999999995, 2.999999999999999, 3.0999999999999996, 3.1999999999999993, 3.3, 3.3999999999999995, 3.499999999999999, 3.5999999999999996, 3.6999999999999993, 3.799999999999999, 3.8999999999999995, 3.999999999999999, 4.1, 4.199999999999999, 4.299999999999999, 4.3999999999999995, 4.499999999999999, 4.599999999999999, 4.699999999999999, 4.799999999999999, 4.8999999999999995, 4.999999999999999, 5.099999999999999, 5.199999999999999, 5.299999999999999, 5.3999999999999995, 5.499999999999999, 5.599999999999999, 5.699999999999999, 5.799999999999999, 5.8999999999999995, 5.999999999999999, 6.099999999999999, 6.199999999999999, 6.299999999999999, 6.399999999999999, 6.499999999999999, 6.599999999999999, 6.699999999999998, 6.799999999999999, 6.899999999999999, 6.999999999999999, 7.099999999999999, 7.199999999999998, 7.299999999999999, 7.399999999999999, 7.499999999999999, 7.599999999999999, 7.699999999999998, 7.799999999999999, 7.899999999999999], \"y\": [-0.36618676037428044, -0.5022695782018903, -0.6022689703997012, -0.6782483842058623, -0.7377419634307528, -0.7856090304134521, -0.8250519913086066, -0.8582159306649841, -0.8865590317867257, -0.9110887967368351, -0.9325157929327629, -0.9513546195019011, -0.9679900556999727, -0.9827199536596998, -0.9957827223578078, -1.007374839753389, -1.0176620993316008, -1.026787011152534, -1.0348738528913355, -1.042032248619858, -1.0483597767667292, -1.0539439006289177, -1.058863408602473, -1.0631894975983742, -1.0669866018832002, -1.0703130462610868, -1.0732215822039948, -1.0757598477995216, -1.0779707779651535, -1.0798929807026536, -1.081561088009922, -1.0830060857469668, -1.0842556244291957, -1.0853343118419918, -1.086263987963846, -1.0870639825816066, -1.0877513560022816, -1.088341123285192, -1.0888464624550487, -1.0892789071762716, -1.0896485243982168, -1.089964077511712, -1.0902331755947372, -1.090462409359187, -1.0906574744477455, -1.0908232827326618, -1.0909640623220718, -1.0910834469477666, -1.091184555443917, -1.09127006202042, -1.091342258040112, -1.0914031060112739, -1.0914542865052763, -1.091497238701509, -1.091533195247865, -1.0915632120999896, -1.0915881939718977, -1.0916089159873532, -1.09162604207404, -1.0916401405903302, -1.0916516976158064, -1.0916611282835285, -1.0916687864753247, -1.0916749731514293, -1.0916799435392042, -1.091683913364552, -1.0916870642765728, -1.0916895485836078, -1.0916914933987645, -1.0916930042718958, -1.0916941683712953, -1.0916950572672137, -1.0916957293603775]}, {\"name\": \"GHF\", \"type\": \"scatter\", \"x\": [0.7, 0.7999999999999999, 0.8999999999999999, 0.9999999999999999, 1.0999999999999999, 1.1999999999999997, 1.2999999999999998, 1.4, 1.4999999999999998, 1.5999999999999996, 1.6999999999999997, 1.7999999999999996, 1.8999999999999997, 1.9999999999999998, 2.0999999999999996, 2.1999999999999993, 2.3, 2.3999999999999995, 2.4999999999999996, 2.5999999999999996, 2.6999999999999993, 2.8, 2.8999999999999995, 2.999999999999999, 3.0999999999999996, 3.1999999999999993, 3.3, 3.3999999999999995, 3.499999999999999, 3.5999999999999996, 3.6999999999999993, 3.799999999999999, 3.8999999999999995, 3.999999999999999, 4.1, 4.199999999999999, 4.299999999999999, 4.3999999999999995, 4.499999999999999, 4.599999999999999, 4.699999999999999, 4.799999999999999, 4.8999999999999995, 4.999999999999999, 5.099999999999999, 5.199999999999999, 5.299999999999999, 5.3999999999999995, 5.499999999999999, 5.599999999999999, 5.699999999999999, 5.799999999999999, 5.8999999999999995, 5.999999999999999, 6.099999999999999, 6.199999999999999, 6.299999999999999, 6.399999999999999, 6.499999999999999, 6.599999999999999, 6.699999999999998, 6.799999999999999, 6.899999999999999, 6.999999999999999, 7.099999999999999, 7.199999999999998, 7.299999999999999, 7.399999999999999, 7.499999999999999, 7.599999999999999, 7.699999999999998, 7.799999999999999, 7.899999999999999], \"y\": [-0.8685717227855874, -0.9689601676747706, -1.0337363184569028, -1.0749986425908202, -1.1003164887768038, -1.1146107056483279, -1.1211769544360735, -1.1222811943843194, -1.1195137566668183, -1.1140099948455569, -1.1065871679150405, -1.0978402116607278, -1.0881992670879796, -1.0779782735258414, -1.0674134107672306, -1.0579758463152817, -1.0511352904534177, -1.046744850863929, -1.0447588333470108, -1.0452587180513535, -1.0484963968074614, -1.0539054874851639, -1.0588458794876137, -1.0631767735132025, -1.066976937294441, -1.070304980666423, -1.0732140986488623, -1.075753271411903, -1.077964931209004, -1.0798868949290088, -1.0815552838011055, -1.0829999764679195, -1.0842517005911005, -1.0853304711880862, -1.086258962440325, -1.0870590441369887, -1.0877464958090717, -1.088336333386513, -1.0888417455000126, -1.0892742455313171, -1.089643912337512, -1.0899595097869295, -1.0902286474019778, -1.090457916308677, -1.0906530074306182, -1.0908188436153292, -1.0909596477384262, -1.0910790538542263, -1.0911801810954005, -1.0912657039480145, -1.0913379140299877, -1.0913987740850764, -1.0914499649013887, -1.0914929258573944, -1.0915288897831057, -1.0915589128005245, -1.0915838997748342, -1.091604625966686, -1.0916217554271928, -1.0916358566255238, -1.0916474157402645, -1.0916568479924904, -1.0916645073419295, -1.0916706948173829, -1.0916756657062587, -1.0916796357867566, -1.0916827867532823, -1.0916852709531912, -1.09168721553299, -1.0916887260709447, -1.0916898897593623, -1.091690778188636, -1.091691449776259]}],                        {\"autosize\": false, \"height\": 800, \"legend\": {\"font\": {\"size\": 18}}, \"template\": {\"data\": {\"bar\": [{\"error_x\": {\"color\": \"#2a3f5f\"}, \"error_y\": {\"color\": \"#2a3f5f\"}, \"marker\": {\"line\": {\"color\": \"#E5ECF6\", \"width\": 0.5}}, \"type\": \"bar\"}], \"barpolar\": [{\"marker\": {\"line\": {\"color\": \"#E5ECF6\", \"width\": 0.5}}, \"type\": \"barpolar\"}], \"carpet\": [{\"aaxis\": {\"endlinecolor\": \"#2a3f5f\", \"gridcolor\": \"white\", \"linecolor\": \"white\", \"minorgridcolor\": \"white\", \"startlinecolor\": \"#2a3f5f\"}, \"baxis\": {\"endlinecolor\": \"#2a3f5f\", \"gridcolor\": \"white\", \"linecolor\": \"white\", \"minorgridcolor\": \"white\", \"startlinecolor\": \"#2a3f5f\"}, \"type\": \"carpet\"}], \"choropleth\": [{\"colorbar\": {\"outlinewidth\": 0, \"ticks\": \"\"}, \"type\": \"choropleth\"}], \"contour\": [{\"colorbar\": {\"outlinewidth\": 0, \"ticks\": \"\"}, \"colorscale\": [[0.0, \"#0d0887\"], [0.1111111111111111, \"#46039f\"], [0.2222222222222222, \"#7201a8\"], [0.3333333333333333, \"#9c179e\"], [0.4444444444444444, \"#bd3786\"], [0.5555555555555556, \"#d8576b\"], [0.6666666666666666, \"#ed7953\"], [0.7777777777777778, \"#fb9f3a\"], [0.8888888888888888, \"#fdca26\"], [1.0, \"#f0f921\"]], \"type\": \"contour\"}], \"contourcarpet\": [{\"colorbar\": {\"outlinewidth\": 0, \"ticks\": \"\"}, \"type\": \"contourcarpet\"}], \"heatmap\": [{\"colorbar\": {\"outlinewidth\": 0, \"ticks\": \"\"}, \"colorscale\": [[0.0, \"#0d0887\"], [0.1111111111111111, \"#46039f\"], [0.2222222222222222, \"#7201a8\"], [0.3333333333333333, \"#9c179e\"], [0.4444444444444444, \"#bd3786\"], [0.5555555555555556, \"#d8576b\"], [0.6666666666666666, \"#ed7953\"], [0.7777777777777778, \"#fb9f3a\"], [0.8888888888888888, \"#fdca26\"], [1.0, \"#f0f921\"]], \"type\": \"heatmap\"}], \"heatmapgl\": [{\"colorbar\": {\"outlinewidth\": 0, \"ticks\": \"\"}, \"colorscale\": [[0.0, \"#0d0887\"], [0.1111111111111111, \"#46039f\"], [0.2222222222222222, \"#7201a8\"], [0.3333333333333333, \"#9c179e\"], [0.4444444444444444, \"#bd3786\"], [0.5555555555555556, \"#d8576b\"], [0.6666666666666666, \"#ed7953\"], [0.7777777777777778, \"#fb9f3a\"], [0.8888888888888888, \"#fdca26\"], [1.0, \"#f0f921\"]], \"type\": \"heatmapgl\"}], \"histogram\": [{\"marker\": {\"colorbar\": {\"outlinewidth\": 0, \"ticks\": \"\"}}, \"type\": \"histogram\"}], \"histogram2d\": [{\"colorbar\": {\"outlinewidth\": 0, \"ticks\": \"\"}, \"colorscale\": [[0.0, \"#0d0887\"], [0.1111111111111111, \"#46039f\"], [0.2222222222222222, \"#7201a8\"], [0.3333333333333333, \"#9c179e\"], [0.4444444444444444, \"#bd3786\"], [0.5555555555555556, \"#d8576b\"], [0.6666666666666666, \"#ed7953\"], [0.7777777777777778, \"#fb9f3a\"], [0.8888888888888888, \"#fdca26\"], [1.0, \"#f0f921\"]], \"type\": \"histogram2d\"}], \"histogram2dcontour\": [{\"colorbar\": {\"outlinewidth\": 0, \"ticks\": \"\"}, \"colorscale\": [[0.0, \"#0d0887\"], [0.1111111111111111, \"#46039f\"], [0.2222222222222222, \"#7201a8\"], [0.3333333333333333, \"#9c179e\"], [0.4444444444444444, \"#bd3786\"], [0.5555555555555556, \"#d8576b\"], [0.6666666666666666, \"#ed7953\"], [0.7777777777777778, \"#fb9f3a\"], [0.8888888888888888, \"#fdca26\"], [1.0, \"#f0f921\"]], \"type\": \"histogram2dcontour\"}], \"mesh3d\": [{\"colorbar\": {\"outlinewidth\": 0, \"ticks\": \"\"}, \"type\": \"mesh3d\"}], \"parcoords\": [{\"line\": {\"colorbar\": {\"outlinewidth\": 0, \"ticks\": \"\"}}, \"type\": \"parcoords\"}], \"pie\": [{\"automargin\": true, \"type\": \"pie\"}], \"scatter\": [{\"marker\": {\"colorbar\": {\"outlinewidth\": 0, \"ticks\": \"\"}}, \"type\": \"scatter\"}], \"scatter3d\": [{\"line\": {\"colorbar\": {\"outlinewidth\": 0, \"ticks\": \"\"}}, \"marker\": {\"colorbar\": {\"outlinewidth\": 0, \"ticks\": \"\"}}, \"type\": \"scatter3d\"}], \"scattercarpet\": [{\"marker\": {\"colorbar\": {\"outlinewidth\": 0, \"ticks\": \"\"}}, \"type\": \"scattercarpet\"}], \"scattergeo\": [{\"marker\": {\"colorbar\": {\"outlinewidth\": 0, \"ticks\": \"\"}}, \"type\": \"scattergeo\"}], \"scattergl\": [{\"marker\": {\"colorbar\": {\"outlinewidth\": 0, \"ticks\": \"\"}}, \"type\": \"scattergl\"}], \"scattermapbox\": [{\"marker\": {\"colorbar\": {\"outlinewidth\": 0, \"ticks\": \"\"}}, \"type\": \"scattermapbox\"}], \"scatterpolar\": [{\"marker\": {\"colorbar\": {\"outlinewidth\": 0, \"ticks\": \"\"}}, \"type\": \"scatterpolar\"}], \"scatterpolargl\": [{\"marker\": {\"colorbar\": {\"outlinewidth\": 0, \"ticks\": \"\"}}, \"type\": \"scatterpolargl\"}], \"scatterternary\": [{\"marker\": {\"colorbar\": {\"outlinewidth\": 0, \"ticks\": \"\"}}, \"type\": \"scatterternary\"}], \"surface\": [{\"colorbar\": {\"outlinewidth\": 0, \"ticks\": \"\"}, \"colorscale\": [[0.0, \"#0d0887\"], [0.1111111111111111, \"#46039f\"], [0.2222222222222222, \"#7201a8\"], [0.3333333333333333, \"#9c179e\"], [0.4444444444444444, \"#bd3786\"], [0.5555555555555556, \"#d8576b\"], [0.6666666666666666, \"#ed7953\"], [0.7777777777777778, \"#fb9f3a\"], [0.8888888888888888, \"#fdca26\"], [1.0, \"#f0f921\"]], \"type\": \"surface\"}], \"table\": [{\"cells\": {\"fill\": {\"color\": \"#EBF0F8\"}, \"line\": {\"color\": \"white\"}}, \"header\": {\"fill\": {\"color\": \"#C8D4E3\"}, \"line\": {\"color\": \"white\"}}, \"type\": \"table\"}]}, \"layout\": {\"annotationdefaults\": {\"arrowcolor\": \"#2a3f5f\", \"arrowhead\": 0, \"arrowwidth\": 1}, \"autotypenumbers\": \"strict\", \"coloraxis\": {\"colorbar\": {\"outlinewidth\": 0, \"ticks\": \"\"}}, \"colorscale\": {\"diverging\": [[0, \"#8e0152\"], [0.1, \"#c51b7d\"], [0.2, \"#de77ae\"], [0.3, \"#f1b6da\"], [0.4, \"#fde0ef\"], [0.5, \"#f7f7f7\"], [0.6, \"#e6f5d0\"], [0.7, \"#b8e186\"], [0.8, \"#7fbc41\"], [0.9, \"#4d9221\"], [1, \"#276419\"]], \"sequential\": [[0.0, \"#0d0887\"], [0.1111111111111111, \"#46039f\"], [0.2222222222222222, \"#7201a8\"], [0.3333333333333333, \"#9c179e\"], [0.4444444444444444, \"#bd3786\"], [0.5555555555555556, \"#d8576b\"], [0.6666666666666666, \"#ed7953\"], [0.7777777777777778, \"#fb9f3a\"], [0.8888888888888888, \"#fdca26\"], [1.0, \"#f0f921\"]], \"sequentialminus\": [[0.0, \"#0d0887\"], [0.1111111111111111, \"#46039f\"], [0.2222222222222222, \"#7201a8\"], [0.3333333333333333, \"#9c179e\"], [0.4444444444444444, \"#bd3786\"], [0.5555555555555556, \"#d8576b\"], [0.6666666666666666, \"#ed7953\"], [0.7777777777777778, \"#fb9f3a\"], [0.8888888888888888, \"#fdca26\"], [1.0, \"#f0f921\"]]}, \"colorway\": [\"#636efa\", \"#EF553B\", \"#00cc96\", \"#ab63fa\", \"#FFA15A\", \"#19d3f3\", \"#FF6692\", \"#B6E880\", \"#FF97FF\", \"#FECB52\"], \"font\": {\"color\": \"#2a3f5f\"}, \"geo\": {\"bgcolor\": \"white\", \"lakecolor\": \"white\", \"landcolor\": \"#E5ECF6\", \"showlakes\": true, \"showland\": true, \"subunitcolor\": \"white\"}, \"hoverlabel\": {\"align\": \"left\"}, \"hovermode\": \"closest\", \"mapbox\": {\"style\": \"light\"}, \"paper_bgcolor\": \"white\", \"plot_bgcolor\": \"#E5ECF6\", \"polar\": {\"angularaxis\": {\"gridcolor\": \"white\", \"linecolor\": \"white\", \"ticks\": \"\"}, \"bgcolor\": \"#E5ECF6\", \"radialaxis\": {\"gridcolor\": \"white\", \"linecolor\": \"white\", \"ticks\": \"\"}}, \"scene\": {\"xaxis\": {\"backgroundcolor\": \"#E5ECF6\", \"gridcolor\": \"white\", \"gridwidth\": 2, \"linecolor\": \"white\", \"showbackground\": true, \"ticks\": \"\", \"zerolinecolor\": \"white\"}, \"yaxis\": {\"backgroundcolor\": \"#E5ECF6\", \"gridcolor\": \"white\", \"gridwidth\": 2, \"linecolor\": \"white\", \"showbackground\": true, \"ticks\": \"\", \"zerolinecolor\": \"white\"}, \"zaxis\": {\"backgroundcolor\": \"#E5ECF6\", \"gridcolor\": \"white\", \"gridwidth\": 2, \"linecolor\": \"white\", \"showbackground\": true, \"ticks\": \"\", \"zerolinecolor\": \"white\"}}, \"shapedefaults\": {\"line\": {\"color\": \"#2a3f5f\"}}, \"ternary\": {\"aaxis\": {\"gridcolor\": \"white\", \"linecolor\": \"white\", \"ticks\": \"\"}, \"baxis\": {\"gridcolor\": \"white\", \"linecolor\": \"white\", \"ticks\": \"\"}, \"bgcolor\": \"#E5ECF6\", \"caxis\": {\"gridcolor\": \"white\", \"linecolor\": \"white\", \"ticks\": \"\"}}, \"title\": {\"x\": 0.05}, \"xaxis\": {\"automargin\": true, \"gridcolor\": \"white\", \"linecolor\": \"white\", \"ticks\": \"\", \"title\": {\"standoff\": 15}, \"zerolinecolor\": \"white\", \"zerolinewidth\": 2}, \"yaxis\": {\"automargin\": true, \"gridcolor\": \"white\", \"linecolor\": \"white\", \"ticks\": \"\", \"title\": {\"standoff\": 15}, \"zerolinecolor\": \"white\", \"zerolinewidth\": 2}}}, \"width\": 800, \"xaxis\": {\"title\": {\"font\": {\"size\": 18}, \"text\": \"Internuclear distance (a.u.)\"}}, \"yaxis\": {\"title\": {\"font\": {\"size\": 18}, \"text\": \"Energy (a.u.)\"}}},                        {\"responsive\": true}                    ).then(function(){\n",
       "                            \n",
       "var gd = document.getElementById('ecf0a9f0-a096-499b-9df2-aecd3d229908');\n",
       "var x = new MutationObserver(function (mutations, observer) {{\n",
       "        var display = window.getComputedStyle(gd).display;\n",
       "        if (!display || display === 'none') {{\n",
       "            console.log([gd, 'removed!']);\n",
       "            Plotly.purge(gd);\n",
       "            observer.disconnect();\n",
       "        }}\n",
       "}});\n",
       "\n",
       "// Listen for the removal of the full notebook cells\n",
       "var notebookContainer = gd.closest('#notebook-container');\n",
       "if (notebookContainer) {{\n",
       "    x.observe(notebookContainer, {childList: true});\n",
       "}}\n",
       "\n",
       "// Listen for the clearing of the current output cell\n",
       "var outputEl = gd.closest('.output');\n",
       "if (outputEl) {{\n",
       "    x.observe(outputEl, {childList: true});\n",
       "}}\n",
       "\n",
       "                        })                };                });            </script>        </div>"
      ]
     },
     "metadata": {},
     "output_type": "display_data"
    }
   ],
   "source": [
    "figure = go.Figure()\n",
    "\n",
    "figure.update_layout(\n",
    "    autosize = False,\n",
    "    width = 800,\n",
    "    height = 800\n",
    ")\n",
    "\n",
    "# Plot the total energies for RHF, UHF and GHF.\n",
    "figure.add_trace(\n",
    "    go.Scatter(\n",
    "        x = R_values,\n",
    "        y = RHF_energies,\n",
    "        name = \"RHF\",\n",
    "    )\n",
    ")\n",
    "\n",
    "figure.add_trace(\n",
    "    go.Scatter(\n",
    "        x = R_values,\n",
    "        y = UHF_0_energies,\n",
    "        name = \"UHF (S=0)\",\n",
    "    )\n",
    ")\n",
    "\n",
    "figure.add_trace(\n",
    "    go.Scatter(\n",
    "        x = R_values,\n",
    "        y = UHF_1_energies,\n",
    "        name = \"UHF (S=1)\",\n",
    "    )\n",
    ")\n",
    "\n",
    "figure.add_trace(\n",
    "    go.Scatter(\n",
    "        x = R_values,\n",
    "        y = GHF_energies,\n",
    "        name = \"GHF\",\n",
    "    )\n",
    ")\n",
    "\n",
    "# Set the x- and y-axis titles.\n",
    "figure.update_xaxes(\n",
    "    title = {\n",
    "        'text': \"Internuclear distance (a.u.)\",\n",
    "        'font': {'size': 18}\n",
    "    }\n",
    ")\n",
    "\n",
    "figure.update_yaxes(\n",
    "    title = {\n",
    "        'text': \"Energy (a.u.)\",\n",
    "        'font': {'size': 18}\n",
    "    }\n",
    ")\n",
    "\n",
    "\n",
    "# Update the legend's font.\n",
    "figure.update_layout(\n",
    "    legend = {\n",
    "        'font': {'size': 18}\n",
    "    }\n",
    ")\n",
    "\n",
    "\n",
    "figure.show()"
   ]
  },
  {
   "cell_type": "code",
   "execution_count": null,
   "id": "narrative-climate",
   "metadata": {},
   "outputs": [],
   "source": []
  }
 ],
 "metadata": {
  "kernelspec": {
   "display_name": "Python 3",
   "language": "python",
   "name": "python3"
  },
  "language_info": {
   "codemirror_mode": {
    "name": "ipython",
    "version": 3
   },
   "file_extension": ".py",
   "mimetype": "text/x-python",
   "name": "python",
   "nbconvert_exporter": "python",
   "pygments_lexer": "ipython3",
   "version": "3.8.5"
  }
 },
 "nbformat": 4,
 "nbformat_minor": 5
}
