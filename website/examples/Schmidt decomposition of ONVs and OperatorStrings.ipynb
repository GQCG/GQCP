{
 "cells": [
  {
   "cell_type": "code",
   "execution_count": 1,
   "id": "signed-albany",
   "metadata": {},
   "outputs": [],
   "source": [
    "# Force the local gqcpy to be imported\n",
    "import sys\n",
    "sys.path.insert(0, '../../build/gqcpy/')\n",
    "\n",
    "import gqcpy\n",
    "import numpy as np\n",
    "\n",
    "np.set_printoptions(precision=3, linewidth=120)"
   ]
  },
  {
   "cell_type": "code",
   "execution_count": 2,
   "id": "individual-prophet",
   "metadata": {},
   "outputs": [],
   "source": [
    "# Spin-unresolved operator string with default phase factor 1.\n",
    "operator_string = gqcpy.SpinUnresolvedOperatorString([0, 2, 3, 1, 5, 4])\n",
    "\n",
    "assert operator_string.phaseFactor() == 1, \"The phase factor is not equal to 1.\""
   ]
  },
  {
   "cell_type": "markdown",
   "id": "medium-benefit",
   "metadata": {},
   "source": [
    "### Sort the `SpinUnresolvedOperatorString`"
   ]
  },
  {
   "cell_type": "code",
   "execution_count": 3,
   "id": "mathematical-motel",
   "metadata": {},
   "outputs": [
    {
     "name": "stdout",
     "output_type": "stream",
     "text": [
      "The sorted operator string: [0, 1, 2, 3, 4, 5] with phase factor -1.\n"
     ]
    }
   ],
   "source": [
    "operator_string.sort()\n",
    "\n",
    "print(\"The sorted operator string: {} with phase factor {}.\".format(operator_string.operatorIndices(), operator_string.phaseFactor()))"
   ]
  },
  {
   "cell_type": "markdown",
   "id": "million-witness",
   "metadata": {},
   "source": [
    "### Partition the sorted `SpinUnresolvedOperatorString` into two subsystems"
   ]
  },
  {
   "cell_type": "code",
   "execution_count": 4,
   "id": "understanding-calibration",
   "metadata": {},
   "outputs": [
    {
     "name": "stdout",
     "output_type": "stream",
     "text": [
      "The system consists of sites: [0, 2, 3] and has phase factor -1.\n",
      "The environment consists of sites: [1, 4, 5] and has phase factor 1.\n"
     ]
    }
   ],
   "source": [
    "partition = ['I', 'J', 'I', 'I', 'J', 'J']\n",
    "\n",
    "system, environment = operator_string.schmidtDecomposition(partition)\n",
    "\n",
    "print(\"The system consists of sites: {} and has phase factor {}.\".format(system.operatorIndices(), system.phaseFactor()))\n",
    "print(\"The environment consists of sites: {} and has phase factor {}.\".format(environment.operatorIndices(), environment.phaseFactor()))"
   ]
  },
  {
   "cell_type": "markdown",
   "id": "interstate-liberal",
   "metadata": {},
   "source": [
    "### Partitioning of a `SpinResolvedONV` into two subsystems"
   ]
  },
  {
   "cell_type": "code",
   "execution_count": 5,
   "id": "verbal-acrobat",
   "metadata": {},
   "outputs": [
    {
     "name": "stdout",
     "output_type": "stream",
     "text": [
      "The alpha string consists of sites: [0, 1, 2, 3] and has phase factor 1.\n",
      "The beta string consists of sites: [0, 1] and has phase factor 1.\n"
     ]
    }
   ],
   "source": [
    "onv_sr = gqcpy.SpinResolvedONV.UHF(6, 4, 2)\n",
    "\n",
    "operator_string_alpha = gqcpy.SpinUnresolvedOperatorString.FromONV(onv_sr.onv(gqcpy.Spin.alpha))\n",
    "operator_string_beta = gqcpy.SpinUnresolvedOperatorString.FromONV(onv_sr.onv(gqcpy.Spin.beta))\n",
    "\n",
    "print(\"The alpha string consists of sites: {} and has phase factor {}.\".format(operator_string_alpha.operatorIndices(), operator_string_alpha.phaseFactor()))\n",
    "print(\"The beta string consists of sites: {} and has phase factor {}.\".format(operator_string_beta.operatorIndices(), operator_string_beta.phaseFactor()))"
   ]
  },
  {
   "cell_type": "code",
   "execution_count": 6,
   "id": "rolled-moment",
   "metadata": {},
   "outputs": [],
   "source": [
    "sites_partitioning = np.array(['J', 'I', 'J', 'I', 'I', 'I'])# 'I' = system, 'J' = environment.\n",
    "K_system = np.count_nonzero(sites_partitioning == 'I')\n",
    "\n",
    "alpha_partition = sites_partitioning[operator_string_alpha.operatorIndices()]\n",
    "beta_partition = sites_partitioning[operator_string_beta.operatorIndices()]"
   ]
  },
  {
   "cell_type": "code",
   "execution_count": 7,
   "id": "artistic-industry",
   "metadata": {},
   "outputs": [],
   "source": [
    "system_alpha, environment_alpha = operator_string_alpha.schmidtDecomposition(alpha_partition)\n",
    "system_beta, environment_beta = operator_string_beta.schmidtDecomposition(beta_partition)"
   ]
  },
  {
   "cell_type": "code",
   "execution_count": 8,
   "id": "streaming-edward",
   "metadata": {},
   "outputs": [
    {
     "name": "stdout",
     "output_type": "stream",
     "text": [
      "The alpha system consists of sites: [1, 3] and has phase factor -1.\n",
      "The alpha environment consists of sites: [0, 2] and has phase factor 1.\n",
      "\n",
      "The beta system consists of sites: [1] and has phase factor -1.\n",
      "The beta environment consists of sites: [0] and has phase factor 1.\n"
     ]
    }
   ],
   "source": [
    "print(\"The alpha system consists of sites: {} and has phase factor {}.\".format(system_alpha.operatorIndices(), system_alpha.phaseFactor()))\n",
    "print(\"The alpha environment consists of sites: {} and has phase factor {}.\\n\".format(environment_alpha.operatorIndices(), environment_alpha.phaseFactor()))\n",
    "\n",
    "print(\"The beta system consists of sites: {} and has phase factor {}.\".format(system_beta.operatorIndices(), system_beta.phaseFactor()))\n",
    "print(\"The beta environment consists of sites: {} and has phase factor {}.\".format(environment_beta.operatorIndices(), environment_beta.phaseFactor()))"
   ]
  },
  {
   "cell_type": "code",
   "execution_count": 18,
   "id": "sensitive-framework",
   "metadata": {},
   "outputs": [
    {
     "name": "stdout",
     "output_type": "stream",
     "text": [
      "The spin-resolved ONV of the system is: 1010|0010\n"
     ]
    }
   ],
   "source": [
    "onv_system_alpha = gqcpy.SpinUnresolvedONV.FromOccupiedIndices(system_alpha.operatorIndices(), K_system)\n",
    "onv_system_beta = gqcpy.SpinUnresolvedONV.FromOccupiedIndices(system_beta.operatorIndices(), K_system)\n",
    "\n",
    "onv_system = gqcpy.SpinResolvedONV(onv_system_alpha, onv_system_beta)\n",
    "\n",
    "print(\"The spin-resolved ONV of the system is: {}\".format(onv_system))\n",
    "# Note: read ONVs from right to left due to bitstring representation."
   ]
  },
  {
   "cell_type": "code",
   "execution_count": null,
   "id": "loving-frame",
   "metadata": {},
   "outputs": [],
   "source": []
  }
 ],
 "metadata": {
  "kernelspec": {
   "display_name": "Python 3",
   "language": "python",
   "name": "python3"
  },
  "language_info": {
   "codemirror_mode": {
    "name": "ipython",
    "version": 3
   },
   "file_extension": ".py",
   "mimetype": "text/x-python",
   "name": "python",
   "nbconvert_exporter": "python",
   "pygments_lexer": "ipython3",
   "version": "3.8.5"
  }
 },
 "nbformat": 4,
 "nbformat_minor": 5
}
