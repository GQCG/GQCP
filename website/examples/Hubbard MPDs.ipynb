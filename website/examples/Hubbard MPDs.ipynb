{
 "cells": [
  {
   "cell_type": "markdown",
   "metadata": {},
   "source": [
    "# Hubbard Maximum Probability Domains"
   ]
  },
  {
   "cell_type": "code",
   "execution_count": 1,
   "metadata": {},
   "outputs": [],
   "source": [
    "# Force the local gqcpy to be imported.\n",
    "import sys\n",
    "sys.path.insert(0, '../../build/gqcpy')\n",
    "\n",
    "# Import the local gqcpy.\n",
    "import gqcpy\n",
    "\n",
    "# Import Python modules.\n",
    "import copy\n",
    "import itertools as it\n",
    "import numpy as np"
   ]
  },
  {
   "cell_type": "markdown",
   "metadata": {},
   "source": [
    "## Specifying the Hubbard model for benzene"
   ]
  },
  {
   "cell_type": "markdown",
   "metadata": {},
   "source": [
    "We would like to investigate benzene, a 6-site cyclic chain. Since the Hubbard model works in an abstract site basis, we should define an adjacency matrix describing a chain consisting of 6 sites. A Hubbard system is described by a hopping term `t` and electrostatic repulsion term `U`. With these two parameters, we can make a hopping matrix."
   ]
  },
  {
   "cell_type": "code",
   "execution_count": 2,
   "metadata": {},
   "outputs": [
    {
     "data": {
      "text/plain": [
       "array([[0, 1, 0, 0, 0, 1],\n",
       "       [1, 0, 1, 0, 0, 0],\n",
       "       [0, 1, 0, 1, 0, 0],\n",
       "       [0, 0, 1, 0, 1, 0],\n",
       "       [0, 0, 0, 1, 0, 1],\n",
       "       [1, 0, 0, 0, 1, 0]], dtype=uint64)"
      ]
     },
     "execution_count": 2,
     "metadata": {},
     "output_type": "execute_result"
    }
   ],
   "source": [
    "A = gqcpy.AdjacencyMatrix.Cyclic(6) # adjacency matrix\n",
    "\n",
    "t = 1 # hopping term\n",
    "U = 5 # electrostatic repulsion\n",
    "\n",
    "H = gqcpy.HoppingMatrix(A, t, U) # hopping matrix"
   ]
  },
  {
   "cell_type": "markdown",
   "metadata": {},
   "source": [
    "This hopping matrix is then used to construct the Hubbard model Hamiltonian."
   ]
  },
  {
   "cell_type": "code",
   "execution_count": 4,
   "metadata": {},
   "outputs": [],
   "source": [
    "hubbard_hamiltonian = gqcpy.HubbardHamiltonian(H)"
   ]
  },
  {
   "cell_type": "code",
   "execution_count": null,
   "metadata": {},
   "outputs": [],
   "source": []
  },
  {
   "cell_type": "code",
   "execution_count": 5,
   "metadata": {},
   "outputs": [],
   "source": [
    "K = 6  # number of sites\n",
    "N_P = 3  # number of electron pairs\n",
    "\n",
    "onv_basis = gqcpy.SpinResolvedONVBasis(K, N_P, N_P)"
   ]
  },
  {
   "cell_type": "code",
   "execution_count": 6,
   "metadata": {},
   "outputs": [
    {
     "data": {
      "text/plain": [
       "(400,)"
      ]
     },
     "execution_count": 6,
     "metadata": {},
     "output_type": "execute_result"
    }
   ],
   "source": [
    "solver = gqcpy.EigenproblemSolver.Dense()\n",
    "environment = gqcpy.CIEnvironment.Dense(hubbard_hamiltonian, onv_basis)\n",
    "\n",
    "wfn = gqcpy.CI(onv_basis).optimize(solver, environment).groundStateParameters()\n",
    "wfn.coefficients().shape"
   ]
  },
  {
   "cell_type": "code",
   "execution_count": 7,
   "metadata": {},
   "outputs": [],
   "source": [
    "domain_partitions = np.array(list(it.product(range(2), repeat=6)))\n",
    "domain_probabilities = np.zeros(domain_partitions.shape[0])"
   ]
  },
  {
   "cell_type": "code",
   "execution_count": 9,
   "metadata": {},
   "outputs": [],
   "source": [
    "def MPD(ONV_a, Ia, ONV_b, Ib):\n",
    "    ONV_a, ONV_b = np.array(list(repr(ONV_a))), np.array(list(repr(ONV_b)))\n",
    "    \n",
    "    domain = np.where(domain_partition == 1)[0]\n",
    "    complement = np.where(domain_partition == 0)[0]\n",
    "    \n",
    "    Na, Nb = np.sum(ONV_a[domain].astype(np.float)), np.sum(ONV_b[domain].astype(np.float))\n",
    "    \n",
    "    \n",
    "    if Na==1 and Nb==1:\n",
    "        address = onv_basis.compoundAddress(Ia, Ib)\n",
    "        domain_probabilities[d] += wfn.coefficients()[address]**2\n",
    "        #print(domain_partition, ONV_a, ONV_b, Na, Nb, wfn.coefficients()[address]**2)"
   ]
  },
  {
   "cell_type": "code",
   "execution_count": 10,
   "metadata": {},
   "outputs": [],
   "source": [
    "for d,domain_partition in enumerate(domain_partitions):\n",
    "    onv_basis.forEach(MPD)\n",
    "    #print(domain_probabilities[d])"
   ]
  },
  {
   "cell_type": "code",
   "execution_count": 11,
   "metadata": {},
   "outputs": [],
   "source": [
    "domain_partitions = np.delete(domain_partitions, (0), axis=0)\n",
    "domain_probabilities = np.delete(domain_probabilities, (0), axis=0)\n",
    "domain_partitions = np.delete(domain_partitions, (-1), axis=0)\n",
    "domain_probabilities = np.delete(domain_probabilities, (-1), axis=0)"
   ]
  },
  {
   "cell_type": "code",
   "execution_count": 12,
   "metadata": {},
   "outputs": [
    {
     "name": "stdout",
     "output_type": "stream",
     "text": [
      "[0 0 0 0 0 1] 0.08381666106355992\n",
      "[0 0 0 0 1 0] 0.0838166610635599\n",
      "[0 0 0 0 1 1] 0.6919837996550809\n",
      "[0 0 0 1 0 0] 0.08381666106355999\n",
      "[0 0 0 1 0 1] 0.28004449760336697\n",
      "[0 0 0 1 1 0] 0.69198379965508\n",
      "[0 0 0 1 1 1] 0.08137487062580379\n",
      "[0 0 1 0 0 0] 0.08381666106355992\n",
      "[0 0 1 0 0 1] 0.47711153476958185\n",
      "[0 0 1 0 1 0] 0.28004449760336714\n",
      "[0 0 1 0 1 1] 0.09479681788045885\n",
      "[0 0 1 1 0 0] 0.6919837996550807\n",
      "[0 0 1 1 0 1] 0.09479681788045875\n",
      "[0 0 1 1 1 0] 0.08137487062580383\n",
      "[0 0 1 1 1 1] 0.0019134778052424602\n",
      "[0 1 0 0 0 0] 0.08381666106356\n",
      "[0 1 0 0 0 1] 0.28004449760336697\n",
      "[0 1 0 0 1 0] 0.4771115347695815\n",
      "[0 1 0 0 1 1] 0.0947968178804588\n",
      "[0 1 0 1 0 0] 0.28004449760336725\n",
      "[0 1 0 1 0 1] 0.06430286788230218\n",
      "[0 1 0 1 1 0] 0.0947968178804587\n",
      "[0 1 0 1 1 1] 0.006288076485571898\n",
      "[0 1 1 0 0 0] 0.6919837996550803\n",
      "[0 1 1 0 0 1] 0.09479681788045882\n",
      "[0 1 1 0 1 0] 0.0947968178804588\n",
      "[0 1 1 0 1 1] 0.006522245867108786\n",
      "[0 1 1 1 0 0] 0.08137487062580367\n",
      "[0 1 1 1 0 1] 0.006288076485571883\n",
      "[0 1 1 1 1 0] 0.0019134778052424582\n",
      "[0 1 1 1 1 1] 0.0\n",
      "[1 0 0 0 0 0] 0.08381666106355995\n",
      "[1 0 0 0 0 1] 0.6919837996550802\n",
      "[1 0 0 0 1 0] 0.2800444976033671\n",
      "[1 0 0 0 1 1] 0.08137487062580381\n",
      "[1 0 0 1 0 0] 0.4771115347695816\n",
      "[1 0 0 1 0 1] 0.09479681788045874\n",
      "[1 0 0 1 1 0] 0.09479681788045871\n",
      "[1 0 0 1 1 1] 0.0019134778052424582\n",
      "[1 0 1 0 0 0] 0.280044497603367\n",
      "[1 0 1 0 0 1] 0.09479681788045888\n",
      "[1 0 1 0 1 0] 0.06430286788230218\n",
      "[1 0 1 0 1 1] 0.00628807648557191\n",
      "[1 0 1 1 0 0] 0.09479681788045878\n",
      "[1 0 1 1 0 1] 0.006522245867108785\n",
      "[1 0 1 1 1 0] 0.006288076485571909\n",
      "[1 0 1 1 1 1] 0.0\n",
      "[1 1 0 0 0 0] 0.6919837996550804\n",
      "[1 1 0 0 0 1] 0.08137487062580367\n",
      "[1 1 0 0 1 0] 0.09479681788045882\n",
      "[1 1 0 0 1 1] 0.001913477805242459\n",
      "[1 1 0 1 0 0] 0.09479681788045881\n",
      "[1 1 0 1 0 1] 0.006288076485571882\n",
      "[1 1 0 1 1 0] 0.006522245867108787\n",
      "[1 1 0 1 1 1] 0.0\n",
      "[1 1 1 0 0 0] 0.08137487062580372\n",
      "[1 1 1 0 0 1] 0.0019134778052424537\n",
      "[1 1 1 0 1 0] 0.006288076485571892\n",
      "[1 1 1 0 1 1] 0.0\n",
      "[1 1 1 1 0 0] 0.0019134778052424532\n",
      "[1 1 1 1 0 1] 0.0\n",
      "[1 1 1 1 1 0] 0.0\n"
     ]
    }
   ],
   "source": [
    "for dpart, dprob in zip(domain_partitions, domain_probabilities):\n",
    "    print(dpart, dprob)"
   ]
  },
  {
   "cell_type": "code",
   "execution_count": 13,
   "metadata": {},
   "outputs": [],
   "source": [
    "def single_site_flips(domain_partition):\n",
    "    single_site_flip_domains = []\n",
    "    \n",
    "    domain_indices = np.where(domain_partition == 1)[0]\n",
    "    \n",
    "    for domain_index in domain_indices:\n",
    "        new_domain_partition = copy.deepcopy(domain_partition)\n",
    "        new_domain_partition[domain_index] = 0\n",
    "        single_site_flip_domains.append(new_domain_partition)\n",
    "        \n",
    "    return np.array(single_site_flip_domains)\n",
    "    \n"
   ]
  },
  {
   "cell_type": "code",
   "execution_count": 19,
   "metadata": {},
   "outputs": [],
   "source": [
    "def is_stabile(domain_partition, domain_probability):\n",
    "    \n",
    "    domain_flips = single_site_flips(domain_partition)\n",
    "\n",
    "    for domain_flip in domain_flips:\n",
    "        domain_flip_index = np.where(np.all(domain_flip == domain_partitions, axis=1))[0]\n",
    "        if domain_probability < domain_probabilities[domain_flip_index]:\n",
    "            return False\n",
    "    if np.where(np.all(domain_flip == domain_partitions, axis=1))[0].size > 0:\n",
    "        return True\n",
    "    else: \n",
    "        return False"
   ]
  },
  {
   "cell_type": "code",
   "execution_count": 21,
   "metadata": {},
   "outputs": [
    {
     "name": "stdout",
     "output_type": "stream",
     "text": [
      "[0 0 0 0 1 1] 0.6919837996550809\n",
      "[0 0 0 1 0 1] 0.28004449760336697\n",
      "[0 0 0 1 1 0] 0.69198379965508\n",
      "[0 0 1 0 0 1] 0.47711153476958185\n",
      "[0 0 1 0 1 0] 0.28004449760336714\n",
      "[0 0 1 1 0 0] 0.6919837996550807\n",
      "[0 1 0 0 0 1] 0.28004449760336697\n",
      "[0 1 0 0 1 0] 0.4771115347695815\n",
      "[0 1 0 1 0 0] 0.28004449760336725\n",
      "[0 1 1 0 0 0] 0.6919837996550803\n",
      "[1 0 0 0 0 1] 0.6919837996550802\n",
      "[1 0 0 0 1 0] 0.2800444976033671\n",
      "[1 0 0 1 0 0] 0.4771115347695816\n",
      "[1 0 1 0 0 0] 0.280044497603367\n",
      "[1 1 0 0 0 0] 0.6919837996550804\n"
     ]
    },
    {
     "name": "stderr",
     "output_type": "stream",
     "text": [
      "/Users/dariatolstykh/opt/anaconda3/envs/gqcp_dev/lib/python3.7/site-packages/ipykernel_launcher.py:7: DeprecationWarning: The truth value of an empty array is ambiguous. Returning False, but in future this will result in an error. Use `array.size > 0` to check that an array is not empty.\n",
      "  import sys\n"
     ]
    }
   ],
   "source": [
    "for domain_partition, domain_probability in zip(domain_partitions, domain_probabilities):\n",
    "    if is_stabile(domain_partition, domain_probability):\n",
    "        print(domain_partition, domain_probability)"
   ]
  },
  {
   "cell_type": "code",
   "execution_count": null,
   "metadata": {},
   "outputs": [],
   "source": []
  }
 ],
 "metadata": {
  "kernelspec": {
   "display_name": "Python 3",
   "language": "python",
   "name": "python3"
  },
  "language_info": {
   "codemirror_mode": {
    "name": "ipython",
    "version": 3
   },
   "file_extension": ".py",
   "mimetype": "text/x-python",
   "name": "python",
   "nbconvert_exporter": "python",
   "pygments_lexer": "ipython3",
   "version": "3.7.7"
  }
 },
 "nbformat": 4,
 "nbformat_minor": 4
}
