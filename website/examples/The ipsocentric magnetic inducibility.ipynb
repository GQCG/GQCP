{
 "cells": [
  {
   "cell_type": "markdown",
   "id": "faced-horse",
   "metadata": {},
   "source": [
    "# The ipsocentric magnetic inducibility"
   ]
  },
  {
   "cell_type": "code",
   "execution_count": 1,
   "id": "engaged-medicine",
   "metadata": {},
   "outputs": [],
   "source": [
    "# Force the local gqcpy to be imported\n",
    "import sys\n",
    "sys.path.insert(0, '../../build/gqcpy/')\n",
    "\n",
    "import gqcpy\n",
    "import numpy as np\n",
    "\n",
    "np.set_printoptions(precision=6, linewidth=120)"
   ]
  },
  {
   "cell_type": "code",
   "execution_count": null,
   "id": "wired-matrix",
   "metadata": {},
   "outputs": [],
   "source": []
  },
  {
   "cell_type": "code",
   "execution_count": 2,
   "id": "comfortable-mayor",
   "metadata": {},
   "outputs": [
    {
     "name": "stdout",
     "output_type": "stream",
     "text": [
      "Number of electrons: 2 \n",
      "H  (0, 0, 0)\n",
      "H  (0, 0, 1)\n",
      "\n"
     ]
    }
   ],
   "source": [
    "molecule = gqcpy.Molecule.HChain(2, 1.0)\n",
    "N = molecule.numberOfElectrons()\n",
    "print(molecule)"
   ]
  },
  {
   "cell_type": "code",
   "execution_count": 3,
   "id": "chief-martin",
   "metadata": {},
   "outputs": [],
   "source": [
    "origin = np.array([-2.0, -2.0, -2.0])\n",
    "steps = [5, 5, 5]\n",
    "step_sizes = [0.8, 0.8, 0.8]\n",
    "\n",
    "grid = gqcpy.CubicGrid(origin, steps, step_sizes)"
   ]
  },
  {
   "cell_type": "code",
   "execution_count": 4,
   "id": "accessory-politics",
   "metadata": {},
   "outputs": [
    {
     "name": "stdout",
     "output_type": "stream",
     "text": [
      "Number of orbitals:  2\n"
     ]
    }
   ],
   "source": [
    "spin_orbital_basis = gqcpy.RSpinOrbitalBasis_d(molecule, \"STO-3G\")\n",
    "print(\"Number of orbitals: \", spin_orbital_basis.numberOfSpatialOrbitals())\n",
    "hamiltonian = spin_orbital_basis.quantize(gqcpy.FQMolecularHamiltonian(molecule))"
   ]
  },
  {
   "cell_type": "code",
   "execution_count": null,
   "id": "crucial-services",
   "metadata": {},
   "outputs": [],
   "source": []
  },
  {
   "cell_type": "code",
   "execution_count": 5,
   "id": "democratic-haiti",
   "metadata": {},
   "outputs": [],
   "source": [
    "S = spin_orbital_basis.quantize(gqcpy.OverlapOperator())\n",
    "environment = gqcpy.RHFSCFEnvironment_d.WithCoreGuess(N, hamiltonian, S)\n",
    "solver = gqcpy.RHFSCFSolver_d.DIIS()\n",
    "objective = gqcpy.DiagonalRHFFockMatrixObjective_d(hamiltonian)  # Use the default threshold of 1.0e-08."
   ]
  },
  {
   "cell_type": "code",
   "execution_count": 6,
   "id": "genetic-transition",
   "metadata": {},
   "outputs": [],
   "source": [
    "qc_structure = gqcpy.RHF_d.optimize(objective, solver, environment)\n",
    "rhf_parameters = qc_structure.groundStateParameters()"
   ]
  },
  {
   "cell_type": "code",
   "execution_count": 7,
   "id": "adolescent-relations",
   "metadata": {},
   "outputs": [
    {
     "name": "stdout",
     "output_type": "stream",
     "text": [
      "[[-0.527546 -1.567823]\n",
      " [-0.527546  1.567823]]\n"
     ]
    }
   ],
   "source": [
    "C = rhf_parameters.expansion()\n",
    "print(C.matrix())"
   ]
  },
  {
   "cell_type": "code",
   "execution_count": 8,
   "id": "emerging-office",
   "metadata": {},
   "outputs": [
    {
     "name": "stdout",
     "output_type": "stream",
     "text": [
      "Total RHF energy:  -1.0659994621433042\n"
     ]
    }
   ],
   "source": [
    "E_RHF_total = qc_structure.groundStateEnergy() + gqcpy.NuclearRepulsionOperator(molecule.nuclearFramework()).value()\n",
    "print(\"Total RHF energy: \", E_RHF_total)"
   ]
  },
  {
   "cell_type": "code",
   "execution_count": 9,
   "id": "digital-boost",
   "metadata": {},
   "outputs": [],
   "source": [
    "C_complex = gqcpy.RTransformation_cd(C.matrix().astype(complex))\n",
    "complex_spin_orbital_basis = gqcpy.RSpinOrbitalBasis_cd(molecule, \"STO-3G\")\n",
    "complex_spin_orbital_basis.transform(C_complex)"
   ]
  },
  {
   "cell_type": "code",
   "execution_count": 10,
   "id": "radio-cocktail",
   "metadata": {},
   "outputs": [],
   "source": [
    "spin_orbital_basis.transform(C)\n",
    "hamiltonian.transform(C)"
   ]
  },
  {
   "cell_type": "code",
   "execution_count": 11,
   "id": "sustainable-policy",
   "metadata": {},
   "outputs": [],
   "source": [
    "orbital_space = rhf_parameters.orbitalSpace()"
   ]
  },
  {
   "cell_type": "code",
   "execution_count": 12,
   "id": "italic-integral",
   "metadata": {},
   "outputs": [],
   "source": [
    "k_kappa = rhf_parameters.calculateOrbitalHessianForImaginaryResponse(hamiltonian, orbital_space)"
   ]
  },
  {
   "cell_type": "code",
   "execution_count": 13,
   "id": "opponent-outdoors",
   "metadata": {},
   "outputs": [
    {
     "name": "stdout",
     "output_type": "stream",
     "text": [
      "k_kappa (Response force constant matrix A in Ax=-b)\n",
      "[[0.-4.34392j]]\n"
     ]
    }
   ],
   "source": [
    "print(\"k_kappa (Response force constant matrix A in Ax=-b)\")\n",
    "print(k_kappa)"
   ]
  },
  {
   "cell_type": "code",
   "execution_count": 14,
   "id": "copyrighted-laundry",
   "metadata": {},
   "outputs": [
    {
     "name": "stdout",
     "output_type": "stream",
     "text": [
      "Integrals over the angular momentum operator (x,y,z)\n",
      "[[0.+0.j 0.+0.j]\n",
      " [0.+0.j 0.+0.j]]\n",
      "[[0.+0.j 0.+0.j]\n",
      " [0.+0.j 0.+0.j]]\n",
      "[[0.+0.j 0.+0.j]\n",
      " [0.+0.j 0.+0.j]]\n"
     ]
    }
   ],
   "source": [
    "L = complex_spin_orbital_basis.quantize(gqcpy.AngularMomentumOperator())\n",
    "print(\"Integrals over the angular momentum operator (x,y,z)\")\n",
    "for L_m in L.allParameters():\n",
    "    print(L_m)"
   ]
  },
  {
   "cell_type": "code",
   "execution_count": 15,
   "id": "needed-figure",
   "metadata": {},
   "outputs": [],
   "source": [
    "F_kappa_B = rhf_parameters.calculateMagneticFieldResponseForce(L)"
   ]
  },
  {
   "cell_type": "code",
   "execution_count": 16,
   "id": "younger-telephone",
   "metadata": {},
   "outputs": [
    {
     "name": "stdout",
     "output_type": "stream",
     "text": [
      "F_kappa_B (Response force vector b in Ax=-b) for magnetic field perturbation\n",
      "[[-0.-0.j -0.-0.j -0.-0.j]]\n"
     ]
    }
   ],
   "source": [
    "print(\"F_kappa_B (Response force vector b in Ax=-b) for magnetic field perturbation\")\n",
    "print(F_kappa_B)"
   ]
  },
  {
   "cell_type": "code",
   "execution_count": 17,
   "id": "alien-medicine",
   "metadata": {},
   "outputs": [
    {
     "name": "stdout",
     "output_type": "stream",
     "text": [
      "x_B (Linear response x in Ax=-b) for magnetic field perturbation\n",
      "[[0.+0.j 0.+0.j 0.+0.j]]\n"
     ]
    }
   ],
   "source": [
    "x_B = np.linalg.solve(k_kappa, -F_kappa_B)\n",
    "print(\"x_B (Linear response x in Ax=-b) for magnetic field perturbation\")\n",
    "print(x_B)"
   ]
  },
  {
   "cell_type": "code",
   "execution_count": 18,
   "id": "endless-leave",
   "metadata": {},
   "outputs": [
    {
     "name": "stdout",
     "output_type": "stream",
     "text": [
      "Integrals over the linear momentum operator (x,y,z)\n",
      "[[0.+0.j 0.+0.j]\n",
      " [0.+0.j 0.+0.j]]\n",
      "[[0.+0.j 0.+0.j]\n",
      " [0.+0.j 0.+0.j]]\n",
      "[[0.+0.j      0.+0.54894j]\n",
      " [0.-0.54894j 0.+0.j     ]]\n"
     ]
    }
   ],
   "source": [
    "p = complex_spin_orbital_basis.quantize(gqcpy.LinearMomentumOperator())\n",
    "print(\"Integrals over the linear momentum operator (x,y,z)\")\n",
    "for p_m in p.allParameters():\n",
    "    print(p_m)"
   ]
  },
  {
   "cell_type": "code",
   "execution_count": 19,
   "id": "approximate-broadcast",
   "metadata": {},
   "outputs": [
    {
     "name": "stdout",
     "output_type": "stream",
     "text": [
      "F_kappa_G (Response force vector b in Ax=-b) for gauge origin translation perturbation\n",
      "[[ 0.+1.097881j -0.-0.j       -0.-1.097881j  0.+0.j        0.+0.j       -0.-0.j      ]]\n"
     ]
    }
   ],
   "source": [
    "F_kappa_G = rhf_parameters.calculateGaugeOriginTranslationResponseForce(p)\n",
    "print(\"F_kappa_G (Response force vector b in Ax=-b) for gauge origin translation perturbation\")\n",
    "print(F_kappa_G)"
   ]
  },
  {
   "cell_type": "code",
   "execution_count": 20,
   "id": "martial-plane",
   "metadata": {},
   "outputs": [
    {
     "name": "stdout",
     "output_type": "stream",
     "text": [
      "x_G (Linear response x in Ax=-b) for gauge origin translation perturbation:\n",
      "[[ 0.25274-0.j  0.     +0.j -0.25274+0.j  0.     -0.j  0.     -0.j  0.     +0.j]]\n"
     ]
    }
   ],
   "source": [
    "x_G = np.linalg.solve(k_kappa, -F_kappa_G)\n",
    "print(\"x_G (Linear response x in Ax=-b) for gauge origin translation perturbation:\")\n",
    "print(x_G)"
   ]
  },
  {
   "cell_type": "code",
   "execution_count": 21,
   "id": "forbidden-guess",
   "metadata": {},
   "outputs": [],
   "source": [
    "j_op = complex_spin_orbital_basis.quantize(gqcpy.CurrentDensityOperator())"
   ]
  },
  {
   "cell_type": "code",
   "execution_count": 30,
   "id": "fifty-butterfly",
   "metadata": {},
   "outputs": [],
   "source": [
    "J_field = gqcpy.QCModel_RHF_cd.calculateIpsocentricMagneticInducibility(grid, orbital_space, x_B, x_G, j_op)\n",
    "J_field = np.array(J_field.values())"
   ]
  },
  {
   "cell_type": "code",
   "execution_count": 31,
   "id": "small-mumbai",
   "metadata": {},
   "outputs": [
    {
     "name": "stdout",
     "output_type": "stream",
     "text": [
      "[[[ 0.000000e+00+0.j -1.938959e-06+0.j  0.000000e+00+0.j]\n",
      "  [ 0.000000e+00+0.j -1.938959e-06+0.j  0.000000e+00+0.j]\n",
      "  [ 0.000000e+00+0.j  2.801371e-05+0.j  0.000000e+00+0.j]]\n",
      "\n",
      " [[ 0.000000e+00+0.j -1.696106e-05+0.j  0.000000e+00+0.j]\n",
      "  [ 0.000000e+00+0.j -1.696106e-05+0.j  0.000000e+00+0.j]\n",
      "  [ 0.000000e+00+0.j  8.853624e-05+0.j  0.000000e+00+0.j]]\n",
      "\n",
      " [[ 0.000000e+00+0.j -4.354813e-05+0.j  0.000000e+00+0.j]\n",
      "  [ 0.000000e+00+0.j -4.354813e-05+0.j  0.000000e+00+0.j]\n",
      "  [ 0.000000e+00+0.j  2.156915e-04+0.j  0.000000e+00+0.j]]\n",
      "\n",
      " ...\n",
      "\n",
      " [[ 0.000000e+00+0.j -9.110816e-04+0.j  0.000000e+00+0.j]\n",
      "  [ 0.000000e+00+0.j -9.110816e-04+0.j  0.000000e+00+0.j]\n",
      "  [ 0.000000e+00+0.j -2.298519e-03+0.j  0.000000e+00+0.j]]\n",
      "\n",
      " [[ 0.000000e+00+0.j -1.874316e-04+0.j  0.000000e+00+0.j]\n",
      "  [ 0.000000e+00+0.j -1.874316e-04+0.j  0.000000e+00+0.j]\n",
      "  [ 0.000000e+00+0.j -5.545698e-03+0.j  0.000000e+00+0.j]]\n",
      "\n",
      " [[ 0.000000e+00+0.j  9.056225e-04+0.j  0.000000e+00+0.j]\n",
      "  [ 0.000000e+00+0.j  9.056225e-04+0.j  0.000000e+00+0.j]\n",
      "  [ 0.000000e+00+0.j -3.270967e-03+0.j  0.000000e+00+0.j]]]\n"
     ]
    }
   ],
   "source": [
    "print(J_field)"
   ]
  },
  {
   "cell_type": "code",
   "execution_count": null,
   "id": "eligible-argument",
   "metadata": {},
   "outputs": [],
   "source": []
  }
 ],
 "metadata": {
  "kernelspec": {
   "display_name": "Python 3",
   "language": "python",
   "name": "python3"
  },
  "language_info": {
   "codemirror_mode": {
    "name": "ipython",
    "version": 3
   },
   "file_extension": ".py",
   "mimetype": "text/x-python",
   "name": "python",
   "nbconvert_exporter": "python",
   "pygments_lexer": "ipython3",
   "version": "3.8.5"
  }
 },
 "nbformat": 4,
 "nbformat_minor": 5
}
