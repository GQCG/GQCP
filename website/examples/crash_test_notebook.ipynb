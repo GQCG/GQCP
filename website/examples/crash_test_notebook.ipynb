{
 "cells": [
  {
   "cell_type": "code",
   "execution_count": 1,
   "metadata": {},
   "outputs": [],
   "source": [
    "# Force the local gqcpy to be imported\n",
    "import sys\n",
    "sys.path.insert(0, '../../build/gqcpy/')\n",
    "\n",
    "import gqcpy\n",
    "import numpy as np\n",
    "import copy\n",
    "from tools.NOCI import *\n",
    "from tools.UHF import *"
   ]
  },
  {
   "cell_type": "code",
   "execution_count": 2,
   "metadata": {},
   "outputs": [],
   "source": [
    "x = 1.8897259886\n",
    "distances = np.arange(0.9, 2.51, 0.05) * x\n",
    "\n",
    "molecules = []\n",
    "for distance in distances:\n",
    "    molecules.append(gqcpy.Molecule.HRingFromDistance(3, distance, 0))"
   ]
  },
  {
   "cell_type": "code",
   "execution_count": 3,
   "metadata": {},
   "outputs": [
    {
     "name": "stdout",
     "output_type": "stream",
     "text": [
      "UHF energy:  -1.2900076175201598\n",
      "UHF energy:  -1.316084767831759\n",
      "UHF energy:  -1.335980029160782\n",
      "UHF energy:  -1.3510284534292385\n",
      "UHF energy:  -1.3622977409622279\n",
      "UHF energy:  -1.3706543738259611\n",
      "UHF energy:  -1.3768060181905808\n",
      "UHF energy:  -1.381325498115613\n",
      "UHF energy:  -1.3846649514857177\n",
      "UHF energy:  -1.3871686101272958\n",
      "UHF energy:  -1.3890884930250058\n",
      "UHF energy:  -1.3906025643413178\n",
      "*********************\n",
      "following instability\n",
      "The real valued UHF wavefunction is internally stable.\n",
      "The real valued UHF wavefunction is stable within the real/complex UHF space.\n",
      "The real valued UHF wavefunction contains an unrestricted->generalized instability.\n",
      "UHF energy:  -1.391832756089462\n",
      "UHF energy:  -1.3928606549520763\n",
      "UHF energy:  -1.3937399209683559\n",
      "UHF energy:  -1.3945054936787715\n",
      "UHF energy:  -1.3951801076962373\n",
      "UHF energy:  -1.39577874574611\n",
      "UHF energy:  -1.3963115942844597\n",
      "*********************\n",
      "following instability\n",
      "The real valued UHF wavefunction is internally stable.\n",
      "The real valued UHF wavefunction is stable within the real/complex UHF space.\n",
      "The real valued UHF wavefunction contains an unrestricted->generalized instability.\n",
      "UHF energy:  -1.39678595162762\n",
      "UHF energy:  -1.397207424193864\n",
      "UHF energy:  -1.3975806512233107\n",
      "UHF energy:  -1.3979097251571355\n",
      "*********************\n",
      "following instability\n",
      "The real valued UHF wavefunction is internally stable.\n",
      "The real valued UHF wavefunction is stable within the real/complex UHF space.\n",
      "The real valued UHF wavefunction contains an unrestricted->generalized instability.\n",
      "UHF energy:  -1.3981984211379836\n",
      "*********************\n",
      "following instability\n",
      "The real valued UHF wavefunction is internally stable.\n",
      "The real valued UHF wavefunction is stable within the real/complex UHF space.\n",
      "The real valued UHF wavefunction contains an unrestricted->generalized instability.\n",
      "UHF energy:  -1.398450310871513\n",
      "UHF energy:  -1.39866880955888\n",
      "UHF energy:  -1.3988571866011363\n",
      "UHF energy:  -1.399018558812967\n",
      "UHF energy:  -1.3991558771158155\n",
      "UHF energy:  -1.3992719127620687\n",
      "UHF energy:  -1.3993692461213354\n",
      "UHF energy:  -1.3994502592755047\n",
      "UHF energy:  -1.399517132671913\n"
     ]
    }
   ],
   "source": [
    "UHF_parameters_aab = []\n",
    "for mol in molecules:\n",
    "    _, UHF_par = UHF(mol, 2, 1, \"STO-3G\")\n",
    "    UHF_parameters_aab.append(UHF_par)"
   ]
  },
  {
   "cell_type": "code",
   "execution_count": 4,
   "metadata": {},
   "outputs": [],
   "source": [
    "def flip_aba(alpha_coeff, beta_coeff):\n",
    "    occ_b = beta_coeff[:, 0]\n",
    "    occ_a = alpha_coeff[:, 1]\n",
    "\n",
    "    new_coeff_1 = copy.deepcopy(alpha_coeff)\n",
    "    new_coeff_1[:, 1] = occ_b\n",
    "\n",
    "    new_coeff_2 = copy.deepcopy(beta_coeff)\n",
    "    new_coeff_2[:, 0] = occ_a\n",
    "\n",
    "    return gqcpy.UTransformation_d(gqcpy.UTransformationComponent_d(new_coeff_1), gqcpy.UTransformationComponent_d(new_coeff_2))"
   ]
  },
  {
   "cell_type": "code",
   "execution_count": 5,
   "metadata": {},
   "outputs": [],
   "source": [
    "def flip_baa(alpha_coeff, beta_coeff):\n",
    "    occ_b = beta_coeff[:, 0]\n",
    "    occ_a = alpha_coeff[:, 0]\n",
    "\n",
    "    new_coeff_1 = copy.deepcopy(alpha_coeff)\n",
    "    new_coeff_1[:, 0] = occ_b\n",
    "\n",
    "    new_coeff_2 = copy.deepcopy(beta_coeff)\n",
    "    new_coeff_2[:, 0] = occ_a\n",
    "\n",
    "    return gqcpy.UTransformation_d(gqcpy.UTransformationComponent_d(new_coeff_1), gqcpy.UTransformationComponent_d(new_coeff_2))"
   ]
  },
  {
   "cell_type": "code",
   "execution_count": 6,
   "metadata": {},
   "outputs": [],
   "source": [
    "UHF_parameters_aba = []\n",
    "UHF_parameters_baa = []\n",
    "\n",
    "for model in UHF_parameters_aab:\n",
    "    Ca = model.expansion().alpha.matrix()\n",
    "    Cb = model.expansion().beta.matrix()\n",
    "\n",
    "    UHF_parameters_aba.append(flip_aba(Ca, Cb))\n",
    "    UHF_parameters_baa.append(flip_baa(Ca, Cb))"
   ]
  },
  {
   "cell_type": "code",
   "execution_count": 7,
   "metadata": {},
   "outputs": [
    {
     "name": "stdout",
     "output_type": "stream",
     "text": [
      "[[-4.35438763e-01 -1.06261278e+00  5.86878286e-01]\n",
      " [-3.17847509e-01 -4.43664476e-08 -1.24986076e+00]\n",
      " [-4.35438768e-01  1.06261282e+00  5.86878212e-01]] [[ 2.91693088e-01 -6.70035970e-01 -1.06261277e+00]\n",
      " [ 5.91827816e-01  1.14582669e+00 -4.15139168e-08]\n",
      " [ 2.91693074e-01 -6.70035885e-01  1.06261283e+00]]\n",
      "[[-0.43543876  0.29169309  0.58687829]\n",
      " [-0.31784751  0.59182782 -1.24986076]\n",
      " [-0.43543877  0.29169307  0.58687821]] [[-1.06261278e+00 -6.70035970e-01 -1.06261277e+00]\n",
      " [-4.43664476e-08  1.14582669e+00 -4.15139168e-08]\n",
      " [ 1.06261282e+00 -6.70035885e-01  1.06261283e+00]]\n",
      "[[ 2.91693088e-01 -1.06261278e+00  5.86878286e-01]\n",
      " [ 5.91827816e-01 -4.43664476e-08 -1.24986076e+00]\n",
      " [ 2.91693074e-01  1.06261282e+00  5.86878212e-01]] [[-4.35438763e-01 -6.70035970e-01 -1.06261277e+00]\n",
      " [-3.17847509e-01  1.14582669e+00 -4.15139168e-08]\n",
      " [-4.35438768e-01 -6.70035885e-01  1.06261283e+00]]\n"
     ]
    }
   ],
   "source": [
    "print(UHF_parameters_aab[0].expansion().alpha.matrix(), UHF_parameters_aab[0].expansion().beta.matrix())\n",
    "print(UHF_parameters_aba[0].alpha.matrix(), UHF_parameters_aba[0].beta.matrix())\n",
    "print(UHF_parameters_baa[0].alpha.matrix(), UHF_parameters_baa[0].beta.matrix())"
   ]
  },
  {
   "cell_type": "code",
   "execution_count": 8,
   "metadata": {},
   "outputs": [],
   "source": [
    "NOCI_basis = []\n",
    "for i, d in enumerate(distances):\n",
    "    state = [UHF_parameters_aab[i].expansion(), UHF_parameters_aba[i], UHF_parameters_baa[i]]\n",
    "    NOCI_basis.append(state)\n"
   ]
  },
  {
   "cell_type": "code",
   "execution_count": 15,
   "metadata": {},
   "outputs": [],
   "source": [
    "output_unconstrained = []\n",
    "\n",
    "for i in range(len(distances)):\n",
    "    noci = UNOCI(molecules[i], 2, 1, \"STO-3G\", NOCI_basis[i])\n",
    "    e, par = noci.optimize()\n",
    "\n",
    "\n",
    "    output_unconstrained.append(e)\n"
   ]
  },
  {
   "cell_type": "code",
   "execution_count": 16,
   "metadata": {},
   "outputs": [
    {
     "name": "stdout",
     "output_type": "stream",
     "text": [
      "[-1.3117222310275742, -1.3275340010545227, -1.4378533159842544, -1.3655206136086593, -1.3698954053020644, -1.4575579215742633, -1.4540532575258238, -1.5629651806085483, -1.4955705704171465, -1.5389907488358252, -1.5100637085161166, -1.599753799070615, -1.6035229051376632, -1.6239747859911005, -1.578379080147418, -1.6060858645868146, -1.5940984899382735, -1.8782832640919591e+229, -1.6131708866222048, -1.59617955050148, -3.278872758041033e+229, -1.5842037112605305, -1.58351971356006, -1.5772700967765618, -1.5734917845987568, -1.5690164129853337, -1.564043177321193, -1.559414166276826, -1.554128500400195, -1.5492451563545797, -1.5450679504444254, -1.568150100655762, -1.563249477432267]\n"
     ]
    }
   ],
   "source": [
    "print(output_unconstrained)"
   ]
  },
  {
   "cell_type": "code",
   "execution_count": null,
   "metadata": {},
   "outputs": [],
   "source": []
  }
 ],
 "metadata": {
  "kernelspec": {
   "display_name": "Python 3.8.10 ('base')",
   "language": "python",
   "name": "python3"
  },
  "language_info": {
   "codemirror_mode": {
    "name": "ipython",
    "version": 3
   },
   "file_extension": ".py",
   "mimetype": "text/x-python",
   "name": "python",
   "nbconvert_exporter": "python",
   "pygments_lexer": "ipython3",
   "version": "3.8.10"
  },
  "orig_nbformat": 4,
  "vscode": {
   "interpreter": {
    "hash": "4654e147d6fe676f31a9f86e2485eea716359f8709963986145f7c2d0088ba8c"
   }
  }
 },
 "nbformat": 4,
 "nbformat_minor": 2
}
