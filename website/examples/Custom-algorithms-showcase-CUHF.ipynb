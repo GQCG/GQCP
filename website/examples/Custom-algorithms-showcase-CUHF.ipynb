{
 "cells": [
  {
   "cell_type": "markdown",
   "metadata": {
    "slideshow": {
     "slide_type": "-"
    }
   },
   "source": [
    "# Custom algorithms showcase - CUHF"
   ]
  },
  {
   "cell_type": "code",
   "execution_count": 1,
   "metadata": {
    "scrolled": true
   },
   "outputs": [],
   "source": [
    "# Force the local gqcpy to be imported\n",
    "import sys\n",
    "sys.path.insert(0, '../../build/gqcpy/')\n",
    "\n",
    "import gqcpy\n",
    "import numpy as np\n",
    "\n",
    "np.set_printoptions(precision=6, linewidth=120)"
   ]
  },
  {
   "cell_type": "markdown",
   "metadata": {},
   "source": [
    "So, recently, there has been a lot of research in our group concerned with **CUHF**: 'constrained' UHF. This is trying to modify UHF SCF with a constraint such that it should convergence to ROHF.\n",
    "\n",
    "Since the nature of the proposed algorithms is inherently related to _modifying_ an _existing_ UHF SCF algorithm (plain, DIIS, ...) but with a small extra step or two, I think this is an excellent showcase for `GQCP`'s 'injection' capabilities`."
   ]
  },
  {
   "cell_type": "markdown",
   "metadata": {},
   "source": [
    "## Molecular setup"
   ]
  },
  {
   "cell_type": "markdown",
   "metadata": {},
   "source": [
    "Let us start by defining the molecular system under consideration. We'll take an H3-ring, 1 a.u. apart and in the STO-3G basisset."
   ]
  },
  {
   "cell_type": "code",
   "execution_count": 2,
   "metadata": {
    "scrolled": true
   },
   "outputs": [
    {
     "output_type": "stream",
     "name": "stdout",
     "text": "Number of electrons: 3\nH  (0.57735, 0, 0)\nH  (-0.288675, 0.5, 0)\nH  (-0.288675, -0.5, 0)\n\nNumber of alpha electrons: 2\nNumber of beta electrons: 1\n"
    }
   ],
   "source": [
    "molecule = gqcpy.Molecule.HRingFromDistance(3, 1.0)\n",
    "N = molecule.numberOfElectrons()\n",
    "N_P = molecule.numberOfElectronPairs()  # rounds down\n",
    "N_alpha = N_P + 1\n",
    "N_beta = N_P\n",
    "\n",
    "print(molecule)\n",
    "print(\"Number of alpha electrons: {}\".format(N_alpha))\n",
    "print(\"Number of beta electrons: {}\".format(N_beta))"
   ]
  },
  {
   "cell_type": "markdown",
   "metadata": {},
   "source": [
    "In order to start any calculations, we need to calculate the molecular integrals. In `GQCP`, this is done by creating a restricted spin-orbital basis:"
   ]
  },
  {
   "cell_type": "code",
   "execution_count": 3,
   "metadata": {
    "scrolled": true
   },
   "outputs": [],
   "source": [
    "spinor_basis = gqcpy.RSpinOrbitalBasis(molecule, \"STO-3G\")  # in AO basis; atomic spin-orbitals\n",
    "S = spinor_basis.overlap().parameters()  # in AO basis"
   ]
  },
  {
   "cell_type": "markdown",
   "metadata": {},
   "source": [
    "Then, we will quantize the molecular Hamiltonian (in which the interactions terms are the electron's kinetic energy, the nucleus-electron attraction and the interelectronic repulson) in that spin-orbital basis:"
   ]
  },
  {
   "cell_type": "code",
   "execution_count": 4,
   "metadata": {
    "scrolled": true
   },
   "outputs": [],
   "source": [
    "sq_hamiltonian = gqcpy.SQHamiltonian.Molecular(spinor_basis, molecule)  # in AO basis"
   ]
  },
  {
   "cell_type": "markdown",
   "metadata": {},
   "source": [
    "## The standard 'plain' UHF SCF algorithm"
   ]
  },
  {
   "cell_type": "markdown",
   "metadata": {},
   "source": [
    "Let's establish a base line for the algorithms by examining the standard 'plain' UHF SCF algorithm. In `GQCP`, we have implemented algorithms and environments:\n",
    "\n",
    "- an _environment_ acts as a 'calculation space', storing intermediate calculations;\n",
    "- an _algorithm_ and its composing _steps_ continuously modify the environment."
   ]
  },
  {
   "cell_type": "markdown",
   "metadata": {},
   "source": [
    "For UHF SCF, we use an `UHFSCFEnvironment`:"
   ]
  },
  {
   "cell_type": "code",
   "execution_count": 5,
   "metadata": {
    "scrolled": true
   },
   "outputs": [],
   "source": [
    "environment = gqcpy.UHFSCFEnvironment.WithCoreGuess(N_alpha, N_beta, sq_hamiltonian, S)"
   ]
  },
  {
   "cell_type": "markdown",
   "metadata": {},
   "source": [
    "where we have initialized the alpha- and beta-coefficient matrices with the (generalized) eigenvectors of the core Hamiltonian (in AO basis)."
   ]
  },
  {
   "cell_type": "markdown",
   "metadata": {},
   "source": [
    "Let's now take a look at the plain UHF SCF solver:"
   ]
  },
  {
   "cell_type": "code",
   "execution_count": 6,
   "metadata": {
    "scrolled": true
   },
   "outputs": [
    {
     "output_type": "stream",
     "name": "stdout",
     "text": "An iterative algorithm (with a maximum of 1000 iterations) consisting of the following steps:\nAn algorithmic step consisting of 4 algorithmic steps:\n\t1. Calculate the current UHF alpha and beta density matrices (in the AO basis) and place them in the environment.\n\t2. Calculate the current UHF Fock matrices (expressed in the scalar/AO basis) and place them in the environment.\n\t3. Solve the generalized eigenvalue problem for the most recent scalar/AO Fock matrices. Add the associated coefficient matrices and orbital energies to the environment.\n\t4. Calculate the current electronic UHF energy and place it in the environment.\n\nWith the following convergence criterion:\nA compound convergence criterion step consisting of 2 combined criteria:\n\t1. A convergence criterion that checks if the norm of the difference of two iterates (the UHF alpha-density matrix in AO basis) is converged, with a tolerance of 1.00e-04.\n\t2. A convergence criterion that checks if the norm of the difference of two iterates (the UHF beta-density matrix in AO basis) is converged, with a tolerance of 1.00e-04.\n\n"
    }
   ],
   "source": [
    "plain_algorithm = gqcpy.UHFSCFSolver.Plain(threshold=1.0e-04, maximum_number_of_iterations=1000)\n",
    "\n",
    "print(plain_algorithm.description())"
   ]
  },
  {
   "cell_type": "markdown",
   "metadata": {},
   "source": [
    "With this algorithm, let's check the UHF SCF procedure."
   ]
  },
  {
   "cell_type": "code",
   "execution_count": 7,
   "metadata": {
    "scrolled": true
   },
   "outputs": [],
   "source": [
    "uhf_qc_structure = gqcpy.UHF.optimize(plain_algorithm, environment)"
   ]
  },
  {
   "cell_type": "code",
   "execution_count": 8,
   "metadata": {
    "scrolled": true
   },
   "outputs": [],
   "source": [
    "uhf_energy = uhf_qc_structure.groundStateEnergy()\n",
    "uhf_parameters = uhf_qc_structure.groundStateParameters()"
   ]
  },
  {
   "cell_type": "code",
   "execution_count": 9,
   "metadata": {
    "scrolled": true
   },
   "outputs": [
    {
     "output_type": "stream",
     "name": "stdout",
     "text": "UHF electronic energy: -3.63114631\n\nUHF C_alpha:\n[[-0.371811 -1.569159 -0.897477]\n [-0.371698  1.566484 -0.902185]\n [-0.331961  0.002738  1.815423]]\n\nUHF C_beta:\n[[ 0.300995  0.923321 -1.569346]\n [ 0.301463  0.928335  1.566296]\n [ 0.471022 -1.784404  0.002783]]\n\n"
    }
   ],
   "source": [
    "print(\"UHF electronic energy: {:.8f}\\n\".format(uhf_energy))\n",
    "print(\"UHF C_alpha:\\n{}\\n\".format(uhf_parameters.expansion(gqcpy.Spin.alpha)))\n",
    "print(\"UHF C_beta:\\n{}\\n\".format(uhf_parameters.expansion(gqcpy.Spin.beta)))"
   ]
  },
  {
   "cell_type": "markdown",
   "metadata": {},
   "source": [
    "## The CUHF (Scuseria/thesis) algorithm"
   ]
  },
  {
   "cell_type": "markdown",
   "metadata": {},
   "source": [
    "One of the CUHF algorithms described by Scuseria's group can be found in the PhD thesis by T. Tsuchimochi. Since this algorithm uses a modification of the UHF alpha- and beta-Fock matrices, this is an ideal opportunity to use `GQCP`'s injection capabilities."
   ]
  },
  {
   "cell_type": "markdown",
   "metadata": {},
   "source": [
    "I've taken the reference implementation from Xeno's [ghf](https://github.com/GQCG/ghf) repository, and adapted it to `GQCP`.\n",
    "\n",
    "We start off by defining a `Python` function that modifies the alpha- and beta- Fock matrices in an `UHFSCFEnvironment`. We then wrap that `Python` function into a special class `FunctionalStep_UHFSCFEnvironment`, which allows for the bridging between `Python` functions and `GQCP`'s Algorithm framework."
   ]
  },
  {
   "cell_type": "code",
   "execution_count": 10,
   "metadata": {
    "scrolled": true
   },
   "outputs": [],
   "source": [
    "def constrain_function_thesis(environment):\n",
    "    \"\"\"Replace the alpha- and beta- UHF Fock matrices by their constrained counterparts, as explained in the CUHF 'thesis' algorithm.\"\"\"\n",
    "\n",
    "    # Prepare some variables to be used in the algorithm.\n",
    "    X = spinor_basis.lowdinOrthonormalization()  # the transformation matrix TO an orthonormal basis\n",
    "    \n",
    "    fock_matrices_alpha = environment.fock_matrices_alpha\n",
    "    F_alpha = fock_matrices_alpha[-1]  # in AO basis\n",
    "\n",
    "    fock_matrices_beta = environment.fock_matrices_beta\n",
    "    F_beta = fock_matrices_beta[-1]  # in AO basis\n",
    "    \n",
    "    D_alpha = environment.density_matrices_alpha[-1]  # in AO basis\n",
    "    D_beta = environment.density_matrices_beta[-1]  # in AO basis\n",
    "\n",
    "    N_alpha = environment.N_alpha\n",
    "    N_beta = environment.N_beta\n",
    "    \n",
    "\n",
    "    # Form the closed-shell Fock matrix and the UHF modification.\n",
    "    F_cs = (F_alpha + F_beta) / 2.0  # the closed-shell Fock matrix, in AO basis\n",
    "    Delta_UHF = (F_alpha - F_beta) / 2.0  # in AO basis\n",
    "    \n",
    "\n",
    "    # Form modified Fock matrices.\n",
    "    F_aa = F_cs + Delta_UHF\n",
    "    F_bb = F_cs - Delta_UHF\n",
    "\n",
    "\n",
    "    # Find the natural occupation numbers and vectors by diagonalizing the charge-density matrix in an orthonormal basis.\n",
    "    P_AO = (D_alpha + D_beta) / 2.0\n",
    "    P_MO = np.linalg.inv(X) @ P_AO @ np.linalg.inv(X.T)\n",
    "    natural_occupation_numbers, V = np.linalg.eigh(P_MO)\n",
    "\n",
    "\n",
    "    # Construct the Langrange multipliers to add them to the 'constrained' Fock matrices.\n",
    "    Delta_UHF_NO = np.linalg.inv(V) @ np.linalg.inv(X) @ Delta_UHF @ np.linalg.inv(X.T) @ np.linalg.inv(V.T)  # in the natural occupation (NO) basis\n",
    "    Lambda_NO = np.zeros(np.shape(Delta_UHF_NO))\n",
    "    Lambda_NO[:N_beta, N_alpha:] = -Delta_UHF_NO[:N_beta, N_alpha:]\n",
    "    Lambda_NO[N_alpha:, :N_beta] = -Delta_UHF_NO[N_alpha:, :N_beta]\n",
    "    Lambda_AO = X @ V @ Lambda_NO @ V.T @ X.T\n",
    "    \n",
    "\n",
    "    # Overwrite the most recent UHF Fock matrices with the cUHF ones\n",
    "    F_alpha_constrained = F_aa + Lambda_AO\n",
    "    environment.replace_current_fock_matrix_alpha(F_alpha_constrained)\n",
    "\n",
    "    F_beta_constrained = F_bb - Lambda_AO\n",
    "    environment.replace_current_fock_matrix_beta(F_beta_constrained)\n",
    "\n",
    "\n",
    "constrain_step_thesis = gqcpy.FunctionalStep_UHFSCFEnvironment(constrain_function_thesis, description=\"Replace the alpha- and beta- UHF Fock matrices by their constrained counterparts, as explained in the CUHF 'thesis' algorithm.\")"
   ]
  },
  {
   "cell_type": "markdown",
   "metadata": {},
   "source": [
    "We'll now modify the plain UHF SCF algorithm with this modification `constrain_step_thesis`. From the algorithmic description printed above, we'll have to insert the Fock matrix modification at index `2`."
   ]
  },
  {
   "cell_type": "code",
   "execution_count": 11,
   "metadata": {
    "scrolled": true
   },
   "outputs": [
    {
     "output_type": "stream",
     "name": "stdout",
     "text": "An iterative algorithm (with a maximum of 1000 iterations) consisting of the following steps:\nAn algorithmic step consisting of 5 algorithmic steps:\n\t1. Calculate the current UHF alpha and beta density matrices (in the AO basis) and place them in the environment.\n\t2. Calculate the current UHF Fock matrices (expressed in the scalar/AO basis) and place them in the environment.\n\t3. Replace the alpha- and beta- UHF Fock matrices by their constrained counterparts, as explained in the CUHF 'thesis' algorithm.\n\t4. Solve the generalized eigenvalue problem for the most recent scalar/AO Fock matrices. Add the associated coefficient matrices and orbital energies to the environment.\n\t5. Calculate the current electronic UHF energy and place it in the environment.\n\nWith the following convergence criterion:\nA compound convergence criterion step consisting of 2 combined criteria:\n\t1. A convergence criterion that checks if the norm of the difference of two iterates (the UHF alpha-density matrix in AO basis) is converged, with a tolerance of 1.00e-04.\n\t2. A convergence criterion that checks if the norm of the difference of two iterates (the UHF beta-density matrix in AO basis) is converged, with a tolerance of 1.00e-04.\n\n"
    }
   ],
   "source": [
    "CUHF_algorithm_thesis = gqcpy.UHFSCFSolver.Plain(threshold = 1.0e-04, maximum_number_of_iterations = 1000)\n",
    "\n",
    "CUHF_algorithm_thesis.insert(constrain_step_thesis, 2)\n",
    "print(CUHF_algorithm_thesis.description())"
   ]
  },
  {
   "cell_type": "markdown",
   "metadata": {},
   "source": [
    "Since we've now created the `CUHF_algorithm_thesis`, which is still an UHF SCF solver, we can set up an environment and optimize the CUHF model parameters."
   ]
  },
  {
   "cell_type": "code",
   "execution_count": 12,
   "metadata": {
    "scrolled": true
   },
   "outputs": [],
   "source": [
    "environment = gqcpy.UHFSCFEnvironment.WithCoreGuess(N_alpha, N_beta, sq_hamiltonian, S)"
   ]
  },
  {
   "cell_type": "code",
   "execution_count": 13,
   "metadata": {
    "scrolled": true
   },
   "outputs": [],
   "source": [
    "cuhf_qc_structure_thesis = gqcpy.UHF.optimize(CUHF_algorithm_thesis, environment)\n",
    "cuhf_energy_thesis = cuhf_qc_structure_thesis.groundStateEnergy()\n",
    "cuhf_parameters_thesis = cuhf_qc_structure_thesis.groundStateParameters()"
   ]
  },
  {
   "cell_type": "code",
   "execution_count": 14,
   "metadata": {
    "scrolled": true
   },
   "outputs": [
    {
     "output_type": "stream",
     "name": "stdout",
     "text": "CUHF electronic energy (thesis): -3.63052195\n\nCUHF C_alpha (thesis):\n[[-3.815161e-01 -1.805661e+00 -8.282540e-05]\n [-3.469804e-01  9.097379e-01 -1.567785e+00]\n [-3.470012e-01  9.095985e-01  1.567861e+00]]\n\nCUHF C_beta (thesis):\n[[ 2.610739e-01  9.069672e-06 -1.826967e+00]\n [ 4.064862e-01  1.567818e+00  8.846944e-01]\n [ 4.064814e-01 -1.567828e+00  8.846781e-01]]\n\n"
    }
   ],
   "source": [
    "print(\"CUHF electronic energy (thesis): {:.8f}\\n\".format(cuhf_energy_thesis))\n",
    "print(\"CUHF C_alpha (thesis):\\n{}\\n\".format(cuhf_parameters_thesis.expansion(gqcpy.Spin.alpha)))\n",
    "print(\"CUHF C_beta (thesis):\\n{}\\n\".format(cuhf_parameters_thesis.expansion(gqcpy.Spin.beta)))"
   ]
  },
  {
   "cell_type": "markdown",
   "metadata": {},
   "source": [
    "## The CUHF (Bultinck) algorithm"
   ]
  },
  {
   "cell_type": "markdown",
   "metadata": {},
   "source": [
    "A different CUHF algorithm was formulated by P. Bultinck. We'll use the same injection approach.\n",
    "\n",
    "Again, we've adapted the algorithm in the [ghf](https://github.com/GQCG/ghf)."
   ]
  },
  {
   "cell_type": "code",
   "execution_count": 15,
   "metadata": {
    "scrolled": true
   },
   "outputs": [],
   "source": [
    "def constrain_function_bultinck(environment):\n",
    "    \"\"\"Replace the alpha- and beta- UHF coefficient matrices by their constrained counterparts, as explained in the CUHF algorithm devised by Patrick Bultinck.\"\"\"\n",
    "\n",
    "    # 'Extract' the required ingredients from the environment.\n",
    "    N_beta = environment.N_beta\n",
    "    \n",
    "    C_alpha = environment.coefficient_matrices_alpha[-1]\n",
    "    C_beta = np.copy(environment.coefficient_matrices_beta[-1])  # can't directly modify the environment's coefficient matrices\n",
    "    \n",
    "    \n",
    "    # Apply the 'constraint'.\n",
    "    C_beta[:, :N_beta] = C_alpha[:, :N_beta]  # make sure the occupied beta spin-orbitals are the same as the lowest alpha spin-orbitals\n",
    "\n",
    "\n",
    "    # Overwrite the current coefficient matrices with their constraint versions.\n",
    "    # We haven't modified C_alpha, so we only have to replace the current beta coefficient matrix.\n",
    "    environment.replace_current_coefficient_matrix_beta(C_beta)\n",
    "\n",
    "\n",
    "constrain_step_bultinck = gqcpy.FunctionalStep_UHFSCFEnvironment(constrain_function_bultinck, \"Replace the alpha- and beta- UHF coefficient matrices by their constrained counterparts, as explained in the CUHF algorithm devised by Patrick Bultinck.\")"
   ]
  },
  {
   "cell_type": "markdown",
   "metadata": {},
   "source": [
    "We now modify the plain UHF SCF algorithm with this constrain step, which we insert right before the next iteration starts, so at the end of the current algorithm."
   ]
  },
  {
   "cell_type": "code",
   "execution_count": 16,
   "metadata": {
    "scrolled": true
   },
   "outputs": [
    {
     "output_type": "stream",
     "name": "stdout",
     "text": "An iterative algorithm (with a maximum of 2 iterations) consisting of the following steps:\nAn algorithmic step consisting of 5 algorithmic steps:\n\t1. Calculate the current UHF alpha and beta density matrices (in the AO basis) and place them in the environment.\n\t2. Calculate the current UHF Fock matrices (expressed in the scalar/AO basis) and place them in the environment.\n\t3. Solve the generalized eigenvalue problem for the most recent scalar/AO Fock matrices. Add the associated coefficient matrices and orbital energies to the environment.\n\t4. Calculate the current electronic UHF energy and place it in the environment.\n\t5. Replace the alpha- and beta- UHF coefficient matrices by their constrained counterparts, as explained in the CUHF algorithm devised by Patrick Bultinck.\n\nWith the following convergence criterion:\nA compound convergence criterion step consisting of 2 combined criteria:\n\t1. A convergence criterion that checks if the norm of the difference of two iterates (the UHF alpha-density matrix in AO basis) is converged, with a tolerance of 1.00e-04.\n\t2. A convergence criterion that checks if the norm of the difference of two iterates (the UHF beta-density matrix in AO basis) is converged, with a tolerance of 1.00e-04.\n\n"
    }
   ],
   "source": [
    "CUHF_algorithm_bultinck = gqcpy.UHFSCFSolver.Plain(threshold = 1.0e-04, maximum_number_of_iterations = 2)\n",
    "CUHF_algorithm_bultinck.insert(constrain_step_bultinck, 4)  # at the end\n",
    "print(CUHF_algorithm_bultinck.description())"
   ]
  },
  {
   "cell_type": "markdown",
   "metadata": {},
   "source": [
    "We then proceed as usual, by creating an environment and optimizing the CUHF model parameters."
   ]
  },
  {
   "cell_type": "code",
   "execution_count": 17,
   "metadata": {
    "scrolled": true
   },
   "outputs": [],
   "source": [
    "environment = gqcpy.UHFSCFEnvironment.WithCoreGuess(N_alpha, N_beta, sq_hamiltonian, S)"
   ]
  },
  {
   "cell_type": "code",
   "execution_count": 18,
   "metadata": {
    "scrolled": true
   },
   "outputs": [],
   "source": [
    "cuhf_qc_structure_bultinck = gqcpy.UHF.optimize(CUHF_algorithm_bultinck, environment)\n",
    "cuhf_energy_bultinck = cuhf_qc_structure_bultinck.groundStateEnergy()\n",
    "cuhf_parameters_bultinck = cuhf_qc_structure_bultinck.groundStateParameters()"
   ]
  },
  {
   "cell_type": "code",
   "execution_count": 19,
   "metadata": {
    "scrolled": true
   },
   "outputs": [
    {
     "output_type": "stream",
     "name": "stdout",
     "text": "CUHF electronic energy (P. Bultinck): -3.62680102\n\nCUHF C_alpha (P. Bultinck):\n[[-0.358528 -1.787319 -0.287954]\n [-0.358528  1.143034 -1.403887]\n [-0.358528  0.644284  1.69184 ]]\n\nCUHF C_beta (P. Bultinck):\n[[-0.358528  0.27704  -1.801008]\n [-0.358528  1.421345  1.117341]\n [-0.358528 -1.67858   0.647182]]\n\n"
    }
   ],
   "source": [
    "print(\"CUHF electronic energy (P. Bultinck): {:.8f}\\n\".format(cuhf_energy_bultinck))\n",
    "print(\"CUHF C_alpha (P. Bultinck):\\n{}\\n\".format(cuhf_parameters_bultinck.expansion(gqcpy.Spin.alpha)))\n",
    "print(\"CUHF C_beta (P. Bultinck):\\n{}\\n\".format(cuhf_parameters_bultinck.expansion(gqcpy.Spin.beta)))"
   ]
  },
  {
   "cell_type": "markdown",
   "metadata": {},
   "source": [
    "## Bonus: changing the thesis algorithm"
   ]
  },
  {
   "cell_type": "markdown",
   "metadata": {},
   "source": [
    "Something seemed peculiar to me about the transformations of the density matrices and operators in the 'thesis'-inspired CUHF modification. I proceeded by 'fixing' these transformation formulas in the following modification."
   ]
  },
  {
   "cell_type": "code",
   "execution_count": 20,
   "metadata": {
    "scrolled": true
   },
   "outputs": [],
   "source": [
    "def constrain_function_thesis_fixed(environment):\n",
    "    \"\"\"Replace the alpha- and beta- UHF Fock matrices by their constrained counterparts, as explained in the CUHF 'thesis' algorithm.\"\"\"\n",
    "\n",
    "    # Prepare some variables to be used in the algorithm.\n",
    "    X = spinor_basis.lowdinOrthonormalization()  # the transformation matrix TO an orthonormal basis\n",
    "    \n",
    "    fock_matrices_alpha = environment.fock_matrices_alpha\n",
    "    print(environment.fock_matrices_alpha[-1])\n",
    "    F_alpha = fock_matrices_alpha[-1]  # in AO basis\n",
    "\n",
    "    fock_matrices_beta = environment.fock_matrices_beta\n",
    "    F_beta = fock_matrices_beta[-1]  # in AO basis\n",
    "    \n",
    "    D_alpha = environment.density_matrices_alpha[-1]  # in AO basis\n",
    "    D_beta = environment.density_matrices_beta[-1]  # in AO basis\n",
    "\n",
    "    N_alpha = environment.N_alpha\n",
    "    N_beta = environment.N_beta\n",
    "    \n",
    "\n",
    "    # Form the closed-shell Fock matrix and the UHF modification.\n",
    "    F_cs = (F_alpha + F_beta) / 2.0  # the closed-shell Fock matrix, in AO basis\n",
    "    Delta_UHF = (F_alpha - F_beta) / 2.0  # in AO basis\n",
    "    \n",
    "\n",
    "    # Form modified Fock matrices.\n",
    "    F_aa = F_cs + Delta_UHF\n",
    "    F_bb = F_cs - Delta_UHF\n",
    "\n",
    "\n",
    "    # Find the natural occupation numbers and vectors by diagonalizing the charge-density matrix in an orthonormal basis.\n",
    "    P_AO = (D_alpha + D_beta) / 2.0\n",
    "    P_MO = np.linalg.inv(X).conj() @ P_AO @ np.linalg.inv(X.T)\n",
    "    natural_occupation_numbers, V = np.linalg.eigh(P_MO)\n",
    "\n",
    "\n",
    "    # Construct the Langrange multipliers to add them to the 'constrained' Fock matrices.    \n",
    "    Delta_UHF_NO = V.conj().T @ X.conj().T @ Delta_UHF @ X @ V  # in the natural occupation (NO) basis\n",
    "    Lambda_NO = np.zeros(np.shape(Delta_UHF_NO))\n",
    "    Lambda_NO[:N_beta, N_alpha:] = -Delta_UHF_NO[:N_beta, N_alpha:]\n",
    "    Lambda_NO[N_alpha:, :N_beta] = -Delta_UHF_NO[N_alpha:, :N_beta]\n",
    "    Lambda_AO = np.linalg.inv(X).T @ np.linalg.inv(V).T @ Lambda_NO @ np.linalg.inv(V) @ np.linalg.inv(X)\n",
    "    \n",
    "\n",
    "    # Overwrite the most recent UHF Fock matrices with the cUHF ones\n",
    "    F_alpha_constrained = F_aa + Lambda_AO\n",
    "    environment.replace_current_fock_matrix_alpha(F_alpha_constrained)\n",
    "\n",
    "    F_beta_constrained = F_bb - Lambda_AO\n",
    "    environment.replace_current_fock_matrix_beta(F_beta_constrained)\n",
    "\n",
    "\n",
    "constrain_step_thesis_fixed = gqcpy.FunctionalStep_UHFSCFEnvironment(constrain_function_thesis_fixed, description=\"Replace the alpha- and beta- UHF Fock matrices by their constrained counterparts, as explained in the CUHF 'thesis' algorithm, but with 'fixed' transformation formulas.\")"
   ]
  },
  {
   "cell_type": "markdown",
   "metadata": {},
   "source": [
    "We proceed similarly to before, inserting the modifying step in the plain UHF SCF algorithm."
   ]
  },
  {
   "cell_type": "code",
   "execution_count": 21,
   "metadata": {
    "scrolled": true
   },
   "outputs": [
    {
     "output_type": "stream",
     "name": "stdout",
     "text": "An iterative algorithm (with a maximum of 1000 iterations) consisting of the following steps:\nAn algorithmic step consisting of 5 algorithmic steps:\n\t1. Calculate the current UHF alpha and beta density matrices (in the AO basis) and place them in the environment.\n\t2. Calculate the current UHF Fock matrices (expressed in the scalar/AO basis) and place them in the environment.\n\t3. Replace the alpha- and beta- UHF Fock matrices by their constrained counterparts, as explained in the CUHF 'thesis' algorithm, but with 'fixed' transformation formulas.\n\t4. Solve the generalized eigenvalue problem for the most recent scalar/AO Fock matrices. Add the associated coefficient matrices and orbital energies to the environment.\n\t5. Calculate the current electronic UHF energy and place it in the environment.\n\nWith the following convergence criterion:\nA compound convergence criterion step consisting of 2 combined criteria:\n\t1. A convergence criterion that checks if the norm of the difference of two iterates (the UHF alpha-density matrix in AO basis) is converged, with a tolerance of 1.00e-04.\n\t2. A convergence criterion that checks if the norm of the difference of two iterates (the UHF beta-density matrix in AO basis) is converged, with a tolerance of 1.00e-04.\n\n"
    }
   ],
   "source": [
    "CUHF_algorithm_thesis_fixed = gqcpy.UHFSCFSolver.Plain(threshold = 1.0e-04, maximum_number_of_iterations = 1000)\n",
    "\n",
    "CUHF_algorithm_thesis_fixed.insert(constrain_step_thesis_fixed, 2)\n",
    "print(CUHF_algorithm_thesis_fixed.description())"
   ]
  },
  {
   "cell_type": "code",
   "execution_count": 22,
   "metadata": {
    "scrolled": true
   },
   "outputs": [],
   "source": [
    "environment = gqcpy.UHFSCFEnvironment.WithCoreGuess(N_alpha, N_beta, sq_hamiltonian, S)"
   ]
  },
  {
   "cell_type": "code",
   "execution_count": 23,
   "metadata": {
    "scrolled": true
   },
   "outputs": [
    {
     "output_type": "stream",
     "name": "stdout",
     "text": "[[-0.864301 -0.896682 -0.917477]\n [-0.896682 -0.820258 -0.961519]\n [-0.917477 -0.961519 -0.799464]]\n[[-0.871369 -0.896848 -0.919854]\n [-0.896848 -0.814685 -0.958924]\n [-0.919854 -0.958924 -0.797926]]\n[[-0.873482 -0.897114 -0.920276]\n [-0.897114 -0.812909 -0.958236]\n [-0.920276 -0.958236 -0.797592]]\n[[-0.874223 -0.897412 -0.920139]\n [-0.897412 -0.81222  -0.958088]\n [-0.920139 -0.958088 -0.797552]]\n[[-0.874566 -0.897698 -0.91986 ]\n [-0.897698 -0.811817 -0.958092]\n [-0.91986  -0.958092 -0.797623]]\n[[-0.874789 -0.897975 -0.919547]\n [-0.897975 -0.811496 -0.958137]\n [-0.919547 -0.958137 -0.797728]]\n[[-0.874973 -0.898247 -0.91923 ]\n [-0.898247 -0.811204 -0.958191]\n [-0.91923  -0.958191 -0.797844]]\n[[-0.87514  -0.898515 -0.918916]\n [-0.898515 -0.810927 -0.958245]\n [-0.918916 -0.958245 -0.797962]]\n[[-0.875297 -0.898779 -0.918607]\n [-0.898779 -0.810659 -0.958298]\n [-0.918607 -0.958298 -0.79808 ]]\n[[-0.875445 -0.899038 -0.918305]\n [-0.899038 -0.8104   -0.958348]\n [-0.918305 -0.958348 -0.798197]]\n[[-0.875586 -0.899292 -0.91801 ]\n [-0.899292 -0.81015  -0.958396]\n [-0.91801  -0.958396 -0.798313]]\n[[-0.875719 -0.899542 -0.917722]\n [-0.899542 -0.809907 -0.958441]\n [-0.917722 -0.958441 -0.798429]]\n[[-0.875846 -0.899788 -0.91744 ]\n [-0.899788 -0.809673 -0.958484]\n [-0.91744  -0.958484 -0.798542]]\n[[-0.875966 -0.900029 -0.917165]\n [-0.900029 -0.809446 -0.958524]\n [-0.917165 -0.958524 -0.798655]]\n[[-0.87608  -0.900264 -0.916897]\n [-0.900264 -0.809226 -0.958563]\n [-0.916897 -0.958563 -0.798766]]\n[[-0.876187 -0.900495 -0.916635]\n [-0.900495 -0.809014 -0.958599]\n [-0.916635 -0.958599 -0.798876]]\n[[-0.876289 -0.900721 -0.91638 ]\n [-0.900721 -0.808809 -0.958633]\n [-0.91638  -0.958633 -0.798984]]\n[[-0.876385 -0.900942 -0.916132]\n [-0.900942 -0.80861  -0.958665]\n [-0.916132 -0.958665 -0.79909 ]]\n[[-0.876476 -0.901158 -0.91589 ]\n [-0.901158 -0.808419 -0.958695]\n [-0.91589  -0.958695 -0.799195]]\n[[-0.876562 -0.901369 -0.915655]\n [-0.901369 -0.808234 -0.958724]\n [-0.915655 -0.958724 -0.799298]]\n[[-0.876643 -0.901576 -0.915426]\n [-0.901576 -0.808055 -0.958751]\n [-0.915426 -0.958751 -0.799399]]\n[[-0.87672  -0.901777 -0.915204]\n [-0.901777 -0.807883 -0.958776]\n [-0.915204 -0.958776 -0.799499]]\n[[-0.876792 -0.901973 -0.914988]\n [-0.901973 -0.807717 -0.9588  ]\n [-0.914988 -0.9588   -0.799597]]\n[[-0.87686  -0.902164 -0.914778]\n [-0.902164 -0.807556 -0.958823]\n [-0.914778 -0.958823 -0.799692]]\n[[-0.876924 -0.90235  -0.914574]\n [-0.90235  -0.807401 -0.958844]\n [-0.914574 -0.958844 -0.799786]]\n[[-0.876984 -0.902532 -0.914375]\n [-0.902532 -0.807252 -0.958864]\n [-0.914375 -0.958864 -0.799878]]\n[[-0.877041 -0.902708 -0.914183]\n [-0.902708 -0.807108 -0.958883]\n [-0.914183 -0.958883 -0.799969]]\n[[-0.877094 -0.90288  -0.913996]\n [-0.90288  -0.806969 -0.9589  ]\n [-0.913996 -0.9589   -0.800057]]\n[[-0.877144 -0.903048 -0.913815]\n [-0.903048 -0.806835 -0.958917]\n [-0.913815 -0.958917 -0.800143]]\n[[-0.877192 -0.90321  -0.913639]\n [-0.90321  -0.806705 -0.958932]\n [-0.913639 -0.958932 -0.800228]]\n[[-0.877236 -0.903369 -0.913469]\n [-0.903369 -0.80658  -0.958947]\n [-0.913469 -0.958947 -0.80031 ]]\n[[-0.877278 -0.903523 -0.913303]\n [-0.903523 -0.80646  -0.958961]\n [-0.913303 -0.958961 -0.800391]]\n[[-0.877317 -0.903672 -0.913143]\n [-0.903672 -0.806344 -0.958974]\n [-0.913143 -0.958974 -0.80047 ]]\n[[-0.877353 -0.903818 -0.912988]\n [-0.903818 -0.806232 -0.958986]\n [-0.912988 -0.958986 -0.800547]]\n[[-0.877388 -0.903959 -0.912837]\n [-0.903959 -0.806124 -0.958997]\n [-0.912837 -0.958997 -0.800622]]\n[[-0.87742  -0.904096 -0.912691]\n [-0.904096 -0.80602  -0.959008]\n [-0.912691 -0.959008 -0.800695]]\n[[-0.877451 -0.904229 -0.91255 ]\n [-0.904229 -0.80592  -0.959018]\n [-0.91255  -0.959018 -0.800767]]\n[[-0.877479 -0.904358 -0.912413]\n [-0.904358 -0.805823 -0.959027]\n [-0.912413 -0.959027 -0.800836]]\n[[-0.877506 -0.904483 -0.91228 ]\n [-0.904483 -0.80573  -0.959036]\n [-0.91228  -0.959036 -0.800904]]\n[[-0.877531 -0.904605 -0.912151]\n [-0.904605 -0.80564  -0.959044]\n [-0.912151 -0.959044 -0.80097 ]]\n[[-0.877555 -0.904723 -0.912027]\n [-0.904723 -0.805553 -0.959052]\n [-0.912027 -0.959052 -0.801035]]\n[[-0.877577 -0.904837 -0.911906]\n [-0.904837 -0.805469 -0.959059]\n [-0.911906 -0.959059 -0.801097]]\n[[-0.877598 -0.904948 -0.91179 ]\n [-0.904948 -0.805388 -0.959066]\n [-0.91179  -0.959066 -0.801158]]\n[[-0.877617 -0.905056 -0.911677]\n [-0.905056 -0.80531  -0.959072]\n [-0.911677 -0.959072 -0.801218]]\n[[-0.877635 -0.905161 -0.911568]\n [-0.905161 -0.805235 -0.959078]\n [-0.911568 -0.959078 -0.801276]]\n[[-0.877652 -0.905262 -0.911462]\n [-0.905262 -0.805163 -0.959083]\n [-0.911462 -0.959083 -0.801332]]\n[[-0.877668 -0.90536  -0.911359]\n [-0.90536  -0.805093 -0.959089]\n [-0.911359 -0.959089 -0.801387]]\n[[-0.877683 -0.905455 -0.91126 ]\n [-0.905455 -0.805026 -0.959094]\n [-0.91126  -0.959094 -0.80144 ]]\n[[-0.877697 -0.905547 -0.911164]\n [-0.905547 -0.80496  -0.959098]\n [-0.911164 -0.959098 -0.801492]]\n[[-0.87771  -0.905636 -0.911071]\n [-0.905636 -0.804898 -0.959102]\n [-0.911071 -0.959102 -0.801542]]\n[[-0.877723 -0.905723 -0.910981]\n [-0.905723 -0.804837 -0.959106]\n [-0.910981 -0.959106 -0.801591]]\n[[-0.877734 -0.905807 -0.910895]\n [-0.905807 -0.804779 -0.95911 ]\n [-0.910895 -0.95911  -0.801638]]\n[[-0.877745 -0.905888 -0.91081 ]\n [-0.905888 -0.804723 -0.959114]\n [-0.91081  -0.959114 -0.801684]]\n[[-0.877755 -0.905966 -0.910729]\n [-0.905966 -0.804668 -0.959117]\n [-0.910729 -0.959117 -0.801729]]\n[[-0.877765 -0.906043 -0.91065 ]\n [-0.906043 -0.804616 -0.95912 ]\n [-0.91065  -0.95912  -0.801772]]\n[[-0.877773 -0.906116 -0.910574]\n [-0.906116 -0.804565 -0.959123]\n [-0.910574 -0.959123 -0.801814]]\n[[-0.877782 -0.906188 -0.9105  ]\n [-0.906188 -0.804516 -0.959126]\n [-0.9105   -0.959126 -0.801855]]\n[[-0.877789 -0.906257 -0.910429]\n [-0.906257 -0.804469 -0.959128]\n [-0.910429 -0.959128 -0.801895]]\n[[-0.877797 -0.906324 -0.91036 ]\n [-0.906324 -0.804424 -0.959131]\n [-0.91036  -0.959131 -0.801934]]\n[[-0.877804 -0.906389 -0.910293]\n [-0.906389 -0.80438  -0.959133]\n [-0.910293 -0.959133 -0.801971]]\n[[-0.87781  -0.906452 -0.910229]\n [-0.906452 -0.804337 -0.959135]\n [-0.910229 -0.959135 -0.802008]]\n[[-0.877816 -0.906513 -0.910167]\n [-0.906513 -0.804296 -0.959137]\n [-0.910167 -0.959137 -0.802043]]\n[[-0.877822 -0.906571 -0.910106]\n [-0.906571 -0.804257 -0.959139]\n [-0.910106 -0.959139 -0.802077]]\n[[-0.877827 -0.906628 -0.910048]\n [-0.906628 -0.804219 -0.95914 ]\n [-0.910048 -0.95914  -0.80211 ]]\n[[-0.877832 -0.906684 -0.909991]\n [-0.906684 -0.804182 -0.959142]\n [-0.909991 -0.959142 -0.802142]]\n[[-0.877836 -0.906737 -0.909937]\n [-0.906737 -0.804146 -0.959143]\n [-0.909937 -0.959143 -0.802173]]\n[[-0.877841 -0.906789 -0.909884]\n [-0.906789 -0.804112 -0.959145]\n [-0.909884 -0.959145 -0.802204]]\n[[-0.877845 -0.906839 -0.909833]\n [-0.906839 -0.804079 -0.959146]\n [-0.909833 -0.959146 -0.802233]]\n[[-0.877848 -0.906887 -0.909783]\n [-0.906887 -0.804047 -0.959147]\n [-0.909783 -0.959147 -0.802261]]\n[[-0.877852 -0.906934 -0.909735]\n [-0.906934 -0.804016 -0.959148]\n [-0.909735 -0.959148 -0.802289]]\n[[-0.877855 -0.906979 -0.909689]\n [-0.906979 -0.803986 -0.95915 ]\n [-0.909689 -0.95915  -0.802316]]\n[[-0.877858 -0.907023 -0.909644]\n [-0.907023 -0.803957 -0.959151]\n [-0.909644 -0.959151 -0.802342]]\n[[-0.877861 -0.907066 -0.909601]\n [-0.907066 -0.80393  -0.959151]\n [-0.909601 -0.959151 -0.802367]]\n[[-0.877864 -0.907107 -0.909559]\n [-0.907107 -0.803903 -0.959152]\n [-0.909559 -0.959152 -0.802391]]\n[[-0.877866 -0.907147 -0.909519]\n [-0.907147 -0.803877 -0.959153]\n [-0.909519 -0.959153 -0.802415]]\n[[-0.877869 -0.907185 -0.90948 ]\n [-0.907185 -0.803852 -0.959154]\n [-0.90948  -0.959154 -0.802437]]\n[[-0.877871 -0.907222 -0.909442]\n [-0.907222 -0.803828 -0.959155]\n [-0.909442 -0.959155 -0.802459]]\n[[-0.877873 -0.907258 -0.909405]\n [-0.907258 -0.803804 -0.959155]\n [-0.909405 -0.959155 -0.802481]]\n[[-0.877875 -0.907293 -0.90937 ]\n [-0.907293 -0.803782 -0.959156]\n [-0.90937  -0.959156 -0.802502]]\n[[-0.877877 -0.907327 -0.909336]\n [-0.907327 -0.80376  -0.959157]\n [-0.909336 -0.959157 -0.802522]]\n[[-0.877878 -0.90736  -0.909302]\n [-0.90736  -0.803739 -0.959157]\n [-0.909302 -0.959157 -0.802541]]\n[[-0.87788  -0.907391 -0.90927 ]\n [-0.907391 -0.803718 -0.959158]\n [-0.90927  -0.959158 -0.80256 ]]\n[[-0.877881 -0.907422 -0.909239]\n [-0.907422 -0.803699 -0.959158]\n [-0.909239 -0.959158 -0.802578]]\n[[-0.877883 -0.907451 -0.90921 ]\n [-0.907451 -0.80368  -0.959159]\n [-0.90921  -0.959159 -0.802596]]\n[[-0.877884 -0.90748  -0.909181]\n [-0.90748  -0.803661 -0.959159]\n [-0.909181 -0.959159 -0.802613]]\n[[-0.877885 -0.907508 -0.909153]\n [-0.907508 -0.803643 -0.959159]\n [-0.909153 -0.959159 -0.80263 ]]\n[[-0.877886 -0.907535 -0.909125]\n [-0.907535 -0.803626 -0.95916 ]\n [-0.909125 -0.95916  -0.802646]]\n[[-0.877887 -0.90756  -0.909099]\n [-0.90756  -0.80361  -0.95916 ]\n [-0.909099 -0.95916  -0.802661]]\n[[-0.877888 -0.907586 -0.909074]\n [-0.907586 -0.803594 -0.95916 ]\n [-0.909074 -0.95916  -0.802677]]\n[[-0.877889 -0.90761  -0.909049]\n [-0.90761  -0.803578 -0.959161]\n [-0.909049 -0.959161 -0.802691]]\n[[-0.87789  -0.907633 -0.909026]\n [-0.907633 -0.803563 -0.959161]\n [-0.909026 -0.959161 -0.802705]]\n[[-0.877891 -0.907656 -0.909003]\n [-0.907656 -0.803549 -0.959161]\n [-0.909003 -0.959161 -0.802719]]\n[[-0.877892 -0.907678 -0.908981]\n [-0.907678 -0.803535 -0.959161]\n [-0.908981 -0.959161 -0.802732]]\n[[-0.877893 -0.907699 -0.908959]\n [-0.907699 -0.803521 -0.959162]\n [-0.908959 -0.959162 -0.802745]]\n[[-0.877893 -0.90772  -0.908938]\n [-0.90772  -0.803508 -0.959162]\n [-0.908938 -0.959162 -0.802757]]\n[[-0.877894 -0.90774  -0.908918]\n [-0.90774  -0.803496 -0.959162]\n [-0.908918 -0.959162 -0.802769]]\n[[-0.877894 -0.907759 -0.908899]\n [-0.907759 -0.803484 -0.959162]\n [-0.908899 -0.959162 -0.802781]]\n[[-0.877895 -0.907777 -0.90888 ]\n [-0.907777 -0.803472 -0.959163]\n [-0.90888  -0.959163 -0.802792]]\n[[-0.877895 -0.907795 -0.908862]\n [-0.907795 -0.80346  -0.959163]\n [-0.908862 -0.959163 -0.802803]]\n[[-0.877896 -0.907813 -0.908845]\n [-0.907813 -0.803449 -0.959163]\n [-0.908845 -0.959163 -0.802814]]\n[[-0.877896 -0.90783  -0.908828]\n [-0.90783  -0.803439 -0.959163]\n [-0.908828 -0.959163 -0.802824]]\n[[-0.877897 -0.907846 -0.908811]\n [-0.907846 -0.803428 -0.959163]\n [-0.908811 -0.959163 -0.802834]]\n[[-0.877897 -0.907862 -0.908795]\n [-0.907862 -0.803419 -0.959163]\n [-0.908795 -0.959163 -0.802843]]\n[[-0.877898 -0.907877 -0.90878 ]\n [-0.907877 -0.803409 -0.959163]\n [-0.90878  -0.959163 -0.802853]]\n[[-0.877898 -0.907892 -0.908765]\n [-0.907892 -0.8034   -0.959163]\n [-0.908765 -0.959163 -0.802862]]\n[[-0.877898 -0.907906 -0.908751]\n [-0.907906 -0.803391 -0.959164]\n [-0.908751 -0.959164 -0.80287 ]]\n[[-0.877899 -0.90792  -0.908737]\n [-0.90792  -0.803382 -0.959164]\n [-0.908737 -0.959164 -0.802879]]\n[[-0.877899 -0.907933 -0.908723]\n [-0.907933 -0.803374 -0.959164]\n [-0.908723 -0.959164 -0.802887]]\n[[-0.877899 -0.907946 -0.90871 ]\n [-0.907946 -0.803366 -0.959164]\n [-0.90871  -0.959164 -0.802895]]\n[[-0.877899 -0.907959 -0.908698]\n [-0.907959 -0.803358 -0.959164]\n [-0.908698 -0.959164 -0.802902]]\n[[-0.8779   -0.907971 -0.908686]\n [-0.907971 -0.80335  -0.959164]\n [-0.908686 -0.959164 -0.80291 ]]\n[[-0.8779   -0.907982 -0.908674]\n [-0.907982 -0.803343 -0.959164]\n [-0.908674 -0.959164 -0.802917]]\n[[-0.8779   -0.907994 -0.908663]\n [-0.907994 -0.803336 -0.959164]\n [-0.908663 -0.959164 -0.802924]]\n[[-0.8779   -0.908005 -0.908652]\n [-0.908005 -0.803329 -0.959164]\n [-0.908652 -0.959164 -0.80293 ]]\n[[-0.8779   -0.908015 -0.908641]\n [-0.908015 -0.803322 -0.959164]\n [-0.908641 -0.959164 -0.802937]]\n[[-0.877901 -0.908025 -0.908631]\n [-0.908025 -0.803316 -0.959164]\n [-0.908631 -0.959164 -0.802943]]\n[[-0.877901 -0.908035 -0.908621]\n [-0.908035 -0.80331  -0.959164]\n [-0.908621 -0.959164 -0.802949]]\n[[-0.877901 -0.908045 -0.908611]\n [-0.908045 -0.803304 -0.959164]\n [-0.908611 -0.959164 -0.802955]]\n[[-0.877901 -0.908054 -0.908602]\n [-0.908054 -0.803298 -0.959164]\n [-0.908602 -0.959164 -0.80296 ]]\n[[-0.877901 -0.908063 -0.908593]\n [-0.908063 -0.803292 -0.959164]\n [-0.908593 -0.959164 -0.802966]]\n[[-0.877901 -0.908072 -0.908584]\n [-0.908072 -0.803287 -0.959165]\n [-0.908584 -0.959165 -0.802971]]\n[[-0.877901 -0.90808  -0.908576]\n [-0.90808  -0.803282 -0.959165]\n [-0.908576 -0.959165 -0.802976]]\n[[-0.877901 -0.908088 -0.908568]\n [-0.908088 -0.803277 -0.959165]\n [-0.908568 -0.959165 -0.802981]]\n[[-0.877901 -0.908096 -0.90856 ]\n [-0.908096 -0.803272 -0.959165]\n [-0.90856  -0.959165 -0.802986]]\n[[-0.877902 -0.908104 -0.908552]\n [-0.908104 -0.803267 -0.959165]\n [-0.908552 -0.959165 -0.802991]]\n[[-0.877902 -0.908111 -0.908545]\n [-0.908111 -0.803262 -0.959165]\n [-0.908545 -0.959165 -0.802995]]\n[[-0.877902 -0.908118 -0.908538]\n [-0.908118 -0.803258 -0.959165]\n [-0.908538 -0.959165 -0.803   ]]\n[[-0.877902 -0.908125 -0.908531]\n [-0.908125 -0.803254 -0.959165]\n [-0.908531 -0.959165 -0.803004]]\n[[-0.877902 -0.908132 -0.908524]\n [-0.908132 -0.80325  -0.959165]\n [-0.908524 -0.959165 -0.803008]]\n[[-0.877902 -0.908138 -0.908518]\n [-0.908138 -0.803246 -0.959165]\n [-0.908518 -0.959165 -0.803012]]\n[[-0.877902 -0.908144 -0.908511]\n [-0.908144 -0.803242 -0.959165]\n [-0.908511 -0.959165 -0.803016]]\n[[-0.877902 -0.90815  -0.908505]\n [-0.90815  -0.803238 -0.959165]\n [-0.908505 -0.959165 -0.803019]]\n[[-0.877902 -0.908156 -0.9085  ]\n [-0.908156 -0.803234 -0.959165]\n [-0.9085   -0.959165 -0.803023]]\n[[-0.877902 -0.908162 -0.908494]\n [-0.908162 -0.803231 -0.959165]\n [-0.908494 -0.959165 -0.803026]]\n[[-0.877902 -0.908167 -0.908488]\n [-0.908167 -0.803228 -0.959165]\n [-0.908488 -0.959165 -0.80303 ]]\n[[-0.877902 -0.908173 -0.908483]\n [-0.908173 -0.803224 -0.959165]\n [-0.908483 -0.959165 -0.803033]]\n[[-0.877902 -0.908178 -0.908478]\n [-0.908178 -0.803221 -0.959165]\n [-0.908478 -0.959165 -0.803036]]\n[[-0.877902 -0.908183 -0.908473]\n [-0.908183 -0.803218 -0.959165]\n [-0.908473 -0.959165 -0.803039]]\n[[-0.877902 -0.908187 -0.908468]\n [-0.908187 -0.803215 -0.959165]\n [-0.908468 -0.959165 -0.803042]]\n[[-0.877902 -0.908192 -0.908464]\n [-0.908192 -0.803212 -0.959165]\n [-0.908464 -0.959165 -0.803045]]\n[[-0.877902 -0.908196 -0.908459]\n [-0.908196 -0.803209 -0.959165]\n [-0.908459 -0.959165 -0.803047]]\n[[-0.877902 -0.908201 -0.908455]\n [-0.908201 -0.803207 -0.959165]\n [-0.908455 -0.959165 -0.80305 ]]\n[[-0.877902 -0.908205 -0.908451]\n [-0.908205 -0.803204 -0.959165]\n [-0.908451 -0.959165 -0.803053]]\n[[-0.877903 -0.908209 -0.908447]\n [-0.908209 -0.803202 -0.959165]\n [-0.908447 -0.959165 -0.803055]]\n[[-0.877903 -0.908213 -0.908443]\n [-0.908213 -0.803199 -0.959165]\n [-0.908443 -0.959165 -0.803058]]\n[[-0.877903 -0.908217 -0.908439]\n [-0.908217 -0.803197 -0.959165]\n [-0.908439 -0.959165 -0.80306 ]]\n[[-0.877903 -0.90822  -0.908435]\n [-0.90822  -0.803195 -0.959165]\n [-0.908435 -0.959165 -0.803062]]\n[[-0.877903 -0.908224 -0.908432]\n [-0.908224 -0.803193 -0.959165]\n [-0.908432 -0.959165 -0.803064]]\n[[-0.877903 -0.908227 -0.908429]\n [-0.908227 -0.80319  -0.959165]\n [-0.908429 -0.959165 -0.803066]]\n[[-0.877903 -0.90823  -0.908425]\n [-0.90823  -0.803188 -0.959165]\n [-0.908425 -0.959165 -0.803068]]\n[[-0.877903 -0.908234 -0.908422]\n [-0.908234 -0.803186 -0.959165]\n [-0.908422 -0.959165 -0.80307 ]]\n[[-0.877903 -0.908237 -0.908419]\n [-0.908237 -0.803185 -0.959165]\n [-0.908419 -0.959165 -0.803072]]\n[[-0.877903 -0.90824  -0.908416]\n [-0.90824  -0.803183 -0.959165]\n [-0.908416 -0.959165 -0.803074]]\n[[-0.877903 -0.908243 -0.908413]\n [-0.908243 -0.803181 -0.959165]\n [-0.908413 -0.959165 -0.803076]]\n[[-0.877903 -0.908245 -0.90841 ]\n [-0.908245 -0.803179 -0.959165]\n [-0.90841  -0.959165 -0.803078]]\n[[-0.877903 -0.908248 -0.908408]\n [-0.908248 -0.803177 -0.959165]\n [-0.908408 -0.959165 -0.803079]]\n[[-0.877903 -0.908251 -0.908405]\n [-0.908251 -0.803176 -0.959165]\n [-0.908405 -0.959165 -0.803081]]\n[[-0.877903 -0.908253 -0.908402]\n [-0.908253 -0.803174 -0.959165]\n [-0.908402 -0.959165 -0.803082]]\n[[-0.877903 -0.908256 -0.9084  ]\n [-0.908256 -0.803173 -0.959165]\n [-0.9084   -0.959165 -0.803084]]\n[[-0.877903 -0.908258 -0.908398]\n [-0.908258 -0.803171 -0.959165]\n [-0.908398 -0.959165 -0.803085]]\n[[-0.877903 -0.90826  -0.908395]\n [-0.90826  -0.80317  -0.959165]\n [-0.908395 -0.959165 -0.803087]]\n[[-0.877903 -0.908262 -0.908393]\n [-0.908262 -0.803169 -0.959165]\n [-0.908393 -0.959165 -0.803088]]\n[[-0.877903 -0.908265 -0.908391]\n [-0.908265 -0.803167 -0.959165]\n [-0.908391 -0.959165 -0.803089]]\n[[-0.877903 -0.908267 -0.908389]\n [-0.908267 -0.803166 -0.959165]\n [-0.908389 -0.959165 -0.803091]]\n[[-0.877903 -0.908269 -0.908387]\n [-0.908269 -0.803165 -0.959165]\n [-0.908387 -0.959165 -0.803092]]\n[[-0.877903 -0.908271 -0.908385]\n [-0.908271 -0.803164 -0.959165]\n [-0.908385 -0.959165 -0.803093]]\n[[-0.877903 -0.908273 -0.908383]\n [-0.908273 -0.803162 -0.959165]\n [-0.908383 -0.959165 -0.803094]]\n[[-0.877903 -0.908274 -0.908381]\n [-0.908274 -0.803161 -0.959165]\n [-0.908381 -0.959165 -0.803095]]\n[[-0.877903 -0.908276 -0.908379]\n [-0.908276 -0.80316  -0.959165]\n [-0.908379 -0.959165 -0.803096]]\n[[-0.877903 -0.908278 -0.908378]\n [-0.908278 -0.803159 -0.959165]\n [-0.908378 -0.959165 -0.803097]]\n[[-0.877903 -0.908279 -0.908376]\n [-0.908279 -0.803158 -0.959165]\n [-0.908376 -0.959165 -0.803098]]\n[[-0.877903 -0.908281 -0.908375]\n [-0.908281 -0.803157 -0.959165]\n [-0.908375 -0.959165 -0.803099]]\n[[-0.877903 -0.908283 -0.908373]\n [-0.908283 -0.803156 -0.959165]\n [-0.908373 -0.959165 -0.8031  ]]\n[[-0.877903 -0.908284 -0.908372]\n [-0.908284 -0.803155 -0.959165]\n [-0.908372 -0.959165 -0.803101]]\n[[-0.877903 -0.908285 -0.90837 ]\n [-0.908285 -0.803154 -0.959165]\n [-0.90837  -0.959165 -0.803102]]\n[[-0.877903 -0.908287 -0.908369]\n [-0.908287 -0.803154 -0.959165]\n [-0.908369 -0.959165 -0.803103]]\n[[-0.877903 -0.908288 -0.908367]\n [-0.908288 -0.803153 -0.959165]\n [-0.908367 -0.959165 -0.803104]]\n[[-0.877903 -0.908289 -0.908366]\n [-0.908289 -0.803152 -0.959165]\n [-0.908366 -0.959165 -0.803105]]\n[[-0.877903 -0.908291 -0.908365]\n [-0.908291 -0.803151 -0.959165]\n [-0.908365 -0.959165 -0.803105]]\n[[-0.877903 -0.908292 -0.908364]\n [-0.908292 -0.80315  -0.959165]\n [-0.908364 -0.959165 -0.803106]]\n[[-0.877903 -0.908293 -0.908362]\n [-0.908293 -0.80315  -0.959165]\n [-0.908362 -0.959165 -0.803107]]\n[[-0.877903 -0.908294 -0.908361]\n [-0.908294 -0.803149 -0.959165]\n [-0.908361 -0.959165 -0.803108]]\n[[-0.877903 -0.908295 -0.90836 ]\n [-0.908295 -0.803148 -0.959165]\n [-0.90836  -0.959165 -0.803108]]\n[[-0.877903 -0.908296 -0.908359]\n [-0.908296 -0.803148 -0.959165]\n [-0.908359 -0.959165 -0.803109]]\n"
    }
   ],
   "source": [
    "cuhf_qc_structure_thesis_fixed = gqcpy.UHF.optimize(CUHF_algorithm_thesis_fixed, environment)\n",
    "cuhf_energy_thesis_fixed = cuhf_qc_structure_thesis_fixed.groundStateEnergy()\n",
    "cuhf_parameters_thesis_fixed = cuhf_qc_structure_thesis_fixed.groundStateParameters()"
   ]
  },
  {
   "cell_type": "code",
   "execution_count": 24,
   "metadata": {},
   "outputs": [
    {
     "output_type": "stream",
     "name": "stdout",
     "text": "[[ 3.405967 -1.511354 -1.508986]\n [-1.511354  0.949034  0.947898]\n [-1.508986  0.947898  0.946765]]\n"
    }
   ],
   "source": [
    "print(environment.density_matrices_alpha[-1])"
   ]
  },
  {
   "cell_type": "code",
   "execution_count": 25,
   "metadata": {
    "scrolled": true
   },
   "outputs": [
    {
     "output_type": "stream",
     "name": "stdout",
     "text": "CUHF electronic energy (thesis): -3.63052195\n\nCUHF C_alpha (thesis):\n[[-3.815161e-01 -1.805661e+00 -7.302710e-04]\n [-3.469386e-01  9.102912e-01 -1.567473e+00]\n [-3.470430e-01  9.090451e-01  1.568173e+00]]\n\nCUHF C_beta (thesis):\n[[ 2.610739e-01  6.286833e-04 -1.826967e+00]\n [ 4.064740e-01  1.567522e+00  8.852243e-01]\n [ 4.064936e-01 -1.568124e+00  8.841481e-01]]\n\n"
    }
   ],
   "source": [
    "print(\"CUHF electronic energy (thesis): {:.8f}\\n\".format(cuhf_energy_thesis_fixed))\n",
    "print(\"CUHF C_alpha (thesis):\\n{}\\n\".format(cuhf_parameters_thesis_fixed.expansion(gqcpy.Spin.alpha)))\n",
    "print(\"CUHF C_beta (thesis):\\n{}\\n\".format(cuhf_parameters_thesis_fixed.expansion(gqcpy.Spin.beta)))"
   ]
  }
 ],
 "metadata": {
  "kernelspec": {
   "display_name": "Python 3",
   "language": "python",
   "name": "python3"
  },
  "language_info": {
   "codemirror_mode": {
    "name": "ipython",
    "version": 3
   },
   "file_extension": ".py",
   "mimetype": "text/x-python",
   "name": "python",
   "nbconvert_exporter": "python",
   "pygments_lexer": "ipython3",
   "version": "3.7.7"
  }
 },
 "nbformat": 4,
 "nbformat_minor": 2
}