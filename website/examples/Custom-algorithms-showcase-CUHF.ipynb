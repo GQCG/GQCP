{
 "cells": [
  {
   "cell_type": "markdown",
   "metadata": {
    "slideshow": {
     "slide_type": "-"
    }
   },
   "source": [
    "# Custom algorithms showcase - CUHF"
   ]
  },
  {
   "cell_type": "code",
   "execution_count": 1,
   "metadata": {
    "scrolled": true
   },
   "outputs": [],
   "source": [
    "# Force the local gqcpy to be imported\n",
    "import sys\n",
    "sys.path.insert(0, '../../build/gqcpy/')\n",
    "\n",
    "import gqcpy\n",
    "import numpy as np\n",
    "\n",
    "np.set_printoptions(precision=6, linewidth=120)"
   ]
  },
  {
   "cell_type": "markdown",
   "metadata": {},
   "source": [
    "So, recently, there has been a lot of research in our group concerned with **CUHF**: 'constrained' UHF. This is trying to modify UHF SCF with a constraint such that it should convergence to ROHF.\n",
    "\n",
    "Since the nature of the proposed algorithms is inherently related to _modifying_ an _existing_ UHF SCF algorithm (plain, DIIS, ...) but with a small extra step or two, I think this is an excellent showcase for `GQCP`'s 'injection' capabilities`."
   ]
  },
  {
   "cell_type": "markdown",
   "metadata": {},
   "source": [
    "## Molecular setup"
   ]
  },
  {
   "cell_type": "markdown",
   "metadata": {},
   "source": [
    "Let us start by defining the molecular system under consideration. We'll take an H3-ring, 1 a.u. apart and in the STO-3G basisset."
   ]
  },
  {
   "cell_type": "code",
   "execution_count": 2,
   "metadata": {
    "scrolled": true
   },
   "outputs": [
    {
     "name": "stdout",
     "output_type": "stream",
     "text": [
      "Number of electrons: 3 \n",
      "H  (0.57735, 0, 0)\n",
      "H  (-0.288675, 0.5, 0)\n",
      "H  (-0.288675, -0.5, 0)\n",
      "\n",
      "Number of alpha electrons: 2\n",
      "Number of beta electrons: 1\n"
     ]
    }
   ],
   "source": [
    "molecule = gqcpy.Molecule.HRingFromDistance(3, 1.0)\n",
    "N = molecule.numberOfElectrons()\n",
    "N_P = molecule.numberOfElectronPairs()  # rounds down\n",
    "N_alpha = N_P + 1\n",
    "N_beta = N_P\n",
    "\n",
    "print(molecule)\n",
    "print(\"Number of alpha electrons: {}\".format(N_alpha))\n",
    "print(\"Number of beta electrons: {}\".format(N_beta))"
   ]
  },
  {
   "cell_type": "markdown",
   "metadata": {},
   "source": [
    "In order to start any calculations, we need to calculate the molecular integrals. In `GQCP`, this is done by creating a restricted spin-orbital basis:"
   ]
  },
  {
   "cell_type": "code",
   "execution_count": 3,
   "metadata": {
    "scrolled": true
   },
   "outputs": [],
   "source": [
    "spinor_basis = gqcpy.USpinOrbitalBasis_d(molecule, \"STO-3G\")  # in AO basis; atomic spin-orbitals\n",
    "S = spinor_basis.overlap()  # in AO basis"
   ]
  },
  {
   "cell_type": "markdown",
   "metadata": {},
   "source": [
    "Then, we will quantize the molecular Hamiltonian (in which the interactions terms are the electron's kinetic energy, the nucleus-electron attraction and the interelectronic repulson) in that spin-orbital basis:"
   ]
  },
  {
   "cell_type": "code",
   "execution_count": 4,
   "metadata": {
    "scrolled": true
   },
   "outputs": [],
   "source": [
    "sq_hamiltonian = gqcpy.USQHamiltonian_d.Molecular(spinor_basis, molecule)  # in AO basis"
   ]
  },
  {
   "cell_type": "markdown",
   "metadata": {},
   "source": [
    "## The standard 'plain' UHF SCF algorithm"
   ]
  },
  {
   "cell_type": "markdown",
   "metadata": {},
   "source": [
    "Let's establish a base line for the algorithms by examining the standard 'plain' UHF SCF algorithm. In `GQCP`, we have implemented algorithms and environments:\n",
    "\n",
    "- an _environment_ acts as a 'calculation space', storing intermediate calculations;\n",
    "- an _algorithm_ and its composing _steps_ continuously modify the environment."
   ]
  },
  {
   "cell_type": "markdown",
   "metadata": {},
   "source": [
    "For UHF SCF, we use an `UHFSCFEnvironment`:"
   ]
  },
  {
   "cell_type": "code",
   "execution_count": 5,
   "metadata": {
    "scrolled": true
   },
   "outputs": [],
   "source": [
    "environment = gqcpy.UHFSCFEnvironment_d.WithCoreGuess(N_alpha, N_beta, sq_hamiltonian, S)"
   ]
  },
  {
   "cell_type": "markdown",
   "metadata": {},
   "source": [
    "where we have initialized the alpha- and beta-coefficient matrices with the (generalized) eigenvectors of the core Hamiltonian (in AO basis)."
   ]
  },
  {
   "cell_type": "markdown",
   "metadata": {},
   "source": [
    "Let's now take a look at the plain UHF SCF solver:"
   ]
  },
  {
   "cell_type": "code",
   "execution_count": 6,
   "metadata": {
    "scrolled": true
   },
   "outputs": [
    {
     "name": "stdout",
     "output_type": "stream",
     "text": [
      "An iterative algorithm (with a maximum of 1000 iterations) consisting of the following steps:\n",
      "An algorithmic step consisting of 4 algorithmic steps:\n",
      "\t1. Calculate the current UHF alpha and beta density matrices (in the AO basis) and place them in the environment.\n",
      "\t2. Calculate the current UHF Fock matrices (expressed in the scalar/AO basis) and place them in the environment.\n",
      "\t3. Solve the generalized eigenvalue problem for the most recent scalar/AO Fock matrices. Add the associated coefficient matrices and orbital energies to the environment.\n",
      "\t4. Calculate the current electronic UHF energy and place it in the environment.\n",
      "\n",
      "With the following convergence criterion:\n",
      "A convergence criterion that checks if the norm of the difference of two iterates (the UHF spin resolved density matrix in AO basis) is converged, with a tolerance of 1.00e-04.\n"
     ]
    }
   ],
   "source": [
    "plain_algorithm = gqcpy.UHFSCFSolver_d.Plain(threshold=1.0e-04, maximum_number_of_iterations=1000)\n",
    "\n",
    "print(plain_algorithm.description())"
   ]
  },
  {
   "cell_type": "markdown",
   "metadata": {},
   "source": [
    "With this algorithm, let's check the UHF SCF procedure."
   ]
  },
  {
   "cell_type": "code",
   "execution_count": 7,
   "metadata": {
    "scrolled": true
   },
   "outputs": [],
   "source": [
    "uhf_qc_structure = gqcpy.UHF_d.optimize(plain_algorithm, environment)"
   ]
  },
  {
   "cell_type": "code",
   "execution_count": 8,
   "metadata": {
    "scrolled": true
   },
   "outputs": [],
   "source": [
    "uhf_energy = uhf_qc_structure.groundStateEnergy()\n",
    "uhf_parameters = uhf_qc_structure.groundStateParameters()"
   ]
  },
  {
   "cell_type": "code",
   "execution_count": 9,
   "metadata": {
    "scrolled": true
   },
   "outputs": [
    {
     "name": "stdout",
     "output_type": "stream",
     "text": [
      "UHF electronic energy: -3.63114631\n",
      "\n",
      "UHF C_alpha:\n",
      "[[-0.371811 -1.569159 -0.897477]\n",
      " [-0.371698  1.566484 -0.902185]\n",
      " [-0.331961  0.002738  1.815423]]\n",
      "\n",
      "UHF C_beta:\n",
      "[[ 0.300995  0.923321 -1.569346]\n",
      " [ 0.301463  0.928335  1.566296]\n",
      " [ 0.471022 -1.784404  0.002783]]\n",
      "\n"
     ]
    }
   ],
   "source": [
    "print(\"UHF electronic energy: {:.8f}\\n\".format(uhf_energy))\n",
    "print(\"UHF C_alpha:\\n{}\\n\".format(uhf_parameters.expansion().alpha.matrix()))\n",
    "print(\"UHF C_beta:\\n{}\\n\".format(uhf_parameters.expansion().beta.matrix()))"
   ]
  },
  {
   "cell_type": "markdown",
   "metadata": {},
   "source": [
    "## The CUHF (Scuseria/thesis) algorithm"
   ]
  },
  {
   "cell_type": "markdown",
   "metadata": {},
   "source": [
    "One of the CUHF algorithms described by Scuseria's group can be found in the PhD thesis by T. Tsuchimochi. Since this algorithm uses a modification of the UHF alpha- and beta-Fock matrices, this is an ideal opportunity to use `GQCP`'s injection capabilities."
   ]
  },
  {
   "cell_type": "markdown",
   "metadata": {},
   "source": [
    "I've taken the reference implementation from Xeno's [ghf](https://github.com/GQCG/ghf) repository, and adapted it to `GQCP`.\n",
    "\n",
    "We start off by defining a `Python` function that modifies the alpha- and beta- Fock matrices in an `UHFSCFEnvironment`. We then wrap that `Python` function into a special class `FunctionalStep_UHFSCFEnvironment`, which allows for the bridging between `Python` functions and `GQCP`'s Algorithm framework."
   ]
  },
  {
   "cell_type": "code",
   "execution_count": 10,
   "metadata": {
    "scrolled": true
   },
   "outputs": [],
   "source": [
    "def constrain_function_thesis(environment):\n",
    "    \"\"\"Replace the alpha- and beta- UHF Fock matrices by their constrained counterparts, as explained in the CUHF 'thesis' algorithm.\"\"\"\n",
    "\n",
    "    # Prepare some variables to be used in the algorithm.\n",
    "    X = spinor_basis.lowdinOrthonormalization().alpha.matrix()  # the transformation matrix TO an orthonormal basis\n",
    "    \n",
    "    F_alpha = environment.fock_matrices[-1].alpha.parameters()  # in AO basis\n",
    "\n",
    "    F_beta = environment.fock_matrices[-1].beta.parameters()  # in AO basis\n",
    "    \n",
    "    D_alpha = environment.density_matrices[-1].alpha  # in AO basis\n",
    "    D_beta = environment.density_matrices[-1].beta  # in AO basis\n",
    "\n",
    "    N_alpha = environment.N.alpha\n",
    "    N_beta = environment.N.beta\n",
    "    \n",
    "\n",
    "    # Form the closed-shell Fock matrix and the UHF modification.\n",
    "    F_cs = (F_alpha + F_beta) / 2.0  # the closed-shell Fock matrix, in AO basis\n",
    "    Delta_UHF = (F_alpha - F_beta) / 2.0  # in AO basis\n",
    "    \n",
    "\n",
    "    # Form modified Fock matrices.\n",
    "    F_aa = F_cs + Delta_UHF\n",
    "    F_bb = F_cs - Delta_UHF\n",
    "\n",
    "\n",
    "    # Find the natural occupation numbers and vectors by diagonalizing the charge-density matrix in an orthonormal basis.\n",
    "    P_AO = (D_alpha + D_beta) / 2.0\n",
    "    P_MO = np.linalg.inv(X) @ P_AO @ np.linalg.inv(X.T)\n",
    "    natural_occupation_numbers, V = np.linalg.eigh(P_MO)\n",
    "\n",
    "\n",
    "    # Construct the Langrange multipliers to add them to the 'constrained' Fock matrices.\n",
    "    Delta_UHF_NO = np.linalg.inv(V) @ np.linalg.inv(X) @ Delta_UHF @ np.linalg.inv(X.T) @ np.linalg.inv(V.T)  # in the natural occupation (NO) basis\n",
    "    Lambda_NO = np.zeros(np.shape(Delta_UHF_NO))\n",
    "    Lambda_NO[:N_beta, N_alpha:] = -Delta_UHF_NO[:N_beta, N_alpha:]\n",
    "    Lambda_NO[N_alpha:, :N_beta] = -Delta_UHF_NO[N_alpha:, :N_beta]\n",
    "    Lambda_AO = X @ V @ Lambda_NO @ V.T @ X.T\n",
    "    \n",
    "\n",
    "    # Overwrite the most recent UHF Fock matrices with the cUHF ones\n",
    "    \n",
    "    F_alpha_constrained = F_aa + Lambda_AO\n",
    "    #environment.replace_current_fock_matrix_alpha(F_alpha_constrained)\n",
    "\n",
    "    F_beta_constrained = F_bb - Lambda_AO\n",
    "    #environment.replace_current_fock_matrix_beta(F_beta_constrained)\n",
    "    environment.replace_current_fock_matrices(F_alpha_constrained, F_beta_constrained)\n",
    "\n",
    "\n",
    "constrain_step_thesis = gqcpy.FunctionalStep_UHFSCFEnvironment_d(constrain_function_thesis, description=\"Replace the alpha- and beta- UHF Fock matrices by their constrained counterparts, as explained in the CUHF 'thesis' algorithm.\")"
   ]
  },
  {
   "cell_type": "markdown",
   "metadata": {},
   "source": [
    "We'll now modify the plain UHF SCF algorithm with this modification `constrain_step_thesis`. From the algorithmic description printed above, we'll have to insert the Fock matrix modification at index `2`."
   ]
  },
  {
   "cell_type": "code",
   "execution_count": 11,
   "metadata": {
    "scrolled": true
   },
   "outputs": [
    {
     "name": "stdout",
     "output_type": "stream",
     "text": [
      "An iterative algorithm (with a maximum of 1000 iterations) consisting of the following steps:\n",
      "An algorithmic step consisting of 5 algorithmic steps:\n",
      "\t1. Calculate the current UHF alpha and beta density matrices (in the AO basis) and place them in the environment.\n",
      "\t2. Calculate the current UHF Fock matrices (expressed in the scalar/AO basis) and place them in the environment.\n",
      "\t3. Replace the alpha- and beta- UHF Fock matrices by their constrained counterparts, as explained in the CUHF 'thesis' algorithm.\n",
      "\t4. Solve the generalized eigenvalue problem for the most recent scalar/AO Fock matrices. Add the associated coefficient matrices and orbital energies to the environment.\n",
      "\t5. Calculate the current electronic UHF energy and place it in the environment.\n",
      "\n",
      "With the following convergence criterion:\n",
      "A convergence criterion that checks if the norm of the difference of two iterates (the UHF spin resolved density matrix in AO basis) is converged, with a tolerance of 1.00e-04.\n"
     ]
    }
   ],
   "source": [
    "CUHF_algorithm_thesis = gqcpy.UHFSCFSolver_d.Plain(threshold = 1.0e-04, maximum_number_of_iterations = 1000)\n",
    "\n",
    "CUHF_algorithm_thesis.insert(constrain_step_thesis, 2)\n",
    "print(CUHF_algorithm_thesis.description())"
   ]
  },
  {
   "cell_type": "markdown",
   "metadata": {},
   "source": [
    "Since we've now created the `CUHF_algorithm_thesis`, which is still an UHF SCF solver, we can set up an environment and optimize the CUHF model parameters."
   ]
  },
  {
   "cell_type": "code",
   "execution_count": 12,
   "metadata": {
    "scrolled": true
   },
   "outputs": [],
   "source": [
    "environment = gqcpy.UHFSCFEnvironment_d.WithCoreGuess(N_alpha, N_beta, sq_hamiltonian, S)"
   ]
  },
  {
   "cell_type": "code",
   "execution_count": 13,
   "metadata": {
    "scrolled": true
   },
   "outputs": [],
   "source": [
    "cuhf_qc_structure_thesis = gqcpy.UHF_d.optimize(CUHF_algorithm_thesis, environment)\n",
    "cuhf_energy_thesis = cuhf_qc_structure_thesis.groundStateEnergy()\n",
    "cuhf_parameters_thesis = cuhf_qc_structure_thesis.groundStateParameters()"
   ]
  },
  {
   "cell_type": "code",
   "execution_count": 14,
   "metadata": {
    "scrolled": true
   },
   "outputs": [
    {
     "name": "stdout",
     "output_type": "stream",
     "text": [
      "CUHF electronic energy (thesis): -3.63052195\n",
      "\n",
      "CUHF C_alpha (thesis):\n",
      "[[-3.815161e-01 -1.805661e+00 -8.282540e-05]\n",
      " [-3.469804e-01  9.097379e-01 -1.567785e+00]\n",
      " [-3.470012e-01  9.095985e-01  1.567861e+00]]\n",
      "\n",
      "CUHF C_beta (thesis):\n",
      "[[ 2.610739e-01  9.069672e-06 -1.826967e+00]\n",
      " [ 4.064862e-01  1.567818e+00  8.846944e-01]\n",
      " [ 4.064814e-01 -1.567828e+00  8.846781e-01]]\n",
      "\n"
     ]
    }
   ],
   "source": [
    "print(\"CUHF electronic energy (thesis): {:.8f}\\n\".format(cuhf_energy_thesis))\n",
    "print(\"CUHF C_alpha (thesis):\\n{}\\n\".format(cuhf_parameters_thesis.expansion().alpha.matrix()))\n",
    "print(\"CUHF C_beta (thesis):\\n{}\\n\".format(cuhf_parameters_thesis.expansion().beta.matrix()))"
   ]
  },
  {
   "cell_type": "markdown",
   "metadata": {},
   "source": [
    "## The CUHF (Bultinck) algorithm"
   ]
  },
  {
   "cell_type": "markdown",
   "metadata": {},
   "source": [
    "A different CUHF algorithm was formulated by P. Bultinck. We'll use the same injection approach.\n",
    "\n",
    "Again, we've adapted the algorithm in the [ghf](https://github.com/GQCG/ghf)."
   ]
  },
  {
   "cell_type": "code",
   "execution_count": 15,
   "metadata": {
    "scrolled": true
   },
   "outputs": [],
   "source": [
    "def constrain_function_bultinck(environment):\n",
    "    \"\"\"Replace the alpha- and beta- UHF coefficient matrices by their constrained counterparts, as explained in the CUHF algorithm devised by Patrick Bultinck.\"\"\"\n",
    "\n",
    "    # 'Extract' the required ingredients from the environment.\n",
    "    N_beta = environment.N.beta\n",
    "    \n",
    "    C_alpha = environment.coefficient_matrices[-1].alpha\n",
    "    C_a = C_alpha.matrix()\n",
    "    C_beta = environment.coefficient_matrices[-1].beta\n",
    "    C_b = C_beta.matrix()\n",
    "    \n",
    "    # Apply the 'constraint'.\n",
    "    C_b[:, :N_beta] = C_a[:, :N_beta]  # make sure the occupied beta spin-orbitals are the same as the lowest alpha spin-orbitals\n",
    "\n",
    "\n",
    "    # Overwrite the current coefficient matrices with their constraint versions.\n",
    "    # We haven't modified C_alpha, so we only have to replace the current beta coefficient matrix.\n",
    "    environment.replace_current_coefficient_matrices(C_a, C_b)\n",
    "\n",
    "\n",
    "constrain_step_bultinck = gqcpy.FunctionalStep_UHFSCFEnvironment_d(constrain_function_bultinck, \"Replace the alpha- and beta- UHF coefficient matrices by their constrained counterparts, as explained in the CUHF algorithm devised by Patrick Bultinck.\")"
   ]
  },
  {
   "cell_type": "markdown",
   "metadata": {},
   "source": [
    "We now modify the plain UHF SCF algorithm with this constrain step, which we insert right before the next iteration starts, so at the end of the current algorithm."
   ]
  },
  {
   "cell_type": "code",
   "execution_count": 16,
   "metadata": {
    "scrolled": true
   },
   "outputs": [
    {
     "name": "stdout",
     "output_type": "stream",
     "text": [
      "An iterative algorithm (with a maximum of 2 iterations) consisting of the following steps:\n",
      "An algorithmic step consisting of 5 algorithmic steps:\n",
      "\t1. Calculate the current UHF alpha and beta density matrices (in the AO basis) and place them in the environment.\n",
      "\t2. Calculate the current UHF Fock matrices (expressed in the scalar/AO basis) and place them in the environment.\n",
      "\t3. Solve the generalized eigenvalue problem for the most recent scalar/AO Fock matrices. Add the associated coefficient matrices and orbital energies to the environment.\n",
      "\t4. Calculate the current electronic UHF energy and place it in the environment.\n",
      "\t5. Replace the alpha- and beta- UHF coefficient matrices by their constrained counterparts, as explained in the CUHF algorithm devised by Patrick Bultinck.\n",
      "\n",
      "With the following convergence criterion:\n",
      "A convergence criterion that checks if the norm of the difference of two iterates (the UHF spin resolved density matrix in AO basis) is converged, with a tolerance of 1.00e-04.\n"
     ]
    }
   ],
   "source": [
    "CUHF_algorithm_bultinck = gqcpy.UHFSCFSolver_d.Plain(threshold = 1.0e-04, maximum_number_of_iterations = 2)\n",
    "CUHF_algorithm_bultinck.insert(constrain_step_bultinck, 4)  # at the end\n",
    "print(CUHF_algorithm_bultinck.description())"
   ]
  },
  {
   "cell_type": "markdown",
   "metadata": {},
   "source": [
    "We then proceed as usual, by creating an environment and optimizing the CUHF model parameters."
   ]
  },
  {
   "cell_type": "code",
   "execution_count": 17,
   "metadata": {
    "scrolled": true
   },
   "outputs": [],
   "source": [
    "environment = gqcpy.UHFSCFEnvironment_d.WithCoreGuess(N_alpha, N_beta, sq_hamiltonian, S)"
   ]
  },
  {
   "cell_type": "code",
   "execution_count": 18,
   "metadata": {
    "scrolled": true
   },
   "outputs": [],
   "source": [
    "cuhf_qc_structure_bultinck = gqcpy.UHF_d.optimize(CUHF_algorithm_bultinck, environment)\n",
    "cuhf_energy_bultinck = cuhf_qc_structure_bultinck.groundStateEnergy()\n",
    "cuhf_parameters_bultinck = cuhf_qc_structure_bultinck.groundStateParameters()"
   ]
  },
  {
   "cell_type": "code",
   "execution_count": 19,
   "metadata": {
    "scrolled": true
   },
   "outputs": [
    {
     "name": "stdout",
     "output_type": "stream",
     "text": [
      "CUHF electronic energy (P. Bultinck): -3.62680102\n",
      "\n",
      "CUHF C_alpha (P. Bultinck):\n",
      "[[-0.358528 -1.787319 -0.287954]\n",
      " [-0.358528  1.143034 -1.403887]\n",
      " [-0.358528  0.644284  1.69184 ]]\n",
      "\n",
      "CUHF C_beta (P. Bultinck):\n",
      "[[-0.358528  0.27704  -1.801008]\n",
      " [-0.358528  1.421345  1.117341]\n",
      " [-0.358528 -1.67858   0.647182]]\n",
      "\n"
     ]
    }
   ],
   "source": [
    "print(\"CUHF electronic energy (P. Bultinck): {:.8f}\\n\".format(cuhf_energy_bultinck))\n",
    "print(\"CUHF C_alpha (P. Bultinck):\\n{}\\n\".format(cuhf_parameters_bultinck.expansion().alpha.matrix()))\n",
    "print(\"CUHF C_beta (P. Bultinck):\\n{}\\n\".format(cuhf_parameters_bultinck.expansion().beta.matrix()))"
   ]
  },
  {
   "cell_type": "markdown",
   "metadata": {},
   "source": [
    "## Bonus: changing the thesis algorithm"
   ]
  },
  {
   "cell_type": "markdown",
   "metadata": {},
   "source": [
    "Something seemed peculiar to me about the transformations of the density matrices and operators in the 'thesis'-inspired CUHF modification. I proceeded by 'fixing' these transformation formulas in the following modification."
   ]
  },
  {
   "cell_type": "code",
   "execution_count": 20,
   "metadata": {
    "scrolled": true
   },
   "outputs": [],
   "source": [
    "def constrain_function_thesis_fixed(environment):\n",
    "    \"\"\"Replace the alpha- and beta- UHF Fock matrices by their constrained counterparts, as explained in the CUHF 'thesis' algorithm.\"\"\"\n",
    "\n",
    "    # Prepare some variables to be used in the algorithm.\n",
    "    X = spinor_basis.lowdinOrthonormalization().alpha.matrix()  # the transformation matrix TO an orthonormal basis\n",
    "    \n",
    "    F_alpha = environment.fock_matrices[-1].alpha.parameters()  # in AO basis\n",
    "\n",
    "    F_beta = environment.fock_matrices[-1].beta.parameters()  # in AO basis\n",
    "    \n",
    "    D_alpha = environment.density_matrices[-1].alpha  # in AO basis\n",
    "    D_beta = environment.density_matrices[-1].alpha  # in AO basis\n",
    "\n",
    "    N_alpha = environment.N.alpha\n",
    "    N_beta = environment.N.beta\n",
    "    \n",
    "\n",
    "    # Form the closed-shell Fock matrix and the UHF modification.\n",
    "    F_cs = (F_alpha + F_beta) / 2.0  # the closed-shell Fock matrix, in AO basis\n",
    "    Delta_UHF = (F_alpha - F_beta) / 2.0  # in AO basis\n",
    "    \n",
    "\n",
    "    # Form modified Fock matrices.\n",
    "    F_aa = F_cs + Delta_UHF\n",
    "    F_bb = F_cs - Delta_UHF\n",
    "\n",
    "\n",
    "    # Find the natural occupation numbers and vectors by diagonalizing the charge-density matrix in an orthonormal basis.\n",
    "    P_AO = (D_alpha + D_beta) / 2.0\n",
    "    P_MO = np.linalg.inv(X).conj() @ P_AO @ np.linalg.inv(X.T)\n",
    "    natural_occupation_numbers, V = np.linalg.eigh(P_MO)\n",
    "\n",
    "\n",
    "    # Construct the Langrange multipliers to add them to the 'constrained' Fock matrices.    \n",
    "    Delta_UHF_NO = V.conj().T @ X.conj().T @ Delta_UHF @ X @ V  # in the natural occupation (NO) basis\n",
    "    Lambda_NO = np.zeros(np.shape(Delta_UHF_NO))\n",
    "    Lambda_NO[:N_beta, N_alpha:] = -Delta_UHF_NO[:N_beta, N_alpha:]\n",
    "    Lambda_NO[N_alpha:, :N_beta] = -Delta_UHF_NO[N_alpha:, :N_beta]\n",
    "    Lambda_AO = np.linalg.inv(X).T @ np.linalg.inv(V).T @ Lambda_NO @ np.linalg.inv(V) @ np.linalg.inv(X)\n",
    "    \n",
    "\n",
    "    # Overwrite the most recent UHF Fock matrices with the cUHF ones\n",
    "    F_alpha_constrained = F_aa + Lambda_AO\n",
    "    F_beta_constrained = F_bb - Lambda_AO\n",
    "    \n",
    "    environment.replace_current_fock_matrices(F_alpha_constrained, F_beta_constrained)\n",
    "\n",
    "\n",
    "constrain_step_thesis_fixed = gqcpy.FunctionalStep_UHFSCFEnvironment_d(constrain_function_thesis_fixed, description=\"Replace the alpha- and beta- UHF Fock matrices by their constrained counterparts, as explained in the CUHF 'thesis' algorithm, but with 'fixed' transformation formulas.\")"
   ]
  },
  {
   "cell_type": "markdown",
   "metadata": {},
   "source": [
    "We proceed similarly to before, inserting the modifying step in the plain UHF SCF algorithm."
   ]
  },
  {
   "cell_type": "code",
   "execution_count": 21,
   "metadata": {
    "scrolled": true
   },
   "outputs": [
    {
     "name": "stdout",
     "output_type": "stream",
     "text": [
      "An iterative algorithm (with a maximum of 1000 iterations) consisting of the following steps:\n",
      "An algorithmic step consisting of 5 algorithmic steps:\n",
      "\t1. Calculate the current UHF alpha and beta density matrices (in the AO basis) and place them in the environment.\n",
      "\t2. Calculate the current UHF Fock matrices (expressed in the scalar/AO basis) and place them in the environment.\n",
      "\t3. Replace the alpha- and beta- UHF Fock matrices by their constrained counterparts, as explained in the CUHF 'thesis' algorithm, but with 'fixed' transformation formulas.\n",
      "\t4. Solve the generalized eigenvalue problem for the most recent scalar/AO Fock matrices. Add the associated coefficient matrices and orbital energies to the environment.\n",
      "\t5. Calculate the current electronic UHF energy and place it in the environment.\n",
      "\n",
      "With the following convergence criterion:\n",
      "A convergence criterion that checks if the norm of the difference of two iterates (the UHF spin resolved density matrix in AO basis) is converged, with a tolerance of 1.00e-04.\n"
     ]
    }
   ],
   "source": [
    "CUHF_algorithm_thesis_fixed = gqcpy.UHFSCFSolver_d.Plain(threshold = 1.0e-04, maximum_number_of_iterations = 1000)\n",
    "\n",
    "CUHF_algorithm_thesis_fixed.insert(constrain_step_thesis_fixed, 2)\n",
    "print(CUHF_algorithm_thesis_fixed.description())"
   ]
  },
  {
   "cell_type": "code",
   "execution_count": 22,
   "metadata": {
    "scrolled": true
   },
   "outputs": [],
   "source": [
    "environment = gqcpy.UHFSCFEnvironment_d.WithCoreGuess(N_alpha, N_beta, sq_hamiltonian, S)"
   ]
  },
  {
   "cell_type": "code",
   "execution_count": 23,
   "metadata": {
    "scrolled": true
   },
   "outputs": [],
   "source": [
    "cuhf_qc_structure_thesis_fixed = gqcpy.UHF_d.optimize(CUHF_algorithm_thesis_fixed, environment)\n",
    "cuhf_energy_thesis_fixed = cuhf_qc_structure_thesis_fixed.groundStateEnergy()\n",
    "cuhf_parameters_thesis_fixed = cuhf_qc_structure_thesis_fixed.groundStateParameters()"
   ]
  },
  {
   "cell_type": "code",
   "execution_count": 24,
   "metadata": {},
   "outputs": [
    {
     "name": "stdout",
     "output_type": "stream",
     "text": [
      "[[ 3.405955 -1.515785 -1.504544]\n",
      " [-1.515785  0.9533    0.947886]\n",
      " [-1.504544  0.947886  0.942511]]\n"
     ]
    }
   ],
   "source": [
    "print(environment.density_matrices[-1].alpha)"
   ]
  },
  {
   "cell_type": "code",
   "execution_count": 25,
   "metadata": {
    "scrolled": true
   },
   "outputs": [
    {
     "name": "stdout",
     "output_type": "stream",
     "text": [
      "CUHF electronic energy (thesis): -3.63052188\n",
      "\n",
      "CUHF C_alpha (thesis):\n",
      "[[-0.381515 -1.805659 -0.003305]\n",
      " [-0.346769  0.91249  -1.566232]\n",
      " [-0.347213  0.906844  1.569409]]\n",
      "\n",
      "CUHF C_beta (thesis):\n",
      "[[ 0.261075  0.002209 -1.826965]\n",
      " [ 0.406413  1.566776  0.886572]\n",
      " [ 0.406553 -1.568868  0.8828  ]]\n",
      "\n"
     ]
    }
   ],
   "source": [
    "print(\"CUHF electronic energy (thesis): {:.8f}\\n\".format(cuhf_energy_thesis_fixed))\n",
    "print(\"CUHF C_alpha (thesis):\\n{}\\n\".format(cuhf_parameters_thesis_fixed.expansion().alpha.matrix()))\n",
    "print(\"CUHF C_beta (thesis):\\n{}\\n\".format(cuhf_parameters_thesis_fixed.expansion().beta.matrix()))"
   ]
  }
 ],
 "metadata": {
  "kernelspec": {
   "display_name": "python3.7",
   "language": "python",
   "name": "python3.7"
  },
  "language_info": {
   "codemirror_mode": {
    "name": "ipython",
    "version": 3
   },
   "file_extension": ".py",
   "mimetype": "text/x-python",
   "name": "python",
   "nbconvert_exporter": "python",
   "pygments_lexer": "ipython3",
   "version": "3.7.9"
  }
 },
 "nbformat": 4,
 "nbformat_minor": 2
}
