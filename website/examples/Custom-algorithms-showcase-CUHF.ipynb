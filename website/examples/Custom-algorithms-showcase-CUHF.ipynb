{
 "cells": [
  {
   "cell_type": "markdown",
   "source": [
    "# Custom algorithms showcase - CUHF"
   ],
   "metadata": {
    "slideshow": {
     "slide_type": "-"
    }
   }
  },
  {
   "cell_type": "code",
   "execution_count": 1,
   "source": [
    "# Force the local gqcpy to be imported\n",
    "import sys\n",
    "sys.path.insert(0, '../../build/gqcpy/')\n",
    "\n",
    "import gqcpy\n",
    "import numpy as np\n",
    "\n",
    "np.set_printoptions(precision=6, linewidth=120)"
   ],
   "outputs": [],
   "metadata": {
    "scrolled": true
   }
  },
  {
   "cell_type": "markdown",
   "source": [
    "So, recently, there has been a lot of research in our group concerned with **CUHF**: 'constrained' UHF. This is trying to modify UHF SCF with a constraint such that it should convergence to ROHF.\n",
    "\n",
    "Since the nature of the proposed algorithms is inherently related to _modifying_ an _existing_ UHF SCF algorithm (plain, DIIS, ...) but with a small extra step or two, I think this is an excellent showcase for `GQCP`'s 'injection' capabilities`."
   ],
   "metadata": {}
  },
  {
   "cell_type": "markdown",
   "source": [
    "## Molecular setup"
   ],
   "metadata": {}
  },
  {
   "cell_type": "markdown",
   "source": [
    "Let us start by defining the molecular system under consideration. We'll take an H3-ring, 1 a.u. apart and in the STO-3G basisset."
   ],
   "metadata": {}
  },
  {
   "cell_type": "code",
   "execution_count": 2,
   "source": [
    "molecule = gqcpy.Molecule.HRingFromDistance(3, 1.0)\n",
    "N = molecule.numberOfElectrons()\n",
    "N_P = molecule.numberOfElectronPairs()  # rounds down\n",
    "N_alpha = N_P + 1\n",
    "N_beta = N_P\n",
    "\n",
    "print(molecule)\n",
    "print(\"Number of alpha electrons: {}\".format(N_alpha))\n",
    "print(\"Number of beta electrons: {}\".format(N_beta))"
   ],
   "outputs": [
    {
     "output_type": "stream",
     "name": "stdout",
     "text": [
      "Number of electrons: 3 \n",
      "H  (0.57735, 0, 0)\n",
      "H  (-0.288675, 0.5, 0)\n",
      "H  (-0.288675, -0.5, 0)\n",
      "\n",
      "Number of alpha electrons: 2\n",
      "Number of beta electrons: 1\n"
     ]
    }
   ],
   "metadata": {
    "scrolled": true
   }
  },
  {
   "cell_type": "markdown",
   "source": [
    "In order to start any calculations, we need to calculate the molecular integrals. In `GQCP`, this is done by creating a restricted spin-orbital basis:"
   ],
   "metadata": {}
  },
  {
   "cell_type": "code",
   "execution_count": 3,
   "source": [
    "spinor_basis = gqcpy.USpinOrbitalBasis_d(molecule, \"STO-3G\")  # in AO basis; atomic spin-orbitals\n",
    "S = spinor_basis.overlap()  # in AO basis"
   ],
   "outputs": [],
   "metadata": {
    "scrolled": true
   }
  },
  {
   "cell_type": "markdown",
   "source": [
    "Then, we will quantize the molecular Hamiltonian (in which the interactions terms are the electron's kinetic energy, the nucleus-electron attraction and the interelectronic repulson) in that spin-orbital basis:"
   ],
   "metadata": {}
  },
  {
   "cell_type": "code",
   "execution_count": 4,
   "source": [
    "sq_hamiltonian = spinor_basis.quantize(gqcpy.FQMolecularHamiltonian(molecule))  # in AO basis"
   ],
   "outputs": [],
   "metadata": {
    "scrolled": true
   }
  },
  {
   "cell_type": "markdown",
   "source": [
    "## The standard 'plain' UHF SCF algorithm"
   ],
   "metadata": {}
  },
  {
   "cell_type": "markdown",
   "source": [
    "Let's establish a base line for the algorithms by examining the standard 'plain' UHF SCF algorithm. In `GQCP`, we have implemented algorithms and environments:\n",
    "\n",
    "- an _environment_ acts as a 'calculation space', storing intermediate calculations;\n",
    "- an _algorithm_ and its composing _steps_ continuously modify the environment."
   ],
   "metadata": {}
  },
  {
   "cell_type": "markdown",
   "source": [
    "For UHF SCF, we use an `UHFSCFEnvironment`:"
   ],
   "metadata": {}
  },
  {
   "cell_type": "code",
   "execution_count": 5,
   "source": [
    "environment = gqcpy.UHFSCFEnvironment_d.WithCoreGuess(N_alpha, N_beta, sq_hamiltonian, S)"
   ],
   "outputs": [],
   "metadata": {
    "scrolled": true
   }
  },
  {
   "cell_type": "markdown",
   "source": [
    "where we have initialized the alpha- and beta-coefficient matrices with the (generalized) eigenvectors of the core Hamiltonian (in AO basis)."
   ],
   "metadata": {}
  },
  {
   "cell_type": "markdown",
   "source": [
    "Let's now take a look at the plain UHF SCF solver:"
   ],
   "metadata": {}
  },
  {
   "cell_type": "code",
   "execution_count": 6,
   "source": [
    "plain_algorithm = gqcpy.UHFSCFSolver_d.Plain(threshold=1.0e-04, maximum_number_of_iterations=1000)\n",
    "\n",
    "print(plain_algorithm.description())"
   ],
   "outputs": [
    {
     "output_type": "stream",
     "name": "stdout",
     "text": [
      "An iterative algorithm (with a maximum of 1000 iterations) consisting of the following steps:\n",
      "An algorithmic step consisting of 4 algorithmic steps:\n",
      "\t1. Calculate the current UHF alpha and beta density matrices (in the AO basis) and place them in the environment.\n",
      "\t2. Calculate the current UHF Fock matrices (expressed in the scalar/AO basis) and place them in the environment.\n",
      "\t3. Solve the generalized eigenvalue problem for the most recent scalar/AO Fock matrices. Add the associated coefficient matrices and orbital energies to the environment.\n",
      "\t4. Calculate the current electronic UHF energy and place it in the environment.\n",
      "\n",
      "With the following convergence criterion:\n",
      "A convergence criterion that checks if the norm of the difference of two iterates (the UHF spin resolved density matrix in AO basis) is converged, with a tolerance of 1.00e-04.\n"
     ]
    }
   ],
   "metadata": {
    "scrolled": true
   }
  },
  {
   "cell_type": "markdown",
   "source": [
    "With this algorithm, let's check the UHF SCF procedure."
   ],
   "metadata": {}
  },
  {
   "cell_type": "code",
   "execution_count": 7,
   "source": [
    "uhf_qc_structure = gqcpy.UHF_d.optimize(plain_algorithm, environment)"
   ],
   "outputs": [],
   "metadata": {
    "scrolled": true
   }
  },
  {
   "cell_type": "code",
   "execution_count": 8,
   "source": [
    "uhf_energy = uhf_qc_structure.groundStateEnergy()\n",
    "uhf_parameters = uhf_qc_structure.groundStateParameters()"
   ],
   "outputs": [],
   "metadata": {
    "scrolled": true
   }
  },
  {
   "cell_type": "code",
   "execution_count": 9,
   "source": [
    "print(\"UHF electronic energy: {:.8f}\\n\".format(uhf_energy))\n",
    "print(\"UHF C_alpha:\\n{}\\n\".format(uhf_parameters.expansion().alpha.matrix()))\n",
    "print(\"UHF C_beta:\\n{}\\n\".format(uhf_parameters.expansion().beta.matrix()))"
   ],
   "outputs": [
    {
     "output_type": "stream",
     "name": "stdout",
     "text": [
      "UHF electronic energy: -3.63114631\n",
      "\n",
      "UHF C_alpha:\n",
      "[[-0.331961  0.002746 -1.815423]\n",
      " [-0.371811 -1.569163  0.89747 ]\n",
      " [-0.371698  1.56648   0.902192]]\n",
      "\n",
      "UHF C_beta:\n",
      "[[ 0.471022 -1.784404  0.002791]\n",
      " [ 0.300995  0.923314 -1.56935 ]\n",
      " [ 0.301463  0.928342  1.566292]]\n",
      "\n"
     ]
    }
   ],
   "metadata": {
    "scrolled": true
   }
  },
  {
   "cell_type": "markdown",
   "source": [
    "## The CUHF (Scuseria/thesis) algorithm"
   ],
   "metadata": {}
  },
  {
   "cell_type": "markdown",
   "source": [
    "One of the CUHF algorithms described by Scuseria's group can be found in the PhD thesis by T. Tsuchimochi. Since this algorithm uses a modification of the UHF alpha- and beta-Fock matrices, this is an ideal opportunity to use `GQCP`'s injection capabilities."
   ],
   "metadata": {}
  },
  {
   "cell_type": "markdown",
   "source": [
    "I've taken the reference implementation from Xeno's [ghf](https://github.com/GQCG/ghf) repository, and adapted it to `GQCP`.\n",
    "\n",
    "We start off by defining a `Python` function that modifies the alpha- and beta- Fock matrices in an `UHFSCFEnvironment`. We then wrap that `Python` function into a special class `FunctionalStep_UHFSCFEnvironment`, which allows for the bridging between `Python` functions and `GQCP`'s Algorithm framework."
   ],
   "metadata": {}
  },
  {
   "cell_type": "code",
   "execution_count": 10,
   "source": [
    "def constrain_function_thesis(environment):\n",
    "    \"\"\"Replace the alpha- and beta- UHF Fock matrices by their constrained counterparts, as explained in the CUHF 'thesis' algorithm.\"\"\"\n",
    "\n",
    "    # Prepare some variables to be used in the algorithm.\n",
    "    X = spinor_basis.lowdinOrthonormalization().alpha.matrix()  # the transformation matrix TO an orthonormal basis\n",
    "    \n",
    "    F_alpha = environment.fock_matrices[-1].alpha.parameters()  # in AO basis\n",
    "\n",
    "    F_beta = environment.fock_matrices[-1].beta.parameters()  # in AO basis\n",
    "    \n",
    "    D_alpha = environment.density_matrices[-1].alpha  # in AO basis\n",
    "    D_beta = environment.density_matrices[-1].beta  # in AO basis\n",
    "\n",
    "    N_alpha = environment.N.alpha\n",
    "    N_beta = environment.N.beta\n",
    "    \n",
    "\n",
    "    # Form the closed-shell Fock matrix and the UHF modification.\n",
    "    F_cs = (F_alpha + F_beta) / 2.0  # the closed-shell Fock matrix, in AO basis\n",
    "    Delta_UHF = (F_alpha - F_beta) / 2.0  # in AO basis\n",
    "    \n",
    "\n",
    "    # Form modified Fock matrices.\n",
    "    F_aa = F_cs + Delta_UHF\n",
    "    F_bb = F_cs - Delta_UHF\n",
    "\n",
    "\n",
    "    # Find the natural occupation numbers and vectors by diagonalizing the charge-density matrix in an orthonormal basis.\n",
    "    P_AO = (D_alpha + D_beta) / 2.0\n",
    "    P_MO = np.linalg.inv(X) @ P_AO.matrix() @ np.linalg.inv(X.T)\n",
    "    natural_occupation_numbers, V = np.linalg.eigh(P_MO)\n",
    "    print(natural_occupation_numbers)\n",
    "\n",
    "\n",
    "    # Construct the Langrange multipliers to add them to the 'constrained' Fock matrices.\n",
    "    Delta_UHF_NO = np.linalg.inv(V) @ np.linalg.inv(X) @ Delta_UHF @ np.linalg.inv(X.T) @ np.linalg.inv(V.T)  # in the natural occupation (NO) basis\n",
    "    Lambda_NO = np.zeros(np.shape(Delta_UHF_NO))\n",
    "    Lambda_NO[:N_beta, N_alpha:] = -Delta_UHF_NO[:N_beta, N_alpha:]\n",
    "    Lambda_NO[N_alpha:, :N_beta] = -Delta_UHF_NO[N_alpha:, :N_beta]\n",
    "    Lambda_AO = X @ V @ Lambda_NO @ V.T @ X.T\n",
    "    \n",
    "\n",
    "    # Overwrite the most recent UHF Fock matrices with the cUHF ones\n",
    "    \n",
    "    F_alpha_constrained = F_aa + Lambda_AO\n",
    "    F_beta_constrained = F_bb - Lambda_AO\n",
    "\n",
    "    Fock_matrices = gqcpy.ScalarUSQOneElectronOperator_d(gqcpy.ScalarUSQOneElectronOperatorComponent_d(F_alpha_constrained), gqcpy.ScalarUSQOneElectronOperatorComponent_d(F_beta_constrained))\n",
    "    environment.replace_current_fock_matrix(Fock_matrices)\n",
    "\n",
    "\n",
    "constrain_step_thesis = gqcpy.FunctionalStep_UHFSCFEnvironment_d(constrain_function_thesis, description=\"Replace the alpha- and beta- UHF Fock matrices by their constrained counterparts, as explained in the CUHF 'thesis' algorithm.\")"
   ],
   "outputs": [],
   "metadata": {
    "scrolled": true
   }
  },
  {
   "cell_type": "markdown",
   "source": [
    "We'll now modify the plain UHF SCF algorithm with this modification `constrain_step_thesis`. From the algorithmic description printed above, we'll have to insert the Fock matrix modification at index `2`."
   ],
   "metadata": {}
  },
  {
   "cell_type": "code",
   "execution_count": 11,
   "source": [
    "CUHF_algorithm_thesis = gqcpy.UHFSCFSolver_d.Plain(threshold = 1.0e-04, maximum_number_of_iterations = 1000)\n",
    "\n",
    "CUHF_algorithm_thesis.insert(constrain_step_thesis, 2)\n",
    "print(CUHF_algorithm_thesis.description())"
   ],
   "outputs": [
    {
     "output_type": "stream",
     "name": "stdout",
     "text": [
      "An iterative algorithm (with a maximum of 1000 iterations) consisting of the following steps:\n",
      "An algorithmic step consisting of 5 algorithmic steps:\n",
      "\t1. Calculate the current UHF alpha and beta density matrices (in the AO basis) and place them in the environment.\n",
      "\t2. Calculate the current UHF Fock matrices (expressed in the scalar/AO basis) and place them in the environment.\n",
      "\t3. Replace the alpha- and beta- UHF Fock matrices by their constrained counterparts, as explained in the CUHF 'thesis' algorithm.\n",
      "\t4. Solve the generalized eigenvalue problem for the most recent scalar/AO Fock matrices. Add the associated coefficient matrices and orbital energies to the environment.\n",
      "\t5. Calculate the current electronic UHF energy and place it in the environment.\n",
      "\n",
      "With the following convergence criterion:\n",
      "A convergence criterion that checks if the norm of the difference of two iterates (the UHF spin resolved density matrix in AO basis) is converged, with a tolerance of 1.00e-04.\n"
     ]
    }
   ],
   "metadata": {
    "scrolled": true
   }
  },
  {
   "cell_type": "markdown",
   "source": [
    "Since we've now created the `CUHF_algorithm_thesis`, which is still an UHF SCF solver, we can set up an environment and optimize the CUHF model parameters."
   ],
   "metadata": {}
  },
  {
   "cell_type": "code",
   "execution_count": 12,
   "source": [
    "environment = gqcpy.UHFSCFEnvironment_d.WithCoreGuess(N_alpha, N_beta, sq_hamiltonian, S)"
   ],
   "outputs": [],
   "metadata": {
    "scrolled": true
   }
  },
  {
   "cell_type": "code",
   "execution_count": 13,
   "source": [
    "cuhf_qc_structure_thesis = gqcpy.UHF_d.optimize(CUHF_algorithm_thesis, environment)\n",
    "cuhf_energy_thesis = cuhf_qc_structure_thesis.groundStateEnergy()\n",
    "cuhf_parameters_thesis = cuhf_qc_structure_thesis.groundStateParameters()"
   ],
   "outputs": [
    {
     "output_type": "stream",
     "name": "stdout",
     "text": [
      "[4.439377e-17 5.000000e-01 1.000000e+00]\n",
      "[1.715894e-07 5.000000e-01 9.999998e-01]\n",
      "[8.026167e-05 5.000000e-01 9.999197e-01]\n",
      "[9.968217e-05 5.000000e-01 9.999003e-01]\n",
      "[9.398111e-05 5.000000e-01 9.999060e-01]\n",
      "[8.313397e-05 5.000000e-01 9.999169e-01]\n",
      "[7.068445e-05 5.000000e-01 9.999293e-01]\n",
      "[5.783872e-05 5.000000e-01 9.999422e-01]\n",
      "[4.553746e-05 5.000000e-01 9.999545e-01]\n",
      "[3.455296e-05 5.000000e-01 9.999654e-01]\n",
      "[2.536143e-05 5.000000e-01 9.999746e-01]\n",
      "[1.809853e-05 5.000000e-01 9.999819e-01]\n",
      "[1.262744e-05 5.000000e-01 9.999874e-01]\n",
      "[8.659465e-06 5.000000e-01 9.999913e-01]\n",
      "[5.863353e-06 5.000000e-01 9.999941e-01]\n",
      "[3.934205e-06 5.000000e-01 9.999961e-01]\n",
      "[2.623099e-06 5.000000e-01 9.999974e-01]\n",
      "[1.741339e-06 5.000000e-01 9.999983e-01]\n",
      "[1.152584e-06 5.000000e-01 9.999988e-01]\n",
      "[7.613817e-07 5.000000e-01 9.999992e-01]\n",
      "[5.022954e-07 5.000000e-01 9.999995e-01]\n",
      "[3.310818e-07 5.000000e-01 9.999997e-01]\n",
      "[2.181019e-07 5.000000e-01 9.999998e-01]\n",
      "[1.436207e-07 5.000000e-01 9.999999e-01]\n",
      "[9.455066e-08 5.000000e-01 9.999999e-01]\n",
      "[6.223572e-08 5.000000e-01 9.999999e-01]\n",
      "[4.096068e-08 5.000000e-01 1.000000e+00]\n",
      "[2.695648e-08 5.000000e-01 1.000000e+00]\n",
      "[1.773938e-08 5.000000e-01 1.000000e+00]\n",
      "[1.167347e-08 5.000000e-01 1.000000e+00]\n",
      "[7.681621e-09 5.000000e-01 1.000000e+00]\n",
      "[5.054749e-09 5.000000e-01 1.000000e+00]\n",
      "[3.326156e-09 5.000000e-01 1.000000e+00]\n",
      "[2.188684e-09 5.000000e-01 1.000000e+00]\n",
      "[1.440196e-09 5.000000e-01 1.000000e+00]\n",
      "[9.476747e-10 5.000000e-01 1.000000e+00]\n",
      "[6.235856e-10 5.000000e-01 1.000000e+00]\n",
      "[4.103292e-10 5.000000e-01 1.000000e+00]\n",
      "[2.700028e-10 5.000000e-01 1.000000e+00]\n",
      "[1.77666e-10 5.00000e-01 1.00000e+00]\n",
      "[1.169069e-10 5.000000e-01 1.000000e+00]\n",
      "[7.692639e-11 5.000000e-01 1.000000e+00]\n",
      "[5.061874e-11 5.000000e-01 1.000000e+00]\n",
      "[3.330782e-11 5.000000e-01 1.000000e+00]\n",
      "[2.191711e-11 5.000000e-01 1.000000e+00]\n",
      "[1.442164e-11 5.000000e-01 1.000000e+00]\n",
      "[9.489689e-12 5.000000e-01 1.000000e+00]\n"
     ]
    }
   ],
   "metadata": {
    "scrolled": true
   }
  },
  {
   "cell_type": "code",
   "execution_count": 14,
   "source": [
    "print(\"CUHF electronic energy (thesis): {:.8f}\\n\".format(cuhf_energy_thesis))\n",
    "print(\"CUHF C_alpha (thesis):\\n{}\\n\".format(cuhf_parameters_thesis.expansion().alpha.matrix()))\n",
    "print(\"CUHF C_beta (thesis):\\n{}\\n\".format(cuhf_parameters_thesis.expansion().beta.matrix()))"
   ],
   "outputs": [
    {
     "output_type": "stream",
     "name": "stdout",
     "text": [
      "CUHF electronic energy (thesis): -3.63052195\n",
      "\n",
      "CUHF C_alpha (thesis):\n",
      "[[-3.470008e-01  9.096012e-01 -1.567860e+00]\n",
      " [-3.815161e-01 -1.805661e+00  7.964018e-05]\n",
      " [-3.469808e-01  9.097352e-01  1.567786e+00]]\n",
      "\n",
      "CUHF C_beta (thesis):\n",
      "[[ 4.064815e-01 -1.567828e+00  8.846784e-01]\n",
      " [ 2.610739e-01  8.720879e-06 -1.826967e+00]\n",
      " [ 4.064861e-01  1.567818e+00  8.846941e-01]]\n",
      "\n"
     ]
    }
   ],
   "metadata": {
    "scrolled": true
   }
  },
  {
   "cell_type": "markdown",
   "source": [
    "## The CUHF (Bultinck) algorithm"
   ],
   "metadata": {}
  },
  {
   "cell_type": "markdown",
   "source": [
    "A different CUHF algorithm was formulated by P. Bultinck. We'll use the same injection approach.\n",
    "\n",
    "Again, we've adapted the algorithm in the [ghf](https://github.com/GQCG/ghf)."
   ],
   "metadata": {}
  },
  {
   "cell_type": "code",
   "execution_count": 15,
   "source": [
    "def constrain_function_bultinck(environment):\n",
    "    \"\"\"Replace the alpha- and beta- UHF coefficient matrices by their constrained counterparts, as explained in the CUHF algorithm devised by Patrick Bultinck.\"\"\"\n",
    "\n",
    "    # 'Extract' the required ingredients from the environment.\n",
    "    N_beta = environment.N.beta\n",
    "    \n",
    "    C_alpha = environment.coefficient_matrices[-1].alpha\n",
    "    C_a = C_alpha.matrix()\n",
    "    C_beta = environment.coefficient_matrices[-1].beta\n",
    "    C_b = C_beta.matrix()\n",
    "    \n",
    "    # Apply the 'constraint'.\n",
    "    C_b[:, :N_beta] = C_a[:, :N_beta]  # make sure the occupied beta spin-orbitals are the same as the lowest alpha spin-orbitals\n",
    "\n",
    "    new_coefficients = gqcpy.UTransformation_d(gqcpy.UTransformationComponent_d(C_a), gqcpy.UTransformationComponent_d(C_b))\n",
    "    # Overwrite the current coefficient matrices with their constraint versions.\n",
    "    # We haven't modified C_alpha, so we only have to replace the current beta coefficient matrix.\n",
    "    environment.replace_current_coefficient_matrix(new_coefficients)\n",
    "\n",
    "\n",
    "constrain_step_bultinck = gqcpy.FunctionalStep_UHFSCFEnvironment_d(constrain_function_bultinck, \"Replace the alpha- and beta- UHF coefficient matrices by their constrained counterparts, as explained in the CUHF algorithm devised by Patrick Bultinck.\")"
   ],
   "outputs": [],
   "metadata": {
    "scrolled": true
   }
  },
  {
   "cell_type": "markdown",
   "source": [
    "We now modify the plain UHF SCF algorithm with this constrain step, which we insert right before the next iteration starts, so at the end of the current algorithm."
   ],
   "metadata": {}
  },
  {
   "cell_type": "code",
   "execution_count": 16,
   "source": [
    "CUHF_algorithm_bultinck = gqcpy.UHFSCFSolver_d.Plain(threshold = 1.0e-04, maximum_number_of_iterations = 2)\n",
    "CUHF_algorithm_bultinck.insert(constrain_step_bultinck, 4)  # at the end\n",
    "print(CUHF_algorithm_bultinck.description())"
   ],
   "outputs": [
    {
     "output_type": "stream",
     "name": "stdout",
     "text": [
      "An iterative algorithm (with a maximum of 2 iterations) consisting of the following steps:\n",
      "An algorithmic step consisting of 5 algorithmic steps:\n",
      "\t1. Calculate the current UHF alpha and beta density matrices (in the AO basis) and place them in the environment.\n",
      "\t2. Calculate the current UHF Fock matrices (expressed in the scalar/AO basis) and place them in the environment.\n",
      "\t3. Solve the generalized eigenvalue problem for the most recent scalar/AO Fock matrices. Add the associated coefficient matrices and orbital energies to the environment.\n",
      "\t4. Calculate the current electronic UHF energy and place it in the environment.\n",
      "\t5. Replace the alpha- and beta- UHF coefficient matrices by their constrained counterparts, as explained in the CUHF algorithm devised by Patrick Bultinck.\n",
      "\n",
      "With the following convergence criterion:\n",
      "A convergence criterion that checks if the norm of the difference of two iterates (the UHF spin resolved density matrix in AO basis) is converged, with a tolerance of 1.00e-04.\n"
     ]
    }
   ],
   "metadata": {
    "scrolled": true
   }
  },
  {
   "cell_type": "markdown",
   "source": [
    "We then proceed as usual, by creating an environment and optimizing the CUHF model parameters."
   ],
   "metadata": {}
  },
  {
   "cell_type": "code",
   "execution_count": 17,
   "source": [
    "environment = gqcpy.UHFSCFEnvironment_d.WithCoreGuess(N_alpha, N_beta, sq_hamiltonian, S)"
   ],
   "outputs": [],
   "metadata": {
    "scrolled": true
   }
  },
  {
   "cell_type": "code",
   "execution_count": 18,
   "source": [
    "cuhf_qc_structure_bultinck = gqcpy.UHF_d.optimize(CUHF_algorithm_bultinck, environment)\n",
    "cuhf_energy_bultinck = cuhf_qc_structure_bultinck.groundStateEnergy()\n",
    "cuhf_parameters_bultinck = cuhf_qc_structure_bultinck.groundStateParameters()"
   ],
   "outputs": [],
   "metadata": {
    "scrolled": true
   }
  },
  {
   "cell_type": "code",
   "execution_count": 19,
   "source": [
    "print(\"CUHF electronic energy (P. Bultinck): {:.8f}\\n\".format(cuhf_energy_bultinck))\n",
    "print(\"CUHF C_alpha (P. Bultinck):\\n{}\\n\".format(cuhf_parameters_bultinck.expansion().alpha.matrix()))\n",
    "print(\"CUHF C_beta (P. Bultinck):\\n{}\\n\".format(cuhf_parameters_bultinck.expansion().beta.matrix()))"
   ],
   "outputs": [
    {
     "output_type": "stream",
     "name": "stdout",
     "text": [
      "CUHF electronic energy (P. Bultinck): -3.62680102\n",
      "\n",
      "CUHF C_alpha (P. Bultinck):\n",
      "[[-0.358528  0.354135 -1.775391]\n",
      " [-0.358528 -1.714601  0.581006]\n",
      " [-0.358528  1.360467  1.194385]]\n",
      "\n",
      "CUHF C_beta (P. Bultinck):\n",
      "[[-0.358528 -1.758272  0.365065]\n",
      " [-0.358528  0.573311 -1.72797 ]\n",
      " [-0.358528  1.221002  1.339733]]\n",
      "\n"
     ]
    }
   ],
   "metadata": {
    "scrolled": true
   }
  },
  {
   "cell_type": "markdown",
   "source": [
    "## Bonus: changing the thesis algorithm"
   ],
   "metadata": {}
  },
  {
   "cell_type": "markdown",
   "source": [
    "Something seemed peculiar to me about the transformations of the density matrices and operators in the 'thesis'-inspired CUHF modification. I proceeded by 'fixing' these transformation formulas in the following modification."
   ],
   "metadata": {}
  },
  {
   "cell_type": "code",
   "execution_count": 28,
   "source": [
    "def constrain_function_thesis_fixed(environment):\n",
    "    \"\"\"Replace the alpha- and beta- UHF Fock matrices by their constrained counterparts, as explained in the CUHF 'thesis' algorithm.\"\"\"\n",
    "    \n",
    "    # Read the relevant intermediates from the environment.\n",
    "    F = environment.fock_matrices[-1]\n",
    "    D = environment.density_matrices[-1]\n",
    "    N = environment.N  # Number of alpha and beta electrons.\n",
    "\n",
    "\n",
    "    # Form the closed-shell Fock matrix and the UHF modification in the AO basis.\n",
    "    F_cs = (F.alpha + F.beta) / 2.0\n",
    "    Delta_UHF = (F.alpha - F.beta) / 2.0\n",
    "    \n",
    "\n",
    "    # Form the modified Fock matrices.\n",
    "    F_aa = F_cs + Delta_UHF\n",
    "    F_bb = F_cs - Delta_UHF\n",
    "\n",
    "\n",
    "    # Find the natural occupation numbers and vectors by diagonalizing the charge-density matrix\n",
    "    # in an orthonormal basis. For the orthonormal basis, we use the Löwdin basis of the alpha basis functions.\n",
    "    X = spinor_basis.lowdinOrthonormalization().alpha  # X transforms from the AO basis to the Löwdin basis.\n",
    "    \n",
    "    P_AO = (D.alpha + D.beta) / 2.0\n",
    "    P_MO = P_AO.transformed(X)\n",
    "\n",
    "    natural_occupation_numbers, V = np.linalg.eigh(P_MO.matrix())  # Use NumPy for the diagonalization.\n",
    "\n",
    "\n",
    "    # Construct the Langrange multipliers to add them to the 'constrained' Fock matrices. They\n",
    "    # should be constructed in the basis of the natural occupations.\n",
    "    V = gqcpy.UTransformationComponent_d(V)  # V transforms from the Löwdin basis to the natural occupations.\n",
    "\n",
    "    Delta_UHF_NO = Delta_UHF.transformed(X).transformed(V)  # In the natural occupation (NO) basis.\n",
    "    Delta_UHF_NO = Delta_UHF_NO.parameters()\n",
    "\n",
    "    Lambda_NO = np.zeros(np.shape(Delta_UHF_NO))\n",
    "    Lambda_NO[:N_beta, N_alpha:] = -Delta_UHF_NO[:N_beta, N_alpha:]\n",
    "    Lambda_NO[N_alpha:, :N_beta] = -Delta_UHF_NO[N_alpha:, :N_beta]\n",
    "    Lambda_NO = gqcpy.ScalarUSQOneElectronOperatorComponent_d(Lambda_NO)\n",
    "\n",
    "    Lambda_AO = Lambda_NO.transformed(V.inverse()).transformed(X.inverse())  # In the AO basis.\n",
    "    \n",
    "\n",
    "    # Overwrite the most recent UHF Fock matrices with the CUHF modifications.\n",
    "    F_alpha_constrained = F_aa + Lambda_AO\n",
    "    F_beta_constrained = F_bb - Lambda_AO\n",
    "\n",
    "    new_fock_matrices = gqcpy.ScalarUSQOneElectronOperator_d(F_alpha_constrained, F_beta_constrained)\n",
    "    \n",
    "    environment.replace_current_fock_matrix(new_fock_matrices)\n",
    "\n",
    "\n",
    "constrain_step_thesis_fixed = gqcpy.FunctionalStep_UHFSCFEnvironment_d(constrain_function_thesis_fixed, description=\"Replace the alpha- and beta- UHF Fock matrices by their constrained counterparts, as explained in the CUHF 'thesis' algorithm, but with 'fixed' transformation formulas.\")"
   ],
   "outputs": [],
   "metadata": {
    "scrolled": true
   }
  },
  {
   "cell_type": "markdown",
   "source": [
    "We proceed similarly to before, inserting the modifying step in the plain UHF SCF algorithm."
   ],
   "metadata": {}
  },
  {
   "cell_type": "code",
   "execution_count": 25,
   "source": [
    "CUHF_algorithm_thesis_fixed = gqcpy.UHFSCFSolver_d.Plain(threshold = 1.0e-04, maximum_number_of_iterations = 1000)\n",
    "\n",
    "CUHF_algorithm_thesis_fixed.insert(constrain_step_thesis_fixed, 2)\n",
    "print(CUHF_algorithm_thesis_fixed.description())"
   ],
   "outputs": [
    {
     "output_type": "stream",
     "name": "stdout",
     "text": [
      "An iterative algorithm (with a maximum of 1000 iterations) consisting of the following steps:\n",
      "An algorithmic step consisting of 5 algorithmic steps:\n",
      "\t1. Calculate the current UHF alpha and beta density matrices (in the AO basis) and place them in the environment.\n",
      "\t2. Calculate the current UHF Fock matrices (expressed in the scalar/AO basis) and place them in the environment.\n",
      "\t3. Replace the alpha- and beta- UHF Fock matrices by their constrained counterparts, as explained in the CUHF 'thesis' algorithm, but with 'fixed' transformation formulas.\n",
      "\t4. Solve the generalized eigenvalue problem for the most recent scalar/AO Fock matrices. Add the associated coefficient matrices and orbital energies to the environment.\n",
      "\t5. Calculate the current electronic UHF energy and place it in the environment.\n",
      "\n",
      "With the following convergence criterion:\n",
      "A convergence criterion that checks if the norm of the difference of two iterates (the UHF spin resolved density matrix in AO basis) is converged, with a tolerance of 1.00e-04.\n"
     ]
    }
   ],
   "metadata": {
    "scrolled": true
   }
  },
  {
   "cell_type": "code",
   "execution_count": 26,
   "source": [
    "environment = gqcpy.UHFSCFEnvironment_d.WithCoreGuess(N_alpha, N_beta, sq_hamiltonian, S)"
   ],
   "outputs": [],
   "metadata": {
    "scrolled": true
   }
  },
  {
   "cell_type": "code",
   "execution_count": 29,
   "source": [
    "cuhf_qc_structure_thesis_fixed = gqcpy.UHF_d.optimize(CUHF_algorithm_thesis_fixed, environment)\n",
    "cuhf_energy_thesis_fixed = cuhf_qc_structure_thesis_fixed.groundStateEnergy()\n",
    "cuhf_parameters_thesis_fixed = cuhf_qc_structure_thesis_fixed.groundStateParameters()"
   ],
   "outputs": [],
   "metadata": {
    "scrolled": true
   }
  },
  {
   "cell_type": "code",
   "execution_count": 30,
   "source": [
    "print(environment.density_matrices[-1].alpha.matrix())"
   ],
   "outputs": [
    {
     "output_type": "stream",
     "name": "stdout",
     "text": [
      "[[ 0.946746 -1.508967  0.947898]\n",
      " [-1.508967  3.405967 -1.511373]\n",
      " [ 0.947898 -1.511373  0.949052]]\n"
     ]
    }
   ],
   "metadata": {}
  },
  {
   "cell_type": "code",
   "execution_count": 31,
   "source": [
    "print(\"CUHF electronic energy (thesis): {:.8f}\\n\".format(cuhf_energy_thesis_fixed))\n",
    "print(\"CUHF C_alpha (thesis):\\n{}\\n\".format(cuhf_parameters_thesis_fixed.expansion().alpha.matrix()))\n",
    "print(\"CUHF C_beta (thesis):\\n{}\\n\".format(cuhf_parameters_thesis_fixed.expansion().beta.matrix()))"
   ],
   "outputs": [
    {
     "output_type": "stream",
     "name": "stdout",
     "text": [
      "CUHF electronic energy (thesis): -3.63052195\n",
      "\n",
      "CUHF C_alpha (thesis):\n",
      "[[-3.470438e-01  9.090350e-01 -1.568179e+00]\n",
      " [-3.815161e-01 -1.805661e+00  7.420704e-04]\n",
      " [-3.469378e-01  9.103012e-01  1.567467e+00]]\n",
      "\n",
      "CUHF C_beta (thesis):\n",
      "[[ 4.064937e-01 -1.568129e+00  8.841394e-01]\n",
      " [ 2.610740e-01  6.388414e-04 -1.826967e+00]\n",
      " [ 4.064738e-01  1.567517e+00  8.852330e-01]]\n",
      "\n"
     ]
    }
   ],
   "metadata": {
    "scrolled": true
   }
  }
 ],
 "metadata": {
  "kernelspec": {
   "name": "python3",
   "display_name": "Python 3.8.5 64-bit ('base': conda)"
  },
  "language_info": {
   "codemirror_mode": {
    "name": "ipython",
    "version": 3
   },
   "file_extension": ".py",
   "mimetype": "text/x-python",
   "name": "python",
   "nbconvert_exporter": "python",
   "pygments_lexer": "ipython3",
   "version": "3.8.5"
  },
  "interpreter": {
   "hash": "e4c6ce54e6d1ccff551279c9aafc06b78c48fd9e60d6b4e74c0583a74ec1d1f9"
  }
 },
 "nbformat": 4,
 "nbformat_minor": 2
}