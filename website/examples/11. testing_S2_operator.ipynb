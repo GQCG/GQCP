{
 "cells": [
  {
   "cell_type": "code",
   "execution_count": 1,
   "metadata": {},
   "outputs": [],
   "source": [
    "# Force the local gqcpy to be imported\n",
    "import sys\n",
    "sys.path.insert(0, '../../build/gqcpy/')\n",
    "\n",
    "import gqcpy\n",
    "import numpy as np\n",
    "\n",
    "\n",
    "from prototypes.CUHF2 import *\n",
    "from prototypes.UNOCI import *\n",
    "from prototypes.UHF import *\n",
    "from prototypes.GHF import *\n",
    "from prototypes.RHF import *\n",
    "from prototypes.spin import *\n",
    "from prototypes.optimization import *\n",
    "from prototypes.FCI import *"
   ]
  },
  {
   "attachments": {},
   "cell_type": "markdown",
   "metadata": {},
   "source": [
    "## Parameters"
   ]
  },
  {
   "cell_type": "code",
   "execution_count": 2,
   "metadata": {},
   "outputs": [],
   "source": [
    "np.set_printoptions(formatter={'float': lambda x: \"{0:0.3f}\".format(x)})\n",
    "\n",
    "basis = \"6-31G\"\n",
    "N_H = 5\n",
    "N_a = 3\n",
    "N_b = 2"
   ]
  },
  {
   "cell_type": "code",
   "execution_count": 3,
   "metadata": {},
   "outputs": [],
   "source": [
    "mol = gqcpy.Molecule.HChain(N_H, 1.4, 0)"
   ]
  },
  {
   "cell_type": "code",
   "execution_count": 4,
   "metadata": {},
   "outputs": [
    {
     "name": "stdout",
     "output_type": "stream",
     "text": [
      "GHF energy:  -2.6044402796004915\n"
     ]
    }
   ],
   "source": [
    "_, HFpar = GHF(mol, basis)"
   ]
  },
  {
   "cell_type": "code",
   "execution_count": 5,
   "metadata": {},
   "outputs": [],
   "source": [
    "spinor_basis = gqcpy.GSpinorBasis_d(mol, basis)"
   ]
  },
  {
   "attachments": {},
   "cell_type": "markdown",
   "metadata": {},
   "source": [
    "## Testing"
   ]
  },
  {
   "cell_type": "code",
   "execution_count": 6,
   "metadata": {},
   "outputs": [],
   "source": [
    "S_aa = spinor_basis.quantize(gqcpy.OverlapOperator()).parameters()[:spinor_basis.numberOfCoefficients(gqcpy.Spin.alpha), :spinor_basis.numberOfCoefficients(gqcpy.Spin.alpha)]"
   ]
  },
  {
   "cell_type": "code",
   "execution_count": 7,
   "metadata": {},
   "outputs": [],
   "source": [
    "Sp = np.vstack((np.hstack((np.zeros_like(S_aa), S_aa)), np.hstack((np.zeros_like(S_aa), np.zeros_like(S_aa)))))"
   ]
  },
  {
   "cell_type": "code",
   "execution_count": 8,
   "metadata": {},
   "outputs": [],
   "source": [
    "Sm = np.vstack((np.hstack((np.zeros_like(S_aa), np.zeros_like(S_aa))), np.hstack((S_aa, np.zeros_like(S_aa)))))"
   ]
  },
  {
   "cell_type": "code",
   "execution_count": 9,
   "metadata": {},
   "outputs": [],
   "source": [
    "Spm = np.vstack((np.hstack((np.zeros_like(S_aa), np.zeros_like(S_aa))), np.hstack((np.zeros_like(S_aa), S_aa))))"
   ]
  },
  {
   "cell_type": "code",
   "execution_count": 10,
   "metadata": {},
   "outputs": [],
   "source": [
    "Sz = spinor_basis.quantize(gqcpy.ElectronicSpin_zOperator()).parameters()"
   ]
  },
  {
   "cell_type": "code",
   "execution_count": 11,
   "metadata": {},
   "outputs": [],
   "source": [
    "Sz2 = 0.25 * np.vstack((np.hstack((S_aa, np.zeros_like(S_aa))), np.hstack((np.zeros_like(S_aa), S_aa))))"
   ]
  },
  {
   "cell_type": "code",
   "execution_count": 12,
   "metadata": {},
   "outputs": [],
   "source": [
    "spin = Sz2 + Sz + Spm\n",
    "tensor = np.einsum('pq,rs->pqrs', Sz, Sz) + np.einsum('pq,rs->pqrs', Sm, Sp)"
   ]
  },
  {
   "cell_type": "code",
   "execution_count": 13,
   "metadata": {},
   "outputs": [],
   "source": [
    "# mat_op = gqcpy.ScalarGSQOneElectronOperator_d(spin).transformed(HFpar.expansion())\n",
    "# tensor_op = gqcpy.ScalarGSQTwoElectronOperator_d(tensor*2).transformed(HFpar.expansion())\n",
    "\n",
    "mat_op = gqcpy.ScalarGSQOneElectronOperator_d(spin)\n",
    "tensor_op = gqcpy.ScalarGSQTwoElectronOperator_d(tensor*2)"
   ]
  },
  {
   "cell_type": "code",
   "execution_count": 14,
   "metadata": {},
   "outputs": [],
   "source": [
    "# OneDM = HFpar.calculateOrthonormalBasis1DM()\n",
    "# twoDM = HFpar.calculateOrthonormalBasis2DM()\n",
    "\n",
    "OneDM = HFpar.calculateScalarBasis1DM()\n",
    "twoDM = HFpar.calculateScalarBasis2DM()"
   ]
  },
  {
   "cell_type": "code",
   "execution_count": 15,
   "metadata": {},
   "outputs": [
    {
     "data": {
      "text/plain": [
       "0.7827024316525559"
      ]
     },
     "execution_count": 15,
     "metadata": {},
     "output_type": "execute_result"
    }
   ],
   "source": [
    "S2_val = mat_op.calculateExpectationValue(OneDM)[0] + tensor_op.calculateExpectationValue(twoDM)[0]\n",
    "S2_val"
   ]
  },
  {
   "cell_type": "code",
   "execution_count": 16,
   "metadata": {},
   "outputs": [
    {
     "data": {
      "text/plain": [
       "0.4999999999999988"
      ]
     },
     "execution_count": 16,
     "metadata": {},
     "output_type": "execute_result"
    }
   ],
   "source": [
    "Sz_val = gqcpy.ScalarGSQOneElectronOperator_d(Sz).calculateExpectationValue(OneDM)[0]\n",
    "Sz_val"
   ]
  },
  {
   "cell_type": "code",
   "execution_count": 17,
   "metadata": {},
   "outputs": [
    {
     "name": "stdout",
     "output_type": "stream",
     "text": [
      "converged!\n",
      "CUHF energy:  -2.6044402691560027\n",
      "CUHF S^2:  0.7827019561059161\n"
     ]
    }
   ],
   "source": [
    "CUHF_object = CUHF2(mol, basis, N_a, N_b)\n",
    "CUHF_object.SCF(mu=0, maxiter=15000)\n",
    "print(\"CUHF energy: \", CUHF_object.energy + CUHF_object.nuc_rep)\n",
    "print(\"CUHF S^2: \", CUHF_object.calculateSSquared())\n"
   ]
  },
  {
   "cell_type": "code",
   "execution_count": 19,
   "metadata": {},
   "outputs": [],
   "source": [
    "S_2_op_product = spinor_basis.quantize(gqcpy.ElectronicSpinSquaredOperator())"
   ]
  },
  {
   "cell_type": "code",
   "execution_count": 20,
   "metadata": {},
   "outputs": [
    {
     "data": {
      "text/plain": [
       "0.7827024316525559"
      ]
     },
     "execution_count": 20,
     "metadata": {},
     "output_type": "execute_result"
    }
   ],
   "source": [
    "S_2_op_product.calculateExpectationValue(OneDM, twoDM)"
   ]
  }
 ],
 "metadata": {
  "kernelspec": {
   "display_name": "base",
   "language": "python",
   "name": "python3"
  },
  "language_info": {
   "codemirror_mode": {
    "name": "ipython",
    "version": 3
   },
   "file_extension": ".py",
   "mimetype": "text/x-python",
   "name": "python",
   "nbconvert_exporter": "python",
   "pygments_lexer": "ipython3",
   "version": "3.8.16"
  },
  "orig_nbformat": 4,
  "vscode": {
   "interpreter": {
    "hash": "4654e147d6fe676f31a9f86e2485eea716359f8709963986145f7c2d0088ba8c"
   }
  }
 },
 "nbformat": 4,
 "nbformat_minor": 2
}
