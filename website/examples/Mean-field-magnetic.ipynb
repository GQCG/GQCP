{
 "cells": [
  {
   "cell_type": "markdown",
   "id": "manual-bracket",
   "metadata": {},
   "source": [
    "# Mean-field calculations in magnetic fields"
   ]
  },
  {
   "cell_type": "markdown",
   "id": "fixed-examination",
   "metadata": {},
   "source": [
    "In this interactive Notebook, we'll explore how GQCP can be used to perform electronic structure calculations in the presence of strong magnetic fields."
   ]
  },
  {
   "cell_type": "markdown",
   "id": "immune-checkout",
   "metadata": {},
   "source": [
    "Since the presence of the magnetic field governs the physical interactions present in the system, we provide **two types** of magnetic Hamiltonians:\n",
    "- `FQMolecularMagneticHamiltonian`: The magnetic Hamiltonian that contains the orbital Zeeman and diamagnetic operators.\n",
    "- `FQMolecularPauliHamiltonian`: The magnetic Hamiltonian that contains the orbital Zeeman, diamagnetic and spin Zeeman operators."
   ]
  },
  {
   "cell_type": "code",
   "execution_count": 1,
   "id": "working-arrow",
   "metadata": {},
   "outputs": [],
   "source": [
    "import sys\n",
    "sys.path.insert(0, '../../build/gqcpy/')\n",
    "\n",
    "import gqcpy\n",
    "import numpy as np"
   ]
  },
  {
   "cell_type": "markdown",
   "id": "personalized-strain",
   "metadata": {},
   "source": [
    "In this Notebook, we'll explore the dissociation of the simple H<sub>2</sub> molecule in the presence of a magnetic field perpendicular on the bond axis."
   ]
  },
  {
   "cell_type": "code",
   "execution_count": 20,
   "id": "latest-shuttle",
   "metadata": {},
   "outputs": [],
   "source": [
    "R_values = np.arange(0.7, 8, 0.1)\n",
    "H_left = gqcpy.Nucleus(1, 0.0,0.0,0.0)\n",
    "\n",
    "molecules = []\n",
    "for R in R_values:\n",
    "    H_right = gqcpy.Nucleus(1, R,0.0,0.0)  # The molecule is aligned on the x-axis.\n",
    "    molecules.append(gqcpy.Molecule([H_left, H_right]))\n",
    "\n",
    "# Apply a magnetic field in the z-axis.\n",
    "B = gqcpy.HomogeneousMagneticField([0,0,-0.1])"
   ]
  },
  {
   "cell_type": "code",
   "execution_count": 21,
   "id": "packed-mapping",
   "metadata": {},
   "outputs": [],
   "source": [
    "basis_set = \"6-31G\""
   ]
  },
  {
   "cell_type": "markdown",
   "id": "external-cooling",
   "metadata": {},
   "source": [
    "## RHF in a magnetic field"
   ]
  },
  {
   "cell_type": "markdown",
   "id": "focal-encoding",
   "metadata": {},
   "source": [
    "Since the expectation value of the spin operator for RHF is identically zero, the spin Zeeman operator does not contribute to the RHF energy. Therefore, we can use the `FQMolecularMagneticHamiltonian`."
   ]
  },
  {
   "cell_type": "code",
   "execution_count": 22,
   "id": "outstanding-ecuador",
   "metadata": {},
   "outputs": [],
   "source": [
    "RHF_energies = []\n",
    "for molecule in molecules:\n",
    "    \n",
    "    N = molecule.numberOfElectrons()\n",
    "\n",
    "    # Set up the molecular magnetic Hamiltonian in the AO basis.\n",
    "    spin_orbital_basis = gqcpy.LondonRSpinOrbitalBasis(molecule, basis_set, B)\n",
    "    hamiltonian = spin_orbital_basis.quantize(gqcpy.FQMolecularMagneticHamiltonian(molecule, B))\n",
    "    \n",
    "    # Do an RHF calculation and calculate the total energy.\n",
    "    S = spin_orbital_basis.quantize(gqcpy.OverlapOperator())\n",
    "    objective = gqcpy.DiagonalRHFFockMatrixObjective_cd(hamiltonian, 1.0e-03)\n",
    "    environment = gqcpy.RHFSCFEnvironment_cd.WithCoreGuess(N, hamiltonian, S)\n",
    "    solver = gqcpy.RHFSCFSolver_cd.Plain(threshold=1.0e-04, maximum_number_of_iterations=1000)\n",
    "    \n",
    "    qc_structure = gqcpy.RHF_cd.optimize(objective, solver, environment)\n",
    "    \n",
    "    electronic_energy = qc_structure.groundStateEnergy()\n",
    "    nuclear_repulsion = gqcpy.NuclearRepulsionOperator(molecule.nuclearFramework()).value()\n",
    "\n",
    "    RHF_energies.append((electronic_energy + nuclear_repulsion).real)  # Omit the imaginary component, since it's zero."
   ]
  },
  {
   "cell_type": "markdown",
   "id": "floating-serum",
   "metadata": {},
   "source": [
    "## UHF in a magnetic field"
   ]
  },
  {
   "cell_type": "markdown",
   "id": "endless-florist",
   "metadata": {},
   "source": [
    "In the UHF case, we can do a singlet calculation (i.e. $S_z = 0$ or $N_\\alpha = N_\\beta$) or a triplet calculation (i.e. $S_z = 1$ or $N_\\alpha = 2$ with $N_\\beta = 0$). Since the contribution from the spin Zeeman term is constant, we can do the UHF calculation using a `FQMolecularMagneticHamiltonian`."
   ]
  },
  {
   "cell_type": "code",
   "execution_count": 23,
   "id": "funky-warning",
   "metadata": {},
   "outputs": [],
   "source": [
    "UHF_0_energies = []\n",
    "UHF_1_energies = []\n",
    "for molecule in molecules:\n",
    "    \n",
    "    # Set up the molecular magnetic Hamiltonian in the AO basis.\n",
    "    spin_orbital_basis = gqcpy.LondonUSpinOrbitalBasis(molecule, basis_set, B)\n",
    "    hamiltonian = spin_orbital_basis.quantize(gqcpy.FQMolecularMagneticHamiltonian(molecule, B))\n",
    "    \n",
    "    S = spin_orbital_basis.quantize(gqcpy.OverlapOperator())\n",
    "\n",
    "    \n",
    "    # Do an UHF calculation for S = 1, calculate the constant spin Zeeman contribution and calculate the total energy.\n",
    "    N = molecule.numberOfElectrons()\n",
    "    N_alpha = N\n",
    "    N_beta = 0\n",
    "    \n",
    "    environment = gqcpy.UHFSCFEnvironment_cd.WithCoreGuess(N_alpha, N_beta, hamiltonian, S)\n",
    "    solver = gqcpy.UHFSCFSolver_cd.Plain(threshold=1.0e-04, maximum_number_of_iterations=1000)\n",
    "    \n",
    "    qc_structure = gqcpy.UHF_cd.optimize(solver, environment)\n",
    "    \n",
    "    electronic_energy = qc_structure.groundStateEnergy()\n",
    "    nuclear_repulsion = gqcpy.NuclearRepulsionOperator(molecule.nuclearFramework()).value()\n",
    "    spin_zeeman_contribution = 0.5 * B.strength()[2] * (N_alpha - N_beta)  # This corresponds to S dot B.\n",
    "\n",
    "    UHF_1_energies.append((electronic_energy + nuclear_repulsion).real + spin_zeeman_contribution)  # Omit the imaginary component, since it's zero.\n",
    "\n",
    "\n",
    "    # Do an UHF calculation for S = 0 and calculate the total energy. In this case, the spin Zeeman contribution vanishes.\n",
    "    N_P = molecule.numberOfElectronPairs()\n",
    "    N_alpha = N_P\n",
    "    N_beta = N_P\n",
    "    \n",
    "    C_initial = qc_structure.groundStateParameters().expansion()\n",
    "    environment = gqcpy.UHFSCFEnvironment_cd(N_alpha, N_beta, hamiltonian, S, C_initial)\n",
    "    solver = gqcpy.UHFSCFSolver_cd.Plain(threshold=1.0e-04, maximum_number_of_iterations=1000)\n",
    "    \n",
    "    qc_structure = gqcpy.UHF_cd.optimize(solver, environment)\n",
    "    \n",
    "    electronic_energy = qc_structure.groundStateEnergy()\n",
    "    nuclear_repulsion = gqcpy.NuclearRepulsionOperator(molecule.nuclearFramework()).value()\n",
    "\n",
    "    UHF_0_energies.append((electronic_energy + nuclear_repulsion).real)  # Omit the imaginary component, since it's zero."
   ]
  },
  {
   "cell_type": "markdown",
   "id": "alleged-consumption",
   "metadata": {},
   "source": [
    "## GHF in a magnetic field"
   ]
  },
  {
   "cell_type": "markdown",
   "id": "valid-demonstration",
   "metadata": {},
   "source": [
    "Since GHF is a spin non-collinear theory, its spin Zeeman contribution is not necessarily constant. Therefore, to allow the most flexible description in the presence of an external magnetic field, we use a `FQMolecularPauliHamiltonian`."
   ]
  },
  {
   "cell_type": "code",
   "execution_count": 24,
   "id": "after-preservation",
   "metadata": {},
   "outputs": [],
   "source": [
    "GHF_energies = []\n",
    "for molecule in molecules:\n",
    "\n",
    "    N = molecule.numberOfElectrons()\n",
    "\n",
    "    # Set up the molecular magnetic Pauli Hamiltonian in the AO basis.\n",
    "    spinor_basis = gqcpy.LondonGSpinorBasis(molecule, basis_set, B)\n",
    "    hamiltonian = spinor_basis.quantize(gqcpy.FQMolecularPauliHamiltonian(molecule, B))\n",
    "    \n",
    "    # Do a GHF calculation and calculate the total energy.\n",
    "    S = spinor_basis.quantize(gqcpy.OverlapOperator())\n",
    "\n",
    "    # Initialize the GHF SCF environment with an initial guess that does not consist of spin-orbitals, but consists of true spinors that are not eigenvectors of S_z.\n",
    "    environment = gqcpy.GHFSCFEnvironment_cd.WithComplexlyTransformedCoreGuess(N, hamiltonian, S)\n",
    "    solver = gqcpy.GHFSCFSolver_cd.Plain(threshold=1.0e-04, maximum_number_of_iterations=10000)\n",
    "    \n",
    "    qc_structure = gqcpy.GHF_cd.optimize(solver, environment)\n",
    "    \n",
    "    electronic_energy = qc_structure.groundStateEnergy()\n",
    "    nuclear_repulsion = gqcpy.NuclearRepulsionOperator(molecule.nuclearFramework()).value()\n",
    "\n",
    "    GHF_energies.append((electronic_energy + nuclear_repulsion).real)  # Omit the imaginary component, since it's zero."
   ]
  },
  {
   "cell_type": "markdown",
   "id": "cleared-machine",
   "metadata": {},
   "source": [
    "## Visualizations"
   ]
  },
  {
   "cell_type": "code",
   "execution_count": 25,
   "id": "deadly-offering",
   "metadata": {},
   "outputs": [],
   "source": [
    "import plotly\n",
    "import plotly.graph_objects as go"
   ]
  },
  {
   "cell_type": "code",
   "execution_count": 26,
   "id": "fourth-teaching",
   "metadata": {},
   "outputs": [
    {
     "data": {
      "application/vnd.plotly.v1+json": {
       "config": {
        "plotlyServerURL": "https://plot.ly"
       },
       "data": [
        {
         "name": "RHF",
         "type": "scatter",
         "x": [
          0.7,
          0.7999999999999999,
          0.8999999999999999,
          0.9999999999999999,
          1.0999999999999999,
          1.1999999999999997,
          1.2999999999999998,
          1.4,
          1.4999999999999998,
          1.5999999999999996,
          1.6999999999999997,
          1.7999999999999996,
          1.8999999999999997,
          1.9999999999999998,
          2.0999999999999996,
          2.1999999999999993,
          2.3,
          2.3999999999999995,
          2.4999999999999996,
          2.5999999999999996,
          2.6999999999999993,
          2.8,
          2.8999999999999995,
          2.999999999999999,
          3.0999999999999996,
          3.1999999999999993,
          3.3,
          3.3999999999999995,
          3.499999999999999,
          3.5999999999999996,
          3.6999999999999993,
          3.799999999999999,
          3.8999999999999995,
          3.999999999999999,
          4.1,
          4.199999999999999,
          4.299999999999999,
          4.3999999999999995,
          4.499999999999999,
          4.599999999999999,
          4.699999999999999,
          4.799999999999999,
          4.8999999999999995,
          4.999999999999999,
          5.099999999999999,
          5.199999999999999,
          5.299999999999999,
          5.3999999999999995,
          5.499999999999999,
          5.599999999999999,
          5.699999999999999,
          5.799999999999999,
          5.8999999999999995,
          5.999999999999999,
          6.099999999999999,
          6.199999999999999,
          6.299999999999999,
          6.399999999999999,
          6.499999999999999,
          6.599999999999999,
          6.699999999999998,
          6.799999999999999,
          6.899999999999999,
          6.999999999999999,
          7.099999999999999,
          7.199999999999998,
          7.299999999999999,
          7.399999999999999,
          7.499999999999999,
          7.599999999999999,
          7.699999999999998,
          7.799999999999999,
          7.899999999999999
         ],
         "y": [
          -0.8685718877964279,
          -0.9689603478211368,
          -1.0337365126547984,
          -1.0749988685765455,
          -1.1003168056741859,
          -1.1146109324913143,
          -1.1211774680415647,
          -1.1222818226579432,
          -1.1195146571411911,
          -1.1140109445159028,
          -1.106589052005214,
          -1.0978426294407848,
          -1.088203765883697,
          -1.0779876627213185,
          -1.0674246778921699,
          -1.0566833895564933,
          -1.0458872038629017,
          -1.0351263588424937,
          -1.024466677620674,
          -1.0139560222201345,
          -1.0036290907571577,
          -0.9935109864597174,
          -0.9836198520865509,
          -0.9739687839642726,
          -0.9645671928842171,
          -0.955421748042629,
          -0.9465370159103481,
          -0.9379158844815259,
          -0.9295598437741774,
          -0.9214691758993744,
          -0.9136430928687354,
          -0.9060798478103913,
          -0.8987768354229155,
          -0.8917306901390571,
          -0.884937385301938,
          -0.8783923333140691,
          -0.8720904848415926,
          -0.8660264243584268,
          -0.8601944592893818,
          -0.8545887004557242,
          -0.8492031322194855,
          -0.844031671488514,
          -0.8390682154652118,
          -0.83430667862703,
          -0.8297410198901986,
          -0.8253652612000608,
          -0.8211734989883582,
          -0.8171599099220771,
          -0.8133187526102386,
          -0.8096443660327426,
          -0.8061311666325853,
          -0.8027736444870003,
          -0.7995663595956266,
          -0.7965039388521251,
          -0.7935810741181638,
          -0.790792521647038,
          -0.788133102954569,
          -0.7855977071107316,
          -0.783181294328536,
          -0.7808789006577601,
          -0.778685643546873,
          -0.7765967280167947,
          -0.7746074531884111,
          -0.7727132189199466,
          -0.7709095323350847,
          -0.7691920140542274,
          -0.7675564039769875,
          -0.7659985664982759,
          -0.7645144950753935,
          -0.7631003160930359,
          -0.7617522919997144,
          -0.7604668237106345,
          -0.7592404522883665
         ]
        },
        {
         "name": "UHF (S=0)",
         "type": "scatter",
         "x": [
          0.7,
          0.7999999999999999,
          0.8999999999999999,
          0.9999999999999999,
          1.0999999999999999,
          1.1999999999999997,
          1.2999999999999998,
          1.4,
          1.4999999999999998,
          1.5999999999999996,
          1.6999999999999997,
          1.7999999999999996,
          1.8999999999999997,
          1.9999999999999998,
          2.0999999999999996,
          2.1999999999999993,
          2.3,
          2.3999999999999995,
          2.4999999999999996,
          2.5999999999999996,
          2.6999999999999993,
          2.8,
          2.8999999999999995,
          2.999999999999999,
          3.0999999999999996,
          3.1999999999999993,
          3.3,
          3.3999999999999995,
          3.499999999999999,
          3.5999999999999996,
          3.6999999999999993,
          3.799999999999999,
          3.8999999999999995,
          3.999999999999999,
          4.1,
          4.199999999999999,
          4.299999999999999,
          4.3999999999999995,
          4.499999999999999,
          4.599999999999999,
          4.699999999999999,
          4.799999999999999,
          4.8999999999999995,
          4.999999999999999,
          5.099999999999999,
          5.199999999999999,
          5.299999999999999,
          5.3999999999999995,
          5.499999999999999,
          5.599999999999999,
          5.699999999999999,
          5.799999999999999,
          5.8999999999999995,
          5.999999999999999,
          6.099999999999999,
          6.199999999999999,
          6.299999999999999,
          6.399999999999999,
          6.499999999999999,
          6.599999999999999,
          6.699999999999998,
          6.799999999999999,
          6.899999999999999,
          6.999999999999999,
          7.099999999999999,
          7.199999999999998,
          7.299999999999999,
          7.399999999999999,
          7.499999999999999,
          7.599999999999999,
          7.699999999999998,
          7.799999999999999,
          7.899999999999999
         ],
         "y": [
          -0.868571885172768,
          -0.968960344991376,
          -1.0337365099018951,
          -1.0749988661477141,
          -1.1003168037154007,
          -1.1146109310332744,
          -1.121177467029031,
          -1.1222818195858224,
          -1.1195146551293105,
          -1.1140109432365377,
          -1.1065890512062353,
          -1.0978426289452505,
          -1.0882037640736606,
          -1.0779876615145456,
          -1.0674246770681224,
          -1.056683388975915,
          -1.045887203438424,
          -1.0351263585191461,
          -1.0244666773634852,
          -1.0139560220064445,
          -1.00362909057191,
          -0.9935109862925793,
          -0.9836198519301813,
          -0.9739687838132149,
          -0.9645671927342415,
          -0.9554217478903198,
          -0.9465370157528563,
          -0.9379158843164266,
          -0.9295598435993964,
          -0.9214691757131644,
          -0.9136430926696735,
          -0.9060798475974379,
          -0.898776835195416,
          -0.8917306898967841,
          -0.8849373850451143,
          -0.8783923330433714,
          -0.8720904845581393,
          -0.8660264240637192,
          -0.8601944589853003,
          -0.854588700144393,
          -0.849203131903201,
          -0.8440316711696499,
          -0.8390682151461242,
          -0.8343066783099712,
          -0.82974101957723,
          -0.825365260893046,
          -0.8211734986888758,
          -0.8171599096680359,
          -0.8133187523629777,
          -0.8096443657932297,
          -0.8061311664015142,
          -0.8027736442648247,
          -0.7995663593825845,
          -0.7965039386482764,
          -0.7935810739234214,
          -0.7907925214611979,
          -0.7881331027773367,
          -0.7855977069417519,
          -0.7831812941674082,
          -0.7808789005040568,
          -0.7786856434001568,
          -0.7765967278766253,
          -0.7746074530543556,
          -0.7727132187915867,
          -0.7709095322120196,
          -0.7691920139360767,
          -0.7675564038633927,
          -0.7659985663889027,
          -0.764514494969931,
          -0.7631003159911958,
          -0.761752291901231,
          -0.7604668236152631,
          -0.7592404521958835
         ]
        },
        {
         "name": "UHF (S=1)",
         "type": "scatter",
         "x": [
          0.7,
          0.7999999999999999,
          0.8999999999999999,
          0.9999999999999999,
          1.0999999999999999,
          1.1999999999999997,
          1.2999999999999998,
          1.4,
          1.4999999999999998,
          1.5999999999999996,
          1.6999999999999997,
          1.7999999999999996,
          1.8999999999999997,
          1.9999999999999998,
          2.0999999999999996,
          2.1999999999999993,
          2.3,
          2.3999999999999995,
          2.4999999999999996,
          2.5999999999999996,
          2.6999999999999993,
          2.8,
          2.8999999999999995,
          2.999999999999999,
          3.0999999999999996,
          3.1999999999999993,
          3.3,
          3.3999999999999995,
          3.499999999999999,
          3.5999999999999996,
          3.6999999999999993,
          3.799999999999999,
          3.8999999999999995,
          3.999999999999999,
          4.1,
          4.199999999999999,
          4.299999999999999,
          4.3999999999999995,
          4.499999999999999,
          4.599999999999999,
          4.699999999999999,
          4.799999999999999,
          4.8999999999999995,
          4.999999999999999,
          5.099999999999999,
          5.199999999999999,
          5.299999999999999,
          5.3999999999999995,
          5.499999999999999,
          5.599999999999999,
          5.699999999999999,
          5.799999999999999,
          5.8999999999999995,
          5.999999999999999,
          6.099999999999999,
          6.199999999999999,
          6.299999999999999,
          6.399999999999999,
          6.499999999999999,
          6.599999999999999,
          6.699999999999998,
          6.799999999999999,
          6.899999999999999,
          6.999999999999999,
          7.099999999999999,
          7.199999999999998,
          7.299999999999999,
          7.399999999999999,
          7.499999999999999,
          7.599999999999999,
          7.699999999999998,
          7.799999999999999,
          7.899999999999999
         ],
         "y": [
          -0.36618676037367537,
          -0.5022695782008467,
          -0.6022689703994958,
          -0.6782483842051926,
          -0.7377419634292738,
          -0.7856090304107758,
          -0.8250519913043194,
          -0.858215930658577,
          -0.886559031777597,
          -0.9110887967243595,
          -0.9325157929164357,
          -0.9513546194814988,
          -0.9679900556756545,
          -0.9827199536320215,
          -0.99578272232765,
          -1.007374839721826,
          -1.0176620992997505,
          -1.0267870111214328,
          -1.034873852861842,
          -1.0420322485926097,
          -1.0483597767421329,
          -1.0539439004082403,
          -1.0588634084122746,
          -1.063189497437001,
          -1.066986601748239,
          -1.0703130461497077,
          -1.0732215821132158,
          -1.075759847726401,
          -1.0779707779069165,
          -1.0798929806567752,
          -1.0815610876593915,
          -1.0830060854770576,
          -1.0842556242234618,
          -1.0853343116867533,
          -1.0862639878478921,
          -1.0870639824958737,
          -1.087751355939542,
          -1.0883411228422193,
          -1.0888464621376894,
          -1.0892789069512832,
          -1.0896485242404088,
          -1.089964077402228,
          -1.0902331755196195,
          -1.0904624093082822,
          -1.0906574740987551,
          -1.0908232824992377,
          -1.0909640621675174,
          -1.091083446846447,
          -1.091184555378134,
          -1.091270061978135,
          -1.0913422580131336,
          -1.0914031059941856,
          -1.0914542864945118,
          -1.091497238694794,
          -1.091533195243645,
          -1.0915632120973284,
          -1.0915881939702032,
          -1.0916089159862588,
          -1.0916260420267363,
          -1.0916401405543936,
          -1.09165169758844,
          -1.091661128262652,
          -1.0916687864593941,
          -1.0916749731392774,
          -1.0916799435299456,
          -1.091683913357509,
          -1.091687064271227,
          -1.091689548579559,
          -1.0916914933957065,
          -1.0916930042695894,
          -1.0916941683695631,
          -1.0916950572659156,
          -1.0916957293594076
         ]
        },
        {
         "name": "GHF",
         "type": "scatter",
         "x": [
          0.7,
          0.7999999999999999,
          0.8999999999999999,
          0.9999999999999999,
          1.0999999999999999,
          1.1999999999999997,
          1.2999999999999998,
          1.4,
          1.4999999999999998,
          1.5999999999999996,
          1.6999999999999997,
          1.7999999999999996,
          1.8999999999999997,
          1.9999999999999998,
          2.0999999999999996,
          2.1999999999999993,
          2.3,
          2.3999999999999995,
          2.4999999999999996,
          2.5999999999999996,
          2.6999999999999993,
          2.8,
          2.8999999999999995,
          2.999999999999999,
          3.0999999999999996,
          3.1999999999999993,
          3.3,
          3.3999999999999995,
          3.499999999999999,
          3.5999999999999996,
          3.6999999999999993,
          3.799999999999999,
          3.8999999999999995,
          3.999999999999999,
          4.1,
          4.199999999999999,
          4.299999999999999,
          4.3999999999999995,
          4.499999999999999,
          4.599999999999999,
          4.699999999999999,
          4.799999999999999,
          4.8999999999999995,
          4.999999999999999,
          5.099999999999999,
          5.199999999999999,
          5.299999999999999,
          5.3999999999999995,
          5.499999999999999,
          5.599999999999999,
          5.699999999999999,
          5.799999999999999,
          5.8999999999999995,
          5.999999999999999,
          6.099999999999999,
          6.199999999999999,
          6.299999999999999,
          6.399999999999999,
          6.499999999999999,
          6.599999999999999,
          6.699999999999998,
          6.799999999999999,
          6.899999999999999,
          6.999999999999999,
          7.099999999999999,
          7.199999999999998,
          7.299999999999999,
          7.399999999999999,
          7.499999999999999,
          7.599999999999999,
          7.699999999999998,
          7.799999999999999,
          7.899999999999999
         ],
         "y": [
          -0.8685718851141424,
          -0.9689603447126851,
          -1.0337365115801957,
          -1.0749988664804768,
          -1.1003168033567552,
          -1.1146109287685089,
          -1.121177464524412,
          -1.122281818067652,
          -1.1195146490088688,
          -1.114010932017648,
          -1.1065890368925195,
          -1.097842606008978,
          -1.0882037224400947,
          -1.0779875632939193,
          -1.0674229437879081,
          -1.0579804178518417,
          -1.0511381099063324,
          -1.046747629975379,
          -1.0447613897911416,
          -1.0452641925027493,
          -1.0485228414972558,
          -1.0539434999330324,
          -1.0588632224494432,
          -1.063189376526793,
          -1.0669865083801384,
          -1.070312958008861,
          -1.0732215108801695,
          -1.0757597817732636,
          -1.0779707186181466,
          -1.079892924675526,
          -1.0815610363295902,
          -1.0830060302123306,
          -1.0842555847769006,
          -1.0853342734372835,
          -1.0862639381527608,
          -1.0870639339843924,
          -1.0877513084719173,
          -1.0883410766973158,
          -1.0888464168353336,
          -1.0892788622746523,
          -1.0896484801363326,
          -1.0899640338187369,
          -1.0902331324065964,
          -1.090462366617973,
          -1.0906574320456275,
          -1.090823240683194,
          -1.0909640205816495,
          -1.0910834054772465,
          -1.0911845142082268,
          -1.0912700209882364,
          -1.0913422171834155,
          -1.0914030653051983,
          -1.091454245927777,
          -1.0914971982331625,
          -1.0915331548714804,
          -1.0915631718005685,
          -1.091588153736357,
          -1.0916088758043332,
          -1.0916260019337312,
          -1.0916401004843035,
          -1.0916516575368675,
          -1.0916610882255577,
          -1.0916687464331665,
          -1.091674933120765,
          -1.0916799035164484,
          -1.0916838733467464,
          -1.0916870242613061,
          -1.0916895085689347,
          -1.0916914533831346,
          -1.091692964254095,
          -1.0916941283503936,
          -1.091695017242514,
          -1.0916956893313787
         ]
        }
       ],
       "layout": {
        "autosize": false,
        "height": 800,
        "legend": {
         "font": {
          "size": 18
         }
        },
        "template": {
         "data": {
          "bar": [
           {
            "error_x": {
             "color": "#2a3f5f"
            },
            "error_y": {
             "color": "#2a3f5f"
            },
            "marker": {
             "line": {
              "color": "#E5ECF6",
              "width": 0.5
             }
            },
            "type": "bar"
           }
          ],
          "barpolar": [
           {
            "marker": {
             "line": {
              "color": "#E5ECF6",
              "width": 0.5
             }
            },
            "type": "barpolar"
           }
          ],
          "carpet": [
           {
            "aaxis": {
             "endlinecolor": "#2a3f5f",
             "gridcolor": "white",
             "linecolor": "white",
             "minorgridcolor": "white",
             "startlinecolor": "#2a3f5f"
            },
            "baxis": {
             "endlinecolor": "#2a3f5f",
             "gridcolor": "white",
             "linecolor": "white",
             "minorgridcolor": "white",
             "startlinecolor": "#2a3f5f"
            },
            "type": "carpet"
           }
          ],
          "choropleth": [
           {
            "colorbar": {
             "outlinewidth": 0,
             "ticks": ""
            },
            "type": "choropleth"
           }
          ],
          "contour": [
           {
            "colorbar": {
             "outlinewidth": 0,
             "ticks": ""
            },
            "colorscale": [
             [
              0,
              "#0d0887"
             ],
             [
              0.1111111111111111,
              "#46039f"
             ],
             [
              0.2222222222222222,
              "#7201a8"
             ],
             [
              0.3333333333333333,
              "#9c179e"
             ],
             [
              0.4444444444444444,
              "#bd3786"
             ],
             [
              0.5555555555555556,
              "#d8576b"
             ],
             [
              0.6666666666666666,
              "#ed7953"
             ],
             [
              0.7777777777777778,
              "#fb9f3a"
             ],
             [
              0.8888888888888888,
              "#fdca26"
             ],
             [
              1,
              "#f0f921"
             ]
            ],
            "type": "contour"
           }
          ],
          "contourcarpet": [
           {
            "colorbar": {
             "outlinewidth": 0,
             "ticks": ""
            },
            "type": "contourcarpet"
           }
          ],
          "heatmap": [
           {
            "colorbar": {
             "outlinewidth": 0,
             "ticks": ""
            },
            "colorscale": [
             [
              0,
              "#0d0887"
             ],
             [
              0.1111111111111111,
              "#46039f"
             ],
             [
              0.2222222222222222,
              "#7201a8"
             ],
             [
              0.3333333333333333,
              "#9c179e"
             ],
             [
              0.4444444444444444,
              "#bd3786"
             ],
             [
              0.5555555555555556,
              "#d8576b"
             ],
             [
              0.6666666666666666,
              "#ed7953"
             ],
             [
              0.7777777777777778,
              "#fb9f3a"
             ],
             [
              0.8888888888888888,
              "#fdca26"
             ],
             [
              1,
              "#f0f921"
             ]
            ],
            "type": "heatmap"
           }
          ],
          "heatmapgl": [
           {
            "colorbar": {
             "outlinewidth": 0,
             "ticks": ""
            },
            "colorscale": [
             [
              0,
              "#0d0887"
             ],
             [
              0.1111111111111111,
              "#46039f"
             ],
             [
              0.2222222222222222,
              "#7201a8"
             ],
             [
              0.3333333333333333,
              "#9c179e"
             ],
             [
              0.4444444444444444,
              "#bd3786"
             ],
             [
              0.5555555555555556,
              "#d8576b"
             ],
             [
              0.6666666666666666,
              "#ed7953"
             ],
             [
              0.7777777777777778,
              "#fb9f3a"
             ],
             [
              0.8888888888888888,
              "#fdca26"
             ],
             [
              1,
              "#f0f921"
             ]
            ],
            "type": "heatmapgl"
           }
          ],
          "histogram": [
           {
            "marker": {
             "colorbar": {
              "outlinewidth": 0,
              "ticks": ""
             }
            },
            "type": "histogram"
           }
          ],
          "histogram2d": [
           {
            "colorbar": {
             "outlinewidth": 0,
             "ticks": ""
            },
            "colorscale": [
             [
              0,
              "#0d0887"
             ],
             [
              0.1111111111111111,
              "#46039f"
             ],
             [
              0.2222222222222222,
              "#7201a8"
             ],
             [
              0.3333333333333333,
              "#9c179e"
             ],
             [
              0.4444444444444444,
              "#bd3786"
             ],
             [
              0.5555555555555556,
              "#d8576b"
             ],
             [
              0.6666666666666666,
              "#ed7953"
             ],
             [
              0.7777777777777778,
              "#fb9f3a"
             ],
             [
              0.8888888888888888,
              "#fdca26"
             ],
             [
              1,
              "#f0f921"
             ]
            ],
            "type": "histogram2d"
           }
          ],
          "histogram2dcontour": [
           {
            "colorbar": {
             "outlinewidth": 0,
             "ticks": ""
            },
            "colorscale": [
             [
              0,
              "#0d0887"
             ],
             [
              0.1111111111111111,
              "#46039f"
             ],
             [
              0.2222222222222222,
              "#7201a8"
             ],
             [
              0.3333333333333333,
              "#9c179e"
             ],
             [
              0.4444444444444444,
              "#bd3786"
             ],
             [
              0.5555555555555556,
              "#d8576b"
             ],
             [
              0.6666666666666666,
              "#ed7953"
             ],
             [
              0.7777777777777778,
              "#fb9f3a"
             ],
             [
              0.8888888888888888,
              "#fdca26"
             ],
             [
              1,
              "#f0f921"
             ]
            ],
            "type": "histogram2dcontour"
           }
          ],
          "mesh3d": [
           {
            "colorbar": {
             "outlinewidth": 0,
             "ticks": ""
            },
            "type": "mesh3d"
           }
          ],
          "parcoords": [
           {
            "line": {
             "colorbar": {
              "outlinewidth": 0,
              "ticks": ""
             }
            },
            "type": "parcoords"
           }
          ],
          "pie": [
           {
            "automargin": true,
            "type": "pie"
           }
          ],
          "scatter": [
           {
            "marker": {
             "colorbar": {
              "outlinewidth": 0,
              "ticks": ""
             }
            },
            "type": "scatter"
           }
          ],
          "scatter3d": [
           {
            "line": {
             "colorbar": {
              "outlinewidth": 0,
              "ticks": ""
             }
            },
            "marker": {
             "colorbar": {
              "outlinewidth": 0,
              "ticks": ""
             }
            },
            "type": "scatter3d"
           }
          ],
          "scattercarpet": [
           {
            "marker": {
             "colorbar": {
              "outlinewidth": 0,
              "ticks": ""
             }
            },
            "type": "scattercarpet"
           }
          ],
          "scattergeo": [
           {
            "marker": {
             "colorbar": {
              "outlinewidth": 0,
              "ticks": ""
             }
            },
            "type": "scattergeo"
           }
          ],
          "scattergl": [
           {
            "marker": {
             "colorbar": {
              "outlinewidth": 0,
              "ticks": ""
             }
            },
            "type": "scattergl"
           }
          ],
          "scattermapbox": [
           {
            "marker": {
             "colorbar": {
              "outlinewidth": 0,
              "ticks": ""
             }
            },
            "type": "scattermapbox"
           }
          ],
          "scatterpolar": [
           {
            "marker": {
             "colorbar": {
              "outlinewidth": 0,
              "ticks": ""
             }
            },
            "type": "scatterpolar"
           }
          ],
          "scatterpolargl": [
           {
            "marker": {
             "colorbar": {
              "outlinewidth": 0,
              "ticks": ""
             }
            },
            "type": "scatterpolargl"
           }
          ],
          "scatterternary": [
           {
            "marker": {
             "colorbar": {
              "outlinewidth": 0,
              "ticks": ""
             }
            },
            "type": "scatterternary"
           }
          ],
          "surface": [
           {
            "colorbar": {
             "outlinewidth": 0,
             "ticks": ""
            },
            "colorscale": [
             [
              0,
              "#0d0887"
             ],
             [
              0.1111111111111111,
              "#46039f"
             ],
             [
              0.2222222222222222,
              "#7201a8"
             ],
             [
              0.3333333333333333,
              "#9c179e"
             ],
             [
              0.4444444444444444,
              "#bd3786"
             ],
             [
              0.5555555555555556,
              "#d8576b"
             ],
             [
              0.6666666666666666,
              "#ed7953"
             ],
             [
              0.7777777777777778,
              "#fb9f3a"
             ],
             [
              0.8888888888888888,
              "#fdca26"
             ],
             [
              1,
              "#f0f921"
             ]
            ],
            "type": "surface"
           }
          ],
          "table": [
           {
            "cells": {
             "fill": {
              "color": "#EBF0F8"
             },
             "line": {
              "color": "white"
             }
            },
            "header": {
             "fill": {
              "color": "#C8D4E3"
             },
             "line": {
              "color": "white"
             }
            },
            "type": "table"
           }
          ]
         },
         "layout": {
          "annotationdefaults": {
           "arrowcolor": "#2a3f5f",
           "arrowhead": 0,
           "arrowwidth": 1
          },
          "autotypenumbers": "strict",
          "coloraxis": {
           "colorbar": {
            "outlinewidth": 0,
            "ticks": ""
           }
          },
          "colorscale": {
           "diverging": [
            [
             0,
             "#8e0152"
            ],
            [
             0.1,
             "#c51b7d"
            ],
            [
             0.2,
             "#de77ae"
            ],
            [
             0.3,
             "#f1b6da"
            ],
            [
             0.4,
             "#fde0ef"
            ],
            [
             0.5,
             "#f7f7f7"
            ],
            [
             0.6,
             "#e6f5d0"
            ],
            [
             0.7,
             "#b8e186"
            ],
            [
             0.8,
             "#7fbc41"
            ],
            [
             0.9,
             "#4d9221"
            ],
            [
             1,
             "#276419"
            ]
           ],
           "sequential": [
            [
             0,
             "#0d0887"
            ],
            [
             0.1111111111111111,
             "#46039f"
            ],
            [
             0.2222222222222222,
             "#7201a8"
            ],
            [
             0.3333333333333333,
             "#9c179e"
            ],
            [
             0.4444444444444444,
             "#bd3786"
            ],
            [
             0.5555555555555556,
             "#d8576b"
            ],
            [
             0.6666666666666666,
             "#ed7953"
            ],
            [
             0.7777777777777778,
             "#fb9f3a"
            ],
            [
             0.8888888888888888,
             "#fdca26"
            ],
            [
             1,
             "#f0f921"
            ]
           ],
           "sequentialminus": [
            [
             0,
             "#0d0887"
            ],
            [
             0.1111111111111111,
             "#46039f"
            ],
            [
             0.2222222222222222,
             "#7201a8"
            ],
            [
             0.3333333333333333,
             "#9c179e"
            ],
            [
             0.4444444444444444,
             "#bd3786"
            ],
            [
             0.5555555555555556,
             "#d8576b"
            ],
            [
             0.6666666666666666,
             "#ed7953"
            ],
            [
             0.7777777777777778,
             "#fb9f3a"
            ],
            [
             0.8888888888888888,
             "#fdca26"
            ],
            [
             1,
             "#f0f921"
            ]
           ]
          },
          "colorway": [
           "#636efa",
           "#EF553B",
           "#00cc96",
           "#ab63fa",
           "#FFA15A",
           "#19d3f3",
           "#FF6692",
           "#B6E880",
           "#FF97FF",
           "#FECB52"
          ],
          "font": {
           "color": "#2a3f5f"
          },
          "geo": {
           "bgcolor": "white",
           "lakecolor": "white",
           "landcolor": "#E5ECF6",
           "showlakes": true,
           "showland": true,
           "subunitcolor": "white"
          },
          "hoverlabel": {
           "align": "left"
          },
          "hovermode": "closest",
          "mapbox": {
           "style": "light"
          },
          "paper_bgcolor": "white",
          "plot_bgcolor": "#E5ECF6",
          "polar": {
           "angularaxis": {
            "gridcolor": "white",
            "linecolor": "white",
            "ticks": ""
           },
           "bgcolor": "#E5ECF6",
           "radialaxis": {
            "gridcolor": "white",
            "linecolor": "white",
            "ticks": ""
           }
          },
          "scene": {
           "xaxis": {
            "backgroundcolor": "#E5ECF6",
            "gridcolor": "white",
            "gridwidth": 2,
            "linecolor": "white",
            "showbackground": true,
            "ticks": "",
            "zerolinecolor": "white"
           },
           "yaxis": {
            "backgroundcolor": "#E5ECF6",
            "gridcolor": "white",
            "gridwidth": 2,
            "linecolor": "white",
            "showbackground": true,
            "ticks": "",
            "zerolinecolor": "white"
           },
           "zaxis": {
            "backgroundcolor": "#E5ECF6",
            "gridcolor": "white",
            "gridwidth": 2,
            "linecolor": "white",
            "showbackground": true,
            "ticks": "",
            "zerolinecolor": "white"
           }
          },
          "shapedefaults": {
           "line": {
            "color": "#2a3f5f"
           }
          },
          "ternary": {
           "aaxis": {
            "gridcolor": "white",
            "linecolor": "white",
            "ticks": ""
           },
           "baxis": {
            "gridcolor": "white",
            "linecolor": "white",
            "ticks": ""
           },
           "bgcolor": "#E5ECF6",
           "caxis": {
            "gridcolor": "white",
            "linecolor": "white",
            "ticks": ""
           }
          },
          "title": {
           "x": 0.05
          },
          "xaxis": {
           "automargin": true,
           "gridcolor": "white",
           "linecolor": "white",
           "ticks": "",
           "title": {
            "standoff": 15
           },
           "zerolinecolor": "white",
           "zerolinewidth": 2
          },
          "yaxis": {
           "automargin": true,
           "gridcolor": "white",
           "linecolor": "white",
           "ticks": "",
           "title": {
            "standoff": 15
           },
           "zerolinecolor": "white",
           "zerolinewidth": 2
          }
         }
        },
        "width": 800,
        "xaxis": {
         "title": {
          "font": {
           "size": 18
          },
          "text": "Internuclear distance (a.u.)"
         }
        },
        "yaxis": {
         "title": {
          "font": {
           "size": 18
          },
          "text": "Energy (a.u.)"
         }
        }
       }
      },
      "text/html": [
       "<div>                            <div id=\"7683cf35-f753-44d4-b611-0fa5a7b71357\" class=\"plotly-graph-div\" style=\"height:800px; width:800px;\"></div>            <script type=\"text/javascript\">                require([\"plotly\"], function(Plotly) {                    window.PLOTLYENV=window.PLOTLYENV || {};                                    if (document.getElementById(\"7683cf35-f753-44d4-b611-0fa5a7b71357\")) {                    Plotly.newPlot(                        \"7683cf35-f753-44d4-b611-0fa5a7b71357\",                        [{\"name\": \"RHF\", \"type\": \"scatter\", \"x\": [0.7, 0.7999999999999999, 0.8999999999999999, 0.9999999999999999, 1.0999999999999999, 1.1999999999999997, 1.2999999999999998, 1.4, 1.4999999999999998, 1.5999999999999996, 1.6999999999999997, 1.7999999999999996, 1.8999999999999997, 1.9999999999999998, 2.0999999999999996, 2.1999999999999993, 2.3, 2.3999999999999995, 2.4999999999999996, 2.5999999999999996, 2.6999999999999993, 2.8, 2.8999999999999995, 2.999999999999999, 3.0999999999999996, 3.1999999999999993, 3.3, 3.3999999999999995, 3.499999999999999, 3.5999999999999996, 3.6999999999999993, 3.799999999999999, 3.8999999999999995, 3.999999999999999, 4.1, 4.199999999999999, 4.299999999999999, 4.3999999999999995, 4.499999999999999, 4.599999999999999, 4.699999999999999, 4.799999999999999, 4.8999999999999995, 4.999999999999999, 5.099999999999999, 5.199999999999999, 5.299999999999999, 5.3999999999999995, 5.499999999999999, 5.599999999999999, 5.699999999999999, 5.799999999999999, 5.8999999999999995, 5.999999999999999, 6.099999999999999, 6.199999999999999, 6.299999999999999, 6.399999999999999, 6.499999999999999, 6.599999999999999, 6.699999999999998, 6.799999999999999, 6.899999999999999, 6.999999999999999, 7.099999999999999, 7.199999999999998, 7.299999999999999, 7.399999999999999, 7.499999999999999, 7.599999999999999, 7.699999999999998, 7.799999999999999, 7.899999999999999], \"y\": [-0.8685718877964279, -0.9689603478211368, -1.0337365126547984, -1.0749988685765455, -1.1003168056741859, -1.1146109324913143, -1.1211774680415647, -1.1222818226579432, -1.1195146571411911, -1.1140109445159028, -1.106589052005214, -1.0978426294407848, -1.088203765883697, -1.0779876627213185, -1.0674246778921699, -1.0566833895564933, -1.0458872038629017, -1.0351263588424937, -1.024466677620674, -1.0139560222201345, -1.0036290907571577, -0.9935109864597174, -0.9836198520865509, -0.9739687839642726, -0.9645671928842171, -0.955421748042629, -0.9465370159103481, -0.9379158844815259, -0.9295598437741774, -0.9214691758993744, -0.9136430928687354, -0.9060798478103913, -0.8987768354229155, -0.8917306901390571, -0.884937385301938, -0.8783923333140691, -0.8720904848415926, -0.8660264243584268, -0.8601944592893818, -0.8545887004557242, -0.8492031322194855, -0.844031671488514, -0.8390682154652118, -0.83430667862703, -0.8297410198901986, -0.8253652612000608, -0.8211734989883582, -0.8171599099220771, -0.8133187526102386, -0.8096443660327426, -0.8061311666325853, -0.8027736444870003, -0.7995663595956266, -0.7965039388521251, -0.7935810741181638, -0.790792521647038, -0.788133102954569, -0.7855977071107316, -0.783181294328536, -0.7808789006577601, -0.778685643546873, -0.7765967280167947, -0.7746074531884111, -0.7727132189199466, -0.7709095323350847, -0.7691920140542274, -0.7675564039769875, -0.7659985664982759, -0.7645144950753935, -0.7631003160930359, -0.7617522919997144, -0.7604668237106345, -0.7592404522883665]}, {\"name\": \"UHF (S=0)\", \"type\": \"scatter\", \"x\": [0.7, 0.7999999999999999, 0.8999999999999999, 0.9999999999999999, 1.0999999999999999, 1.1999999999999997, 1.2999999999999998, 1.4, 1.4999999999999998, 1.5999999999999996, 1.6999999999999997, 1.7999999999999996, 1.8999999999999997, 1.9999999999999998, 2.0999999999999996, 2.1999999999999993, 2.3, 2.3999999999999995, 2.4999999999999996, 2.5999999999999996, 2.6999999999999993, 2.8, 2.8999999999999995, 2.999999999999999, 3.0999999999999996, 3.1999999999999993, 3.3, 3.3999999999999995, 3.499999999999999, 3.5999999999999996, 3.6999999999999993, 3.799999999999999, 3.8999999999999995, 3.999999999999999, 4.1, 4.199999999999999, 4.299999999999999, 4.3999999999999995, 4.499999999999999, 4.599999999999999, 4.699999999999999, 4.799999999999999, 4.8999999999999995, 4.999999999999999, 5.099999999999999, 5.199999999999999, 5.299999999999999, 5.3999999999999995, 5.499999999999999, 5.599999999999999, 5.699999999999999, 5.799999999999999, 5.8999999999999995, 5.999999999999999, 6.099999999999999, 6.199999999999999, 6.299999999999999, 6.399999999999999, 6.499999999999999, 6.599999999999999, 6.699999999999998, 6.799999999999999, 6.899999999999999, 6.999999999999999, 7.099999999999999, 7.199999999999998, 7.299999999999999, 7.399999999999999, 7.499999999999999, 7.599999999999999, 7.699999999999998, 7.799999999999999, 7.899999999999999], \"y\": [-0.868571885172768, -0.968960344991376, -1.0337365099018951, -1.0749988661477141, -1.1003168037154007, -1.1146109310332744, -1.121177467029031, -1.1222818195858224, -1.1195146551293105, -1.1140109432365377, -1.1065890512062353, -1.0978426289452505, -1.0882037640736606, -1.0779876615145456, -1.0674246770681224, -1.056683388975915, -1.045887203438424, -1.0351263585191461, -1.0244666773634852, -1.0139560220064445, -1.00362909057191, -0.9935109862925793, -0.9836198519301813, -0.9739687838132149, -0.9645671927342415, -0.9554217478903198, -0.9465370157528563, -0.9379158843164266, -0.9295598435993964, -0.9214691757131644, -0.9136430926696735, -0.9060798475974379, -0.898776835195416, -0.8917306898967841, -0.8849373850451143, -0.8783923330433714, -0.8720904845581393, -0.8660264240637192, -0.8601944589853003, -0.854588700144393, -0.849203131903201, -0.8440316711696499, -0.8390682151461242, -0.8343066783099712, -0.82974101957723, -0.825365260893046, -0.8211734986888758, -0.8171599096680359, -0.8133187523629777, -0.8096443657932297, -0.8061311664015142, -0.8027736442648247, -0.7995663593825845, -0.7965039386482764, -0.7935810739234214, -0.7907925214611979, -0.7881331027773367, -0.7855977069417519, -0.7831812941674082, -0.7808789005040568, -0.7786856434001568, -0.7765967278766253, -0.7746074530543556, -0.7727132187915867, -0.7709095322120196, -0.7691920139360767, -0.7675564038633927, -0.7659985663889027, -0.764514494969931, -0.7631003159911958, -0.761752291901231, -0.7604668236152631, -0.7592404521958835]}, {\"name\": \"UHF (S=1)\", \"type\": \"scatter\", \"x\": [0.7, 0.7999999999999999, 0.8999999999999999, 0.9999999999999999, 1.0999999999999999, 1.1999999999999997, 1.2999999999999998, 1.4, 1.4999999999999998, 1.5999999999999996, 1.6999999999999997, 1.7999999999999996, 1.8999999999999997, 1.9999999999999998, 2.0999999999999996, 2.1999999999999993, 2.3, 2.3999999999999995, 2.4999999999999996, 2.5999999999999996, 2.6999999999999993, 2.8, 2.8999999999999995, 2.999999999999999, 3.0999999999999996, 3.1999999999999993, 3.3, 3.3999999999999995, 3.499999999999999, 3.5999999999999996, 3.6999999999999993, 3.799999999999999, 3.8999999999999995, 3.999999999999999, 4.1, 4.199999999999999, 4.299999999999999, 4.3999999999999995, 4.499999999999999, 4.599999999999999, 4.699999999999999, 4.799999999999999, 4.8999999999999995, 4.999999999999999, 5.099999999999999, 5.199999999999999, 5.299999999999999, 5.3999999999999995, 5.499999999999999, 5.599999999999999, 5.699999999999999, 5.799999999999999, 5.8999999999999995, 5.999999999999999, 6.099999999999999, 6.199999999999999, 6.299999999999999, 6.399999999999999, 6.499999999999999, 6.599999999999999, 6.699999999999998, 6.799999999999999, 6.899999999999999, 6.999999999999999, 7.099999999999999, 7.199999999999998, 7.299999999999999, 7.399999999999999, 7.499999999999999, 7.599999999999999, 7.699999999999998, 7.799999999999999, 7.899999999999999], \"y\": [-0.36618676037367537, -0.5022695782008467, -0.6022689703994958, -0.6782483842051926, -0.7377419634292738, -0.7856090304107758, -0.8250519913043194, -0.858215930658577, -0.886559031777597, -0.9110887967243595, -0.9325157929164357, -0.9513546194814988, -0.9679900556756545, -0.9827199536320215, -0.99578272232765, -1.007374839721826, -1.0176620992997505, -1.0267870111214328, -1.034873852861842, -1.0420322485926097, -1.0483597767421329, -1.0539439004082403, -1.0588634084122746, -1.063189497437001, -1.066986601748239, -1.0703130461497077, -1.0732215821132158, -1.075759847726401, -1.0779707779069165, -1.0798929806567752, -1.0815610876593915, -1.0830060854770576, -1.0842556242234618, -1.0853343116867533, -1.0862639878478921, -1.0870639824958737, -1.087751355939542, -1.0883411228422193, -1.0888464621376894, -1.0892789069512832, -1.0896485242404088, -1.089964077402228, -1.0902331755196195, -1.0904624093082822, -1.0906574740987551, -1.0908232824992377, -1.0909640621675174, -1.091083446846447, -1.091184555378134, -1.091270061978135, -1.0913422580131336, -1.0914031059941856, -1.0914542864945118, -1.091497238694794, -1.091533195243645, -1.0915632120973284, -1.0915881939702032, -1.0916089159862588, -1.0916260420267363, -1.0916401405543936, -1.09165169758844, -1.091661128262652, -1.0916687864593941, -1.0916749731392774, -1.0916799435299456, -1.091683913357509, -1.091687064271227, -1.091689548579559, -1.0916914933957065, -1.0916930042695894, -1.0916941683695631, -1.0916950572659156, -1.0916957293594076]}, {\"name\": \"GHF\", \"type\": \"scatter\", \"x\": [0.7, 0.7999999999999999, 0.8999999999999999, 0.9999999999999999, 1.0999999999999999, 1.1999999999999997, 1.2999999999999998, 1.4, 1.4999999999999998, 1.5999999999999996, 1.6999999999999997, 1.7999999999999996, 1.8999999999999997, 1.9999999999999998, 2.0999999999999996, 2.1999999999999993, 2.3, 2.3999999999999995, 2.4999999999999996, 2.5999999999999996, 2.6999999999999993, 2.8, 2.8999999999999995, 2.999999999999999, 3.0999999999999996, 3.1999999999999993, 3.3, 3.3999999999999995, 3.499999999999999, 3.5999999999999996, 3.6999999999999993, 3.799999999999999, 3.8999999999999995, 3.999999999999999, 4.1, 4.199999999999999, 4.299999999999999, 4.3999999999999995, 4.499999999999999, 4.599999999999999, 4.699999999999999, 4.799999999999999, 4.8999999999999995, 4.999999999999999, 5.099999999999999, 5.199999999999999, 5.299999999999999, 5.3999999999999995, 5.499999999999999, 5.599999999999999, 5.699999999999999, 5.799999999999999, 5.8999999999999995, 5.999999999999999, 6.099999999999999, 6.199999999999999, 6.299999999999999, 6.399999999999999, 6.499999999999999, 6.599999999999999, 6.699999999999998, 6.799999999999999, 6.899999999999999, 6.999999999999999, 7.099999999999999, 7.199999999999998, 7.299999999999999, 7.399999999999999, 7.499999999999999, 7.599999999999999, 7.699999999999998, 7.799999999999999, 7.899999999999999], \"y\": [-0.8685718851141424, -0.9689603447126851, -1.0337365115801957, -1.0749988664804768, -1.1003168033567552, -1.1146109287685089, -1.121177464524412, -1.122281818067652, -1.1195146490088688, -1.114010932017648, -1.1065890368925195, -1.097842606008978, -1.0882037224400947, -1.0779875632939193, -1.0674229437879081, -1.0579804178518417, -1.0511381099063324, -1.046747629975379, -1.0447613897911416, -1.0452641925027493, -1.0485228414972558, -1.0539434999330324, -1.0588632224494432, -1.063189376526793, -1.0669865083801384, -1.070312958008861, -1.0732215108801695, -1.0757597817732636, -1.0779707186181466, -1.079892924675526, -1.0815610363295902, -1.0830060302123306, -1.0842555847769006, -1.0853342734372835, -1.0862639381527608, -1.0870639339843924, -1.0877513084719173, -1.0883410766973158, -1.0888464168353336, -1.0892788622746523, -1.0896484801363326, -1.0899640338187369, -1.0902331324065964, -1.090462366617973, -1.0906574320456275, -1.090823240683194, -1.0909640205816495, -1.0910834054772465, -1.0911845142082268, -1.0912700209882364, -1.0913422171834155, -1.0914030653051983, -1.091454245927777, -1.0914971982331625, -1.0915331548714804, -1.0915631718005685, -1.091588153736357, -1.0916088758043332, -1.0916260019337312, -1.0916401004843035, -1.0916516575368675, -1.0916610882255577, -1.0916687464331665, -1.091674933120765, -1.0916799035164484, -1.0916838733467464, -1.0916870242613061, -1.0916895085689347, -1.0916914533831346, -1.091692964254095, -1.0916941283503936, -1.091695017242514, -1.0916956893313787]}],                        {\"autosize\": false, \"height\": 800, \"legend\": {\"font\": {\"size\": 18}}, \"template\": {\"data\": {\"bar\": [{\"error_x\": {\"color\": \"#2a3f5f\"}, \"error_y\": {\"color\": \"#2a3f5f\"}, \"marker\": {\"line\": {\"color\": \"#E5ECF6\", \"width\": 0.5}}, \"type\": \"bar\"}], \"barpolar\": [{\"marker\": {\"line\": {\"color\": \"#E5ECF6\", \"width\": 0.5}}, \"type\": \"barpolar\"}], \"carpet\": [{\"aaxis\": {\"endlinecolor\": \"#2a3f5f\", \"gridcolor\": \"white\", \"linecolor\": \"white\", \"minorgridcolor\": \"white\", \"startlinecolor\": \"#2a3f5f\"}, \"baxis\": {\"endlinecolor\": \"#2a3f5f\", \"gridcolor\": \"white\", \"linecolor\": \"white\", \"minorgridcolor\": \"white\", \"startlinecolor\": \"#2a3f5f\"}, \"type\": \"carpet\"}], \"choropleth\": [{\"colorbar\": {\"outlinewidth\": 0, \"ticks\": \"\"}, \"type\": \"choropleth\"}], \"contour\": [{\"colorbar\": {\"outlinewidth\": 0, \"ticks\": \"\"}, \"colorscale\": [[0.0, \"#0d0887\"], [0.1111111111111111, \"#46039f\"], [0.2222222222222222, \"#7201a8\"], [0.3333333333333333, \"#9c179e\"], [0.4444444444444444, \"#bd3786\"], [0.5555555555555556, \"#d8576b\"], [0.6666666666666666, \"#ed7953\"], [0.7777777777777778, \"#fb9f3a\"], [0.8888888888888888, \"#fdca26\"], [1.0, \"#f0f921\"]], \"type\": \"contour\"}], \"contourcarpet\": [{\"colorbar\": {\"outlinewidth\": 0, \"ticks\": \"\"}, \"type\": \"contourcarpet\"}], \"heatmap\": [{\"colorbar\": {\"outlinewidth\": 0, \"ticks\": \"\"}, \"colorscale\": [[0.0, \"#0d0887\"], [0.1111111111111111, \"#46039f\"], [0.2222222222222222, \"#7201a8\"], [0.3333333333333333, \"#9c179e\"], [0.4444444444444444, \"#bd3786\"], [0.5555555555555556, \"#d8576b\"], [0.6666666666666666, \"#ed7953\"], [0.7777777777777778, \"#fb9f3a\"], [0.8888888888888888, \"#fdca26\"], [1.0, \"#f0f921\"]], \"type\": \"heatmap\"}], \"heatmapgl\": [{\"colorbar\": {\"outlinewidth\": 0, \"ticks\": \"\"}, \"colorscale\": [[0.0, \"#0d0887\"], [0.1111111111111111, \"#46039f\"], [0.2222222222222222, \"#7201a8\"], [0.3333333333333333, \"#9c179e\"], [0.4444444444444444, \"#bd3786\"], [0.5555555555555556, \"#d8576b\"], [0.6666666666666666, \"#ed7953\"], [0.7777777777777778, \"#fb9f3a\"], [0.8888888888888888, \"#fdca26\"], [1.0, \"#f0f921\"]], \"type\": \"heatmapgl\"}], \"histogram\": [{\"marker\": {\"colorbar\": {\"outlinewidth\": 0, \"ticks\": \"\"}}, \"type\": \"histogram\"}], \"histogram2d\": [{\"colorbar\": {\"outlinewidth\": 0, \"ticks\": \"\"}, \"colorscale\": [[0.0, \"#0d0887\"], [0.1111111111111111, \"#46039f\"], [0.2222222222222222, \"#7201a8\"], [0.3333333333333333, \"#9c179e\"], [0.4444444444444444, \"#bd3786\"], [0.5555555555555556, \"#d8576b\"], [0.6666666666666666, \"#ed7953\"], [0.7777777777777778, \"#fb9f3a\"], [0.8888888888888888, \"#fdca26\"], [1.0, \"#f0f921\"]], \"type\": \"histogram2d\"}], \"histogram2dcontour\": [{\"colorbar\": {\"outlinewidth\": 0, \"ticks\": \"\"}, \"colorscale\": [[0.0, \"#0d0887\"], [0.1111111111111111, \"#46039f\"], [0.2222222222222222, \"#7201a8\"], [0.3333333333333333, \"#9c179e\"], [0.4444444444444444, \"#bd3786\"], [0.5555555555555556, \"#d8576b\"], [0.6666666666666666, \"#ed7953\"], [0.7777777777777778, \"#fb9f3a\"], [0.8888888888888888, \"#fdca26\"], [1.0, \"#f0f921\"]], \"type\": \"histogram2dcontour\"}], \"mesh3d\": [{\"colorbar\": {\"outlinewidth\": 0, \"ticks\": \"\"}, \"type\": \"mesh3d\"}], \"parcoords\": [{\"line\": {\"colorbar\": {\"outlinewidth\": 0, \"ticks\": \"\"}}, \"type\": \"parcoords\"}], \"pie\": [{\"automargin\": true, \"type\": \"pie\"}], \"scatter\": [{\"marker\": {\"colorbar\": {\"outlinewidth\": 0, \"ticks\": \"\"}}, \"type\": \"scatter\"}], \"scatter3d\": [{\"line\": {\"colorbar\": {\"outlinewidth\": 0, \"ticks\": \"\"}}, \"marker\": {\"colorbar\": {\"outlinewidth\": 0, \"ticks\": \"\"}}, \"type\": \"scatter3d\"}], \"scattercarpet\": [{\"marker\": {\"colorbar\": {\"outlinewidth\": 0, \"ticks\": \"\"}}, \"type\": \"scattercarpet\"}], \"scattergeo\": [{\"marker\": {\"colorbar\": {\"outlinewidth\": 0, \"ticks\": \"\"}}, \"type\": \"scattergeo\"}], \"scattergl\": [{\"marker\": {\"colorbar\": {\"outlinewidth\": 0, \"ticks\": \"\"}}, \"type\": \"scattergl\"}], \"scattermapbox\": [{\"marker\": {\"colorbar\": {\"outlinewidth\": 0, \"ticks\": \"\"}}, \"type\": \"scattermapbox\"}], \"scatterpolar\": [{\"marker\": {\"colorbar\": {\"outlinewidth\": 0, \"ticks\": \"\"}}, \"type\": \"scatterpolar\"}], \"scatterpolargl\": [{\"marker\": {\"colorbar\": {\"outlinewidth\": 0, \"ticks\": \"\"}}, \"type\": \"scatterpolargl\"}], \"scatterternary\": [{\"marker\": {\"colorbar\": {\"outlinewidth\": 0, \"ticks\": \"\"}}, \"type\": \"scatterternary\"}], \"surface\": [{\"colorbar\": {\"outlinewidth\": 0, \"ticks\": \"\"}, \"colorscale\": [[0.0, \"#0d0887\"], [0.1111111111111111, \"#46039f\"], [0.2222222222222222, \"#7201a8\"], [0.3333333333333333, \"#9c179e\"], [0.4444444444444444, \"#bd3786\"], [0.5555555555555556, \"#d8576b\"], [0.6666666666666666, \"#ed7953\"], [0.7777777777777778, \"#fb9f3a\"], [0.8888888888888888, \"#fdca26\"], [1.0, \"#f0f921\"]], \"type\": \"surface\"}], \"table\": [{\"cells\": {\"fill\": {\"color\": \"#EBF0F8\"}, \"line\": {\"color\": \"white\"}}, \"header\": {\"fill\": {\"color\": \"#C8D4E3\"}, \"line\": {\"color\": \"white\"}}, \"type\": \"table\"}]}, \"layout\": {\"annotationdefaults\": {\"arrowcolor\": \"#2a3f5f\", \"arrowhead\": 0, \"arrowwidth\": 1}, \"autotypenumbers\": \"strict\", \"coloraxis\": {\"colorbar\": {\"outlinewidth\": 0, \"ticks\": \"\"}}, \"colorscale\": {\"diverging\": [[0, \"#8e0152\"], [0.1, \"#c51b7d\"], [0.2, \"#de77ae\"], [0.3, \"#f1b6da\"], [0.4, \"#fde0ef\"], [0.5, \"#f7f7f7\"], [0.6, \"#e6f5d0\"], [0.7, \"#b8e186\"], [0.8, \"#7fbc41\"], [0.9, \"#4d9221\"], [1, \"#276419\"]], \"sequential\": [[0.0, \"#0d0887\"], [0.1111111111111111, \"#46039f\"], [0.2222222222222222, \"#7201a8\"], [0.3333333333333333, \"#9c179e\"], [0.4444444444444444, \"#bd3786\"], [0.5555555555555556, \"#d8576b\"], [0.6666666666666666, \"#ed7953\"], [0.7777777777777778, \"#fb9f3a\"], [0.8888888888888888, \"#fdca26\"], [1.0, \"#f0f921\"]], \"sequentialminus\": [[0.0, \"#0d0887\"], [0.1111111111111111, \"#46039f\"], [0.2222222222222222, \"#7201a8\"], [0.3333333333333333, \"#9c179e\"], [0.4444444444444444, \"#bd3786\"], [0.5555555555555556, \"#d8576b\"], [0.6666666666666666, \"#ed7953\"], [0.7777777777777778, \"#fb9f3a\"], [0.8888888888888888, \"#fdca26\"], [1.0, \"#f0f921\"]]}, \"colorway\": [\"#636efa\", \"#EF553B\", \"#00cc96\", \"#ab63fa\", \"#FFA15A\", \"#19d3f3\", \"#FF6692\", \"#B6E880\", \"#FF97FF\", \"#FECB52\"], \"font\": {\"color\": \"#2a3f5f\"}, \"geo\": {\"bgcolor\": \"white\", \"lakecolor\": \"white\", \"landcolor\": \"#E5ECF6\", \"showlakes\": true, \"showland\": true, \"subunitcolor\": \"white\"}, \"hoverlabel\": {\"align\": \"left\"}, \"hovermode\": \"closest\", \"mapbox\": {\"style\": \"light\"}, \"paper_bgcolor\": \"white\", \"plot_bgcolor\": \"#E5ECF6\", \"polar\": {\"angularaxis\": {\"gridcolor\": \"white\", \"linecolor\": \"white\", \"ticks\": \"\"}, \"bgcolor\": \"#E5ECF6\", \"radialaxis\": {\"gridcolor\": \"white\", \"linecolor\": \"white\", \"ticks\": \"\"}}, \"scene\": {\"xaxis\": {\"backgroundcolor\": \"#E5ECF6\", \"gridcolor\": \"white\", \"gridwidth\": 2, \"linecolor\": \"white\", \"showbackground\": true, \"ticks\": \"\", \"zerolinecolor\": \"white\"}, \"yaxis\": {\"backgroundcolor\": \"#E5ECF6\", \"gridcolor\": \"white\", \"gridwidth\": 2, \"linecolor\": \"white\", \"showbackground\": true, \"ticks\": \"\", \"zerolinecolor\": \"white\"}, \"zaxis\": {\"backgroundcolor\": \"#E5ECF6\", \"gridcolor\": \"white\", \"gridwidth\": 2, \"linecolor\": \"white\", \"showbackground\": true, \"ticks\": \"\", \"zerolinecolor\": \"white\"}}, \"shapedefaults\": {\"line\": {\"color\": \"#2a3f5f\"}}, \"ternary\": {\"aaxis\": {\"gridcolor\": \"white\", \"linecolor\": \"white\", \"ticks\": \"\"}, \"baxis\": {\"gridcolor\": \"white\", \"linecolor\": \"white\", \"ticks\": \"\"}, \"bgcolor\": \"#E5ECF6\", \"caxis\": {\"gridcolor\": \"white\", \"linecolor\": \"white\", \"ticks\": \"\"}}, \"title\": {\"x\": 0.05}, \"xaxis\": {\"automargin\": true, \"gridcolor\": \"white\", \"linecolor\": \"white\", \"ticks\": \"\", \"title\": {\"standoff\": 15}, \"zerolinecolor\": \"white\", \"zerolinewidth\": 2}, \"yaxis\": {\"automargin\": true, \"gridcolor\": \"white\", \"linecolor\": \"white\", \"ticks\": \"\", \"title\": {\"standoff\": 15}, \"zerolinecolor\": \"white\", \"zerolinewidth\": 2}}}, \"width\": 800, \"xaxis\": {\"title\": {\"font\": {\"size\": 18}, \"text\": \"Internuclear distance (a.u.)\"}}, \"yaxis\": {\"title\": {\"font\": {\"size\": 18}, \"text\": \"Energy (a.u.)\"}}},                        {\"responsive\": true}                    ).then(function(){\n",
       "                            \n",
       "var gd = document.getElementById('7683cf35-f753-44d4-b611-0fa5a7b71357');\n",
       "var x = new MutationObserver(function (mutations, observer) {{\n",
       "        var display = window.getComputedStyle(gd).display;\n",
       "        if (!display || display === 'none') {{\n",
       "            console.log([gd, 'removed!']);\n",
       "            Plotly.purge(gd);\n",
       "            observer.disconnect();\n",
       "        }}\n",
       "}});\n",
       "\n",
       "// Listen for the removal of the full notebook cells\n",
       "var notebookContainer = gd.closest('#notebook-container');\n",
       "if (notebookContainer) {{\n",
       "    x.observe(notebookContainer, {childList: true});\n",
       "}}\n",
       "\n",
       "// Listen for the clearing of the current output cell\n",
       "var outputEl = gd.closest('.output');\n",
       "if (outputEl) {{\n",
       "    x.observe(outputEl, {childList: true});\n",
       "}}\n",
       "\n",
       "                        })                };                });            </script>        </div>"
      ]
     },
     "metadata": {},
     "output_type": "display_data"
    }
   ],
   "source": [
    "figure = go.Figure()\n",
    "\n",
    "figure.update_layout(\n",
    "    autosize = False,\n",
    "    width = 800,\n",
    "    height = 800\n",
    ")\n",
    "\n",
    "# Plot the total energies for RHF, UHF and GHF.\n",
    "figure.add_trace(\n",
    "    go.Scatter(\n",
    "        x = R_values,\n",
    "        y = RHF_energies,\n",
    "        name = \"RHF\",\n",
    "    )\n",
    ")\n",
    "\n",
    "figure.add_trace(\n",
    "    go.Scatter(\n",
    "        x = R_values,\n",
    "        y = UHF_0_energies,\n",
    "        name = \"UHF (S=0)\",\n",
    "    )\n",
    ")\n",
    "\n",
    "figure.add_trace(\n",
    "    go.Scatter(\n",
    "        x = R_values,\n",
    "        y = UHF_1_energies,\n",
    "        name = \"UHF (S=1)\",\n",
    "    )\n",
    ")\n",
    "\n",
    "figure.add_trace(\n",
    "    go.Scatter(\n",
    "        x = R_values,\n",
    "        y = GHF_energies,\n",
    "        name = \"GHF\",\n",
    "    )\n",
    ")\n",
    "\n",
    "\n",
    "# Set the x- and y-axis titles.\n",
    "figure.update_xaxes(\n",
    "    title = {\n",
    "        'text': \"Internuclear distance (a.u.)\",\n",
    "        'font': {'size': 18}\n",
    "    }\n",
    ")\n",
    "\n",
    "figure.update_yaxes(\n",
    "    title = {\n",
    "        'text': \"Energy (a.u.)\",\n",
    "        'font': {'size': 18}\n",
    "    }\n",
    ")\n",
    "\n",
    "\n",
    "# Update the legend's font.\n",
    "figure.update_layout(\n",
    "    legend = {\n",
    "        'font': {'size': 18}\n",
    "    }\n",
    ")\n",
    "\n",
    "\n",
    "figure.show()"
   ]
  },
  {
   "cell_type": "code",
   "execution_count": null,
   "id": "serious-startup",
   "metadata": {},
   "outputs": [],
   "source": []
  }
 ],
 "metadata": {
  "kernelspec": {
   "display_name": "Python 3",
   "language": "python",
   "name": "python3"
  },
  "language_info": {
   "codemirror_mode": {
    "name": "ipython",
    "version": 3
   },
   "file_extension": ".py",
   "mimetype": "text/x-python",
   "name": "python",
   "nbconvert_exporter": "python",
   "pygments_lexer": "ipython3",
   "version": "3.8.5"
  }
 },
 "nbformat": 4,
 "nbformat_minor": 5
}
