{
 "cells": [
  {
   "cell_type": "markdown",
   "source": [
    "# Calculating the RHF dipole moment"
   ],
   "metadata": {}
  },
  {
   "cell_type": "markdown",
   "source": [
    "In this example, we will calculate the (permanent) electronic dipole moment for H2 with an STO-3G basisset at the RHF level of theory."
   ],
   "metadata": {}
  },
  {
   "cell_type": "markdown",
   "source": [
    "## Setting up the molecular Hamiltonian"
   ],
   "metadata": {}
  },
  {
   "cell_type": "code",
   "execution_count": 1,
   "source": [
    "# Force the local gqcpy to be imported\n",
    "import sys\n",
    "sys.path.insert(0, '../../build/gqcpy/')\n",
    "\n",
    "import gqcpy"
   ],
   "outputs": [],
   "metadata": {}
  },
  {
   "cell_type": "markdown",
   "source": [
    "We start by creating the molecule and an associated (restricted) spinor basis:"
   ],
   "metadata": {}
  },
  {
   "cell_type": "code",
   "execution_count": 2,
   "source": [
    "molecule = gqcpy.Molecule.ReadXYZ(\"../../gqcp/tests/data/h2_szabo.xyz\" , 0)  # create a neutral molecule\n",
    "N = molecule.numberOfElectrons()"
   ],
   "outputs": [],
   "metadata": {}
  },
  {
   "cell_type": "code",
   "execution_count": 3,
   "source": [
    "spinor_basis = gqcpy.RSpinOrbitalBasis_d(molecule, \"STO-3G\")"
   ],
   "outputs": [],
   "metadata": {}
  },
  {
   "cell_type": "markdown",
   "source": [
    "We can easily find out the overlap matrix of the spinor basis:"
   ],
   "metadata": {}
  },
  {
   "cell_type": "code",
   "execution_count": 4,
   "source": [
    "S = spinor_basis.quantize(gqcpy.OverlapOperator())\n",
    "print(S.parameters())"
   ],
   "outputs": [
    {
     "output_type": "stream",
     "name": "stdout",
     "text": [
      "[[0.99999999 0.65931816]\n",
      " [0.65931816 0.99999999]]\n"
     ]
    }
   ],
   "metadata": {}
  },
  {
   "cell_type": "markdown",
   "source": [
    "We can use the following one-liner to calculate the molecular second-quantized Hamiltonian: "
   ],
   "metadata": {}
  },
  {
   "cell_type": "code",
   "execution_count": 5,
   "source": [
    "sq_hamiltonian = spinor_basis.quantize(gqcpy.FQMolecularHamiltonian(molecule))  # 'sq' for 'second-quantized'"
   ],
   "outputs": [],
   "metadata": {}
  },
  {
   "cell_type": "markdown",
   "source": [
    "We can access the core Hamiltonian and the two-electron integrals relatively easily:"
   ],
   "metadata": {}
  },
  {
   "cell_type": "code",
   "execution_count": 6,
   "source": [
    "print(sq_hamiltonian.core().parameters())"
   ],
   "outputs": [
    {
     "output_type": "stream",
     "name": "stdout",
     "text": [
      "[[-1.12040896 -0.95837989]\n",
      " [-0.95837989 -1.12040896]]\n"
     ]
    }
   ],
   "metadata": {}
  },
  {
   "cell_type": "code",
   "execution_count": 7,
   "source": [
    "print(sq_hamiltonian.twoElectron().parameters())"
   ],
   "outputs": [
    {
     "output_type": "stream",
     "name": "stdout",
     "text": [
      "[[[[0.77460593 0.44410762]\n",
      "   [0.44410762 0.56967589]]\n",
      "\n",
      "  [[0.44410762 0.2970285 ]\n",
      "   [0.2970285  0.44410762]]]\n",
      "\n",
      "\n",
      " [[[0.44410762 0.2970285 ]\n",
      "   [0.2970285  0.44410762]]\n",
      "\n",
      "  [[0.56967589 0.44410762]\n",
      "   [0.44410762 0.77460593]]]]\n"
     ]
    }
   ],
   "metadata": {}
  },
  {
   "cell_type": "markdown",
   "source": [
    "## Solving the RHF SCF equations"
   ],
   "metadata": {}
  },
  {
   "cell_type": "markdown",
   "source": [
    "In order to solve the RHF SCF equations, we have to set up a solver and its associated environment."
   ],
   "metadata": {}
  },
  {
   "cell_type": "code",
   "execution_count": 8,
   "source": [
    "environment = gqcpy.RHFSCFEnvironment_d.WithCoreGuess(N, sq_hamiltonian, S)\n",
    "solver = gqcpy.RHFSCFSolver_d.DIIS()"
   ],
   "outputs": [],
   "metadata": {}
  },
  {
   "cell_type": "markdown",
   "source": [
    "The specification of a QCMethod requires something more than just the solution that a solver produces. In order to really confirm that the electronic structure model's parameters are 'optimal', an objective has to be defined."
   ],
   "metadata": {}
  },
  {
   "cell_type": "code",
   "execution_count": 9,
   "source": [
    "objective = gqcpy.DiagonalRHFFockMatrixObjective_d(sq_hamiltonian)  # use the default threshold of 1.0e-08"
   ],
   "outputs": [],
   "metadata": {}
  },
  {
   "cell_type": "markdown",
   "source": [
    "Note that, since we have chosen to use a 'diagonal Fock matrix objective', we expect the optimal RHF parameters to represent the canonical spinors."
   ],
   "metadata": {}
  },
  {
   "cell_type": "markdown",
   "source": [
    "We then combine objective, solver and environment into the `optimize` method of the RHF QCMethod, which returns a `QCStructure`, containing the optimized RHF parameters that satisfy the objective."
   ],
   "metadata": {}
  },
  {
   "cell_type": "code",
   "execution_count": 10,
   "source": [
    "rhf_parameters = gqcpy.RHF_d.optimize(objective, solver, environment).groundStateParameters()"
   ],
   "outputs": [],
   "metadata": {}
  },
  {
   "cell_type": "code",
   "execution_count": 11,
   "source": [
    "C = rhf_parameters.expansion()\n",
    "print(C.matrix())"
   ],
   "outputs": [
    {
     "output_type": "stream",
     "name": "stdout",
     "text": [
      "[[-0.54893405 -1.21146402]\n",
      " [-0.54893405  1.21146402]]\n"
     ]
    }
   ],
   "metadata": {}
  },
  {
   "cell_type": "markdown",
   "source": [
    "## Calculating the RHF dipole moment in the scalar/AO basis"
   ],
   "metadata": {}
  },
  {
   "cell_type": "markdown",
   "source": [
    "Since the RHF parameters are variationally determined, we may calculate the electronic dipole moment as the expectation value of the electronic dipole operator. The associated second-quantized operator can be obtained as follows:"
   ],
   "metadata": {}
  },
  {
   "cell_type": "code",
   "execution_count": 12,
   "source": [
    "dipole_op = spinor_basis.quantize(gqcpy.ElectronicDipoleOperator())  # 'op' for 'operator'"
   ],
   "outputs": [],
   "metadata": {}
  },
  {
   "cell_type": "markdown",
   "source": [
    "We can access the bare integrals using its method `.allParameters()`, which returns a list that contains the integrals associated with the Cartesian x-, y- and z-components."
   ],
   "metadata": {}
  },
  {
   "cell_type": "code",
   "execution_count": 13,
   "source": [
    "integrals = dipole_op.allParameters()\n",
    "for component in integrals:\n",
    "    print(component)"
   ],
   "outputs": [
    {
     "output_type": "stream",
     "name": "stdout",
     "text": [
      "[[0. 0.]\n",
      " [0. 0.]]\n",
      "[[0. 0.]\n",
      " [0. 0.]]\n",
      "[[ 0.         -0.46152275]\n",
      " [-0.46152275 -1.40000009]]\n"
     ]
    }
   ],
   "metadata": {}
  },
  {
   "cell_type": "markdown",
   "source": [
    "In the scalar/AO basis, the RHF 1-DM can be calculated as:"
   ],
   "metadata": {}
  },
  {
   "cell_type": "code",
   "execution_count": 14,
   "source": [
    "D = rhf_parameters.calculateScalarBasis1DM()\n",
    "print(D.matrix())"
   ],
   "outputs": [
    {
     "output_type": "stream",
     "name": "stdout",
     "text": [
      "[[0.60265718 0.60265718]\n",
      " [0.60265718 0.60265718]]\n"
     ]
    }
   ],
   "metadata": {}
  },
  {
   "cell_type": "code",
   "execution_count": 15,
   "source": [
    "print(dipole_op.calculateExpectationValue(D))"
   ],
   "outputs": [
    {
     "output_type": "stream",
     "name": "stdout",
     "text": [
      "[0.0, 0.0, -1.4000001021623736]\n"
     ]
    }
   ],
   "metadata": {}
  },
  {
   "cell_type": "markdown",
   "source": [
    "## Calculating the RHF dipole moment in the canonical RHF basis"
   ],
   "metadata": {}
  },
  {
   "cell_type": "markdown",
   "source": [
    "We might as well have calculated the second-quantized representation of the dipole operator in the canonical RHF spinor basis. In order to do so, we first transform the spinor basis and only then quantize the dipole operator."
   ],
   "metadata": {}
  },
  {
   "cell_type": "code",
   "execution_count": 16,
   "source": [
    "spinor_basis.transform(C)\n",
    "dipole_op_canonical = spinor_basis.quantize(gqcpy.ElectronicDipoleOperator())  # 'op' for 'operator'"
   ],
   "outputs": [],
   "metadata": {}
  },
  {
   "cell_type": "code",
   "execution_count": 17,
   "source": [
    "dipole_integrals_canonical = dipole_op_canonical.allParameters()\n",
    "for component in dipole_integrals_canonical:\n",
    "    print(component)"
   ],
   "outputs": [
    {
     "output_type": "stream",
     "name": "stdout",
     "text": [
      "[[0. 0.]\n",
      " [0. 0.]]\n",
      "[[0. 0.]\n",
      " [0. 0.]]\n",
      "[[-0.70000005  0.93101945]\n",
      " [ 0.93101945 -0.70000005]]\n"
     ]
    }
   ],
   "metadata": {}
  },
  {
   "cell_type": "code",
   "execution_count": 18,
   "source": [
    "D_canonical = rhf_parameters.calculateOrthonormalBasis1DM()\n",
    "print(D_canonical.matrix())"
   ],
   "outputs": [
    {
     "output_type": "stream",
     "name": "stdout",
     "text": [
      "[[2. 0.]\n",
      " [0. 0.]]\n"
     ]
    }
   ],
   "metadata": {}
  },
  {
   "cell_type": "code",
   "execution_count": 19,
   "source": [
    "print(dipole_op_canonical.calculateExpectationValue(D_canonical))"
   ],
   "outputs": [
    {
     "output_type": "stream",
     "name": "stdout",
     "text": [
      "[0.0, 0.0, -1.4000001021623738]\n"
     ]
    }
   ],
   "metadata": {}
  }
 ],
 "metadata": {
  "kernelspec": {
   "name": "python3",
   "display_name": "Python 3.8.5 64-bit ('base': conda)"
  },
  "language_info": {
   "codemirror_mode": {
    "name": "ipython",
    "version": 3
   },
   "file_extension": ".py",
   "mimetype": "text/x-python",
   "name": "python",
   "nbconvert_exporter": "python",
   "pygments_lexer": "ipython3",
   "version": "3.8.5"
  },
  "interpreter": {
   "hash": "e4c6ce54e6d1ccff551279c9aafc06b78c48fd9e60d6b4e74c0583a74ec1d1f9"
  }
 },
 "nbformat": 4,
 "nbformat_minor": 2
}