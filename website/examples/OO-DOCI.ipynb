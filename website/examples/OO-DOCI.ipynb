{
 "cells": [
  {
   "cell_type": "markdown",
   "metadata": {},
   "source": [
    "# OO-DOCI calculations"
   ]
  },
  {
   "cell_type": "markdown",
   "metadata": {},
   "source": [
    "DOCI is, in essence, just another type of CI, so doing DOCI calculations is very analogous to doing FCI calculations. In the OO-DOCI case, we enhance the regular DOCI method with the use of an orbital optimizer."
   ]
  },
  {
   "cell_type": "code",
   "execution_count": 1,
   "metadata": {},
   "outputs": [],
   "source": [
    "# Force the local gqcpy to be imported\n",
    "import sys\n",
    "sys.path.insert(0, '../../build/gqcpy/')\n",
    "\n",
    "import gqcpy\n",
    "import numpy as np"
   ]
  },
  {
   "cell_type": "markdown",
   "metadata": {},
   "source": [
    "# Preparing the Hamiltonian in the canonical RHF basis"
   ]
  },
  {
   "cell_type": "markdown",
   "metadata": {},
   "source": [
    "As always, we'll first set up the Hamiltonian in an orthonormal spinor basis. For this example, we'll use the canonical RHF basis"
   ]
  },
  {
   "cell_type": "code",
   "execution_count": 2,
   "metadata": {},
   "outputs": [],
   "source": [
    "molecule = gqcpy.Molecule.ReadXYZ(\"../../gqcp/tests/data/h2_cristina.xyz\" , 0)  # Create a neutral molecule\n",
    "N = molecule.numberOfElectrons()\n",
    "N_P = N // 2  # number of electron pairs\n",
    "\n",
    "spinor_basis = gqcpy.RSpinOrbitalBasis_d(molecule, \"STO-3G\")\n",
    "K = spinor_basis.numberOfSpatialOrbitals()"
   ]
  },
  {
   "cell_type": "code",
   "execution_count": 3,
   "metadata": {},
   "outputs": [],
   "source": [
    "S = spinor_basis.quantize(gqcpy.OverlapOperator())\n",
    "nuc_rep = gqcpy.NuclearRepulsionOperator(molecule.nuclearFramework()).value()\n",
    "sq_hamiltonian = spinor_basis.quantize(gqcpy.FQMolecularHamiltonian(molecule))\n",
    "\n",
    "environment = gqcpy.RHFSCFEnvironment_d.WithCoreGuess(N, sq_hamiltonian, S)\n",
    "solver = gqcpy.RHFSCFSolver_d.Plain()\n",
    "objective = gqcpy.DiagonalRHFFockMatrixObjective_d(sq_hamiltonian)  # use the default threshold of 1.0e-08\n",
    "rhf_parameters = gqcpy.RHF_d.optimize(objective, solver, environment).groundStateParameters()"
   ]
  },
  {
   "cell_type": "code",
   "execution_count": 4,
   "metadata": {},
   "outputs": [],
   "source": [
    "C = rhf_parameters.expansion()\n",
    "spinor_basis.transform(C)\n",
    "sq_hamiltonian.transform(C)"
   ]
  },
  {
   "cell_type": "markdown",
   "metadata": {},
   "source": [
    "# Dense OO-DOCI calculations"
   ]
  },
  {
   "cell_type": "markdown",
   "metadata": {},
   "source": [
    "For FCI, we would create the full spin-resolved ONV basis. For DOCI, we need the full seniority-zero ONV basis."
   ]
  },
  {
   "cell_type": "code",
   "execution_count": 5,
   "metadata": {},
   "outputs": [],
   "source": [
    "onv_basis = gqcpy.SeniorityZeroONVBasis(K, N_P)  # number of spatial orbitals, number of electron pairs"
   ]
  },
  {
   "cell_type": "markdown",
   "metadata": {},
   "source": [
    "The subsequent steps are very analogous. We create a solver and associated environment, and use the CI QCMethod to find the optimal parameters and energies."
   ]
  },
  {
   "cell_type": "code",
   "execution_count": 6,
   "metadata": {},
   "outputs": [],
   "source": [
    "solver = gqcpy.EigenproblemSolver.Dense_d()\n",
    "environment = gqcpy.CIEnvironment.Dense(sq_hamiltonian, onv_basis)"
   ]
  },
  {
   "cell_type": "markdown",
   "metadata": {},
   "source": [
    "We now have to declare our orbital optimizer."
   ]
  },
  {
   "cell_type": "code",
   "execution_count": 7,
   "metadata": {},
   "outputs": [],
   "source": [
    "optimizer = gqcpy.DOCINewtonOrbitalOptimizer(onv_basis, solver, environment)"
   ]
  },
  {
   "cell_type": "markdown",
   "metadata": {},
   "source": [
    "The orbital optimizer can now do the required optimization given the spinor basis and the second quantized Hamiltonian."
   ]
  },
  {
   "cell_type": "code",
   "execution_count": 8,
   "metadata": {},
   "outputs": [],
   "source": [
    "optimizer.optimize(spinor_basis, sq_hamiltonian)"
   ]
  },
  {
   "cell_type": "code",
   "execution_count": 9,
   "metadata": {},
   "outputs": [
    {
     "name": "stdout",
     "output_type": "stream",
     "text": [
      "-1.137263337693952\n"
     ]
    }
   ],
   "source": [
    "print(optimizer.eigenvalue() + nuc_rep)"
   ]
  }
 ],
 "metadata": {
  "interpreter": {
   "hash": "4654e147d6fe676f31a9f86e2485eea716359f8709963986145f7c2d0088ba8c"
  },
  "kernelspec": {
   "display_name": "Python 3.8.5 64-bit ('base': conda)",
   "name": "python3"
  },
  "language_info": {
   "codemirror_mode": {
    "name": "ipython",
    "version": 3
   },
   "file_extension": ".py",
   "mimetype": "text/x-python",
   "name": "python",
   "nbconvert_exporter": "python",
   "pygments_lexer": "ipython3",
   "version": "3.8.5"
  }
 },
 "nbformat": 4,
 "nbformat_minor": 2
}
