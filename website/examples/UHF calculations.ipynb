{
 "cells": [
  {
   "cell_type": "markdown",
   "metadata": {},
   "source": [
    "# UHF SCF"
   ]
  },
  {
   "cell_type": "code",
   "execution_count": 1,
   "metadata": {},
   "outputs": [],
   "source": [
    "# Force the local gqcpy to be imported\n",
    "import sys\n",
    "sys.path.insert(0, '../../build/gqcpy/')\n",
    "\n",
    "import gqcpy\n",
    "import numpy as np\n",
    "\n",
    "np.set_printoptions(precision=3, linewidth=120)"
   ]
  },
  {
   "cell_type": "markdown",
   "metadata": {},
   "source": [
    "## Molecular setup"
   ]
  },
  {
   "cell_type": "markdown",
   "metadata": {},
   "source": [
    "UHF SCF calculations start off in the same way as RHF SCF calculations. We first need a second-quantized Hamiltonian that expresses all the integrals in the AO basis."
   ]
  },
  {
   "cell_type": "code",
   "execution_count": 2,
   "metadata": {},
   "outputs": [],
   "source": [
    "molecule = gqcpy.Molecule.HRingFromDistance(3, 1.0, 0)  # create a neutral molecule\n",
    "N = molecule.numberOfElectrons()\n",
    "N_alpha = N//2 + 1\n",
    "N_beta = N//2\n",
    "\n",
    "spinor_basis = gqcpy.RSpinOrbitalBasis(molecule, \"STO-3G\")\n",
    "S = spinor_basis.quantizeOverlapOperator().parameters()\n",
    "\n",
    "sq_hamiltonian = gqcpy.SQHamiltonian.Molecular(spinor_basis, molecule)  # 'sq' for 'second-quantized'"
   ]
  },
  {
   "cell_type": "code",
   "execution_count": 3,
   "metadata": {},
   "outputs": [
    {
     "output_type": "stream",
     "name": "stdout",
     "text": "Number of electrons: 3\nH  (0.57735, 0, 0)\nH  (-0.288675, 0.5, 0)\nH  (-0.288675, -0.5, 0)\n\n"
    }
   ],
   "source": [
    "print(molecule)"
   ]
  },
  {
   "cell_type": "markdown",
   "metadata": {},
   "source": [
    "## Plain UHF SCF"
   ]
  },
  {
   "cell_type": "markdown",
   "metadata": {},
   "source": [
    "Then, we need an UHF SCF solver and an UHF SCF environment."
   ]
  },
  {
   "cell_type": "code",
   "execution_count": 4,
   "metadata": {},
   "outputs": [],
   "source": [
    "environment = gqcpy.UHFSCFEnvironment.WithCoreGuess(N_alpha, N_beta, sq_hamiltonian, S)\n",
    "plain_solver = gqcpy.UHFSCFSolver.Plain(threshold=1.0e-04, maximum_number_of_iterations=1000)  # the system is not converging very rapidly"
   ]
  },
  {
   "cell_type": "markdown",
   "metadata": {},
   "source": [
    "Using GQCP's capabilities of 'injecting' Python code inside the C++ library, we'll add an intermediary step that doesn't modify the environment, but just prints out the current Fock matrices.\n",
    "\n",
    "This is done by writing a `Python` function that manipulates the solver's environment (of type `EnvironmentType`), and subsequently wrapping that function into a `FunctionalStep_EnvironmentType`. The instance of type `FunctionalStep_EnvironmentType` is then subsequently inserted inside the algorithm that should be performed."
   ]
  },
  {
   "cell_type": "markdown",
   "metadata": {},
   "source": [
    "In this example, we'll print out the alpha- and beta- Fock matrices."
   ]
  },
  {
   "cell_type": "code",
   "execution_count": 5,
   "metadata": {},
   "outputs": [],
   "source": [
    "def print_fock_matrices(environment):\n",
    "    if (environment.fock_matrices_alpha):\n",
    "        print(\"Alpha Fock matrix:\\n{}\\n\".format(environment.fock_matrices_alpha[-1]))\n",
    "        print(\"Beta Fock matrix:\\n{}\".format(environment.fock_matrices_beta[-1]))\n",
    "    else:\n",
    "        print(\"No Fock matrices in the queue.\")\n",
    "\n",
    "print_step = gqcpy.FunctionalStep_UHFSCFEnvironment(print_fock_matrices)"
   ]
  },
  {
   "cell_type": "code",
   "execution_count": 6,
   "metadata": {},
   "outputs": [],
   "source": [
    "plain_solver.insert(print_step, index=0)  # insert at the front"
   ]
  },
  {
   "cell_type": "markdown",
   "metadata": {},
   "source": [
    "We can use the solver to optimize the UHF parameters."
   ]
  },
  {
   "cell_type": "code",
   "execution_count": 7,
   "metadata": {
    "tags": [
     "outputPrepend",
     "outputPrepend",
     "outputPrepend",
     "outputPrepend",
     "outputPrepend",
     "outputPrepend",
     "outputPrepend",
     "outputPrepend",
     "outputPrepend",
     "outputPrepend",
     "outputPrepend",
     "outputPrepend",
     "outputPrepend",
     "outputPrepend",
     "outputPrepend",
     "outputPrepend",
     "outputPrepend",
     "outputPrepend",
     "outputPrepend",
     "outputPrepend"
    ]
   },
   "outputs": [
    {
     "output_type": "stream",
     "name": "stdout",
     "text": "56 -0.941]\n [-0.94  -0.941 -0.77 ]]\n\nBeta Fock matrix:\n[[-0.604 -0.795 -0.837]\n [-0.795 -0.605 -0.837]\n [-0.837 -0.837 -0.727]]\nAlpha Fock matrix:\n[[-0.857 -0.895 -0.94 ]\n [-0.895 -0.856 -0.941]\n [-0.94  -0.941 -0.77 ]]\n\nBeta Fock matrix:\n[[-0.604 -0.795 -0.837]\n [-0.795 -0.605 -0.837]\n [-0.837 -0.837 -0.727]]\nAlpha Fock matrix:\n[[-0.857 -0.895 -0.94 ]\n [-0.895 -0.856 -0.941]\n [-0.94  -0.941 -0.77 ]]\n\nBeta Fock matrix:\n[[-0.604 -0.795 -0.837]\n [-0.795 -0.605 -0.837]\n [-0.837 -0.837 -0.727]]\nAlpha Fock matrix:\n[[-0.857 -0.895 -0.94 ]\n [-0.895 -0.856 -0.941]\n [-0.94  -0.941 -0.77 ]]\n\nBeta Fock matrix:\n[[-0.604 -0.795 -0.837]\n [-0.795 -0.605 -0.837]\n [-0.837 -0.837 -0.727]]\nAlpha Fock matrix:\n[[-0.857 -0.895 -0.94 ]\n [-0.895 -0.856 -0.941]\n [-0.94  -0.941 -0.77 ]]\n\nBeta Fock matrix:\n[[-0.604 -0.795 -0.837]\n [-0.795 -0.605 -0.837]\n [-0.837 -0.837 -0.727]]\nAlpha Fock matrix:\n[[-0.857 -0.895 -0.94 ]\n [-0.895 -0.856 -0.941]\n [-0.94  -0.941 -0.77 ]]\n\nBeta Fock matrix:\n[[-0.604 -0.795 -0.837]\n [-0.795 -0.605 -0.837]\n [-0.837 -0.837 -0.727]]\nAlpha Fock matrix:\n[[-0.857 -0.895 -0.94 ]\n [-0.895 -0.856 -0.941]\n [-0.94  -0.941 -0.77 ]]\n\nBeta Fock matrix:\n[[-0.604 -0.795 -0.837]\n [-0.795 -0.605 -0.837]\n [-0.837 -0.837 -0.727]]\nAlpha Fock matrix:\n[[-0.857 -0.895 -0.94 ]\n [-0.895 -0.856 -0.941]\n [-0.94  -0.941 -0.77 ]]\n\nBeta Fock matrix:\n[[-0.604 -0.795 -0.837]\n [-0.795 -0.605 -0.837]\n [-0.837 -0.837 -0.727]]\nAlpha Fock matrix:\n[[-0.857 -0.895 -0.94 ]\n [-0.895 -0.856 -0.941]\n [-0.94  -0.941 -0.77 ]]\n\nBeta Fock matrix:\n[[-0.604 -0.795 -0.837]\n [-0.795 -0.605 -0.837]\n [-0.837 -0.837 -0.727]]\nAlpha Fock matrix:\n[[-0.857 -0.895 -0.94 ]\n [-0.895 -0.856 -0.941]\n [-0.94  -0.941 -0.77 ]]\n\nBeta Fock matrix:\n[[-0.604 -0.795 -0.837]\n [-0.795 -0.605 -0.837]\n [-0.837 -0.837 -0.727]]\nAlpha Fock matrix:\n[[-0.857 -0.895 -0.94 ]\n [-0.895 -0.856 -0.941]\n [-0.94  -0.941 -0.77 ]]\n\nBeta Fock matrix:\n[[-0.604 -0.795 -0.837]\n [-0.795 -0.605 -0.837]\n [-0.837 -0.837 -0.727]]\nAlpha Fock matrix:\n[[-0.857 -0.895 -0.94 ]\n [-0.895 -0.856 -0.941]\n [-0.94  -0.941 -0.77 ]]\n\nBeta Fock matrix:\n[[-0.604 -0.795 -0.837]\n [-0.795 -0.605 -0.837]\n [-0.837 -0.837 -0.727]]\nAlpha Fock matrix:\n[[-0.857 -0.895 -0.94 ]\n [-0.895 -0.856 -0.941]\n [-0.94  -0.941 -0.77 ]]\n\nBeta Fock matrix:\n[[-0.604 -0.795 -0.837]\n [-0.795 -0.605 -0.837]\n [-0.837 -0.837 -0.727]]\nAlpha Fock matrix:\n[[-0.857 -0.895 -0.94 ]\n [-0.895 -0.856 -0.941]\n [-0.94  -0.941 -0.77 ]]\n\nBeta Fock matrix:\n[[-0.604 -0.795 -0.837]\n [-0.795 -0.605 -0.837]\n [-0.837 -0.837 -0.727]]\nAlpha Fock matrix:\n[[-0.857 -0.895 -0.94 ]\n [-0.895 -0.856 -0.941]\n [-0.94  -0.941 -0.77 ]]\n\nBeta Fock matrix:\n[[-0.604 -0.795 -0.837]\n [-0.795 -0.605 -0.837]\n [-0.837 -0.837 -0.727]]\nAlpha Fock matrix:\n[[-0.857 -0.895 -0.94 ]\n [-0.895 -0.856 -0.941]\n [-0.94  -0.941 -0.77 ]]\n\nBeta Fock matrix:\n[[-0.604 -0.795 -0.837]\n [-0.795 -0.605 -0.837]\n [-0.837 -0.837 -0.727]]\nAlpha Fock matrix:\n[[-0.857 -0.895 -0.94 ]\n [-0.895 -0.856 -0.941]\n [-0.94  -0.941 -0.77 ]]\n\nBeta Fock matrix:\n[[-0.604 -0.795 -0.837]\n [-0.795 -0.605 -0.837]\n [-0.837 -0.837 -0.727]]\nAlpha Fock matrix:\n[[-0.857 -0.895 -0.94 ]\n [-0.895 -0.856 -0.941]\n [-0.94  -0.941 -0.77 ]]\n\nBeta Fock matrix:\n[[-0.604 -0.795 -0.837]\n [-0.795 -0.605 -0.837]\n [-0.837 -0.837 -0.727]]\nAlpha Fock matrix:\n[[-0.857 -0.895 -0.94 ]\n [-0.895 -0.856 -0.941]\n [-0.94  -0.941 -0.77 ]]\n\nBeta Fock matrix:\n[[-0.604 -0.795 -0.837]\n [-0.795 -0.605 -0.837]\n [-0.837 -0.837 -0.727]]\nAlpha Fock matrix:\n[[-0.857 -0.895 -0.94 ]\n [-0.895 -0.856 -0.941]\n [-0.94  -0.941 -0.77 ]]\n\nBeta Fock matrix:\n[[-0.604 -0.795 -0.837]\n [-0.795 -0.605 -0.837]\n [-0.837 -0.837 -0.727]]\nAlpha Fock matrix:\n[[-0.857 -0.895 -0.94 ]\n [-0.895 -0.856 -0.941]\n [-0.94  -0.941 -0.77 ]]\n\nBeta Fock matrix:\n[[-0.604 -0.795 -0.837]\n [-0.795 -0.605 -0.837]\n [-0.837 -0.837 -0.727]]\nAlpha Fock matrix:\n[[-0.857 -0.895 -0.94 ]\n [-0.895 -0.856 -0.941]\n [-0.94  -0.941 -0.77 ]]\n\nBeta Fock matrix:\n[[-0.604 -0.795 -0.837]\n [-0.795 -0.605 -0.837]\n [-0.837 -0.837 -0.727]]\nAlpha Fock matrix:\n[[-0.857 -0.895 -0.94 ]\n [-0.895 -0.856 -0.941]\n [-0.94  -0.941 -0.77 ]]\n\nBeta Fock matrix:\n[[-0.604 -0.795 -0.837]\n [-0.795 -0.605 -0.837]\n [-0.837 -0.837 -0.727]]\nAlpha Fock matrix:\n[[-0.857 -0.895 -0.94 ]\n [-0.895 -0.856 -0.941]\n [-0.94  -0.941 -0.77 ]]\n\nBeta Fock matrix:\n[[-0.604 -0.795 -0.837]\n [-0.795 -0.605 -0.837]\n [-0.837 -0.837 -0.727]]\nAlpha Fock matrix:\n[[-0.857 -0.895 -0.94 ]\n [-0.895 -0.856 -0.941]\n [-0.94  -0.941 -0.77 ]]\n\nBeta Fock matrix:\n[[-0.604 -0.795 -0.837]\n [-0.795 -0.605 -0.837]\n [-0.837 -0.837 -0.727]]\nAlpha Fock matrix:\n[[-0.857 -0.895 -0.94 ]\n [-0.895 -0.856 -0.941]\n [-0.94  -0.941 -0.77 ]]\n\nBeta Fock matrix:\n[[-0.604 -0.795 -0.837]\n [-0.795 -0.605 -0.837]\n [-0.837 -0.837 -0.727]]\nAlpha Fock matrix:\n[[-0.857 -0.895 -0.94 ]\n [-0.895 -0.856 -0.941]\n [-0.94  -0.941 -0.77 ]]\n\nBeta Fock matrix:\n[[-0.604 -0.795 -0.837]\n [-0.795 -0.605 -0.837]\n [-0.837 -0.837 -0.727]]\nAlpha Fock matrix:\n[[-0.857 -0.895 -0.94 ]\n [-0.895 -0.856 -0.941]\n [-0.94  -0.941 -0.77 ]]\n\nBeta Fock matrix:\n[[-0.604 -0.795 -0.837]\n [-0.795 -0.605 -0.837]\n [-0.837 -0.837 -0.727]]\nAlpha Fock matrix:\n[[-0.857 -0.895 -0.94 ]\n [-0.895 -0.856 -0.941]\n [-0.94  -0.941 -0.77 ]]\n\nBeta Fock matrix:\n[[-0.604 -0.795 -0.837]\n [-0.795 -0.605 -0.837]\n [-0.837 -0.837 -0.727]]\nAlpha Fock matrix:\n[[-0.857 -0.895 -0.94 ]\n [-0.895 -0.856 -0.941]\n [-0.94  -0.941 -0.77 ]]\n\nBeta Fock matrix:\n[[-0.604 -0.795 -0.837]\n [-0.795 -0.605 -0.837]\n [-0.837 -0.837 -0.727]]\nAlpha Fock matrix:\n[[-0.857 -0.895 -0.94 ]\n [-0.895 -0.856 -0.941]\n [-0.94  -0.941 -0.77 ]]\n\nBeta Fock matrix:\n[[-0.604 -0.795 -0.837]\n [-0.795 -0.605 -0.837]\n [-0.837 -0.837 -0.727]]\nAlpha Fock matrix:\n[[-0.857 -0.895 -0.94 ]\n [-0.895 -0.856 -0.941]\n [-0.94  -0.941 -0.77 ]]\n\nBeta Fock matrix:\n[[-0.604 -0.795 -0.837]\n [-0.795 -0.605 -0.837]\n [-0.837 -0.837 -0.727]]\nAlpha Fock matrix:\n[[-0.857 -0.895 -0.94 ]\n [-0.895 -0.856 -0.941]\n [-0.94  -0.941 -0.77 ]]\n\nBeta Fock matrix:\n[[-0.604 -0.795 -0.837]\n [-0.795 -0.605 -0.837]\n [-0.837 -0.837 -0.727]]\nAlpha Fock matrix:\n[[-0.857 -0.895 -0.94 ]\n [-0.895 -0.856 -0.941]\n [-0.94  -0.941 -0.77 ]]\n\nBeta Fock matrix:\n[[-0.604 -0.795 -0.837]\n [-0.795 -0.605 -0.837]\n [-0.837 -0.837 -0.727]]\nAlpha Fock matrix:\n[[-0.857 -0.895 -0.94 ]\n [-0.895 -0.856 -0.941]\n [-0.94  -0.941 -0.77 ]]\n\nBeta Fock matrix:\n[[-0.604 -0.795 -0.837]\n [-0.795 -0.605 -0.837]\n [-0.837 -0.837 -0.727]]\nAlpha Fock matrix:\n[[-0.857 -0.895 -0.94 ]\n [-0.895 -0.856 -0.941]\n [-0.94  -0.941 -0.77 ]]\n\nBeta Fock matrix:\n[[-0.604 -0.795 -0.837]\n [-0.795 -0.605 -0.837]\n [-0.837 -0.837 -0.727]]\nAlpha Fock matrix:\n[[-0.857 -0.895 -0.94 ]\n [-0.895 -0.856 -0.941]\n [-0.94  -0.941 -0.77 ]]\n\nBeta Fock matrix:\n[[-0.604 -0.795 -0.837]\n [-0.795 -0.605 -0.837]\n [-0.837 -0.837 -0.727]]\nAlpha Fock matrix:\n[[-0.857 -0.895 -0.94 ]\n [-0.895 -0.856 -0.941]\n [-0.94  -0.941 -0.77 ]]\n\nBeta Fock matrix:\n[[-0.604 -0.795 -0.837]\n [-0.795 -0.605 -0.837]\n [-0.837 -0.837 -0.727]]\nAlpha Fock matrix:\n[[-0.857 -0.895 -0.94 ]\n [-0.895 -0.856 -0.941]\n [-0.94  -0.941 -0.77 ]]\n\nBeta Fock matrix:\n[[-0.604 -0.795 -0.837]\n [-0.795 -0.605 -0.837]\n [-0.837 -0.837 -0.727]]\nAlpha Fock matrix:\n[[-0.857 -0.895 -0.94 ]\n [-0.895 -0.856 -0.941]\n [-0.94  -0.941 -0.77 ]]\n\nBeta Fock matrix:\n[[-0.604 -0.795 -0.837]\n [-0.795 -0.605 -0.837]\n [-0.837 -0.837 -0.727]]\nAlpha Fock matrix:\n[[-0.857 -0.895 -0.94 ]\n [-0.895 -0.856 -0.941]\n [-0.94  -0.941 -0.77 ]]\n\nBeta Fock matrix:\n[[-0.604 -0.795 -0.837]\n [-0.795 -0.605 -0.837]\n [-0.837 -0.837 -0.727]]\nAlpha Fock matrix:\n[[-0.857 -0.895 -0.94 ]\n [-0.895 -0.857 -0.941]\n [-0.94  -0.941 -0.77 ]]\n\nBeta Fock matrix:\n[[-0.604 -0.795 -0.837]\n [-0.795 -0.605 -0.837]\n [-0.837 -0.837 -0.727]]\nAlpha Fock matrix:\n[[-0.857 -0.895 -0.94 ]\n [-0.895 -0.857 -0.941]\n [-0.94  -0.941 -0.77 ]]\n\nBeta Fock matrix:\n[[-0.604 -0.795 -0.837]\n [-0.795 -0.605 -0.837]\n [-0.837 -0.837 -0.727]]\nAlpha Fock matrix:\n[[-0.857 -0.895 -0.94 ]\n [-0.895 -0.857 -0.941]\n [-0.94  -0.941 -0.77 ]]\n\nBeta Fock matrix:\n[[-0.604 -0.795 -0.837]\n [-0.795 -0.605 -0.837]\n [-0.837 -0.837 -0.727]]\nAlpha Fock matrix:\n[[-0.857 -0.895 -0.94 ]\n [-0.895 -0.857 -0.941]\n [-0.94  -0.941 -0.77 ]]\n\nBeta Fock matrix:\n[[-0.604 -0.795 -0.837]\n [-0.795 -0.605 -0.837]\n [-0.837 -0.837 -0.727]]\nAlpha Fock matrix:\n[[-0.857 -0.895 -0.94 ]\n [-0.895 -0.857 -0.941]\n [-0.94  -0.941 -0.77 ]]\n\nBeta Fock matrix:\n[[-0.604 -0.795 -0.837]\n [-0.795 -0.605 -0.837]\n [-0.837 -0.837 -0.727]]\nAlpha Fock matrix:\n[[-0.857 -0.895 -0.94 ]\n [-0.895 -0.857 -0.941]\n [-0.94  -0.941 -0.77 ]]\n\nBeta Fock matrix:\n[[-0.604 -0.795 -0.837]\n [-0.795 -0.605 -0.837]\n [-0.837 -0.837 -0.727]]\nAlpha Fock matrix:\n[[-0.857 -0.895 -0.94 ]\n [-0.895 -0.857 -0.941]\n [-0.94  -0.941 -0.77 ]]\n\nBeta Fock matrix:\n[[-0.604 -0.795 -0.837]\n [-0.795 -0.605 -0.837]\n [-0.837 -0.837 -0.727]]\nAlpha Fock matrix:\n[[-0.857 -0.895 -0.94 ]\n [-0.895 -0.857 -0.941]\n [-0.94  -0.941 -0.77 ]]\n\nBeta Fock matrix:\n[[-0.604 -0.795 -0.837]\n [-0.795 -0.605 -0.837]\n [-0.837 -0.837 -0.727]]\nAlpha Fock matrix:\n[[-0.857 -0.895 -0.94 ]\n [-0.895 -0.857 -0.941]\n [-0.94  -0.941 -0.77 ]]\n\nBeta Fock matrix:\n[[-0.604 -0.795 -0.837]\n [-0.795 -0.605 -0.837]\n [-0.837 -0.837 -0.727]]\nAlpha Fock matrix:\n[[-0.857 -0.895 -0.94 ]\n [-0.895 -0.857 -0.941]\n [-0.94  -0.941 -0.77 ]]\n\nBeta Fock matrix:\n[[-0.604 -0.795 -0.837]\n [-0.795 -0.605 -0.837]\n [-0.837 -0.837 -0.727]]\nAlpha Fock matrix:\n[[-0.857 -0.895 -0.94 ]\n [-0.895 -0.857 -0.941]\n [-0.94  -0.941 -0.77 ]]\n\nBeta Fock matrix:\n[[-0.604 -0.795 -0.837]\n [-0.795 -0.605 -0.837]\n [-0.837 -0.837 -0.727]]\nAlpha Fock matrix:\n[[-0.857 -0.895 -0.94 ]\n [-0.895 -0.857 -0.941]\n [-0.94  -0.941 -0.77 ]]\n\nBeta Fock matrix:\n[[-0.604 -0.795 -0.837]\n [-0.795 -0.605 -0.837]\n [-0.837 -0.837 -0.727]]\nAlpha Fock matrix:\n[[-0.857 -0.895 -0.94 ]\n [-0.895 -0.857 -0.941]\n [-0.94  -0.941 -0.77 ]]\n\nBeta Fock matrix:\n[[-0.604 -0.795 -0.837]\n [-0.795 -0.605 -0.837]\n [-0.837 -0.837 -0.727]]\nAlpha Fock matrix:\n[[-0.857 -0.895 -0.94 ]\n [-0.895 -0.857 -0.941]\n [-0.94  -0.941 -0.77 ]]\n\nBeta Fock matrix:\n[[-0.604 -0.795 -0.837]\n [-0.795 -0.605 -0.837]\n [-0.837 -0.837 -0.727]]\nAlpha Fock matrix:\n[[-0.857 -0.895 -0.94 ]\n [-0.895 -0.857 -0.941]\n [-0.94  -0.941 -0.77 ]]\n\nBeta Fock matrix:\n[[-0.604 -0.795 -0.837]\n [-0.795 -0.605 -0.837]\n [-0.837 -0.837 -0.727]]\nAlpha Fock matrix:\n[[-0.857 -0.895 -0.94 ]\n [-0.895 -0.857 -0.941]\n [-0.94  -0.941 -0.77 ]]\n\nBeta Fock matrix:\n[[-0.604 -0.795 -0.837]\n [-0.795 -0.605 -0.837]\n [-0.837 -0.837 -0.727]]\nAlpha Fock matrix:\n[[-0.857 -0.895 -0.94 ]\n [-0.895 -0.857 -0.941]\n [-0.94  -0.941 -0.77 ]]\n\nBeta Fock matrix:\n[[-0.604 -0.795 -0.837]\n [-0.795 -0.605 -0.837]\n [-0.837 -0.837 -0.727]]\nAlpha Fock matrix:\n[[-0.857 -0.895 -0.94 ]\n [-0.895 -0.857 -0.941]\n [-0.94  -0.941 -0.77 ]]\n\nBeta Fock matrix:\n[[-0.604 -0.795 -0.837]\n [-0.795 -0.605 -0.837]\n [-0.837 -0.837 -0.727]]\nAlpha Fock matrix:\n[[-0.857 -0.895 -0.94 ]\n [-0.895 -0.857 -0.941]\n [-0.94  -0.941 -0.77 ]]\n\nBeta Fock matrix:\n[[-0.604 -0.795 -0.837]\n [-0.795 -0.605 -0.837]\n [-0.837 -0.837 -0.727]]\nAlpha Fock matrix:\n[[-0.857 -0.895 -0.94 ]\n [-0.895 -0.857 -0.941]\n [-0.94  -0.941 -0.77 ]]\n\nBeta Fock matrix:\n[[-0.604 -0.795 -0.837]\n [-0.795 -0.605 -0.837]\n [-0.837 -0.837 -0.727]]\nAlpha Fock matrix:\n[[-0.857 -0.895 -0.94 ]\n [-0.895 -0.857 -0.941]\n [-0.94  -0.941 -0.77 ]]\n\nBeta Fock matrix:\n[[-0.604 -0.795 -0.837]\n [-0.795 -0.605 -0.837]\n [-0.837 -0.837 -0.727]]\nAlpha Fock matrix:\n[[-0.857 -0.895 -0.94 ]\n [-0.895 -0.857 -0.941]\n [-0.94  -0.941 -0.77 ]]\n\nBeta Fock matrix:\n[[-0.604 -0.795 -0.837]\n [-0.795 -0.605 -0.837]\n [-0.837 -0.837 -0.727]]\nAlpha Fock matrix:\n[[-0.857 -0.895 -0.94 ]\n [-0.895 -0.857 -0.941]\n [-0.94  -0.941 -0.77 ]]\n\nBeta Fock matrix:\n[[-0.604 -0.795 -0.837]\n [-0.795 -0.605 -0.837]\n [-0.837 -0.837 -0.727]]\nAlpha Fock matrix:\n[[-0.857 -0.895 -0.94 ]\n [-0.895 -0.857 -0.941]\n [-0.94  -0.941 -0.77 ]]\n\nBeta Fock matrix:\n[[-0.604 -0.795 -0.837]\n [-0.795 -0.605 -0.837]\n [-0.837 -0.837 -0.727]]\nAlpha Fock matrix:\n[[-0.857 -0.895 -0.94 ]\n [-0.895 -0.857 -0.941]\n [-0.94  -0.941 -0.77 ]]\n\nBeta Fock matrix:\n[[-0.604 -0.795 -0.837]\n [-0.795 -0.605 -0.837]\n [-0.837 -0.837 -0.727]]\nAlpha Fock matrix:\n[[-0.857 -0.895 -0.94 ]\n [-0.895 -0.857 -0.941]\n [-0.94  -0.941 -0.77 ]]\n\nBeta Fock matrix:\n[[-0.604 -0.795 -0.837]\n [-0.795 -0.605 -0.837]\n [-0.837 -0.837 -0.727]]\nAlpha Fock matrix:\n[[-0.857 -0.895 -0.94 ]\n [-0.895 -0.857 -0.941]\n [-0.94  -0.941 -0.77 ]]\n\nBeta Fock matrix:\n[[-0.604 -0.795 -0.837]\n [-0.795 -0.605 -0.837]\n [-0.837 -0.837 -0.727]]\nAlpha Fock matrix:\n[[-0.857 -0.895 -0.94 ]\n [-0.895 -0.857 -0.941]\n [-0.94  -0.941 -0.77 ]]\n\nBeta Fock matrix:\n[[-0.604 -0.795 -0.837]\n [-0.795 -0.605 -0.837]\n [-0.837 -0.837 -0.727]]\nAlpha Fock matrix:\n[[-0.857 -0.895 -0.94 ]\n [-0.895 -0.857 -0.941]\n [-0.94  -0.941 -0.77 ]]\n\nBeta Fock matrix:\n[[-0.604 -0.795 -0.837]\n [-0.795 -0.605 -0.837]\n [-0.837 -0.837 -0.727]]\nAlpha Fock matrix:\n[[-0.857 -0.895 -0.94 ]\n [-0.895 -0.857 -0.941]\n [-0.94  -0.941 -0.77 ]]\n\nBeta Fock matrix:\n[[-0.604 -0.795 -0.837]\n [-0.795 -0.605 -0.837]\n [-0.837 -0.837 -0.727]]\nAlpha Fock matrix:\n[[-0.857 -0.895 -0.94 ]\n [-0.895 -0.857 -0.941]\n [-0.94  -0.941 -0.77 ]]\n\nBeta Fock matrix:\n[[-0.604 -0.795 -0.837]\n [-0.795 -0.605 -0.837]\n [-0.837 -0.837 -0.727]]\nAlpha Fock matrix:\n[[-0.857 -0.895 -0.94 ]\n [-0.895 -0.857 -0.941]\n [-0.94  -0.941 -0.77 ]]\n\nBeta Fock matrix:\n[[-0.604 -0.795 -0.837]\n [-0.795 -0.605 -0.837]\n [-0.837 -0.837 -0.727]]\nAlpha Fock matrix:\n[[-0.857 -0.895 -0.94 ]\n [-0.895 -0.857 -0.941]\n [-0.94  -0.941 -0.77 ]]\n\nBeta Fock matrix:\n[[-0.604 -0.795 -0.837]\n [-0.795 -0.605 -0.837]\n [-0.837 -0.837 -0.727]]\nAlpha Fock matrix:\n[[-0.857 -0.895 -0.94 ]\n [-0.895 -0.857 -0.941]\n [-0.94  -0.941 -0.77 ]]\n\nBeta Fock matrix:\n[[-0.604 -0.795 -0.837]\n [-0.795 -0.605 -0.837]\n [-0.837 -0.837 -0.727]]\nAlpha Fock matrix:\n[[-0.857 -0.895 -0.94 ]\n [-0.895 -0.857 -0.941]\n [-0.94  -0.941 -0.77 ]]\n\nBeta Fock matrix:\n[[-0.604 -0.795 -0.837]\n [-0.795 -0.605 -0.837]\n [-0.837 -0.837 -0.727]]\nAlpha Fock matrix:\n[[-0.857 -0.895 -0.94 ]\n [-0.895 -0.857 -0.941]\n [-0.94  -0.941 -0.77 ]]\n\nBeta Fock matrix:\n[[-0.604 -0.795 -0.837]\n [-0.795 -0.605 -0.837]\n [-0.837 -0.837 -0.727]]\nAlpha Fock matrix:\n[[-0.857 -0.895 -0.94 ]\n [-0.895 -0.857 -0.941]\n [-0.94  -0.941 -0.77 ]]\n\nBeta Fock matrix:\n[[-0.604 -0.795 -0.837]\n [-0.795 -0.605 -0.837]\n [-0.837 -0.837 -0.727]]\nAlpha Fock matrix:\n[[-0.857 -0.895 -0.94 ]\n [-0.895 -0.857 -0.941]\n [-0.94  -0.941 -0.77 ]]\n\nBeta Fock matrix:\n[[-0.604 -0.795 -0.837]\n [-0.795 -0.605 -0.837]\n [-0.837 -0.837 -0.727]]\nAlpha Fock matrix:\n[[-0.857 -0.895 -0.94 ]\n [-0.895 -0.857 -0.941]\n [-0.94  -0.941 -0.77 ]]\n\nBeta Fock matrix:\n[[-0.604 -0.795 -0.837]\n [-0.795 -0.605 -0.837]\n [-0.837 -0.837 -0.727]]\nAlpha Fock matrix:\n[[-0.857 -0.895 -0.94 ]\n [-0.895 -0.857 -0.941]\n [-0.94  -0.941 -0.77 ]]\n\nBeta Fock matrix:\n[[-0.604 -0.795 -0.837]\n [-0.795 -0.605 -0.837]\n [-0.837 -0.837 -0.727]]\nAlpha Fock matrix:\n[[-0.857 -0.895 -0.94 ]\n [-0.895 -0.857 -0.941]\n [-0.94  -0.941 -0.77 ]]\n\nBeta Fock matrix:\n[[-0.604 -0.795 -0.837]\n [-0.795 -0.605 -0.837]\n [-0.837 -0.837 -0.727]]\nAlpha Fock matrix:\n[[-0.857 -0.895 -0.94 ]\n [-0.895 -0.857 -0.941]\n [-0.94  -0.941 -0.77 ]]\n\nBeta Fock matrix:\n[[-0.604 -0.795 -0.837]\n [-0.795 -0.605 -0.837]\n [-0.837 -0.837 -0.727]]\nAlpha Fock matrix:\n[[-0.857 -0.895 -0.94 ]\n [-0.895 -0.857 -0.94 ]\n [-0.94  -0.94  -0.77 ]]\n\nBeta Fock matrix:\n[[-0.604 -0.795 -0.837]\n [-0.795 -0.605 -0.837]\n [-0.837 -0.837 -0.727]]\nAlpha Fock matrix:\n[[-0.857 -0.895 -0.94 ]\n [-0.895 -0.857 -0.94 ]\n [-0.94  -0.94  -0.77 ]]\n\nBeta Fock matrix:\n[[-0.604 -0.795 -0.837]\n [-0.795 -0.605 -0.837]\n [-0.837 -0.837 -0.727]]\nAlpha Fock matrix:\n[[-0.857 -0.895 -0.94 ]\n [-0.895 -0.857 -0.94 ]\n [-0.94  -0.94  -0.77 ]]\n\nBeta Fock matrix:\n[[-0.604 -0.795 -0.837]\n [-0.795 -0.605 -0.837]\n [-0.837 -0.837 -0.727]]\nAlpha Fock matrix:\n[[-0.857 -0.895 -0.94 ]\n [-0.895 -0.857 -0.94 ]\n [-0.94  -0.94  -0.77 ]]\n\nBeta Fock matrix:\n[[-0.604 -0.795 -0.837]\n [-0.795 -0.605 -0.837]\n [-0.837 -0.837 -0.727]]\nAlpha Fock matrix:\n[[-0.857 -0.895 -0.94 ]\n [-0.895 -0.857 -0.94 ]\n [-0.94  -0.94  -0.77 ]]\n\nBeta Fock matrix:\n[[-0.604 -0.795 -0.837]\n [-0.795 -0.605 -0.837]\n [-0.837 -0.837 -0.727]]\nAlpha Fock matrix:\n[[-0.857 -0.895 -0.94 ]\n [-0.895 -0.857 -0.94 ]\n [-0.94  -0.94  -0.77 ]]\n\nBeta Fock matrix:\n[[-0.604 -0.795 -0.837]\n [-0.795 -0.605 -0.837]\n [-0.837 -0.837 -0.727]]\nAlpha Fock matrix:\n[[-0.857 -0.895 -0.94 ]\n [-0.895 -0.857 -0.94 ]\n [-0.94  -0.94  -0.77 ]]\n\nBeta Fock matrix:\n[[-0.604 -0.795 -0.837]\n [-0.795 -0.605 -0.837]\n [-0.837 -0.837 -0.727]]\nAlpha Fock matrix:\n[[-0.857 -0.895 -0.94 ]\n [-0.895 -0.857 -0.94 ]\n [-0.94  -0.94  -0.77 ]]\n\nBeta Fock matrix:\n[[-0.604 -0.795 -0.837]\n [-0.795 -0.605 -0.837]\n [-0.837 -0.837 -0.727]]\nAlpha Fock matrix:\n[[-0.857 -0.895 -0.94 ]\n [-0.895 -0.857 -0.94 ]\n [-0.94  -0.94  -0.77 ]]\n\nBeta Fock matrix:\n[[-0.604 -0.795 -0.837]\n [-0.795 -0.605 -0.837]\n [-0.837 -0.837 -0.727]]\nAlpha Fock matrix:\n[[-0.857 -0.895 -0.94 ]\n [-0.895 -0.857 -0.94 ]\n [-0.94  -0.94  -0.77 ]]\n\nBeta Fock matrix:\n[[-0.604 -0.795 -0.837]\n [-0.795 -0.605 -0.837]\n [-0.837 -0.837 -0.727]]\nAlpha Fock matrix:\n[[-0.857 -0.895 -0.94 ]\n [-0.895 -0.857 -0.94 ]\n [-0.94  -0.94  -0.77 ]]\n\nBeta Fock matrix:\n[[-0.604 -0.795 -0.837]\n [-0.795 -0.605 -0.837]\n [-0.837 -0.837 -0.727]]\nAlpha Fock matrix:\n[[-0.857 -0.895 -0.94 ]\n [-0.895 -0.857 -0.94 ]\n [-0.94  -0.94  -0.77 ]]\n\nBeta Fock matrix:\n[[-0.604 -0.795 -0.837]\n [-0.795 -0.605 -0.837]\n [-0.837 -0.837 -0.727]]\nAlpha Fock matrix:\n[[-0.857 -0.895 -0.94 ]\n [-0.895 -0.857 -0.94 ]\n [-0.94  -0.94  -0.77 ]]\n\nBeta Fock matrix:\n[[-0.604 -0.795 -0.837]\n [-0.795 -0.605 -0.837]\n [-0.837 -0.837 -0.727]]\nAlpha Fock matrix:\n[[-0.857 -0.895 -0.94 ]\n [-0.895 -0.857 -0.94 ]\n [-0.94  -0.94  -0.77 ]]\n\nBeta Fock matrix:\n[[-0.604 -0.795 -0.837]\n [-0.795 -0.605 -0.837]\n [-0.837 -0.837 -0.727]]\nAlpha Fock matrix:\n[[-0.857 -0.895 -0.94 ]\n [-0.895 -0.857 -0.94 ]\n [-0.94  -0.94  -0.77 ]]\n\nBeta Fock matrix:\n[[-0.604 -0.795 -0.837]\n [-0.795 -0.605 -0.837]\n [-0.837 -0.837 -0.727]]\nAlpha Fock matrix:\n[[-0.857 -0.895 -0.94 ]\n [-0.895 -0.857 -0.94 ]\n [-0.94  -0.94  -0.77 ]]\n\nBeta Fock matrix:\n[[-0.604 -0.795 -0.837]\n [-0.795 -0.605 -0.837]\n [-0.837 -0.837 -0.727]]\nAlpha Fock matrix:\n[[-0.857 -0.895 -0.94 ]\n [-0.895 -0.857 -0.94 ]\n [-0.94  -0.94  -0.77 ]]\n\nBeta Fock matrix:\n[[-0.604 -0.795 -0.837]\n [-0.795 -0.605 -0.837]\n [-0.837 -0.837 -0.727]]\nAlpha Fock matrix:\n[[-0.857 -0.895 -0.94 ]\n [-0.895 -0.857 -0.94 ]\n [-0.94  -0.94  -0.77 ]]\n\nBeta Fock matrix:\n[[-0.604 -0.795 -0.837]\n [-0.795 -0.605 -0.837]\n [-0.837 -0.837 -0.727]]\nAlpha Fock matrix:\n[[-0.857 -0.895 -0.94 ]\n [-0.895 -0.857 -0.94 ]\n [-0.94  -0.94  -0.77 ]]\n\nBeta Fock matrix:\n[[-0.604 -0.795 -0.837]\n [-0.795 -0.605 -0.837]\n [-0.837 -0.837 -0.727]]\nAlpha Fock matrix:\n[[-0.857 -0.895 -0.94 ]\n [-0.895 -0.857 -0.94 ]\n [-0.94  -0.94  -0.77 ]]\n\nBeta Fock matrix:\n[[-0.604 -0.795 -0.837]\n [-0.795 -0.605 -0.837]\n [-0.837 -0.837 -0.727]]\nAlpha Fock matrix:\n[[-0.857 -0.895 -0.94 ]\n [-0.895 -0.857 -0.94 ]\n [-0.94  -0.94  -0.77 ]]\n\nBeta Fock matrix:\n[[-0.604 -0.795 -0.837]\n [-0.795 -0.605 -0.837]\n [-0.837 -0.837 -0.727]]\nAlpha Fock matrix:\n[[-0.857 -0.895 -0.94 ]\n [-0.895 -0.857 -0.94 ]\n [-0.94  -0.94  -0.77 ]]\n\nBeta Fock matrix:\n[[-0.604 -0.795 -0.837]\n [-0.795 -0.605 -0.837]\n [-0.837 -0.837 -0.727]]\nAlpha Fock matrix:\n[[-0.857 -0.895 -0.94 ]\n [-0.895 -0.857 -0.94 ]\n [-0.94  -0.94  -0.77 ]]\n\nBeta Fock matrix:\n[[-0.604 -0.795 -0.837]\n [-0.795 -0.605 -0.837]\n [-0.837 -0.837 -0.727]]\nAlpha Fock matrix:\n[[-0.857 -0.895 -0.94 ]\n [-0.895 -0.857 -0.94 ]\n [-0.94  -0.94  -0.77 ]]\n\nBeta Fock matrix:\n[[-0.604 -0.795 -0.837]\n [-0.795 -0.605 -0.837]\n [-0.837 -0.837 -0.727]]\nAlpha Fock matrix:\n[[-0.857 -0.895 -0.94 ]\n [-0.895 -0.857 -0.94 ]\n [-0.94  -0.94  -0.77 ]]\n\nBeta Fock matrix:\n[[-0.604 -0.795 -0.837]\n [-0.795 -0.605 -0.837]\n [-0.837 -0.837 -0.727]]\nAlpha Fock matrix:\n[[-0.857 -0.895 -0.94 ]\n [-0.895 -0.857 -0.94 ]\n [-0.94  -0.94  -0.77 ]]\n\nBeta Fock matrix:\n[[-0.604 -0.795 -0.837]\n [-0.795 -0.605 -0.837]\n [-0.837 -0.837 -0.727]]\n"
    }
   ],
   "source": [
    "qc_structure = gqcpy.UHF.optimize(plain_solver, environment)"
   ]
  },
  {
   "cell_type": "code",
   "execution_count": 8,
   "metadata": {},
   "outputs": [
    {
     "output_type": "stream",
     "name": "stdout",
     "text": "-0.6311463074240042\n"
    }
   ],
   "source": [
    "print(qc_structure.groundStateEnergy() + gqcpy.Operator.NuclearRepulsion(molecule).value())"
   ]
  },
  {
   "cell_type": "code",
   "execution_count": 9,
   "metadata": {},
   "outputs": [],
   "source": [
    "uhf_parameters = qc_structure.groundStateParameters()"
   ]
  },
  {
   "cell_type": "code",
   "execution_count": 10,
   "metadata": {},
   "outputs": [
    {
     "output_type": "stream",
     "name": "stdout",
     "text": "[-1.033  0.187  0.769]\n"
    }
   ],
   "source": [
    "print(uhf_parameters.orbitalEnergies(gqcpy.Spin.alpha))"
   ]
  },
  {
   "cell_type": "code",
   "execution_count": 11,
   "metadata": {},
   "outputs": [
    {
     "output_type": "stream",
     "name": "stdout",
     "text": "[-0.89   0.821  0.937]\n"
    }
   ],
   "source": [
    "print(uhf_parameters.orbitalEnergies(gqcpy.Spin.beta))"
   ]
  },
  {
   "cell_type": "code",
   "execution_count": 12,
   "metadata": {},
   "outputs": [
    {
     "output_type": "stream",
     "name": "stdout",
     "text": "649\n"
    }
   ],
   "source": [
    "print(plain_solver.numberOfIterations())"
   ]
  },
  {
   "cell_type": "markdown",
   "metadata": {},
   "source": [
    "## DIIS UHF SCF"
   ]
  },
  {
   "cell_type": "code",
   "execution_count": 13,
   "metadata": {},
   "outputs": [],
   "source": [
    "environment = gqcpy.UHFSCFEnvironment.WithCoreGuess(N_alpha, N_beta, sq_hamiltonian, S)\n",
    "diis_solver = gqcpy.UHFSCFSolver.DIIS(threshold=1.0e-04, maximum_number_of_iterations=1000, minimum_subspace_dimension=6, maximum_subspace_dimension=6)  # the system is not converging very rapidly"
   ]
  },
  {
   "cell_type": "code",
   "execution_count": 14,
   "metadata": {},
   "outputs": [],
   "source": [
    "qc_structure = gqcpy.UHF.optimize(diis_solver, environment)"
   ]
  },
  {
   "cell_type": "code",
   "execution_count": 15,
   "metadata": {},
   "outputs": [
    {
     "output_type": "stream",
     "name": "stdout",
     "text": "-0.6311235468342336\n"
    }
   ],
   "source": [
    "print(qc_structure.groundStateEnergy() + gqcpy.Operator.NuclearRepulsion(molecule).value())"
   ]
  },
  {
   "cell_type": "code",
   "execution_count": 16,
   "metadata": {},
   "outputs": [],
   "source": [
    "uhf_parameters = qc_structure.groundStateParameters()"
   ]
  },
  {
   "cell_type": "code",
   "execution_count": 17,
   "metadata": {},
   "outputs": [
    {
     "output_type": "stream",
     "name": "stdout",
     "text": "[-1.033  0.187  0.769]\n"
    }
   ],
   "source": [
    "print(uhf_parameters.orbitalEnergies(gqcpy.Spin.alpha))"
   ]
  },
  {
   "cell_type": "code",
   "execution_count": 18,
   "metadata": {},
   "outputs": [
    {
     "output_type": "stream",
     "name": "stdout",
     "text": "[-0.89   0.821  0.937]\n"
    }
   ],
   "source": [
    "print(uhf_parameters.orbitalEnergies(gqcpy.Spin.beta))"
   ]
  },
  {
   "cell_type": "code",
   "execution_count": 19,
   "metadata": {},
   "outputs": [
    {
     "output_type": "stream",
     "name": "stdout",
     "text": "163\n"
    }
   ],
   "source": [
    "print(diis_solver.numberOfIterations())"
   ]
  }
 ],
 "metadata": {
  "kernelspec": {
   "display_name": "Python 3",
   "language": "python",
   "name": "python3"
  },
  "language_info": {
   "codemirror_mode": {
    "name": "ipython",
    "version": 3
   },
   "file_extension": ".py",
   "mimetype": "text/x-python",
   "name": "python",
   "nbconvert_exporter": "python",
   "pygments_lexer": "ipython3",
   "version": "3.7.7"
  }
 },
 "nbformat": 4,
 "nbformat_minor": 2
}