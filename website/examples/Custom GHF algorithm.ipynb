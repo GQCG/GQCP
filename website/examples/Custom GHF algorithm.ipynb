{
 "cells": [
  {
   "cell_type": "code",
   "execution_count": 2,
   "id": "grateful-medicare",
   "metadata": {},
   "outputs": [],
   "source": [
    "import sys\n",
    "sys.path.insert(0, '../../build/gqcpy/')\n",
    "\n",
    "import gqcpy\n",
    "import numpy as np\n",
    "import copy"
   ]
  },
  {
   "cell_type": "markdown",
   "id": "stupid-timothy",
   "metadata": {},
   "source": [
    "# Custom algorithm steps"
   ]
  },
  {
   "cell_type": "markdown",
   "id": "vietnamese-logan",
   "metadata": {},
   "source": [
    "## RHF conditions"
   ]
  },
  {
   "cell_type": "code",
   "execution_count": 2,
   "id": "corrected-variation",
   "metadata": {},
   "outputs": [],
   "source": [
    "def updateFockMatrixToRHFStructure(environment):\n",
    "    \"\"\"\n",
    "    A function used to update the generalized fock matrix to the RHF structure:\n",
    "    \n",
    "    (F_R, 0)\n",
    "    (0, F_R)\n",
    "    \"\"\"\n",
    "    \n",
    "    # Extract the latest Fock matrix out of the solver's environment.\n",
    "    fock_matrix_generalized = environment.fock_matrices[-1].parameters()\n",
    "    fock_matrix = copy.deepcopy(fock_matrix_generalized)\n",
    "    \n",
    "    \n",
    "    # In order to select the wanted blocks from the Fock matrix, we need the dimensions.\n",
    "    dim = int(np.shape(fock_matrix)[0]/2)\n",
    "    \n",
    "    # Create zero blocks and fill them in.\n",
    "    zero_block = np.zeros((dim, dim))\n",
    "    \n",
    "    fock_matrix[0:dim, dim:] = zero_block\n",
    "    fock_matrix[dim:, 0:dim] = zero_block\n",
    "    \n",
    "    # Select the restricted part of the fock matrix and make sure the two F_R blocks are identical.\n",
    "    fock_restricted = fock_matrix[0:dim, 0:dim]\n",
    "    \n",
    "    fock_matrix[dim:, dim:] = fock_restricted\n",
    "\n",
    "    fock_operator = gqcpy.ScalarGSQOneElectronOperator_d(fock_matrix)\n",
    "    \n",
    "    # Replace the current fock matrix in the environment\n",
    "    environment.replace_current_fock_matrix(fock_operator)"
   ]
  },
  {
   "cell_type": "code",
   "execution_count": 3,
   "id": "raising-production",
   "metadata": {},
   "outputs": [],
   "source": [
    "modification_RHF_F = gqcpy.FunctionalStep_GHFSCFEnvironment_d(updateFockMatrixToRHFStructure, description=\"Modify the Fock matrix to reflect a generalized representation of an RHF Fock matrix.\")"
   ]
  },
  {
   "cell_type": "code",
   "execution_count": 4,
   "id": "german-giant",
   "metadata": {},
   "outputs": [],
   "source": [
    "def updateCoefficientsToRHFStructure(environment):\n",
    "    \"\"\"\n",
    "    A function used to update the generalized coefficient matrix to the RHF structure:\n",
    "    \n",
    "    (C_R, 0)\n",
    "    (0, C_R)\n",
    "    \n",
    "    and uses this to transform the MO density matrix to AO basis.\n",
    "    \"\"\"\n",
    "        \n",
    "    # Extract the latest coefficient matrix out of the solver's environment.\n",
    "    coefficient_matrix_generalized = environment.coefficient_matrices[-1].matrix()\n",
    "    coefficient_matrix = copy.deepcopy(coefficient_matrix_generalized)\n",
    "    \n",
    "    \n",
    "    # In order to select the wanted blocks from the coefficient matrix, we need the dimensions.\n",
    "    dim = int(np.shape(coefficient_matrix)[0]/2)\n",
    "    \n",
    "    # Create zero blocks and fill them in.\n",
    "    zero_block = np.zeros((dim, dim))\n",
    "    \n",
    "    coefficient_matrix[0:dim, dim:] = zero_block\n",
    "    coefficient_matrix[dim:, 0:dim] = zero_block\n",
    "    \n",
    "    # Select the restricted part of the coeffcient matrix and make sure the two C_R blocks are identical.\n",
    "    coefficient_restricted = coefficient_matrix[0:dim, 0:dim]\n",
    "    \n",
    "    coefficient_matrix[dim:, dim:] = coefficient_restricted\n",
    "\n",
    "    coefficients = gqcpy.GTransformation_d(coefficient_matrix)\n",
    "        \n",
    "    # Replace the current coefficient matrix in the environment\n",
    "    environment.replace_current_coefficient_matrix(coefficients)"
   ]
  },
  {
   "cell_type": "code",
   "execution_count": 5,
   "id": "democratic-apollo",
   "metadata": {},
   "outputs": [],
   "source": [
    "modification_RHF_C = gqcpy.FunctionalStep_GHFSCFEnvironment_d(updateCoefficientsToRHFStructure, description=\"Modify the Coefficient matrix to reflect a generalized representation of an RHF Coefficient matrix.\")"
   ]
  },
  {
   "cell_type": "code",
   "execution_count": 6,
   "id": "golden-multimedia",
   "metadata": {},
   "outputs": [],
   "source": [
    "def updateDensityToRHFStructure(environment):\n",
    "    \"\"\"\n",
    "    A function used to update the generalized coefficient matrix to the RHF structure:\n",
    "    \n",
    "    (C_R, 0)\n",
    "    (0, C_R)\n",
    "    \n",
    "    and uses this to transform the MO density matrix to AO basis.\n",
    "    \"\"\"\n",
    "    \n",
    "    # Extract the latest coefficient matrix out of the solver's environment.\n",
    "    coefficient_matrix_generalized = environment.coefficient_matrices[-1].matrix()\n",
    "    \n",
    "    coefficient_matrix = copy.deepcopy(coefficient_matrix_generalized)\n",
    "    \n",
    "    # We need the dimensions.\n",
    "    dim = int(np.shape(coefficient_matrix)[0]/2)\n",
    "    \n",
    "    # create the RHF MO density matrix and transform it with the new coefficient matrix\n",
    "    density_MO = np.zeros((dim * 2, dim * 2))\n",
    "    \n",
    "    if environment.N % 2 != 0:\n",
    "        raise Exception(\"RHF modification cannot be used for an odd number of electrons.\")\n",
    "      \n",
    "    electron_pairs = int(environment.N / 2)\n",
    "    diagonal_occupied = np.ones((electron_pairs, electron_pairs)) * 2\n",
    "    \n",
    "    density_MO[0:electron_pairs, 0:electron_pairs] = diagonal_occupied\n",
    "    \n",
    "    \n",
    "    transformation = gqcpy.GTransformation_d(coefficient_matrix)\n",
    "    density = gqcpy.G1DM_d(density_MO).transformed(transformation)\n",
    "    \n",
    "    # Replace the current density matrix in the environment\n",
    "    environment.replace_current_density_matrix(density)"
   ]
  },
  {
   "cell_type": "code",
   "execution_count": 7,
   "id": "functional-marina",
   "metadata": {},
   "outputs": [],
   "source": [
    "modification_RHF_D = gqcpy.FunctionalStep_GHFSCFEnvironment_d(updateDensityToRHFStructure, description=\"Replace the density matrix with a new one calculated from the orthonormal 1DM representation, transformed to AO basis with the modified coefficient matrix.\")"
   ]
  },
  {
   "cell_type": "markdown",
   "id": "royal-reproduction",
   "metadata": {},
   "source": [
    "## UHF conditions"
   ]
  },
  {
   "cell_type": "code",
   "execution_count": 8,
   "id": "understanding-setup",
   "metadata": {},
   "outputs": [],
   "source": [
    "def updateFockMatrixToUHFStructure(environment):\n",
    "    \"\"\"\n",
    "    A function used to update the generalized fock matrix to the UHF structure:\n",
    "    \n",
    "    (F_a, 0)\n",
    "    (0, F_b)\n",
    "    \"\"\"\n",
    "    \n",
    "    # Extract the latest Fock matrix out of the solver's environment.\n",
    "    fock_matrix_generalized = environment.fock_matrices[-1].parameters()\n",
    "    fock_matrix = copy.deepcopy(fock_matrix_generalized)\n",
    "    \n",
    "    \n",
    "    # In order to select the wanted blocks from the Fock matrix, we need the dimensions.\n",
    "    dim = int(np.shape(fock_matrix)[0]/2)\n",
    "    \n",
    "    # Create zero blocks and fill them in.\n",
    "    zero_block = np.zeros((dim, dim))\n",
    "    \n",
    "    fock_matrix[0:dim, dim:] = zero_block\n",
    "    fock_matrix[dim:, 0:dim] = zero_block\n",
    "\n",
    "    fock_operator = gqcpy.ScalarGSQOneElectronOperator_d(fock_matrix)\n",
    "        \n",
    "    # Replace the current fock matrix in the environment\n",
    "    environment.replace_current_fock_matrix(fock_operator)"
   ]
  },
  {
   "cell_type": "code",
   "execution_count": 9,
   "id": "tracked-robin",
   "metadata": {},
   "outputs": [],
   "source": [
    "modification_UHF_F = gqcpy.FunctionalStep_GHFSCFEnvironment_d(updateFockMatrixToUHFStructure, description=\"Modify the Fock matrix to reflect a generalized representation of an UHF Fock matrix.\")"
   ]
  },
  {
   "cell_type": "code",
   "execution_count": 10,
   "id": "incredible-cancellation",
   "metadata": {},
   "outputs": [],
   "source": [
    "def updateCoefficientsToUHFStructure(environment):\n",
    "    \"\"\"\n",
    "    A function used to update the generalized coefficient matrix to the UHF structure:\n",
    "    \n",
    "    (C_a, 0)\n",
    "    (0, C_b)\n",
    "    \n",
    "    and uses this to transform the MO density matrix to AO basis.\n",
    "    \"\"\"\n",
    "    \n",
    "    # Extract the latest coefficient matrix out of the solver's environment.\n",
    "    coefficient_matrix_generalized = environment.coefficient_matrices[-1].matrix()\n",
    "    coefficient_matrix = copy.deepcopy(coefficient_matrix_generalized)\n",
    "\n",
    "    # In order to select the wanted blocks from the coefficient matrix, we need the dimensions.\n",
    "    dim = int(np.shape(coefficient_matrix)[0]/2)\n",
    "    \n",
    "    # Create zero blocks and fill them in.\n",
    "    zero_block = np.zeros((dim, dim))\n",
    "    \n",
    "    coefficient_matrix[0:dim, dim:] = zero_block\n",
    "    coefficient_matrix[dim:, 0:dim] = zero_block\n",
    "    \n",
    "    coefficients = gqcpy.GTransformation_d(coefficient_matrix)\n",
    "    \n",
    "    # Replace the current coefficient matrix in the environment\n",
    "    environment.replace_current_coefficient_matrix(coefficients)"
   ]
  },
  {
   "cell_type": "code",
   "execution_count": 127,
   "id": "stretch-invitation",
   "metadata": {},
   "outputs": [],
   "source": [
    "modification_UHF_C = gqcpy.FunctionalStep_GHFSCFEnvironment_d(updateCoefficientsToUHFStructure, description=\"Modify the Coefficient matrix to reflect a generalized representation of an UHF Coefficient matrix.\")"
   ]
  },
  {
   "cell_type": "code",
   "execution_count": 3,
   "metadata": {},
   "outputs": [
    {
     "output_type": "stream",
     "name": "stdout",
     "text": [
      "[[1. 1. 1.]\n [1. 1. 1.]\n [1. 1. 1.]]\n"
     ]
    }
   ],
   "source": [
    "x = np.ones((3,3))\n",
    "print(x)"
   ]
  },
  {
   "cell_type": "code",
   "execution_count": null,
   "metadata": {},
   "outputs": [],
   "source": [
    "val, vec = np.linalg.eig(x)"
   ]
  },
  {
   "cell_type": "code",
   "execution_count": 128,
   "id": "younger-window",
   "metadata": {},
   "outputs": [],
   "source": [
    "def updateDensityToUHFStructure(environment):\n",
    "    \"\"\"\n",
    "    A function used to update the generalized coefficient matrix to the UHF structure:\n",
    "    \n",
    "    (C_a, 0)\n",
    "    (0, C_b)\n",
    "    \n",
    "    and uses this to transform the MO density matrix to AO basis.\n",
    "    \"\"\"\n",
    "    if len(environment.coefficient_matrices) < 2:\n",
    "        print(\"Cannot yet update density\")\n",
    "        return\n",
    "    \n",
    "    # Extract the latest Coefficient matrix out of the solver's environment.\n",
    "    generalized_coefficient_matrix = environment.coefficient_matrices[-1].matrix()  \n",
    "    coefficient_matrix = copy.deepcopy(generalized_coefficient_matrix)\n",
    "    \n",
    "    # We need the dimensions.\n",
    "    dim = int(np.shape(coefficient_matrix)[0]/2)\n",
    "    \n",
    "    # create the RHF MO density matrix and transform it with the new coefficient matrix\n",
    "    density_MO = np.zeros((dim * 2, dim * 2))\n",
    "    \n",
    "    if environment.N % 2 == 0:\n",
    "        Na = int(environment.N / 2)\n",
    "        Nb = int(environment.N / 2)\n",
    "    else:\n",
    "        Na = int(np.ceil(environment.N / 2))\n",
    "        Nb = int(np.floor(environment.N / 2))\n",
    "    \n",
    "    diagonal_occupied_a = np.ones((Na, Na))\n",
    "    diagonal_occupied_b = np.ones((Nb, Nb))\n",
    "    \n",
    "    density_MO[0:Na, 0:Na] = diagonal_occupied_a\n",
    "    density_MO[dim:Nb, dim:Nb] = diagonal_occupied_b\n",
    "    \n",
    "    transformation = gqcpy.GTransformation_d(coefficient_matrix)\n",
    "    \n",
    "    density = gqcpy.G1DM_d(density_MO).transformed(transformation)\n",
    "    \n",
    "    # Replace the current density matrix in the environment\n",
    "    environment.replace_current_density_matrix(density)"
   ]
  },
  {
   "cell_type": "code",
   "execution_count": 129,
   "id": "parliamentary-pizza",
   "metadata": {},
   "outputs": [],
   "source": [
    "modification_UHF_D = gqcpy.FunctionalStep_GHFSCFEnvironment_d(updateDensityToUHFStructure, description=\"Replace the density matrix with a new one calculated from the orthonormal 1DM representation, transformed to AO basis with the modified coefficient matrix.\")"
   ]
  },
  {
   "cell_type": "markdown",
   "id": "asian-protocol",
   "metadata": {},
   "source": [
    "# The GHF algorithm"
   ]
  },
  {
   "cell_type": "code",
   "execution_count": 130,
   "id": "liberal-drawing",
   "metadata": {},
   "outputs": [],
   "source": [
    "def GHF_calculation(molecule, basis_set, modification_type=None,):\n",
    "    \"\"\"\n",
    "    A GHF algorithm that can be modified to a generalized RHF/UHF algorithm. \n",
    "    \n",
    "    :param molecule:          The molecule for the calculation.\n",
    "    :param basis_set:         The basis set in which the calculation is performed.\n",
    "    :param modification type: The type of adjustment inserted into the algorithm. Default is None, but can be either RHF or UHF.\n",
    "    \n",
    "    :return: A gqcpy.QCStructure of the performed calculation, the ground state parameters and the ground state energy.\n",
    "    \"\"\"\n",
    "    # Raise an exception when a wrong modification type is used.\n",
    "    if modification_type != 'UHF' and modification_type != 'RHF' and modification_type != None:\n",
    "        raise Exception('Invalid argument for modification_type. Use either RHF, UHF or the default None.')\n",
    "        \n",
    "        \n",
    "    # Set up the initial required variables for a calculation.\n",
    "    N = molecule.numberOfElectrons()\n",
    "    basis = gqcpy.GSpinorBasis_d(molecule, basis_set)\n",
    "    \n",
    "    S = basis.quantize(gqcpy.OverlapOperator())\n",
    "    \n",
    "    fq_hamiltonian = gqcpy.FQMolecularHamiltonian(molecule)\n",
    "    gsq_hamiltonian = basis.quantize(fq_hamiltonian) \n",
    "    \n",
    "    # Create the solver, potentially with modifications. Print the steps in the algorithm to show what you are doing.\n",
    "    environment = gqcpy.GHFSCFEnvironment_d.WithCoreGuess(N, gsq_hamiltonian, S)\n",
    "    solver = gqcpy.GHFSCFSolver_d.Plain(1.0e-04, 1000)\n",
    "    \n",
    "    if modification_type == 'RHF':\n",
    "        solver.insert(modification_RHF_C, 3)\n",
    "        solver.insert(modification_RHF_D, 1)\n",
    "        print(solver.description())\n",
    "        \n",
    "    elif modification_type == 'UHF':\n",
    "        #solver.insert(modification_UHF_F, 2)\n",
    "        solver.insert(modification_UHF_C, 3)\n",
    "        print(solver.description())\n",
    "        \n",
    "    else:\n",
    "        print(solver.description())\n",
    "    \n",
    "    # Calculate the QC structure.\n",
    "    qc_structure = gqcpy.GHF_d.optimize(solver, environment)\n",
    "    \n",
    "    # Calculate and print the ground state energy.\n",
    "    nuc_rep = gqcpy.NuclearRepulsionOperator(molecule.nuclearFramework()).value()\n",
    "    ground_state_energy = qc_structure.groundStateEnergy() + nuc_rep\n",
    "    \n",
    "    print(\"                                                                                      \")\n",
    "    print(\"                                                                                      \")\n",
    "    print(\"======================================================================================\")\n",
    "    print(\"The ground state energy of the calculation: \" + str(ground_state_energy) + \" (hartree)\")\n",
    "    print(\"======================================================================================\")\n",
    "\n",
    "    \n",
    "    # Calculate the ground state parameters.\n",
    "    ground_state_parameters = qc_structure.groundStateParameters()\n",
    "    \n",
    "    return qc_structure, ground_state_energy, ground_state_parameters"
   ]
  },
  {
   "cell_type": "markdown",
   "id": "sporting-internet",
   "metadata": {},
   "source": [
    "# A test calculation"
   ]
  },
  {
   "cell_type": "markdown",
   "id": "pursuant-thesis",
   "metadata": {},
   "source": [
    "## H3 ring vs UHF modified H3 ring"
   ]
  },
  {
   "cell_type": "code",
   "execution_count": 131,
   "id": "opposite-venice",
   "metadata": {},
   "outputs": [],
   "source": [
    "# A H3 ring, 1 angstrom apart.\n",
    "H3 = gqcpy.Molecule.HRingFromDistance(3, 1.889, 0)"
   ]
  },
  {
   "cell_type": "code",
   "execution_count": 132,
   "id": "broke-height",
   "metadata": {},
   "outputs": [
    {
     "output_type": "stream",
     "name": "stdout",
     "text": [
      "An iterative algorithm (with a maximum of 1000 iterations) consisting of the following steps:\nAn algorithmic step consisting of 4 algorithmic steps:\n\t1. Calculate the current GHF density matrix and place it in the environment.\n\t2. Calculate the current GHF Fock matrix (expressed in the scalar/AO basis) and place it in the environment.\n\t3. Solve the generalized eigenvalue problem for the most recent scalar/AO Fock matrix. Add the associated coefficient matrix and orbital energies to the environment.\n\t4. Calculate the current electronic GHF energy and place it in the environment.\n\nWith the following convergence criterion:\nA convergence criterion that checks if the norm of the difference of two iterates (the GHF density matrix in AO basis) is converged, with a tolerance of 1.00e-04.\n                                                                                      \n                                                                                      \n======================================================================================\nThe ground state energy of the calculation: -1.3358471548997102 (hartree)\n======================================================================================\n"
     ]
    }
   ],
   "source": [
    "structH3, energy_H3, paramH3 = GHF_calculation(H3, \"STO-3G\")"
   ]
  },
  {
   "cell_type": "code",
   "execution_count": 133,
   "id": "equipped-cardiff",
   "metadata": {
    "tags": []
   },
   "outputs": [
    {
     "output_type": "stream",
     "name": "stdout",
     "text": [
      "An iterative algorithm (with a maximum of 1000 iterations) consisting of the following steps:\nAn algorithmic step consisting of 5 algorithmic steps:\n\t1. Calculate the current GHF density matrix and place it in the environment.\n\t2. Calculate the current GHF Fock matrix (expressed in the scalar/AO basis) and place it in the environment.\n\t3. Solve the generalized eigenvalue problem for the most recent scalar/AO Fock matrix. Add the associated coefficient matrix and orbital energies to the environment.\n\t4. Modify the Coefficient matrix to reflect a generalized representation of an UHF Coefficient matrix.\n\t5. Calculate the current electronic GHF energy and place it in the environment.\n\nWith the following convergence criterion:\nA convergence criterion that checks if the norm of the difference of two iterates (the GHF density matrix in AO basis) is converged, with a tolerance of 1.00e-04.\n"
     ]
    },
    {
     "output_type": "error",
     "ename": "ValueError",
     "evalue": "cannot reshape array of size 1 into shape (3,3)",
     "traceback": [
      "\u001b[0;31m---------------------------------------------------------------------------\u001b[0m",
      "\u001b[0;31mValueError\u001b[0m                                Traceback (most recent call last)",
      "\u001b[0;32m<ipython-input-133-25f5ee37048e>\u001b[0m in \u001b[0;36m<module>\u001b[0;34m\u001b[0m\n\u001b[0;32m----> 1\u001b[0;31m \u001b[0mstructH3mod\u001b[0m\u001b[0;34m,\u001b[0m \u001b[0menergy_H3mod\u001b[0m\u001b[0;34m,\u001b[0m \u001b[0mparamH3mod\u001b[0m \u001b[0;34m=\u001b[0m \u001b[0mGHF_calculation\u001b[0m\u001b[0;34m(\u001b[0m\u001b[0mH3\u001b[0m\u001b[0;34m,\u001b[0m \u001b[0;34m\"STO-3G\"\u001b[0m\u001b[0;34m,\u001b[0m \u001b[0mmodification_type\u001b[0m\u001b[0;34m=\u001b[0m\u001b[0;34m'UHF'\u001b[0m\u001b[0;34m)\u001b[0m\u001b[0;34m\u001b[0m\u001b[0;34m\u001b[0m\u001b[0m\n\u001b[0m",
      "\u001b[0;32m<ipython-input-130-e5bd0eb5e954>\u001b[0m in \u001b[0;36mGHF_calculation\u001b[0;34m(molecule, basis_set, modification_type)\u001b[0m\n\u001b[1;32m     41\u001b[0m \u001b[0;34m\u001b[0m\u001b[0m\n\u001b[1;32m     42\u001b[0m     \u001b[0;31m# Calculate the QC structure.\u001b[0m\u001b[0;34m\u001b[0m\u001b[0;34m\u001b[0m\u001b[0;34m\u001b[0m\u001b[0m\n\u001b[0;32m---> 43\u001b[0;31m     \u001b[0mqc_structure\u001b[0m \u001b[0;34m=\u001b[0m \u001b[0mgqcpy\u001b[0m\u001b[0;34m.\u001b[0m\u001b[0mGHF_d\u001b[0m\u001b[0;34m.\u001b[0m\u001b[0moptimize\u001b[0m\u001b[0;34m(\u001b[0m\u001b[0msolver\u001b[0m\u001b[0;34m,\u001b[0m \u001b[0menvironment\u001b[0m\u001b[0;34m)\u001b[0m\u001b[0;34m\u001b[0m\u001b[0;34m\u001b[0m\u001b[0m\n\u001b[0m\u001b[1;32m     44\u001b[0m \u001b[0;34m\u001b[0m\u001b[0m\n\u001b[1;32m     45\u001b[0m     \u001b[0;31m# Calculate and print the ground state energy.\u001b[0m\u001b[0;34m\u001b[0m\u001b[0;34m\u001b[0m\u001b[0;34m\u001b[0m\u001b[0m\n",
      "\u001b[0;32m<ipython-input-126-8cfd66c184e2>\u001b[0m in \u001b[0;36mupdateCoefficientsToUHFStructure\u001b[0;34m(environment)\u001b[0m\n\u001b[1;32m     33\u001b[0m                 \u001b[0mvectorized_b\u001b[0m\u001b[0;34m.\u001b[0m\u001b[0mappend\u001b[0m\u001b[0;34m(\u001b[0m\u001b[0mC_bot\u001b[0m\u001b[0;34m[\u001b[0m\u001b[0mi\u001b[0m\u001b[0;34m,\u001b[0m \u001b[0mj\u001b[0m\u001b[0;34m]\u001b[0m\u001b[0;34m)\u001b[0m\u001b[0;34m\u001b[0m\u001b[0;34m\u001b[0m\u001b[0m\n\u001b[1;32m     34\u001b[0m \u001b[0;34m\u001b[0m\u001b[0m\n\u001b[0;32m---> 35\u001b[0;31m             \u001b[0mC_a\u001b[0m \u001b[0;34m=\u001b[0m \u001b[0mnp\u001b[0m\u001b[0;34m.\u001b[0m\u001b[0mreshape\u001b[0m\u001b[0;34m(\u001b[0m\u001b[0mvectorized_a\u001b[0m\u001b[0;34m,\u001b[0m \u001b[0;34m(\u001b[0m\u001b[0mdim\u001b[0m\u001b[0;34m,\u001b[0m \u001b[0mdim\u001b[0m\u001b[0;34m)\u001b[0m\u001b[0;34m)\u001b[0m\u001b[0;34m\u001b[0m\u001b[0;34m\u001b[0m\u001b[0m\n\u001b[0m\u001b[1;32m     36\u001b[0m             \u001b[0mC_b\u001b[0m \u001b[0;34m=\u001b[0m \u001b[0mnp\u001b[0m\u001b[0;34m.\u001b[0m\u001b[0mreshape\u001b[0m\u001b[0;34m(\u001b[0m\u001b[0mvectorized_b\u001b[0m\u001b[0;34m,\u001b[0m \u001b[0;34m(\u001b[0m\u001b[0mdim\u001b[0m\u001b[0;34m,\u001b[0m \u001b[0mdim\u001b[0m\u001b[0;34m)\u001b[0m\u001b[0;34m)\u001b[0m\u001b[0;34m\u001b[0m\u001b[0;34m\u001b[0m\u001b[0m\n\u001b[1;32m     37\u001b[0m \u001b[0;34m\u001b[0m\u001b[0m\n",
      "\u001b[0;32m<__array_function__ internals>\u001b[0m in \u001b[0;36mreshape\u001b[0;34m(*args, **kwargs)\u001b[0m\n",
      "\u001b[0;32m/usr/local/miniconda3/lib/python3.8/site-packages/numpy/core/fromnumeric.py\u001b[0m in \u001b[0;36mreshape\u001b[0;34m(a, newshape, order)\u001b[0m\n\u001b[1;32m    297\u001b[0m            [5, 6]])\n\u001b[1;32m    298\u001b[0m     \"\"\"\n\u001b[0;32m--> 299\u001b[0;31m     \u001b[0;32mreturn\u001b[0m \u001b[0m_wrapfunc\u001b[0m\u001b[0;34m(\u001b[0m\u001b[0ma\u001b[0m\u001b[0;34m,\u001b[0m \u001b[0;34m'reshape'\u001b[0m\u001b[0;34m,\u001b[0m \u001b[0mnewshape\u001b[0m\u001b[0;34m,\u001b[0m \u001b[0morder\u001b[0m\u001b[0;34m=\u001b[0m\u001b[0morder\u001b[0m\u001b[0;34m)\u001b[0m\u001b[0;34m\u001b[0m\u001b[0;34m\u001b[0m\u001b[0m\n\u001b[0m\u001b[1;32m    300\u001b[0m \u001b[0;34m\u001b[0m\u001b[0m\n\u001b[1;32m    301\u001b[0m \u001b[0;34m\u001b[0m\u001b[0m\n",
      "\u001b[0;32m/usr/local/miniconda3/lib/python3.8/site-packages/numpy/core/fromnumeric.py\u001b[0m in \u001b[0;36m_wrapfunc\u001b[0;34m(obj, method, *args, **kwds)\u001b[0m\n\u001b[1;32m     53\u001b[0m     \u001b[0mbound\u001b[0m \u001b[0;34m=\u001b[0m \u001b[0mgetattr\u001b[0m\u001b[0;34m(\u001b[0m\u001b[0mobj\u001b[0m\u001b[0;34m,\u001b[0m \u001b[0mmethod\u001b[0m\u001b[0;34m,\u001b[0m \u001b[0;32mNone\u001b[0m\u001b[0;34m)\u001b[0m\u001b[0;34m\u001b[0m\u001b[0;34m\u001b[0m\u001b[0m\n\u001b[1;32m     54\u001b[0m     \u001b[0;32mif\u001b[0m \u001b[0mbound\u001b[0m \u001b[0;32mis\u001b[0m \u001b[0;32mNone\u001b[0m\u001b[0;34m:\u001b[0m\u001b[0;34m\u001b[0m\u001b[0;34m\u001b[0m\u001b[0m\n\u001b[0;32m---> 55\u001b[0;31m         \u001b[0;32mreturn\u001b[0m \u001b[0m_wrapit\u001b[0m\u001b[0;34m(\u001b[0m\u001b[0mobj\u001b[0m\u001b[0;34m,\u001b[0m \u001b[0mmethod\u001b[0m\u001b[0;34m,\u001b[0m \u001b[0;34m*\u001b[0m\u001b[0margs\u001b[0m\u001b[0;34m,\u001b[0m \u001b[0;34m**\u001b[0m\u001b[0mkwds\u001b[0m\u001b[0;34m)\u001b[0m\u001b[0;34m\u001b[0m\u001b[0;34m\u001b[0m\u001b[0m\n\u001b[0m\u001b[1;32m     56\u001b[0m \u001b[0;34m\u001b[0m\u001b[0m\n\u001b[1;32m     57\u001b[0m     \u001b[0;32mtry\u001b[0m\u001b[0;34m:\u001b[0m\u001b[0;34m\u001b[0m\u001b[0;34m\u001b[0m\u001b[0m\n",
      "\u001b[0;32m/usr/local/miniconda3/lib/python3.8/site-packages/numpy/core/fromnumeric.py\u001b[0m in \u001b[0;36m_wrapit\u001b[0;34m(obj, method, *args, **kwds)\u001b[0m\n\u001b[1;32m     42\u001b[0m     \u001b[0;32mexcept\u001b[0m \u001b[0mAttributeError\u001b[0m\u001b[0;34m:\u001b[0m\u001b[0;34m\u001b[0m\u001b[0;34m\u001b[0m\u001b[0m\n\u001b[1;32m     43\u001b[0m         \u001b[0mwrap\u001b[0m \u001b[0;34m=\u001b[0m \u001b[0;32mNone\u001b[0m\u001b[0;34m\u001b[0m\u001b[0;34m\u001b[0m\u001b[0m\n\u001b[0;32m---> 44\u001b[0;31m     \u001b[0mresult\u001b[0m \u001b[0;34m=\u001b[0m \u001b[0mgetattr\u001b[0m\u001b[0;34m(\u001b[0m\u001b[0masarray\u001b[0m\u001b[0;34m(\u001b[0m\u001b[0mobj\u001b[0m\u001b[0;34m)\u001b[0m\u001b[0;34m,\u001b[0m \u001b[0mmethod\u001b[0m\u001b[0;34m)\u001b[0m\u001b[0;34m(\u001b[0m\u001b[0;34m*\u001b[0m\u001b[0margs\u001b[0m\u001b[0;34m,\u001b[0m \u001b[0;34m**\u001b[0m\u001b[0mkwds\u001b[0m\u001b[0;34m)\u001b[0m\u001b[0;34m\u001b[0m\u001b[0;34m\u001b[0m\u001b[0m\n\u001b[0m\u001b[1;32m     45\u001b[0m     \u001b[0;32mif\u001b[0m \u001b[0mwrap\u001b[0m\u001b[0;34m:\u001b[0m\u001b[0;34m\u001b[0m\u001b[0;34m\u001b[0m\u001b[0m\n\u001b[1;32m     46\u001b[0m         \u001b[0;32mif\u001b[0m \u001b[0;32mnot\u001b[0m \u001b[0misinstance\u001b[0m\u001b[0;34m(\u001b[0m\u001b[0mresult\u001b[0m\u001b[0;34m,\u001b[0m \u001b[0mmu\u001b[0m\u001b[0;34m.\u001b[0m\u001b[0mndarray\u001b[0m\u001b[0;34m)\u001b[0m\u001b[0;34m:\u001b[0m\u001b[0;34m\u001b[0m\u001b[0;34m\u001b[0m\u001b[0m\n",
      "\u001b[0;31mValueError\u001b[0m: cannot reshape array of size 1 into shape (3,3)"
     ]
    }
   ],
   "source": [
    "structH3mod, energy_H3mod, paramH3mod = GHF_calculation(H3, \"STO-3G\", modification_type='UHF')"
   ]
  },
  {
   "cell_type": "markdown",
   "id": "gothic-astrology",
   "metadata": {},
   "source": [
    "### Compare coefficient matrices"
   ]
  },
  {
   "cell_type": "code",
   "execution_count": 68,
   "id": "stone-politics",
   "metadata": {
    "scrolled": false
   },
   "outputs": [
    {
     "output_type": "stream",
     "name": "stdout",
     "text": [
      "[[-4.59977538e-01  0.00000000e+00 -9.96838572e-01 -5.35322745e-01\n   0.00000000e+00  0.00000000e+00]\n [-4.59929659e-01  0.00000000e+00  9.96615883e-01 -5.35778319e-01\n   0.00000000e+00  0.00000000e+00]\n [-3.01690986e-01  0.00000000e+00  2.77730930e-04  1.18356216e+00\n   0.00000000e+00  0.00000000e+00]\n [ 0.00000000e+00  2.80671980e-01  0.00000000e+00  0.00000000e+00\n  -6.47473718e-01  9.96914209e-01]\n [ 0.00000000e+00  2.80770111e-01  0.00000000e+00  0.00000000e+00\n  -6.48006667e-01 -9.96540225e-01]\n [ 0.00000000e+00  6.38663729e-01 -0.00000000e+00  0.00000000e+00\n   1.04112703e+00 -2.46905416e-04]]\n                                                                                      \n======================================================================================\n                                                                                      \n"
     ]
    },
    {
     "output_type": "error",
     "ename": "NameError",
     "evalue": "name 'paramH3mod' is not defined",
     "traceback": [
      "\u001b[0;31m---------------------------------------------------------------------------\u001b[0m",
      "\u001b[0;31mNameError\u001b[0m                                 Traceback (most recent call last)",
      "\u001b[0;32m<ipython-input-68-552055750a62>\u001b[0m in \u001b[0;36m<module>\u001b[0;34m\u001b[0m\n\u001b[1;32m      3\u001b[0m \u001b[0mprint\u001b[0m\u001b[0;34m(\u001b[0m\u001b[0;34m\"======================================================================================\"\u001b[0m\u001b[0;34m)\u001b[0m\u001b[0;34m\u001b[0m\u001b[0;34m\u001b[0m\u001b[0m\n\u001b[1;32m      4\u001b[0m \u001b[0mprint\u001b[0m\u001b[0;34m(\u001b[0m\u001b[0;34m\"                                                                                      \"\u001b[0m\u001b[0;34m)\u001b[0m\u001b[0;34m\u001b[0m\u001b[0;34m\u001b[0m\u001b[0m\n\u001b[0;32m----> 5\u001b[0;31m \u001b[0mprint\u001b[0m\u001b[0;34m(\u001b[0m\u001b[0mparamH3mod\u001b[0m\u001b[0;34m.\u001b[0m\u001b[0mexpansion\u001b[0m\u001b[0;34m(\u001b[0m\u001b[0;34m)\u001b[0m\u001b[0;34m.\u001b[0m\u001b[0mmatrix\u001b[0m\u001b[0;34m(\u001b[0m\u001b[0;34m)\u001b[0m\u001b[0;34m)\u001b[0m\u001b[0;34m\u001b[0m\u001b[0;34m\u001b[0m\u001b[0m\n\u001b[0m",
      "\u001b[0;31mNameError\u001b[0m: name 'paramH3mod' is not defined"
     ]
    }
   ],
   "source": [
    "print(paramH3.expansion().matrix())\n",
    "print(\"                                                                                      \")\n",
    "print(\"======================================================================================\")\n",
    "print(\"                                                                                      \")\n",
    "print(paramH3mod.expansion().matrix())"
   ]
  },
  {
   "cell_type": "markdown",
   "id": "welsh-diagram",
   "metadata": {},
   "source": [
    "### Compare orbitale energies"
   ]
  },
  {
   "cell_type": "code",
   "execution_count": 75,
   "id": "noble-texture",
   "metadata": {},
   "outputs": [
    {
     "output_type": "stream",
     "name": "stdout",
     "text": [
      "[-0.70607023 -0.58135742 -0.11123423  0.40413598  0.44076304  0.60050836]\n                                                                                      \n======================================================================================\n                                                                                      \n[-0.70607023 -0.58135742 -0.11123423  0.40413598  0.44076304  0.60050836]\n"
     ]
    }
   ],
   "source": [
    "print(paramH3.orbitalEnergies())\n",
    "print(\"                                                                                      \")\n",
    "print(\"======================================================================================\")\n",
    "print(\"                                                                                      \")\n",
    "print(paramH3mod.orbitalEnergies())"
   ]
  },
  {
   "cell_type": "code",
   "execution_count": 76,
   "metadata": {},
   "outputs": [
    {
     "output_type": "stream",
     "name": "stdout",
     "text": [
      "[-0.7060702326886801, -0.5813574180920079, -0.11123423288355501]\n"
     ]
    }
   ],
   "source": [
    "print(paramH3.occupiedOrbitalEnergies())"
   ]
  },
  {
   "cell_type": "markdown",
   "id": "assigned-strategy",
   "metadata": {},
   "source": [
    "## H4 ring vs RHF modified H4 ring"
   ]
  },
  {
   "cell_type": "code",
   "execution_count": 77,
   "id": "elder-grant",
   "metadata": {},
   "outputs": [],
   "source": [
    "# A H4 ring, 1 angstrom apart.\n",
    "H4 = gqcpy.Molecule.HRingFromDistance(4, 1.889, 0)"
   ]
  },
  {
   "cell_type": "code",
   "execution_count": 78,
   "id": "competent-collapse",
   "metadata": {},
   "outputs": [
    {
     "output_type": "stream",
     "name": "stdout",
     "text": [
      "An iterative algorithm (with a maximum of 1000 iterations) consisting of the following steps:\nAn algorithmic step consisting of 4 algorithmic steps:\n\t1. Calculate the current GHF density matrix and place it in the environment.\n\t2. Calculate the current GHF Fock matrix (expressed in the scalar/AO basis) and place it in the environment.\n\t3. Solve the generalized eigenvalue problem for the most recent scalar/AO Fock matrix. Add the associated coefficient matrix and orbital energies to the environment.\n\t4. Calculate the current electronic GHF energy and place it in the environment.\n\nWith the following convergence criterion:\nA convergence criterion that checks if the norm of the difference of two iterates (the GHF density matrix in AO basis) is converged, with a tolerance of 1.00e-04.\n                                                                                      \n                                                                                      \n======================================================================================\nThe ground state energy of the calculation: -1.8611170050525159 (hartree)\n======================================================================================\n"
     ]
    }
   ],
   "source": [
    "structH4, energy_H4, paramH4 = GHF_calculation(H4, \"sto-3g\")"
   ]
  },
  {
   "cell_type": "code",
   "execution_count": null,
   "id": "macro-water",
   "metadata": {},
   "outputs": [],
   "source": [
    "structH4mod, energy_H4mod, paramH4mod = GHF_calculation(H4, \"sto-3g\", \"RHF\")"
   ]
  },
  {
   "cell_type": "code",
   "execution_count": null,
   "id": "plastic-tolerance",
   "metadata": {},
   "outputs": [],
   "source": [
    "print(paramH4.expansion().matrix())"
   ]
  },
  {
   "cell_type": "markdown",
   "id": "understanding-regular",
   "metadata": {},
   "source": [
    "### Check orbital energies"
   ]
  },
  {
   "cell_type": "code",
   "execution_count": null,
   "id": "honest-mainland",
   "metadata": {},
   "outputs": [],
   "source": [
    "print(paramH4.orbitalEnergies())\n",
    "print(\"                                                                                      \")\n",
    "print(\"======================================================================================\")\n",
    "print(\"                                                                                      \")\n",
    "#print(paramH4mod.orbitalEnergies())"
   ]
  },
  {
   "cell_type": "code",
   "execution_count": null,
   "id": "adult-meaning",
   "metadata": {},
   "outputs": [],
   "source": [
    "H5 = gqcpy.Molecule.HRingFromDistance(5, 1.889, 0)\n",
    "structH5, energy_H5, paramH5 = GHF_calculation(H5, \"sto-3g\")"
   ]
  },
  {
   "cell_type": "code",
   "execution_count": null,
   "id": "understood-context",
   "metadata": {},
   "outputs": [],
   "source": [
    "print(paramH5.expansion().matrix())"
   ]
  },
  {
   "cell_type": "markdown",
   "id": "affected-kelly",
   "metadata": {},
   "source": [
    "## H6 ring vs RHF modified H6 ring"
   ]
  },
  {
   "cell_type": "code",
   "execution_count": null,
   "id": "parliamentary-fountain",
   "metadata": {},
   "outputs": [],
   "source": [
    "# A H6 ring, 1 angstrom apart.\n",
    "H6 = gqcpy.Molecule.HRingFromDistance(6, 1.889, 0)"
   ]
  },
  {
   "cell_type": "code",
   "execution_count": null,
   "id": "optimum-taxation",
   "metadata": {},
   "outputs": [],
   "source": [
    "structH6, energy_H6, paramH6 = GHF_calculation(H6, \"sto-3g\")"
   ]
  },
  {
   "cell_type": "code",
   "execution_count": null,
   "id": "smooth-condition",
   "metadata": {},
   "outputs": [],
   "source": [
    "structH6mod, energy_H6mod, paramH6mod = GHF_calculation(H6, \"sto-3g\", \"RHF\")"
   ]
  },
  {
   "cell_type": "markdown",
   "id": "crucial-simple",
   "metadata": {},
   "source": [
    "### Compare coefficient matrices"
   ]
  },
  {
   "cell_type": "code",
   "execution_count": null,
   "id": "educated-smile",
   "metadata": {},
   "outputs": [],
   "source": [
    "print(paramH6.expansion().matrix())\n",
    "print(\"                                                                                      \")\n",
    "print(\"======================================================================================\")\n",
    "print(\"                                                                                      \")\n",
    "#print(paramH6mod.expansion().matrix())"
   ]
  },
  {
   "cell_type": "markdown",
   "id": "electric-passport",
   "metadata": {},
   "source": [
    "### Compare orbital energies"
   ]
  },
  {
   "cell_type": "code",
   "execution_count": null,
   "id": "presidential-senate",
   "metadata": {},
   "outputs": [],
   "source": [
    "print(paramH6.orbitalEnergies())\n",
    "print(\"                                                                                      \")\n",
    "print(\"======================================================================================\")\n",
    "print(\"                                                                                      \")\n",
    "print(paramH6mod.orbitalEnergies())"
   ]
  },
  {
   "cell_type": "code",
   "execution_count": null,
   "id": "empty-munich",
   "metadata": {},
   "outputs": [],
   "source": []
  }
 ],
 "metadata": {
  "kernelspec": {
   "name": "python385jvsc74a57bd0e4c6ce54e6d1ccff551279c9aafc06b78c48fd9e60d6b4e74c0583a74ec1d1f9",
   "display_name": "Python 3.8.5 64-bit ('base': conda)"
  },
  "language_info": {
   "codemirror_mode": {
    "name": "ipython",
    "version": 3
   },
   "file_extension": ".py",
   "mimetype": "text/x-python",
   "name": "python",
   "nbconvert_exporter": "python",
   "pygments_lexer": "ipython3",
   "version": "3.8.5"
  }
 },
 "nbformat": 4,
 "nbformat_minor": 5
}