{
 "cells": [
  {
   "cell_type": "markdown",
   "metadata": {},
   "source": [
    "# Calculating the Mulliken population"
   ]
  },
  {
   "cell_type": "markdown",
   "metadata": {},
   "source": [
    "In [Cedillo2012](https://link.springer.com/article/10.1007/s00214-012-1227-6), we find a Mulliken charge of 0.20 on the carbon atom in CO. In this notebook, we will reproduce this result."
   ]
  },
  {
   "cell_type": "code",
   "execution_count": 3,
   "metadata": {},
   "outputs": [],
   "source": [
    "# Force the local gqcpy to be imported\n",
    "import sys\n",
    "sys.path.insert(0, '../../build/gqcpy/')\n",
    "\n",
    "import gqcpy\n",
    "import numpy as np"
   ]
  },
  {
   "cell_type": "markdown",
   "metadata": {},
   "source": [
    "Let's start by creating the molecule, and quantizing the Hamiltonian in the associated restricted spin-orbital basis of the AOs."
   ]
  },
  {
   "source": [
    "## Restricted Mulliken populations"
   ],
   "cell_type": "markdown",
   "metadata": {}
  },
  {
   "cell_type": "code",
   "execution_count": 15,
   "metadata": {},
   "outputs": [],
   "source": [
    "molecule = gqcpy.Molecule.ReadXYZ(\"../../gqcp/tests/data/CO_mulliken.xyz\" , 0)  # '0': Create a neutral molecule.\n",
    "N = molecule.numberOfElectrons()\n",
    "\n",
    "spin_orbital_basis = gqcpy.RSpinOrbitalBasis_d(molecule, \"STO-3G\")\n",
    "S = spin_orbital_basis.quantizeOverlapOperator()\n",
    "\n",
    "hamiltonian = gqcpy.RSQHamiltonian.Molecular(spin_orbital_basis, molecule)"
   ]
  },
  {
   "cell_type": "markdown",
   "metadata": {},
   "source": [
    "Afterwards, we should solve the RHF SCF equations."
   ]
  },
  {
   "cell_type": "code",
   "execution_count": 7,
   "metadata": {},
   "outputs": [],
   "source": [
    "environment = gqcpy.RHFSCFEnvironment.WithCoreGuess(N, hamiltonian, S.parameters())\n",
    "solver = gqcpy.RHFSCFSolver.DIIS()\n",
    "objective = gqcpy.DiagonalRHFFockMatrixObjective(hamiltonian)  # This objective makes sure that the RHF parameters represent the canonical RHF MOs.\n",
    "\n",
    "rhf_parameters = gqcpy.RHF.optimize(objective, solver, environment).groundStateParameters()\n",
    "D = rhf_parameters.calculateScalarBasis1DM()  # The AO density matrix."
   ]
  },
  {
   "cell_type": "markdown",
   "metadata": {},
   "source": [
    "The Mulliken population is effectively the expectation value of the Mulliken operator and a density matrix, so we'll have to set up the Mulliken operator.\n",
    "\n",
    "Since we're interested in determining the Mulliken charge on the carbon atom, we'll prepare a Mulliken partitioning of the spin-orbital basis with basis functions centered on the carbon atom."
   ]
  },
  {
   "cell_type": "code",
   "execution_count": 8,
   "metadata": {},
   "outputs": [],
   "source": [
    "mulliken_partitioning = spin_orbital_basis.mullikenPartitioning(lambda shell: shell.nucleus().element() == \"C\")"
   ]
  },
  {
   "source": [
    "Let's also confirm that the supplied selector lambda function has selected the correct indices for the basis functions centered on the carbon atom."
   ],
   "cell_type": "markdown",
   "metadata": {}
  },
  {
   "cell_type": "code",
   "execution_count": 9,
   "metadata": {},
   "outputs": [
    {
     "output_type": "stream",
     "name": "stdout",
     "text": [
      "[0, 1, 2, 3, 4]\n"
     ]
    }
   ],
   "source": [
    "print(mulliken_partitioning.indices())"
   ]
  },
  {
   "source": [
    "Theoretically, the Mulliken operator is the Mulliken-partitioned number/overlap operator. Since GQCP supports partitioning of any one-electron operator, we can use the `.partitioned()` API."
   ],
   "cell_type": "markdown",
   "metadata": {}
  },
  {
   "source": [
    "mulliken_operator = S.partitioned(mulliken_partitioning)"
   ],
   "cell_type": "code",
   "metadata": {},
   "execution_count": 10,
   "outputs": []
  },
  {
   "source": [
    "What remains is to calculate the expectation value of the Mulliken-partitioned number operator, which yields the Mulliken population. The Mulliken charge can then be calculated straightforwardly."
   ],
   "cell_type": "markdown",
   "metadata": {}
  },
  {
   "source": [
    "C_population = mulliken_operator.calculateExpectationValue(D)[0]\n",
    "print(\"Mulliken population: \", C_population)"
   ],
   "cell_type": "code",
   "metadata": {},
   "execution_count": 11,
   "outputs": [
    {
     "output_type": "stream",
     "name": "stdout",
     "text": [
      "Mulliken population:  5.801066370434233\n"
     ]
    }
   ]
  },
  {
   "cell_type": "code",
   "execution_count": 12,
   "metadata": {},
   "outputs": [
    {
     "output_type": "stream",
     "name": "stdout",
     "text": [
      "Mulliken charge:  0.19893362956576688\n"
     ]
    }
   ],
   "source": [
    "C_charge = 6 - C_population\n",
    "print(\"Mulliken charge: \", C_charge)"
   ]
  },
  {
   "source": [
    "## Unrestricted Mulliken populations"
   ],
   "cell_type": "markdown",
   "metadata": {}
  },
  {
   "source": [
    "GQCP also offers the ability to calculate alpha- and beta- Mulliken populations. Since the previous example would be trivial, let's use CO+ instead of CO."
   ],
   "cell_type": "markdown",
   "metadata": {}
  },
  {
   "cell_type": "code",
   "execution_count": 27,
   "metadata": {},
   "outputs": [],
   "source": [
    "molecule = gqcpy.Molecule.ReadXYZ(\"../../gqcp/tests/data/CO_mulliken.xyz\" , +1)  # '+1': Create CO+.\n",
    "N_alpha = molecule.numberOfElectronPairs() + 1\n",
    "N_beta = molecule.numberOfElectronPairs()\n",
    "\n",
    "u_spin_orbital_basis = gqcpy.USpinOrbitalBasis_d(molecule, \"STO-3G\")\n",
    "S_unrestricted = u_spin_orbital_basis.quantizeOverlapOperator()\n",
    "\n",
    "hamiltonian = gqcpy.RSQHamiltonian.Molecular(spin_orbital_basis, molecule)  # We perform UHF calculations with the Hamiltonian in the basis of the restricted atomic spin-orbitals. "
   ]
  },
  {
   "source": [
    "We solve the UHF SCF equations."
   ],
   "cell_type": "markdown",
   "metadata": {}
  },
  {
   "cell_type": "code",
   "execution_count": 30,
   "metadata": {},
   "outputs": [],
   "source": [
    "environment = gqcpy.UHFSCFEnvironment.WithCoreGuess(N_alpha, N_beta, hamiltonian, S.parameters())\n",
    "solver = gqcpy.UHFSCFSolver.DIIS()\n",
    "\n",
    "uhf_parameters = gqcpy.UHF.optimize(solver, environment).groundStateParameters()\n",
    "D_unrestricted = uhf_parameters.calculateScalarBasis1DM()  # The AO density matrix."
   ]
  },
  {
   "source": [
    "We now analogously proceed by setting up the Mulliken partitioning scheme, and finally partition the number/overlap operator according to the obtained partitioning scheme."
   ],
   "cell_type": "markdown",
   "metadata": {}
  },
  {
   "cell_type": "code",
   "execution_count": 31,
   "metadata": {},
   "outputs": [],
   "source": [
    "u_mulliken_partitioning = u_spin_orbital_basis.mullikenPartitioning(lambda shell: shell.nucleus().element() == \"C\")\n",
    "u_mulliken_operator = S_unrestricted.partitioned(u_mulliken_partitioning)"
   ]
  },
  {
   "source": [],
   "cell_type": "markdown",
   "metadata": {}
  },
  {
   "source": [
    "Let's first check the total Mulliken population and charge."
   ],
   "cell_type": "markdown",
   "metadata": {}
  },
  {
   "cell_type": "code",
   "execution_count": 36,
   "metadata": {},
   "outputs": [
    {
     "output_type": "stream",
     "name": "stdout",
     "text": [
      "Mulliken population:  5.202288511329851\nMulliken charge:  0.7977114886701493\n"
     ]
    }
   ],
   "source": [
    "C_population_total = u_mulliken_operator.calculateExpectationValue(D_unrestricted)[0]\n",
    "print(\"Mulliken population: \", C_population_total)\n",
    "print(\"Mulliken charge: \", 6 - C_population_total)"
   ]
  },
  {
   "source": [
    "Finally, let's find out the Mulliken populations for the alpha and beta electrons, separately"
   ],
   "cell_type": "markdown",
   "metadata": {}
  },
  {
   "cell_type": "code",
   "execution_count": 38,
   "metadata": {},
   "outputs": [
    {
     "output_type": "stream",
     "name": "stdout",
     "text": [
      "Mulliken population alpha:  3.58996514195159\nMulliken population beta:  1.6123233693782613\n"
     ]
    }
   ],
   "source": [
    "C_population_alpha = u_mulliken_operator.alpha().calculateExpectationValue(D_unrestricted.alpha())[0]\n",
    "C_population_beta = u_mulliken_operator.beta().calculateExpectationValue(D_unrestricted.beta())[0]\n",
    "\n",
    "print(\"Mulliken population alpha: \", C_population_alpha)\n",
    "print(\"Mulliken population beta: \", C_population_beta)\n"
   ]
  }
 ],
 "metadata": {
  "kernelspec": {
   "display_name": "Python 3",
   "language": "python",
   "name": "python3"
  },
  "language_info": {
   "codemirror_mode": {
    "name": "ipython",
    "version": 3
   },
   "file_extension": ".py",
   "mimetype": "text/x-python",
   "name": "python",
   "nbconvert_exporter": "python",
   "pygments_lexer": "ipython3",
   "version": "3.7.7-final"
  }
 },
 "nbformat": 4,
 "nbformat_minor": 2
}
