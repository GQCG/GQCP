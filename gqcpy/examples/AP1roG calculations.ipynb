{
 "cells": [
  {
   "cell_type": "markdown",
   "metadata": {},
   "source": [
    "# AP1roG calculations"
   ]
  },
  {
   "cell_type": "code",
   "execution_count": 1,
   "metadata": {},
   "outputs": [],
   "source": [
    "# Force the local gqcpy to be imported\n",
    "import sys\n",
    "sys.path.insert(0, '../../build/gqcpy/')\n",
    "\n",
    "import gqcpy\n",
    "import numpy as np\n",
    "\n",
    "np.set_printoptions(precision=3, linewidth=120)"
   ]
  },
  {
   "cell_type": "markdown",
   "metadata": {},
   "source": [
    "## Setting up the molecular Hamiltonian in the canonical RHF spinor basis"
   ]
  },
  {
   "cell_type": "code",
   "execution_count": 2,
   "metadata": {},
   "outputs": [],
   "source": [
    "molecule = gqcpy.Molecule.ReadXYZ(\"../../gqcp/tests/data/ch4_crawdad.xyz\", 0)  # create a neutral molecule\n",
    "N = molecule.numberOfElectrons()\n",
    "N_P = N // 2"
   ]
  },
  {
   "cell_type": "code",
   "execution_count": 3,
   "metadata": {},
   "outputs": [],
   "source": [
    "spinor_basis = gqcpy.RSpinOrbitalBasis(molecule, \"STO-3G\")\n",
    "K = spinor_basis.numberOfSpatialOrbitals()\n",
    "\n",
    "S = spinor_basis.quantizeOverlapOperator().parameters()"
   ]
  },
  {
   "cell_type": "code",
   "execution_count": 4,
   "metadata": {},
   "outputs": [],
   "source": [
    "sq_hamiltonian = gqcpy.SQHamiltonian.Molecular(spinor_basis, molecule)  # 'sq' for 'second-quantized'"
   ]
  },
  {
   "cell_type": "markdown",
   "metadata": {},
   "source": [
    "The current Hamiltionian is expressed in the non-orthogonal AO basis. This is exactly what we need to start an RHF calculation."
   ]
  },
  {
   "cell_type": "code",
   "execution_count": 5,
   "metadata": {},
   "outputs": [],
   "source": [
    "environment = gqcpy.RHFSCFEnvironment.WithCoreGuess(N, sq_hamiltonian, S)\n",
    "solver = gqcpy.RHFSCFSolver.DIIS()\n",
    "\n",
    "objective = gqcpy.DiagonalRHFFockMatrixObjective(sq_hamiltonian)  # use the default threshold of 1.0e-08"
   ]
  },
  {
   "cell_type": "markdown",
   "metadata": {},
   "source": [
    "Using this objective makes sure that the optimized expansion coefficients yield a diagonal Fock matrix, so they will represent the canonical RHF spinor basis."
   ]
  },
  {
   "cell_type": "code",
   "execution_count": 6,
   "metadata": {},
   "outputs": [],
   "source": [
    "rhf_parameters = gqcpy.RHF.optimize(objective, solver, environment).groundStateParameters()\n",
    "C = rhf_parameters.coefficientMatrix()"
   ]
  },
  {
   "cell_type": "markdown",
   "metadata": {},
   "source": [
    "Since we have the canonical RHF spinor expansion coefficients now, we can transform the underlying spinor basis and then re-quantize the molecular Hamiltonian, in order to let both instances be in-sync with their basis transformations.\n",
    "\n",
    "However, gqcpy offers a different approach, transforming the spinor basis and Hamiltonian in one call."
   ]
  },
  {
   "cell_type": "code",
   "execution_count": 7,
   "metadata": {},
   "outputs": [],
   "source": [
    "gqcpy.basisTransform(spinor_basis, sq_hamiltonian, C)"
   ]
  },
  {
   "cell_type": "markdown",
   "metadata": {},
   "source": [
    "Right now, the spinor basis and Hamiltonian are expressed in the canonical RHF spinors."
   ]
  },
  {
   "cell_type": "markdown",
   "metadata": {},
   "source": [
    "## AP1roG calculations"
   ]
  },
  {
   "cell_type": "markdown",
   "metadata": {},
   "source": [
    "AP1roG has also been formulated as a QCModel/QCMethod. Therefore, we should create a solver (which is able to solve the AP1roG PSEs), an associated environment and an objective."
   ]
  },
  {
   "cell_type": "markdown",
   "metadata": {},
   "source": [
    "For AP1roG, the solver is a non-linear equation solver."
   ]
  },
  {
   "cell_type": "code",
   "execution_count": 8,
   "metadata": {},
   "outputs": [],
   "source": [
    "environment = gqcpy.PSEnvironment.AP1roG(sq_hamiltonian, N_P)\n",
    "solver = gqcpy.NonLinearEquationSolver.Newton()"
   ]
  },
  {
   "cell_type": "code",
   "execution_count": 9,
   "metadata": {},
   "outputs": [],
   "source": [
    "qc_structure = gqcpy.AP1roG(sq_hamiltonian, N_P).optimize(solver, environment)"
   ]
  },
  {
   "cell_type": "code",
   "execution_count": 10,
   "metadata": {},
   "outputs": [
    {
     "output_type": "stream",
     "name": "stdout",
     "text": "-53.249920240098675\n"
    }
   ],
   "source": [
    "print(qc_structure.groundStateEnergy())"
   ]
  },
  {
   "cell_type": "code",
   "execution_count": 11,
   "metadata": {},
   "outputs": [
    {
     "output_type": "stream",
     "name": "stdout",
     "text": "[[ 1.000e+00  0.000e+00  0.000e+00  0.000e+00  0.000e+00 -7.790e-04 -7.792e-04 -7.788e-04 -1.948e-03]\n [ 0.000e+00  1.000e+00  0.000e+00  0.000e+00  0.000e+00 -1.415e-02 -1.420e-02 -1.413e-02 -2.450e-02]\n [ 0.000e+00  0.000e+00  1.000e+00  0.000e+00  0.000e+00 -4.887e-02 -2.696e-02 -1.432e-02 -1.867e-02]\n [ 0.000e+00  0.000e+00  0.000e+00  1.000e+00  0.000e+00 -1.288e-02 -2.266e-02 -5.524e-02 -1.863e-02]\n [ 0.000e+00  0.000e+00  0.000e+00  0.000e+00  1.000e+00 -2.859e-02 -3.993e-02 -2.111e-02 -1.872e-02]]\n"
    }
   ],
   "source": [
    "print(qc_structure.groundStateParameters().geminalCoefficients().asMatrix())"
   ]
  },
  {
   "cell_type": "markdown",
   "metadata": {},
   "source": [
    "## vAP1roG calculations"
   ]
  },
  {
   "cell_type": "markdown",
   "metadata": {},
   "source": [
    "We have also extended the AP1roG method to be variationally optimized, resulting in the vAP1roG method. In short, what this method does is analogous to AP1roG, but after determining the optimal geminal coefficients, a set of optimal Lagrange multipliers is also searched for.\n",
    "\n",
    "Since these Lagrange multipliers are determined through solving a linear equation, we will have to supply a linear equations solver to the vAP1roG method."
   ]
  },
  {
   "cell_type": "code",
   "execution_count": 12,
   "metadata": {},
   "outputs": [],
   "source": [
    "non_linear_environment = gqcpy.PSEnvironment.AP1roG(sq_hamiltonian, N_P)\n",
    "non_linear_solver = gqcpy.NonLinearEquationSolver.Newton()\n",
    "\n",
    "linear_solver = gqcpy.LinearEquationSolver.ColPivHouseholderQR()"
   ]
  },
  {
   "cell_type": "code",
   "execution_count": 13,
   "metadata": {},
   "outputs": [],
   "source": [
    "qc_structure = gqcpy.vAP1roG(sq_hamiltonian, N_P).optimize(non_linear_solver, non_linear_environment, linear_solver)"
   ]
  },
  {
   "cell_type": "code",
   "execution_count": 14,
   "metadata": {},
   "outputs": [
    {
     "output_type": "stream",
     "name": "stdout",
     "text": "-53.249920240098675\n"
    }
   ],
   "source": [
    "print(qc_structure.groundStateEnergy())"
   ]
  },
  {
   "cell_type": "code",
   "execution_count": 15,
   "metadata": {},
   "outputs": [
    {
     "output_type": "stream",
     "name": "stdout",
     "text": "[[ 1.000e+00  0.000e+00  0.000e+00  0.000e+00  0.000e+00 -7.790e-04 -7.792e-04 -7.788e-04 -1.948e-03]\n [ 0.000e+00  1.000e+00  0.000e+00  0.000e+00  0.000e+00 -1.415e-02 -1.420e-02 -1.413e-02 -2.450e-02]\n [ 0.000e+00  0.000e+00  1.000e+00  0.000e+00  0.000e+00 -4.887e-02 -2.696e-02 -1.432e-02 -1.867e-02]\n [ 0.000e+00  0.000e+00  0.000e+00  1.000e+00  0.000e+00 -1.288e-02 -2.266e-02 -5.524e-02 -1.863e-02]\n [ 0.000e+00  0.000e+00  0.000e+00  0.000e+00  1.000e+00 -2.859e-02 -3.993e-02 -2.111e-02 -1.872e-02]]\n"
    }
   ],
   "source": [
    "print(qc_structure.groundStateParameters().geminalCoefficients().asMatrix())"
   ]
  },
  {
   "cell_type": "code",
   "execution_count": 16,
   "metadata": {},
   "outputs": [
    {
     "output_type": "stream",
     "name": "stdout",
     "text": "[[-0.001 -0.001 -0.001 -0.002]\n [-0.014 -0.014 -0.014 -0.025]\n [-0.049 -0.027 -0.014 -0.019]\n [-0.013 -0.023 -0.055 -0.019]\n [-0.029 -0.04  -0.021 -0.019]]\n"
    }
   ],
   "source": [
    "print(qc_structure.groundStateParameters().lagrangeMultipliers())"
   ]
  },
  {
   "cell_type": "markdown",
   "metadata": {},
   "source": [
    "## Orbital optimization for vAP1roG"
   ]
  },
  {
   "cell_type": "markdown",
   "metadata": {},
   "source": [
    "We've also implemented an second-order orbital optimizer that uses a Newton step in every iteration. (The API isn't quite up-to-par yet.)"
   ]
  },
  {
   "cell_type": "markdown",
   "metadata": {},
   "source": [
    "The orbital optimize requires an initial guess."
   ]
  },
  {
   "cell_type": "code",
   "execution_count": 17,
   "metadata": {},
   "outputs": [],
   "source": [
    "G_initial = qc_structure.groundStateParameters().geminalCoefficients()\n",
    "\n",
    "optimizer = gqcpy.AP1roGLagrangianNewtonOrbitalOptimizer(G_initial, oo_convergence_threshold=1.0e-04)\n",
    "optimizer.optimize(spinor_basis, sq_hamiltonian)"
   ]
  },
  {
   "cell_type": "markdown",
   "metadata": {},
   "source": [
    "We can see that the electronic energy has lowered due to the orbital optimization."
   ]
  },
  {
   "cell_type": "code",
   "execution_count": 18,
   "metadata": {},
   "outputs": [
    {
     "output_type": "stream",
     "name": "stdout",
     "text": "-53.285570717469284\n"
    }
   ],
   "source": [
    "print(optimizer.get_electronic_energy())"
   ]
  },
  {
   "cell_type": "markdown",
   "metadata": {},
   "source": [
    "The converged geminal coefficients and multipliers can be found, too."
   ]
  },
  {
   "cell_type": "code",
   "execution_count": 19,
   "metadata": {},
   "outputs": [
    {
     "output_type": "stream",
     "name": "stdout",
     "text": "[[ 1.     0.     0.     0.     0.    -0.001 -0.001 -0.001 -0.001]\n [ 0.     1.     0.     0.     0.    -0.007 -0.007 -0.007 -0.091]\n [ 0.     0.     1.     0.     0.    -0.091 -0.007 -0.007 -0.007]\n [ 0.     0.     0.     1.     0.    -0.007 -0.007 -0.091 -0.007]\n [ 0.     0.     0.     0.     1.    -0.007 -0.091 -0.007 -0.007]]\n"
    }
   ],
   "source": [
    "print(optimizer.get_geminal_coefficients().asMatrix())"
   ]
  },
  {
   "cell_type": "code",
   "execution_count": 20,
   "metadata": {},
   "outputs": [
    {
     "output_type": "stream",
     "name": "stdout",
     "text": "[[-0.001 -0.001 -0.001 -0.001]\n [-0.007 -0.007 -0.007 -0.091]\n [-0.091 -0.007 -0.007 -0.007]\n [-0.007 -0.007 -0.091 -0.007]\n [-0.007 -0.091 -0.007 -0.007]]\n"
    }
   ],
   "source": [
    "print(optimizer.get_multipliers())"
   ]
  }
 ],
 "metadata": {
  "kernelspec": {
   "display_name": "Python 3",
   "language": "python",
   "name": "python3"
  },
  "language_info": {
   "codemirror_mode": {
    "name": "ipython",
    "version": 3
   },
   "file_extension": ".py",
   "mimetype": "text/x-python",
   "name": "python",
   "nbconvert_exporter": "python",
   "pygments_lexer": "ipython3",
   "version": "3.7.7"
  }
 },
 "nbformat": 4,
 "nbformat_minor": 2
}