{
 "cells": [
  {
   "cell_type": "markdown",
   "metadata": {},
   "source": [
    "# Spinor bases"
   ]
  },
  {
   "cell_type": "code",
   "execution_count": 1,
   "metadata": {},
   "outputs": [],
   "source": [
    "# Force the local gqcpy to be imported\n",
    "import sys\n",
    "sys.path.insert(0, '../../build/gqcpy/')\n",
    "\n",
    "import gqcpy\n",
    "import numpy as np\n",
    "np.set_printoptions(precision=3)"
   ]
  },
  {
   "cell_type": "markdown",
   "metadata": {},
   "source": [
    "GQCP offers the capability to its users to work with different kinds of spinor bases. Let's explore the API of the spinor bases with a small example."
   ]
  },
  {
   "cell_type": "code",
   "execution_count": 2,
   "metadata": {},
   "outputs": [],
   "source": [
    "molecule = gqcpy.Molecule.ReadXYZ(\"../../gqcp/tests/data/h2_szabo.xyz\" , 0)  # create a neutral molecule"
   ]
  },
  {
   "cell_type": "markdown",
   "metadata": {},
   "source": [
    "## Restricted spinor bases"
   ]
  },
  {
   "cell_type": "markdown",
   "metadata": {},
   "source": [
    "The one everyone is familiar with is a spinor basis whose alpha- and beta- expansion coefficients are equal. We call this spinor basis a restricted spinor basis `RSpinOrbitalBasis`."
   ]
  },
  {
   "cell_type": "code",
   "execution_count": 3,
   "metadata": {},
   "outputs": [],
   "source": [
    "r_spinor_basis = gqcpy.RSpinOrbitalBasis(molecule=molecule, basisset_name=\"STO-3G\")"
   ]
  },
  {
   "cell_type": "markdown",
   "metadata": {},
   "source": [
    "Constructing a spinor basis from a molecule and a basisset specification yields a non-orthogonal spinor basis, where the underlying scalar bases have been constructed by placing GTO shells on every atom of the molecule."
   ]
  },
  {
   "cell_type": "code",
   "execution_count": 4,
   "metadata": {},
   "outputs": [
    {
     "output_type": "stream",
     "name": "stdout",
     "text": "[[1.    0.659]\n [0.659 1.   ]]\n"
    }
   ],
   "source": [
    "S_r = r_spinor_basis.quantizeOverlapOperator().parameters()\n",
    "print(S_r)"
   ]
  },
  {
   "cell_type": "markdown",
   "metadata": {},
   "source": [
    "Since this initial basis is non-orthogonal, we should first try to orthonormalize it."
   ]
  },
  {
   "cell_type": "code",
   "execution_count": 5,
   "metadata": {},
   "outputs": [
    {
     "output_type": "stream",
     "name": "stdout",
     "text": "[[1.00e+00 1.11e-16]\n [1.11e-16 1.00e+00]]\n"
    }
   ],
   "source": [
    "r_spinor_basis.lowdinOrthonormalize()\n",
    "\n",
    "S_r = r_spinor_basis.quantizeOverlapOperator().parameters()\n",
    "print(S_r)"
   ]
  },
  {
   "cell_type": "code",
   "execution_count": 6,
   "metadata": {},
   "outputs": [],
   "source": [
    "T = np.random.rand(2, 2)"
   ]
  },
  {
   "cell_type": "code",
   "execution_count": 7,
   "metadata": {},
   "outputs": [
    {
     "output_type": "stream",
     "name": "stdout",
     "text": "[[[[ 0.856 -0.006]\n   [-0.006  0.494]]\n\n  [[-0.006  0.011]\n   [ 0.011 -0.006]]]\n\n\n [[[-0.006  0.011]\n   [ 0.011 -0.006]]\n\n  [[ 0.494 -0.006]\n   [-0.006  0.856]]]]\n[[[[0.003 0.008]\n   [0.008 0.042]]\n\n  [[0.008 0.028]\n   [0.028 0.156]]]\n\n\n [[[0.008 0.028]\n   [0.028 0.156]]\n\n  [[0.042 0.156]\n   [0.156 0.932]]]]\n"
    }
   ],
   "source": [
    "g = r_spinor_basis.quantizeCoulombRepulsionOperator()\n",
    "print(g.parameters())\n",
    "g.transform(T)\n",
    "print(g.parameters())"
   ]
  },
  {
   "cell_type": "code",
   "execution_count": 8,
   "metadata": {},
   "outputs": [
    {
     "output_type": "stream",
     "name": "stdout",
     "text": "[[[[ 0.856 -0.006]\n   [-0.006  0.494]]\n\n  [[-0.006  0.011]\n   [ 0.011 -0.006]]]\n\n\n [[[-0.006  0.011]\n   [ 0.011 -0.006]]\n\n  [[ 0.494 -0.006]\n   [-0.006  0.856]]]]\n"
    }
   ],
   "source": [
    "g_r = r_spinor_basis.quantizeCoulombRepulsionOperator().parameters()\n",
    "print(g_r)"
   ]
  },
  {
   "cell_type": "markdown",
   "metadata": {},
   "source": [
    "## General spinor bases"
   ]
  },
  {
   "cell_type": "markdown",
   "metadata": {},
   "source": [
    "General(ized) spinor bases have no restrictions on the expansion coefficients for the alpha- and beta spinors."
   ]
  },
  {
   "cell_type": "markdown",
   "metadata": {},
   "source": [
    "We can create them from a basisset specification in the same way as restricted spinor bases."
   ]
  },
  {
   "cell_type": "code",
   "execution_count": 9,
   "metadata": {},
   "outputs": [],
   "source": [
    "g_spinor_basis = gqcpy.GSpinorBasis(molecule, \"STO-3G\")"
   ]
  },
  {
   "cell_type": "markdown",
   "metadata": {},
   "source": [
    "Similarly as in the restricted case, the spinor basis that is initialized here, is non-orthogonal."
   ]
  },
  {
   "cell_type": "code",
   "execution_count": 10,
   "metadata": {},
   "outputs": [
    {
     "output_type": "stream",
     "name": "stdout",
     "text": "[[1.    0.659 0.    0.   ]\n [0.659 1.    0.    0.   ]\n [0.    0.    1.    0.659]\n [0.    0.    0.659 1.   ]]\n"
    }
   ],
   "source": [
    "S_g = g_spinor_basis.quantizeOverlapOperator().parameters()\n",
    "print(S_g)"
   ]
  },
  {
   "cell_type": "markdown",
   "metadata": {},
   "source": [
    "We may, however, proceed by orthonormalizing it using a Löwdin orthonormalization step."
   ]
  },
  {
   "cell_type": "code",
   "execution_count": 11,
   "metadata": {},
   "outputs": [
    {
     "output_type": "stream",
     "name": "stdout",
     "text": "[[1.000e+00 8.384e-17 0.000e+00 0.000e+00]\n [1.145e-16 1.000e+00 0.000e+00 0.000e+00]\n [0.000e+00 0.000e+00 1.000e+00 8.384e-17]\n [0.000e+00 0.000e+00 1.145e-16 1.000e+00]]\n"
    }
   ],
   "source": [
    "g_spinor_basis.lowdinOrthonormalize()\n",
    "\n",
    "S_g = g_spinor_basis.quantizeOverlapOperator().parameters()\n",
    "print(S_g)"
   ]
  },
  {
   "cell_type": "code",
   "execution_count": 14,
   "metadata": {},
   "outputs": [
    {
     "output_type": "stream",
     "name": "stdout",
     "text": "[[[[ 0.856 -0.006  0.     0.   ]\n   [-0.006  0.494  0.     0.   ]\n   [ 0.     0.     0.856 -0.006]\n   [ 0.     0.    -0.006  0.494]]\n\n  [[-0.006  0.011  0.     0.   ]\n   [ 0.011 -0.006  0.     0.   ]\n   [ 0.     0.    -0.006  0.011]\n   [ 0.     0.     0.011 -0.006]]\n\n  [[ 0.     0.     0.     0.   ]\n   [ 0.     0.     0.     0.   ]\n   [ 0.     0.     0.     0.   ]\n   [ 0.     0.     0.     0.   ]]\n\n  [[ 0.     0.     0.     0.   ]\n   [ 0.     0.     0.     0.   ]\n   [ 0.     0.     0.     0.   ]\n   [ 0.     0.     0.     0.   ]]]\n\n\n [[[-0.006  0.011  0.     0.   ]\n   [ 0.011 -0.006  0.     0.   ]\n   [ 0.     0.    -0.006  0.011]\n   [ 0.     0.     0.011 -0.006]]\n\n  [[ 0.494 -0.006  0.     0.   ]\n   [-0.006  0.856  0.     0.   ]\n   [ 0.     0.     0.494 -0.006]\n   [ 0.     0.    -0.006  0.856]]\n\n  [[ 0.     0.     0.     0.   ]\n   [ 0.     0.     0.     0.   ]\n   [ 0.     0.     0.     0.   ]\n   [ 0.     0.     0.     0.   ]]\n\n  [[ 0.     0.     0.     0.   ]\n   [ 0.     0.     0.     0.   ]\n   [ 0.     0.     0.     0.   ]\n   [ 0.     0.     0.     0.   ]]]\n\n\n [[[ 0.     0.     0.     0.   ]\n   [ 0.     0.     0.     0.   ]\n   [ 0.     0.     0.     0.   ]\n   [ 0.     0.     0.     0.   ]]\n\n  [[ 0.     0.     0.     0.   ]\n   [ 0.     0.     0.     0.   ]\n   [ 0.     0.     0.     0.   ]\n   [ 0.     0.     0.     0.   ]]\n\n  [[ 0.856 -0.006  0.     0.   ]\n   [-0.006  0.494  0.     0.   ]\n   [ 0.     0.     0.856 -0.006]\n   [ 0.     0.    -0.006  0.494]]\n\n  [[-0.006  0.011  0.     0.   ]\n   [ 0.011 -0.006  0.     0.   ]\n   [ 0.     0.    -0.006  0.011]\n   [ 0.     0.     0.011 -0.006]]]\n\n\n [[[ 0.     0.     0.     0.   ]\n   [ 0.     0.     0.     0.   ]\n   [ 0.     0.     0.     0.   ]\n   [ 0.     0.     0.     0.   ]]\n\n  [[ 0.     0.     0.     0.   ]\n   [ 0.     0.     0.     0.   ]\n   [ 0.     0.     0.     0.   ]\n   [ 0.     0.     0.     0.   ]]\n\n  [[-0.006  0.011  0.     0.   ]\n   [ 0.011 -0.006  0.     0.   ]\n   [ 0.     0.    -0.006  0.011]\n   [ 0.     0.     0.011 -0.006]]\n\n  [[ 0.494 -0.006  0.     0.   ]\n   [-0.006  0.856  0.     0.   ]\n   [ 0.     0.     0.494 -0.006]\n   [ 0.     0.    -0.006  0.856]]]]\n"
    }
   ],
   "source": [
    "g_g = g_spinor_basis.quantizeCoulombRepulsionOperator().parameters()\n",
    "print(g_g)"
   ]
  }
 ],
 "metadata": {
  "kernelspec": {
   "display_name": "Python 3",
   "language": "python",
   "name": "python3"
  },
  "language_info": {
   "codemirror_mode": {
    "name": "ipython",
    "version": 3
   },
   "file_extension": ".py",
   "mimetype": "text/x-python",
   "name": "python",
   "nbconvert_exporter": "python",
   "pygments_lexer": "ipython3",
   "version": "3.7.4"
  }
 },
 "nbformat": 4,
 "nbformat_minor": 2
}