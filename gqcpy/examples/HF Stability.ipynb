{
 "cells": [
  {
   "cell_type": "markdown",
   "metadata": {},
   "source": [
    "# Checking the Hartree-Fock Stability conditions"
   ]
  },
  {
   "cell_type": "markdown",
   "metadata": {},
   "source": [
    "First, we import GQCPy."
   ]
  },
  {
   "cell_type": "code",
   "execution_count": 1,
   "metadata": {},
   "outputs": [],
   "source": [
    "import sys\n",
    "sys.path.insert(0, '../../build/gqcpy/')\n",
    "\n",
    "import gqcpy\n",
    "import numpy as np"
   ]
  },
  {
   "cell_type": "markdown",
   "metadata": {},
   "source": [
    "## The RHF stability conditions"
   ]
  },
  {
   "cell_type": "markdown",
   "metadata": {},
   "source": [
    "We will run an RHF calculation on $H_4$."
   ]
  },
  {
   "cell_type": "code",
   "execution_count": 2,
   "metadata": {},
   "outputs": [],
   "source": [
    "def RHF_calculation(molecule, basis_set='STO-3G'):\n",
    "    N = molecule.numberOfElectrons()\n",
    "    basis = gqcpy.RSpinOrbitalBasis_d(molecule, basis_set)\n",
    "    S = basis.quantizeOverlapOperator().parameters()\n",
    "    \n",
    "    rsq_hamiltonian = gqcpy.RSQHamiltonian.Molecular(basis, molecule)\n",
    "    objective = gqcpy.DiagonalRHFFockMatrixObjective(rsq_hamiltonian, 1.0e-5)  \n",
    "    \n",
    "    environment = gqcpy.RHFSCFEnvironment.WithCoreGuess(N, rsq_hamiltonian, S) \n",
    "    solver = gqcpy.RHFSCFSolver.Plain(1.0e-06, 1000)\n",
    "\n",
    "    qc_structure = gqcpy.RHF.optimize(objective, solver, environment)\n",
    "    \n",
    "    return qc_structure"
   ]
  },
  {
   "cell_type": "code",
   "execution_count": 3,
   "metadata": {},
   "outputs": [],
   "source": [
    "H4 = gqcpy.Molecule.HRingFromDistance(4, 1.0, 0)"
   ]
  },
  {
   "cell_type": "code",
   "execution_count": 4,
   "metadata": {},
   "outputs": [],
   "source": [
    "RHF_model = RHF_calculation(H4).parameters()"
   ]
  },
  {
   "cell_type": "markdown",
   "metadata": {},
   "source": [
    "These parameters contain everything there is to know about the RHF wave function model. We can now ask this model to calculate the stability matrices. For that we need a Hamiltonian in the RHF MO basis."
   ]
  },
  {
   "cell_type": "code",
   "execution_count": 5,
   "metadata": {},
   "outputs": [],
   "source": [
    "restricted_basis = gqcpy.RSpinOrbitalBasis_d(H4, 'STO-3G')\n",
    "restricted_hamiltonian = gqcpy.RSQHamiltonian.Molecular(restricted_basis, H4)\n",
    "rsq_hamiltonian_mo = restricted_hamiltonian.transformed(RHF_model.expansion())\n",
    "restricted_stability_matrices = RHF_model.calculateStabilityMatrices(rsq_hamiltonian_mo)"
   ]
  },
  {
   "cell_type": "markdown",
   "metadata": {},
   "source": [
    "Now we can check the stabilities. All the stability checks are done by the stability matrices themselves."
   ]
  },
  {
   "cell_type": "code",
   "execution_count": 6,
   "metadata": {},
   "outputs": [
    {
     "data": {
      "text/plain": [
       "True"
      ]
     },
     "execution_count": 6,
     "metadata": {},
     "output_type": "execute_result"
    }
   ],
   "source": [
    "restricted_stability_matrices.isInternallyStable()"
   ]
  },
  {
   "cell_type": "code",
   "execution_count": 7,
   "metadata": {},
   "outputs": [
    {
     "data": {
      "text/plain": [
       "False"
      ]
     },
     "execution_count": 7,
     "metadata": {},
     "output_type": "execute_result"
    }
   ],
   "source": [
    "restricted_stability_matrices.isExternallyStable()"
   ]
  },
  {
   "cell_type": "markdown",
   "metadata": {},
   "source": [
    "Since the wave function model is not externally stable, we can verify which external instability it contains."
   ]
  },
  {
   "cell_type": "code",
   "execution_count": 8,
   "metadata": {},
   "outputs": [
    {
     "data": {
      "text/plain": [
       "False"
      ]
     },
     "execution_count": 8,
     "metadata": {},
     "output_type": "execute_result"
    }
   ],
   "source": [
    "restricted_stability_matrices.isTripletStable()"
   ]
  },
  {
   "cell_type": "code",
   "execution_count": 9,
   "metadata": {},
   "outputs": [
    {
     "data": {
      "text/plain": [
       "False"
      ]
     },
     "execution_count": 9,
     "metadata": {},
     "output_type": "execute_result"
    }
   ],
   "source": [
    "restricted_stability_matrices.isComplexConjugateStable()"
   ]
  },
  {
   "cell_type": "markdown",
   "metadata": {},
   "source": [
    "We can also print the stability description. Note that this runs the calculation of diagonalizing the stability matrix."
   ]
  },
  {
   "cell_type": "code",
   "execution_count": 10,
   "metadata": {},
   "outputs": [
    {
     "name": "stdout",
     "output_type": "stream",
     "text": [
      "The real valued RHF wavefunction is internally stable.\n",
      "The real valued RHF wavefunction contains a real->complex instability.\n",
      "The real valued RHF wavefunction contains a restricted->unrestricted instability.\n"
     ]
    }
   ],
   "source": [
    "restricted_stability_matrices.printStabilityDescription()"
   ]
  },
  {
   "cell_type": "markdown",
   "metadata": {},
   "source": [
    "## The UHF stability conditions"
   ]
  },
  {
   "cell_type": "markdown",
   "metadata": {},
   "source": [
    "We will run an UHF calculation on $H_3$."
   ]
  },
  {
   "cell_type": "code",
   "execution_count": 11,
   "metadata": {},
   "outputs": [],
   "source": [
    "def UHF_calculation(molecule, basis_set='STO-3G'):\n",
    "    N_a = molecule.numberOfElectronPairs()\n",
    "    N_b = molecule.numberOfElectrons() - N_a\n",
    "    basis = gqcpy.RSpinOrbitalBasis_d(molecule, basis_set)\n",
    "    S = basis.quantizeOverlapOperator().parameters()\n",
    "    sq_hamiltonian = gqcpy.RSQHamiltonian.Molecular(basis, molecule) \n",
    "\n",
    "    environment = gqcpy.UHFSCFEnvironment.WithCoreGuess(N_a, N_b, sq_hamiltonian, S) \n",
    "    solver = gqcpy.UHFSCFSolver.Plain(1.0e-06, 3000)\n",
    "\n",
    "    qc_structure = gqcpy.UHF.optimize(solver, environment)\n",
    "    \n",
    "    return qc_structure"
   ]
  },
  {
   "cell_type": "code",
   "execution_count": 12,
   "metadata": {},
   "outputs": [],
   "source": [
    "H3 = gqcpy.Molecule.HRingFromDistance(3, 1.0, 0)"
   ]
  },
  {
   "cell_type": "code",
   "execution_count": 13,
   "metadata": {},
   "outputs": [],
   "source": [
    "UHF_model = UHF_calculation(H3).parameters()"
   ]
  },
  {
   "cell_type": "markdown",
   "metadata": {},
   "source": [
    "These parameters contain everything there is to know about the UHF wave function model. We can now ask this model to calculate the stability matrices. For that we need a Hamiltonian in the UHF MO basis."
   ]
  },
  {
   "cell_type": "code",
   "execution_count": 14,
   "metadata": {},
   "outputs": [],
   "source": [
    "unrestricted_basis = gqcpy.USpinOrbitalBasis_d(H3, 'STO-3G')\n",
    "usq_hamiltonian_mo = gqcpy.USQHamiltonian.Molecular(unrestricted_basis, H3).transformed(UHF_model.expansion())\n",
    "unrestricted_stability_matrices = UHF_model.calculateStabilityMatrices(usq_hamiltonian_mo)"
   ]
  },
  {
   "cell_type": "markdown",
   "metadata": {},
   "source": [
    "Now we can check the stabilities. "
   ]
  },
  {
   "cell_type": "code",
   "execution_count": 15,
   "metadata": {},
   "outputs": [
    {
     "data": {
      "text/plain": [
       "True"
      ]
     },
     "execution_count": 15,
     "metadata": {},
     "output_type": "execute_result"
    }
   ],
   "source": [
    "unrestricted_stability_matrices.isInternallyStable()"
   ]
  },
  {
   "cell_type": "code",
   "execution_count": 16,
   "metadata": {},
   "outputs": [
    {
     "data": {
      "text/plain": [
       "False"
      ]
     },
     "execution_count": 16,
     "metadata": {},
     "output_type": "execute_result"
    }
   ],
   "source": [
    "unrestricted_stability_matrices.isExternallyStable()"
   ]
  },
  {
   "cell_type": "code",
   "execution_count": 17,
   "metadata": {},
   "outputs": [
    {
     "data": {
      "text/plain": [
       "False"
      ]
     },
     "execution_count": 17,
     "metadata": {},
     "output_type": "execute_result"
    }
   ],
   "source": [
    "unrestricted_stability_matrices.isSpinUnconservedStable()"
   ]
  },
  {
   "cell_type": "code",
   "execution_count": 18,
   "metadata": {},
   "outputs": [
    {
     "data": {
      "text/plain": [
       "True"
      ]
     },
     "execution_count": 18,
     "metadata": {},
     "output_type": "execute_result"
    }
   ],
   "source": [
    "unrestricted_stability_matrices.isComplexConjugateStable()"
   ]
  },
  {
   "cell_type": "code",
   "execution_count": 19,
   "metadata": {},
   "outputs": [
    {
     "name": "stdout",
     "output_type": "stream",
     "text": [
      "The real valued UHF wavefunction is internally stable.\n",
      "The real valued UHF wavefunction is stable within the real/complex UHF space.\n",
      "The real valued UHF wavefunction contains an unrestricted->generalized instability.\n"
     ]
    }
   ],
   "source": [
    "unrestricted_stability_matrices.printStabilityDescription()"
   ]
  },
  {
   "cell_type": "markdown",
   "metadata": {},
   "source": [
    "## The GHF stability conditions"
   ]
  },
  {
   "cell_type": "markdown",
   "metadata": {},
   "source": [
    "We will run an GHF calculation on $H_3$."
   ]
  },
  {
   "cell_type": "code",
   "execution_count": 20,
   "metadata": {},
   "outputs": [],
   "source": [
    "def GHF_calculation(molecule, basis_set='STO-3G'):\n",
    "    N = H3.numberOfElectrons()\n",
    "    basis = gqcpy.GSpinorBasis_d(H3, basis_set)\n",
    "    S = basis.quantizeOverlapOperator().parameters()\n",
    "    gsq_hamiltonian = gqcpy.GSQHamiltonian.Molecular(basis, molecule) \n",
    "\n",
    "    environment = gqcpy.GHFSCFEnvironment.WithCoreGuess(N, gsq_hamiltonian, S) \n",
    "    solver = gqcpy.GHFSCFSolver.Plain(1.0e-08, 4000)\n",
    "\n",
    "    qc_structure = gqcpy.GHF.optimize(solver, environment)\n",
    "    \n",
    "    return qc_structure"
   ]
  },
  {
   "cell_type": "code",
   "execution_count": 21,
   "metadata": {},
   "outputs": [],
   "source": [
    "GHF_model = GHF_calculation(H3).parameters()"
   ]
  },
  {
   "cell_type": "markdown",
   "metadata": {},
   "source": [
    "These parameters contain everything there is to know about the GHF wave function model. We can now ask this model to calculate the stability matrices. For that we need a Hamiltonian in the GHF MO basis."
   ]
  },
  {
   "cell_type": "code",
   "execution_count": 22,
   "metadata": {},
   "outputs": [],
   "source": [
    "generalized_basis = gqcpy.GSpinorBasis_d(H3, 'STO-3G')\n",
    "gsq_hamiltonian_mo = gqcpy.GSQHamiltonian.Molecular(generalized_basis, H3).transformed(GHF_model.expansion())\n",
    "generalized_stability_matrices = GHF_model.calculateStabilityMatrices(gsq_hamiltonian_mo)"
   ]
  },
  {
   "cell_type": "code",
   "execution_count": 23,
   "metadata": {},
   "outputs": [
    {
     "data": {
      "text/plain": [
       "False"
      ]
     },
     "execution_count": 23,
     "metadata": {},
     "output_type": "execute_result"
    }
   ],
   "source": [
    "generalized_stability_matrices.isInternallyStable()"
   ]
  },
  {
   "cell_type": "code",
   "execution_count": 24,
   "metadata": {},
   "outputs": [
    {
     "data": {
      "text/plain": [
       "False"
      ]
     },
     "execution_count": 24,
     "metadata": {},
     "output_type": "execute_result"
    }
   ],
   "source": [
    "generalized_stability_matrices.isExternallyStable()"
   ]
  },
  {
   "cell_type": "code",
   "execution_count": 25,
   "metadata": {},
   "outputs": [
    {
     "name": "stdout",
     "output_type": "stream",
     "text": [
      "The real valued GHF wavefunction contains an internal instability.\n",
      "The real valued GHF wavefunction contains a real->complex external instability.\n"
     ]
    }
   ],
   "source": [
    "generalized_stability_matrices.printStabilityDescription()"
   ]
  }
 ],
 "metadata": {
  "kernelspec": {
   "display_name": "python3.7",
   "language": "python",
   "name": "python3.7"
  },
  "language_info": {
   "codemirror_mode": {
    "name": "ipython",
    "version": 3
   },
   "file_extension": ".py",
   "mimetype": "text/x-python",
   "name": "python",
   "nbconvert_exporter": "python",
   "pygments_lexer": "ipython3",
   "version": "3.7.9"
  }
 },
 "nbformat": 4,
 "nbformat_minor": 4
}
