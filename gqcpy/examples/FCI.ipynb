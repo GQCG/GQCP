{
 "cells": [
  {
   "cell_type": "markdown",
   "metadata": {},
   "source": [
    "# Molecular FCI calculations"
   ]
  },
  {
   "cell_type": "markdown",
   "metadata": {},
   "source": [
    "In this example, we will calculate the ground state energy for H2 with an STO-3G basisset at the FCI level of theory."
   ]
  },
  {
   "cell_type": "markdown",
   "metadata": {},
   "source": [
    "## Setting up the molecular Hamiltonian"
   ]
  },
  {
   "cell_type": "code",
   "execution_count": 1,
   "metadata": {},
   "outputs": [],
   "source": [
    "# Force the local gqcpy to be imported\n",
    "import sys\n",
    "sys.path.insert(0, '../../build/gqcpy/')\n",
    "\n",
    "import gqcpy\n",
    "import numpy as np"
   ]
  },
  {
   "cell_type": "markdown",
   "metadata": {},
   "source": [
    "We start by creating the molecule and an associated spinor basis."
   ]
  },
  {
   "cell_type": "code",
   "execution_count": 3,
   "metadata": {},
   "outputs": [],
   "source": [
    "molecule = gqcpy.Molecule.ReadXYZ(\"../../gqcp/tests/data/h2_szabo.xyz\" , 0)  # create a neutral molecule\n",
    "N = molecule.numberOfElectrons()\n",
    "N_P = molecule.numberOfElectronPairs()\n",
    "\n",
    "spin_orbital_basis = gqcpy.RSpinOrbitalBasis_d(molecule, \"STO-3G\")\n",
    "K = spin_orbital_basis.numberOfSpatialOrbitals()"
   ]
  },
  {
   "cell_type": "markdown",
   "metadata": {},
   "source": [
    "Unfortunately, that spinor basis is not orthonormal, which is a requirement for our CI calculations."
   ]
  },
  {
   "cell_type": "code",
   "execution_count": 4,
   "metadata": {
    "tags": []
   },
   "outputs": [
    {
     "output_type": "stream",
     "name": "stdout",
     "text": [
      "[[0.99999999 0.65931816]\n [0.65931816 0.99999999]]\n"
     ]
    }
   ],
   "source": [
    "print(spin_orbital_basis.quantizeOverlapOperator().parameters())"
   ]
  },
  {
   "cell_type": "markdown",
   "metadata": {},
   "source": [
    "We will proceed by finding the canonical RHF orbitals, which correspond to an orthonormal spinor basis."
   ]
  },
  {
   "cell_type": "code",
   "execution_count": 5,
   "metadata": {},
   "outputs": [],
   "source": [
    "hamiltonian = gqcpy.RSQHamiltonian.Molecular(spin_orbital_basis, molecule)\n",
    "S = spin_orbital_basis.quantizeOverlapOperator().parameters()\n",
    "\n",
    "environment = gqcpy.RHFSCFEnvironment.WithCoreGuess(N, hamiltonian, S)\n",
    "solver = gqcpy.RHFSCFSolver.Plain()\n",
    "objective = gqcpy.DiagonalRHFFockMatrixObjective(hamiltonian)  # use the default threshold of 1.0e-08\n",
    "rhf_parameters = gqcpy.RHF.optimize(objective, solver, environment).groundStateParameters()"
   ]
  },
  {
   "cell_type": "markdown",
   "metadata": {},
   "source": [
    "Using this orthonormal spinor basis, we can quantize the molecular Hamiltonian."
   ]
  },
  {
   "cell_type": "code",
   "execution_count": 6,
   "metadata": {},
   "outputs": [],
   "source": [
    "spin_orbital_basis.transform(rhf_parameters.expansion())\n",
    "hamiltonian.transform(rhf_parameters.expansion())"
   ]
  },
  {
   "cell_type": "markdown",
   "metadata": {},
   "source": [
    "## Specifying the 'F' in FCI"
   ]
  },
  {
   "cell_type": "markdown",
   "metadata": {},
   "source": [
    "FCI, in essence, uses a linear expansion in the full (spin-resolved) Fock space. In GQCP (gqcpy), we have access to a class that represents an ONV basis for that Fock space:"
   ]
  },
  {
   "cell_type": "code",
   "execution_count": 7,
   "metadata": {},
   "outputs": [],
   "source": [
    "onv_basis = gqcpy.SpinResolvedONVBasis(K, N_P, N_P)  # number of spatial orbitals, number of alpha-electrons, number of beta-electrons"
   ]
  },
  {
   "cell_type": "markdown",
   "metadata": {},
   "source": [
    "## Dense FCI calculations"
   ]
  },
  {
   "cell_type": "markdown",
   "metadata": {},
   "source": [
    "In order to do a dense FCI calculations, GQCP uses its own framework for mathematical optimization. We'll have to create:\n",
    "1. a dense eigenvalue problem solver\n",
    "1. an associated eigenvalue problem environment"
   ]
  },
  {
   "cell_type": "code",
   "execution_count": 8,
   "metadata": {},
   "outputs": [],
   "source": [
    "solver = gqcpy.EigenproblemSolver.Dense()\n",
    "environment = gqcpy.CIEnvironment.Dense(hamiltonian, onv_basis)"
   ]
  },
  {
   "cell_type": "markdown",
   "metadata": {},
   "source": [
    "The encompassing `QCMethod` is `CI` (for any type of configuration interaction), so we'll use that to find the optimized and associated wave function model: a `LinearExpansion`. Internally, `QCMethod`s return a `QCStructure`, which wraps energies and optimized parameters for the ground state and excited states."
   ]
  },
  {
   "cell_type": "code",
   "execution_count": 9,
   "metadata": {},
   "outputs": [],
   "source": [
    "qc_structure = gqcpy.CI(onv_basis).optimize(solver, environment)"
   ]
  },
  {
   "cell_type": "code",
   "execution_count": 10,
   "metadata": {
    "tags": []
   },
   "outputs": [
    {
     "output_type": "stream",
     "name": "stdout",
     "text": [
      "-1.8515616052384685\n"
     ]
    }
   ],
   "source": [
    "electronic_energy = qc_structure.groundStateEnergy()\n",
    "print(electronic_energy)"
   ]
  },
  {
   "cell_type": "code",
   "execution_count": 11,
   "metadata": {
    "tags": []
   },
   "outputs": [
    {
     "output_type": "stream",
     "name": "stdout",
     "text": [
      "[-9.93627296e-01 -2.08342558e-16 -2.00942898e-16  1.12715560e-01]\n"
     ]
    }
   ],
   "source": [
    "print(qc_structure.groundStateParameters().coefficients())"
   ]
  },
  {
   "cell_type": "markdown",
   "metadata": {},
   "source": [
    "In order to find the total energy, we have to account for the nuclear repulsion. In GQCP, we use different kinds of first-quantized operators, and `NuclearRepulsionOperator` is one of them."
   ]
  },
  {
   "cell_type": "code",
   "execution_count": 12,
   "metadata": {
    "tags": []
   },
   "outputs": [
    {
     "output_type": "stream",
     "name": "stdout",
     "text": [
      "-1.1372759430764103\n"
     ]
    }
   ],
   "source": [
    "energy = electronic_energy + gqcpy.Operator.NuclearRepulsion(molecule).value()\n",
    "print(energy)"
   ]
  },
  {
   "cell_type": "markdown",
   "metadata": {},
   "source": [
    "## Iterative FCI calculations (with a Davidson algorithm)"
   ]
  },
  {
   "cell_type": "markdown",
   "metadata": {},
   "source": [
    "In order to tackle larger problems for which we cannot store the Hamiltonian matrix (in the ONV basis) in memory, we must use an iterative diagonalization procedure. In GQCP, we have implemented Davidson's algorithm. In order to use it to do FCI calculations, we must again create a solver and associated environment instance."
   ]
  },
  {
   "cell_type": "markdown",
   "metadata": {},
   "source": [
    "Since the Davidson algorithm is iterative, we will have to supply an initial guess vector. Since we're working in the canonical RHF basis, a linear expansion that has a 1 at the position of the RHF determinant is a good initial guess."
   ]
  },
  {
   "cell_type": "code",
   "execution_count": 13,
   "metadata": {},
   "outputs": [],
   "source": [
    "x0 = gqcpy.LinearExpansion_SpinResolved.HartreeFock(onv_basis).coefficients()\n",
    "\n",
    "solver_davidson = gqcpy.EigenproblemSolver.Davidson()\n",
    "environment_davidson = gqcpy.CIEnvironment.Iterative(hamiltonian, onv_basis, x0)"
   ]
  },
  {
   "cell_type": "code",
   "execution_count": 14,
   "metadata": {},
   "outputs": [],
   "source": [
    "qc_structure_davidson = gqcpy.CI(onv_basis).optimize(solver_davidson, environment_davidson)"
   ]
  },
  {
   "cell_type": "markdown",
   "metadata": {},
   "source": [
    "We can now verify that both types of solvers find the same, optimized linear wave function model and associated energy."
   ]
  },
  {
   "cell_type": "code",
   "execution_count": 15,
   "metadata": {
    "tags": []
   },
   "outputs": [
    {
     "output_type": "stream",
     "name": "stdout",
     "text": [
      "-1.8515616052384685\n"
     ]
    }
   ],
   "source": [
    "electronic_energy_davidson = qc_structure_davidson.groundStateEnergy()\n",
    "print(electronic_energy_davidson)"
   ]
  },
  {
   "cell_type": "code",
   "execution_count": 16,
   "metadata": {
    "tags": []
   },
   "outputs": [
    {
     "output_type": "stream",
     "name": "stdout",
     "text": [
      "[-9.93627296e-01 -3.33795692e-16 -2.93913411e-16  1.12715560e-01]\n"
     ]
    }
   ],
   "source": [
    "print(qc_structure_davidson.groundStateParameters().coefficients())"
   ]
  },
  {
   "source": [
    "## 'Unrestricted' FCI calculations"
   ],
   "cell_type": "markdown",
   "metadata": {}
  },
  {
   "source": [
    "In the previous examples, we have expressed the Hamiltonian in a restricted spin-orbital basis. Furthermore, CI calculations should be independent of the underlying one-electron (spinor/spin-orbital) basis. Can we reproduce this result, for an unrestricted spin-orbital basis?"
   ],
   "cell_type": "markdown",
   "metadata": {}
  },
  {
   "source": [
    "We'll start by creating an unrestricted spin-orbital (AO) basis, and Löwdin-orthonormalizing it."
   ],
   "cell_type": "markdown",
   "metadata": {}
  },
  {
   "cell_type": "code",
   "execution_count": 17,
   "metadata": {},
   "outputs": [],
   "source": [
    "u_spin_orbital_basis = gqcpy.USpinOrbitalBasis_d(molecule, \"STO-3G\")\n",
    "u_spin_orbital_basis.lowdinOrthonormalize()"
   ]
  },
  {
   "source": [
    "Now that we have an orthonormal unrestricted spin-orbital basis, we may quantize the molecular Hamiltonian in it."
   ],
   "cell_type": "markdown",
   "metadata": {}
  },
  {
   "cell_type": "code",
   "execution_count": 18,
   "metadata": {},
   "outputs": [],
   "source": [
    "u_hamiltonian = gqcpy.USQHamiltonian.Molecular(u_spin_orbital_basis, molecule)"
   ]
  },
  {
   "source": [
    "We can now reuse the full spin-resolved ONV basis, and proceed to initialize an environment and solver."
   ],
   "cell_type": "markdown",
   "metadata": {}
  },
  {
   "cell_type": "code",
   "execution_count": 19,
   "metadata": {},
   "outputs": [],
   "source": [
    "solver = gqcpy.EigenproblemSolver.Dense()\n",
    "environment = gqcpy.CIEnvironment.Dense(u_hamiltonian, onv_basis)\n",
    "\n",
    "qc_structure = gqcpy.CI(onv_basis).optimize(solver, environment)"
   ]
  },
  {
   "cell_type": "code",
   "execution_count": 20,
   "metadata": {},
   "outputs": [
    {
     "output_type": "stream",
     "name": "stdout",
     "text": [
      "-1.8515616052384682\n"
     ]
    }
   ],
   "source": [
    "electronic_energy = qc_structure.groundStateEnergy()\n",
    "print(electronic_energy)"
   ]
  },
  {
   "source": [
    "This is exactly the result we obtain from the restricted case!"
   ],
   "cell_type": "markdown",
   "metadata": {}
  },
  {
   "cell_type": "code",
   "execution_count": null,
   "metadata": {},
   "outputs": [],
   "source": []
  }
 ],
 "metadata": {
  "kernelspec": {
   "display_name": "Python 3",
   "language": "python",
   "name": "python3"
  },
  "language_info": {
   "codemirror_mode": {
    "name": "ipython",
    "version": 3
   },
   "file_extension": ".py",
   "mimetype": "text/x-python",
   "name": "python",
   "nbconvert_exporter": "python",
   "pygments_lexer": "ipython3",
   "version": "3.7.7-final"
  }
 },
 "nbformat": 4,
 "nbformat_minor": 2
}