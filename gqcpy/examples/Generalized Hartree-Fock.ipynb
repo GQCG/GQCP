{
 "cells": [
  {
   "cell_type": "code",
   "execution_count": 1,
   "metadata": {},
   "outputs": [],
   "source": [
    "# Force the local gqcpy to be imported\n",
    "import sys\n",
    "sys.path.insert(0, '../../build/gqcpy/')\n",
    "\n",
    "import gqcpy\n",
    "import numpy as np\n",
    "from scipy import linalg as la\n",
    "\n",
    "np.set_printoptions(precision=3, linewidth=120)"
   ]
  },
  {
   "cell_type": "markdown",
   "metadata": {},
   "source": [
    "# Real valued GHF"
   ]
  },
  {
   "cell_type": "markdown",
   "metadata": {},
   "source": [
    "## Molecular setup"
   ]
  },
  {
   "cell_type": "markdown",
   "metadata": {},
   "source": [
    "GHF SCF calculations start off in the same way as RHF SCF calculations. We first need a second-quantized Hamiltonian that expresses all the integrals in the AO basis."
   ]
  },
  {
   "cell_type": "code",
   "execution_count": 2,
   "metadata": {},
   "outputs": [],
   "source": [
    "molecule = gqcpy.Molecule.HRingFromDistance(3, 1.0, 0)  # create a neutral molecule\n",
    "N = molecule.numberOfElectrons()\n",
    "\n",
    "spinor_basis = gqcpy.GSpinorBasis(molecule, \"STO-3G\")\n",
    "S = spinor_basis.quantizeOverlapOperator().parameters()\n",
    "\n",
    "sq_hamiltonian = gqcpy.SQHamiltonian.Molecular(spinor_basis, molecule)  # 'sq' for 'second-quantized'"
   ]
  },
  {
   "cell_type": "markdown",
   "metadata": {},
   "source": [
    "## The SCF procedure"
   ]
  },
  {
   "cell_type": "markdown",
   "metadata": {},
   "source": [
    "We need an GHF SCF solver and an GHF SCF environment."
   ]
  },
  {
   "cell_type": "code",
   "execution_count": 3,
   "metadata": {},
   "outputs": [],
   "source": [
    "environment = gqcpy.GHFSCFEnvironment_d.WithCoreGuess(N, sq_hamiltonian, S)\n",
    "plain_solver = gqcpy.GHFSCFSolver_d.Plain(threshold=1.0e-04, maximum_number_of_iterations=1000)  "
   ]
  },
  {
   "cell_type": "markdown",
   "metadata": {},
   "source": [
    "We can use the solver to optimize the UHF parameters."
   ]
  },
  {
   "cell_type": "code",
   "execution_count": 4,
   "metadata": {},
   "outputs": [],
   "source": [
    "qc_structure = gqcpy.GHF_d.optimize(plain_solver, environment)"
   ]
  },
  {
   "cell_type": "markdown",
   "metadata": {},
   "source": [
    "Check the resulting energy."
   ]
  },
  {
   "cell_type": "code",
   "execution_count": 5,
   "metadata": {},
   "outputs": [
    {
     "name": "stdout",
     "output_type": "stream",
     "text": [
      "-0.631146307416838\n"
     ]
    }
   ],
   "source": [
    "print(qc_structure.groundStateEnergy() + gqcpy.Operator.NuclearRepulsion(molecule).value())"
   ]
  },
  {
   "cell_type": "markdown",
   "metadata": {},
   "source": [
    "The problem here is, that we find a UHF solution. In order to find a true GHF solution using real valued GHF is to start from a random guess."
   ]
  },
  {
   "cell_type": "code",
   "execution_count": 6,
   "metadata": {},
   "outputs": [],
   "source": [
    "dimension = spinor_basis.numberOfSpinors()\n",
    "np.random.seed(2)\n",
    "x = np.random.rand(dimension, dimension)\n",
    "\n",
    "# Make the matrix symmetric by adding it's transpose.\n",
    "# Get the eigenvectors to use them, since they form a unitary matrix.\n",
    "x_t = x.T\n",
    "y = x + x_t\n",
    "val, vec = la.eigh(y)"
   ]
  },
  {
   "cell_type": "code",
   "execution_count": 7,
   "metadata": {},
   "outputs": [],
   "source": [
    "environment_random = gqcpy.GHFSCFEnvironment_d(N, sq_hamiltonian, S, vec)\n",
    "plain_solver_random = gqcpy.GHFSCFSolver_d.Plain(threshold=1.0e-04, maximum_number_of_iterations=5000)\n",
    "qc_structure_random = gqcpy.GHF_d.optimize(plain_solver_random, environment_random)"
   ]
  },
  {
   "cell_type": "code",
   "execution_count": 8,
   "metadata": {},
   "outputs": [
    {
     "name": "stdout",
     "output_type": "stream",
     "text": [
      "-0.6318365333996345\n"
     ]
    }
   ],
   "source": [
    "print(qc_structure_random.groundStateEnergy() + gqcpy.Operator.NuclearRepulsion(molecule).value())"
   ]
  },
  {
   "cell_type": "markdown",
   "metadata": {},
   "source": [
    "# Complex valued GHF"
   ]
  },
  {
   "cell_type": "markdown",
   "metadata": {},
   "source": [
    "Another way to converge to the true GHF solution is by breaking complex conjugation symmetry: aka working with complex valued orbitals. Let's start by adding a small complex perturbation to the core Hamiltonian."
   ]
  },
  {
   "cell_type": "code",
   "execution_count": 9,
   "metadata": {},
   "outputs": [],
   "source": [
    "complex_guess = sq_hamiltonian.core().parameters()\n",
    "complex_guess = complex_guess + 0j\n",
    "complex_guess[0, :] += 0.1j\n",
    "complex_guess[:, 0] -= 0.1j"
   ]
  },
  {
   "cell_type": "code",
   "execution_count": 10,
   "metadata": {},
   "outputs": [
    {
     "ename": "TypeError",
     "evalue": "__init__(): incompatible constructor arguments. The following argument types are supported:\n    1. gqcpy.GHFSCFEnvironment_cd(N: int, sq_hamiltonian: GQCP::SQHamiltonian<std::__1::complex<double> >, S: numpy.ndarray[float64[m, n]], C_init: numpy.ndarray[complex128[m, n]])\n\nInvoked with: 3, <gqcpy.SQHamiltonian object at 0x7fc278b57ef0>, array([[1.   , 0.797, 0.797, 0.   , 0.   , 0.   ],\n       [0.797, 1.   , 0.797, 0.   , 0.   , 0.   ],\n       [0.797, 0.797, 1.   , 0.   , 0.   , 0.   ],\n       [0.   , 0.   , 0.   , 1.   , 0.797, 0.797],\n       [0.   , 0.   , 0.   , 0.797, 1.   , 0.797],\n       [0.   , 0.   , 0.   , 0.797, 0.797, 1.   ]]), array([[-2.09 +0.j , -1.885+0.1j, -1.885+0.1j,  0.   +0.1j,  0.   +0.1j,  0.   +0.1j],\n       [-1.885-0.1j, -2.09 +0.j , -1.885+0.j ,  0.   +0.j ,  0.   +0.j ,  0.   +0.j ],\n       [-1.885-0.1j, -1.885+0.j , -2.09 +0.j ,  0.   +0.j ,  0.   +0.j ,  0.   +0.j ],\n       [ 0.   -0.1j,  0.   +0.j ,  0.   +0.j , -2.09 +0.j , -1.885+0.j , -1.885+0.j ],\n       [ 0.   -0.1j,  0.   +0.j ,  0.   +0.j , -1.885+0.j , -2.09 +0.j , -1.885+0.j ],\n       [ 0.   -0.1j,  0.   +0.j ,  0.   +0.j , -1.885+0.j , -1.885+0.j , -2.09 +0.j ]])\n\nDid you forget to `#include <pybind11/stl.h>`? Or <pybind11/complex.h>,\n<pybind11/functional.h>, <pybind11/chrono.h>, etc. Some automatic\nconversions are optional and require extra headers to be included\nwhen compiling your pybind11 module.",
     "output_type": "error",
     "traceback": [
      "\u001b[0;31m---------------------------------------------------------------------------\u001b[0m",
      "\u001b[0;31mTypeError\u001b[0m                                 Traceback (most recent call last)",
      "\u001b[0;32m<ipython-input-10-ef2ed720f57e>\u001b[0m in \u001b[0;36m<module>\u001b[0;34m\u001b[0m\n\u001b[0;32m----> 1\u001b[0;31m \u001b[0menvironment_complex\u001b[0m \u001b[0;34m=\u001b[0m \u001b[0mgqcpy\u001b[0m\u001b[0;34m.\u001b[0m\u001b[0mGHFSCFEnvironment_cd\u001b[0m\u001b[0;34m(\u001b[0m\u001b[0mN\u001b[0m\u001b[0;34m,\u001b[0m \u001b[0msq_hamiltonian\u001b[0m\u001b[0;34m,\u001b[0m \u001b[0mS\u001b[0m\u001b[0;34m,\u001b[0m \u001b[0mcomplex_guess\u001b[0m\u001b[0;34m)\u001b[0m\u001b[0;34m\u001b[0m\u001b[0;34m\u001b[0m\u001b[0m\n\u001b[0m\u001b[1;32m      2\u001b[0m \u001b[0mplain_solver_complex\u001b[0m \u001b[0;34m=\u001b[0m \u001b[0mgqcpy\u001b[0m\u001b[0;34m.\u001b[0m\u001b[0mGHFSCFSolver_cd\u001b[0m\u001b[0;34m.\u001b[0m\u001b[0mPlain\u001b[0m\u001b[0;34m(\u001b[0m\u001b[0mthreshold\u001b[0m\u001b[0;34m=\u001b[0m\u001b[0;36m1.0e-04\u001b[0m\u001b[0;34m,\u001b[0m \u001b[0mmaximum_number_of_iterations\u001b[0m\u001b[0;34m=\u001b[0m\u001b[0;36m5000\u001b[0m\u001b[0;34m)\u001b[0m\u001b[0;34m\u001b[0m\u001b[0;34m\u001b[0m\u001b[0m\n\u001b[1;32m      3\u001b[0m \u001b[0mqc_structure_complex\u001b[0m \u001b[0;34m=\u001b[0m \u001b[0mgqcpy\u001b[0m\u001b[0;34m.\u001b[0m\u001b[0mGHF_cd\u001b[0m\u001b[0;34m.\u001b[0m\u001b[0moptimize\u001b[0m\u001b[0;34m(\u001b[0m\u001b[0mplain_solver_complex\u001b[0m\u001b[0;34m,\u001b[0m \u001b[0menvironment_complex\u001b[0m\u001b[0;34m)\u001b[0m\u001b[0;34m\u001b[0m\u001b[0;34m\u001b[0m\u001b[0m\n",
      "\u001b[0;31mTypeError\u001b[0m: __init__(): incompatible constructor arguments. The following argument types are supported:\n    1. gqcpy.GHFSCFEnvironment_cd(N: int, sq_hamiltonian: GQCP::SQHamiltonian<std::__1::complex<double> >, S: numpy.ndarray[float64[m, n]], C_init: numpy.ndarray[complex128[m, n]])\n\nInvoked with: 3, <gqcpy.SQHamiltonian object at 0x7fc278b57ef0>, array([[1.   , 0.797, 0.797, 0.   , 0.   , 0.   ],\n       [0.797, 1.   , 0.797, 0.   , 0.   , 0.   ],\n       [0.797, 0.797, 1.   , 0.   , 0.   , 0.   ],\n       [0.   , 0.   , 0.   , 1.   , 0.797, 0.797],\n       [0.   , 0.   , 0.   , 0.797, 1.   , 0.797],\n       [0.   , 0.   , 0.   , 0.797, 0.797, 1.   ]]), array([[-2.09 +0.j , -1.885+0.1j, -1.885+0.1j,  0.   +0.1j,  0.   +0.1j,  0.   +0.1j],\n       [-1.885-0.1j, -2.09 +0.j , -1.885+0.j ,  0.   +0.j ,  0.   +0.j ,  0.   +0.j ],\n       [-1.885-0.1j, -1.885+0.j , -2.09 +0.j ,  0.   +0.j ,  0.   +0.j ,  0.   +0.j ],\n       [ 0.   -0.1j,  0.   +0.j ,  0.   +0.j , -2.09 +0.j , -1.885+0.j , -1.885+0.j ],\n       [ 0.   -0.1j,  0.   +0.j ,  0.   +0.j , -1.885+0.j , -2.09 +0.j , -1.885+0.j ],\n       [ 0.   -0.1j,  0.   +0.j ,  0.   +0.j , -1.885+0.j , -1.885+0.j , -2.09 +0.j ]])\n\nDid you forget to `#include <pybind11/stl.h>`? Or <pybind11/complex.h>,\n<pybind11/functional.h>, <pybind11/chrono.h>, etc. Some automatic\nconversions are optional and require extra headers to be included\nwhen compiling your pybind11 module."
     ]
    }
   ],
   "source": [
    "environment_complex = gqcpy.GHFSCFEnvironment_cd(N, sq_hamiltonian, S, complex_guess)\n",
    "plain_solver_complex = gqcpy.GHFSCFSolver_cd.Plain(threshold=1.0e-04, maximum_number_of_iterations=5000)\n",
    "qc_structure_complex = gqcpy.GHF_cd.optimize(plain_solver_complex, environment_complex)"
   ]
  },
  {
   "cell_type": "code",
   "execution_count": null,
   "metadata": {},
   "outputs": [],
   "source": []
  }
 ],
 "metadata": {
  "kernelspec": {
   "display_name": "python3.7",
   "language": "python",
   "name": "python3.7"
  },
  "language_info": {
   "codemirror_mode": {
    "name": "ipython",
    "version": 3
   },
   "file_extension": ".py",
   "mimetype": "text/x-python",
   "name": "python",
   "nbconvert_exporter": "python",
   "pygments_lexer": "ipython3",
   "version": "3.7.9"
  }
 },
 "nbformat": 4,
 "nbformat_minor": 4
}
