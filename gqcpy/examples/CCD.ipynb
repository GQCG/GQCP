{
 "cells": [
  {
   "cell_type": "markdown",
   "metadata": {},
   "source": [
    "# CCD calculations"
   ]
  },
  {
   "cell_type": "code",
   "execution_count": 1,
   "metadata": {},
   "outputs": [],
   "source": [
    "import os\n",
    "\n",
    "os.environ['KMP_DUPLICATE_LIB_OK']='True'\n",
    "\n",
    "# Force the local gqcpy to be imported\n",
    "import sys\n",
    "sys.path.insert(0, '../../build/gqcpy/')\n",
    "\n",
    "import gqcpy\n",
    "import numpy as np\n",
    "\n",
    "np.set_printoptions(precision=3, linewidth=120)"
   ]
  },
  {
   "cell_type": "markdown",
   "metadata": {},
   "source": [
    "## CCD calculations on H2O // STO-3G"
   ]
  },
  {
   "cell_type": "code",
   "execution_count": 2,
   "metadata": {},
   "outputs": [
    {
     "name": "stdout",
     "output_type": "stream",
     "text": [
      "Number of electrons: 10\n",
      "O  (0, -0.143226, 0)\n",
      "H  (1.63804, 1.13655, -0)\n",
      "H  (-1.63804, 1.13655, -0)\n",
      "\n"
     ]
    }
   ],
   "source": [
    "molecule = gqcpy.Molecule.ReadXYZ(\"../../gqcp/tests/data/h2o_crawdad.xyz\")\n",
    "N = molecule.numberOfElectrons()\n",
    "N_P = N // 2\n",
    "\n",
    "print(molecule)"
   ]
  },
  {
   "cell_type": "markdown",
   "metadata": {},
   "source": [
    "The first task is to generate the RHF reference, so we'll do an RHF SCF calculation."
   ]
  },
  {
   "cell_type": "code",
   "execution_count": 3,
   "metadata": {},
   "outputs": [],
   "source": [
    "r_spinor_basis = gqcpy.RSpinorBasis(molecule, \"STO-3G\")\n",
    "K = r_spinor_basis.numberOfSpatialOrbitals()\n",
    "\n",
    "S = r_spinor_basis.quantizeOverlapOperator().parameters()"
   ]
  },
  {
   "cell_type": "code",
   "execution_count": 4,
   "metadata": {},
   "outputs": [],
   "source": [
    "sq_hamiltonian = gqcpy.SQHamiltonian.Molecular(r_spinor_basis, molecule)  # 'sq' for 'second-quantized'"
   ]
  },
  {
   "cell_type": "markdown",
   "metadata": {},
   "source": [
    "The current Hamiltionian is expressed in the non-orthogonal AO basis. This is exactly what we need to start an RHF calculation."
   ]
  },
  {
   "cell_type": "code",
   "execution_count": 5,
   "metadata": {},
   "outputs": [],
   "source": [
    "environment = gqcpy.RHFSCFEnvironment.WithCoreGuess(N, sq_hamiltonian, S)\n",
    "solver = gqcpy.RHFSCFSolver.DIIS()\n",
    "\n",
    "objective = gqcpy.DiagonalRHFFockMatrixObjective(sq_hamiltonian)  # use the default threshold of 1.0e-08"
   ]
  },
  {
   "cell_type": "markdown",
   "metadata": {},
   "source": [
    "Using this objective makes sure that the optimized expansion coefficients yield a diagonal Fock matrix, so they will represent the canonical RHF spin-orbital basis."
   ]
  },
  {
   "cell_type": "code",
   "execution_count": 6,
   "metadata": {},
   "outputs": [],
   "source": [
    "rhf_qc_structure = gqcpy.RHF.optimize(objective, solver, environment)"
   ]
  },
  {
   "cell_type": "code",
   "execution_count": 7,
   "metadata": {},
   "outputs": [
    {
     "name": "stdout",
     "output_type": "stream",
     "text": [
      "-74.94207992809503\n"
     ]
    }
   ],
   "source": [
    "rhf_energy = rhf_qc_structure.groundStateEnergy() + gqcpy.Operator.NuclearRepulsion(molecule).value()\n",
    "print(rhf_energy)"
   ]
  },
  {
   "cell_type": "markdown",
   "metadata": {},
   "source": [
    "This is very much in line with `crawdad`'s results: `-74.942079928192`."
   ]
  },
  {
   "cell_type": "code",
   "execution_count": 8,
   "metadata": {},
   "outputs": [],
   "source": [
    "rhf_parameters = rhf_qc_structure.groundStateParameters()\n",
    "C = rhf_parameters.coefficientMatrix()"
   ]
  },
  {
   "cell_type": "code",
   "execution_count": 9,
   "metadata": {},
   "outputs": [],
   "source": [
    "r_spinor_basis.transform(C)  # now represents a restricted spin-orbital basis using the canonical RHF MOs"
   ]
  },
  {
   "cell_type": "markdown",
   "metadata": {},
   "source": [
    "Before continuing with the CCSD specifics, we must first prepare the molecular Hamiltonian in the correct spinor basis. Since we have implemented CCSD using general spinors, we should use a `GSpinorBasis`."
   ]
  },
  {
   "cell_type": "code",
   "execution_count": 10,
   "metadata": {},
   "outputs": [
    {
     "name": "stdout",
     "output_type": "stream",
     "text": [
      "An orbital space with 14 orbitals.\n",
      "\n",
      "\tThe occupied orbital indices are: 0 1 2 3 4 7 8 9 10 11 \n",
      "\tThe active orbital indices are: \n",
      "\tThe virtual orbital indices are: 5 6 12 13 \n"
     ]
    }
   ],
   "source": [
    "g_spinor_basis = gqcpy.GSpinorBasis.FromRestricted(r_spinor_basis)  # represents a general spinor basis, based off the restricted canonical RHF MOs\n",
    "\n",
    "M = g_spinor_basis.numberOfSpinors()\n",
    "ghf_onv = gqcpy.SpinUnresolvedONV.GHF(M, N, rhf_parameters.spinOrbitalEnergiesBlocked())\n",
    "\n",
    "orbital_space = ghf_onv.orbitalSpace()\n",
    "print(orbital_space.description())"
   ]
  },
  {
   "cell_type": "markdown",
   "metadata": {},
   "source": [
    "CCSD is also implemented as a `QCMethod`. This means that we'll have to set up an environment and a particular solver."
   ]
  },
  {
   "cell_type": "code",
   "execution_count": 11,
   "metadata": {},
   "outputs": [],
   "source": [
    "sq_hamiltonian = gqcpy.SQHamiltonian.Molecular(g_spinor_basis, molecule)"
   ]
  },
  {
   "cell_type": "code",
   "execution_count": 12,
   "metadata": {},
   "outputs": [],
   "source": [
    "solver = gqcpy.CCDSolver.Plain()\n",
    "environment = gqcpy.CCSDEnvironment.PerturbativeCCD(sq_hamiltonian, orbital_space)"
   ]
  },
  {
   "cell_type": "markdown",
   "metadata": {},
   "source": [
    "Let's now proceed by actually optimizing the CCD wave function model. This may take a while if `gqcp` is built in Debug mode!"
   ]
  },
  {
   "cell_type": "code",
   "execution_count": 13,
   "metadata": {},
   "outputs": [],
   "source": [
    "ccd_qc_structure = gqcpy.CCD.optimize(solver, environment)"
   ]
  },
  {
   "cell_type": "code",
   "execution_count": 14,
   "metadata": {},
   "outputs": [
    {
     "name": "stdout",
     "output_type": "stream",
     "text": [
      "-0.07015048702156702\n"
     ]
    }
   ],
   "source": [
    "ccd_correlation_energy = ccd_qc_structure.groundStateEnergy()\n",
    "print(ccd_correlation_energy)"
   ]
  },
  {
   "cell_type": "code",
   "execution_count": 18,
   "metadata": {},
   "outputs": [],
   "source": [
    "def ccd0(environment):\n",
    "    t2_amplitudes = environment.t2_amplitudes[-1].asTensor()\n",
    "    \n",
    "    dim = t2_amplitudes.shape\n",
    "    new_t2_amplitudes = np.zeros(dim)\n",
    "    \n",
    "#    for i in range(dim[0]):\n",
    "#        for j in range(dim[1]):\n",
    "#            for a in range(dim[2]):\n",
    "#                for b in range(dim[3]):\n",
    "#                    new_t2_amplitudes[i,j,a,b] = 0.5*t2_amplitudes[i,j,a,b]*t2_amplitudes[i,j,b,a]\n",
    "                    \n",
    "    new_t2_amplitudes = 0.5 * t2_amplitudes * t2_amplitudes.transpose(0,1,3,2)\n",
    "    environment.replace_current_t2_amplitudes(new_t2_amplitudes, dim[0], dim[2])"
   ]
  },
  {
   "cell_type": "code",
   "execution_count": 19,
   "metadata": {},
   "outputs": [],
   "source": [
    "CCD0_step = gqcpy.FunctionalStep_CCSDEnvironment(ccd0, description=\"Function that includes the CCD0 step in the CCD algorithm.\")"
   ]
  },
  {
   "cell_type": "code",
   "execution_count": 20,
   "metadata": {},
   "outputs": [
    {
     "name": "stderr",
     "output_type": "stream",
     "text": [
      "/Users/daria/opt/anaconda3/envs/gqcp_dev/lib/python3.7/site-packages/ipykernel_launcher.py:13: RuntimeWarning: overflow encountered in multiply\n",
      "  del sys.path[0]\n"
     ]
    },
    {
     "ename": "TypeError",
     "evalue": "replace_current_t2_amplitudes(): incompatible function arguments. The following argument types are supported:\n    1. (self: gqcpy.CCSDEnvironment, arg0: GQCP::T2Amplitudes<double>) -> None\n    2. (self: gqcpy.CCSDEnvironment, arg0: Eigen::Tensor<double, 4, 0, long>, arg1: int, arg2: int) -> None\n\nInvoked with: <gqcpy.CCSDEnvironment object at 0x11effee70>, array([[[[ 0.000e+000,  1.496e-058,  0.000e+000, -8.049e-041],\n         [ 1.496e-058,  0.000e+000,  0.000e+000, -0.000e+000],\n         [ 0.000e+000,  0.000e+000,  1.826e-043, -0.000e+000],\n         [-8.049e-041, -0.000e+000, -0.000e+000,  0.000e+000]],\n\n        [[ 3.138e-073,  0.000e+000,  0.000e+000, -0.000e+000],\n         [ 0.000e+000,  0.000e+000,  0.000e+000,  0.000e+000],\n         [ 0.000e+000,  0.000e+000,  0.000e+000,  0.000e+000],\n         [-0.000e+000,  0.000e+000,  0.000e+000,  0.000e+000]],\n\n        [[ 0.000e+000,  0.000e+000,  0.000e+000,  0.000e+000],\n         [ 0.000e+000,  0.000e+000,  0.000e+000,  0.000e+000],\n         [ 0.000e+000,  0.000e+000,  0.000e+000,  0.000e+000],\n         [ 0.000e+000,  0.000e+000,  0.000e+000,  0.000e+000]],\n\n        ...,\n\n        [[ 6.421e-009, -1.069e-032,  0.000e+000,  4.393e-019],\n         [-1.069e-032,  0.000e+000,  0.000e+000, -0.000e+000],\n         [ 0.000e+000,  0.000e+000,  2.396e-066, -6.924e-033],\n         [ 4.393e-019, -0.000e+000, -6.924e-033,  0.000e+000]],\n\n        [[ 0.000e+000,  0.000e+000, -0.000e+000,  0.000e+000],\n         [ 0.000e+000,  2.450e-008, -9.045e-033,  0.000e+000],\n         [-0.000e+000, -9.045e-033,  0.000e+000,  0.000e+000],\n         [ 0.000e+000,  0.000e+000,  0.000e+000,  1.026e-035]],\n\n        [[ 1.194e-035,  1.762e-034, -0.000e+000,  8.998e-032],\n         [ 1.762e-034,  0.000e+000,  0.000e+000,  0.000e+000],\n         [-0.000e+000,  0.000e+000,  1.528e-008, -1.647e-032],\n         [ 8.998e-032,  0.000e+000, -1.647e-032,  0.000e+000]]],\n\n\n       [[[ 1.135e-039,  1.227e-038, -0.000e+000, -2.253e-021],\n         [ 1.227e-038,  0.000e+000,  0.000e+000, -0.000e+000],\n         [-0.000e+000,  0.000e+000,  4.741e-038, -4.602e-035],\n         [-2.253e-021, -0.000e+000, -4.602e-035,  0.000e+000]],\n\n        [[ 1.375e-038, -3.836e-036,  0.000e+000,  0.000e+000],\n         [-3.836e-036,  0.000e+000,  0.000e+000,  0.000e+000],\n         [ 0.000e+000,  0.000e+000,  0.000e+000,  0.000e+000],\n         [ 0.000e+000,  0.000e+000,  0.000e+000,  0.000e+000]],\n\n        [[ 0.000e+000,  0.000e+000,  0.000e+000,  0.000e+000],\n         [ 0.000e+000,  0.000e+000,  0.000e+000,  0.000e+000],\n         [ 0.000e+000,  0.000e+000,  0.000e+000,  0.000e+000],\n         [ 0.000e+000,  0.000e+000,  0.000e+000,  0.000e+000]],\n\n        ...,\n\n        [[ 1.115e-035,  3.245e-033,  0.000e+000, -7.670e-048],\n         [ 3.245e-033,  0.000e+000,  0.000e+000,  0.000e+000],\n         [ 0.000e+000,  0.000e+000,  9.121e-039,  1.300e-034],\n         [-7.670e-048,  0.000e+000,  1.300e-034,  0.000e+000]],\n\n        [[ 0.000e+000,  0.000e+000,  0.000e+000,  0.000e+000],\n         [ 0.000e+000,  1.113e-038,  7.308e-033,  0.000e+000],\n         [ 0.000e+000,  7.308e-033,  0.000e+000,  0.000e+000],\n         [ 0.000e+000,  0.000e+000,  0.000e+000,  8.446e-008]],\n\n        [[ 2.757e-007,  1.569e-033,  0.000e+000,  1.717e-004],\n         [ 1.569e-033,  0.000e+000,  0.000e+000, -0.000e+000],\n         [ 0.000e+000,  0.000e+000,  7.606e-038,  7.343e-033],\n         [ 1.717e-004, -0.000e+000,  7.343e-033,  0.000e+000]]],\n\n\n       [[[ 0.000e+000,  0.000e+000, -0.000e+000,  0.000e+000],\n         [ 0.000e+000,  1.381e-007, -3.975e-037,  0.000e+000],\n         [-0.000e+000, -3.975e-037,  0.000e+000,  0.000e+000],\n         [ 0.000e+000,  0.000e+000,  0.000e+000,  6.519e-008]],\n\n        [[ 0.000e+000,  0.000e+000, -0.000e+000, -0.000e+000],\n         [ 0.000e+000,  2.354e-066, -6.905e-033, -6.475e-022],\n         [-0.000e+000, -6.905e-033,  1.381e-007, -3.938e-037],\n         [-0.000e+000, -6.475e-022, -3.938e-037,  0.000e+000]],\n\n        [[ 6.421e-009, -1.070e-032, -0.000e+000,  4.393e-019],\n         [-1.070e-032,  0.000e+000,  0.000e+000,  0.000e+000],\n         [-0.000e+000,  0.000e+000,  2.398e-066, -6.921e-033],\n         [ 4.393e-019,  0.000e+000, -6.921e-033,  0.000e+000]],\n\n        ...,\n\n        [[ 0.000e+000,  0.000e+000,  0.000e+000,  0.000e+000],\n         [ 0.000e+000,  7.834e-043,  3.484e-068, -0.000e+000],\n         [ 0.000e+000,  3.484e-068,  0.000e+000,  0.000e+000],\n         [ 0.000e+000, -0.000e+000,  0.000e+000,  3.138e-073]],\n\n        [[ 0.000e+000,  0.000e+000,  0.000e+000,  0.000e+000],\n         [ 0.000e+000,  0.000e+000,  0.000e+000,  0.000e+000],\n         [ 0.000e+000,  0.000e+000,  0.000e+000,  0.000e+000],\n         [ 0.000e+000,  0.000e+000,  0.000e+000,  0.000e+000]],\n\n        [[ 0.000e+000,  0.000e+000,  0.000e+000,  0.000e+000],\n         [ 0.000e+000,  4.174e-038, -4.466e-035,  0.000e+000],\n         [ 0.000e+000, -4.466e-035,  0.000e+000,  0.000e+000],\n         [ 0.000e+000,  0.000e+000,  0.000e+000,  7.847e-008]]],\n\n\n       ...,\n\n\n       [[[ 5.780e-067, -0.000e+000, -0.000e+000, -0.000e+000],\n         [-0.000e+000,  0.000e+000, -0.000e+000,  0.000e+000],\n         [-0.000e+000, -0.000e+000,  4.499e-069,  0.000e+000],\n         [-0.000e+000,  0.000e+000,  0.000e+000,  0.000e+000]],\n\n        [[ 0.000e+000, -0.000e+000,  0.000e+000,  0.000e+000],\n         [-0.000e+000,  0.000e+000,  0.000e+000, -0.000e+000],\n         [ 0.000e+000,  0.000e+000,  2.381e-065, -4.473e-029],\n         [ 0.000e+000, -0.000e+000, -4.473e-029,  7.760e-074]],\n\n        [[ 0.000e+000, -0.000e+000, -0.000e+000,  0.000e+000],\n         [-0.000e+000,  4.091e-065,  0.000e+000,  0.000e+000],\n         [-0.000e+000,  0.000e+000,  0.000e+000, -0.000e+000],\n         [ 0.000e+000,  0.000e+000, -0.000e+000,  4.048e-063]],\n\n        ...,\n\n        [[ 0.000e+000,  0.000e+000,  0.000e+000, -0.000e+000],\n         [ 0.000e+000,  0.000e+000, -0.000e+000,  0.000e+000],\n         [ 0.000e+000, -0.000e+000,  2.384e-065, -4.473e-029],\n         [-0.000e+000,  0.000e+000, -4.473e-029,  7.754e-074]],\n\n        [[ 0.000e+000,  0.000e+000, -0.000e+000, -0.000e+000],\n         [ 0.000e+000,  1.362e-064, -0.000e+000,  0.000e+000],\n         [-0.000e+000, -0.000e+000,  0.000e+000,  0.000e+000],\n         [-0.000e+000,  0.000e+000,  0.000e+000,  4.012e-063]],\n\n        [[ 0.000e+000,  0.000e+000,  0.000e+000,  0.000e+000],\n         [ 0.000e+000,  0.000e+000,  0.000e+000,  0.000e+000],\n         [ 0.000e+000,  0.000e+000,  0.000e+000,  0.000e+000],\n         [ 0.000e+000,  0.000e+000,  0.000e+000,  0.000e+000]]],\n\n\n       [[[ 0.000e+000,  0.000e+000,  0.000e+000,  0.000e+000],\n         [ 0.000e+000,  0.000e+000,  0.000e+000,  0.000e+000],\n         [ 0.000e+000,  0.000e+000,  0.000e+000,  0.000e+000],\n         [ 0.000e+000,  0.000e+000,  0.000e+000,  0.000e+000]],\n\n        [[ 0.000e+000, -0.000e+000,  0.000e+000,  0.000e+000],\n         [-0.000e+000,  0.000e+000,  0.000e+000, -0.000e+000],\n         [ 0.000e+000,  0.000e+000,  7.747e-069, -1.042e-084],\n         [ 0.000e+000, -0.000e+000, -1.042e-084,  4.274e-074]],\n\n        [[ 0.000e+000, -0.000e+000,  0.000e+000, -0.000e+000],\n         [-0.000e+000,  2.672e-065, -0.000e+000,  0.000e+000],\n         [ 0.000e+000, -0.000e+000,  0.000e+000, -0.000e+000],\n         [-0.000e+000,  0.000e+000, -0.000e+000,  1.475e-008]],\n\n        ...,\n\n        [[ 0.000e+000, -0.000e+000,  0.000e+000,  0.000e+000],\n         [-0.000e+000,  0.000e+000,  0.000e+000, -0.000e+000],\n         [ 0.000e+000,  0.000e+000,  0.000e+000, -0.000e+000],\n         [ 0.000e+000, -0.000e+000, -0.000e+000,  0.000e+000]],\n\n        [[ 0.000e+000, -0.000e+000,  0.000e+000,  0.000e+000],\n         [-0.000e+000,  0.000e+000,  0.000e+000,  0.000e+000],\n         [ 0.000e+000,  0.000e+000,  0.000e+000,  0.000e+000],\n         [ 0.000e+000,  0.000e+000,  0.000e+000,  0.000e+000]],\n\n        [[ 1.034e-069, -0.000e+000, -0.000e+000,  0.000e+000],\n         [-0.000e+000,  0.000e+000,  0.000e+000,  0.000e+000],\n         [-0.000e+000,  0.000e+000,  0.000e+000, -0.000e+000],\n         [ 0.000e+000,  0.000e+000, -0.000e+000,  0.000e+000]]],\n\n\n       [[[ 0.000e+000,  0.000e+000,  0.000e+000,  0.000e+000],\n         [ 0.000e+000,  0.000e+000,  0.000e+000,  0.000e+000],\n         [ 0.000e+000,  0.000e+000,  0.000e+000,  0.000e+000],\n         [ 0.000e+000,  0.000e+000,  0.000e+000,  0.000e+000]],\n\n        [[ 0.000e+000,  0.000e+000,  0.000e+000,  0.000e+000],\n         [ 0.000e+000,  0.000e+000,  0.000e+000,  0.000e+000],\n         [ 0.000e+000,  0.000e+000,  0.000e+000,  0.000e+000],\n         [ 0.000e+000,  0.000e+000,  0.000e+000,  0.000e+000]],\n\n        [[ 0.000e+000,  0.000e+000, -0.000e+000, -0.000e+000],\n         [ 0.000e+000,  0.000e+000, -0.000e+000,  0.000e+000],\n         [-0.000e+000, -0.000e+000,  0.000e+000,  0.000e+000],\n         [-0.000e+000,  0.000e+000,  0.000e+000,  0.000e+000]],\n\n        ...,\n\n        [[ 0.000e+000,  0.000e+000, -0.000e+000,  0.000e+000],\n         [ 0.000e+000,  0.000e+000,  0.000e+000, -0.000e+000],\n         [-0.000e+000,  0.000e+000,  0.000e+000,  0.000e+000],\n         [ 0.000e+000, -0.000e+000,  0.000e+000,  0.000e+000]],\n\n        [[ 0.000e+000, -0.000e+000,  0.000e+000,  0.000e+000],\n         [-0.000e+000,  0.000e+000,  0.000e+000,  0.000e+000],\n         [ 0.000e+000,  0.000e+000,  0.000e+000,  0.000e+000],\n         [ 0.000e+000,  0.000e+000,  0.000e+000,  0.000e+000]],\n\n        [[ 9.510e-124, -0.000e+000, -0.000e+000,  0.000e+000],\n         [-0.000e+000,  0.000e+000,  0.000e+000,  0.000e+000],\n         [-0.000e+000,  0.000e+000,  0.000e+000,  0.000e+000],\n         [ 0.000e+000,  0.000e+000,  0.000e+000,  0.000e+000]]]]), 10, 4",
     "output_type": "error",
     "traceback": [
      "\u001b[0;31m---------------------------------------------------------------------------\u001b[0m",
      "\u001b[0;31mTypeError\u001b[0m                                 Traceback (most recent call last)",
      "\u001b[0;32m<ipython-input-20-da1d80fe3309>\u001b[0m in \u001b[0;36m<module>\u001b[0;34m\u001b[0m\n\u001b[0;32m----> 1\u001b[0;31m \u001b[0mccd0\u001b[0m\u001b[0;34m(\u001b[0m\u001b[0menvironment\u001b[0m\u001b[0;34m)\u001b[0m\u001b[0;34m\u001b[0m\u001b[0;34m\u001b[0m\u001b[0m\n\u001b[0m",
      "\u001b[0;32m<ipython-input-18-c46b28a41916>\u001b[0m in \u001b[0;36mccd0\u001b[0;34m(environment)\u001b[0m\n\u001b[1;32m     12\u001b[0m \u001b[0;34m\u001b[0m\u001b[0m\n\u001b[1;32m     13\u001b[0m     \u001b[0mnew_t2_amplitudes\u001b[0m \u001b[0;34m=\u001b[0m \u001b[0;36m0.5\u001b[0m \u001b[0;34m*\u001b[0m \u001b[0mt2_amplitudes\u001b[0m \u001b[0;34m*\u001b[0m \u001b[0mt2_amplitudes\u001b[0m\u001b[0;34m.\u001b[0m\u001b[0mtranspose\u001b[0m\u001b[0;34m(\u001b[0m\u001b[0;36m0\u001b[0m\u001b[0;34m,\u001b[0m\u001b[0;36m1\u001b[0m\u001b[0;34m,\u001b[0m\u001b[0;36m3\u001b[0m\u001b[0;34m,\u001b[0m\u001b[0;36m2\u001b[0m\u001b[0;34m)\u001b[0m\u001b[0;34m\u001b[0m\u001b[0;34m\u001b[0m\u001b[0m\n\u001b[0;32m---> 14\u001b[0;31m     \u001b[0menvironment\u001b[0m\u001b[0;34m.\u001b[0m\u001b[0mreplace_current_t2_amplitudes\u001b[0m\u001b[0;34m(\u001b[0m\u001b[0mnew_t2_amplitudes\u001b[0m\u001b[0;34m,\u001b[0m \u001b[0mdim\u001b[0m\u001b[0;34m[\u001b[0m\u001b[0;36m0\u001b[0m\u001b[0;34m]\u001b[0m\u001b[0;34m,\u001b[0m \u001b[0mdim\u001b[0m\u001b[0;34m[\u001b[0m\u001b[0;36m2\u001b[0m\u001b[0;34m]\u001b[0m\u001b[0;34m)\u001b[0m\u001b[0;34m\u001b[0m\u001b[0;34m\u001b[0m\u001b[0m\n\u001b[0m",
      "\u001b[0;31mTypeError\u001b[0m: replace_current_t2_amplitudes(): incompatible function arguments. The following argument types are supported:\n    1. (self: gqcpy.CCSDEnvironment, arg0: GQCP::T2Amplitudes<double>) -> None\n    2. (self: gqcpy.CCSDEnvironment, arg0: Eigen::Tensor<double, 4, 0, long>, arg1: int, arg2: int) -> None\n\nInvoked with: <gqcpy.CCSDEnvironment object at 0x11effee70>, array([[[[ 0.000e+000,  1.496e-058,  0.000e+000, -8.049e-041],\n         [ 1.496e-058,  0.000e+000,  0.000e+000, -0.000e+000],\n         [ 0.000e+000,  0.000e+000,  1.826e-043, -0.000e+000],\n         [-8.049e-041, -0.000e+000, -0.000e+000,  0.000e+000]],\n\n        [[ 3.138e-073,  0.000e+000,  0.000e+000, -0.000e+000],\n         [ 0.000e+000,  0.000e+000,  0.000e+000,  0.000e+000],\n         [ 0.000e+000,  0.000e+000,  0.000e+000,  0.000e+000],\n         [-0.000e+000,  0.000e+000,  0.000e+000,  0.000e+000]],\n\n        [[ 0.000e+000,  0.000e+000,  0.000e+000,  0.000e+000],\n         [ 0.000e+000,  0.000e+000,  0.000e+000,  0.000e+000],\n         [ 0.000e+000,  0.000e+000,  0.000e+000,  0.000e+000],\n         [ 0.000e+000,  0.000e+000,  0.000e+000,  0.000e+000]],\n\n        ...,\n\n        [[ 6.421e-009, -1.069e-032,  0.000e+000,  4.393e-019],\n         [-1.069e-032,  0.000e+000,  0.000e+000, -0.000e+000],\n         [ 0.000e+000,  0.000e+000,  2.396e-066, -6.924e-033],\n         [ 4.393e-019, -0.000e+000, -6.924e-033,  0.000e+000]],\n\n        [[ 0.000e+000,  0.000e+000, -0.000e+000,  0.000e+000],\n         [ 0.000e+000,  2.450e-008, -9.045e-033,  0.000e+000],\n         [-0.000e+000, -9.045e-033,  0.000e+000,  0.000e+000],\n         [ 0.000e+000,  0.000e+000,  0.000e+000,  1.026e-035]],\n\n        [[ 1.194e-035,  1.762e-034, -0.000e+000,  8.998e-032],\n         [ 1.762e-034,  0.000e+000,  0.000e+000,  0.000e+000],\n         [-0.000e+000,  0.000e+000,  1.528e-008, -1.647e-032],\n         [ 8.998e-032,  0.000e+000, -1.647e-032,  0.000e+000]]],\n\n\n       [[[ 1.135e-039,  1.227e-038, -0.000e+000, -2.253e-021],\n         [ 1.227e-038,  0.000e+000,  0.000e+000, -0.000e+000],\n         [-0.000e+000,  0.000e+000,  4.741e-038, -4.602e-035],\n         [-2.253e-021, -0.000e+000, -4.602e-035,  0.000e+000]],\n\n        [[ 1.375e-038, -3.836e-036,  0.000e+000,  0.000e+000],\n         [-3.836e-036,  0.000e+000,  0.000e+000,  0.000e+000],\n         [ 0.000e+000,  0.000e+000,  0.000e+000,  0.000e+000],\n         [ 0.000e+000,  0.000e+000,  0.000e+000,  0.000e+000]],\n\n        [[ 0.000e+000,  0.000e+000,  0.000e+000,  0.000e+000],\n         [ 0.000e+000,  0.000e+000,  0.000e+000,  0.000e+000],\n         [ 0.000e+000,  0.000e+000,  0.000e+000,  0.000e+000],\n         [ 0.000e+000,  0.000e+000,  0.000e+000,  0.000e+000]],\n\n        ...,\n\n        [[ 1.115e-035,  3.245e-033,  0.000e+000, -7.670e-048],\n         [ 3.245e-033,  0.000e+000,  0.000e+000,  0.000e+000],\n         [ 0.000e+000,  0.000e+000,  9.121e-039,  1.300e-034],\n         [-7.670e-048,  0.000e+000,  1.300e-034,  0.000e+000]],\n\n        [[ 0.000e+000,  0.000e+000,  0.000e+000,  0.000e+000],\n         [ 0.000e+000,  1.113e-038,  7.308e-033,  0.000e+000],\n         [ 0.000e+000,  7.308e-033,  0.000e+000,  0.000e+000],\n         [ 0.000e+000,  0.000e+000,  0.000e+000,  8.446e-008]],\n\n        [[ 2.757e-007,  1.569e-033,  0.000e+000,  1.717e-004],\n         [ 1.569e-033,  0.000e+000,  0.000e+000, -0.000e+000],\n         [ 0.000e+000,  0.000e+000,  7.606e-038,  7.343e-033],\n         [ 1.717e-004, -0.000e+000,  7.343e-033,  0.000e+000]]],\n\n\n       [[[ 0.000e+000,  0.000e+000, -0.000e+000,  0.000e+000],\n         [ 0.000e+000,  1.381e-007, -3.975e-037,  0.000e+000],\n         [-0.000e+000, -3.975e-037,  0.000e+000,  0.000e+000],\n         [ 0.000e+000,  0.000e+000,  0.000e+000,  6.519e-008]],\n\n        [[ 0.000e+000,  0.000e+000, -0.000e+000, -0.000e+000],\n         [ 0.000e+000,  2.354e-066, -6.905e-033, -6.475e-022],\n         [-0.000e+000, -6.905e-033,  1.381e-007, -3.938e-037],\n         [-0.000e+000, -6.475e-022, -3.938e-037,  0.000e+000]],\n\n        [[ 6.421e-009, -1.070e-032, -0.000e+000,  4.393e-019],\n         [-1.070e-032,  0.000e+000,  0.000e+000,  0.000e+000],\n         [-0.000e+000,  0.000e+000,  2.398e-066, -6.921e-033],\n         [ 4.393e-019,  0.000e+000, -6.921e-033,  0.000e+000]],\n\n        ...,\n\n        [[ 0.000e+000,  0.000e+000,  0.000e+000,  0.000e+000],\n         [ 0.000e+000,  7.834e-043,  3.484e-068, -0.000e+000],\n         [ 0.000e+000,  3.484e-068,  0.000e+000,  0.000e+000],\n         [ 0.000e+000, -0.000e+000,  0.000e+000,  3.138e-073]],\n\n        [[ 0.000e+000,  0.000e+000,  0.000e+000,  0.000e+000],\n         [ 0.000e+000,  0.000e+000,  0.000e+000,  0.000e+000],\n         [ 0.000e+000,  0.000e+000,  0.000e+000,  0.000e+000],\n         [ 0.000e+000,  0.000e+000,  0.000e+000,  0.000e+000]],\n\n        [[ 0.000e+000,  0.000e+000,  0.000e+000,  0.000e+000],\n         [ 0.000e+000,  4.174e-038, -4.466e-035,  0.000e+000],\n         [ 0.000e+000, -4.466e-035,  0.000e+000,  0.000e+000],\n         [ 0.000e+000,  0.000e+000,  0.000e+000,  7.847e-008]]],\n\n\n       ...,\n\n\n       [[[ 5.780e-067, -0.000e+000, -0.000e+000, -0.000e+000],\n         [-0.000e+000,  0.000e+000, -0.000e+000,  0.000e+000],\n         [-0.000e+000, -0.000e+000,  4.499e-069,  0.000e+000],\n         [-0.000e+000,  0.000e+000,  0.000e+000,  0.000e+000]],\n\n        [[ 0.000e+000, -0.000e+000,  0.000e+000,  0.000e+000],\n         [-0.000e+000,  0.000e+000,  0.000e+000, -0.000e+000],\n         [ 0.000e+000,  0.000e+000,  2.381e-065, -4.473e-029],\n         [ 0.000e+000, -0.000e+000, -4.473e-029,  7.760e-074]],\n\n        [[ 0.000e+000, -0.000e+000, -0.000e+000,  0.000e+000],\n         [-0.000e+000,  4.091e-065,  0.000e+000,  0.000e+000],\n         [-0.000e+000,  0.000e+000,  0.000e+000, -0.000e+000],\n         [ 0.000e+000,  0.000e+000, -0.000e+000,  4.048e-063]],\n\n        ...,\n\n        [[ 0.000e+000,  0.000e+000,  0.000e+000, -0.000e+000],\n         [ 0.000e+000,  0.000e+000, -0.000e+000,  0.000e+000],\n         [ 0.000e+000, -0.000e+000,  2.384e-065, -4.473e-029],\n         [-0.000e+000,  0.000e+000, -4.473e-029,  7.754e-074]],\n\n        [[ 0.000e+000,  0.000e+000, -0.000e+000, -0.000e+000],\n         [ 0.000e+000,  1.362e-064, -0.000e+000,  0.000e+000],\n         [-0.000e+000, -0.000e+000,  0.000e+000,  0.000e+000],\n         [-0.000e+000,  0.000e+000,  0.000e+000,  4.012e-063]],\n\n        [[ 0.000e+000,  0.000e+000,  0.000e+000,  0.000e+000],\n         [ 0.000e+000,  0.000e+000,  0.000e+000,  0.000e+000],\n         [ 0.000e+000,  0.000e+000,  0.000e+000,  0.000e+000],\n         [ 0.000e+000,  0.000e+000,  0.000e+000,  0.000e+000]]],\n\n\n       [[[ 0.000e+000,  0.000e+000,  0.000e+000,  0.000e+000],\n         [ 0.000e+000,  0.000e+000,  0.000e+000,  0.000e+000],\n         [ 0.000e+000,  0.000e+000,  0.000e+000,  0.000e+000],\n         [ 0.000e+000,  0.000e+000,  0.000e+000,  0.000e+000]],\n\n        [[ 0.000e+000, -0.000e+000,  0.000e+000,  0.000e+000],\n         [-0.000e+000,  0.000e+000,  0.000e+000, -0.000e+000],\n         [ 0.000e+000,  0.000e+000,  7.747e-069, -1.042e-084],\n         [ 0.000e+000, -0.000e+000, -1.042e-084,  4.274e-074]],\n\n        [[ 0.000e+000, -0.000e+000,  0.000e+000, -0.000e+000],\n         [-0.000e+000,  2.672e-065, -0.000e+000,  0.000e+000],\n         [ 0.000e+000, -0.000e+000,  0.000e+000, -0.000e+000],\n         [-0.000e+000,  0.000e+000, -0.000e+000,  1.475e-008]],\n\n        ...,\n\n        [[ 0.000e+000, -0.000e+000,  0.000e+000,  0.000e+000],\n         [-0.000e+000,  0.000e+000,  0.000e+000, -0.000e+000],\n         [ 0.000e+000,  0.000e+000,  0.000e+000, -0.000e+000],\n         [ 0.000e+000, -0.000e+000, -0.000e+000,  0.000e+000]],\n\n        [[ 0.000e+000, -0.000e+000,  0.000e+000,  0.000e+000],\n         [-0.000e+000,  0.000e+000,  0.000e+000,  0.000e+000],\n         [ 0.000e+000,  0.000e+000,  0.000e+000,  0.000e+000],\n         [ 0.000e+000,  0.000e+000,  0.000e+000,  0.000e+000]],\n\n        [[ 1.034e-069, -0.000e+000, -0.000e+000,  0.000e+000],\n         [-0.000e+000,  0.000e+000,  0.000e+000,  0.000e+000],\n         [-0.000e+000,  0.000e+000,  0.000e+000, -0.000e+000],\n         [ 0.000e+000,  0.000e+000, -0.000e+000,  0.000e+000]]],\n\n\n       [[[ 0.000e+000,  0.000e+000,  0.000e+000,  0.000e+000],\n         [ 0.000e+000,  0.000e+000,  0.000e+000,  0.000e+000],\n         [ 0.000e+000,  0.000e+000,  0.000e+000,  0.000e+000],\n         [ 0.000e+000,  0.000e+000,  0.000e+000,  0.000e+000]],\n\n        [[ 0.000e+000,  0.000e+000,  0.000e+000,  0.000e+000],\n         [ 0.000e+000,  0.000e+000,  0.000e+000,  0.000e+000],\n         [ 0.000e+000,  0.000e+000,  0.000e+000,  0.000e+000],\n         [ 0.000e+000,  0.000e+000,  0.000e+000,  0.000e+000]],\n\n        [[ 0.000e+000,  0.000e+000, -0.000e+000, -0.000e+000],\n         [ 0.000e+000,  0.000e+000, -0.000e+000,  0.000e+000],\n         [-0.000e+000, -0.000e+000,  0.000e+000,  0.000e+000],\n         [-0.000e+000,  0.000e+000,  0.000e+000,  0.000e+000]],\n\n        ...,\n\n        [[ 0.000e+000,  0.000e+000, -0.000e+000,  0.000e+000],\n         [ 0.000e+000,  0.000e+000,  0.000e+000, -0.000e+000],\n         [-0.000e+000,  0.000e+000,  0.000e+000,  0.000e+000],\n         [ 0.000e+000, -0.000e+000,  0.000e+000,  0.000e+000]],\n\n        [[ 0.000e+000, -0.000e+000,  0.000e+000,  0.000e+000],\n         [-0.000e+000,  0.000e+000,  0.000e+000,  0.000e+000],\n         [ 0.000e+000,  0.000e+000,  0.000e+000,  0.000e+000],\n         [ 0.000e+000,  0.000e+000,  0.000e+000,  0.000e+000]],\n\n        [[ 9.510e-124, -0.000e+000, -0.000e+000,  0.000e+000],\n         [-0.000e+000,  0.000e+000,  0.000e+000,  0.000e+000],\n         [-0.000e+000,  0.000e+000,  0.000e+000,  0.000e+000],\n         [ 0.000e+000,  0.000e+000,  0.000e+000,  0.000e+000]]]]), 10, 4"
     ]
    }
   ],
   "source": [
    "ccd0(environment)"
   ]
  },
  {
   "cell_type": "code",
   "execution_count": null,
   "metadata": {},
   "outputs": [],
   "source": []
  },
  {
   "cell_type": "code",
   "execution_count": null,
   "metadata": {},
   "outputs": [],
   "source": []
  }
 ],
 "metadata": {
  "kernelspec": {
   "display_name": "Python 3",
   "language": "python",
   "name": "python3"
  },
  "language_info": {
   "codemirror_mode": {
    "name": "ipython",
    "version": 3
   },
   "file_extension": ".py",
   "mimetype": "text/x-python",
   "name": "python",
   "nbconvert_exporter": "python",
   "pygments_lexer": "ipython3",
   "version": "3.7.7"
  }
 },
 "nbformat": 4,
 "nbformat_minor": 4
}
