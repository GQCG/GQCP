{
 "cells": [
  {
   "cell_type": "markdown",
   "metadata": {},
   "source": [
    "# CCD calculations"
   ]
  },
  {
   "cell_type": "code",
   "execution_count": 1,
   "metadata": {},
   "outputs": [],
   "source": [
    "# Force the local gqcpy to be imported\n",
    "import sys\n",
    "sys.path.insert(0, '../../build/gqcpy/')\n",
    "\n",
    "import gqcpy\n",
    "import numpy as np\n",
    "\n",
    "np.set_printoptions(precision=3, linewidth=120)"
   ]
  },
  {
   "cell_type": "markdown",
   "metadata": {},
   "source": [
    "## CCD calculations on H2O // STO-3G"
   ]
  },
  {
   "cell_type": "code",
   "execution_count": 2,
   "metadata": {},
   "outputs": [
    {
     "name": "stdout",
     "output_type": "stream",
     "text": [
      "Number of electrons: 10\n",
      "O  (0, -0.143226, 0)\n",
      "H  (1.63804, 1.13655, -0)\n",
      "H  (-1.63804, 1.13655, -0)\n",
      "\n"
     ]
    }
   ],
   "source": [
    "molecule = gqcpy.Molecule.ReadXYZ(\"../../gqcp/tests/data/h2o_crawdad.xyz\")\n",
    "N = molecule.numberOfElectrons()\n",
    "N_P = N // 2\n",
    "\n",
    "print(molecule)"
   ]
  },
  {
   "cell_type": "markdown",
   "metadata": {},
   "source": [
    "The first task is to generate the RHF reference, so we'll do an RHF SCF calculation."
   ]
  },
  {
   "cell_type": "code",
   "execution_count": 3,
   "metadata": {},
   "outputs": [],
   "source": [
    "r_spinor_basis = gqcpy.RSpinorBasis(molecule, \"STO-3G\")\n",
    "K = r_spinor_basis.numberOfSpatialOrbitals()\n",
    "\n",
    "S = r_spinor_basis.quantizeOverlapOperator().parameters()"
   ]
  },
  {
   "cell_type": "code",
   "execution_count": 4,
   "metadata": {},
   "outputs": [],
   "source": [
    "sq_hamiltonian = gqcpy.SQHamiltonian.Molecular(r_spinor_basis, molecule)  # 'sq' for 'second-quantized'"
   ]
  },
  {
   "cell_type": "markdown",
   "metadata": {},
   "source": [
    "The current Hamiltionian is expressed in the non-orthogonal AO basis. This is exactly what we need to start an RHF calculation."
   ]
  },
  {
   "cell_type": "code",
   "execution_count": null,
   "metadata": {},
   "outputs": [],
   "source": [
    "environment = gqcpy.RHFSCFEnvironment.WithCoreGuess(N, sq_hamiltonian, S)\n",
    "solver = gqcpy.RHFSCFSolver.DIIS()\n",
    "\n",
    "objective = gqcpy.DiagonalRHFFockMatrixObjective(sq_hamiltonian)  # use the default threshold of 1.0e-08"
   ]
  },
  {
   "cell_type": "markdown",
   "metadata": {},
   "source": [
    "Using this objective makes sure that the optimized expansion coefficients yield a diagonal Fock matrix, so they will represent the canonical RHF spin-orbital basis."
   ]
  },
  {
   "cell_type": "code",
   "execution_count": null,
   "metadata": {},
   "outputs": [],
   "source": [
    "rhf_qc_structure = gqcpy.RHF.optimize(objective, solver, environment)"
   ]
  },
  {
   "cell_type": "code",
   "execution_count": null,
   "metadata": {},
   "outputs": [],
   "source": [
    "rhf_energy = rhf_qc_structure.groundStateEnergy() + gqcpy.Operator.NuclearRepulsion(molecule).value()\n",
    "print(rhf_energy)"
   ]
  },
  {
   "cell_type": "markdown",
   "metadata": {},
   "source": [
    "This is very much in line with `crawdad`'s results: `-74.942079928192`."
   ]
  },
  {
   "cell_type": "code",
   "execution_count": null,
   "metadata": {},
   "outputs": [],
   "source": [
    "rhf_parameters = rhf_qc_structure.groundStateParameters()\n",
    "C = rhf_parameters.coefficientMatrix()"
   ]
  },
  {
   "cell_type": "code",
   "execution_count": null,
   "metadata": {},
   "outputs": [],
   "source": [
    "r_spinor_basis.transform(C)  # now represents a restricted spin-orbital basis using the canonical RHF MOs"
   ]
  },
  {
   "cell_type": "markdown",
   "metadata": {},
   "source": [
    "Before continuing with the CCSD specifics, we must first prepare the molecular Hamiltonian in the correct spinor basis. Since we have implemented CCSD using general spinors, we should use a `GSpinorBasis`."
   ]
  },
  {
   "cell_type": "code",
   "execution_count": null,
   "metadata": {},
   "outputs": [],
   "source": [
    "g_spinor_basis = gqcpy.GSpinorBasis.FromRestricted(r_spinor_basis)  # represents a general spinor basis, based off the restricted canonical RHF MOs\n",
    "\n",
    "M = g_spinor_basis.numberOfSpinors()\n",
    "ghf_onv = gqcpy.SpinUnresolvedONV.GHF(M, N, rhf_parameters.spinOrbitalEnergiesBlocked())\n",
    "\n",
    "orbital_space = ghf_onv.orbitalSpace()\n",
    "print(orbital_space.description())"
   ]
  },
  {
   "cell_type": "markdown",
   "metadata": {},
   "source": [
    "CCSD is also implemented as a `QCMethod`. This means that we'll have to set up an environment and a particular solver."
   ]
  },
  {
   "cell_type": "code",
   "execution_count": null,
   "metadata": {},
   "outputs": [],
   "source": [
    "sq_hamiltonian = gqcpy.SQHamiltonian.Molecular(g_spinor_basis, molecule)"
   ]
  },
  {
   "cell_type": "code",
   "execution_count": null,
   "metadata": {},
   "outputs": [],
   "source": [
    "solver = gqcpy.CCDSolver.Plain()\n",
    "environment = gqcpy.CCSDEnvironment.PerturbativeCCD(sq_hamiltonian, orbital_space)"
   ]
  },
  {
   "cell_type": "markdown",
   "metadata": {},
   "source": [
    "Let's now proceed by actually optimizing the CCD wave function model. This may take a while if `gqcp` is built in Debug mode!"
   ]
  },
  {
   "cell_type": "code",
   "execution_count": null,
   "metadata": {},
   "outputs": [],
   "source": [
    "ccd_qc_structure = gqcpy.CCD.optimize(solver, environment)"
   ]
  },
  {
   "cell_type": "code",
   "execution_count": null,
   "metadata": {},
   "outputs": [],
   "source": [
    "ccd_correlation_energy = ccd_qc_structure.groundStateEnergy()\n",
    "print(ccd_correlation_energy)"
   ]
  },
  {
   "cell_type": "code",
   "execution_count": null,
   "metadata": {},
   "outputs": [],
   "source": []
  }
 ],
 "metadata": {
  "kernelspec": {
   "display_name": "Python 3",
   "language": "python",
   "name": "python3"
  },
  "language_info": {
   "codemirror_mode": {
    "name": "ipython",
    "version": 3
   },
   "file_extension": ".py",
   "mimetype": "text/x-python",
   "name": "python",
   "nbconvert_exporter": "python",
   "pygments_lexer": "ipython3",
   "version": "3.7.6"
  }
 },
 "nbformat": 4,
 "nbformat_minor": 4
}
