{
 "cells": [
  {
   "cell_type": "markdown",
   "metadata": {},
   "source": [
    "# CCD calculations"
   ]
  },
  {
   "cell_type": "code",
   "execution_count": 1,
   "metadata": {},
   "outputs": [],
   "source": [
    "import os\n",
    "\n",
    "os.environ['KMP_DUPLICATE_LIB_OK']='True'\n",
    "\n",
    "# Force the local gqcpy to be imported\n",
    "import sys\n",
    "sys.path.insert(0, '../../build/gqcpy/')\n",
    "\n",
    "import gqcpy\n",
    "import numpy as np\n",
    "\n",
    "np.set_printoptions(precision=3, linewidth=120, threshold=sys.maxsize)"
   ]
  },
  {
   "cell_type": "markdown",
   "metadata": {},
   "source": [
    "## CCD calculations on H2O // STO-3G"
   ]
  },
  {
   "cell_type": "code",
   "execution_count": 2,
   "metadata": {},
   "outputs": [
    {
     "name": "stdout",
     "output_type": "stream",
     "text": [
      "Number of electrons: 10\n",
      "O  (0, -0.143226, 0)\n",
      "H  (1.63804, 1.13655, -0)\n",
      "H  (-1.63804, 1.13655, -0)\n",
      "\n"
     ]
    }
   ],
   "source": [
    "molecule = gqcpy.Molecule.ReadXYZ(\"../../gqcp/tests/data/h2o_crawdad.xyz\")\n",
    "N = molecule.numberOfElectrons()\n",
    "N_P = N // 2\n",
    "\n",
    "print(molecule)"
   ]
  },
  {
   "cell_type": "markdown",
   "metadata": {},
   "source": [
    "The first task is to generate the RHF reference, so we'll do an RHF SCF calculation."
   ]
  },
  {
   "cell_type": "code",
   "execution_count": 3,
   "metadata": {},
   "outputs": [],
   "source": [
    "r_spinor_basis = gqcpy.RSpinorBasis(molecule, \"STO-3G\")\n",
    "K = r_spinor_basis.numberOfSpatialOrbitals()\n",
    "\n",
    "S = r_spinor_basis.quantizeOverlapOperator().parameters()"
   ]
  },
  {
   "cell_type": "code",
   "execution_count": 4,
   "metadata": {},
   "outputs": [],
   "source": [
    "sq_hamiltonian = gqcpy.SQHamiltonian.Molecular(r_spinor_basis, molecule)  # 'sq' for 'second-quantized'"
   ]
  },
  {
   "cell_type": "markdown",
   "metadata": {},
   "source": [
    "The current Hamiltionian is expressed in the non-orthogonal AO basis. This is exactly what we need to start an RHF calculation."
   ]
  },
  {
   "cell_type": "code",
   "execution_count": 5,
   "metadata": {},
   "outputs": [],
   "source": [
    "environment = gqcpy.RHFSCFEnvironment.WithCoreGuess(N, sq_hamiltonian, S)\n",
    "solver = gqcpy.RHFSCFSolver.DIIS()\n",
    "\n",
    "objective = gqcpy.DiagonalRHFFockMatrixObjective(sq_hamiltonian)  # use the default threshold of 1.0e-08"
   ]
  },
  {
   "cell_type": "markdown",
   "metadata": {},
   "source": [
    "Using this objective makes sure that the optimized expansion coefficients yield a diagonal Fock matrix, so they will represent the canonical RHF spin-orbital basis."
   ]
  },
  {
   "cell_type": "code",
   "execution_count": 6,
   "metadata": {},
   "outputs": [],
   "source": [
    "rhf_qc_structure = gqcpy.RHF.optimize(objective, solver, environment)"
   ]
  },
  {
   "cell_type": "code",
   "execution_count": 7,
   "metadata": {},
   "outputs": [
    {
     "name": "stdout",
     "output_type": "stream",
     "text": [
      "-74.94207992809503\n"
     ]
    }
   ],
   "source": [
    "rhf_energy = rhf_qc_structure.groundStateEnergy() + gqcpy.Operator.NuclearRepulsion(molecule).value()\n",
    "print(rhf_energy)"
   ]
  },
  {
   "cell_type": "markdown",
   "metadata": {},
   "source": [
    "This is very much in line with `crawdad`'s results: `-74.942079928192`."
   ]
  },
  {
   "cell_type": "code",
   "execution_count": 8,
   "metadata": {},
   "outputs": [],
   "source": [
    "rhf_parameters = rhf_qc_structure.groundStateParameters()\n",
    "C = rhf_parameters.coefficientMatrix()"
   ]
  },
  {
   "cell_type": "code",
   "execution_count": 9,
   "metadata": {},
   "outputs": [],
   "source": [
    "r_spinor_basis.transform(C)  # now represents a restricted spin-orbital basis using the canonical RHF MOs"
   ]
  },
  {
   "cell_type": "markdown",
   "metadata": {},
   "source": [
    "Before continuing with the CCSD specifics, we must first prepare the molecular Hamiltonian in the correct spinor basis. Since we have implemented CCSD using general spinors, we should use a `GSpinorBasis`."
   ]
  },
  {
   "cell_type": "code",
   "execution_count": 10,
   "metadata": {},
   "outputs": [
    {
     "name": "stdout",
     "output_type": "stream",
     "text": [
      "An orbital space with 14 orbitals.\n",
      "\n",
      "\tThe occupied orbital indices are: 0 1 2 3 4 7 8 9 10 11 \n",
      "\tThe active orbital indices are: \n",
      "\tThe virtual orbital indices are: 5 6 12 13 \n"
     ]
    }
   ],
   "source": [
    "g_spinor_basis = gqcpy.GSpinorBasis.FromRestricted(r_spinor_basis)  # represents a general spinor basis, based off the restricted canonical RHF MOs\n",
    "\n",
    "M = g_spinor_basis.numberOfSpinors()\n",
    "ghf_onv = gqcpy.SpinUnresolvedONV.GHF(M, N, rhf_parameters.spinOrbitalEnergiesBlocked())\n",
    "\n",
    "orbital_space = ghf_onv.orbitalSpace()\n",
    "print(orbital_space.description())"
   ]
  },
  {
   "cell_type": "markdown",
   "metadata": {},
   "source": [
    "CCD is also implemented as a `QCMethod`. This means that we'll have to set up an environment and a particular solver."
   ]
  },
  {
   "cell_type": "code",
   "execution_count": 11,
   "metadata": {},
   "outputs": [],
   "source": [
    "sq_hamiltonian = gqcpy.SQHamiltonian.Molecular(g_spinor_basis, molecule)"
   ]
  },
  {
   "cell_type": "code",
   "execution_count": 12,
   "metadata": {},
   "outputs": [],
   "source": [
    "solver = gqcpy.CCDSolver.Plain()\n",
    "environment = gqcpy.CCSDEnvironment.PerturbativeCCD(sq_hamiltonian, orbital_space)"
   ]
  },
  {
   "cell_type": "code",
   "execution_count": 13,
   "metadata": {},
   "outputs": [],
   "source": [
    "def ccd0(environment):\n",
    "    t2_amplitudes = np.asfortranarray(environment.t2_amplitudes[-1].asArray())\n",
    "    orbital_space = environment.t2_amplitudes[-1].orbitalSpace()\n",
    "\n",
    "    dim = t2_amplitudes.shape\n",
    "    \n",
    "    #print(np.any(t2_amplitudes>1e+08))\n",
    "    \n",
    "    new_t2_amplitudes = t2_amplitudes #0.5 * (t2_amplitudes + t2_amplitudes.transpose(0,1,3,2))\n",
    "                    \n",
    "    environment.replace_current_t2_amplitudes(new_t2_amplitudes, orbital_space)"
   ]
  },
  {
   "cell_type": "code",
   "execution_count": 14,
   "metadata": {},
   "outputs": [],
   "source": [
    "CCD0_step = gqcpy.FunctionalStep_CCSDEnvironment(ccd0, description=\"Include the CCD0 step in the CCD algorithm.\")\n",
    "solver.insert(CCD0_step, 2)"
   ]
  },
  {
   "cell_type": "code",
   "execution_count": 15,
   "metadata": {},
   "outputs": [
    {
     "name": "stdout",
     "output_type": "stream",
     "text": [
      "An iterative algorithm (with a maximum of 128 iterations) consisting of the following steps:\n",
      "An algorithmic step consisting of 4 algorithmic steps:\n",
      "\t1. Calculate the current CCD intermediates as described in Stanton1991.\n",
      "\t2. Calculate the new T2-amplitudes using an update formula from the current T2-amplitudes.\n",
      "\t3. Include the CCD0 step in the CCD algorithm.\n",
      "\t4. Calculate the current CCD electronic correlation energy.\n",
      "\n",
      "With the following convergence criterion:\n",
      "A convergence criterion that checks if the norm of the difference of two iterates (the T2 amplitudes) is converged, with a tolerance of 1.00e-08.\n"
     ]
    }
   ],
   "source": [
    "print(solver.description())"
   ]
  },
  {
   "cell_type": "markdown",
   "metadata": {},
   "source": [
    "Let's now proceed by actually optimizing the CCD wave function model. This may take a while if gqcp is built in Debug mode!"
   ]
  },
  {
   "cell_type": "code",
   "execution_count": 16,
   "metadata": {},
   "outputs": [
    {
     "ename": "RuntimeError",
     "evalue": "IterativeAlgorithm<Environment>::perform(Environment&): The algorithm didn't find a solution within the maximum number of iterations.",
     "output_type": "error",
     "traceback": [
      "\u001b[0;31m---------------------------------------------------------------------------\u001b[0m",
      "\u001b[0;31mRuntimeError\u001b[0m                              Traceback (most recent call last)",
      "\u001b[0;32m<ipython-input-16-15d790a0b073>\u001b[0m in \u001b[0;36m<module>\u001b[0;34m\u001b[0m\n\u001b[0;32m----> 1\u001b[0;31m \u001b[0mccd0_qc_structure\u001b[0m \u001b[0;34m=\u001b[0m \u001b[0mgqcpy\u001b[0m\u001b[0;34m.\u001b[0m\u001b[0mCCD\u001b[0m\u001b[0;34m.\u001b[0m\u001b[0moptimize\u001b[0m\u001b[0;34m(\u001b[0m\u001b[0msolver\u001b[0m\u001b[0;34m,\u001b[0m \u001b[0menvironment\u001b[0m\u001b[0;34m)\u001b[0m\u001b[0;34m\u001b[0m\u001b[0;34m\u001b[0m\u001b[0m\n\u001b[0m",
      "\u001b[0;31mRuntimeError\u001b[0m: IterativeAlgorithm<Environment>::perform(Environment&): The algorithm didn't find a solution within the maximum number of iterations."
     ]
    }
   ],
   "source": [
    "ccd0_qc_structure = gqcpy.CCD.optimize(solver, environment)"
   ]
  },
  {
   "cell_type": "code",
   "execution_count": null,
   "metadata": {},
   "outputs": [],
   "source": [
    "ccd0_correlation_energy = ccd0_qc_structure.groundStateEnergy()\n",
    "print(ccd0_correlation_energy)"
   ]
  },
  {
   "cell_type": "code",
   "execution_count": null,
   "metadata": {},
   "outputs": [],
   "source": []
  }
 ],
 "metadata": {
  "kernelspec": {
   "display_name": "gqcp_dev",
   "language": "python",
   "name": "gqcp_dev"
  },
  "language_info": {
   "codemirror_mode": {
    "name": "ipython",
    "version": 3
   },
   "file_extension": ".py",
   "mimetype": "text/x-python",
   "name": "python",
   "nbconvert_exporter": "python",
   "pygments_lexer": "ipython3",
   "version": "3.7.7"
  }
 },
 "nbformat": 4,
 "nbformat_minor": 4
}
