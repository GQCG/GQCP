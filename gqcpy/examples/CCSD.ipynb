{
 "cells": [
  {
   "cell_type": "markdown",
   "metadata": {},
   "source": [
    "# CCSD calculations"
   ]
  },
  {
   "cell_type": "code",
   "execution_count": 1,
   "metadata": {},
   "outputs": [],
   "source": [
    "# Force the local gqcpy to be imported\n",
    "import sys\n",
    "sys.path.insert(0, '../../build/gqcpy/')\n",
    "\n",
    "import gqcpy\n",
    "import numpy as np\n",
    "\n",
    "np.set_printoptions(precision=3, linewidth=120)"
   ]
  },
  {
   "cell_type": "markdown",
   "metadata": {},
   "source": [
    "## CCSD calculations on H2O // STO-3G"
   ]
  },
  {
   "cell_type": "markdown",
   "metadata": {},
   "source": [
    "In this example, we will try to reproduce the [crawdad CCSD results](https://github.com/CrawfordGroup/ProgrammingProjects/tree/master/Project%2305)."
   ]
  },
  {
   "cell_type": "code",
   "execution_count": 2,
   "metadata": {},
   "outputs": [
    {
     "name": "stdout",
     "output_type": "stream",
     "text": [
      "Number of electrons: 10\n",
      "O  (0, -0.143226, 0)\n",
      "H  (1.63804, 1.13655, -0)\n",
      "H  (-1.63804, 1.13655, -0)\n",
      "\n"
     ]
    }
   ],
   "source": [
    "molecule = gqcpy.Molecule.ReadXYZ(\"../../gqcp/tests/data/h2o_crawdad.xyz\")\n",
    "N = molecule.numberOfElectrons()\n",
    "N_P = N // 2\n",
    "\n",
    "print(molecule)"
   ]
  },
  {
   "cell_type": "markdown",
   "metadata": {},
   "source": [
    "The first task is to generate the RHF reference, so we'll do an RHF SCF calculation."
   ]
  },
  {
   "cell_type": "code",
   "execution_count": 3,
   "metadata": {},
   "outputs": [],
   "source": [
    "r_spinor_basis = gqcpy.RSpinorBasis(molecule, \"STO-3G\")\n",
    "K = r_spinor_basis.numberOfSpatialOrbitals()\n",
    "\n",
    "S = r_spinor_basis.quantizeOverlapOperator().parameters()"
   ]
  },
  {
   "cell_type": "code",
   "execution_count": 4,
   "metadata": {},
   "outputs": [],
   "source": [
    "sq_hamiltonian = gqcpy.SQHamiltonian.Molecular(r_spinor_basis, molecule)  # 'sq' for 'second-quantized'"
   ]
  },
  {
   "cell_type": "markdown",
   "metadata": {},
   "source": [
    "The current Hamiltionian is expressed in the non-orthogonal AO basis. This is exactly what we need to start an RHF calculation."
   ]
  },
  {
   "cell_type": "code",
   "execution_count": 5,
   "metadata": {},
   "outputs": [],
   "source": [
    "environment = gqcpy.RHFSCFEnvironment.WithCoreGuess(N, sq_hamiltonian, S)\n",
    "solver = gqcpy.RHFSCFSolver.DIIS()\n",
    "\n",
    "objective = gqcpy.DiagonalRHFFockMatrixObjective(sq_hamiltonian)  # use the default threshold of 1.0e-08"
   ]
  },
  {
   "cell_type": "markdown",
   "metadata": {},
   "source": [
    "Using this objective makes sure that the optimized expansion coefficients yield a diagonal Fock matrix, so they will represent the canonical RHF spin-orbital basis."
   ]
  },
  {
   "cell_type": "code",
   "execution_count": 6,
   "metadata": {},
   "outputs": [],
   "source": [
    "rhf_qc_structure = gqcpy.RHF.optimize(objective, solver, environment)"
   ]
  },
  {
   "cell_type": "code",
   "execution_count": 7,
   "metadata": {},
   "outputs": [
    {
     "name": "stdout",
     "output_type": "stream",
     "text": [
      "-74.94207992809503\n"
     ]
    }
   ],
   "source": [
    "rhf_energy = rhf_qc_structure.groundStateEnergy() + gqcpy.Operator.NuclearRepulsion(molecule).value()\n",
    "print(rhf_energy)"
   ]
  },
  {
   "cell_type": "markdown",
   "metadata": {},
   "source": [
    "This is very much in line with `crawdad`'s results: `-74.942079928192`."
   ]
  },
  {
   "cell_type": "code",
   "execution_count": 8,
   "metadata": {},
   "outputs": [],
   "source": [
    "rhf_parameters = rhf_qc_structure.groundStateParameters()\n",
    "C = rhf_parameters.coefficientMatrix()"
   ]
  },
  {
   "cell_type": "code",
   "execution_count": 9,
   "metadata": {},
   "outputs": [
    {
     "name": "stdout",
     "output_type": "stream",
     "text": [
      "[[-9.944e-01 -2.392e-01 -1.015e-16 -9.368e-02 -7.673e-31 -1.116e-01  1.124e-15]\n",
      " [-2.410e-02  8.857e-01  3.043e-16  4.796e-01  4.009e-30  6.696e-01 -6.628e-15]\n",
      " [ 2.823e-18 -2.214e-16  6.073e-01  1.899e-16 -1.615e-16  8.910e-15  9.192e-01]\n",
      " [-3.162e-03  8.590e-02 -9.437e-16 -7.474e-01 -6.656e-30  7.385e-01 -6.356e-15]\n",
      " [ 7.102e-34  4.221e-32  2.040e-16 -7.595e-30  1.000e+00 -1.161e-30 -8.229e-17]\n",
      " [ 4.594e-03  1.440e-01  4.530e-01 -3.295e-01  1.532e-16 -7.098e-01 -7.325e-01]\n",
      " [ 4.594e-03  1.440e-01 -4.530e-01 -3.295e-01 -1.532e-16 -7.098e-01  7.325e-01]]\n"
     ]
    }
   ],
   "source": [
    "r_spinor_basis.transform(C)  # now represents a restricted spin-orbital basis using the canonical RHF MOs\n",
    "print(r_spinor_basis.coefficientMatrix())"
   ]
  },
  {
   "cell_type": "code",
   "execution_count": 10,
   "metadata": {},
   "outputs": [
    {
     "name": "stdout",
     "output_type": "stream",
     "text": [
      "[[-3.256e+01 -5.683e-01 -2.307e-16 -2.095e-01 -1.645e-30 -2.563e-01  2.645e-15]\n",
      " [-5.683e-01 -7.564e+00 -1.013e-15 -5.223e-01 -3.186e-30 -1.220e+00  1.277e-14]\n",
      " [-1.756e-16 -1.402e-15 -6.018e+00 -2.304e-15 -1.316e-15 -1.488e-14 -1.767e+00]\n",
      " [-2.095e-01 -5.223e-01 -2.304e-15 -6.610e+00 -1.948e-30  1.306e+00 -1.030e-14]\n",
      " [-1.671e-30 -3.359e-30 -1.316e-15 -1.880e-30 -7.347e+00  3.045e-29  1.622e-15]\n",
      " [-2.563e-01 -1.220e+00 -1.527e-14  1.306e+00  3.035e-29 -5.291e+00 -4.996e-15]\n",
      " [ 2.690e-15  1.326e-14 -1.767e+00 -1.044e-14  1.622e-15 -4.996e-15 -5.513e+00]]\n"
     ]
    }
   ],
   "source": [
    "r_sq_hamiltonian = gqcpy.SQHamiltonian.Molecular(r_spinor_basis, molecule)\n",
    "print(r_sq_hamiltonian.core().parameters())"
   ]
  },
  {
   "cell_type": "markdown",
   "metadata": {},
   "source": [
    "Before continuing with the CCSD specifics, we must first prepare the molecular Hamiltonian in the correct spinor basis. Since we have implemented CCSD using general spinors, we should use a `GSpinorBasis`."
   ]
  },
  {
   "cell_type": "code",
   "execution_count": 11,
   "metadata": {},
   "outputs": [
    {
     "name": "stdout",
     "output_type": "stream",
     "text": [
      "[[-9.944e-01 -2.392e-01 -1.015e-16 -9.368e-02 -7.673e-31 -1.116e-01  1.124e-15  0.000e+00  0.000e+00  0.000e+00\n",
      "   0.000e+00  0.000e+00  0.000e+00  0.000e+00]\n",
      " [-2.410e-02  8.857e-01  3.043e-16  4.796e-01  4.009e-30  6.696e-01 -6.628e-15  0.000e+00  0.000e+00  0.000e+00\n",
      "   0.000e+00  0.000e+00  0.000e+00  0.000e+00]\n",
      " [ 2.823e-18 -2.214e-16  6.073e-01  1.899e-16 -1.615e-16  8.910e-15  9.192e-01  0.000e+00  0.000e+00  0.000e+00\n",
      "   0.000e+00  0.000e+00  0.000e+00  0.000e+00]\n",
      " [-3.162e-03  8.590e-02 -9.437e-16 -7.474e-01 -6.656e-30  7.385e-01 -6.356e-15  0.000e+00  0.000e+00  0.000e+00\n",
      "   0.000e+00  0.000e+00  0.000e+00  0.000e+00]\n",
      " [ 7.102e-34  4.221e-32  2.040e-16 -7.595e-30  1.000e+00 -1.161e-30 -8.229e-17  0.000e+00  0.000e+00  0.000e+00\n",
      "   0.000e+00  0.000e+00  0.000e+00  0.000e+00]\n",
      " [ 4.594e-03  1.440e-01  4.530e-01 -3.295e-01  1.532e-16 -7.098e-01 -7.325e-01  0.000e+00  0.000e+00  0.000e+00\n",
      "   0.000e+00  0.000e+00  0.000e+00  0.000e+00]\n",
      " [ 4.594e-03  1.440e-01 -4.530e-01 -3.295e-01 -1.532e-16 -7.098e-01  7.325e-01  0.000e+00  0.000e+00  0.000e+00\n",
      "   0.000e+00  0.000e+00  0.000e+00  0.000e+00]\n",
      " [ 0.000e+00  0.000e+00  0.000e+00  0.000e+00  0.000e+00  0.000e+00  0.000e+00 -9.944e-01 -2.392e-01 -1.015e-16\n",
      "  -9.368e-02 -7.673e-31 -1.116e-01  1.124e-15]\n",
      " [ 0.000e+00  0.000e+00  0.000e+00  0.000e+00  0.000e+00  0.000e+00  0.000e+00 -2.410e-02  8.857e-01  3.043e-16\n",
      "   4.796e-01  4.009e-30  6.696e-01 -6.628e-15]\n",
      " [ 0.000e+00  0.000e+00  0.000e+00  0.000e+00  0.000e+00  0.000e+00  0.000e+00  2.823e-18 -2.214e-16  6.073e-01\n",
      "   1.899e-16 -1.615e-16  8.910e-15  9.192e-01]\n",
      " [ 0.000e+00  0.000e+00  0.000e+00  0.000e+00  0.000e+00  0.000e+00  0.000e+00 -3.162e-03  8.590e-02 -9.437e-16\n",
      "  -7.474e-01 -6.656e-30  7.385e-01 -6.356e-15]\n",
      " [ 0.000e+00  0.000e+00  0.000e+00  0.000e+00  0.000e+00  0.000e+00  0.000e+00  7.102e-34  4.221e-32  2.040e-16\n",
      "  -7.595e-30  1.000e+00 -1.161e-30 -8.229e-17]\n",
      " [ 0.000e+00  0.000e+00  0.000e+00  0.000e+00  0.000e+00  0.000e+00  0.000e+00  4.594e-03  1.440e-01  4.530e-01\n",
      "  -3.295e-01  1.532e-16 -7.098e-01 -7.325e-01]\n",
      " [ 0.000e+00  0.000e+00  0.000e+00  0.000e+00  0.000e+00  0.000e+00  0.000e+00  4.594e-03  1.440e-01 -4.530e-01\n",
      "  -3.295e-01 -1.532e-16 -7.098e-01  7.325e-01]]\n"
     ]
    }
   ],
   "source": [
    "g_spinor_basis = gqcpy.GSpinorBasis.FromRestricted(r_spinor_basis)  # represents a general spinor basis, based off the restricted canonical RHF MOs\n",
    "print(g_spinor_basis.coefficientMatrix())"
   ]
  },
  {
   "cell_type": "markdown",
   "metadata": {},
   "source": [
    "We should note that the ordering of the MOs in this spinor basis is not by ascending energy, but they are ordered alphas first and then all betas.\n",
    "\n",
    "For H2O, we have 10 electrons, so this means we shouldn't occupy the first 10 spinors (since that would correspond to occupying all alpha-spin-orbitals and then 3 beta-spin-orbitals), but we should occupy the first 5 alpha spin-orbitals and the first 5 beta-spin-orbitals."
   ]
  },
  {
   "cell_type": "markdown",
   "metadata": {},
   "source": [
    "This issue is circumvented by constructing an `OrbitalSpace`, which takes care of setting up the occupied and virtual orbital spaces. We don't have to construct this `OrbitalSpace` by hand: GQCP provides an API through the creation of the 'GHF' reference ONV."
   ]
  },
  {
   "cell_type": "code",
   "execution_count": 12,
   "metadata": {},
   "outputs": [],
   "source": [
    "M = g_spinor_basis.numberOfSpinors()\n",
    "ghf_onv = gqcpy.SpinUnresolvedONV.GHF(M, N, rhf_parameters.spinOrbitalEnergiesBlocked())\n",
    "\n",
    "orbital_space = ghf_onv.orbitalSpace()"
   ]
  },
  {
   "cell_type": "code",
   "execution_count": 13,
   "metadata": {},
   "outputs": [
    {
     "name": "stdout",
     "output_type": "stream",
     "text": [
      "An orbital space with 14 orbitals.\n",
      "\n",
      "\tThe occupied orbital indices are: 0 1 2 3 4 7 8 9 10 11 \n",
      "\tThe active orbital indices are: \n",
      "\tThe virtual orbital indices are: 5 6 12 13 \n"
     ]
    }
   ],
   "source": [
    "print(orbital_space.description())"
   ]
  },
  {
   "cell_type": "markdown",
   "metadata": {},
   "source": [
    "CCSD is also implemented as a `QCMethod`. This means that we'll have to set up an environment and a particular solver."
   ]
  },
  {
   "cell_type": "code",
   "execution_count": 14,
   "metadata": {},
   "outputs": [],
   "source": [
    "sq_hamiltonian = gqcpy.SQHamiltonian.Molecular(g_spinor_basis, molecule)"
   ]
  },
  {
   "cell_type": "code",
   "execution_count": 15,
   "metadata": {},
   "outputs": [],
   "source": [
    "solver = gqcpy.CCSDSolver.Plain()\n",
    "environment = gqcpy.CCSDEnvironment.PerturbativeCCSD(sq_hamiltonian, orbital_space)"
   ]
  },
  {
   "cell_type": "markdown",
   "metadata": {},
   "source": [
    "It's interesting to see that the initial, perturbative, T1 amplitudes are zero, which is a direct consequence of Brillouin's theorem: the occupied-virtual block of the Fock(ian) matrix is zero!"
   ]
  },
  {
   "cell_type": "code",
   "execution_count": 16,
   "metadata": {
    "scrolled": true
   },
   "outputs": [
    {
     "name": "stdout",
     "output_type": "stream",
     "text": [
      "[[-5.697e-15 -6.325e-19 -0.000e+00 -0.000e+00]\n",
      " [-1.099e-13  4.264e-17 -0.000e+00 -0.000e+00]\n",
      " [-4.091e-16 -4.681e-13 -0.000e+00 -0.000e+00]\n",
      " [ 4.831e-13 -2.095e-16 -0.000e+00 -0.000e+00]\n",
      " [-5.365e-31  8.638e-18 -0.000e+00 -0.000e+00]\n",
      " [-0.000e+00 -0.000e+00 -5.698e-15 -6.325e-19]\n",
      " [-0.000e+00 -0.000e+00 -1.098e-13 -2.198e-16]\n",
      " [-0.000e+00 -0.000e+00 -3.685e-16 -4.688e-13]\n",
      " [-0.000e+00 -0.000e+00  4.834e-13 -2.637e-16]\n",
      " [-0.000e+00 -0.000e+00 -5.008e-31  8.638e-18]]\n"
     ]
    }
   ],
   "source": [
    "print(environment.t1_amplitudes[-1].asMatrix())"
   ]
  },
  {
   "cell_type": "markdown",
   "metadata": {},
   "source": [
    "The initial T2-amplitudes are actually the MP2 T2-amplitudes, so the initial CCSD correlation energy is the MP2 correlation energy. Crawdad reports a value of `-0.049149636120`."
   ]
  },
  {
   "cell_type": "code",
   "execution_count": 17,
   "metadata": {},
   "outputs": [
    {
     "name": "stdout",
     "output_type": "stream",
     "text": [
      "-0.049149636149434954\n"
     ]
    }
   ],
   "source": [
    "print(environment.electronic_energies[-1])"
   ]
  },
  {
   "cell_type": "markdown",
   "metadata": {},
   "source": [
    "Let's now proceed by actually optimizing the CCSD wave function model. This may take a while if `gqcp` is built in Debug mode!"
   ]
  },
  {
   "cell_type": "code",
   "execution_count": 18,
   "metadata": {},
   "outputs": [],
   "source": [
    "ccsd_qc_structure = gqcpy.CCSD.optimize(solver, environment)"
   ]
  },
  {
   "cell_type": "markdown",
   "metadata": {},
   "source": [
    "Crawdad lists a converged CCSD energy as: `-0.070680088376`."
   ]
  },
  {
   "cell_type": "code",
   "execution_count": 19,
   "metadata": {},
   "outputs": [
    {
     "name": "stdout",
     "output_type": "stream",
     "text": [
      "-0.07068008793712947\n"
     ]
    }
   ],
   "source": [
    "ccsd_correlation_energy = ccsd_qc_structure.groundStateEnergy()\n",
    "print(ccsd_correlation_energy)"
   ]
  }
 ],
 "metadata": {
  "kernelspec": {
   "display_name": "Python 3",
   "language": "python",
   "name": "python3"
  },
  "language_info": {
   "codemirror_mode": {
    "name": "ipython",
    "version": 3
   },
   "file_extension": ".py",
   "mimetype": "text/x-python",
   "name": "python",
   "nbconvert_exporter": "python",
   "pygments_lexer": "ipython3",
   "version": "3.7.7"
  }
 },
 "nbformat": 4,
 "nbformat_minor": 4
}
