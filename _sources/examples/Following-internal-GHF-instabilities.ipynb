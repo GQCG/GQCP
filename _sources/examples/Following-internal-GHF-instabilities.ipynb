{
 "cells": [
  {
   "cell_type": "markdown",
   "source": [
    "# Following internal instabilities in GHF"
   ],
   "metadata": {}
  },
  {
   "cell_type": "markdown",
   "source": [
    "## Import gqcpy and numpy"
   ],
   "metadata": {}
  },
  {
   "cell_type": "code",
   "execution_count": 1,
   "source": [
    "# Force the local gqcpy to be imported\n",
    "import sys\n",
    "sys.path.insert(0, '../../build/gqcpy/')\n",
    "\n",
    "import gqcpy\n",
    "import numpy as np\n",
    "from scipy import linalg as la"
   ],
   "outputs": [],
   "metadata": {}
  },
  {
   "cell_type": "markdown",
   "source": [
    "## Define a function to perform a GHF calculation"
   ],
   "metadata": {}
  },
  {
   "cell_type": "code",
   "execution_count": 2,
   "source": [
    "def GHF_calculation(molecule, basis_set='STO-3G', guess=None):\n",
    "    N = H3.numberOfElectrons()\n",
    "    basis = gqcpy.GSpinorBasis_d(H3, basis_set)\n",
    "    S = basis.quantize(gqcpy.OverlapOperator())\n",
    "\n",
    "    fq_hamiltonian = gqcpy.FQMolecularHamiltonian(molecule)\n",
    "    gsq_hamiltonian = basis.quantize(fq_hamiltonian)\n",
    "\n",
    "    if guess == None:\n",
    "        environment = gqcpy.GHFSCFEnvironment_d.WithCoreGuess(N, gsq_hamiltonian, S) \n",
    "    else:\n",
    "        environment = gqcpy.GHFSCFEnvironment_d(N, gsq_hamiltonian, S, guess)\n",
    "\n",
    "    solver = gqcpy.GHFSCFSolver_d.Plain(1.0e-08, 4000)\n",
    "    qc_structure = gqcpy.GHF_d.optimize(solver, environment)\n",
    "    \n",
    "    nuc_rep = gqcpy.NuclearRepulsionOperator(molecule.nuclearFramework()).value()\n",
    "    print(qc_structure.groundStateEnergy() + nuc_rep)\n",
    "    \n",
    "    return qc_structure"
   ],
   "outputs": [],
   "metadata": {}
  },
  {
   "cell_type": "markdown",
   "source": [
    "## Create a molecule and run the initial GHF calculation"
   ],
   "metadata": {}
  },
  {
   "cell_type": "code",
   "execution_count": 3,
   "source": [
    "H3 = gqcpy.Molecule.HRingFromDistance(3, 1.889, 0)\n"
   ],
   "outputs": [],
   "metadata": {}
  },
  {
   "cell_type": "code",
   "execution_count": 4,
   "source": [
    "GHF_model = GHF_calculation(H3).parameters()\n"
   ],
   "outputs": [
    {
     "output_type": "stream",
     "name": "stdout",
     "text": [
      "-1.3358471594598837\n"
     ]
    }
   ],
   "metadata": {}
  },
  {
   "cell_type": "markdown",
   "source": [
    "## Run a stability check"
   ],
   "metadata": {}
  },
  {
   "cell_type": "code",
   "execution_count": 5,
   "source": [
    "generalized_basis = gqcpy.GSpinorBasis_d(H3, 'STO-3G')\n",
    "fq_hamiltonian = gqcpy.FQMolecularHamiltonian(H3)\n",
    "gsq_hamiltonian_mo = generalized_basis.quantize(fq_hamiltonian).transformed(GHF_model.expansion())\n",
    "generalized_stability_matrices = GHF_model.calculateStabilityMatrices(gsq_hamiltonian_mo)"
   ],
   "outputs": [],
   "metadata": {}
  },
  {
   "cell_type": "code",
   "execution_count": 6,
   "source": [
    "generalized_stability_matrices.printStabilityDescription()"
   ],
   "outputs": [
    {
     "output_type": "stream",
     "name": "stdout",
     "text": [
      "The real valued GHF wavefunction contains an internal instability.\n",
      "The real valued GHF wavefunction contains a real->complex external instability.\n"
     ]
    }
   ],
   "metadata": {}
  },
  {
   "cell_type": "markdown",
   "source": [
    "## Follow the internal instability"
   ],
   "metadata": {}
  },
  {
   "cell_type": "code",
   "execution_count": 7,
   "source": [
    "def calculateNewGuess(GHF_stability_matrices, GHF_QC_Model):\n",
    "\n",
    "    # The real GHF stability matrix consists of the sum of the A and B submatrices.\n",
    "    Stability_matrix = GHF_stability_matrices.subMatrixA() + GHF_stability_matrices.subMatrixB()\n",
    "\n",
    "    # diagonalize the stability matrix\n",
    "    eigenvalues, eigenvectors = np.linalg.eigh(Stability_matrix)\n",
    "\n",
    "    # Extract the lowest eigenvector\n",
    "    lowest_eigenvector = eigenvectors[:, 0]\n",
    "\n",
    "    # Create the rotation matrix that rotates the coefficients to the lowest eigenvector\n",
    "    occupied_orbitals =  GHF_QC_Model.numberOfElectrons()\n",
    "    virtual_orbitals = int(len(GHF_QC_Model.expansion().matrix()[0]) - occupied_orbitals)\n",
    "    \n",
    "    K = np.zeros(((occupied_orbitals + virtual_orbitals), (occupied_orbitals + virtual_orbitals)))\n",
    " \n",
    "    lowest_eigenvector = lowest_eigenvector.reshape((occupied_orbitals, virtual_orbitals))\n",
    "\n",
    "    K[occupied_orbitals:, :occupied_orbitals] = -1 * lowest_eigenvector.T.conjugate()\n",
    "    K[:occupied_orbitals, occupied_orbitals:] = lowest_eigenvector\n",
    "\n",
    "    rotated_coefficients = GHF_QC_Model.expansion().matrix() @ la.expm(-K)\n",
    "\n",
    "    return gqcpy.GTransformation_d(rotated_coefficients)"
   ],
   "outputs": [],
   "metadata": {}
  },
  {
   "cell_type": "markdown",
   "source": [
    "## Set up a new guess by rotating the old one to the lowest eigenvector of the Hessian"
   ],
   "metadata": {}
  },
  {
   "cell_type": "code",
   "execution_count": 8,
   "source": [
    "new_guess = calculateNewGuess(generalized_stability_matrices, GHF_model)"
   ],
   "outputs": [],
   "metadata": {}
  },
  {
   "cell_type": "markdown",
   "source": [
    "## Run a calculation with the new guess and check stability"
   ],
   "metadata": {}
  },
  {
   "cell_type": "code",
   "execution_count": 9,
   "source": [
    "GHF_model_rotated = GHF_calculation(H3, guess=new_guess).parameters()"
   ],
   "outputs": [
    {
     "output_type": "stream",
     "name": "stdout",
     "text": [
      "-1.3403026284286064\n"
     ]
    }
   ],
   "metadata": {}
  },
  {
   "cell_type": "code",
   "execution_count": 10,
   "source": [
    "generalized_basis_rotated = gqcpy.GSpinorBasis_d(H3, 'STO-3G')\n",
    "fq_hamiltonian_rotated = gqcpy.FQMolecularHamiltonian(H3)\n",
    "gsq_hamiltonian_mo_rotated = generalized_basis.quantize(fq_hamiltonian_rotated).transformed(GHF_model_rotated.expansion())\n",
    "generalized_stability_matrices_rotated = GHF_model_rotated.calculateStabilityMatrices(gsq_hamiltonian_mo_rotated)"
   ],
   "outputs": [],
   "metadata": {}
  },
  {
   "cell_type": "code",
   "execution_count": 11,
   "source": [
    "generalized_stability_matrices_rotated.printStabilityDescription()"
   ],
   "outputs": [
    {
     "output_type": "stream",
     "name": "stdout",
     "text": [
      "The real valued GHF wavefunction is internally stable.\n",
      "The real valued GHF wavefunction is externally stable.\n"
     ]
    }
   ],
   "metadata": {}
  },
  {
   "cell_type": "code",
   "execution_count": null,
   "source": [],
   "outputs": [],
   "metadata": {}
  }
 ],
 "metadata": {
  "kernelspec": {
   "name": "python3",
   "display_name": "Python 3.8.5 64-bit ('base': conda)"
  },
  "language_info": {
   "codemirror_mode": {
    "name": "ipython",
    "version": 3
   },
   "file_extension": ".py",
   "mimetype": "text/x-python",
   "name": "python",
   "nbconvert_exporter": "python",
   "pygments_lexer": "ipython3",
   "version": "3.8.5"
  },
  "interpreter": {
   "hash": "e4c6ce54e6d1ccff551279c9aafc06b78c48fd9e60d6b4e74c0583a74ec1d1f9"
  }
 },
 "nbformat": 4,
 "nbformat_minor": 4
}