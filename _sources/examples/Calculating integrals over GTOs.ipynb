{
 "cells": [
  {
   "cell_type": "markdown",
   "id": "tamil-anchor",
   "metadata": {},
   "source": [
    "# Calculating integrals over GTOs"
   ]
  },
  {
   "cell_type": "code",
   "execution_count": 1,
   "id": "looking-senegal",
   "metadata": {},
   "outputs": [],
   "source": [
    "# Force the local gqcpy to be imported\n",
    "import sys\n",
    "sys.path.insert(0, '../../build/gqcpy/')\n",
    "\n",
    "import gqcpy\n",
    "import numpy as np\n",
    "\n",
    "np.set_printoptions(precision=5, linewidth=120)"
   ]
  },
  {
   "cell_type": "markdown",
   "id": "scientific-chart",
   "metadata": {},
   "source": [
    "In this example, we'll go over the high- and low-level machinery that GQCP offers in order to calculate integrals over Cartesian GTOs. We assume that you're familiar with the mathematical concepts of a _scalar basis_, a _shell_ and a _primitive_."
   ]
  },
  {
   "cell_type": "markdown",
   "id": "logical-shelter",
   "metadata": {},
   "source": [
    "We'll start off by setting up a small molecular system."
   ]
  },
  {
   "cell_type": "code",
   "execution_count": 2,
   "id": "sporting-employer",
   "metadata": {},
   "outputs": [],
   "source": [
    "molecule = gqcpy.Molecule([\n",
    "    gqcpy.Nucleus(1, 0.0, 0.0, 0.0),\n",
    "    gqcpy.Nucleus(1, 0.0, 0.0, 1.0)\n",
    "])"
   ]
  },
  {
   "cell_type": "markdown",
   "id": "anticipated-trailer",
   "metadata": {},
   "source": [
    "## Primitive engines"
   ]
  },
  {
   "cell_type": "markdown",
   "id": "exact-marking",
   "metadata": {},
   "source": [
    "Before tackling the first type of integrals (the overlap integrals), we'll have to zoom in a bit on how integrals are calculated. Let's dive in:\n",
    "- Spin-orbitals are expanded in an underlying scalar basis.\n",
    "- In order to compactify scalar bases, we use shells that group primitives according to their angular momentum.\n",
    "- Therefore, in every shell, a _set_ of basis functions (of the same angular momentum) is implicitly defined.\n",
    "- Every basis function is defined as a contraction (i.e. a linear combination, where the coefficients are called _contraction coefficients_) of primitives.\n",
    "- Here, the primitives are Cartesian GTOs."
   ]
  },
  {
   "cell_type": "markdown",
   "id": "plastic-document",
   "metadata": {},
   "source": [
    "In GQCP, we define an _engine_ to be a computational object that is able to calculate integrals over _shells_, while a _primitive engine_ is defined to be a computational entity that can calculate integrals over _primitives_. \n",
    "\n",
    "In this example, we're taking the expansion of contracted GTOs in terms of their primitives for granted (using the implementations provided by the combination of `FunctionalOneElectronIntegralEngine` and `IntegralCalculator`), and we'll be focusing on calculating integrals over _primitives_."
   ]
  },
  {
   "cell_type": "markdown",
   "id": "geographic-muslim",
   "metadata": {},
   "source": [
    "Since we really don't want to manually read in a basis set, we'll use `RSpinOrbitalBasis`'s functionality to provide us with a scalar basis."
   ]
  },
  {
   "cell_type": "code",
   "execution_count": 3,
   "id": "signal-companion",
   "metadata": {},
   "outputs": [],
   "source": [
    "spin_orbital_basis = gqcpy.RSpinOrbitalBasis_d(molecule, \"STO-3G\")\n",
    "scalar_basis = spin_orbital_basis.scalarBasis()\n",
    "shell_set = scalar_basis.shellSet()  # A shell set is just a collection of shells."
   ]
  },
  {
   "cell_type": "markdown",
   "id": "basic-piano",
   "metadata": {},
   "source": [
    "## Overlap integrals"
   ]
  },
  {
   "cell_type": "markdown",
   "id": "unlikely-redhead",
   "metadata": {},
   "source": [
    "Let's get straight into it. Using the McMurchie-Davidson integral scheme, we can calculate the overlap integral over two primitives as follows."
   ]
  },
  {
   "cell_type": "code",
   "execution_count": 4,
   "id": "electronic-explosion",
   "metadata": {},
   "outputs": [],
   "source": [
    "def overlap_function(left, right):\n",
    "    \n",
    "    primitive_integral = 1.0\n",
    "    \n",
    "    # The overlap integral is separable in its three Cartesian components.\n",
    "    for direction in [gqcpy.CartesianDirection.x, gqcpy.CartesianDirection.y, gqcpy.CartesianDirection.z]:\n",
    "        i = left.cartesianExponents().value(direction)\n",
    "        j = right.cartesianExponents().value(direction)\n",
    "        \n",
    "        a = left.gaussianExponent()\n",
    "        b = right.gaussianExponent()\n",
    "        p = a + b\n",
    "\n",
    "        K = left.center()[direction]\n",
    "        L = right.center()[direction]\n",
    "\n",
    "\n",
    "        E = gqcpy.McMurchieDavidsonCoefficient(K, a, L, b)\n",
    "        \n",
    "        primitive_integral_1D = np.power(np.pi / p, 0.5) * E(i, j, 0)\n",
    "        primitive_integral *= primitive_integral_1D\n",
    "\n",
    "\n",
    "    return primitive_integral"
   ]
  },
  {
   "cell_type": "markdown",
   "id": "authorized-airfare",
   "metadata": {},
   "source": [
    "We'll wrap this function in to a `FunctionalPrimitiveIntegralEngine`, and then supply it as the primitive engine that should be used in a `FunctionalOneElectronIntegralEngine`. We're doing this in order to use GQCP's internal handling of the shells and contractions through the `IntegralCalculator.calculate` call."
   ]
  },
  {
   "cell_type": "code",
   "execution_count": 5,
   "id": "unable-logan",
   "metadata": {},
   "outputs": [],
   "source": [
    "primitive_overlap_engine = gqcpy.FunctionalPrimitiveIntegralEngine_d(overlap_function)\n",
    "overlap_engine = gqcpy.FunctionalOneElectronIntegralEngine_d(primitive_overlap_engine)"
   ]
  },
  {
   "cell_type": "code",
   "execution_count": 6,
   "id": "diagnostic-washer",
   "metadata": {},
   "outputs": [
    {
     "name": "stdout",
     "output_type": "stream",
     "text": [
      "[[1.      0.79659]\n",
      " [0.79659 1.     ]]\n"
     ]
    }
   ],
   "source": [
    "S = gqcpy.IntegralCalculator.calculate(overlap_engine, shell_set, shell_set)\n",
    "print(S)"
   ]
  },
  {
   "cell_type": "markdown",
   "id": "national-platinum",
   "metadata": {},
   "source": [
    "We can verify our results by letting the spin-orbital basis quantize the overlap operator."
   ]
  },
  {
   "cell_type": "code",
   "execution_count": 7,
   "id": "guilty-experience",
   "metadata": {},
   "outputs": [
    {
     "name": "stdout",
     "output_type": "stream",
     "text": [
      "[[1.      0.79659]\n",
      " [0.79659 1.     ]]\n"
     ]
    }
   ],
   "source": [
    "S_ref = spin_orbital_basis.quantizeOverlapOperator().parameters()\n",
    "print(S_ref)"
   ]
  },
  {
   "cell_type": "code",
   "execution_count": null,
   "id": "noticed-hunger",
   "metadata": {},
   "outputs": [],
   "source": []
  }
 ],
 "metadata": {
  "kernelspec": {
   "display_name": "Python 3",
   "language": "python",
   "name": "python3"
  },
  "language_info": {
   "codemirror_mode": {
    "name": "ipython",
    "version": 3
   },
   "file_extension": ".py",
   "mimetype": "text/x-python",
   "name": "python",
   "nbconvert_exporter": "python",
   "pygments_lexer": "ipython3",
   "version": "3.8.5"
  }
 },
 "nbformat": 4,
 "nbformat_minor": 5
}
