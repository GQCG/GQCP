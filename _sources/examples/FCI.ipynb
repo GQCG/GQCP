{
 "cells": [
  {
   "cell_type": "markdown",
   "source": [
    "# Molecular FCI calculations"
   ],
   "metadata": {}
  },
  {
   "cell_type": "markdown",
   "source": [
    "In this example, we will calculate the ground state energy for H2 with an STO-3G basisset at the FCI level of theory."
   ],
   "metadata": {}
  },
  {
   "cell_type": "markdown",
   "source": [
    "## Setting up the molecular Hamiltonian"
   ],
   "metadata": {}
  },
  {
   "cell_type": "code",
   "execution_count": 1,
   "source": [
    "# Force the local gqcpy to be imported\n",
    "import sys\n",
    "sys.path.insert(0, '../../build/gqcpy/')\n",
    "\n",
    "import gqcpy\n",
    "import numpy as np"
   ],
   "outputs": [],
   "metadata": {}
  },
  {
   "cell_type": "markdown",
   "source": [
    "We start by creating the molecule and an associated spinor basis."
   ],
   "metadata": {}
  },
  {
   "cell_type": "code",
   "execution_count": 2,
   "source": [
    "molecule = gqcpy.Molecule.ReadXYZ(\"../../gqcp/tests/data/h2_szabo.xyz\" , 0)  # create a neutral molecule\n",
    "N = molecule.numberOfElectrons()\n",
    "N_P = molecule.numberOfElectronPairs()\n",
    "\n",
    "spin_orbital_basis = gqcpy.RSpinOrbitalBasis_d(molecule, \"STO-3G\")\n",
    "K = spin_orbital_basis.numberOfSpatialOrbitals()"
   ],
   "outputs": [],
   "metadata": {}
  },
  {
   "cell_type": "markdown",
   "source": [
    "Unfortunately, that spinor basis is not orthonormal, which is a requirement for our CI calculations."
   ],
   "metadata": {}
  },
  {
   "cell_type": "code",
   "execution_count": 3,
   "source": [
    "print(spin_orbital_basis.quantize(gqcpy.OverlapOperator()).parameters())"
   ],
   "outputs": [
    {
     "output_type": "stream",
     "name": "stdout",
     "text": [
      "[[0.99999999 0.65931816]\n",
      " [0.65931816 0.99999999]]\n"
     ]
    }
   ],
   "metadata": {
    "tags": []
   }
  },
  {
   "cell_type": "markdown",
   "source": [
    "We will proceed by finding the canonical RHF orbitals, which correspond to an orthonormal spinor basis."
   ],
   "metadata": {}
  },
  {
   "cell_type": "code",
   "execution_count": 4,
   "source": [
    "fq_hamiltonian = gqcpy.FQMolecularHamiltonian(molecule)\n",
    "hamiltonian = spin_orbital_basis.quantize(fq_hamiltonian)\n",
    "S = spin_orbital_basis.quantize(gqcpy.OverlapOperator())\n",
    "\n",
    "environment = gqcpy.RHFSCFEnvironment_d.WithCoreGuess(N, hamiltonian, S)\n",
    "solver = gqcpy.RHFSCFSolver_d.Plain()\n",
    "objective = gqcpy.DiagonalRHFFockMatrixObjective_d(hamiltonian)  # use the default threshold of 1.0e-08\n",
    "rhf_parameters = gqcpy.RHF_d.optimize(objective, solver, environment).groundStateParameters()"
   ],
   "outputs": [],
   "metadata": {}
  },
  {
   "cell_type": "markdown",
   "source": [
    "Using this orthonormal spinor basis, we can quantize the molecular Hamiltonian."
   ],
   "metadata": {}
  },
  {
   "cell_type": "code",
   "execution_count": 5,
   "source": [
    "spin_orbital_basis.transform(rhf_parameters.expansion())\n",
    "hamiltonian.transform(rhf_parameters.expansion())"
   ],
   "outputs": [],
   "metadata": {}
  },
  {
   "cell_type": "markdown",
   "source": [
    "## Specifying the 'F' in FCI"
   ],
   "metadata": {}
  },
  {
   "cell_type": "markdown",
   "source": [
    "FCI, in essence, uses a linear expansion in the full (spin-resolved) Fock space. In GQCP (gqcpy), we have access to a class that represents an ONV basis for that Fock space:"
   ],
   "metadata": {}
  },
  {
   "cell_type": "code",
   "execution_count": 6,
   "source": [
    "onv_basis = gqcpy.SpinResolvedONVBasis(K, N_P, N_P)  # number of spatial orbitals, number of alpha-electrons, number of beta-electrons"
   ],
   "outputs": [],
   "metadata": {}
  },
  {
   "cell_type": "markdown",
   "source": [
    "## Dense FCI calculations"
   ],
   "metadata": {}
  },
  {
   "cell_type": "markdown",
   "source": [
    "In order to do a dense FCI calculations, GQCP uses its own framework for mathematical optimization. We'll have to create:\n",
    "1. a dense eigenvalue problem solver\n",
    "1. an associated eigenvalue problem environment"
   ],
   "metadata": {}
  },
  {
   "cell_type": "code",
   "execution_count": 8,
   "source": [
    "solver = gqcpy.EigenproblemSolver.Dense_d()\n",
    "environment = gqcpy.CIEnvironment.Dense(hamiltonian, onv_basis)"
   ],
   "outputs": [],
   "metadata": {}
  },
  {
   "cell_type": "markdown",
   "source": [
    "The encompassing `QCMethod` is `CI` (for any type of configuration interaction), so we'll use that to find the optimized and associated wave function model: a `LinearExpansion`. Internally, `QCMethod`s return a `QCStructure`, which wraps energies and optimized parameters for the ground state and excited states."
   ],
   "metadata": {}
  },
  {
   "cell_type": "code",
   "execution_count": 9,
   "source": [
    "qc_structure = gqcpy.CI(onv_basis).optimize(solver, environment)"
   ],
   "outputs": [],
   "metadata": {}
  },
  {
   "cell_type": "code",
   "execution_count": 10,
   "source": [
    "electronic_energy = qc_structure.groundStateEnergy()\n",
    "print(electronic_energy)"
   ],
   "outputs": [
    {
     "output_type": "stream",
     "name": "stdout",
     "text": [
      "-1.8515616052384547\n"
     ]
    }
   ],
   "metadata": {
    "tags": []
   }
  },
  {
   "cell_type": "code",
   "execution_count": 11,
   "source": [
    "print(qc_structure.groundStateParameters().coefficients())"
   ],
   "outputs": [
    {
     "output_type": "stream",
     "name": "stdout",
     "text": [
      "[-9.93627296e-01 -1.96580806e-16 -1.28531973e-16  1.12715560e-01]\n"
     ]
    }
   ],
   "metadata": {
    "tags": []
   }
  },
  {
   "cell_type": "markdown",
   "source": [
    "In order to find the total energy, we have to account for the nuclear repulsion. In GQCP, we use different kinds of first-quantized operators, and `NuclearRepulsionOperator` is one of them."
   ],
   "metadata": {}
  },
  {
   "cell_type": "code",
   "execution_count": 12,
   "source": [
    "energy = electronic_energy + gqcpy.NuclearRepulsionOperator(molecule.nuclearFramework()).value()\n",
    "print(energy)"
   ],
   "outputs": [
    {
     "output_type": "stream",
     "name": "stdout",
     "text": [
      "-1.1372759430763966\n"
     ]
    }
   ],
   "metadata": {
    "tags": []
   }
  },
  {
   "cell_type": "markdown",
   "source": [
    "## Iterative FCI calculations (with a Davidson algorithm)"
   ],
   "metadata": {}
  },
  {
   "cell_type": "markdown",
   "source": [
    "In order to tackle larger problems for which we cannot store the Hamiltonian matrix (in the ONV basis) in memory, we must use an iterative diagonalization procedure. In GQCP, we have implemented Davidson's algorithm. In order to use it to do FCI calculations, we must again create a solver and associated environment instance."
   ],
   "metadata": {}
  },
  {
   "cell_type": "markdown",
   "source": [
    "Since the Davidson algorithm is iterative, we will have to supply an initial guess vector. Since we're working in the canonical RHF basis, a linear expansion that has a 1 at the position of the RHF determinant is a good initial guess."
   ],
   "metadata": {}
  },
  {
   "cell_type": "code",
   "execution_count": 13,
   "source": [
    "x0 = gqcpy.LinearExpansion_SpinResolved.HartreeFock(onv_basis).coefficients()\n",
    "\n",
    "solver_davidson = gqcpy.EigenproblemSolver.Davidson()\n",
    "environment_davidson = gqcpy.CIEnvironment.Iterative(hamiltonian, onv_basis, x0)"
   ],
   "outputs": [],
   "metadata": {}
  },
  {
   "cell_type": "code",
   "execution_count": 14,
   "source": [
    "qc_structure_davidson = gqcpy.CI(onv_basis).optimize(solver_davidson, environment_davidson)"
   ],
   "outputs": [],
   "metadata": {}
  },
  {
   "cell_type": "markdown",
   "source": [
    "We can now verify that both types of solvers find the same, optimized linear wave function model and associated energy."
   ],
   "metadata": {}
  },
  {
   "cell_type": "code",
   "execution_count": 15,
   "source": [
    "electronic_energy_davidson = qc_structure_davidson.groundStateEnergy()\n",
    "print(electronic_energy_davidson)"
   ],
   "outputs": [
    {
     "output_type": "stream",
     "name": "stdout",
     "text": [
      "-1.8515616052384547\n"
     ]
    }
   ],
   "metadata": {
    "tags": []
   }
  },
  {
   "cell_type": "code",
   "execution_count": 16,
   "source": [
    "print(qc_structure_davidson.groundStateParameters().coefficients())"
   ],
   "outputs": [
    {
     "output_type": "stream",
     "name": "stdout",
     "text": [
      "[-9.93627296e-01 -1.24364039e-16 -1.42130330e-16  1.12715560e-01]\n"
     ]
    }
   ],
   "metadata": {
    "tags": []
   }
  },
  {
   "cell_type": "markdown",
   "source": [
    "## 'Unrestricted' FCI calculations"
   ],
   "metadata": {}
  },
  {
   "cell_type": "markdown",
   "source": [
    "In the previous examples, we have expressed the Hamiltonian in a restricted spin-orbital basis. Furthermore, CI calculations should be independent of the underlying one-electron (spinor/spin-orbital) basis. Can we reproduce this result, for an unrestricted spin-orbital basis?"
   ],
   "metadata": {}
  },
  {
   "cell_type": "markdown",
   "source": [
    "We'll start by creating an unrestricted spin-orbital (AO) basis, and Löwdin-orthonormalizing it."
   ],
   "metadata": {}
  },
  {
   "cell_type": "code",
   "execution_count": 17,
   "source": [
    "u_spin_orbital_basis = gqcpy.USpinOrbitalBasis_d(molecule, \"STO-3G\")\n",
    "u_spin_orbital_basis.lowdinOrthonormalize()"
   ],
   "outputs": [],
   "metadata": {}
  },
  {
   "cell_type": "markdown",
   "source": [
    "Now that we have an orthonormal unrestricted spin-orbital basis, we may quantize the molecular Hamiltonian in it."
   ],
   "metadata": {}
  },
  {
   "cell_type": "code",
   "execution_count": 18,
   "source": [
    "u_hamiltonian = u_spin_orbital_basis.quantize(fq_hamiltonian)"
   ],
   "outputs": [],
   "metadata": {}
  },
  {
   "cell_type": "markdown",
   "source": [
    "We can now reuse the full spin-resolved ONV basis, and proceed to initialize an environment and solver."
   ],
   "metadata": {}
  },
  {
   "cell_type": "code",
   "execution_count": 19,
   "source": [
    "solver = gqcpy.EigenproblemSolver.Dense_d()\n",
    "environment = gqcpy.CIEnvironment.Dense(u_hamiltonian, onv_basis)\n",
    "\n",
    "qc_structure = gqcpy.CI(onv_basis).optimize(solver, environment)"
   ],
   "outputs": [],
   "metadata": {}
  },
  {
   "cell_type": "code",
   "execution_count": 20,
   "source": [
    "electronic_energy = qc_structure.groundStateEnergy()\n",
    "print(electronic_energy)"
   ],
   "outputs": [
    {
     "output_type": "stream",
     "name": "stdout",
     "text": [
      "-1.8515616052384558\n"
     ]
    }
   ],
   "metadata": {}
  },
  {
   "cell_type": "markdown",
   "source": [
    "This is exactly the result we obtain from the restricted case!"
   ],
   "metadata": {}
  }
 ],
 "metadata": {
  "kernelspec": {
   "name": "python3",
   "display_name": "Python 3.8.5 64-bit ('base': conda)"
  },
  "language_info": {
   "codemirror_mode": {
    "name": "ipython",
    "version": 3
   },
   "file_extension": ".py",
   "mimetype": "text/x-python",
   "name": "python",
   "nbconvert_exporter": "python",
   "pygments_lexer": "ipython3",
   "version": "3.8.5"
  },
  "interpreter": {
   "hash": "e4c6ce54e6d1ccff551279c9aafc06b78c48fd9e60d6b4e74c0583a74ec1d1f9"
  }
 },
 "nbformat": 4,
 "nbformat_minor": 2
}