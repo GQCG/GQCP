{
 "cells": [
  {
   "cell_type": "markdown",
   "id": "narrative-albany",
   "metadata": {},
   "source": [
    "# Gauge-origin independence for London kinetic integrals"
   ]
  },
  {
   "cell_type": "code",
   "execution_count": 1,
   "id": "greek-dealer",
   "metadata": {},
   "outputs": [],
   "source": [
    "# Force the local gqcpy to be imported.\n",
    "import sys\n",
    "sys.path.insert(0, '../../build/gqcpy/')\n",
    "\n",
    "import gqcpy\n",
    "import numpy as np\n",
    "\n",
    "np.set_printoptions(precision=8, linewidth=120)"
   ]
  },
  {
   "cell_type": "code",
   "execution_count": 2,
   "id": "alike-fantasy",
   "metadata": {},
   "outputs": [],
   "source": [
    "nuclei = [gqcpy.Nucleus(1, 0.0, 0.0, 0.0), gqcpy.Nucleus(1, 0.0, 0.0, 1.0)]\n",
    "molecule = gqcpy.Molecule(nuclei)"
   ]
  },
  {
   "cell_type": "markdown",
   "id": "authentic-future",
   "metadata": {},
   "source": [
    "## Kinetic energy integrals"
   ]
  },
  {
   "cell_type": "markdown",
   "id": "married-moderator",
   "metadata": {},
   "source": [
    "Let's prepare two London-spinor bases, one for each gauge origin."
   ]
  },
  {
   "cell_type": "code",
   "execution_count": 3,
   "id": "outer-footwear",
   "metadata": {},
   "outputs": [],
   "source": [
    "B1 = gqcpy.HomogeneousMagneticField([0.0, 0.0, 0.1], [0.0, 0.0, 0.0])  # Gauge origin at the origin.\n",
    "B2 = gqcpy.HomogeneousMagneticField([0.0, 0.0, 0.1], [25.0, -3.2, 0.6])  # Gauge origin at a random point."
   ]
  },
  {
   "cell_type": "code",
   "execution_count": 4,
   "id": "hollow-cleaner",
   "metadata": {},
   "outputs": [],
   "source": [
    "spinor_basis1 = gqcpy.LondonGSpinorBasis(molecule, \"STO-3G\", B1)\n",
    "spinor_basis2 = gqcpy.LondonGSpinorBasis(molecule, \"STO-3G\", B2)"
   ]
  },
  {
   "cell_type": "markdown",
   "id": "sensitive-adoption",
   "metadata": {},
   "source": [
    "From the formulas, it is immediately clear that the overlap integrals are gauge origin independent. Let's confirm this."
   ]
  },
  {
   "cell_type": "code",
   "execution_count": 5,
   "id": "saved-performer",
   "metadata": {},
   "outputs": [],
   "source": [
    "S1 = spinor_basis1.quantize(gqcpy.OverlapOperator()).parameters()\n",
    "S2 = spinor_basis2.quantize(gqcpy.OverlapOperator()).parameters()"
   ]
  },
  {
   "cell_type": "code",
   "execution_count": 6,
   "id": "grave-adventure",
   "metadata": {},
   "outputs": [
    {
     "name": "stdout",
     "output_type": "stream",
     "text": [
      "[[0.99999999+0.j 0.79658829+0.j 0.        +0.j 0.        +0.j]\n",
      " [0.79658829+0.j 0.99999999+0.j 0.        +0.j 0.        +0.j]\n",
      " [0.        +0.j 0.        +0.j 0.99999999+0.j 0.79658829+0.j]\n",
      " [0.        +0.j 0.        +0.j 0.79658829+0.j 0.99999999+0.j]]\n"
     ]
    }
   ],
   "source": [
    "print(S1)"
   ]
  },
  {
   "cell_type": "code",
   "execution_count": 7,
   "id": "functioning-elite",
   "metadata": {},
   "outputs": [
    {
     "data": {
      "text/plain": [
       "True"
      ]
     },
     "execution_count": 7,
     "metadata": {},
     "output_type": "execute_result"
    }
   ],
   "source": [
    "np.allclose(S1, S2)"
   ]
  },
  {
   "cell_type": "markdown",
   "id": "statutory-mumbai",
   "metadata": {},
   "source": [
    "Furthermore, the nuclear attraction and two-electron repulsion integrals are also gauge origin independent."
   ]
  },
  {
   "cell_type": "code",
   "execution_count": 8,
   "id": "driven-waterproof",
   "metadata": {},
   "outputs": [],
   "source": [
    "V1 = spinor_basis1.quantize(gqcpy.NuclearAttractionOperator(molecule.nuclearFramework())).parameters()\n",
    "V2 = spinor_basis2.quantize(gqcpy.NuclearAttractionOperator(molecule.nuclearFramework())).parameters()"
   ]
  },
  {
   "cell_type": "code",
   "execution_count": 9,
   "id": "remarkable-country",
   "metadata": {},
   "outputs": [
    {
     "name": "stdout",
     "output_type": "stream",
     "text": [
      "[[-2.03852055+0.j -1.60241665+0.j  0.        +0.j  0.        +0.j]\n",
      " [-1.60241665+0.j -2.03852055+0.j  0.        +0.j  0.        +0.j]\n",
      " [ 0.        +0.j  0.        +0.j -2.03852055+0.j -1.60241665+0.j]\n",
      " [ 0.        +0.j  0.        +0.j -1.60241665+0.j -2.03852055+0.j]]\n"
     ]
    }
   ],
   "source": [
    "print(V1)"
   ]
  },
  {
   "cell_type": "code",
   "execution_count": 10,
   "id": "funded-carrier",
   "metadata": {},
   "outputs": [
    {
     "data": {
      "text/plain": [
       "True"
      ]
     },
     "execution_count": 10,
     "metadata": {},
     "output_type": "execute_result"
    }
   ],
   "source": [
    "np.allclose(V1, V2)"
   ]
  },
  {
   "cell_type": "code",
   "execution_count": 11,
   "id": "vietnamese-bennett",
   "metadata": {},
   "outputs": [],
   "source": [
    "g1 = spinor_basis1.quantize(gqcpy.CoulombRepulsionOperator()).parameters()\n",
    "g2 = spinor_basis2.quantize(gqcpy.CoulombRepulsionOperator()).parameters()"
   ]
  },
  {
   "cell_type": "code",
   "execution_count": 12,
   "id": "original-ranking",
   "metadata": {},
   "outputs": [],
   "source": [
    "#print(g1)"
   ]
  },
  {
   "cell_type": "code",
   "execution_count": 13,
   "id": "surgical-vienna",
   "metadata": {},
   "outputs": [
    {
     "data": {
      "text/plain": [
       "True"
      ]
     },
     "execution_count": 13,
     "metadata": {},
     "output_type": "execute_result"
    }
   ],
   "source": [
    "np.allclose(g1, g2)"
   ]
  },
  {
   "cell_type": "markdown",
   "id": "institutional-hollow",
   "metadata": {},
   "source": [
    "Now, let's prepare the kinetic energy integrals in both spinor basis. (Note that we are calculating only the term of the magnetic kinetic energy operator that is zero-th order in the magnetic field.)"
   ]
  },
  {
   "cell_type": "code",
   "execution_count": 14,
   "id": "southeast-cooperative",
   "metadata": {},
   "outputs": [],
   "source": [
    "T1 = spinor_basis1.quantize(gqcpy.KineticOperator()).parameters()\n",
    "T2 = spinor_basis2.quantize(gqcpy.KineticOperator()).parameters()"
   ]
  },
  {
   "cell_type": "code",
   "execution_count": 15,
   "id": "applicable-judgment",
   "metadata": {},
   "outputs": [
    {
     "name": "stdout",
     "output_type": "stream",
     "text": [
      "[[0.76003188+0.j 0.38325367+0.j 0.        +0.j 0.        +0.j]\n",
      " [0.38325367+0.j 0.76003188+0.j 0.        +0.j 0.        +0.j]\n",
      " [0.        +0.j 0.        +0.j 0.76003188+0.j 0.38325367+0.j]\n",
      " [0.        +0.j 0.        +0.j 0.38325367+0.j 0.76003188+0.j]]\n"
     ]
    }
   ],
   "source": [
    "print(T1)"
   ]
  },
  {
   "cell_type": "code",
   "execution_count": 16,
   "id": "rocky-kidney",
   "metadata": {},
   "outputs": [
    {
     "name": "stdout",
     "output_type": "stream",
     "text": [
      "[[1.55408187+0.j 1.0157846 +0.j 0.        +0.j 0.        +0.j]\n",
      " [1.0157846 +0.j 1.55408187+0.j 0.        +0.j 0.        +0.j]\n",
      " [0.        +0.j 0.        +0.j 1.55408187+0.j 1.0157846 +0.j]\n",
      " [0.        +0.j 0.        +0.j 1.0157846 +0.j 1.55408187+0.j]]\n"
     ]
    }
   ],
   "source": [
    "print(T2)"
   ]
  },
  {
   "cell_type": "markdown",
   "id": "comprehensive-phase",
   "metadata": {},
   "source": [
    "Apparently, the matrix representation of the operator $-\\dfrac{1}{2} \\nabla^2$ is gauge-origin _dependent_! Let's take a further look at the orbital Zeeman (first order in the magnetic field) and diamagnetic (second order in the magnetic field) operators."
   ]
  },
  {
   "cell_type": "code",
   "execution_count": 17,
   "id": "suited-surgery",
   "metadata": {},
   "outputs": [],
   "source": [
    "P1 = spinor_basis1.quantize(gqcpy.OrbitalZeemanOperator(B1, B1.gaugeOrigin())).parameters()\n",
    "P2 = spinor_basis2.quantize(gqcpy.OrbitalZeemanOperator(B2, B2.gaugeOrigin())).parameters()"
   ]
  },
  {
   "cell_type": "code",
   "execution_count": 18,
   "id": "dominant-silicon",
   "metadata": {},
   "outputs": [
    {
     "name": "stdout",
     "output_type": "stream",
     "text": [
      "[[0.+0.j 0.+0.j 0.+0.j 0.+0.j]\n",
      " [0.+0.j 0.+0.j 0.+0.j 0.+0.j]\n",
      " [0.+0.j 0.+0.j 0.+0.j 0.+0.j]\n",
      " [0.+0.j 0.+0.j 0.+0.j 0.+0.j]]\n"
     ]
    }
   ],
   "source": [
    "print(P1)"
   ]
  },
  {
   "cell_type": "code",
   "execution_count": 19,
   "id": "eight-noise",
   "metadata": {},
   "outputs": [
    {
     "name": "stdout",
     "output_type": "stream",
     "text": [
      "[[-1.58809999+0.j -1.26506187+0.j  0.        +0.j  0.        +0.j]\n",
      " [-1.26506187+0.j -1.58809999+0.j  0.        +0.j  0.        +0.j]\n",
      " [ 0.        +0.j  0.        +0.j -1.58809999+0.j -1.26506187+0.j]\n",
      " [ 0.        +0.j  0.        +0.j -1.26506187+0.j -1.58809999+0.j]]\n"
     ]
    }
   ],
   "source": [
    "print(P2)"
   ]
  },
  {
   "cell_type": "code",
   "execution_count": 20,
   "id": "thermal-pitch",
   "metadata": {},
   "outputs": [],
   "source": [
    "D1 = spinor_basis1.quantize(gqcpy.DiamagneticOperator(B1, B1.gaugeOrigin())).parameters()\n",
    "D2 = spinor_basis2.quantize(gqcpy.DiamagneticOperator(B2, B2.gaugeOrigin())).parameters()"
   ]
  },
  {
   "cell_type": "code",
   "execution_count": 21,
   "id": "deadly-panama",
   "metadata": {},
   "outputs": [
    {
     "name": "stdout",
     "output_type": "stream",
     "text": [
      "[[0.00162381+0.j 0.00140007+0.j 0.        +0.j 0.        +0.j]\n",
      " [0.00140007+0.j 0.00162381+0.j 0.        +0.j 0.        +0.j]\n",
      " [0.        +0.j 0.        +0.j 0.00162381+0.j 0.00140007+0.j]\n",
      " [0.        +0.j 0.        +0.j 0.00140007+0.j 0.00162381+0.j]]\n"
     ]
    }
   ],
   "source": [
    "print(D1)"
   ]
  },
  {
   "cell_type": "code",
   "execution_count": 22,
   "id": "legislative-bryan",
   "metadata": {},
   "outputs": [
    {
     "name": "stdout",
     "output_type": "stream",
     "text": [
      "[[0.7956738 +0.j 0.63393101+0.j 0.        +0.j 0.        +0.j]\n",
      " [0.63393101+0.j 0.7956738 +0.j 0.        +0.j 0.        +0.j]\n",
      " [0.        +0.j 0.        +0.j 0.7956738 +0.j 0.63393101+0.j]\n",
      " [0.        +0.j 0.        +0.j 0.63393101+0.j 0.7956738 +0.j]]\n"
     ]
    }
   ],
   "source": [
    "print(D2)"
   ]
  },
  {
   "cell_type": "markdown",
   "id": "south-contemporary",
   "metadata": {},
   "source": [
    "We can see that these operators are also gauge origin dependent!"
   ]
  },
  {
   "cell_type": "markdown",
   "id": "comparative-raising",
   "metadata": {},
   "source": [
    "However, by including the orbital Zeeman _and_ diamagnetic  terms, the magnetic kinetic energy becomes gauge invariant, as shown below."
   ]
  },
  {
   "cell_type": "code",
   "execution_count": 23,
   "id": "fancy-ceiling",
   "metadata": {},
   "outputs": [],
   "source": [
    "K1 = T1 + P1 + D1\n",
    "K2 = T2 + P2 + D2"
   ]
  },
  {
   "cell_type": "code",
   "execution_count": 24,
   "id": "finished-wiring",
   "metadata": {},
   "outputs": [
    {
     "name": "stdout",
     "output_type": "stream",
     "text": [
      "[[0.76165569+0.j 0.38465374+0.j 0.        +0.j 0.        +0.j]\n",
      " [0.38465374+0.j 0.76165569+0.j 0.        +0.j 0.        +0.j]\n",
      " [0.        +0.j 0.        +0.j 0.76165569+0.j 0.38465374+0.j]\n",
      " [0.        +0.j 0.        +0.j 0.38465374+0.j 0.76165569+0.j]]\n"
     ]
    }
   ],
   "source": [
    "print(K1)"
   ]
  },
  {
   "cell_type": "code",
   "execution_count": 25,
   "id": "difficult-plant",
   "metadata": {},
   "outputs": [
    {
     "data": {
      "text/plain": [
       "True"
      ]
     },
     "execution_count": 25,
     "metadata": {},
     "output_type": "execute_result"
    }
   ],
   "source": [
    "np.allclose(K1, K2)"
   ]
  },
  {
   "cell_type": "markdown",
   "id": "b972522a",
   "metadata": {},
   "source": [
    "We can also include the Spin-Zeeman operator to the kinetic energy to obtain the kinetic energy when minimal coupling is applied at the Pauli-Hamiltonian level."
   ]
  },
  {
   "cell_type": "code",
   "execution_count": 26,
   "id": "civil-sweden",
   "metadata": {},
   "outputs": [],
   "source": [
    "SZ1 = spinor_basis1.quantize(gqcpy.SpinZeemanOperator(B1)).parameters()\n",
    "SZ2 = spinor_basis2.quantize(gqcpy.SpinZeemanOperator(B2)).parameters()"
   ]
  },
  {
   "cell_type": "code",
   "execution_count": 27,
   "id": "6aac6a4e",
   "metadata": {},
   "outputs": [
    {
     "name": "stdout",
     "output_type": "stream",
     "text": [
      "[[ 0.05      +0.j  0.03982941+0.j  0.        +0.j  0.        +0.j]\n",
      " [ 0.03982941+0.j  0.05      +0.j  0.        +0.j  0.        +0.j]\n",
      " [ 0.        +0.j  0.        +0.j -0.05      +0.j -0.03982941+0.j]\n",
      " [ 0.        +0.j  0.        +0.j -0.03982941+0.j -0.05      +0.j]]\n",
      "\n",
      "[[ 0.05      +0.j  0.03982941+0.j  0.        +0.j  0.        +0.j]\n",
      " [ 0.03982941+0.j  0.05      +0.j  0.        +0.j  0.        +0.j]\n",
      " [ 0.        +0.j  0.        +0.j -0.05      +0.j -0.03982941+0.j]\n",
      " [ 0.        +0.j  0.        +0.j -0.03982941+0.j -0.05      +0.j]]\n"
     ]
    }
   ],
   "source": [
    "print(SZ1, SZ2, sep='\\n\\n')"
   ]
  }
 ],
 "metadata": {
  "kernelspec": {
   "display_name": "Python 3",
   "language": "python",
   "name": "python3"
  },
  "language_info": {
   "codemirror_mode": {
    "name": "ipython",
    "version": 3
   },
   "file_extension": ".py",
   "mimetype": "text/x-python",
   "name": "python",
   "nbconvert_exporter": "python",
   "pygments_lexer": "ipython3",
   "version": "3.8.16"
  }
 },
 "nbformat": 4,
 "nbformat_minor": 5
}
