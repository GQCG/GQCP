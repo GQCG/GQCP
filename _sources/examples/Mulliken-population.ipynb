{
 "cells": [
  {
   "cell_type": "markdown",
   "source": [
    "# Calculating the Mulliken population"
   ],
   "metadata": {}
  },
  {
   "cell_type": "markdown",
   "source": [
    "In [Cedillo2012](https://link.springer.com/article/10.1007/s00214-012-1227-6), we find a Mulliken charge of 0.20 on the carbon atom in CO. In this notebook, we will reproduce this result."
   ],
   "metadata": {}
  },
  {
   "cell_type": "code",
   "execution_count": 1,
   "source": [
    "# Force the local gqcpy to be imported\n",
    "import sys\n",
    "sys.path.insert(0, '../../build/gqcpy/')\n",
    "\n",
    "import gqcpy\n",
    "import numpy as np"
   ],
   "outputs": [],
   "metadata": {}
  },
  {
   "cell_type": "markdown",
   "source": [
    "Let's start by creating the molecule, and quantizing the Hamiltonian in the associated restricted spin-orbital basis of the AOs."
   ],
   "metadata": {}
  },
  {
   "cell_type": "markdown",
   "source": [
    "## Restricted Mulliken populations"
   ],
   "metadata": {}
  },
  {
   "cell_type": "code",
   "execution_count": 2,
   "source": [
    "molecule = gqcpy.Molecule.ReadXYZ(\"../../gqcp/tests/data/CO_mulliken.xyz\" , 0)  # '0': Create a neutral molecule.\n",
    "N = molecule.numberOfElectrons()\n",
    "\n",
    "spin_orbital_basis = gqcpy.RSpinOrbitalBasis_d(molecule, \"STO-3G\")\n",
    "S = spin_orbital_basis.quantize(gqcpy.OverlapOperator())\n",
    "\n",
    "fq_hamiltonian = gqcpy.FQMolecularHamiltonian(molecule)\n",
    "hamiltonian = spin_orbital_basis.quantize(fq_hamiltonian)"
   ],
   "outputs": [],
   "metadata": {}
  },
  {
   "cell_type": "markdown",
   "source": [
    "Afterwards, we should solve the RHF SCF equations."
   ],
   "metadata": {}
  },
  {
   "cell_type": "code",
   "execution_count": 3,
   "source": [
    "environment = gqcpy.RHFSCFEnvironment_d.WithCoreGuess(N, hamiltonian, S)\n",
    "solver = gqcpy.RHFSCFSolver_d.DIIS()\n",
    "objective = gqcpy.DiagonalRHFFockMatrixObjective_d(hamiltonian)  # This objective makes sure that the RHF parameters represent the canonical RHF MOs.\n",
    "\n",
    "rhf_parameters = gqcpy.RHF_d.optimize(objective, solver, environment).groundStateParameters()\n",
    "D = rhf_parameters.calculateScalarBasis1DM()  # The AO density matrix."
   ],
   "outputs": [],
   "metadata": {}
  },
  {
   "cell_type": "markdown",
   "source": [
    "The Mulliken population is effectively the expectation value of the Mulliken operator and a density matrix, so we'll have to set up the Mulliken operator.\n",
    "\n",
    "Since we're interested in determining the Mulliken charge on the carbon atom, we'll prepare a Mulliken partitioning of the spin-orbital basis with basis functions centered on the carbon atom."
   ],
   "metadata": {}
  },
  {
   "cell_type": "code",
   "execution_count": 4,
   "source": [
    "mulliken_partitioning = spin_orbital_basis.mullikenPartitioning(lambda shell: shell.nucleus().element() == \"C\")"
   ],
   "outputs": [],
   "metadata": {}
  },
  {
   "cell_type": "markdown",
   "source": [
    "Let's also confirm that the supplied selector lambda function has selected the correct indices for the basis functions centered on the carbon atom."
   ],
   "metadata": {}
  },
  {
   "cell_type": "code",
   "execution_count": 5,
   "source": [
    "print(mulliken_partitioning.indices())"
   ],
   "outputs": [
    {
     "output_type": "stream",
     "name": "stdout",
     "text": [
      "[0, 1, 2, 3, 4]\n"
     ]
    }
   ],
   "metadata": {}
  },
  {
   "cell_type": "markdown",
   "source": [
    "Theoretically, the Mulliken operator is the Mulliken-partitioned number/overlap operator. Since GQCP supports partitioning of any one-electron operator, we can use the `.partitioned()` API."
   ],
   "metadata": {}
  },
  {
   "cell_type": "code",
   "execution_count": 6,
   "source": [
    "mulliken_operator = S.partitioned(mulliken_partitioning)"
   ],
   "outputs": [],
   "metadata": {}
  },
  {
   "cell_type": "markdown",
   "source": [
    "What remains is to calculate the expectation value of the Mulliken-partitioned number operator, which yields the Mulliken population. The Mulliken charge can then be calculated straightforwardly."
   ],
   "metadata": {}
  },
  {
   "cell_type": "code",
   "execution_count": 7,
   "source": [
    "C_population = mulliken_operator.calculateExpectationValue(D)[0]\n",
    "print(\"Mulliken population: \", C_population)"
   ],
   "outputs": [
    {
     "output_type": "stream",
     "name": "stdout",
     "text": [
      "Mulliken population:  5.801066370434771\n"
     ]
    }
   ],
   "metadata": {}
  },
  {
   "cell_type": "code",
   "execution_count": 8,
   "source": [
    "C_charge = 6 - C_population\n",
    "print(\"Mulliken charge: \", C_charge)"
   ],
   "outputs": [
    {
     "output_type": "stream",
     "name": "stdout",
     "text": [
      "Mulliken charge:  0.19893362956522864\n"
     ]
    }
   ],
   "metadata": {}
  },
  {
   "cell_type": "markdown",
   "source": [
    "## Unrestricted Mulliken populations"
   ],
   "metadata": {}
  },
  {
   "cell_type": "markdown",
   "source": [
    "GQCP also offers the ability to calculate alpha- and beta- Mulliken populations. Since the previous example would be trivial, let's use CO+ instead of CO."
   ],
   "metadata": {}
  },
  {
   "cell_type": "code",
   "execution_count": 9,
   "source": [
    "molecule = gqcpy.Molecule.ReadXYZ(\"../../gqcp/tests/data/CO_mulliken.xyz\" , +1)  # '+1': Create CO+.\n",
    "N_alpha = molecule.numberOfElectronPairs() + 1\n",
    "N_beta = molecule.numberOfElectronPairs()\n",
    "\n",
    "u_spin_orbital_basis = gqcpy.USpinOrbitalBasis_d(molecule, \"STO-3G\")\n",
    "S_unrestricted = u_spin_orbital_basis.quantize(gqcpy.OverlapOperator())\n",
    "\n",
    "fq_hamiltonian = gqcpy.FQMolecularHamiltonian(molecule)\n",
    "hamiltonian = u_spin_orbital_basis.quantize(fq_hamiltonian)  # We perform UHF calculations with the Hamiltonian in the basis of the restricted atomic spin-orbitals. "
   ],
   "outputs": [],
   "metadata": {}
  },
  {
   "cell_type": "markdown",
   "source": [
    "We solve the UHF SCF equations."
   ],
   "metadata": {}
  },
  {
   "cell_type": "code",
   "execution_count": 10,
   "source": [
    "environment = gqcpy.UHFSCFEnvironment_d.WithCoreGuess(N_alpha, N_beta, hamiltonian, S_unrestricted)\n",
    "solver = gqcpy.UHFSCFSolver_d.DIIS(threshold=1.0e-6, maximum_number_of_iterations=500)\n",
    "\n",
    "uhf_parameters = gqcpy.UHF_d.optimize(solver, environment).groundStateParameters()\n",
    "D_unrestricted = uhf_parameters.calculateScalarBasis1DM()  # The AO density matrix."
   ],
   "outputs": [],
   "metadata": {}
  },
  {
   "cell_type": "markdown",
   "source": [
    "We now analogously proceed by setting up the Mulliken partitioning scheme, and finally partition the number/overlap operator according to the obtained partitioning scheme."
   ],
   "metadata": {}
  },
  {
   "cell_type": "code",
   "execution_count": 11,
   "source": [
    "u_mulliken_partitioning = u_spin_orbital_basis.mullikenPartitioning(lambda shell: shell.nucleus().element() == \"C\")\n",
    "u_mulliken_operator = S_unrestricted.partitioned(u_mulliken_partitioning)"
   ],
   "outputs": [],
   "metadata": {}
  },
  {
   "cell_type": "markdown",
   "source": [],
   "metadata": {}
  },
  {
   "cell_type": "markdown",
   "source": [
    "Let's first check the total Mulliken population and charge."
   ],
   "metadata": {}
  },
  {
   "cell_type": "code",
   "execution_count": 12,
   "source": [
    "C_population_total = u_mulliken_operator.calculateExpectationValue(D_unrestricted)[0]\n",
    "print(\"Mulliken population: \", C_population_total)\n",
    "print(\"Mulliken charge: \", 6 - C_population_total)"
   ],
   "outputs": [
    {
     "output_type": "stream",
     "name": "stdout",
     "text": [
      "Mulliken population:  5.202385763365194\n",
      "Mulliken charge:  0.7976142366348062\n"
     ]
    }
   ],
   "metadata": {}
  },
  {
   "cell_type": "markdown",
   "source": [
    "Finally, let's find out the Mulliken populations for the alpha and beta electrons, separately"
   ],
   "metadata": {}
  },
  {
   "cell_type": "code",
   "execution_count": 13,
   "source": [
    "C_population_alpha = u_mulliken_operator.alpha.calculateExpectationValue(D_unrestricted.alpha)[0]\n",
    "C_population_beta = u_mulliken_operator.beta.calculateExpectationValue(D_unrestricted.beta)[0]\n",
    "\n",
    "print(\"Mulliken population alpha: \", C_population_alpha)\n",
    "print(\"Mulliken population beta: \", C_population_beta)\n"
   ],
   "outputs": [
    {
     "output_type": "stream",
     "name": "stdout",
     "text": [
      "Mulliken population alpha:  3.5902074357563403\n",
      "Mulliken population beta:  1.6121783276088537\n"
     ]
    }
   ],
   "metadata": {}
  },
  {
   "cell_type": "code",
   "execution_count": null,
   "source": [],
   "outputs": [],
   "metadata": {}
  },
  {
   "cell_type": "markdown",
   "source": [
    "## Generalized Mulliken populations"
   ],
   "metadata": {}
  },
  {
   "cell_type": "markdown",
   "source": [
    "GQCP also allows for Mulliken analysis in case of complex orbital bases. The example below applies Mulliken population analysis on a complex GHF calculation."
   ],
   "metadata": {}
  },
  {
   "cell_type": "code",
   "execution_count": 14,
   "source": [
    "molecule = gqcpy.Molecule.ReadXYZ(\"../../gqcp/tests/data/CO_mulliken.xyz\" , 0)  # '0': Create a neutral molecule.\n",
    "N = molecule.numberOfElectrons()\n",
    "\n",
    "spinor_basis = gqcpy.GSpinorBasis_cd(molecule, \"STO-3G\")\n",
    "S_generalized = spinor_basis.quantize(gqcpy.OverlapOperator())\n",
    "\n",
    "fq_hamiltonian = gqcpy.FQMolecularHamiltonian(molecule)\n",
    "gsq_hamiltonian = spinor_basis.quantize(fq_hamiltonian) "
   ],
   "outputs": [],
   "metadata": {}
  },
  {
   "cell_type": "markdown",
   "source": [
    "We solve the GHF SCF equations."
   ],
   "metadata": {}
  },
  {
   "cell_type": "code",
   "execution_count": 15,
   "source": [
    "ghf_environment = gqcpy.GHFSCFEnvironment_cd.WithComplexlyTransformedCoreGuess(N, gsq_hamiltonian, S_generalized)\n",
    "ghf_solver = gqcpy.GHFSCFSolver_cd.Plain(threshold=1.0e-6, maximum_number_of_iterations=1500)\n",
    "\n",
    "ghf_parameters = gqcpy.GHF_cd.optimize(ghf_solver, ghf_environment).groundStateParameters()\n",
    "D_generalized = ghf_parameters.calculateScalarBasis1DM()  # The AO density matrix."
   ],
   "outputs": [],
   "metadata": {}
  },
  {
   "cell_type": "markdown",
   "source": [
    "We now analogously proceed by setting up the Mulliken partitioning scheme, and finally partition the number/overlap operator according to the obtained partitioning scheme."
   ],
   "metadata": {}
  },
  {
   "cell_type": "code",
   "execution_count": 16,
   "source": [
    "g_mulliken_partitioning = spinor_basis.mullikenPartitioning(lambda shell: shell.nucleus().element() == \"C\")\n",
    "g_mulliken_operator = S_generalized.partitioned(g_mulliken_partitioning)"
   ],
   "outputs": [],
   "metadata": {}
  },
  {
   "cell_type": "markdown",
   "source": [
    "Let's first check the total Mulliken population and charge."
   ],
   "metadata": {}
  },
  {
   "cell_type": "code",
   "execution_count": 17,
   "source": [
    "C_population_total_generalized = g_mulliken_operator.calculateExpectationValue(D_generalized)[0]\n",
    "print(\"Mulliken population: \", C_population_total_generalized)\n",
    "print(\"Mulliken charge: \", 6 - C_population_total_generalized)"
   ],
   "outputs": [
    {
     "output_type": "stream",
     "name": "stdout",
     "text": [
      "Mulliken population:  (7.000000006772422+6.559223099902266e-19j)\n",
      "Mulliken charge:  (-1.0000000067724217-6.559223099902266e-19j)\n"
     ]
    }
   ],
   "metadata": {}
  },
  {
   "cell_type": "code",
   "execution_count": null,
   "source": [],
   "outputs": [],
   "metadata": {}
  }
 ],
 "metadata": {
  "kernelspec": {
   "display_name": "Python 3",
   "language": "python",
   "name": "python3"
  },
  "language_info": {
   "codemirror_mode": {
    "name": "ipython",
    "version": 3
   },
   "file_extension": ".py",
   "mimetype": "text/x-python",
   "name": "python",
   "nbconvert_exporter": "python",
   "pygments_lexer": "ipython3",
   "version": "3.8.5"
  }
 },
 "nbformat": 4,
 "nbformat_minor": 2
}