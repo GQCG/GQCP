{
 "cells": [
  {
   "cell_type": "markdown",
   "metadata": {},
   "source": [
    "# Calculating the RHF dipole moment"
   ]
  },
  {
   "cell_type": "markdown",
   "metadata": {},
   "source": [
    "In this example, we will calculate the (permanent) electronic dipole moment for H2 with an STO-3G basisset at the RHF level of theory."
   ]
  },
  {
   "cell_type": "markdown",
   "metadata": {},
   "source": [
    "## Setting up the molecular Hamiltonian"
   ]
  },
  {
   "cell_type": "code",
   "execution_count": 1,
   "metadata": {},
   "outputs": [],
   "source": [
    "# Force the local gqcpy to be imported\n",
    "import sys\n",
    "sys.path.insert(0, '../../build/gqcpy/')\n",
    "\n",
    "import gqcpy"
   ]
  },
  {
   "cell_type": "markdown",
   "metadata": {},
   "source": [
    "We start by creating the molecule and an associated (restricted) spinor basis:"
   ]
  },
  {
   "cell_type": "code",
   "execution_count": 2,
   "metadata": {},
   "outputs": [],
   "source": [
    "molecule = gqcpy.Molecule.ReadXYZ(\"../../gqcp/tests/data/h2_szabo.xyz\" , 0)  # create a neutral molecule\n",
    "N = molecule.numberOfElectrons()"
   ]
  },
  {
   "cell_type": "code",
   "execution_count": 3,
   "metadata": {},
   "outputs": [],
   "source": [
    "spinor_basis = gqcpy.RSpinOrbitalBasis(molecule, \"STO-3G\")"
   ]
  },
  {
   "cell_type": "markdown",
   "metadata": {},
   "source": [
    "We can easily find out the overlap matrix of the spinor basis:"
   ]
  },
  {
   "cell_type": "code",
   "execution_count": 4,
   "metadata": {},
   "outputs": [
    {
     "output_type": "stream",
     "name": "stdout",
     "text": "[[0.99999999 0.65931816]\n [0.65931816 0.99999999]]\n"
    }
   ],
   "source": [
    "S = spinor_basis.quantizeOverlapOperator().parameters()\n",
    "print(S)"
   ]
  },
  {
   "cell_type": "markdown",
   "metadata": {},
   "source": [
    "We can use the following one-liner to calculate the molecular second-quantized Hamiltonian: "
   ]
  },
  {
   "cell_type": "code",
   "execution_count": 5,
   "metadata": {},
   "outputs": [],
   "source": [
    "sq_hamiltonian = gqcpy.SQHamiltonian.Molecular(spinor_basis, molecule)  # 'sq' for 'second-quantized'"
   ]
  },
  {
   "cell_type": "markdown",
   "metadata": {},
   "source": [
    "We can access the core Hamiltonian and the two-electron integrals relatively easily:"
   ]
  },
  {
   "cell_type": "code",
   "execution_count": 6,
   "metadata": {},
   "outputs": [
    {
     "output_type": "stream",
     "name": "stdout",
     "text": "[[-1.12040896 -0.95837989]\n [-0.95837989 -1.12040896]]\n"
    }
   ],
   "source": [
    "print(sq_hamiltonian.core().parameters())"
   ]
  },
  {
   "cell_type": "code",
   "execution_count": 7,
   "metadata": {},
   "outputs": [
    {
     "output_type": "stream",
     "name": "stdout",
     "text": "[[[[0.77460593 0.44410762]\n   [0.44410762 0.56967589]]\n\n  [[0.44410762 0.2970285 ]\n   [0.2970285  0.44410762]]]\n\n\n [[[0.44410762 0.2970285 ]\n   [0.2970285  0.44410762]]\n\n  [[0.56967589 0.44410762]\n   [0.44410762 0.77460593]]]]\n"
    }
   ],
   "source": [
    "print(sq_hamiltonian.twoElectron().parameters())"
   ]
  },
  {
   "cell_type": "markdown",
   "metadata": {},
   "source": [
    "## Solving the RHF SCF equations"
   ]
  },
  {
   "cell_type": "markdown",
   "metadata": {},
   "source": [
    "In order to solve the RHF SCF equations, we have to set up a solver and its associated environment."
   ]
  },
  {
   "cell_type": "code",
   "execution_count": 8,
   "metadata": {},
   "outputs": [],
   "source": [
    "environment = gqcpy.RHFSCFEnvironment.WithCoreGuess(N, sq_hamiltonian, S)\n",
    "solver = gqcpy.RHFSCFSolver.DIIS()"
   ]
  },
  {
   "cell_type": "markdown",
   "metadata": {},
   "source": [
    "The specification of a QCMethod requires something more than just the solution that a solver produces. In order to really confirm that the electronic structure model's parameters are 'optimal', an objective has to be defined."
   ]
  },
  {
   "cell_type": "code",
   "execution_count": 9,
   "metadata": {},
   "outputs": [],
   "source": [
    "objective = gqcpy.DiagonalRHFFockMatrixObjective(sq_hamiltonian)  # use the default threshold of 1.0e-08"
   ]
  },
  {
   "cell_type": "markdown",
   "metadata": {},
   "source": [
    "Note that, since we have chosen to use a 'diagonal Fock matrix objective', we expect the optimal RHF parameters to represent the canonical spinors."
   ]
  },
  {
   "cell_type": "markdown",
   "metadata": {},
   "source": [
    "We then combine objective, solver and environment into the `optimize` method of the RHF QCMethod, which returns a `QCStructure`, containing the optimized RHF parameters that satisfy the objective."
   ]
  },
  {
   "cell_type": "code",
   "execution_count": 10,
   "metadata": {},
   "outputs": [],
   "source": [
    "rhf_parameters = gqcpy.RHF.optimize(objective, solver, environment).groundStateParameters()"
   ]
  },
  {
   "cell_type": "code",
   "execution_count": 11,
   "metadata": {},
   "outputs": [
    {
     "output_type": "stream",
     "name": "stdout",
     "text": "[[-0.54893405 -1.21146402]\n [-0.54893405  1.21146402]]\n"
    }
   ],
   "source": [
    "C = rhf_parameters.expansion()\n",
    "print(C)"
   ]
  },
  {
   "cell_type": "markdown",
   "metadata": {},
   "source": [
    "## Calculating the RHF dipole moment in the scalar/AO basis"
   ]
  },
  {
   "cell_type": "markdown",
   "metadata": {},
   "source": [
    "Since the RHF parameters are variationally determined, we may calculate the electronic dipole moment as the expectation value of the electronic dipole operator. The associated second-quantized operator can be obtained as follows:"
   ]
  },
  {
   "cell_type": "code",
   "execution_count": 12,
   "metadata": {},
   "outputs": [],
   "source": [
    "dipole_op = spinor_basis.quantizeDipoleOperator()  # 'op' for 'operator'"
   ]
  },
  {
   "cell_type": "markdown",
   "metadata": {},
   "source": [
    "We can access the bare integrals using its method `.allParameters()`, which returns a list that contains the integrals associated with the Cartesian x-, y- and z-components."
   ]
  },
  {
   "cell_type": "code",
   "execution_count": 13,
   "metadata": {},
   "outputs": [
    {
     "output_type": "stream",
     "name": "stdout",
     "text": "[[-0. -0.]\n [-0. -0.]]\n[[-0. -0.]\n [-0. -0.]]\n[[-0.         -0.46152275]\n [-0.46152275 -1.40000009]]\n"
    }
   ],
   "source": [
    "integrals = dipole_op.allParameters()\n",
    "for component in integrals:\n",
    "    print(component)"
   ]
  },
  {
   "cell_type": "markdown",
   "metadata": {},
   "source": [
    "In the scalar/AO basis, the RHF 1-DM can be calculated as:"
   ]
  },
  {
   "cell_type": "code",
   "execution_count": 14,
   "metadata": {},
   "outputs": [
    {
     "output_type": "stream",
     "name": "stdout",
     "text": "[[0.60265718 0.60265718]\n [0.60265718 0.60265718]]\n"
    }
   ],
   "source": [
    "D = rhf_parameters.calculateScalarBasis1DM()\n",
    "print(D)"
   ]
  },
  {
   "cell_type": "code",
   "execution_count": 15,
   "metadata": {},
   "outputs": [
    {
     "output_type": "stream",
     "name": "stdout",
     "text": "[-0.        -0.        -1.4000001]\n"
    }
   ],
   "source": [
    "print(dipole_op.calculateExpectationValue(D))"
   ]
  },
  {
   "cell_type": "markdown",
   "metadata": {},
   "source": [
    "## Calculating the RHF dipole moment in the canonical RHF basis"
   ]
  },
  {
   "cell_type": "markdown",
   "metadata": {},
   "source": [
    "We might as well have calculated the second-quantized representation of the dipole operator in the canonical RHF spinor basis. In order to do so, we first transform the spinor basis and only then quantize the dipole operator."
   ]
  },
  {
   "cell_type": "code",
   "execution_count": 16,
   "metadata": {},
   "outputs": [],
   "source": [
    "spinor_basis.transform(C)\n",
    "dipole_op_canonical = spinor_basis.quantizeDipoleOperator()  # 'op' for 'operator'"
   ]
  },
  {
   "cell_type": "code",
   "execution_count": 17,
   "metadata": {},
   "outputs": [
    {
     "output_type": "stream",
     "name": "stdout",
     "text": "[[-0.  0.]\n [-0.  0.]]\n[[-0.  0.]\n [-0.  0.]]\n[[-0.70000005  0.93101945]\n [ 0.93101945 -0.70000005]]\n"
    }
   ],
   "source": [
    "dipole_integrals_canonical = dipole_op_canonical.allParameters()\n",
    "for component in dipole_integrals_canonical:\n",
    "    print(component)"
   ]
  },
  {
   "cell_type": "code",
   "execution_count": 18,
   "metadata": {},
   "outputs": [
    {
     "output_type": "stream",
     "name": "stdout",
     "text": "[[2. 0.]\n [0. 0.]]\n"
    }
   ],
   "source": [
    "D_canonical = rhf_parameters.calculateOrthonormalBasis1DM()\n",
    "print(D_canonical)"
   ]
  },
  {
   "cell_type": "code",
   "execution_count": 19,
   "metadata": {},
   "outputs": [
    {
     "output_type": "stream",
     "name": "stdout",
     "text": "[ 0.         0.        -1.4000001]\n"
    }
   ],
   "source": [
    "print(dipole_op_canonical.calculateExpectationValue(D_canonical))"
   ]
  }
 ],
 "metadata": {
  "kernelspec": {
   "display_name": "Python 3",
   "language": "python",
   "name": "python3"
  },
  "language_info": {
   "codemirror_mode": {
    "name": "ipython",
    "version": 3
   },
   "file_extension": ".py",
   "mimetype": "text/x-python",
   "name": "python",
   "nbconvert_exporter": "python",
   "pygments_lexer": "ipython3",
   "version": "3.7.4"
  }
 },
 "nbformat": 4,
 "nbformat_minor": 2
}